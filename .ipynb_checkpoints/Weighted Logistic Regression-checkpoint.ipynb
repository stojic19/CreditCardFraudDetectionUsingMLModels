{
 "cells": [
  {
   "cell_type": "code",
   "execution_count": 1,
   "id": "ad052a8e-1dd9-45d5-86b3-55d4cd406079",
   "metadata": {},
   "outputs": [],
   "source": [
    "import matplotlib.pyplot as plt\n",
    "import numpy as np\n",
    "import pandas as pd\n",
    "from sklearn.linear_model import LogisticRegression\n",
    "from sklearn.model_selection import train_test_split # Import train_test_split function\n",
    "from sklearn.metrics import classification_report, confusion_matrix\n",
    "import seaborn as sns"
   ]
  },
  {
   "cell_type": "code",
   "execution_count": 36,
   "id": "00a604df-6c71-4d47-b2f2-b414890a8f41",
   "metadata": {},
   "outputs": [],
   "source": [
    "# load dataset\n",
    "transactions = pd.read_csv(\"Data/creditcard.csv\")\n",
    "#split dataset in features and target variable\n",
    "X = transactions.drop(['Class'], axis=1) # Features\n",
    "y = transactions.Class # Target variable\n",
    "# Split dataset into training set and test set\n",
    "X_train, X_test, y_train, y_test = train_test_split(X, y, test_size=0.2, random_state=0) # 80% training and 20% test"
   ]
  },
  {
   "cell_type": "code",
   "execution_count": 37,
   "id": "3a57306a-e8d7-43ec-8207-150e092e9c36",
   "metadata": {},
   "outputs": [],
   "source": [
    "# define model\n",
    "weights = {0:1.0, 1:25.0}\n",
    "model = LogisticRegression(solver='lbfgs', class_weight=weights)"
   ]
  },
  {
   "cell_type": "code",
   "execution_count": 38,
   "id": "366f3cc1-08d3-4a4e-9421-1deec8b3dea2",
   "metadata": {},
   "outputs": [],
   "source": [
    "# Train\n",
    "model = model.fit(X_train,y_train)\n",
    "\n",
    "#Predict the response for test dataset\n",
    "y_pred = model.predict(X_test)"
   ]
  },
  {
   "cell_type": "code",
   "execution_count": 39,
   "id": "5625deb9-fcfa-458e-ac29-1dfe7e2ab821",
   "metadata": {},
   "outputs": [
    {
     "data": {
      "text/plain": [
       "<AxesSubplot:>"
      ]
     },
     "execution_count": 39,
     "metadata": {},
     "output_type": "execute_result"
    },
    {
     "data": {
      "image/png": "[encoded data removed]",
      "text/plain": [
       "<Figure size 432x288 with 2 Axes>"
      ]
     },
     "metadata": {
      "needs_background": "light"
     },
     "output_type": "display_data"
    }
   ],
   "source": [
    "#Creating the Confusion matrix  \n",
    "cm= confusion_matrix(y_test, y_pred) \n",
    "sns.heatmap(cm, annot=True)"
   ]
  },
  {
   "cell_type": "code",
   "execution_count": 40,
   "id": "4c8a9211-a6de-4c5d-9895-f60f7678171b",
   "metadata": {},
   "outputs": [
    {
     "data": {
      "text/plain": [
       "<AxesSubplot:>"
      ]
     },
     "execution_count": 40,
     "metadata": {},
     "output_type": "execute_result"
    },
    {
     "data": {
      "image/png": "[encoded data removed]",
      "text/plain": [
       "<Figure size 432x288 with 2 Axes>"
      ]
     },
     "metadata": {
      "needs_background": "light"
     },
     "output_type": "display_data"
    }
   ],
   "source": [
    "import numpy as np\n",
    "sns.heatmap(cm/np.sum(cm), annot=True, \n",
    "            fmt='.2%', cmap='Blues')"
   ]
  },
  {
   "cell_type": "code",
   "execution_count": 41,
   "id": "a7a70310-561b-4667-9377-ef393860518d",
   "metadata": {},
   "outputs": [],
   "source": [
    "TP, FN, FP, TN = 0, 0, 0, 0\n",
    "\n",
    "def confusion_matrix_for(cls, cm):\n",
    "    TP = cm[cls, cls]\n",
    "    FN = cm[cls].sum() - TP\n",
    "    FP = cm[:, cls].sum() - TP\n",
    "    TN = cm.sum() - TP - FN - FP\n",
    "    return np.array([[TP, FN], [FP, TN]])\n",
    "\n",
    "def getTotalAmountFalseNegative(df):\n",
    "    df = df[df.case == 'false negative'] \n",
    "    totalAmount = 0\n",
    "    for index, row in df.iterrows():\n",
    "        totalAmount += row.Amount\n",
    "    return totalAmount\n",
    "\n",
    "def total_cost(cm, y_test, y_pred):\n",
    "    for cls in range(cm.shape[0]):\n",
    "        #print(f'[Class {cls} vs others]')\n",
    "        TP, FN, FP, TN = confusion_matrix_for(cls, cm).ravel()\n",
    "        #print(f'TP: {TP}, FN: {FN}, FP: {FP}, TN: {TN}')\n",
    "    \n",
    "    print(f'TP: {TP}, FN: {FN}, FP: {FP}, TN: {TN}')\n",
    "\n",
    "    labels = np.array(['true negative',   # y_test, y_pred = 0,0\n",
    "                   'false positive',  # y_test, y_pred = 0,1\n",
    "                   'false negative',  # y_test, y_pred = 1,0\n",
    "                   'true positive'    # y_test, y_pred = 1,1\n",
    "                  ])\n",
    "    X_cost = X_test\n",
    "    X_cost['case'] = labels[y_test * 2 + y_pred]\n",
    "    Ca = 5\n",
    "    TotalCost = getTotalAmountFalseNegative(X_cost) + (FP + TP) * Ca\n",
    "    print('Total cost: ' + str(TotalCost))"
   ]
  },
  {
   "cell_type": "code",
   "execution_count": 42,
   "id": "311772dd-0ede-43d3-ae4a-98130d625582",
   "metadata": {},
   "outputs": [
    {
     "name": "stdout",
     "output_type": "stream",
     "text": [
      "TP: 88, FN: 13, FP: 248, TN: 56613\n",
      "Total cost: 5329.5\n"
     ]
    }
   ],
   "source": [
    "total_cost(cm, y_test, y_pred)"
   ]
  },
  {
   "cell_type": "code",
   "execution_count": null,
   "id": "1df31bf3-33d5-4b78-a17b-b884af6afaa2",
   "metadata": {},
   "outputs": [],
   "source": []
  }
 ],
 "metadata": {
  "kernelspec": {
   "display_name": "Python 3 (ipykernel)",
   "language": "python",
   "name": "python3"
  },
  "language_info": {
   "codemirror_mode": {
    "name": "ipython",
    "version": 3
   },
   "file_extension": ".py",
   "mimetype": "text/x-python",
   "name": "python",
   "nbconvert_exporter": "python",
   "pygments_lexer": "ipython3",
   "version": "3.10.1"
  }
 },
 "nbformat": 4,
 "nbformat_minor": 5
}
