{
 "cells": [
  {
   "cell_type": "code",
   "execution_count": 6,
   "id": "72710333-acc9-4694-8904-3f40b391bf96",
   "metadata": {},
   "outputs": [],
   "source": [
    "import matplotlib.pyplot as plt\n",
    "import numpy as np\n",
    "import pandas as pd\n",
    "from sklearn.linear_model import LogisticRegression\n",
    "from sklearn.model_selection import train_test_split # Import train_test_split function\n",
    "from sklearn.metrics import classification_report, confusion_matrix\n",
    "import seaborn as sns"
   ]
  },
  {
   "cell_type": "code",
   "execution_count": 3,
   "id": "b1dcbbe3-3ee4-4382-85c2-f564f3feefdb",
   "metadata": {},
   "outputs": [
    {
     "data": {
      "text/html": [
       "<div>\n",
       "<style scoped>\n",
       "    .dataframe tbody tr th:only-of-type {\n",
       "        vertical-align: middle;\n",
       "    }\n",
       "\n",
       "    .dataframe tbody tr th {\n",
       "        vertical-align: top;\n",
       "    }\n",
       "\n",
       "    .dataframe thead th {\n",
       "        text-align: right;\n",
       "    }\n",
       "</style>\n",
       "<table border=\"1\" class=\"dataframe\">\n",
       "  <thead>\n",
       "    <tr style=\"text-align: right;\">\n",
       "      <th></th>\n",
       "      <th>Time</th>\n",
       "      <th>V1</th>\n",
       "      <th>V2</th>\n",
       "      <th>V3</th>\n",
       "      <th>V4</th>\n",
       "      <th>V5</th>\n",
       "      <th>V6</th>\n",
       "      <th>V7</th>\n",
       "      <th>V8</th>\n",
       "      <th>V9</th>\n",
       "      <th>...</th>\n",
       "      <th>V21</th>\n",
       "      <th>V22</th>\n",
       "      <th>V23</th>\n",
       "      <th>V24</th>\n",
       "      <th>V25</th>\n",
       "      <th>V26</th>\n",
       "      <th>V27</th>\n",
       "      <th>V28</th>\n",
       "      <th>Amount</th>\n",
       "      <th>Class</th>\n",
       "    </tr>\n",
       "  </thead>\n",
       "  <tbody>\n",
       "    <tr>\n",
       "      <th>0</th>\n",
       "      <td>0.0</td>\n",
       "      <td>-1.359807</td>\n",
       "      <td>-0.072781</td>\n",
       "      <td>2.536347</td>\n",
       "      <td>1.378155</td>\n",
       "      <td>-0.338321</td>\n",
       "      <td>0.462388</td>\n",
       "      <td>0.239599</td>\n",
       "      <td>0.098698</td>\n",
       "      <td>0.363787</td>\n",
       "      <td>...</td>\n",
       "      <td>-0.018307</td>\n",
       "      <td>0.277838</td>\n",
       "      <td>-0.110474</td>\n",
       "      <td>0.066928</td>\n",
       "      <td>0.128539</td>\n",
       "      <td>-0.189115</td>\n",
       "      <td>0.133558</td>\n",
       "      <td>-0.021053</td>\n",
       "      <td>149.62</td>\n",
       "      <td>0</td>\n",
       "    </tr>\n",
       "    <tr>\n",
       "      <th>1</th>\n",
       "      <td>0.0</td>\n",
       "      <td>1.191857</td>\n",
       "      <td>0.266151</td>\n",
       "      <td>0.166480</td>\n",
       "      <td>0.448154</td>\n",
       "      <td>0.060018</td>\n",
       "      <td>-0.082361</td>\n",
       "      <td>-0.078803</td>\n",
       "      <td>0.085102</td>\n",
       "      <td>-0.255425</td>\n",
       "      <td>...</td>\n",
       "      <td>-0.225775</td>\n",
       "      <td>-0.638672</td>\n",
       "      <td>0.101288</td>\n",
       "      <td>-0.339846</td>\n",
       "      <td>0.167170</td>\n",
       "      <td>0.125895</td>\n",
       "      <td>-0.008983</td>\n",
       "      <td>0.014724</td>\n",
       "      <td>2.69</td>\n",
       "      <td>0</td>\n",
       "    </tr>\n",
       "    <tr>\n",
       "      <th>2</th>\n",
       "      <td>1.0</td>\n",
       "      <td>-1.358354</td>\n",
       "      <td>-1.340163</td>\n",
       "      <td>1.773209</td>\n",
       "      <td>0.379780</td>\n",
       "      <td>-0.503198</td>\n",
       "      <td>1.800499</td>\n",
       "      <td>0.791461</td>\n",
       "      <td>0.247676</td>\n",
       "      <td>-1.514654</td>\n",
       "      <td>...</td>\n",
       "      <td>0.247998</td>\n",
       "      <td>0.771679</td>\n",
       "      <td>0.909412</td>\n",
       "      <td>-0.689281</td>\n",
       "      <td>-0.327642</td>\n",
       "      <td>-0.139097</td>\n",
       "      <td>-0.055353</td>\n",
       "      <td>-0.059752</td>\n",
       "      <td>378.66</td>\n",
       "      <td>0</td>\n",
       "    </tr>\n",
       "    <tr>\n",
       "      <th>3</th>\n",
       "      <td>1.0</td>\n",
       "      <td>-0.966272</td>\n",
       "      <td>-0.185226</td>\n",
       "      <td>1.792993</td>\n",
       "      <td>-0.863291</td>\n",
       "      <td>-0.010309</td>\n",
       "      <td>1.247203</td>\n",
       "      <td>0.237609</td>\n",
       "      <td>0.377436</td>\n",
       "      <td>-1.387024</td>\n",
       "      <td>...</td>\n",
       "      <td>-0.108300</td>\n",
       "      <td>0.005274</td>\n",
       "      <td>-0.190321</td>\n",
       "      <td>-1.175575</td>\n",
       "      <td>0.647376</td>\n",
       "      <td>-0.221929</td>\n",
       "      <td>0.062723</td>\n",
       "      <td>0.061458</td>\n",
       "      <td>123.50</td>\n",
       "      <td>0</td>\n",
       "    </tr>\n",
       "    <tr>\n",
       "      <th>4</th>\n",
       "      <td>2.0</td>\n",
       "      <td>-1.158233</td>\n",
       "      <td>0.877737</td>\n",
       "      <td>1.548718</td>\n",
       "      <td>0.403034</td>\n",
       "      <td>-0.407193</td>\n",
       "      <td>0.095921</td>\n",
       "      <td>0.592941</td>\n",
       "      <td>-0.270533</td>\n",
       "      <td>0.817739</td>\n",
       "      <td>...</td>\n",
       "      <td>-0.009431</td>\n",
       "      <td>0.798278</td>\n",
       "      <td>-0.137458</td>\n",
       "      <td>0.141267</td>\n",
       "      <td>-0.206010</td>\n",
       "      <td>0.502292</td>\n",
       "      <td>0.219422</td>\n",
       "      <td>0.215153</td>\n",
       "      <td>69.99</td>\n",
       "      <td>0</td>\n",
       "    </tr>\n",
       "  </tbody>\n",
       "</table>\n",
       "<p>5 rows × 31 columns</p>\n",
       "</div>"
      ],
      "text/plain": [
       "   Time        V1        V2        V3        V4        V5        V6        V7  \\\n",
       "0   0.0 -1.359807 -0.072781  2.536347  1.378155 -0.338321  0.462388  0.239599   \n",
       "1   0.0  1.191857  0.266151  0.166480  0.448154  0.060018 -0.082361 -0.078803   \n",
       "2   1.0 -1.358354 -1.340163  1.773209  0.379780 -0.503198  1.800499  0.791461   \n",
       "3   1.0 -0.966272 -0.185226  1.792993 -0.863291 -0.010309  1.247203  0.237609   \n",
       "4   2.0 -1.158233  0.877737  1.548718  0.403034 -0.407193  0.095921  0.592941   \n",
       "\n",
       "         V8        V9  ...       V21       V22       V23       V24       V25  \\\n",
       "0  0.098698  0.363787  ... -0.018307  0.277838 -0.110474  0.066928  0.128539   \n",
       "1  0.085102 -0.255425  ... -0.225775 -0.638672  0.101288 -0.339846  0.167170   \n",
       "2  0.247676 -1.514654  ...  0.247998  0.771679  0.909412 -0.689281 -0.327642   \n",
       "3  0.377436 -1.387024  ... -0.108300  0.005274 -0.190321 -1.175575  0.647376   \n",
       "4 -0.270533  0.817739  ... -0.009431  0.798278 -0.137458  0.141267 -0.206010   \n",
       "\n",
       "        V26       V27       V28  Amount  Class  \n",
       "0 -0.189115  0.133558 -0.021053  149.62      0  \n",
       "1  0.125895 -0.008983  0.014724    2.69      0  \n",
       "2 -0.139097 -0.055353 -0.059752  378.66      0  \n",
       "3 -0.221929  0.062723  0.061458  123.50      0  \n",
       "4  0.502292  0.219422  0.215153   69.99      0  \n",
       "\n",
       "[5 rows x 31 columns]"
      ]
     },
     "execution_count": 3,
     "metadata": {},
     "output_type": "execute_result"
    }
   ],
   "source": [
    "# load dataset\n",
    "transactions = pd.read_csv(\"Data/creditcard.csv\")\n",
    "transactions.head()"
   ]
  },
  {
   "cell_type": "code",
   "execution_count": 4,
   "id": "566e7f0c-6e96-4161-b7ca-660a83467677",
   "metadata": {},
   "outputs": [],
   "source": [
    "#split dataset in features and target variable\n",
    "X = transactions.drop(['Class'], axis=1) # Features\n",
    "y = transactions.Class # Target variable"
   ]
  },
  {
   "cell_type": "code",
   "execution_count": 5,
   "id": "57ae2d03-d8ca-49ef-beb3-7a681961ddc2",
   "metadata": {},
   "outputs": [],
   "source": [
    "# Split dataset into training set and test set\n",
    "X_train, X_test, y_train, y_test = train_test_split(X, y, test_size=0.2, random_state=0) # 80% training and 20% test"
   ]
  },
  {
   "cell_type": "code",
   "execution_count": 63,
   "id": "276f6f5c-1788-4026-abe8-a86e2914a77f",
   "metadata": {},
   "outputs": [],
   "source": [
    "# 'C': 100, 'penalty': 'l1', 'solver': 'liblinear'\n",
    "model = LogisticRegression(solver='liblinear', C=100, penalty='l1', random_state=0)\n",
    "\n",
    "# Train\n",
    "model = model.fit(X_train,y_train)\n",
    "\n",
    "#Predict the response for test dataset\n",
    "y_pred = model.predict(X_test)"
   ]
  },
  {
   "cell_type": "code",
   "execution_count": 7,
   "id": "0f130107-6783-4cee-b788-1983c245935a",
   "metadata": {},
   "outputs": [],
   "source": [
    "#Creating the Confusion matrix  \n",
    "cm= confusion_matrix(y_test, y_pred) "
   ]
  },
  {
   "cell_type": "code",
   "execution_count": 8,
   "id": "b0fdaac1-1f85-4f94-b5c2-0a0f95dc4264",
   "metadata": {},
   "outputs": [
    {
     "data": {
      "text/plain": [
       "<AxesSubplot:>"
      ]
     },
     "execution_count": 8,
     "metadata": {},
     "output_type": "execute_result"
    },
    {
     "data": {
      "image/png": "[encoded data removed]",
      "text/plain": [
       "<Figure size 432x288 with 2 Axes>"
      ]
     },
     "metadata": {
      "needs_background": "light"
     },
     "output_type": "display_data"
    }
   ],
   "source": [
    "sns.heatmap(cm, annot=True)"
   ]
  },
  {
   "cell_type": "code",
   "execution_count": 9,
   "id": "b824259e-fd96-4366-85e5-fcbc676c055e",
   "metadata": {},
   "outputs": [
    {
     "data": {
      "text/plain": [
       "<AxesSubplot:>"
      ]
     },
     "execution_count": 9,
     "metadata": {},
     "output_type": "execute_result"
    },
    {
     "data": {
      "image/png": "[encoded data removed]",
      "text/plain": [
       "<Figure size 432x288 with 2 Axes>"
      ]
     },
     "metadata": {
      "needs_background": "light"
     },
     "output_type": "display_data"
    }
   ],
   "source": [
    "import numpy as np\n",
    "sns.heatmap(cm/np.sum(cm), annot=True, \n",
    "            fmt='.2%', cmap='Blues')"
   ]
  },
  {
   "cell_type": "code",
   "execution_count": 10,
   "id": "ef391705-d83e-4652-bd30-60c61155f5ee",
   "metadata": {},
   "outputs": [
    {
     "name": "stdout",
     "output_type": "stream",
     "text": [
      "\n",
      "Accuracy: 1.00\n",
      "\n",
      "Micro Precision: 1.00\n",
      "Micro Recall: 1.00\n",
      "Micro F1-score: 1.00\n",
      "\n",
      "Macro Precision: 0.87\n",
      "Macro Recall: 0.78\n",
      "Macro F1-score: 0.82\n",
      "\n",
      "Weighted Precision: 1.00\n",
      "Weighted Recall: 1.00\n",
      "Weighted F1-score: 1.00\n",
      "\n",
      "Classification Report\n",
      "\n",
      "              precision    recall  f1-score   support\n",
      "\n",
      "           0       1.00      1.00      1.00     56861\n",
      "           1       0.74      0.56      0.64       101\n",
      "\n",
      "    accuracy                           1.00     56962\n",
      "   macro avg       0.87      0.78      0.82     56962\n",
      "weighted avg       1.00      1.00      1.00     56962\n",
      "\n"
     ]
    }
   ],
   "source": [
    "from sklearn.metrics import accuracy_score, precision_score, recall_score, f1_score\n",
    "\n",
    "print('\\nAccuracy: {:.2f}\\n'.format(accuracy_score(y_test, y_pred)))\n",
    "\n",
    "print('Micro Precision: {:.2f}'.format(precision_score(y_test, y_pred, average='micro')))\n",
    "print('Micro Recall: {:.2f}'.format(recall_score(y_test, y_pred, average='micro')))\n",
    "print('Micro F1-score: {:.2f}\\n'.format(f1_score(y_test, y_pred, average='micro')))\n",
    "\n",
    "print('Macro Precision: {:.2f}'.format(precision_score(y_test, y_pred, average='macro')))\n",
    "print('Macro Recall: {:.2f}'.format(recall_score(y_test, y_pred, average='macro')))\n",
    "print('Macro F1-score: {:.2f}\\n'.format(f1_score(y_test, y_pred, average='macro')))\n",
    "\n",
    "print('Weighted Precision: {:.2f}'.format(precision_score(y_test, y_pred, average='weighted')))\n",
    "print('Weighted Recall: {:.2f}'.format(recall_score(y_test, y_pred, average='weighted')))\n",
    "print('Weighted F1-score: {:.2f}'.format(f1_score(y_test, y_pred, average='weighted')))\n",
    "\n",
    "from sklearn.metrics import classification_report\n",
    "print('\\nClassification Report\\n')\n",
    "print(classification_report(y_test, y_pred))"
   ]
  },
  {
   "cell_type": "code",
   "execution_count": 7,
   "id": "05f99400-399f-4f90-88f6-db5838d902c5",
   "metadata": {},
   "outputs": [],
   "source": [
    "TP, FN, FP, TN = 0, 0, 0, 0\n",
    "\n",
    "def confusion_matrix_for(cls, cm):\n",
    "    TP = cm[cls, cls]\n",
    "    FN = cm[cls].sum() - TP\n",
    "    FP = cm[:, cls].sum() - TP\n",
    "    TN = cm.sum() - TP - FN - FP\n",
    "    return np.array([[TP, FN], [FP, TN]])\n",
    "\n",
    "def getTotalAmountFalseNegative(df):\n",
    "    df = df[df.case == 'false negative'] \n",
    "    totalAmount = 0\n",
    "    for index, row in df.iterrows():\n",
    "        totalAmount += row.Amount\n",
    "    return totalAmount\n",
    "\n",
    "def total_cost(cm, X_test, y_test, y_pred):\n",
    "    for cls in range(cm.shape[0]):\n",
    "        #print(f'[Class {cls} vs others]')\n",
    "        TP, FN, FP, TN = confusion_matrix_for(cls, cm).ravel()\n",
    "        #print(f'TP: {TP}, FN: {FN}, FP: {FP}, TN: {TN}')\n",
    "    \n",
    "    print(f'TP: {TP}, FN: {FN}, FP: {FP}, TN: {TN}')\n",
    "\n",
    "    labels = np.array(['true negative',   # y_test, y_pred = 0,0\n",
    "                   'false positive',  # y_test, y_pred = 0,1\n",
    "                   'false negative',  # y_test, y_pred = 1,0\n",
    "                   'true positive'    # y_test, y_pred = 1,1\n",
    "                  ])\n",
    "\n",
    "    X_test['case'] = labels[y_test * 2 + y_pred]\n",
    "    Ca = 5\n",
    "    TotalCost = getTotalAmountFalseNegative(X_test) + (FP + TP) * Ca\n",
    "    print('Total cost: ' + str(TotalCost))"
   ]
  },
  {
   "cell_type": "code",
   "execution_count": 12,
   "id": "412ed753-f4b4-49d6-a182-833fccf0492a",
   "metadata": {},
   "outputs": [
    {
     "name": "stdout",
     "output_type": "stream",
     "text": [
      "TP: 57, FN: 44, FP: 20, TN: 56841\n",
      "Total cost: 8950.170000000002\n"
     ]
    }
   ],
   "source": [
    "total_cost(cm, X_test, y_test, y_pred)"
   ]
  },
  {
   "cell_type": "markdown",
   "id": "2ea7e552-6833-404c-aa0b-316900633273",
   "metadata": {},
   "source": [
    "# Undersampling"
   ]
  },
  {
   "cell_type": "code",
   "execution_count": 13,
   "id": "4e0ed6f6-eb0b-4eb0-a97c-d5dfb213e0a8",
   "metadata": {},
   "outputs": [],
   "source": [
    "# Split dataset into training set and test set\n",
    "X_train_us, X_test_us, y_train_us, y_test_us = train_test_split(X, y, test_size=0.2, stratify=y, random_state=42) # 80% training and 20% test"
   ]
  },
  {
   "cell_type": "code",
   "execution_count": 14,
   "id": "ce76f819-9627-4040-b838-599ba6beb320",
   "metadata": {},
   "outputs": [],
   "source": [
    "from imblearn.under_sampling import RandomUnderSampler\n",
    "rus = RandomUnderSampler(sampling_strategy=1) # Numerical value\n",
    "# rus = RandomUnderSampler(sampling_strategy=\"not minority\") # String\n",
    "X_train_us, y_train_us = rus.fit_resample(X_train_us, y_train_us)"
   ]
  },
  {
   "cell_type": "code",
   "execution_count": 15,
   "id": "183689fa-5da2-4976-945f-f9ec9ac94e96",
   "metadata": {},
   "outputs": [],
   "source": [
    "model = LogisticRegression(solver='liblinear', random_state=0)\n",
    "\n",
    "# Train\n",
    "model_us = model.fit(X_train_us,y_train_us)\n",
    "\n",
    "#Predict the response for test dataset\n",
    "y_pred_us = model.predict(X_test_us)"
   ]
  },
  {
   "cell_type": "code",
   "execution_count": 16,
   "id": "04c22ad7-6a3a-4625-988f-36fabd6acabc",
   "metadata": {},
   "outputs": [],
   "source": [
    "#Creating the Confusion matrix  \n",
    "from sklearn.metrics import confusion_matrix  \n",
    "cm_us = confusion_matrix(y_test_us, y_pred_us) "
   ]
  },
  {
   "cell_type": "code",
   "execution_count": 17,
   "id": "870c54e9-db5c-4a57-804d-5823add6d0f2",
   "metadata": {},
   "outputs": [
    {
     "data": {
      "text/plain": [
       "<AxesSubplot:>"
      ]
     },
     "execution_count": 17,
     "metadata": {},
     "output_type": "execute_result"
    },
    {
     "data": {
      "image/png": "[encoded data removed]",
      "text/plain": [
       "<Figure size 432x288 with 2 Axes>"
      ]
     },
     "metadata": {
      "needs_background": "light"
     },
     "output_type": "display_data"
    }
   ],
   "source": [
    "sns.heatmap(cm_us, annot=True)"
   ]
  },
  {
   "cell_type": "code",
   "execution_count": 18,
   "id": "5e684183-2d31-496a-9316-b4221b9966b3",
   "metadata": {},
   "outputs": [
    {
     "data": {
      "text/plain": [
       "<AxesSubplot:>"
      ]
     },
     "execution_count": 18,
     "metadata": {},
     "output_type": "execute_result"
    },
    {
     "data": {
      "image/png": "[encoded data removed]",
      "text/plain": [
       "<Figure size 432x288 with 2 Axes>"
      ]
     },
     "metadata": {
      "needs_background": "light"
     },
     "output_type": "display_data"
    }
   ],
   "source": [
    "sns.heatmap(cm_us/np.sum(cm_us), annot=True, \n",
    "            fmt='.2%', cmap='Blues')"
   ]
  },
  {
   "cell_type": "code",
   "execution_count": 19,
   "id": "20c64f1c-2e29-423b-bc44-f7aa5066af48",
   "metadata": {},
   "outputs": [
    {
     "name": "stdout",
     "output_type": "stream",
     "text": [
      "TP: 90, FN: 8, FP: 2047, TN: 54817\n",
      "Total cost: 11343.61\n"
     ]
    }
   ],
   "source": [
    "total_cost(cm_us, X_test_us, y_test_us, y_pred_us)"
   ]
  },
  {
   "cell_type": "markdown",
   "id": "caa10484-fc6c-4fe5-90be-647f550113fe",
   "metadata": {},
   "source": [
    "# Oversampling"
   ]
  },
  {
   "cell_type": "code",
   "execution_count": 21,
   "id": "581a7c00-37fc-4755-9ca4-ec649f75693b",
   "metadata": {},
   "outputs": [],
   "source": [
    "from imblearn.over_sampling import SMOTE\n",
    "\n",
    "# Split dataset into training set and test set\n",
    "X_train_smt, X_test_smt, y_train_smt, y_test_smt = train_test_split(X, y, test_size=0.2, stratify=y, random_state=42) # 80% training and 20% test\n",
    "\n",
    "smote_technique = SMOTE(sampling_strategy='minority')\n",
    "X_smt, y_smt = smote_technique.fit_resample(X_train_smt, y_train_smt)"
   ]
  },
  {
   "cell_type": "code",
   "execution_count": 28,
   "id": "d168c954-3f11-4d3b-817e-1a48d3953e5c",
   "metadata": {},
   "outputs": [
    {
     "name": "stderr",
     "output_type": "stream",
     "text": [
      "C:\\Python310\\lib\\site-packages\\scipy\\optimize\\_linesearch.py:456: LineSearchWarning: The line search algorithm did not converge\n",
      "  warn('The line search algorithm did not converge', LineSearchWarning)\n",
      "C:\\Python310\\lib\\site-packages\\scipy\\optimize\\_linesearch.py:305: LineSearchWarning: The line search algorithm did not converge\n",
      "  warn('The line search algorithm did not converge', LineSearchWarning)\n",
      "C:\\Python310\\lib\\site-packages\\sklearn\\utils\\optimize.py:210: ConvergenceWarning: newton-cg failed to converge. Increase the number of iterations.\n",
      "  warnings.warn(\n"
     ]
    }
   ],
   "source": [
    "# 'logisticregression__C': 1e-05, 'logisticregression__penalty': 'l2', 'logisticregression__solver': 'newton-cg'\n",
    "model_smt = LogisticRegression(C=1e-05, penalty='l2',solver='newton-cg')\n",
    "\n",
    "# Train\n",
    "model_smt = model_smt.fit(X_smt,y_smt)\n",
    "\n",
    "#Predict the response for test dataset\n",
    "y_pred_smt = model_smt.predict(X_test_smt)"
   ]
  },
  {
   "cell_type": "code",
   "execution_count": 29,
   "id": "40005461-92c0-4c6d-be33-a402ccfaf5aa",
   "metadata": {},
   "outputs": [
    {
     "data": {
      "text/plain": [
       "<AxesSubplot:>"
      ]
     },
     "execution_count": 29,
     "metadata": {},
     "output_type": "execute_result"
    },
    {
     "data": {
      "image/png": "[encoded data removed]",
      "text/plain": [
       "<Figure size 432x288 with 2 Axes>"
      ]
     },
     "metadata": {
      "needs_background": "light"
     },
     "output_type": "display_data"
    }
   ],
   "source": [
    "#Creating the Confusion matrix  \n",
    "from sklearn.metrics import confusion_matrix  \n",
    "cm_smt = confusion_matrix(y_test_smt, y_pred_smt) \n",
    "\n",
    "sns.heatmap(cm_smt/np.sum(cm_smt), annot=True, \n",
    "            fmt='.2%', cmap='Blues')"
   ]
  },
  {
   "cell_type": "code",
   "execution_count": 30,
   "id": "1533d3b2-2f26-4a03-8f59-1f25c24aa1c4",
   "metadata": {},
   "outputs": [
    {
     "name": "stdout",
     "output_type": "stream",
     "text": [
      "TP: 87, FN: 11, FP: 345, TN: 56519\n",
      "Total cost: 3986.5\n"
     ]
    }
   ],
   "source": [
    "total_cost(cm_smt, X_test_smt, y_test_smt, y_pred_smt)"
   ]
  },
  {
   "cell_type": "markdown",
   "id": "4da76817-f7ed-486b-96fb-057af668a08a",
   "metadata": {},
   "source": [
    "# Grid search"
   ]
  },
  {
   "cell_type": "code",
   "execution_count": 8,
   "id": "c934ba22-0c69-44da-b000-76107423921f",
   "metadata": {},
   "outputs": [],
   "source": [
    "import warnings\n",
    "warnings.simplefilter(action='ignore', category=FutureWarning)\n",
    "\n",
    "def get_x_elements_by_indices(x_train, indices):\n",
    "    new_df = pd.DataFrame()\n",
    "    for index in indices:\n",
    "        try:\n",
    "            new_df = new_df.append(x_train.iloc[index])\n",
    "        except:\n",
    "            print(str(index) + \" not found\")\n",
    "    return new_df\n",
    "\n",
    "def getTotalAmountFalseNegativeMyScorer(df, y_test, y_pred):\n",
    "    fn_indices = []\n",
    "    for ((index, row), i) in zip(y_test.items(), range(len(y_pred))):\n",
    "        if y_pred[i]==0 and row!=y_pred[i]:\n",
    "            fn_indices.append(index)\n",
    "    print(\"No of FN: \" + str(len(fn_indices)))\n",
    "    df = df.iloc[fn_indices]\n",
    "    totalAmount = 0\n",
    "    for index, row in df.iterrows():\n",
    "        totalAmount += row.Amount\n",
    "    return totalAmount\n",
    "\n",
    "def my_scorer(y_true, y_pred):\n",
    "    model_cm = confusion_matrix(y_true, y_pred) \n",
    "    \n",
    "    for cls in range(model_cm.shape[0]):\n",
    "        #print(f'[Class {cls} vs others]')\n",
    "        TP, FN, FP, TN = confusion_matrix_for(cls, model_cm).ravel() \n",
    "        \n",
    "    labels = np.array(['true negative',   # y_test, y_pred = 0,0\n",
    "                   'false positive',  # y_test, y_pred = 0,1\n",
    "                   'false negative',  # y_test, y_pred = 1,0\n",
    "                   'true positive'    # y_test, y_pred = 1,1\n",
    "                  ])\n",
    "    X_test_score = X\n",
    "    # X_test_score = get_x_elements_by_indices(X_test_score, y_true.index)\n",
    "    #print(labels[y_true * 2 + y_pred])\n",
    "    #X_test_score['case'] = labels[y_true * 2 + y_pred]\n",
    "    Ca = 5\n",
    "    TotalCost = getTotalAmountFalseNegativeMyScorer(X_test_score, y_true, y_pred) + (FP + TP) * Ca\n",
    "    print(TotalCost)\n",
    "    return TotalCost\n",
    "\n",
    "from sklearn.metrics import make_scorer\n",
    "my_func = make_scorer(my_scorer, greater_is_better=False)\n",
    "\n",
    "#my_scorer(y_test, y_pred)"
   ]
  },
  {
   "cell_type": "code",
   "execution_count": 9,
   "id": "40af14e9-49b0-44eb-8693-7eef8b5ecc7b",
   "metadata": {},
   "outputs": [],
   "source": [
    "from sklearn.model_selection import GridSearchCV\n",
    "# define model\n",
    "model = LogisticRegression()\n",
    "# define search space\n",
    "space = dict()\n",
    "space['solver'] = ['newton-cg', 'lbfgs', 'liblinear']\n",
    "space['penalty'] = ['none', 'l1', 'l2', 'elasticnet']\n",
    "space['C'] = [1e-5, 1e-4, 1e-3, 1e-2, 1e-1, 1, 10, 100]\n",
    "# define search\n",
    "#search = GridSearchCV()"
   ]
  },
  {
   "cell_type": "code",
   "execution_count": 10,
   "id": "504222c8-912c-47fd-9e7a-d5eef87aa32c",
   "metadata": {},
   "outputs": [],
   "source": [
    "from sklearn.model_selection import RepeatedStratifiedKFold\n",
    "# define evaluation\n",
    "cv = RepeatedStratifiedKFold(n_splits=10, n_repeats=3, random_state=1)\n",
    "# define search\n",
    "# search = GridSearchCV(model, space, cv=cv, scoring='f1', n_jobs=-1)\n",
    "# define search\n",
    "search = GridSearchCV(model, space, scoring=my_func, cv=cv, verbose=10)"
   ]
  },
  {
   "cell_type": "code",
   "execution_count": 12,
   "id": "42fb557d-f9e5-403f-aa0a-795c63ac2841",
   "metadata": {},
   "outputs": [],
   "source": [
    "# execute search\n",
    "#result = search.fit(X_train, y_train)"
   ]
  },
  {
   "cell_type": "code",
   "execution_count": 39,
   "id": "fa0dddf3-d47a-4f36-9f40-3703b56ede21",
   "metadata": {},
   "outputs": [
    {
     "name": "stdout",
     "output_type": "stream",
     "text": [
      "Best Score: 0.9989554302261862\n",
      "Best Hyperparameters: {'C': 10, 'penalty': 'l2'}\n"
     ]
    }
   ],
   "source": [
    "# summarize result\n",
    "print('Best Score: %s' % result.best_score_)\n",
    "print('Best Hyperparameters: %s' % result.best_params_)"
   ]
  },
  {
   "cell_type": "code",
   "execution_count": 16,
   "id": "09719699-678e-4706-8032-97b95aa6db50",
   "metadata": {},
   "outputs": [],
   "source": [
    "from sklearn.model_selection import GridSearchCV\n",
    "\n",
    "solver = ['newton-cg', 'lbfgs', 'liblinear']\n",
    "penalty  = ['none', 'l1', 'l2', 'elasticnet']\n",
    "C = [1e-5, 1e-4, 1e-3, 1e-2, 1e-1, 1, 10, 100]\n",
    "# Define parameters\n",
    "param_grid = dict(solver=solver, penalty=penalty, C=C)\n",
    "\n",
    "# Build the gridsearch\n",
    "lr = LogisticRegression()\n",
    "grid = GridSearchCV(estimator=lr, param_grid=param_grid, scoring=my_func, cv = 5, verbose=10)"
   ]
  },
  {
   "cell_type": "code",
   "execution_count": 17,
   "id": "5487de7a-da66-44a0-9212-ab6a35bb9948",
   "metadata": {},
   "outputs": [
    {
     "name": "stdout",
     "output_type": "stream",
     "text": [
      "Fitting 5 folds for each of 96 candidates, totalling 480 fits\n",
      "[CV 1/5; 1/96] START C=1e-05, penalty=none, solver=newton-cg....................\n"
     ]
    },
    {
     "name": "stderr",
     "output_type": "stream",
     "text": [
      "C:\\Python310\\lib\\site-packages\\sklearn\\linear_model\\_logistic.py:1113: UserWarning: Setting penalty='none' will ignore the C and l1_ratio parameters\n",
      "  warnings.warn(\n",
      "C:\\Python310\\lib\\site-packages\\scipy\\optimize\\_linesearch.py:456: LineSearchWarning: The line search algorithm did not converge\n",
      "  warn('The line search algorithm did not converge', LineSearchWarning)\n",
      "C:\\Python310\\lib\\site-packages\\scipy\\optimize\\_linesearch.py:305: LineSearchWarning: The line search algorithm did not converge\n",
      "  warn('The line search algorithm did not converge', LineSearchWarning)\n",
      "C:\\Python310\\lib\\site-packages\\sklearn\\utils\\optimize.py:210: ConvergenceWarning: newton-cg failed to converge. Increase the number of iterations.\n",
      "  warnings.warn(\n",
      "C:\\Python310\\lib\\site-packages\\sklearn\\linear_model\\_logistic.py:1113: UserWarning: Setting penalty='none' will ignore the C and l1_ratio parameters\n",
      "  warnings.warn(\n"
     ]
    },
    {
     "name": "stdout",
     "output_type": "stream",
     "text": [
      "No of FN: 33\n",
      "5397.219999999999\n",
      "[CV 1/5; 1/96] END C=1e-05, penalty=none, solver=newton-cg;, score=-5397.220 total time=  10.7s\n",
      "[CV 2/5; 1/96] START C=1e-05, penalty=none, solver=newton-cg....................\n"
     ]
    },
    {
     "name": "stderr",
     "output_type": "stream",
     "text": [
      "C:\\Python310\\lib\\site-packages\\scipy\\optimize\\_linesearch.py:456: LineSearchWarning: The line search algorithm did not converge\n",
      "  warn('The line search algorithm did not converge', LineSearchWarning)\n",
      "C:\\Python310\\lib\\site-packages\\scipy\\optimize\\_linesearch.py:305: LineSearchWarning: The line search algorithm did not converge\n",
      "  warn('The line search algorithm did not converge', LineSearchWarning)\n",
      "C:\\Python310\\lib\\site-packages\\sklearn\\utils\\optimize.py:210: ConvergenceWarning: newton-cg failed to converge. Increase the number of iterations.\n",
      "  warnings.warn(\n",
      "C:\\Python310\\lib\\site-packages\\sklearn\\linear_model\\_logistic.py:1113: UserWarning: Setting penalty='none' will ignore the C and l1_ratio parameters\n",
      "  warnings.warn(\n"
     ]
    },
    {
     "name": "stdout",
     "output_type": "stream",
     "text": [
      "No of FN: 30\n",
      "7092.449999999999\n",
      "[CV 2/5; 1/96] END C=1e-05, penalty=none, solver=newton-cg;, score=-7092.450 total time=  10.4s\n",
      "[CV 3/5; 1/96] START C=1e-05, penalty=none, solver=newton-cg....................\n"
     ]
    },
    {
     "name": "stderr",
     "output_type": "stream",
     "text": [
      "C:\\Python310\\lib\\site-packages\\scipy\\optimize\\_linesearch.py:456: LineSearchWarning: The line search algorithm did not converge\n",
      "  warn('The line search algorithm did not converge', LineSearchWarning)\n",
      "C:\\Python310\\lib\\site-packages\\scipy\\optimize\\_linesearch.py:305: LineSearchWarning: The line search algorithm did not converge\n",
      "  warn('The line search algorithm did not converge', LineSearchWarning)\n",
      "C:\\Python310\\lib\\site-packages\\sklearn\\utils\\optimize.py:210: ConvergenceWarning: newton-cg failed to converge. Increase the number of iterations.\n",
      "  warnings.warn(\n",
      "C:\\Python310\\lib\\site-packages\\sklearn\\linear_model\\_logistic.py:1113: UserWarning: Setting penalty='none' will ignore the C and l1_ratio parameters\n",
      "  warnings.warn(\n"
     ]
    },
    {
     "name": "stdout",
     "output_type": "stream",
     "text": [
      "No of FN: 28\n",
      "3285.26\n",
      "[CV 3/5; 1/96] END C=1e-05, penalty=none, solver=newton-cg;, score=-3285.260 total time=  10.4s\n",
      "[CV 4/5; 1/96] START C=1e-05, penalty=none, solver=newton-cg....................\n"
     ]
    },
    {
     "name": "stderr",
     "output_type": "stream",
     "text": [
      "C:\\Python310\\lib\\site-packages\\scipy\\optimize\\_linesearch.py:456: LineSearchWarning: The line search algorithm did not converge\n",
      "  warn('The line search algorithm did not converge', LineSearchWarning)\n",
      "C:\\Python310\\lib\\site-packages\\scipy\\optimize\\_linesearch.py:305: LineSearchWarning: The line search algorithm did not converge\n",
      "  warn('The line search algorithm did not converge', LineSearchWarning)\n",
      "C:\\Python310\\lib\\site-packages\\sklearn\\utils\\optimize.py:210: ConvergenceWarning: newton-cg failed to converge. Increase the number of iterations.\n",
      "  warnings.warn(\n",
      "C:\\Python310\\lib\\site-packages\\sklearn\\linear_model\\_logistic.py:1113: UserWarning: Setting penalty='none' will ignore the C and l1_ratio parameters\n",
      "  warnings.warn(\n"
     ]
    },
    {
     "name": "stdout",
     "output_type": "stream",
     "text": [
      "No of FN: 29\n",
      "4171.469999999999\n",
      "[CV 4/5; 1/96] END C=1e-05, penalty=none, solver=newton-cg;, score=-4171.470 total time=  10.2s\n",
      "[CV 5/5; 1/96] START C=1e-05, penalty=none, solver=newton-cg....................\n"
     ]
    },
    {
     "name": "stderr",
     "output_type": "stream",
     "text": [
      "C:\\Python310\\lib\\site-packages\\scipy\\optimize\\_linesearch.py:456: LineSearchWarning: The line search algorithm did not converge\n",
      "  warn('The line search algorithm did not converge', LineSearchWarning)\n",
      "C:\\Python310\\lib\\site-packages\\scipy\\optimize\\_linesearch.py:305: LineSearchWarning: The line search algorithm did not converge\n",
      "  warn('The line search algorithm did not converge', LineSearchWarning)\n",
      "C:\\Python310\\lib\\site-packages\\sklearn\\utils\\optimize.py:210: ConvergenceWarning: newton-cg failed to converge. Increase the number of iterations.\n",
      "  warnings.warn(\n",
      "C:\\Python310\\lib\\site-packages\\sklearn\\linear_model\\_logistic.py:1113: UserWarning: Setting penalty='none' will ignore the C and l1_ratio parameters\n",
      "  warnings.warn(\n"
     ]
    },
    {
     "name": "stdout",
     "output_type": "stream",
     "text": [
      "No of FN: 36\n",
      "10254.79\n",
      "[CV 5/5; 1/96] END C=1e-05, penalty=none, solver=newton-cg;, score=-10254.790 total time=   9.5s\n",
      "[CV 1/5; 2/96] START C=1e-05, penalty=none, solver=lbfgs........................\n"
     ]
    },
    {
     "name": "stderr",
     "output_type": "stream",
     "text": [
      "C:\\Python310\\lib\\site-packages\\sklearn\\linear_model\\_logistic.py:444: ConvergenceWarning: lbfgs failed to converge (status=1):\n",
      "STOP: TOTAL NO. of ITERATIONS REACHED LIMIT.\n",
      "\n",
      "Increase the number of iterations (max_iter) or scale the data as shown in:\n",
      "    https://scikit-learn.org/stable/modules/preprocessing.html\n",
      "Please also refer to the documentation for alternative solver options:\n",
      "    https://scikit-learn.org/stable/modules/linear_model.html#logistic-regression\n",
      "  n_iter_i = _check_optimize_result(\n",
      "C:\\Python310\\lib\\site-packages\\sklearn\\linear_model\\_logistic.py:1113: UserWarning: Setting penalty='none' will ignore the C and l1_ratio parameters\n",
      "  warnings.warn(\n"
     ]
    },
    {
     "name": "stdout",
     "output_type": "stream",
     "text": [
      "No of FN: 21\n",
      "5005.969999999999\n",
      "[CV 1/5; 2/96] END C=1e-05, penalty=none, solver=lbfgs;, score=-5005.970 total time=   1.4s\n",
      "[CV 2/5; 2/96] START C=1e-05, penalty=none, solver=lbfgs........................\n"
     ]
    },
    {
     "name": "stderr",
     "output_type": "stream",
     "text": [
      "C:\\Python310\\lib\\site-packages\\sklearn\\linear_model\\_logistic.py:444: ConvergenceWarning: lbfgs failed to converge (status=1):\n",
      "STOP: TOTAL NO. of ITERATIONS REACHED LIMIT.\n",
      "\n",
      "Increase the number of iterations (max_iter) or scale the data as shown in:\n",
      "    https://scikit-learn.org/stable/modules/preprocessing.html\n",
      "Please also refer to the documentation for alternative solver options:\n",
      "    https://scikit-learn.org/stable/modules/linear_model.html#logistic-regression\n",
      "  n_iter_i = _check_optimize_result(\n",
      "C:\\Python310\\lib\\site-packages\\sklearn\\linear_model\\_logistic.py:1113: UserWarning: Setting penalty='none' will ignore the C and l1_ratio parameters\n",
      "  warnings.warn(\n"
     ]
    },
    {
     "name": "stdout",
     "output_type": "stream",
     "text": [
      "No of FN: 29\n",
      "7263.7300000000005\n",
      "[CV 2/5; 2/96] END C=1e-05, penalty=none, solver=lbfgs;, score=-7263.730 total time=   1.4s\n",
      "[CV 3/5; 2/96] START C=1e-05, penalty=none, solver=lbfgs........................\n"
     ]
    },
    {
     "name": "stderr",
     "output_type": "stream",
     "text": [
      "C:\\Python310\\lib\\site-packages\\sklearn\\linear_model\\_logistic.py:444: ConvergenceWarning: lbfgs failed to converge (status=1):\n",
      "STOP: TOTAL NO. of ITERATIONS REACHED LIMIT.\n",
      "\n",
      "Increase the number of iterations (max_iter) or scale the data as shown in:\n",
      "    https://scikit-learn.org/stable/modules/preprocessing.html\n",
      "Please also refer to the documentation for alternative solver options:\n",
      "    https://scikit-learn.org/stable/modules/linear_model.html#logistic-regression\n",
      "  n_iter_i = _check_optimize_result(\n",
      "C:\\Python310\\lib\\site-packages\\sklearn\\linear_model\\_logistic.py:1113: UserWarning: Setting penalty='none' will ignore the C and l1_ratio parameters\n",
      "  warnings.warn(\n"
     ]
    },
    {
     "name": "stdout",
     "output_type": "stream",
     "text": [
      "No of FN: 27\n",
      "4114.3\n",
      "[CV 3/5; 2/96] END C=1e-05, penalty=none, solver=lbfgs;, score=-4114.300 total time=   1.3s\n",
      "[CV 4/5; 2/96] START C=1e-05, penalty=none, solver=lbfgs........................\n"
     ]
    },
    {
     "name": "stderr",
     "output_type": "stream",
     "text": [
      "C:\\Python310\\lib\\site-packages\\sklearn\\linear_model\\_logistic.py:444: ConvergenceWarning: lbfgs failed to converge (status=1):\n",
      "STOP: TOTAL NO. of ITERATIONS REACHED LIMIT.\n",
      "\n",
      "Increase the number of iterations (max_iter) or scale the data as shown in:\n",
      "    https://scikit-learn.org/stable/modules/preprocessing.html\n",
      "Please also refer to the documentation for alternative solver options:\n",
      "    https://scikit-learn.org/stable/modules/linear_model.html#logistic-regression\n",
      "  n_iter_i = _check_optimize_result(\n",
      "C:\\Python310\\lib\\site-packages\\sklearn\\linear_model\\_logistic.py:1113: UserWarning: Setting penalty='none' will ignore the C and l1_ratio parameters\n",
      "  warnings.warn(\n"
     ]
    },
    {
     "name": "stdout",
     "output_type": "stream",
     "text": [
      "No of FN: 26\n",
      "3790.4599999999996\n",
      "[CV 4/5; 2/96] END C=1e-05, penalty=none, solver=lbfgs;, score=-3790.460 total time=   1.5s\n",
      "[CV 5/5; 2/96] START C=1e-05, penalty=none, solver=lbfgs........................\n"
     ]
    },
    {
     "name": "stderr",
     "output_type": "stream",
     "text": [
      "C:\\Python310\\lib\\site-packages\\sklearn\\linear_model\\_logistic.py:444: ConvergenceWarning: lbfgs failed to converge (status=1):\n",
      "STOP: TOTAL NO. of ITERATIONS REACHED LIMIT.\n",
      "\n",
      "Increase the number of iterations (max_iter) or scale the data as shown in:\n",
      "    https://scikit-learn.org/stable/modules/preprocessing.html\n",
      "Please also refer to the documentation for alternative solver options:\n",
      "    https://scikit-learn.org/stable/modules/linear_model.html#logistic-regression\n",
      "  n_iter_i = _check_optimize_result(\n"
     ]
    },
    {
     "name": "stdout",
     "output_type": "stream",
     "text": [
      "No of FN: 39\n",
      "11250.080000000002\n",
      "[CV 5/5; 2/96] END C=1e-05, penalty=none, solver=lbfgs;, score=-11250.080 total time=   1.5s\n",
      "[CV 1/5; 3/96] START C=1e-05, penalty=none, solver=liblinear....................\n",
      "[CV 1/5; 3/96] END C=1e-05, penalty=none, solver=liblinear;, score=nan total time=   0.0s\n",
      "[CV 2/5; 3/96] START C=1e-05, penalty=none, solver=liblinear....................\n",
      "[CV 2/5; 3/96] END C=1e-05, penalty=none, solver=liblinear;, score=nan total time=   0.0s\n",
      "[CV 3/5; 3/96] START C=1e-05, penalty=none, solver=liblinear....................\n",
      "[CV 3/5; 3/96] END C=1e-05, penalty=none, solver=liblinear;, score=nan total time=   0.0s\n",
      "[CV 4/5; 3/96] START C=1e-05, penalty=none, solver=liblinear....................\n",
      "[CV 4/5; 3/96] END C=1e-05, penalty=none, solver=liblinear;, score=nan total time=   0.0s\n",
      "[CV 5/5; 3/96] START C=1e-05, penalty=none, solver=liblinear....................\n",
      "[CV 5/5; 3/96] END C=1e-05, penalty=none, solver=liblinear;, score=nan total time=   0.0s\n",
      "[CV 1/5; 4/96] START C=1e-05, penalty=l1, solver=newton-cg......................\n",
      "[CV 1/5; 4/96] END C=1e-05, penalty=l1, solver=newton-cg;, score=nan total time=   0.0s\n",
      "[CV 2/5; 4/96] START C=1e-05, penalty=l1, solver=newton-cg......................\n",
      "[CV 2/5; 4/96] END C=1e-05, penalty=l1, solver=newton-cg;, score=nan total time=   0.0s\n",
      "[CV 3/5; 4/96] START C=1e-05, penalty=l1, solver=newton-cg......................\n",
      "[CV 3/5; 4/96] END C=1e-05, penalty=l1, solver=newton-cg;, score=nan total time=   0.0s\n",
      "[CV 4/5; 4/96] START C=1e-05, penalty=l1, solver=newton-cg......................\n",
      "[CV 4/5; 4/96] END C=1e-05, penalty=l1, solver=newton-cg;, score=nan total time=   0.0s\n",
      "[CV 5/5; 4/96] START C=1e-05, penalty=l1, solver=newton-cg......................\n",
      "[CV 5/5; 4/96] END C=1e-05, penalty=l1, solver=newton-cg;, score=nan total time=   0.0s\n",
      "[CV 1/5; 5/96] START C=1e-05, penalty=l1, solver=lbfgs..........................\n",
      "[CV 1/5; 5/96] END C=1e-05, penalty=l1, solver=lbfgs;, score=nan total time=   0.0s\n",
      "[CV 2/5; 5/96] START C=1e-05, penalty=l1, solver=lbfgs..........................\n",
      "[CV 2/5; 5/96] END C=1e-05, penalty=l1, solver=lbfgs;, score=nan total time=   0.0s\n",
      "[CV 3/5; 5/96] START C=1e-05, penalty=l1, solver=lbfgs..........................\n",
      "[CV 3/5; 5/96] END C=1e-05, penalty=l1, solver=lbfgs;, score=nan total time=   0.0s\n",
      "[CV 4/5; 5/96] START C=1e-05, penalty=l1, solver=lbfgs..........................\n",
      "[CV 4/5; 5/96] END C=1e-05, penalty=l1, solver=lbfgs;, score=nan total time=   0.0s\n",
      "[CV 5/5; 5/96] START C=1e-05, penalty=l1, solver=lbfgs..........................\n",
      "[CV 5/5; 5/96] END C=1e-05, penalty=l1, solver=lbfgs;, score=nan total time=   0.0s\n",
      "[CV 1/5; 6/96] START C=1e-05, penalty=l1, solver=liblinear......................\n",
      "No of FN: 78\n",
      "7300.529999999998\n",
      "[CV 1/5; 6/96] END C=1e-05, penalty=l1, solver=liblinear;, score=-7300.530 total time=   0.2s\n",
      "[CV 2/5; 6/96] START C=1e-05, penalty=l1, solver=liblinear......................\n",
      "No of FN: 78\n",
      "10858.949999999997\n",
      "[CV 2/5; 6/96] END C=1e-05, penalty=l1, solver=liblinear;, score=-10858.950 total time=   0.3s\n",
      "[CV 3/5; 6/96] START C=1e-05, penalty=l1, solver=liblinear......................\n",
      "No of FN: 78\n",
      "6768.910000000001\n",
      "[CV 3/5; 6/96] END C=1e-05, penalty=l1, solver=liblinear;, score=-6768.910 total time=   0.2s\n",
      "[CV 4/5; 6/96] START C=1e-05, penalty=l1, solver=liblinear......................\n",
      "No of FN: 78\n",
      "7686.04\n",
      "[CV 4/5; 6/96] END C=1e-05, penalty=l1, solver=liblinear;, score=-7686.040 total time=   0.2s\n",
      "[CV 5/5; 6/96] START C=1e-05, penalty=l1, solver=liblinear......................\n",
      "No of FN: 79\n",
      "16510.07\n",
      "[CV 5/5; 6/96] END C=1e-05, penalty=l1, solver=liblinear;, score=-16510.070 total time=   0.3s\n",
      "[CV 1/5; 7/96] START C=1e-05, penalty=l2, solver=newton-cg......................\n"
     ]
    },
    {
     "name": "stderr",
     "output_type": "stream",
     "text": [
      "C:\\Python310\\lib\\site-packages\\scipy\\optimize\\_linesearch.py:456: LineSearchWarning: The line search algorithm did not converge\n",
      "  warn('The line search algorithm did not converge', LineSearchWarning)\n",
      "C:\\Python310\\lib\\site-packages\\scipy\\optimize\\_linesearch.py:305: LineSearchWarning: The line search algorithm did not converge\n",
      "  warn('The line search algorithm did not converge', LineSearchWarning)\n",
      "C:\\Python310\\lib\\site-packages\\sklearn\\utils\\optimize.py:210: ConvergenceWarning: newton-cg failed to converge. Increase the number of iterations.\n",
      "  warnings.warn(\n"
     ]
    },
    {
     "name": "stdout",
     "output_type": "stream",
     "text": [
      "No of FN: 78\n",
      "7300.529999999998\n",
      "[CV 1/5; 7/96] END C=1e-05, penalty=l2, solver=newton-cg;, score=-7300.530 total time=  10.3s\n",
      "[CV 2/5; 7/96] START C=1e-05, penalty=l2, solver=newton-cg......................\n"
     ]
    },
    {
     "name": "stderr",
     "output_type": "stream",
     "text": [
      "C:\\Python310\\lib\\site-packages\\scipy\\optimize\\_linesearch.py:456: LineSearchWarning: The line search algorithm did not converge\n",
      "  warn('The line search algorithm did not converge', LineSearchWarning)\n",
      "C:\\Python310\\lib\\site-packages\\scipy\\optimize\\_linesearch.py:305: LineSearchWarning: The line search algorithm did not converge\n",
      "  warn('The line search algorithm did not converge', LineSearchWarning)\n",
      "C:\\Python310\\lib\\site-packages\\sklearn\\utils\\optimize.py:210: ConvergenceWarning: newton-cg failed to converge. Increase the number of iterations.\n",
      "  warnings.warn(\n"
     ]
    },
    {
     "name": "stdout",
     "output_type": "stream",
     "text": [
      "No of FN: 78\n",
      "10858.949999999997\n",
      "[CV 2/5; 7/96] END C=1e-05, penalty=l2, solver=newton-cg;, score=-10858.950 total time=  10.2s\n",
      "[CV 3/5; 7/96] START C=1e-05, penalty=l2, solver=newton-cg......................\n"
     ]
    },
    {
     "name": "stderr",
     "output_type": "stream",
     "text": [
      "C:\\Python310\\lib\\site-packages\\scipy\\optimize\\_linesearch.py:456: LineSearchWarning: The line search algorithm did not converge\n",
      "  warn('The line search algorithm did not converge', LineSearchWarning)\n",
      "C:\\Python310\\lib\\site-packages\\scipy\\optimize\\_linesearch.py:305: LineSearchWarning: The line search algorithm did not converge\n",
      "  warn('The line search algorithm did not converge', LineSearchWarning)\n",
      "C:\\Python310\\lib\\site-packages\\sklearn\\utils\\optimize.py:210: ConvergenceWarning: newton-cg failed to converge. Increase the number of iterations.\n",
      "  warnings.warn(\n"
     ]
    },
    {
     "name": "stdout",
     "output_type": "stream",
     "text": [
      "No of FN: 78\n",
      "6768.910000000001\n",
      "[CV 3/5; 7/96] END C=1e-05, penalty=l2, solver=newton-cg;, score=-6768.910 total time=  10.2s\n",
      "[CV 4/5; 7/96] START C=1e-05, penalty=l2, solver=newton-cg......................\n"
     ]
    },
    {
     "name": "stderr",
     "output_type": "stream",
     "text": [
      "C:\\Python310\\lib\\site-packages\\scipy\\optimize\\_linesearch.py:456: LineSearchWarning: The line search algorithm did not converge\n",
      "  warn('The line search algorithm did not converge', LineSearchWarning)\n",
      "C:\\Python310\\lib\\site-packages\\scipy\\optimize\\_linesearch.py:305: LineSearchWarning: The line search algorithm did not converge\n",
      "  warn('The line search algorithm did not converge', LineSearchWarning)\n",
      "C:\\Python310\\lib\\site-packages\\sklearn\\utils\\optimize.py:210: ConvergenceWarning: newton-cg failed to converge. Increase the number of iterations.\n",
      "  warnings.warn(\n"
     ]
    },
    {
     "name": "stdout",
     "output_type": "stream",
     "text": [
      "No of FN: 78\n",
      "7686.04\n",
      "[CV 4/5; 7/96] END C=1e-05, penalty=l2, solver=newton-cg;, score=-7686.040 total time=   9.7s\n",
      "[CV 5/5; 7/96] START C=1e-05, penalty=l2, solver=newton-cg......................\n"
     ]
    },
    {
     "name": "stderr",
     "output_type": "stream",
     "text": [
      "C:\\Python310\\lib\\site-packages\\scipy\\optimize\\_linesearch.py:456: LineSearchWarning: The line search algorithm did not converge\n",
      "  warn('The line search algorithm did not converge', LineSearchWarning)\n",
      "C:\\Python310\\lib\\site-packages\\scipy\\optimize\\_linesearch.py:305: LineSearchWarning: The line search algorithm did not converge\n",
      "  warn('The line search algorithm did not converge', LineSearchWarning)\n",
      "C:\\Python310\\lib\\site-packages\\sklearn\\utils\\optimize.py:210: ConvergenceWarning: newton-cg failed to converge. Increase the number of iterations.\n",
      "  warnings.warn(\n"
     ]
    },
    {
     "name": "stdout",
     "output_type": "stream",
     "text": [
      "No of FN: 79\n",
      "16510.07\n",
      "[CV 5/5; 7/96] END C=1e-05, penalty=l2, solver=newton-cg;, score=-16510.070 total time=  10.3s\n",
      "[CV 1/5; 8/96] START C=1e-05, penalty=l2, solver=lbfgs..........................\n"
     ]
    },
    {
     "name": "stderr",
     "output_type": "stream",
     "text": [
      "C:\\Python310\\lib\\site-packages\\sklearn\\linear_model\\_logistic.py:444: ConvergenceWarning: lbfgs failed to converge (status=1):\n",
      "STOP: TOTAL NO. of ITERATIONS REACHED LIMIT.\n",
      "\n",
      "Increase the number of iterations (max_iter) or scale the data as shown in:\n",
      "    https://scikit-learn.org/stable/modules/preprocessing.html\n",
      "Please also refer to the documentation for alternative solver options:\n",
      "    https://scikit-learn.org/stable/modules/linear_model.html#logistic-regression\n",
      "  n_iter_i = _check_optimize_result(\n"
     ]
    },
    {
     "name": "stdout",
     "output_type": "stream",
     "text": [
      "No of FN: 78\n",
      "7300.529999999998\n",
      "[CV 1/5; 8/96] END C=1e-05, penalty=l2, solver=lbfgs;, score=-7300.530 total time=   1.6s\n",
      "[CV 2/5; 8/96] START C=1e-05, penalty=l2, solver=lbfgs..........................\n"
     ]
    },
    {
     "name": "stderr",
     "output_type": "stream",
     "text": [
      "C:\\Python310\\lib\\site-packages\\sklearn\\linear_model\\_logistic.py:444: ConvergenceWarning: lbfgs failed to converge (status=1):\n",
      "STOP: TOTAL NO. of ITERATIONS REACHED LIMIT.\n",
      "\n",
      "Increase the number of iterations (max_iter) or scale the data as shown in:\n",
      "    https://scikit-learn.org/stable/modules/preprocessing.html\n",
      "Please also refer to the documentation for alternative solver options:\n",
      "    https://scikit-learn.org/stable/modules/linear_model.html#logistic-regression\n",
      "  n_iter_i = _check_optimize_result(\n"
     ]
    },
    {
     "name": "stdout",
     "output_type": "stream",
     "text": [
      "No of FN: 78\n",
      "10863.949999999997\n",
      "[CV 2/5; 8/96] END C=1e-05, penalty=l2, solver=lbfgs;, score=-10863.950 total time=   1.5s\n",
      "[CV 3/5; 8/96] START C=1e-05, penalty=l2, solver=lbfgs..........................\n"
     ]
    },
    {
     "name": "stderr",
     "output_type": "stream",
     "text": [
      "C:\\Python310\\lib\\site-packages\\sklearn\\linear_model\\_logistic.py:444: ConvergenceWarning: lbfgs failed to converge (status=1):\n",
      "STOP: TOTAL NO. of ITERATIONS REACHED LIMIT.\n",
      "\n",
      "Increase the number of iterations (max_iter) or scale the data as shown in:\n",
      "    https://scikit-learn.org/stable/modules/preprocessing.html\n",
      "Please also refer to the documentation for alternative solver options:\n",
      "    https://scikit-learn.org/stable/modules/linear_model.html#logistic-regression\n",
      "  n_iter_i = _check_optimize_result(\n"
     ]
    },
    {
     "name": "stdout",
     "output_type": "stream",
     "text": [
      "No of FN: 78\n",
      "6768.910000000001\n",
      "[CV 3/5; 8/96] END C=1e-05, penalty=l2, solver=lbfgs;, score=-6768.910 total time=   1.4s\n",
      "[CV 4/5; 8/96] START C=1e-05, penalty=l2, solver=lbfgs..........................\n"
     ]
    },
    {
     "name": "stderr",
     "output_type": "stream",
     "text": [
      "C:\\Python310\\lib\\site-packages\\sklearn\\linear_model\\_logistic.py:444: ConvergenceWarning: lbfgs failed to converge (status=1):\n",
      "STOP: TOTAL NO. of ITERATIONS REACHED LIMIT.\n",
      "\n",
      "Increase the number of iterations (max_iter) or scale the data as shown in:\n",
      "    https://scikit-learn.org/stable/modules/preprocessing.html\n",
      "Please also refer to the documentation for alternative solver options:\n",
      "    https://scikit-learn.org/stable/modules/linear_model.html#logistic-regression\n",
      "  n_iter_i = _check_optimize_result(\n"
     ]
    },
    {
     "name": "stdout",
     "output_type": "stream",
     "text": [
      "No of FN: 78\n",
      "7686.04\n",
      "[CV 4/5; 8/96] END C=1e-05, penalty=l2, solver=lbfgs;, score=-7686.040 total time=   1.5s\n",
      "[CV 5/5; 8/96] START C=1e-05, penalty=l2, solver=lbfgs..........................\n"
     ]
    },
    {
     "name": "stderr",
     "output_type": "stream",
     "text": [
      "C:\\Python310\\lib\\site-packages\\sklearn\\linear_model\\_logistic.py:444: ConvergenceWarning: lbfgs failed to converge (status=1):\n",
      "STOP: TOTAL NO. of ITERATIONS REACHED LIMIT.\n",
      "\n",
      "Increase the number of iterations (max_iter) or scale the data as shown in:\n",
      "    https://scikit-learn.org/stable/modules/preprocessing.html\n",
      "Please also refer to the documentation for alternative solver options:\n",
      "    https://scikit-learn.org/stable/modules/linear_model.html#logistic-regression\n",
      "  n_iter_i = _check_optimize_result(\n"
     ]
    },
    {
     "name": "stdout",
     "output_type": "stream",
     "text": [
      "No of FN: 79\n",
      "16520.07\n",
      "[CV 5/5; 8/96] END C=1e-05, penalty=l2, solver=lbfgs;, score=-16520.070 total time=   1.5s\n",
      "[CV 1/5; 9/96] START C=1e-05, penalty=l2, solver=liblinear......................\n",
      "No of FN: 75\n",
      "7317.529999999998\n",
      "[CV 1/5; 9/96] END C=1e-05, penalty=l2, solver=liblinear;, score=-7317.530 total time=   1.2s\n",
      "[CV 2/5; 9/96] START C=1e-05, penalty=l2, solver=liblinear......................\n",
      "No of FN: 77\n",
      "10872.949999999997\n",
      "[CV 2/5; 9/96] END C=1e-05, penalty=l2, solver=liblinear;, score=-10872.950 total time=   1.1s\n",
      "[CV 3/5; 9/96] START C=1e-05, penalty=l2, solver=liblinear......................\n",
      "No of FN: 74\n",
      "6795.910000000001\n",
      "[CV 3/5; 9/96] END C=1e-05, penalty=l2, solver=liblinear;, score=-6795.910 total time=   1.2s\n",
      "[CV 4/5; 9/96] START C=1e-05, penalty=l2, solver=liblinear......................\n",
      "No of FN: 74\n",
      "7711.940000000001\n",
      "[CV 4/5; 9/96] END C=1e-05, penalty=l2, solver=liblinear;, score=-7711.940 total time=   1.1s\n",
      "[CV 5/5; 9/96] START C=1e-05, penalty=l2, solver=liblinear......................\n",
      "No of FN: 76\n",
      "16522.07\n",
      "[CV 5/5; 9/96] END C=1e-05, penalty=l2, solver=liblinear;, score=-16522.070 total time=   0.9s\n",
      "[CV 1/5; 10/96] START C=1e-05, penalty=elasticnet, solver=newton-cg.............\n",
      "[CV 1/5; 10/96] END C=1e-05, penalty=elasticnet, solver=newton-cg;, score=nan total time=   0.0s\n",
      "[CV 2/5; 10/96] START C=1e-05, penalty=elasticnet, solver=newton-cg.............\n",
      "[CV 2/5; 10/96] END C=1e-05, penalty=elasticnet, solver=newton-cg;, score=nan total time=   0.0s\n",
      "[CV 3/5; 10/96] START C=1e-05, penalty=elasticnet, solver=newton-cg.............\n",
      "[CV 3/5; 10/96] END C=1e-05, penalty=elasticnet, solver=newton-cg;, score=nan total time=   0.0s\n",
      "[CV 4/5; 10/96] START C=1e-05, penalty=elasticnet, solver=newton-cg.............\n",
      "[CV 4/5; 10/96] END C=1e-05, penalty=elasticnet, solver=newton-cg;, score=nan total time=   0.0s\n",
      "[CV 5/5; 10/96] START C=1e-05, penalty=elasticnet, solver=newton-cg.............\n",
      "[CV 5/5; 10/96] END C=1e-05, penalty=elasticnet, solver=newton-cg;, score=nan total time=   0.0s\n",
      "[CV 1/5; 11/96] START C=1e-05, penalty=elasticnet, solver=lbfgs.................\n",
      "[CV 1/5; 11/96] END C=1e-05, penalty=elasticnet, solver=lbfgs;, score=nan total time=   0.0s\n",
      "[CV 2/5; 11/96] START C=1e-05, penalty=elasticnet, solver=lbfgs.................\n",
      "[CV 2/5; 11/96] END C=1e-05, penalty=elasticnet, solver=lbfgs;, score=nan total time=   0.0s\n",
      "[CV 3/5; 11/96] START C=1e-05, penalty=elasticnet, solver=lbfgs.................\n",
      "[CV 3/5; 11/96] END C=1e-05, penalty=elasticnet, solver=lbfgs;, score=nan total time=   0.0s\n",
      "[CV 4/5; 11/96] START C=1e-05, penalty=elasticnet, solver=lbfgs.................\n",
      "[CV 4/5; 11/96] END C=1e-05, penalty=elasticnet, solver=lbfgs;, score=nan total time=   0.0s\n",
      "[CV 5/5; 11/96] START C=1e-05, penalty=elasticnet, solver=lbfgs.................\n",
      "[CV 5/5; 11/96] END C=1e-05, penalty=elasticnet, solver=lbfgs;, score=nan total time=   0.0s\n",
      "[CV 1/5; 12/96] START C=1e-05, penalty=elasticnet, solver=liblinear.............\n",
      "[CV 1/5; 12/96] END C=1e-05, penalty=elasticnet, solver=liblinear;, score=nan total time=   0.0s\n",
      "[CV 2/5; 12/96] START C=1e-05, penalty=elasticnet, solver=liblinear.............\n",
      "[CV 2/5; 12/96] END C=1e-05, penalty=elasticnet, solver=liblinear;, score=nan total time=   0.0s\n",
      "[CV 3/5; 12/96] START C=1e-05, penalty=elasticnet, solver=liblinear.............\n",
      "[CV 3/5; 12/96] END C=1e-05, penalty=elasticnet, solver=liblinear;, score=nan total time=   0.0s\n",
      "[CV 4/5; 12/96] START C=1e-05, penalty=elasticnet, solver=liblinear.............\n",
      "[CV 4/5; 12/96] END C=1e-05, penalty=elasticnet, solver=liblinear;, score=nan total time=   0.0s\n",
      "[CV 5/5; 12/96] START C=1e-05, penalty=elasticnet, solver=liblinear.............\n",
      "[CV 5/5; 12/96] END C=1e-05, penalty=elasticnet, solver=liblinear;, score=nan total time=   0.0s\n",
      "[CV 1/5; 13/96] START C=0.0001, penalty=none, solver=newton-cg..................\n"
     ]
    },
    {
     "name": "stderr",
     "output_type": "stream",
     "text": [
      "C:\\Python310\\lib\\site-packages\\sklearn\\linear_model\\_logistic.py:1113: UserWarning: Setting penalty='none' will ignore the C and l1_ratio parameters\n",
      "  warnings.warn(\n",
      "C:\\Python310\\lib\\site-packages\\scipy\\optimize\\_linesearch.py:456: LineSearchWarning: The line search algorithm did not converge\n",
      "  warn('The line search algorithm did not converge', LineSearchWarning)\n",
      "C:\\Python310\\lib\\site-packages\\scipy\\optimize\\_linesearch.py:305: LineSearchWarning: The line search algorithm did not converge\n",
      "  warn('The line search algorithm did not converge', LineSearchWarning)\n",
      "C:\\Python310\\lib\\site-packages\\sklearn\\utils\\optimize.py:210: ConvergenceWarning: newton-cg failed to converge. Increase the number of iterations.\n",
      "  warnings.warn(\n",
      "C:\\Python310\\lib\\site-packages\\sklearn\\linear_model\\_logistic.py:1113: UserWarning: Setting penalty='none' will ignore the C and l1_ratio parameters\n",
      "  warnings.warn(\n"
     ]
    },
    {
     "name": "stdout",
     "output_type": "stream",
     "text": [
      "No of FN: 33\n",
      "5397.219999999999\n",
      "[CV 1/5; 13/96] END C=0.0001, penalty=none, solver=newton-cg;, score=-5397.220 total time=  10.5s\n",
      "[CV 2/5; 13/96] START C=0.0001, penalty=none, solver=newton-cg..................\n"
     ]
    },
    {
     "name": "stderr",
     "output_type": "stream",
     "text": [
      "C:\\Python310\\lib\\site-packages\\scipy\\optimize\\_linesearch.py:456: LineSearchWarning: The line search algorithm did not converge\n",
      "  warn('The line search algorithm did not converge', LineSearchWarning)\n",
      "C:\\Python310\\lib\\site-packages\\scipy\\optimize\\_linesearch.py:305: LineSearchWarning: The line search algorithm did not converge\n",
      "  warn('The line search algorithm did not converge', LineSearchWarning)\n",
      "C:\\Python310\\lib\\site-packages\\sklearn\\utils\\optimize.py:210: ConvergenceWarning: newton-cg failed to converge. Increase the number of iterations.\n",
      "  warnings.warn(\n",
      "C:\\Python310\\lib\\site-packages\\sklearn\\linear_model\\_logistic.py:1113: UserWarning: Setting penalty='none' will ignore the C and l1_ratio parameters\n",
      "  warnings.warn(\n"
     ]
    },
    {
     "name": "stdout",
     "output_type": "stream",
     "text": [
      "No of FN: 30\n",
      "7092.449999999999\n",
      "[CV 2/5; 13/96] END C=0.0001, penalty=none, solver=newton-cg;, score=-7092.450 total time=  10.2s\n",
      "[CV 3/5; 13/96] START C=0.0001, penalty=none, solver=newton-cg..................\n"
     ]
    },
    {
     "name": "stderr",
     "output_type": "stream",
     "text": [
      "C:\\Python310\\lib\\site-packages\\scipy\\optimize\\_linesearch.py:456: LineSearchWarning: The line search algorithm did not converge\n",
      "  warn('The line search algorithm did not converge', LineSearchWarning)\n",
      "C:\\Python310\\lib\\site-packages\\scipy\\optimize\\_linesearch.py:305: LineSearchWarning: The line search algorithm did not converge\n",
      "  warn('The line search algorithm did not converge', LineSearchWarning)\n",
      "C:\\Python310\\lib\\site-packages\\sklearn\\utils\\optimize.py:210: ConvergenceWarning: newton-cg failed to converge. Increase the number of iterations.\n",
      "  warnings.warn(\n",
      "C:\\Python310\\lib\\site-packages\\sklearn\\linear_model\\_logistic.py:1113: UserWarning: Setting penalty='none' will ignore the C and l1_ratio parameters\n",
      "  warnings.warn(\n"
     ]
    },
    {
     "name": "stdout",
     "output_type": "stream",
     "text": [
      "No of FN: 28\n",
      "3285.26\n",
      "[CV 3/5; 13/96] END C=0.0001, penalty=none, solver=newton-cg;, score=-3285.260 total time=  10.2s\n",
      "[CV 4/5; 13/96] START C=0.0001, penalty=none, solver=newton-cg..................\n"
     ]
    },
    {
     "name": "stderr",
     "output_type": "stream",
     "text": [
      "C:\\Python310\\lib\\site-packages\\scipy\\optimize\\_linesearch.py:456: LineSearchWarning: The line search algorithm did not converge\n",
      "  warn('The line search algorithm did not converge', LineSearchWarning)\n",
      "C:\\Python310\\lib\\site-packages\\scipy\\optimize\\_linesearch.py:305: LineSearchWarning: The line search algorithm did not converge\n",
      "  warn('The line search algorithm did not converge', LineSearchWarning)\n",
      "C:\\Python310\\lib\\site-packages\\sklearn\\utils\\optimize.py:210: ConvergenceWarning: newton-cg failed to converge. Increase the number of iterations.\n",
      "  warnings.warn(\n",
      "C:\\Python310\\lib\\site-packages\\sklearn\\linear_model\\_logistic.py:1113: UserWarning: Setting penalty='none' will ignore the C and l1_ratio parameters\n",
      "  warnings.warn(\n"
     ]
    },
    {
     "name": "stdout",
     "output_type": "stream",
     "text": [
      "No of FN: 29\n",
      "4171.469999999999\n",
      "[CV 4/5; 13/96] END C=0.0001, penalty=none, solver=newton-cg;, score=-4171.470 total time=   9.8s\n",
      "[CV 5/5; 13/96] START C=0.0001, penalty=none, solver=newton-cg..................\n"
     ]
    },
    {
     "name": "stderr",
     "output_type": "stream",
     "text": [
      "C:\\Python310\\lib\\site-packages\\scipy\\optimize\\_linesearch.py:456: LineSearchWarning: The line search algorithm did not converge\n",
      "  warn('The line search algorithm did not converge', LineSearchWarning)\n",
      "C:\\Python310\\lib\\site-packages\\scipy\\optimize\\_linesearch.py:305: LineSearchWarning: The line search algorithm did not converge\n",
      "  warn('The line search algorithm did not converge', LineSearchWarning)\n",
      "C:\\Python310\\lib\\site-packages\\sklearn\\utils\\optimize.py:210: ConvergenceWarning: newton-cg failed to converge. Increase the number of iterations.\n",
      "  warnings.warn(\n",
      "C:\\Python310\\lib\\site-packages\\sklearn\\linear_model\\_logistic.py:1113: UserWarning: Setting penalty='none' will ignore the C and l1_ratio parameters\n",
      "  warnings.warn(\n"
     ]
    },
    {
     "name": "stdout",
     "output_type": "stream",
     "text": [
      "No of FN: 36\n",
      "10254.79\n",
      "[CV 5/5; 13/96] END C=0.0001, penalty=none, solver=newton-cg;, score=-10254.790 total time=   9.6s\n",
      "[CV 1/5; 14/96] START C=0.0001, penalty=none, solver=lbfgs......................\n"
     ]
    },
    {
     "name": "stderr",
     "output_type": "stream",
     "text": [
      "C:\\Python310\\lib\\site-packages\\sklearn\\linear_model\\_logistic.py:444: ConvergenceWarning: lbfgs failed to converge (status=1):\n",
      "STOP: TOTAL NO. of ITERATIONS REACHED LIMIT.\n",
      "\n",
      "Increase the number of iterations (max_iter) or scale the data as shown in:\n",
      "    https://scikit-learn.org/stable/modules/preprocessing.html\n",
      "Please also refer to the documentation for alternative solver options:\n",
      "    https://scikit-learn.org/stable/modules/linear_model.html#logistic-regression\n",
      "  n_iter_i = _check_optimize_result(\n",
      "C:\\Python310\\lib\\site-packages\\sklearn\\linear_model\\_logistic.py:1113: UserWarning: Setting penalty='none' will ignore the C and l1_ratio parameters\n",
      "  warnings.warn(\n"
     ]
    },
    {
     "name": "stdout",
     "output_type": "stream",
     "text": [
      "No of FN: 21\n",
      "5005.969999999999\n",
      "[CV 1/5; 14/96] END C=0.0001, penalty=none, solver=lbfgs;, score=-5005.970 total time=   1.5s\n",
      "[CV 2/5; 14/96] START C=0.0001, penalty=none, solver=lbfgs......................\n"
     ]
    },
    {
     "name": "stderr",
     "output_type": "stream",
     "text": [
      "C:\\Python310\\lib\\site-packages\\sklearn\\linear_model\\_logistic.py:444: ConvergenceWarning: lbfgs failed to converge (status=1):\n",
      "STOP: TOTAL NO. of ITERATIONS REACHED LIMIT.\n",
      "\n",
      "Increase the number of iterations (max_iter) or scale the data as shown in:\n",
      "    https://scikit-learn.org/stable/modules/preprocessing.html\n",
      "Please also refer to the documentation for alternative solver options:\n",
      "    https://scikit-learn.org/stable/modules/linear_model.html#logistic-regression\n",
      "  n_iter_i = _check_optimize_result(\n",
      "C:\\Python310\\lib\\site-packages\\sklearn\\linear_model\\_logistic.py:1113: UserWarning: Setting penalty='none' will ignore the C and l1_ratio parameters\n",
      "  warnings.warn(\n"
     ]
    },
    {
     "name": "stdout",
     "output_type": "stream",
     "text": [
      "No of FN: 29\n",
      "7263.7300000000005\n",
      "[CV 2/5; 14/96] END C=0.0001, penalty=none, solver=lbfgs;, score=-7263.730 total time=   1.4s\n",
      "[CV 3/5; 14/96] START C=0.0001, penalty=none, solver=lbfgs......................\n"
     ]
    },
    {
     "name": "stderr",
     "output_type": "stream",
     "text": [
      "C:\\Python310\\lib\\site-packages\\sklearn\\linear_model\\_logistic.py:444: ConvergenceWarning: lbfgs failed to converge (status=1):\n",
      "STOP: TOTAL NO. of ITERATIONS REACHED LIMIT.\n",
      "\n",
      "Increase the number of iterations (max_iter) or scale the data as shown in:\n",
      "    https://scikit-learn.org/stable/modules/preprocessing.html\n",
      "Please also refer to the documentation for alternative solver options:\n",
      "    https://scikit-learn.org/stable/modules/linear_model.html#logistic-regression\n",
      "  n_iter_i = _check_optimize_result(\n",
      "C:\\Python310\\lib\\site-packages\\sklearn\\linear_model\\_logistic.py:1113: UserWarning: Setting penalty='none' will ignore the C and l1_ratio parameters\n",
      "  warnings.warn(\n"
     ]
    },
    {
     "name": "stdout",
     "output_type": "stream",
     "text": [
      "No of FN: 27\n",
      "4114.3\n",
      "[CV 3/5; 14/96] END C=0.0001, penalty=none, solver=lbfgs;, score=-4114.300 total time=   1.4s\n",
      "[CV 4/5; 14/96] START C=0.0001, penalty=none, solver=lbfgs......................\n"
     ]
    },
    {
     "name": "stderr",
     "output_type": "stream",
     "text": [
      "C:\\Python310\\lib\\site-packages\\sklearn\\linear_model\\_logistic.py:444: ConvergenceWarning: lbfgs failed to converge (status=1):\n",
      "STOP: TOTAL NO. of ITERATIONS REACHED LIMIT.\n",
      "\n",
      "Increase the number of iterations (max_iter) or scale the data as shown in:\n",
      "    https://scikit-learn.org/stable/modules/preprocessing.html\n",
      "Please also refer to the documentation for alternative solver options:\n",
      "    https://scikit-learn.org/stable/modules/linear_model.html#logistic-regression\n",
      "  n_iter_i = _check_optimize_result(\n",
      "C:\\Python310\\lib\\site-packages\\sklearn\\linear_model\\_logistic.py:1113: UserWarning: Setting penalty='none' will ignore the C and l1_ratio parameters\n",
      "  warnings.warn(\n"
     ]
    },
    {
     "name": "stdout",
     "output_type": "stream",
     "text": [
      "No of FN: 26\n",
      "3790.4599999999996\n",
      "[CV 4/5; 14/96] END C=0.0001, penalty=none, solver=lbfgs;, score=-3790.460 total time=   1.5s\n",
      "[CV 5/5; 14/96] START C=0.0001, penalty=none, solver=lbfgs......................\n"
     ]
    },
    {
     "name": "stderr",
     "output_type": "stream",
     "text": [
      "C:\\Python310\\lib\\site-packages\\sklearn\\linear_model\\_logistic.py:444: ConvergenceWarning: lbfgs failed to converge (status=1):\n",
      "STOP: TOTAL NO. of ITERATIONS REACHED LIMIT.\n",
      "\n",
      "Increase the number of iterations (max_iter) or scale the data as shown in:\n",
      "    https://scikit-learn.org/stable/modules/preprocessing.html\n",
      "Please also refer to the documentation for alternative solver options:\n",
      "    https://scikit-learn.org/stable/modules/linear_model.html#logistic-regression\n",
      "  n_iter_i = _check_optimize_result(\n"
     ]
    },
    {
     "name": "stdout",
     "output_type": "stream",
     "text": [
      "No of FN: 39\n",
      "11250.080000000002\n",
      "[CV 5/5; 14/96] END C=0.0001, penalty=none, solver=lbfgs;, score=-11250.080 total time=   1.5s\n",
      "[CV 1/5; 15/96] START C=0.0001, penalty=none, solver=liblinear..................\n",
      "[CV 1/5; 15/96] END C=0.0001, penalty=none, solver=liblinear;, score=nan total time=   0.0s\n",
      "[CV 2/5; 15/96] START C=0.0001, penalty=none, solver=liblinear..................\n",
      "[CV 2/5; 15/96] END C=0.0001, penalty=none, solver=liblinear;, score=nan total time=   0.0s\n",
      "[CV 3/5; 15/96] START C=0.0001, penalty=none, solver=liblinear..................\n",
      "[CV 3/5; 15/96] END C=0.0001, penalty=none, solver=liblinear;, score=nan total time=   0.0s\n",
      "[CV 4/5; 15/96] START C=0.0001, penalty=none, solver=liblinear..................\n",
      "[CV 4/5; 15/96] END C=0.0001, penalty=none, solver=liblinear;, score=nan total time=   0.0s\n",
      "[CV 5/5; 15/96] START C=0.0001, penalty=none, solver=liblinear..................\n",
      "[CV 5/5; 15/96] END C=0.0001, penalty=none, solver=liblinear;, score=nan total time=   0.0s\n",
      "[CV 1/5; 16/96] START C=0.0001, penalty=l1, solver=newton-cg....................\n",
      "[CV 1/5; 16/96] END C=0.0001, penalty=l1, solver=newton-cg;, score=nan total time=   0.0s\n",
      "[CV 2/5; 16/96] START C=0.0001, penalty=l1, solver=newton-cg....................\n",
      "[CV 2/5; 16/96] END C=0.0001, penalty=l1, solver=newton-cg;, score=nan total time=   0.0s\n",
      "[CV 3/5; 16/96] START C=0.0001, penalty=l1, solver=newton-cg....................\n",
      "[CV 3/5; 16/96] END C=0.0001, penalty=l1, solver=newton-cg;, score=nan total time=   0.0s\n",
      "[CV 4/5; 16/96] START C=0.0001, penalty=l1, solver=newton-cg....................\n",
      "[CV 4/5; 16/96] END C=0.0001, penalty=l1, solver=newton-cg;, score=nan total time=   0.0s\n",
      "[CV 5/5; 16/96] START C=0.0001, penalty=l1, solver=newton-cg....................\n",
      "[CV 5/5; 16/96] END C=0.0001, penalty=l1, solver=newton-cg;, score=nan total time=   0.0s\n",
      "[CV 1/5; 17/96] START C=0.0001, penalty=l1, solver=lbfgs........................\n",
      "[CV 1/5; 17/96] END C=0.0001, penalty=l1, solver=lbfgs;, score=nan total time=   0.0s\n",
      "[CV 2/5; 17/96] START C=0.0001, penalty=l1, solver=lbfgs........................\n",
      "[CV 2/5; 17/96] END C=0.0001, penalty=l1, solver=lbfgs;, score=nan total time=   0.0s\n",
      "[CV 3/5; 17/96] START C=0.0001, penalty=l1, solver=lbfgs........................\n",
      "[CV 3/5; 17/96] END C=0.0001, penalty=l1, solver=lbfgs;, score=nan total time=   0.0s\n",
      "[CV 4/5; 17/96] START C=0.0001, penalty=l1, solver=lbfgs........................\n",
      "[CV 4/5; 17/96] END C=0.0001, penalty=l1, solver=lbfgs;, score=nan total time=   0.0s\n",
      "[CV 5/5; 17/96] START C=0.0001, penalty=l1, solver=lbfgs........................\n",
      "[CV 5/5; 17/96] END C=0.0001, penalty=l1, solver=lbfgs;, score=nan total time=   0.0s\n",
      "[CV 1/5; 18/96] START C=0.0001, penalty=l1, solver=liblinear....................\n",
      "No of FN: 78\n",
      "7300.529999999998\n",
      "[CV 1/5; 18/96] END C=0.0001, penalty=l1, solver=liblinear;, score=-7300.530 total time=   0.3s\n",
      "[CV 2/5; 18/96] START C=0.0001, penalty=l1, solver=liblinear....................\n",
      "No of FN: 78\n",
      "10858.949999999997\n",
      "[CV 2/5; 18/96] END C=0.0001, penalty=l1, solver=liblinear;, score=-10858.950 total time=   0.3s\n",
      "[CV 3/5; 18/96] START C=0.0001, penalty=l1, solver=liblinear....................\n",
      "No of FN: 78\n",
      "6768.910000000001\n",
      "[CV 3/5; 18/96] END C=0.0001, penalty=l1, solver=liblinear;, score=-6768.910 total time=   0.3s\n",
      "[CV 4/5; 18/96] START C=0.0001, penalty=l1, solver=liblinear....................\n",
      "No of FN: 78\n",
      "7686.04\n",
      "[CV 4/5; 18/96] END C=0.0001, penalty=l1, solver=liblinear;, score=-7686.040 total time=   0.3s\n",
      "[CV 5/5; 18/96] START C=0.0001, penalty=l1, solver=liblinear....................\n",
      "No of FN: 79\n",
      "16510.07\n",
      "[CV 5/5; 18/96] END C=0.0001, penalty=l1, solver=liblinear;, score=-16510.070 total time=   0.3s\n",
      "[CV 1/5; 19/96] START C=0.0001, penalty=l2, solver=newton-cg....................\n"
     ]
    },
    {
     "name": "stderr",
     "output_type": "stream",
     "text": [
      "C:\\Python310\\lib\\site-packages\\sklearn\\utils\\optimize.py:210: ConvergenceWarning: newton-cg failed to converge. Increase the number of iterations.\n",
      "  warnings.warn(\n"
     ]
    },
    {
     "name": "stdout",
     "output_type": "stream",
     "text": [
      "No of FN: 62\n",
      "6740.539999999998\n",
      "[CV 1/5; 19/96] END C=0.0001, penalty=l2, solver=newton-cg;, score=-6740.540 total time=  11.2s\n",
      "[CV 2/5; 19/96] START C=0.0001, penalty=l2, solver=newton-cg....................\n"
     ]
    },
    {
     "name": "stderr",
     "output_type": "stream",
     "text": [
      "C:\\Python310\\lib\\site-packages\\scipy\\optimize\\_linesearch.py:456: LineSearchWarning: The line search algorithm did not converge\n",
      "  warn('The line search algorithm did not converge', LineSearchWarning)\n",
      "C:\\Python310\\lib\\site-packages\\scipy\\optimize\\_linesearch.py:305: LineSearchWarning: The line search algorithm did not converge\n",
      "  warn('The line search algorithm did not converge', LineSearchWarning)\n",
      "C:\\Python310\\lib\\site-packages\\sklearn\\utils\\optimize.py:210: ConvergenceWarning: newton-cg failed to converge. Increase the number of iterations.\n",
      "  warnings.warn(\n"
     ]
    },
    {
     "name": "stdout",
     "output_type": "stream",
     "text": [
      "No of FN: 60\n",
      "9106.639999999998\n",
      "[CV 2/5; 19/96] END C=0.0001, penalty=l2, solver=newton-cg;, score=-9106.640 total time=   9.7s\n",
      "[CV 3/5; 19/96] START C=0.0001, penalty=l2, solver=newton-cg....................\n"
     ]
    },
    {
     "name": "stderr",
     "output_type": "stream",
     "text": [
      "C:\\Python310\\lib\\site-packages\\sklearn\\utils\\optimize.py:210: ConvergenceWarning: newton-cg failed to converge. Increase the number of iterations.\n",
      "  warnings.warn(\n"
     ]
    },
    {
     "name": "stdout",
     "output_type": "stream",
     "text": [
      "No of FN: 59\n",
      "5445.950000000002\n",
      "[CV 3/5; 19/96] END C=0.0001, penalty=l2, solver=newton-cg;, score=-5445.950 total time=  10.0s\n",
      "[CV 4/5; 19/96] START C=0.0001, penalty=l2, solver=newton-cg....................\n"
     ]
    },
    {
     "name": "stderr",
     "output_type": "stream",
     "text": [
      "C:\\Python310\\lib\\site-packages\\scipy\\optimize\\_linesearch.py:456: LineSearchWarning: The line search algorithm did not converge\n",
      "  warn('The line search algorithm did not converge', LineSearchWarning)\n",
      "C:\\Python310\\lib\\site-packages\\scipy\\optimize\\_linesearch.py:305: LineSearchWarning: The line search algorithm did not converge\n",
      "  warn('The line search algorithm did not converge', LineSearchWarning)\n",
      "C:\\Python310\\lib\\site-packages\\sklearn\\utils\\optimize.py:210: ConvergenceWarning: newton-cg failed to converge. Increase the number of iterations.\n",
      "  warnings.warn(\n"
     ]
    },
    {
     "name": "stdout",
     "output_type": "stream",
     "text": [
      "No of FN: 59\n",
      "5883.81\n",
      "[CV 4/5; 19/96] END C=0.0001, penalty=l2, solver=newton-cg;, score=-5883.810 total time=  10.3s\n",
      "[CV 5/5; 19/96] START C=0.0001, penalty=l2, solver=newton-cg....................\n"
     ]
    },
    {
     "name": "stderr",
     "output_type": "stream",
     "text": [
      "C:\\Python310\\lib\\site-packages\\scipy\\optimize\\_linesearch.py:456: LineSearchWarning: The line search algorithm did not converge\n",
      "  warn('The line search algorithm did not converge', LineSearchWarning)\n",
      "C:\\Python310\\lib\\site-packages\\scipy\\optimize\\_linesearch.py:305: LineSearchWarning: The line search algorithm did not converge\n",
      "  warn('The line search algorithm did not converge', LineSearchWarning)\n",
      "C:\\Python310\\lib\\site-packages\\sklearn\\utils\\optimize.py:210: ConvergenceWarning: newton-cg failed to converge. Increase the number of iterations.\n",
      "  warnings.warn(\n"
     ]
    },
    {
     "name": "stdout",
     "output_type": "stream",
     "text": [
      "No of FN: 65\n",
      "14114.800000000001\n",
      "[CV 5/5; 19/96] END C=0.0001, penalty=l2, solver=newton-cg;, score=-14114.800 total time=  10.1s\n",
      "[CV 1/5; 20/96] START C=0.0001, penalty=l2, solver=lbfgs........................\n"
     ]
    },
    {
     "name": "stderr",
     "output_type": "stream",
     "text": [
      "C:\\Python310\\lib\\site-packages\\sklearn\\linear_model\\_logistic.py:444: ConvergenceWarning: lbfgs failed to converge (status=1):\n",
      "STOP: TOTAL NO. of ITERATIONS REACHED LIMIT.\n",
      "\n",
      "Increase the number of iterations (max_iter) or scale the data as shown in:\n",
      "    https://scikit-learn.org/stable/modules/preprocessing.html\n",
      "Please also refer to the documentation for alternative solver options:\n",
      "    https://scikit-learn.org/stable/modules/linear_model.html#logistic-regression\n",
      "  n_iter_i = _check_optimize_result(\n"
     ]
    },
    {
     "name": "stdout",
     "output_type": "stream",
     "text": [
      "No of FN: 50\n",
      "6786.809999999999\n",
      "[CV 1/5; 20/96] END C=0.0001, penalty=l2, solver=lbfgs;, score=-6786.810 total time=   1.4s\n",
      "[CV 2/5; 20/96] START C=0.0001, penalty=l2, solver=lbfgs........................\n"
     ]
    },
    {
     "name": "stderr",
     "output_type": "stream",
     "text": [
      "C:\\Python310\\lib\\site-packages\\sklearn\\linear_model\\_logistic.py:444: ConvergenceWarning: lbfgs failed to converge (status=1):\n",
      "STOP: TOTAL NO. of ITERATIONS REACHED LIMIT.\n",
      "\n",
      "Increase the number of iterations (max_iter) or scale the data as shown in:\n",
      "    https://scikit-learn.org/stable/modules/preprocessing.html\n",
      "Please also refer to the documentation for alternative solver options:\n",
      "    https://scikit-learn.org/stable/modules/linear_model.html#logistic-regression\n",
      "  n_iter_i = _check_optimize_result(\n"
     ]
    },
    {
     "name": "stdout",
     "output_type": "stream",
     "text": [
      "No of FN: 51\n",
      "9051.939999999999\n",
      "[CV 2/5; 20/96] END C=0.0001, penalty=l2, solver=lbfgs;, score=-9051.940 total time=   1.3s\n",
      "[CV 3/5; 20/96] START C=0.0001, penalty=l2, solver=lbfgs........................\n"
     ]
    },
    {
     "name": "stderr",
     "output_type": "stream",
     "text": [
      "C:\\Python310\\lib\\site-packages\\sklearn\\linear_model\\_logistic.py:444: ConvergenceWarning: lbfgs failed to converge (status=1):\n",
      "STOP: TOTAL NO. of ITERATIONS REACHED LIMIT.\n",
      "\n",
      "Increase the number of iterations (max_iter) or scale the data as shown in:\n",
      "    https://scikit-learn.org/stable/modules/preprocessing.html\n",
      "Please also refer to the documentation for alternative solver options:\n",
      "    https://scikit-learn.org/stable/modules/linear_model.html#logistic-regression\n",
      "  n_iter_i = _check_optimize_result(\n"
     ]
    },
    {
     "name": "stdout",
     "output_type": "stream",
     "text": [
      "No of FN: 51\n",
      "5236.500000000002\n",
      "[CV 3/5; 20/96] END C=0.0001, penalty=l2, solver=lbfgs;, score=-5236.500 total time=   1.2s\n",
      "[CV 4/5; 20/96] START C=0.0001, penalty=l2, solver=lbfgs........................\n"
     ]
    },
    {
     "name": "stderr",
     "output_type": "stream",
     "text": [
      "C:\\Python310\\lib\\site-packages\\sklearn\\linear_model\\_logistic.py:444: ConvergenceWarning: lbfgs failed to converge (status=1):\n",
      "STOP: TOTAL NO. of ITERATIONS REACHED LIMIT.\n",
      "\n",
      "Increase the number of iterations (max_iter) or scale the data as shown in:\n",
      "    https://scikit-learn.org/stable/modules/preprocessing.html\n",
      "Please also refer to the documentation for alternative solver options:\n",
      "    https://scikit-learn.org/stable/modules/linear_model.html#logistic-regression\n",
      "  n_iter_i = _check_optimize_result(\n"
     ]
    },
    {
     "name": "stdout",
     "output_type": "stream",
     "text": [
      "No of FN: 50\n",
      "5861.309999999999\n",
      "[CV 4/5; 20/96] END C=0.0001, penalty=l2, solver=lbfgs;, score=-5861.310 total time=   1.4s\n",
      "[CV 5/5; 20/96] START C=0.0001, penalty=l2, solver=lbfgs........................\n"
     ]
    },
    {
     "name": "stderr",
     "output_type": "stream",
     "text": [
      "C:\\Python310\\lib\\site-packages\\sklearn\\linear_model\\_logistic.py:444: ConvergenceWarning: lbfgs failed to converge (status=1):\n",
      "STOP: TOTAL NO. of ITERATIONS REACHED LIMIT.\n",
      "\n",
      "Increase the number of iterations (max_iter) or scale the data as shown in:\n",
      "    https://scikit-learn.org/stable/modules/preprocessing.html\n",
      "Please also refer to the documentation for alternative solver options:\n",
      "    https://scikit-learn.org/stable/modules/linear_model.html#logistic-regression\n",
      "  n_iter_i = _check_optimize_result(\n"
     ]
    },
    {
     "name": "stdout",
     "output_type": "stream",
     "text": [
      "No of FN: 66\n",
      "16170.74\n",
      "[CV 5/5; 20/96] END C=0.0001, penalty=l2, solver=lbfgs;, score=-16170.740 total time=   1.3s\n",
      "[CV 1/5; 21/96] START C=0.0001, penalty=l2, solver=liblinear....................\n",
      "No of FN: 59\n",
      "6955.289999999999\n",
      "[CV 1/5; 21/96] END C=0.0001, penalty=l2, solver=liblinear;, score=-6955.290 total time=   1.4s\n",
      "[CV 2/5; 21/96] START C=0.0001, penalty=l2, solver=liblinear....................\n",
      "No of FN: 59\n",
      "10469.819999999996\n",
      "[CV 2/5; 21/96] END C=0.0001, penalty=l2, solver=liblinear;, score=-10469.820 total time=   1.3s\n",
      "[CV 3/5; 21/96] START C=0.0001, penalty=l2, solver=liblinear....................\n",
      "No of FN: 55\n",
      "5468.560000000001\n",
      "[CV 3/5; 21/96] END C=0.0001, penalty=l2, solver=liblinear;, score=-5468.560 total time=   1.4s\n",
      "[CV 4/5; 21/96] START C=0.0001, penalty=l2, solver=liblinear....................\n",
      "No of FN: 57\n",
      "6999.28\n",
      "[CV 4/5; 21/96] END C=0.0001, penalty=l2, solver=liblinear;, score=-6999.280 total time=   1.2s\n",
      "[CV 5/5; 21/96] START C=0.0001, penalty=l2, solver=liblinear....................\n",
      "No of FN: 63\n",
      "15816.78\n",
      "[CV 5/5; 21/96] END C=0.0001, penalty=l2, solver=liblinear;, score=-15816.780 total time=   1.0s\n",
      "[CV 1/5; 22/96] START C=0.0001, penalty=elasticnet, solver=newton-cg............\n",
      "[CV 1/5; 22/96] END C=0.0001, penalty=elasticnet, solver=newton-cg;, score=nan total time=   0.0s\n",
      "[CV 2/5; 22/96] START C=0.0001, penalty=elasticnet, solver=newton-cg............\n",
      "[CV 2/5; 22/96] END C=0.0001, penalty=elasticnet, solver=newton-cg;, score=nan total time=   0.0s\n",
      "[CV 3/5; 22/96] START C=0.0001, penalty=elasticnet, solver=newton-cg............\n",
      "[CV 3/5; 22/96] END C=0.0001, penalty=elasticnet, solver=newton-cg;, score=nan total time=   0.0s\n",
      "[CV 4/5; 22/96] START C=0.0001, penalty=elasticnet, solver=newton-cg............\n",
      "[CV 4/5; 22/96] END C=0.0001, penalty=elasticnet, solver=newton-cg;, score=nan total time=   0.0s\n",
      "[CV 5/5; 22/96] START C=0.0001, penalty=elasticnet, solver=newton-cg............\n",
      "[CV 5/5; 22/96] END C=0.0001, penalty=elasticnet, solver=newton-cg;, score=nan total time=   0.0s\n",
      "[CV 1/5; 23/96] START C=0.0001, penalty=elasticnet, solver=lbfgs................\n",
      "[CV 1/5; 23/96] END C=0.0001, penalty=elasticnet, solver=lbfgs;, score=nan total time=   0.0s\n",
      "[CV 2/5; 23/96] START C=0.0001, penalty=elasticnet, solver=lbfgs................\n",
      "[CV 2/5; 23/96] END C=0.0001, penalty=elasticnet, solver=lbfgs;, score=nan total time=   0.0s\n",
      "[CV 3/5; 23/96] START C=0.0001, penalty=elasticnet, solver=lbfgs................\n",
      "[CV 3/5; 23/96] END C=0.0001, penalty=elasticnet, solver=lbfgs;, score=nan total time=   0.0s\n",
      "[CV 4/5; 23/96] START C=0.0001, penalty=elasticnet, solver=lbfgs................\n",
      "[CV 4/5; 23/96] END C=0.0001, penalty=elasticnet, solver=lbfgs;, score=nan total time=   0.0s\n",
      "[CV 5/5; 23/96] START C=0.0001, penalty=elasticnet, solver=lbfgs................\n",
      "[CV 5/5; 23/96] END C=0.0001, penalty=elasticnet, solver=lbfgs;, score=nan total time=   0.0s\n",
      "[CV 1/5; 24/96] START C=0.0001, penalty=elasticnet, solver=liblinear............\n",
      "[CV 1/5; 24/96] END C=0.0001, penalty=elasticnet, solver=liblinear;, score=nan total time=   0.0s\n",
      "[CV 2/5; 24/96] START C=0.0001, penalty=elasticnet, solver=liblinear............\n",
      "[CV 2/5; 24/96] END C=0.0001, penalty=elasticnet, solver=liblinear;, score=nan total time=   0.0s\n",
      "[CV 3/5; 24/96] START C=0.0001, penalty=elasticnet, solver=liblinear............\n",
      "[CV 3/5; 24/96] END C=0.0001, penalty=elasticnet, solver=liblinear;, score=nan total time=   0.0s\n",
      "[CV 4/5; 24/96] START C=0.0001, penalty=elasticnet, solver=liblinear............\n",
      "[CV 4/5; 24/96] END C=0.0001, penalty=elasticnet, solver=liblinear;, score=nan total time=   0.0s\n",
      "[CV 5/5; 24/96] START C=0.0001, penalty=elasticnet, solver=liblinear............\n",
      "[CV 5/5; 24/96] END C=0.0001, penalty=elasticnet, solver=liblinear;, score=nan total time=   0.0s\n",
      "[CV 1/5; 25/96] START C=0.001, penalty=none, solver=newton-cg...................\n"
     ]
    },
    {
     "name": "stderr",
     "output_type": "stream",
     "text": [
      "C:\\Python310\\lib\\site-packages\\sklearn\\linear_model\\_logistic.py:1113: UserWarning: Setting penalty='none' will ignore the C and l1_ratio parameters\n",
      "  warnings.warn(\n",
      "C:\\Python310\\lib\\site-packages\\scipy\\optimize\\_linesearch.py:456: LineSearchWarning: The line search algorithm did not converge\n",
      "  warn('The line search algorithm did not converge', LineSearchWarning)\n",
      "C:\\Python310\\lib\\site-packages\\scipy\\optimize\\_linesearch.py:305: LineSearchWarning: The line search algorithm did not converge\n",
      "  warn('The line search algorithm did not converge', LineSearchWarning)\n",
      "C:\\Python310\\lib\\site-packages\\sklearn\\utils\\optimize.py:210: ConvergenceWarning: newton-cg failed to converge. Increase the number of iterations.\n",
      "  warnings.warn(\n",
      "C:\\Python310\\lib\\site-packages\\sklearn\\linear_model\\_logistic.py:1113: UserWarning: Setting penalty='none' will ignore the C and l1_ratio parameters\n",
      "  warnings.warn(\n"
     ]
    },
    {
     "name": "stdout",
     "output_type": "stream",
     "text": [
      "No of FN: 33\n",
      "5397.219999999999\n",
      "[CV 1/5; 25/96] END C=0.001, penalty=none, solver=newton-cg;, score=-5397.220 total time=   9.9s\n",
      "[CV 2/5; 25/96] START C=0.001, penalty=none, solver=newton-cg...................\n"
     ]
    },
    {
     "name": "stderr",
     "output_type": "stream",
     "text": [
      "C:\\Python310\\lib\\site-packages\\scipy\\optimize\\_linesearch.py:456: LineSearchWarning: The line search algorithm did not converge\n",
      "  warn('The line search algorithm did not converge', LineSearchWarning)\n",
      "C:\\Python310\\lib\\site-packages\\scipy\\optimize\\_linesearch.py:305: LineSearchWarning: The line search algorithm did not converge\n",
      "  warn('The line search algorithm did not converge', LineSearchWarning)\n",
      "C:\\Python310\\lib\\site-packages\\sklearn\\utils\\optimize.py:210: ConvergenceWarning: newton-cg failed to converge. Increase the number of iterations.\n",
      "  warnings.warn(\n",
      "C:\\Python310\\lib\\site-packages\\sklearn\\linear_model\\_logistic.py:1113: UserWarning: Setting penalty='none' will ignore the C and l1_ratio parameters\n",
      "  warnings.warn(\n"
     ]
    },
    {
     "name": "stdout",
     "output_type": "stream",
     "text": [
      "No of FN: 30\n",
      "7092.449999999999\n",
      "[CV 2/5; 25/96] END C=0.001, penalty=none, solver=newton-cg;, score=-7092.450 total time=   9.7s\n",
      "[CV 3/5; 25/96] START C=0.001, penalty=none, solver=newton-cg...................\n"
     ]
    },
    {
     "name": "stderr",
     "output_type": "stream",
     "text": [
      "C:\\Python310\\lib\\site-packages\\scipy\\optimize\\_linesearch.py:456: LineSearchWarning: The line search algorithm did not converge\n",
      "  warn('The line search algorithm did not converge', LineSearchWarning)\n",
      "C:\\Python310\\lib\\site-packages\\scipy\\optimize\\_linesearch.py:305: LineSearchWarning: The line search algorithm did not converge\n",
      "  warn('The line search algorithm did not converge', LineSearchWarning)\n",
      "C:\\Python310\\lib\\site-packages\\sklearn\\utils\\optimize.py:210: ConvergenceWarning: newton-cg failed to converge. Increase the number of iterations.\n",
      "  warnings.warn(\n",
      "C:\\Python310\\lib\\site-packages\\sklearn\\linear_model\\_logistic.py:1113: UserWarning: Setting penalty='none' will ignore the C and l1_ratio parameters\n",
      "  warnings.warn(\n"
     ]
    },
    {
     "name": "stdout",
     "output_type": "stream",
     "text": [
      "No of FN: 28\n",
      "3285.26\n",
      "[CV 3/5; 25/96] END C=0.001, penalty=none, solver=newton-cg;, score=-3285.260 total time=   9.7s\n",
      "[CV 4/5; 25/96] START C=0.001, penalty=none, solver=newton-cg...................\n"
     ]
    },
    {
     "name": "stderr",
     "output_type": "stream",
     "text": [
      "C:\\Python310\\lib\\site-packages\\scipy\\optimize\\_linesearch.py:456: LineSearchWarning: The line search algorithm did not converge\n",
      "  warn('The line search algorithm did not converge', LineSearchWarning)\n",
      "C:\\Python310\\lib\\site-packages\\scipy\\optimize\\_linesearch.py:305: LineSearchWarning: The line search algorithm did not converge\n",
      "  warn('The line search algorithm did not converge', LineSearchWarning)\n",
      "C:\\Python310\\lib\\site-packages\\sklearn\\utils\\optimize.py:210: ConvergenceWarning: newton-cg failed to converge. Increase the number of iterations.\n",
      "  warnings.warn(\n",
      "C:\\Python310\\lib\\site-packages\\sklearn\\linear_model\\_logistic.py:1113: UserWarning: Setting penalty='none' will ignore the C and l1_ratio parameters\n",
      "  warnings.warn(\n"
     ]
    },
    {
     "name": "stdout",
     "output_type": "stream",
     "text": [
      "No of FN: 29\n",
      "4171.469999999999\n",
      "[CV 4/5; 25/96] END C=0.001, penalty=none, solver=newton-cg;, score=-4171.470 total time=   9.4s\n",
      "[CV 5/5; 25/96] START C=0.001, penalty=none, solver=newton-cg...................\n"
     ]
    },
    {
     "name": "stderr",
     "output_type": "stream",
     "text": [
      "C:\\Python310\\lib\\site-packages\\scipy\\optimize\\_linesearch.py:456: LineSearchWarning: The line search algorithm did not converge\n",
      "  warn('The line search algorithm did not converge', LineSearchWarning)\n",
      "C:\\Python310\\lib\\site-packages\\scipy\\optimize\\_linesearch.py:305: LineSearchWarning: The line search algorithm did not converge\n",
      "  warn('The line search algorithm did not converge', LineSearchWarning)\n",
      "C:\\Python310\\lib\\site-packages\\sklearn\\utils\\optimize.py:210: ConvergenceWarning: newton-cg failed to converge. Increase the number of iterations.\n",
      "  warnings.warn(\n",
      "C:\\Python310\\lib\\site-packages\\sklearn\\linear_model\\_logistic.py:1113: UserWarning: Setting penalty='none' will ignore the C and l1_ratio parameters\n",
      "  warnings.warn(\n"
     ]
    },
    {
     "name": "stdout",
     "output_type": "stream",
     "text": [
      "No of FN: 36\n",
      "10254.79\n",
      "[CV 5/5; 25/96] END C=0.001, penalty=none, solver=newton-cg;, score=-10254.790 total time=   9.2s\n",
      "[CV 1/5; 26/96] START C=0.001, penalty=none, solver=lbfgs.......................\n"
     ]
    },
    {
     "name": "stderr",
     "output_type": "stream",
     "text": [
      "C:\\Python310\\lib\\site-packages\\sklearn\\linear_model\\_logistic.py:444: ConvergenceWarning: lbfgs failed to converge (status=1):\n",
      "STOP: TOTAL NO. of ITERATIONS REACHED LIMIT.\n",
      "\n",
      "Increase the number of iterations (max_iter) or scale the data as shown in:\n",
      "    https://scikit-learn.org/stable/modules/preprocessing.html\n",
      "Please also refer to the documentation for alternative solver options:\n",
      "    https://scikit-learn.org/stable/modules/linear_model.html#logistic-regression\n",
      "  n_iter_i = _check_optimize_result(\n",
      "C:\\Python310\\lib\\site-packages\\sklearn\\linear_model\\_logistic.py:1113: UserWarning: Setting penalty='none' will ignore the C and l1_ratio parameters\n",
      "  warnings.warn(\n"
     ]
    },
    {
     "name": "stdout",
     "output_type": "stream",
     "text": [
      "No of FN: 21\n",
      "5005.969999999999\n",
      "[CV 1/5; 26/96] END C=0.001, penalty=none, solver=lbfgs;, score=-5005.970 total time=   1.3s\n",
      "[CV 2/5; 26/96] START C=0.001, penalty=none, solver=lbfgs.......................\n"
     ]
    },
    {
     "name": "stderr",
     "output_type": "stream",
     "text": [
      "C:\\Python310\\lib\\site-packages\\sklearn\\linear_model\\_logistic.py:444: ConvergenceWarning: lbfgs failed to converge (status=1):\n",
      "STOP: TOTAL NO. of ITERATIONS REACHED LIMIT.\n",
      "\n",
      "Increase the number of iterations (max_iter) or scale the data as shown in:\n",
      "    https://scikit-learn.org/stable/modules/preprocessing.html\n",
      "Please also refer to the documentation for alternative solver options:\n",
      "    https://scikit-learn.org/stable/modules/linear_model.html#logistic-regression\n",
      "  n_iter_i = _check_optimize_result(\n",
      "C:\\Python310\\lib\\site-packages\\sklearn\\linear_model\\_logistic.py:1113: UserWarning: Setting penalty='none' will ignore the C and l1_ratio parameters\n",
      "  warnings.warn(\n"
     ]
    },
    {
     "name": "stdout",
     "output_type": "stream",
     "text": [
      "No of FN: 29\n",
      "7263.7300000000005\n",
      "[CV 2/5; 26/96] END C=0.001, penalty=none, solver=lbfgs;, score=-7263.730 total time=   1.3s\n",
      "[CV 3/5; 26/96] START C=0.001, penalty=none, solver=lbfgs.......................\n"
     ]
    },
    {
     "name": "stderr",
     "output_type": "stream",
     "text": [
      "C:\\Python310\\lib\\site-packages\\sklearn\\linear_model\\_logistic.py:444: ConvergenceWarning: lbfgs failed to converge (status=1):\n",
      "STOP: TOTAL NO. of ITERATIONS REACHED LIMIT.\n",
      "\n",
      "Increase the number of iterations (max_iter) or scale the data as shown in:\n",
      "    https://scikit-learn.org/stable/modules/preprocessing.html\n",
      "Please also refer to the documentation for alternative solver options:\n",
      "    https://scikit-learn.org/stable/modules/linear_model.html#logistic-regression\n",
      "  n_iter_i = _check_optimize_result(\n",
      "C:\\Python310\\lib\\site-packages\\sklearn\\linear_model\\_logistic.py:1113: UserWarning: Setting penalty='none' will ignore the C and l1_ratio parameters\n",
      "  warnings.warn(\n"
     ]
    },
    {
     "name": "stdout",
     "output_type": "stream",
     "text": [
      "No of FN: 27\n",
      "4114.3\n",
      "[CV 3/5; 26/96] END C=0.001, penalty=none, solver=lbfgs;, score=-4114.300 total time=   1.3s\n",
      "[CV 4/5; 26/96] START C=0.001, penalty=none, solver=lbfgs.......................\n"
     ]
    },
    {
     "name": "stderr",
     "output_type": "stream",
     "text": [
      "C:\\Python310\\lib\\site-packages\\sklearn\\linear_model\\_logistic.py:444: ConvergenceWarning: lbfgs failed to converge (status=1):\n",
      "STOP: TOTAL NO. of ITERATIONS REACHED LIMIT.\n",
      "\n",
      "Increase the number of iterations (max_iter) or scale the data as shown in:\n",
      "    https://scikit-learn.org/stable/modules/preprocessing.html\n",
      "Please also refer to the documentation for alternative solver options:\n",
      "    https://scikit-learn.org/stable/modules/linear_model.html#logistic-regression\n",
      "  n_iter_i = _check_optimize_result(\n",
      "C:\\Python310\\lib\\site-packages\\sklearn\\linear_model\\_logistic.py:1113: UserWarning: Setting penalty='none' will ignore the C and l1_ratio parameters\n",
      "  warnings.warn(\n"
     ]
    },
    {
     "name": "stdout",
     "output_type": "stream",
     "text": [
      "No of FN: 26\n",
      "3790.4599999999996\n",
      "[CV 4/5; 26/96] END C=0.001, penalty=none, solver=lbfgs;, score=-3790.460 total time=   1.5s\n",
      "[CV 5/5; 26/96] START C=0.001, penalty=none, solver=lbfgs.......................\n"
     ]
    },
    {
     "name": "stderr",
     "output_type": "stream",
     "text": [
      "C:\\Python310\\lib\\site-packages\\sklearn\\linear_model\\_logistic.py:444: ConvergenceWarning: lbfgs failed to converge (status=1):\n",
      "STOP: TOTAL NO. of ITERATIONS REACHED LIMIT.\n",
      "\n",
      "Increase the number of iterations (max_iter) or scale the data as shown in:\n",
      "    https://scikit-learn.org/stable/modules/preprocessing.html\n",
      "Please also refer to the documentation for alternative solver options:\n",
      "    https://scikit-learn.org/stable/modules/linear_model.html#logistic-regression\n",
      "  n_iter_i = _check_optimize_result(\n"
     ]
    },
    {
     "name": "stdout",
     "output_type": "stream",
     "text": [
      "No of FN: 39\n",
      "11250.080000000002\n",
      "[CV 5/5; 26/96] END C=0.001, penalty=none, solver=lbfgs;, score=-11250.080 total time=   1.5s\n",
      "[CV 1/5; 27/96] START C=0.001, penalty=none, solver=liblinear...................\n",
      "[CV 1/5; 27/96] END C=0.001, penalty=none, solver=liblinear;, score=nan total time=   0.0s\n",
      "[CV 2/5; 27/96] START C=0.001, penalty=none, solver=liblinear...................\n",
      "[CV 2/5; 27/96] END C=0.001, penalty=none, solver=liblinear;, score=nan total time=   0.0s\n",
      "[CV 3/5; 27/96] START C=0.001, penalty=none, solver=liblinear...................\n",
      "[CV 3/5; 27/96] END C=0.001, penalty=none, solver=liblinear;, score=nan total time=   0.0s\n",
      "[CV 4/5; 27/96] START C=0.001, penalty=none, solver=liblinear...................\n",
      "[CV 4/5; 27/96] END C=0.001, penalty=none, solver=liblinear;, score=nan total time=   0.0s\n",
      "[CV 5/5; 27/96] START C=0.001, penalty=none, solver=liblinear...................\n",
      "[CV 5/5; 27/96] END C=0.001, penalty=none, solver=liblinear;, score=nan total time=   0.0s\n",
      "[CV 1/5; 28/96] START C=0.001, penalty=l1, solver=newton-cg.....................\n",
      "[CV 1/5; 28/96] END C=0.001, penalty=l1, solver=newton-cg;, score=nan total time=   0.0s\n",
      "[CV 2/5; 28/96] START C=0.001, penalty=l1, solver=newton-cg.....................\n",
      "[CV 2/5; 28/96] END C=0.001, penalty=l1, solver=newton-cg;, score=nan total time=   0.0s\n",
      "[CV 3/5; 28/96] START C=0.001, penalty=l1, solver=newton-cg.....................\n",
      "[CV 3/5; 28/96] END C=0.001, penalty=l1, solver=newton-cg;, score=nan total time=   0.0s\n",
      "[CV 4/5; 28/96] START C=0.001, penalty=l1, solver=newton-cg.....................\n",
      "[CV 4/5; 28/96] END C=0.001, penalty=l1, solver=newton-cg;, score=nan total time=   0.0s\n",
      "[CV 5/5; 28/96] START C=0.001, penalty=l1, solver=newton-cg.....................\n",
      "[CV 5/5; 28/96] END C=0.001, penalty=l1, solver=newton-cg;, score=nan total time=   0.0s\n",
      "[CV 1/5; 29/96] START C=0.001, penalty=l1, solver=lbfgs.........................\n",
      "[CV 1/5; 29/96] END C=0.001, penalty=l1, solver=lbfgs;, score=nan total time=   0.0s\n",
      "[CV 2/5; 29/96] START C=0.001, penalty=l1, solver=lbfgs.........................\n",
      "[CV 2/5; 29/96] END C=0.001, penalty=l1, solver=lbfgs;, score=nan total time=   0.0s\n",
      "[CV 3/5; 29/96] START C=0.001, penalty=l1, solver=lbfgs.........................\n",
      "[CV 3/5; 29/96] END C=0.001, penalty=l1, solver=lbfgs;, score=nan total time=   0.0s\n",
      "[CV 4/5; 29/96] START C=0.001, penalty=l1, solver=lbfgs.........................\n",
      "[CV 4/5; 29/96] END C=0.001, penalty=l1, solver=lbfgs;, score=nan total time=   0.0s\n",
      "[CV 5/5; 29/96] START C=0.001, penalty=l1, solver=lbfgs.........................\n",
      "[CV 5/5; 29/96] END C=0.001, penalty=l1, solver=lbfgs;, score=nan total time=   0.0s\n",
      "[CV 1/5; 30/96] START C=0.001, penalty=l1, solver=liblinear.....................\n",
      "No of FN: 53\n",
      "6742.549999999998\n",
      "[CV 1/5; 30/96] END C=0.001, penalty=l1, solver=liblinear;, score=-6742.550 total time=   0.4s\n",
      "[CV 2/5; 30/96] START C=0.001, penalty=l1, solver=liblinear.....................\n",
      "No of FN: 54\n",
      "9240.529999999997\n",
      "[CV 2/5; 30/96] END C=0.001, penalty=l1, solver=liblinear;, score=-9240.530 total time=   0.4s\n",
      "[CV 3/5; 30/96] START C=0.001, penalty=l1, solver=liblinear.....................\n",
      "No of FN: 54\n",
      "5437.960000000002\n",
      "[CV 3/5; 30/96] END C=0.001, penalty=l1, solver=liblinear;, score=-5437.960 total time=   0.4s\n",
      "[CV 4/5; 30/96] START C=0.001, penalty=l1, solver=liblinear.....................\n",
      "No of FN: 56\n",
      "6475.940000000001\n",
      "[CV 4/5; 30/96] END C=0.001, penalty=l1, solver=liblinear;, score=-6475.940 total time=   0.4s\n",
      "[CV 5/5; 30/96] START C=0.001, penalty=l1, solver=liblinear.....................\n",
      "No of FN: 60\n",
      "15286.720000000001\n",
      "[CV 5/5; 30/96] END C=0.001, penalty=l1, solver=liblinear;, score=-15286.720 total time=   0.4s\n",
      "[CV 1/5; 31/96] START C=0.001, penalty=l2, solver=newton-cg.....................\n"
     ]
    },
    {
     "name": "stderr",
     "output_type": "stream",
     "text": [
      "C:\\Python310\\lib\\site-packages\\sklearn\\utils\\optimize.py:210: ConvergenceWarning: newton-cg failed to converge. Increase the number of iterations.\n",
      "  warnings.warn(\n"
     ]
    },
    {
     "name": "stdout",
     "output_type": "stream",
     "text": [
      "No of FN: 39\n",
      "5640.53\n",
      "[CV 1/5; 31/96] END C=0.001, penalty=l2, solver=newton-cg;, score=-5640.530 total time=   9.6s\n",
      "[CV 2/5; 31/96] START C=0.001, penalty=l2, solver=newton-cg.....................\n"
     ]
    },
    {
     "name": "stderr",
     "output_type": "stream",
     "text": [
      "C:\\Python310\\lib\\site-packages\\scipy\\optimize\\_linesearch.py:456: LineSearchWarning: The line search algorithm did not converge\n",
      "  warn('The line search algorithm did not converge', LineSearchWarning)\n",
      "C:\\Python310\\lib\\site-packages\\scipy\\optimize\\_linesearch.py:305: LineSearchWarning: The line search algorithm did not converge\n",
      "  warn('The line search algorithm did not converge', LineSearchWarning)\n",
      "C:\\Python310\\lib\\site-packages\\sklearn\\utils\\optimize.py:210: ConvergenceWarning: newton-cg failed to converge. Increase the number of iterations.\n",
      "  warnings.warn(\n"
     ]
    },
    {
     "name": "stdout",
     "output_type": "stream",
     "text": [
      "No of FN: 42\n",
      "8865.479999999998\n",
      "[CV 2/5; 31/96] END C=0.001, penalty=l2, solver=newton-cg;, score=-8865.480 total time=   9.5s\n",
      "[CV 3/5; 31/96] START C=0.001, penalty=l2, solver=newton-cg.....................\n"
     ]
    },
    {
     "name": "stderr",
     "output_type": "stream",
     "text": [
      "C:\\Python310\\lib\\site-packages\\scipy\\optimize\\_linesearch.py:456: LineSearchWarning: The line search algorithm did not converge\n",
      "  warn('The line search algorithm did not converge', LineSearchWarning)\n",
      "C:\\Python310\\lib\\site-packages\\scipy\\optimize\\_linesearch.py:305: LineSearchWarning: The line search algorithm did not converge\n",
      "  warn('The line search algorithm did not converge', LineSearchWarning)\n",
      "C:\\Python310\\lib\\site-packages\\sklearn\\utils\\optimize.py:210: ConvergenceWarning: newton-cg failed to converge. Increase the number of iterations.\n",
      "  warnings.warn(\n"
     ]
    },
    {
     "name": "stdout",
     "output_type": "stream",
     "text": [
      "No of FN: 33\n",
      "3594.96\n",
      "[CV 3/5; 31/96] END C=0.001, penalty=l2, solver=newton-cg;, score=-3594.960 total time=   9.7s\n",
      "[CV 4/5; 31/96] START C=0.001, penalty=l2, solver=newton-cg.....................\n"
     ]
    },
    {
     "name": "stderr",
     "output_type": "stream",
     "text": [
      "C:\\Python310\\lib\\site-packages\\scipy\\optimize\\_linesearch.py:456: LineSearchWarning: The line search algorithm did not converge\n",
      "  warn('The line search algorithm did not converge', LineSearchWarning)\n",
      "C:\\Python310\\lib\\site-packages\\scipy\\optimize\\_linesearch.py:305: LineSearchWarning: The line search algorithm did not converge\n",
      "  warn('The line search algorithm did not converge', LineSearchWarning)\n",
      "C:\\Python310\\lib\\site-packages\\sklearn\\utils\\optimize.py:210: ConvergenceWarning: newton-cg failed to converge. Increase the number of iterations.\n",
      "  warnings.warn(\n"
     ]
    },
    {
     "name": "stdout",
     "output_type": "stream",
     "text": [
      "No of FN: 35\n",
      "4315.65\n",
      "[CV 4/5; 31/96] END C=0.001, penalty=l2, solver=newton-cg;, score=-4315.650 total time=   9.8s\n",
      "[CV 5/5; 31/96] START C=0.001, penalty=l2, solver=newton-cg.....................\n"
     ]
    },
    {
     "name": "stderr",
     "output_type": "stream",
     "text": [
      "C:\\Python310\\lib\\site-packages\\scipy\\optimize\\_linesearch.py:456: LineSearchWarning: The line search algorithm did not converge\n",
      "  warn('The line search algorithm did not converge', LineSearchWarning)\n",
      "C:\\Python310\\lib\\site-packages\\scipy\\optimize\\_linesearch.py:305: LineSearchWarning: The line search algorithm did not converge\n",
      "  warn('The line search algorithm did not converge', LineSearchWarning)\n",
      "C:\\Python310\\lib\\site-packages\\sklearn\\utils\\optimize.py:210: ConvergenceWarning: newton-cg failed to converge. Increase the number of iterations.\n",
      "  warnings.warn(\n"
     ]
    },
    {
     "name": "stdout",
     "output_type": "stream",
     "text": [
      "No of FN: 48\n",
      "12442.04\n",
      "[CV 5/5; 31/96] END C=0.001, penalty=l2, solver=newton-cg;, score=-12442.040 total time=  10.0s\n",
      "[CV 1/5; 32/96] START C=0.001, penalty=l2, solver=lbfgs.........................\n"
     ]
    },
    {
     "name": "stderr",
     "output_type": "stream",
     "text": [
      "C:\\Python310\\lib\\site-packages\\sklearn\\linear_model\\_logistic.py:444: ConvergenceWarning: lbfgs failed to converge (status=1):\n",
      "STOP: TOTAL NO. of ITERATIONS REACHED LIMIT.\n",
      "\n",
      "Increase the number of iterations (max_iter) or scale the data as shown in:\n",
      "    https://scikit-learn.org/stable/modules/preprocessing.html\n",
      "Please also refer to the documentation for alternative solver options:\n",
      "    https://scikit-learn.org/stable/modules/linear_model.html#logistic-regression\n",
      "  n_iter_i = _check_optimize_result(\n"
     ]
    },
    {
     "name": "stdout",
     "output_type": "stream",
     "text": [
      "No of FN: 36\n",
      "6022.91\n",
      "[CV 1/5; 32/96] END C=0.001, penalty=l2, solver=lbfgs;, score=-6022.910 total time=   1.3s\n",
      "[CV 2/5; 32/96] START C=0.001, penalty=l2, solver=lbfgs.........................\n"
     ]
    },
    {
     "name": "stderr",
     "output_type": "stream",
     "text": [
      "C:\\Python310\\lib\\site-packages\\sklearn\\linear_model\\_logistic.py:444: ConvergenceWarning: lbfgs failed to converge (status=1):\n",
      "STOP: TOTAL NO. of ITERATIONS REACHED LIMIT.\n",
      "\n",
      "Increase the number of iterations (max_iter) or scale the data as shown in:\n",
      "    https://scikit-learn.org/stable/modules/preprocessing.html\n",
      "Please also refer to the documentation for alternative solver options:\n",
      "    https://scikit-learn.org/stable/modules/linear_model.html#logistic-regression\n",
      "  n_iter_i = _check_optimize_result(\n"
     ]
    },
    {
     "name": "stdout",
     "output_type": "stream",
     "text": [
      "No of FN: 37\n",
      "8284.869999999999\n",
      "[CV 2/5; 32/96] END C=0.001, penalty=l2, solver=lbfgs;, score=-8284.870 total time=   1.3s\n",
      "[CV 3/5; 32/96] START C=0.001, penalty=l2, solver=lbfgs.........................\n",
      "No of FN: 33\n",
      "4084.5899999999997\n",
      "[CV 3/5; 32/96] END C=0.001, penalty=l2, solver=lbfgs;, score=-4084.590 total time=   0.8s\n",
      "[CV 4/5; 32/96] START C=0.001, penalty=l2, solver=lbfgs.........................\n"
     ]
    },
    {
     "name": "stderr",
     "output_type": "stream",
     "text": [
      "C:\\Python310\\lib\\site-packages\\sklearn\\linear_model\\_logistic.py:444: ConvergenceWarning: lbfgs failed to converge (status=1):\n",
      "STOP: TOTAL NO. of ITERATIONS REACHED LIMIT.\n",
      "\n",
      "Increase the number of iterations (max_iter) or scale the data as shown in:\n",
      "    https://scikit-learn.org/stable/modules/preprocessing.html\n",
      "Please also refer to the documentation for alternative solver options:\n",
      "    https://scikit-learn.org/stable/modules/linear_model.html#logistic-regression\n",
      "  n_iter_i = _check_optimize_result(\n"
     ]
    },
    {
     "name": "stdout",
     "output_type": "stream",
     "text": [
      "No of FN: 43\n",
      "5098.929999999999\n",
      "[CV 4/5; 32/96] END C=0.001, penalty=l2, solver=lbfgs;, score=-5098.930 total time=   1.3s\n",
      "[CV 5/5; 32/96] START C=0.001, penalty=l2, solver=lbfgs.........................\n"
     ]
    },
    {
     "name": "stderr",
     "output_type": "stream",
     "text": [
      "C:\\Python310\\lib\\site-packages\\sklearn\\linear_model\\_logistic.py:444: ConvergenceWarning: lbfgs failed to converge (status=1):\n",
      "STOP: TOTAL NO. of ITERATIONS REACHED LIMIT.\n",
      "\n",
      "Increase the number of iterations (max_iter) or scale the data as shown in:\n",
      "    https://scikit-learn.org/stable/modules/preprocessing.html\n",
      "Please also refer to the documentation for alternative solver options:\n",
      "    https://scikit-learn.org/stable/modules/linear_model.html#logistic-regression\n",
      "  n_iter_i = _check_optimize_result(\n"
     ]
    },
    {
     "name": "stdout",
     "output_type": "stream",
     "text": [
      "No of FN: 47\n",
      "12479.910000000002\n",
      "[CV 5/5; 32/96] END C=0.001, penalty=l2, solver=lbfgs;, score=-12479.910 total time=   1.5s\n",
      "[CV 1/5; 33/96] START C=0.001, penalty=l2, solver=liblinear.....................\n",
      "No of FN: 34\n",
      "5987.46\n",
      "[CV 1/5; 33/96] END C=0.001, penalty=l2, solver=liblinear;, score=-5987.460 total time=   1.6s\n",
      "[CV 2/5; 33/96] START C=0.001, penalty=l2, solver=liblinear.....................\n",
      "No of FN: 42\n",
      "8796.289999999997\n",
      "[CV 2/5; 33/96] END C=0.001, penalty=l2, solver=liblinear;, score=-8796.290 total time=   1.6s\n",
      "[CV 3/5; 33/96] START C=0.001, penalty=l2, solver=liblinear.....................\n",
      "No of FN: 38\n",
      "4406.5\n",
      "[CV 3/5; 33/96] END C=0.001, penalty=l2, solver=liblinear;, score=-4406.500 total time=   1.5s\n",
      "[CV 4/5; 33/96] START C=0.001, penalty=l2, solver=liblinear.....................\n",
      "No of FN: 40\n",
      "4380.389999999999\n",
      "[CV 4/5; 33/96] END C=0.001, penalty=l2, solver=liblinear;, score=-4380.390 total time=   1.4s\n",
      "[CV 5/5; 33/96] START C=0.001, penalty=l2, solver=liblinear.....................\n",
      "No of FN: 48\n",
      "13658.800000000001\n",
      "[CV 5/5; 33/96] END C=0.001, penalty=l2, solver=liblinear;, score=-13658.800 total time=   1.3s\n",
      "[CV 1/5; 34/96] START C=0.001, penalty=elasticnet, solver=newton-cg.............\n",
      "[CV 1/5; 34/96] END C=0.001, penalty=elasticnet, solver=newton-cg;, score=nan total time=   0.0s\n",
      "[CV 2/5; 34/96] START C=0.001, penalty=elasticnet, solver=newton-cg.............\n",
      "[CV 2/5; 34/96] END C=0.001, penalty=elasticnet, solver=newton-cg;, score=nan total time=   0.0s\n",
      "[CV 3/5; 34/96] START C=0.001, penalty=elasticnet, solver=newton-cg.............\n",
      "[CV 3/5; 34/96] END C=0.001, penalty=elasticnet, solver=newton-cg;, score=nan total time=   0.0s\n",
      "[CV 4/5; 34/96] START C=0.001, penalty=elasticnet, solver=newton-cg.............\n",
      "[CV 4/5; 34/96] END C=0.001, penalty=elasticnet, solver=newton-cg;, score=nan total time=   0.0s\n",
      "[CV 5/5; 34/96] START C=0.001, penalty=elasticnet, solver=newton-cg.............\n",
      "[CV 5/5; 34/96] END C=0.001, penalty=elasticnet, solver=newton-cg;, score=nan total time=   0.0s\n",
      "[CV 1/5; 35/96] START C=0.001, penalty=elasticnet, solver=lbfgs.................\n",
      "[CV 1/5; 35/96] END C=0.001, penalty=elasticnet, solver=lbfgs;, score=nan total time=   0.0s\n",
      "[CV 2/5; 35/96] START C=0.001, penalty=elasticnet, solver=lbfgs.................\n",
      "[CV 2/5; 35/96] END C=0.001, penalty=elasticnet, solver=lbfgs;, score=nan total time=   0.0s\n",
      "[CV 3/5; 35/96] START C=0.001, penalty=elasticnet, solver=lbfgs.................\n",
      "[CV 3/5; 35/96] END C=0.001, penalty=elasticnet, solver=lbfgs;, score=nan total time=   0.0s\n",
      "[CV 4/5; 35/96] START C=0.001, penalty=elasticnet, solver=lbfgs.................\n",
      "[CV 4/5; 35/96] END C=0.001, penalty=elasticnet, solver=lbfgs;, score=nan total time=   0.0s\n",
      "[CV 5/5; 35/96] START C=0.001, penalty=elasticnet, solver=lbfgs.................\n",
      "[CV 5/5; 35/96] END C=0.001, penalty=elasticnet, solver=lbfgs;, score=nan total time=   0.0s\n",
      "[CV 1/5; 36/96] START C=0.001, penalty=elasticnet, solver=liblinear.............\n",
      "[CV 1/5; 36/96] END C=0.001, penalty=elasticnet, solver=liblinear;, score=nan total time=   0.0s\n",
      "[CV 2/5; 36/96] START C=0.001, penalty=elasticnet, solver=liblinear.............\n",
      "[CV 2/5; 36/96] END C=0.001, penalty=elasticnet, solver=liblinear;, score=nan total time=   0.0s\n",
      "[CV 3/5; 36/96] START C=0.001, penalty=elasticnet, solver=liblinear.............\n",
      "[CV 3/5; 36/96] END C=0.001, penalty=elasticnet, solver=liblinear;, score=nan total time=   0.0s\n",
      "[CV 4/5; 36/96] START C=0.001, penalty=elasticnet, solver=liblinear.............\n",
      "[CV 4/5; 36/96] END C=0.001, penalty=elasticnet, solver=liblinear;, score=nan total time=   0.0s\n",
      "[CV 5/5; 36/96] START C=0.001, penalty=elasticnet, solver=liblinear.............\n",
      "[CV 5/5; 36/96] END C=0.001, penalty=elasticnet, solver=liblinear;, score=nan total time=   0.0s\n",
      "[CV 1/5; 37/96] START C=0.01, penalty=none, solver=newton-cg....................\n"
     ]
    },
    {
     "name": "stderr",
     "output_type": "stream",
     "text": [
      "C:\\Python310\\lib\\site-packages\\sklearn\\linear_model\\_logistic.py:1113: UserWarning: Setting penalty='none' will ignore the C and l1_ratio parameters\n",
      "  warnings.warn(\n",
      "C:\\Python310\\lib\\site-packages\\scipy\\optimize\\_linesearch.py:456: LineSearchWarning: The line search algorithm did not converge\n",
      "  warn('The line search algorithm did not converge', LineSearchWarning)\n",
      "C:\\Python310\\lib\\site-packages\\scipy\\optimize\\_linesearch.py:305: LineSearchWarning: The line search algorithm did not converge\n",
      "  warn('The line search algorithm did not converge', LineSearchWarning)\n",
      "C:\\Python310\\lib\\site-packages\\sklearn\\utils\\optimize.py:210: ConvergenceWarning: newton-cg failed to converge. Increase the number of iterations.\n",
      "  warnings.warn(\n",
      "C:\\Python310\\lib\\site-packages\\sklearn\\linear_model\\_logistic.py:1113: UserWarning: Setting penalty='none' will ignore the C and l1_ratio parameters\n",
      "  warnings.warn(\n"
     ]
    },
    {
     "name": "stdout",
     "output_type": "stream",
     "text": [
      "No of FN: 33\n",
      "5397.219999999999\n",
      "[CV 1/5; 37/96] END C=0.01, penalty=none, solver=newton-cg;, score=-5397.220 total time=  10.0s\n",
      "[CV 2/5; 37/96] START C=0.01, penalty=none, solver=newton-cg....................\n"
     ]
    },
    {
     "name": "stderr",
     "output_type": "stream",
     "text": [
      "C:\\Python310\\lib\\site-packages\\scipy\\optimize\\_linesearch.py:456: LineSearchWarning: The line search algorithm did not converge\n",
      "  warn('The line search algorithm did not converge', LineSearchWarning)\n",
      "C:\\Python310\\lib\\site-packages\\scipy\\optimize\\_linesearch.py:305: LineSearchWarning: The line search algorithm did not converge\n",
      "  warn('The line search algorithm did not converge', LineSearchWarning)\n",
      "C:\\Python310\\lib\\site-packages\\sklearn\\utils\\optimize.py:210: ConvergenceWarning: newton-cg failed to converge. Increase the number of iterations.\n",
      "  warnings.warn(\n",
      "C:\\Python310\\lib\\site-packages\\sklearn\\linear_model\\_logistic.py:1113: UserWarning: Setting penalty='none' will ignore the C and l1_ratio parameters\n",
      "  warnings.warn(\n"
     ]
    },
    {
     "name": "stdout",
     "output_type": "stream",
     "text": [
      "No of FN: 30\n",
      "7092.449999999999\n",
      "[CV 2/5; 37/96] END C=0.01, penalty=none, solver=newton-cg;, score=-7092.450 total time=   9.7s\n",
      "[CV 3/5; 37/96] START C=0.01, penalty=none, solver=newton-cg....................\n"
     ]
    },
    {
     "name": "stderr",
     "output_type": "stream",
     "text": [
      "C:\\Python310\\lib\\site-packages\\scipy\\optimize\\_linesearch.py:456: LineSearchWarning: The line search algorithm did not converge\n",
      "  warn('The line search algorithm did not converge', LineSearchWarning)\n",
      "C:\\Python310\\lib\\site-packages\\scipy\\optimize\\_linesearch.py:305: LineSearchWarning: The line search algorithm did not converge\n",
      "  warn('The line search algorithm did not converge', LineSearchWarning)\n",
      "C:\\Python310\\lib\\site-packages\\sklearn\\utils\\optimize.py:210: ConvergenceWarning: newton-cg failed to converge. Increase the number of iterations.\n",
      "  warnings.warn(\n",
      "C:\\Python310\\lib\\site-packages\\sklearn\\linear_model\\_logistic.py:1113: UserWarning: Setting penalty='none' will ignore the C and l1_ratio parameters\n",
      "  warnings.warn(\n"
     ]
    },
    {
     "name": "stdout",
     "output_type": "stream",
     "text": [
      "No of FN: 28\n",
      "3285.26\n",
      "[CV 3/5; 37/96] END C=0.01, penalty=none, solver=newton-cg;, score=-3285.260 total time=   9.7s\n",
      "[CV 4/5; 37/96] START C=0.01, penalty=none, solver=newton-cg....................\n"
     ]
    },
    {
     "name": "stderr",
     "output_type": "stream",
     "text": [
      "C:\\Python310\\lib\\site-packages\\scipy\\optimize\\_linesearch.py:456: LineSearchWarning: The line search algorithm did not converge\n",
      "  warn('The line search algorithm did not converge', LineSearchWarning)\n",
      "C:\\Python310\\lib\\site-packages\\scipy\\optimize\\_linesearch.py:305: LineSearchWarning: The line search algorithm did not converge\n",
      "  warn('The line search algorithm did not converge', LineSearchWarning)\n",
      "C:\\Python310\\lib\\site-packages\\sklearn\\utils\\optimize.py:210: ConvergenceWarning: newton-cg failed to converge. Increase the number of iterations.\n",
      "  warnings.warn(\n",
      "C:\\Python310\\lib\\site-packages\\sklearn\\linear_model\\_logistic.py:1113: UserWarning: Setting penalty='none' will ignore the C and l1_ratio parameters\n",
      "  warnings.warn(\n"
     ]
    },
    {
     "name": "stdout",
     "output_type": "stream",
     "text": [
      "No of FN: 29\n",
      "4171.469999999999\n",
      "[CV 4/5; 37/96] END C=0.01, penalty=none, solver=newton-cg;, score=-4171.470 total time=   9.4s\n",
      "[CV 5/5; 37/96] START C=0.01, penalty=none, solver=newton-cg....................\n"
     ]
    },
    {
     "name": "stderr",
     "output_type": "stream",
     "text": [
      "C:\\Python310\\lib\\site-packages\\scipy\\optimize\\_linesearch.py:456: LineSearchWarning: The line search algorithm did not converge\n",
      "  warn('The line search algorithm did not converge', LineSearchWarning)\n",
      "C:\\Python310\\lib\\site-packages\\scipy\\optimize\\_linesearch.py:305: LineSearchWarning: The line search algorithm did not converge\n",
      "  warn('The line search algorithm did not converge', LineSearchWarning)\n",
      "C:\\Python310\\lib\\site-packages\\sklearn\\utils\\optimize.py:210: ConvergenceWarning: newton-cg failed to converge. Increase the number of iterations.\n",
      "  warnings.warn(\n",
      "C:\\Python310\\lib\\site-packages\\sklearn\\linear_model\\_logistic.py:1113: UserWarning: Setting penalty='none' will ignore the C and l1_ratio parameters\n",
      "  warnings.warn(\n"
     ]
    },
    {
     "name": "stdout",
     "output_type": "stream",
     "text": [
      "No of FN: 36\n",
      "10254.79\n",
      "[CV 5/5; 37/96] END C=0.01, penalty=none, solver=newton-cg;, score=-10254.790 total time=   9.2s\n",
      "[CV 1/5; 38/96] START C=0.01, penalty=none, solver=lbfgs........................\n"
     ]
    },
    {
     "name": "stderr",
     "output_type": "stream",
     "text": [
      "C:\\Python310\\lib\\site-packages\\sklearn\\linear_model\\_logistic.py:444: ConvergenceWarning: lbfgs failed to converge (status=1):\n",
      "STOP: TOTAL NO. of ITERATIONS REACHED LIMIT.\n",
      "\n",
      "Increase the number of iterations (max_iter) or scale the data as shown in:\n",
      "    https://scikit-learn.org/stable/modules/preprocessing.html\n",
      "Please also refer to the documentation for alternative solver options:\n",
      "    https://scikit-learn.org/stable/modules/linear_model.html#logistic-regression\n",
      "  n_iter_i = _check_optimize_result(\n",
      "C:\\Python310\\lib\\site-packages\\sklearn\\linear_model\\_logistic.py:1113: UserWarning: Setting penalty='none' will ignore the C and l1_ratio parameters\n",
      "  warnings.warn(\n"
     ]
    },
    {
     "name": "stdout",
     "output_type": "stream",
     "text": [
      "No of FN: 21\n",
      "5005.969999999999\n",
      "[CV 1/5; 38/96] END C=0.01, penalty=none, solver=lbfgs;, score=-5005.970 total time=   1.3s\n",
      "[CV 2/5; 38/96] START C=0.01, penalty=none, solver=lbfgs........................\n"
     ]
    },
    {
     "name": "stderr",
     "output_type": "stream",
     "text": [
      "C:\\Python310\\lib\\site-packages\\sklearn\\linear_model\\_logistic.py:444: ConvergenceWarning: lbfgs failed to converge (status=1):\n",
      "STOP: TOTAL NO. of ITERATIONS REACHED LIMIT.\n",
      "\n",
      "Increase the number of iterations (max_iter) or scale the data as shown in:\n",
      "    https://scikit-learn.org/stable/modules/preprocessing.html\n",
      "Please also refer to the documentation for alternative solver options:\n",
      "    https://scikit-learn.org/stable/modules/linear_model.html#logistic-regression\n",
      "  n_iter_i = _check_optimize_result(\n",
      "C:\\Python310\\lib\\site-packages\\sklearn\\linear_model\\_logistic.py:1113: UserWarning: Setting penalty='none' will ignore the C and l1_ratio parameters\n",
      "  warnings.warn(\n"
     ]
    },
    {
     "name": "stdout",
     "output_type": "stream",
     "text": [
      "No of FN: 29\n",
      "7263.7300000000005\n",
      "[CV 2/5; 38/96] END C=0.01, penalty=none, solver=lbfgs;, score=-7263.730 total time=   1.3s\n",
      "[CV 3/5; 38/96] START C=0.01, penalty=none, solver=lbfgs........................\n"
     ]
    },
    {
     "name": "stderr",
     "output_type": "stream",
     "text": [
      "C:\\Python310\\lib\\site-packages\\sklearn\\linear_model\\_logistic.py:444: ConvergenceWarning: lbfgs failed to converge (status=1):\n",
      "STOP: TOTAL NO. of ITERATIONS REACHED LIMIT.\n",
      "\n",
      "Increase the number of iterations (max_iter) or scale the data as shown in:\n",
      "    https://scikit-learn.org/stable/modules/preprocessing.html\n",
      "Please also refer to the documentation for alternative solver options:\n",
      "    https://scikit-learn.org/stable/modules/linear_model.html#logistic-regression\n",
      "  n_iter_i = _check_optimize_result(\n",
      "C:\\Python310\\lib\\site-packages\\sklearn\\linear_model\\_logistic.py:1113: UserWarning: Setting penalty='none' will ignore the C and l1_ratio parameters\n",
      "  warnings.warn(\n"
     ]
    },
    {
     "name": "stdout",
     "output_type": "stream",
     "text": [
      "No of FN: 27\n",
      "4114.3\n",
      "[CV 3/5; 38/96] END C=0.01, penalty=none, solver=lbfgs;, score=-4114.300 total time=   1.4s\n",
      "[CV 4/5; 38/96] START C=0.01, penalty=none, solver=lbfgs........................\n"
     ]
    },
    {
     "name": "stderr",
     "output_type": "stream",
     "text": [
      "C:\\Python310\\lib\\site-packages\\sklearn\\linear_model\\_logistic.py:444: ConvergenceWarning: lbfgs failed to converge (status=1):\n",
      "STOP: TOTAL NO. of ITERATIONS REACHED LIMIT.\n",
      "\n",
      "Increase the number of iterations (max_iter) or scale the data as shown in:\n",
      "    https://scikit-learn.org/stable/modules/preprocessing.html\n",
      "Please also refer to the documentation for alternative solver options:\n",
      "    https://scikit-learn.org/stable/modules/linear_model.html#logistic-regression\n",
      "  n_iter_i = _check_optimize_result(\n",
      "C:\\Python310\\lib\\site-packages\\sklearn\\linear_model\\_logistic.py:1113: UserWarning: Setting penalty='none' will ignore the C and l1_ratio parameters\n",
      "  warnings.warn(\n"
     ]
    },
    {
     "name": "stdout",
     "output_type": "stream",
     "text": [
      "No of FN: 26\n",
      "3790.4599999999996\n",
      "[CV 4/5; 38/96] END C=0.01, penalty=none, solver=lbfgs;, score=-3790.460 total time=   1.5s\n",
      "[CV 5/5; 38/96] START C=0.01, penalty=none, solver=lbfgs........................\n"
     ]
    },
    {
     "name": "stderr",
     "output_type": "stream",
     "text": [
      "C:\\Python310\\lib\\site-packages\\sklearn\\linear_model\\_logistic.py:444: ConvergenceWarning: lbfgs failed to converge (status=1):\n",
      "STOP: TOTAL NO. of ITERATIONS REACHED LIMIT.\n",
      "\n",
      "Increase the number of iterations (max_iter) or scale the data as shown in:\n",
      "    https://scikit-learn.org/stable/modules/preprocessing.html\n",
      "Please also refer to the documentation for alternative solver options:\n",
      "    https://scikit-learn.org/stable/modules/linear_model.html#logistic-regression\n",
      "  n_iter_i = _check_optimize_result(\n"
     ]
    },
    {
     "name": "stdout",
     "output_type": "stream",
     "text": [
      "No of FN: 39\n",
      "11250.080000000002\n",
      "[CV 5/5; 38/96] END C=0.01, penalty=none, solver=lbfgs;, score=-11250.080 total time=   1.5s\n",
      "[CV 1/5; 39/96] START C=0.01, penalty=none, solver=liblinear....................\n",
      "[CV 1/5; 39/96] END C=0.01, penalty=none, solver=liblinear;, score=nan total time=   0.0s\n",
      "[CV 2/5; 39/96] START C=0.01, penalty=none, solver=liblinear....................\n",
      "[CV 2/5; 39/96] END C=0.01, penalty=none, solver=liblinear;, score=nan total time=   0.0s\n",
      "[CV 3/5; 39/96] START C=0.01, penalty=none, solver=liblinear....................\n",
      "[CV 3/5; 39/96] END C=0.01, penalty=none, solver=liblinear;, score=nan total time=   0.0s\n",
      "[CV 4/5; 39/96] START C=0.01, penalty=none, solver=liblinear....................\n",
      "[CV 4/5; 39/96] END C=0.01, penalty=none, solver=liblinear;, score=nan total time=   0.0s\n",
      "[CV 5/5; 39/96] START C=0.01, penalty=none, solver=liblinear....................\n",
      "[CV 5/5; 39/96] END C=0.01, penalty=none, solver=liblinear;, score=nan total time=   0.0s\n",
      "[CV 1/5; 40/96] START C=0.01, penalty=l1, solver=newton-cg......................\n",
      "[CV 1/5; 40/96] END C=0.01, penalty=l1, solver=newton-cg;, score=nan total time=   0.0s\n",
      "[CV 2/5; 40/96] START C=0.01, penalty=l1, solver=newton-cg......................\n",
      "[CV 2/5; 40/96] END C=0.01, penalty=l1, solver=newton-cg;, score=nan total time=   0.0s\n",
      "[CV 3/5; 40/96] START C=0.01, penalty=l1, solver=newton-cg......................\n",
      "[CV 3/5; 40/96] END C=0.01, penalty=l1, solver=newton-cg;, score=nan total time=   0.0s\n",
      "[CV 4/5; 40/96] START C=0.01, penalty=l1, solver=newton-cg......................\n",
      "[CV 4/5; 40/96] END C=0.01, penalty=l1, solver=newton-cg;, score=nan total time=   0.0s\n",
      "[CV 5/5; 40/96] START C=0.01, penalty=l1, solver=newton-cg......................\n",
      "[CV 5/5; 40/96] END C=0.01, penalty=l1, solver=newton-cg;, score=nan total time=   0.0s\n",
      "[CV 1/5; 41/96] START C=0.01, penalty=l1, solver=lbfgs..........................\n",
      "[CV 1/5; 41/96] END C=0.01, penalty=l1, solver=lbfgs;, score=nan total time=   0.0s\n",
      "[CV 2/5; 41/96] START C=0.01, penalty=l1, solver=lbfgs..........................\n",
      "[CV 2/5; 41/96] END C=0.01, penalty=l1, solver=lbfgs;, score=nan total time=   0.0s\n",
      "[CV 3/5; 41/96] START C=0.01, penalty=l1, solver=lbfgs..........................\n",
      "[CV 3/5; 41/96] END C=0.01, penalty=l1, solver=lbfgs;, score=nan total time=   0.0s\n",
      "[CV 4/5; 41/96] START C=0.01, penalty=l1, solver=lbfgs..........................\n",
      "[CV 4/5; 41/96] END C=0.01, penalty=l1, solver=lbfgs;, score=nan total time=   0.0s\n",
      "[CV 5/5; 41/96] START C=0.01, penalty=l1, solver=lbfgs..........................\n",
      "[CV 5/5; 41/96] END C=0.01, penalty=l1, solver=lbfgs;, score=nan total time=   0.0s\n",
      "[CV 1/5; 42/96] START C=0.01, penalty=l1, solver=liblinear......................\n",
      "No of FN: 35\n",
      "5413.009999999999\n",
      "[CV 1/5; 42/96] END C=0.01, penalty=l1, solver=liblinear;, score=-5413.010 total time=   0.4s\n",
      "[CV 2/5; 42/96] START C=0.01, penalty=l1, solver=liblinear......................\n",
      "No of FN: 40\n",
      "8806.899999999998\n",
      "[CV 2/5; 42/96] END C=0.01, penalty=l1, solver=liblinear;, score=-8806.900 total time=   0.4s\n",
      "[CV 3/5; 42/96] START C=0.01, penalty=l1, solver=liblinear......................\n",
      "No of FN: 30\n",
      "3376.9800000000005\n",
      "[CV 3/5; 42/96] END C=0.01, penalty=l1, solver=liblinear;, score=-3376.980 total time=   0.5s\n",
      "[CV 4/5; 42/96] START C=0.01, penalty=l1, solver=liblinear......................\n",
      "No of FN: 33\n",
      "4145.98\n",
      "[CV 4/5; 42/96] END C=0.01, penalty=l1, solver=liblinear;, score=-4145.980 total time=   0.5s\n",
      "[CV 5/5; 42/96] START C=0.01, penalty=l1, solver=liblinear......................\n",
      "No of FN: 46\n",
      "11996.310000000001\n",
      "[CV 5/5; 42/96] END C=0.01, penalty=l1, solver=liblinear;, score=-11996.310 total time=   0.7s\n",
      "[CV 1/5; 43/96] START C=0.01, penalty=l2, solver=newton-cg......................\n"
     ]
    },
    {
     "name": "stderr",
     "output_type": "stream",
     "text": [
      "C:\\Python310\\lib\\site-packages\\scipy\\optimize\\_linesearch.py:456: LineSearchWarning: The line search algorithm did not converge\n",
      "  warn('The line search algorithm did not converge', LineSearchWarning)\n",
      "C:\\Python310\\lib\\site-packages\\scipy\\optimize\\_linesearch.py:305: LineSearchWarning: The line search algorithm did not converge\n",
      "  warn('The line search algorithm did not converge', LineSearchWarning)\n",
      "C:\\Python310\\lib\\site-packages\\sklearn\\utils\\optimize.py:210: ConvergenceWarning: newton-cg failed to converge. Increase the number of iterations.\n",
      "  warnings.warn(\n"
     ]
    },
    {
     "name": "stdout",
     "output_type": "stream",
     "text": [
      "No of FN: 32\n",
      "5302.23\n",
      "[CV 1/5; 43/96] END C=0.01, penalty=l2, solver=newton-cg;, score=-5302.230 total time=  10.7s\n",
      "[CV 2/5; 43/96] START C=0.01, penalty=l2, solver=newton-cg......................\n"
     ]
    },
    {
     "name": "stderr",
     "output_type": "stream",
     "text": [
      "C:\\Python310\\lib\\site-packages\\scipy\\optimize\\_linesearch.py:456: LineSearchWarning: The line search algorithm did not converge\n",
      "  warn('The line search algorithm did not converge', LineSearchWarning)\n",
      "C:\\Python310\\lib\\site-packages\\scipy\\optimize\\_linesearch.py:305: LineSearchWarning: The line search algorithm did not converge\n",
      "  warn('The line search algorithm did not converge', LineSearchWarning)\n",
      "C:\\Python310\\lib\\site-packages\\sklearn\\utils\\optimize.py:210: ConvergenceWarning: newton-cg failed to converge. Increase the number of iterations.\n",
      "  warnings.warn(\n"
     ]
    },
    {
     "name": "stdout",
     "output_type": "stream",
     "text": [
      "No of FN: 31\n",
      "7107.75\n",
      "[CV 2/5; 43/96] END C=0.01, penalty=l2, solver=newton-cg;, score=-7107.750 total time=   9.4s\n",
      "[CV 3/5; 43/96] START C=0.01, penalty=l2, solver=newton-cg......................\n"
     ]
    },
    {
     "name": "stderr",
     "output_type": "stream",
     "text": [
      "C:\\Python310\\lib\\site-packages\\sklearn\\utils\\optimize.py:210: ConvergenceWarning: newton-cg failed to converge. Increase the number of iterations.\n",
      "  warnings.warn(\n"
     ]
    },
    {
     "name": "stdout",
     "output_type": "stream",
     "text": [
      "No of FN: 28\n",
      "3376.2799999999997\n",
      "[CV 3/5; 43/96] END C=0.01, penalty=l2, solver=newton-cg;, score=-3376.280 total time=   9.4s\n",
      "[CV 4/5; 43/96] START C=0.01, penalty=l2, solver=newton-cg......................\n"
     ]
    },
    {
     "name": "stderr",
     "output_type": "stream",
     "text": [
      "C:\\Python310\\lib\\site-packages\\scipy\\optimize\\_linesearch.py:456: LineSearchWarning: The line search algorithm did not converge\n",
      "  warn('The line search algorithm did not converge', LineSearchWarning)\n",
      "C:\\Python310\\lib\\site-packages\\scipy\\optimize\\_linesearch.py:305: LineSearchWarning: The line search algorithm did not converge\n",
      "  warn('The line search algorithm did not converge', LineSearchWarning)\n",
      "C:\\Python310\\lib\\site-packages\\sklearn\\utils\\optimize.py:210: ConvergenceWarning: newton-cg failed to converge. Increase the number of iterations.\n",
      "  warnings.warn(\n"
     ]
    },
    {
     "name": "stdout",
     "output_type": "stream",
     "text": [
      "No of FN: 31\n",
      "4309.509999999999\n",
      "[CV 4/5; 43/96] END C=0.01, penalty=l2, solver=newton-cg;, score=-4309.510 total time=   9.4s\n",
      "[CV 5/5; 43/96] START C=0.01, penalty=l2, solver=newton-cg......................\n"
     ]
    },
    {
     "name": "stderr",
     "output_type": "stream",
     "text": [
      "C:\\Python310\\lib\\site-packages\\scipy\\optimize\\_linesearch.py:456: LineSearchWarning: The line search algorithm did not converge\n",
      "  warn('The line search algorithm did not converge', LineSearchWarning)\n",
      "C:\\Python310\\lib\\site-packages\\scipy\\optimize\\_linesearch.py:305: LineSearchWarning: The line search algorithm did not converge\n",
      "  warn('The line search algorithm did not converge', LineSearchWarning)\n",
      "C:\\Python310\\lib\\site-packages\\sklearn\\utils\\optimize.py:210: ConvergenceWarning: newton-cg failed to converge. Increase the number of iterations.\n",
      "  warnings.warn(\n"
     ]
    },
    {
     "name": "stdout",
     "output_type": "stream",
     "text": [
      "No of FN: 39\n",
      "10698.690000000002\n",
      "[CV 5/5; 43/96] END C=0.01, penalty=l2, solver=newton-cg;, score=-10698.690 total time=  10.2s\n",
      "[CV 1/5; 44/96] START C=0.01, penalty=l2, solver=lbfgs..........................\n"
     ]
    },
    {
     "name": "stderr",
     "output_type": "stream",
     "text": [
      "C:\\Python310\\lib\\site-packages\\sklearn\\linear_model\\_logistic.py:444: ConvergenceWarning: lbfgs failed to converge (status=1):\n",
      "STOP: TOTAL NO. of ITERATIONS REACHED LIMIT.\n",
      "\n",
      "Increase the number of iterations (max_iter) or scale the data as shown in:\n",
      "    https://scikit-learn.org/stable/modules/preprocessing.html\n",
      "Please also refer to the documentation for alternative solver options:\n",
      "    https://scikit-learn.org/stable/modules/linear_model.html#logistic-regression\n",
      "  n_iter_i = _check_optimize_result(\n"
     ]
    },
    {
     "name": "stdout",
     "output_type": "stream",
     "text": [
      "No of FN: 19\n",
      "4865.98\n",
      "[CV 1/5; 44/96] END C=0.01, penalty=l2, solver=lbfgs;, score=-4865.980 total time=   1.2s\n",
      "[CV 2/5; 44/96] START C=0.01, penalty=l2, solver=lbfgs..........................\n"
     ]
    },
    {
     "name": "stderr",
     "output_type": "stream",
     "text": [
      "C:\\Python310\\lib\\site-packages\\sklearn\\linear_model\\_logistic.py:444: ConvergenceWarning: lbfgs failed to converge (status=1):\n",
      "STOP: TOTAL NO. of ITERATIONS REACHED LIMIT.\n",
      "\n",
      "Increase the number of iterations (max_iter) or scale the data as shown in:\n",
      "    https://scikit-learn.org/stable/modules/preprocessing.html\n",
      "Please also refer to the documentation for alternative solver options:\n",
      "    https://scikit-learn.org/stable/modules/linear_model.html#logistic-regression\n",
      "  n_iter_i = _check_optimize_result(\n"
     ]
    },
    {
     "name": "stdout",
     "output_type": "stream",
     "text": [
      "No of FN: 30\n",
      "7381.18\n",
      "[CV 2/5; 44/96] END C=0.01, penalty=l2, solver=lbfgs;, score=-7381.180 total time=   1.4s\n",
      "[CV 3/5; 44/96] START C=0.01, penalty=l2, solver=lbfgs..........................\n"
     ]
    },
    {
     "name": "stderr",
     "output_type": "stream",
     "text": [
      "C:\\Python310\\lib\\site-packages\\sklearn\\linear_model\\_logistic.py:444: ConvergenceWarning: lbfgs failed to converge (status=1):\n",
      "STOP: TOTAL NO. of ITERATIONS REACHED LIMIT.\n",
      "\n",
      "Increase the number of iterations (max_iter) or scale the data as shown in:\n",
      "    https://scikit-learn.org/stable/modules/preprocessing.html\n",
      "Please also refer to the documentation for alternative solver options:\n",
      "    https://scikit-learn.org/stable/modules/linear_model.html#logistic-regression\n",
      "  n_iter_i = _check_optimize_result(\n"
     ]
    },
    {
     "name": "stdout",
     "output_type": "stream",
     "text": [
      "No of FN: 27\n",
      "4423.63\n",
      "[CV 3/5; 44/96] END C=0.01, penalty=l2, solver=lbfgs;, score=-4423.630 total time=   1.4s\n",
      "[CV 4/5; 44/96] START C=0.01, penalty=l2, solver=lbfgs..........................\n"
     ]
    },
    {
     "name": "stderr",
     "output_type": "stream",
     "text": [
      "C:\\Python310\\lib\\site-packages\\sklearn\\linear_model\\_logistic.py:444: ConvergenceWarning: lbfgs failed to converge (status=1):\n",
      "STOP: TOTAL NO. of ITERATIONS REACHED LIMIT.\n",
      "\n",
      "Increase the number of iterations (max_iter) or scale the data as shown in:\n",
      "    https://scikit-learn.org/stable/modules/preprocessing.html\n",
      "Please also refer to the documentation for alternative solver options:\n",
      "    https://scikit-learn.org/stable/modules/linear_model.html#logistic-regression\n",
      "  n_iter_i = _check_optimize_result(\n"
     ]
    },
    {
     "name": "stdout",
     "output_type": "stream",
     "text": [
      "No of FN: 29\n",
      "4200.959999999999\n",
      "[CV 4/5; 44/96] END C=0.01, penalty=l2, solver=lbfgs;, score=-4200.960 total time=   1.5s\n",
      "[CV 5/5; 44/96] START C=0.01, penalty=l2, solver=lbfgs..........................\n"
     ]
    },
    {
     "name": "stderr",
     "output_type": "stream",
     "text": [
      "C:\\Python310\\lib\\site-packages\\sklearn\\linear_model\\_logistic.py:444: ConvergenceWarning: lbfgs failed to converge (status=1):\n",
      "STOP: TOTAL NO. of ITERATIONS REACHED LIMIT.\n",
      "\n",
      "Increase the number of iterations (max_iter) or scale the data as shown in:\n",
      "    https://scikit-learn.org/stable/modules/preprocessing.html\n",
      "Please also refer to the documentation for alternative solver options:\n",
      "    https://scikit-learn.org/stable/modules/linear_model.html#logistic-regression\n",
      "  n_iter_i = _check_optimize_result(\n"
     ]
    },
    {
     "name": "stdout",
     "output_type": "stream",
     "text": [
      "No of FN: 40\n",
      "11201.570000000002\n",
      "[CV 5/5; 44/96] END C=0.01, penalty=l2, solver=lbfgs;, score=-11201.570 total time=   1.5s\n",
      "[CV 1/5; 45/96] START C=0.01, penalty=l2, solver=liblinear......................\n",
      "No of FN: 25\n",
      "4968.799999999999\n",
      "[CV 1/5; 45/96] END C=0.01, penalty=l2, solver=liblinear;, score=-4968.800 total time=   1.5s\n",
      "[CV 2/5; 45/96] START C=0.01, penalty=l2, solver=liblinear......................\n",
      "No of FN: 37\n",
      "8483.41\n",
      "[CV 2/5; 45/96] END C=0.01, penalty=l2, solver=liblinear;, score=-8483.410 total time=   1.7s\n",
      "[CV 3/5; 45/96] START C=0.01, penalty=l2, solver=liblinear......................\n",
      "No of FN: 29\n",
      "4197.610000000001\n",
      "[CV 3/5; 45/96] END C=0.01, penalty=l2, solver=liblinear;, score=-4197.610 total time=   1.9s\n",
      "[CV 4/5; 45/96] START C=0.01, penalty=l2, solver=liblinear......................\n",
      "No of FN: 35\n",
      "4350.579999999999\n",
      "[CV 4/5; 45/96] END C=0.01, penalty=l2, solver=liblinear;, score=-4350.580 total time=   1.8s\n",
      "[CV 5/5; 45/96] START C=0.01, penalty=l2, solver=liblinear......................\n",
      "No of FN: 41\n",
      "11221.560000000001\n",
      "[CV 5/5; 45/96] END C=0.01, penalty=l2, solver=liblinear;, score=-11221.560 total time=   1.7s\n",
      "[CV 1/5; 46/96] START C=0.01, penalty=elasticnet, solver=newton-cg..............\n",
      "[CV 1/5; 46/96] END C=0.01, penalty=elasticnet, solver=newton-cg;, score=nan total time=   0.0s\n",
      "[CV 2/5; 46/96] START C=0.01, penalty=elasticnet, solver=newton-cg..............\n",
      "[CV 2/5; 46/96] END C=0.01, penalty=elasticnet, solver=newton-cg;, score=nan total time=   0.0s\n",
      "[CV 3/5; 46/96] START C=0.01, penalty=elasticnet, solver=newton-cg..............\n",
      "[CV 3/5; 46/96] END C=0.01, penalty=elasticnet, solver=newton-cg;, score=nan total time=   0.0s\n",
      "[CV 4/5; 46/96] START C=0.01, penalty=elasticnet, solver=newton-cg..............\n",
      "[CV 4/5; 46/96] END C=0.01, penalty=elasticnet, solver=newton-cg;, score=nan total time=   0.0s\n",
      "[CV 5/5; 46/96] START C=0.01, penalty=elasticnet, solver=newton-cg..............\n",
      "[CV 5/5; 46/96] END C=0.01, penalty=elasticnet, solver=newton-cg;, score=nan total time=   0.0s\n",
      "[CV 1/5; 47/96] START C=0.01, penalty=elasticnet, solver=lbfgs..................\n",
      "[CV 1/5; 47/96] END C=0.01, penalty=elasticnet, solver=lbfgs;, score=nan total time=   0.0s\n",
      "[CV 2/5; 47/96] START C=0.01, penalty=elasticnet, solver=lbfgs..................\n",
      "[CV 2/5; 47/96] END C=0.01, penalty=elasticnet, solver=lbfgs;, score=nan total time=   0.0s\n",
      "[CV 3/5; 47/96] START C=0.01, penalty=elasticnet, solver=lbfgs..................\n",
      "[CV 3/5; 47/96] END C=0.01, penalty=elasticnet, solver=lbfgs;, score=nan total time=   0.0s\n",
      "[CV 4/5; 47/96] START C=0.01, penalty=elasticnet, solver=lbfgs..................\n",
      "[CV 4/5; 47/96] END C=0.01, penalty=elasticnet, solver=lbfgs;, score=nan total time=   0.0s\n",
      "[CV 5/5; 47/96] START C=0.01, penalty=elasticnet, solver=lbfgs..................\n",
      "[CV 5/5; 47/96] END C=0.01, penalty=elasticnet, solver=lbfgs;, score=nan total time=   0.0s\n",
      "[CV 1/5; 48/96] START C=0.01, penalty=elasticnet, solver=liblinear..............\n",
      "[CV 1/5; 48/96] END C=0.01, penalty=elasticnet, solver=liblinear;, score=nan total time=   0.0s\n",
      "[CV 2/5; 48/96] START C=0.01, penalty=elasticnet, solver=liblinear..............\n",
      "[CV 2/5; 48/96] END C=0.01, penalty=elasticnet, solver=liblinear;, score=nan total time=   0.0s\n",
      "[CV 3/5; 48/96] START C=0.01, penalty=elasticnet, solver=liblinear..............\n",
      "[CV 3/5; 48/96] END C=0.01, penalty=elasticnet, solver=liblinear;, score=nan total time=   0.0s\n",
      "[CV 4/5; 48/96] START C=0.01, penalty=elasticnet, solver=liblinear..............\n",
      "[CV 4/5; 48/96] END C=0.01, penalty=elasticnet, solver=liblinear;, score=nan total time=   0.0s\n",
      "[CV 5/5; 48/96] START C=0.01, penalty=elasticnet, solver=liblinear..............\n",
      "[CV 5/5; 48/96] END C=0.01, penalty=elasticnet, solver=liblinear;, score=nan total time=   0.0s\n",
      "[CV 1/5; 49/96] START C=0.1, penalty=none, solver=newton-cg.....................\n"
     ]
    },
    {
     "name": "stderr",
     "output_type": "stream",
     "text": [
      "C:\\Python310\\lib\\site-packages\\sklearn\\linear_model\\_logistic.py:1113: UserWarning: Setting penalty='none' will ignore the C and l1_ratio parameters\n",
      "  warnings.warn(\n",
      "C:\\Python310\\lib\\site-packages\\scipy\\optimize\\_linesearch.py:456: LineSearchWarning: The line search algorithm did not converge\n",
      "  warn('The line search algorithm did not converge', LineSearchWarning)\n",
      "C:\\Python310\\lib\\site-packages\\scipy\\optimize\\_linesearch.py:305: LineSearchWarning: The line search algorithm did not converge\n",
      "  warn('The line search algorithm did not converge', LineSearchWarning)\n",
      "C:\\Python310\\lib\\site-packages\\sklearn\\utils\\optimize.py:210: ConvergenceWarning: newton-cg failed to converge. Increase the number of iterations.\n",
      "  warnings.warn(\n",
      "C:\\Python310\\lib\\site-packages\\sklearn\\linear_model\\_logistic.py:1113: UserWarning: Setting penalty='none' will ignore the C and l1_ratio parameters\n",
      "  warnings.warn(\n"
     ]
    },
    {
     "name": "stdout",
     "output_type": "stream",
     "text": [
      "No of FN: 33\n",
      "5397.219999999999\n",
      "[CV 1/5; 49/96] END C=0.1, penalty=none, solver=newton-cg;, score=-5397.220 total time=  10.0s\n",
      "[CV 2/5; 49/96] START C=0.1, penalty=none, solver=newton-cg.....................\n"
     ]
    },
    {
     "name": "stderr",
     "output_type": "stream",
     "text": [
      "C:\\Python310\\lib\\site-packages\\scipy\\optimize\\_linesearch.py:456: LineSearchWarning: The line search algorithm did not converge\n",
      "  warn('The line search algorithm did not converge', LineSearchWarning)\n",
      "C:\\Python310\\lib\\site-packages\\scipy\\optimize\\_linesearch.py:305: LineSearchWarning: The line search algorithm did not converge\n",
      "  warn('The line search algorithm did not converge', LineSearchWarning)\n",
      "C:\\Python310\\lib\\site-packages\\sklearn\\utils\\optimize.py:210: ConvergenceWarning: newton-cg failed to converge. Increase the number of iterations.\n",
      "  warnings.warn(\n",
      "C:\\Python310\\lib\\site-packages\\sklearn\\linear_model\\_logistic.py:1113: UserWarning: Setting penalty='none' will ignore the C and l1_ratio parameters\n",
      "  warnings.warn(\n"
     ]
    },
    {
     "name": "stdout",
     "output_type": "stream",
     "text": [
      "No of FN: 30\n",
      "7092.449999999999\n",
      "[CV 2/5; 49/96] END C=0.1, penalty=none, solver=newton-cg;, score=-7092.450 total time=  10.0s\n",
      "[CV 3/5; 49/96] START C=0.1, penalty=none, solver=newton-cg.....................\n"
     ]
    },
    {
     "name": "stderr",
     "output_type": "stream",
     "text": [
      "C:\\Python310\\lib\\site-packages\\scipy\\optimize\\_linesearch.py:456: LineSearchWarning: The line search algorithm did not converge\n",
      "  warn('The line search algorithm did not converge', LineSearchWarning)\n",
      "C:\\Python310\\lib\\site-packages\\scipy\\optimize\\_linesearch.py:305: LineSearchWarning: The line search algorithm did not converge\n",
      "  warn('The line search algorithm did not converge', LineSearchWarning)\n",
      "C:\\Python310\\lib\\site-packages\\sklearn\\utils\\optimize.py:210: ConvergenceWarning: newton-cg failed to converge. Increase the number of iterations.\n",
      "  warnings.warn(\n",
      "C:\\Python310\\lib\\site-packages\\sklearn\\linear_model\\_logistic.py:1113: UserWarning: Setting penalty='none' will ignore the C and l1_ratio parameters\n",
      "  warnings.warn(\n"
     ]
    },
    {
     "name": "stdout",
     "output_type": "stream",
     "text": [
      "No of FN: 28\n",
      "3285.26\n",
      "[CV 3/5; 49/96] END C=0.1, penalty=none, solver=newton-cg;, score=-3285.260 total time=  10.0s\n",
      "[CV 4/5; 49/96] START C=0.1, penalty=none, solver=newton-cg.....................\n"
     ]
    },
    {
     "name": "stderr",
     "output_type": "stream",
     "text": [
      "C:\\Python310\\lib\\site-packages\\scipy\\optimize\\_linesearch.py:456: LineSearchWarning: The line search algorithm did not converge\n",
      "  warn('The line search algorithm did not converge', LineSearchWarning)\n",
      "C:\\Python310\\lib\\site-packages\\scipy\\optimize\\_linesearch.py:305: LineSearchWarning: The line search algorithm did not converge\n",
      "  warn('The line search algorithm did not converge', LineSearchWarning)\n",
      "C:\\Python310\\lib\\site-packages\\sklearn\\utils\\optimize.py:210: ConvergenceWarning: newton-cg failed to converge. Increase the number of iterations.\n",
      "  warnings.warn(\n",
      "C:\\Python310\\lib\\site-packages\\sklearn\\linear_model\\_logistic.py:1113: UserWarning: Setting penalty='none' will ignore the C and l1_ratio parameters\n",
      "  warnings.warn(\n"
     ]
    },
    {
     "name": "stdout",
     "output_type": "stream",
     "text": [
      "No of FN: 29\n",
      "4171.469999999999\n",
      "[CV 4/5; 49/96] END C=0.1, penalty=none, solver=newton-cg;, score=-4171.470 total time=   9.3s\n",
      "[CV 5/5; 49/96] START C=0.1, penalty=none, solver=newton-cg.....................\n"
     ]
    },
    {
     "name": "stderr",
     "output_type": "stream",
     "text": [
      "C:\\Python310\\lib\\site-packages\\scipy\\optimize\\_linesearch.py:456: LineSearchWarning: The line search algorithm did not converge\n",
      "  warn('The line search algorithm did not converge', LineSearchWarning)\n",
      "C:\\Python310\\lib\\site-packages\\scipy\\optimize\\_linesearch.py:305: LineSearchWarning: The line search algorithm did not converge\n",
      "  warn('The line search algorithm did not converge', LineSearchWarning)\n",
      "C:\\Python310\\lib\\site-packages\\sklearn\\utils\\optimize.py:210: ConvergenceWarning: newton-cg failed to converge. Increase the number of iterations.\n",
      "  warnings.warn(\n",
      "C:\\Python310\\lib\\site-packages\\sklearn\\linear_model\\_logistic.py:1113: UserWarning: Setting penalty='none' will ignore the C and l1_ratio parameters\n",
      "  warnings.warn(\n"
     ]
    },
    {
     "name": "stdout",
     "output_type": "stream",
     "text": [
      "No of FN: 36\n",
      "10254.79\n",
      "[CV 5/5; 49/96] END C=0.1, penalty=none, solver=newton-cg;, score=-10254.790 total time=   9.1s\n",
      "[CV 1/5; 50/96] START C=0.1, penalty=none, solver=lbfgs.........................\n",
      "No of FN: 21\n",
      "5005.969999999999\n",
      "[CV 1/5; 50/96] END C=0.1, penalty=none, solver=lbfgs;, score=-5005.970 total time=   1.5s\n",
      "[CV 2/5; 50/96] START C=0.1, penalty=none, solver=lbfgs.........................\n"
     ]
    },
    {
     "name": "stderr",
     "output_type": "stream",
     "text": [
      "C:\\Python310\\lib\\site-packages\\sklearn\\linear_model\\_logistic.py:444: ConvergenceWarning: lbfgs failed to converge (status=1):\n",
      "STOP: TOTAL NO. of ITERATIONS REACHED LIMIT.\n",
      "\n",
      "Increase the number of iterations (max_iter) or scale the data as shown in:\n",
      "    https://scikit-learn.org/stable/modules/preprocessing.html\n",
      "Please also refer to the documentation for alternative solver options:\n",
      "    https://scikit-learn.org/stable/modules/linear_model.html#logistic-regression\n",
      "  n_iter_i = _check_optimize_result(\n",
      "C:\\Python310\\lib\\site-packages\\sklearn\\linear_model\\_logistic.py:1113: UserWarning: Setting penalty='none' will ignore the C and l1_ratio parameters\n",
      "  warnings.warn(\n",
      "C:\\Python310\\lib\\site-packages\\sklearn\\linear_model\\_logistic.py:444: ConvergenceWarning: lbfgs failed to converge (status=1):\n",
      "STOP: TOTAL NO. of ITERATIONS REACHED LIMIT.\n",
      "\n",
      "Increase the number of iterations (max_iter) or scale the data as shown in:\n",
      "    https://scikit-learn.org/stable/modules/preprocessing.html\n",
      "Please also refer to the documentation for alternative solver options:\n",
      "    https://scikit-learn.org/stable/modules/linear_model.html#logistic-regression\n",
      "  n_iter_i = _check_optimize_result(\n",
      "C:\\Python310\\lib\\site-packages\\sklearn\\linear_model\\_logistic.py:1113: UserWarning: Setting penalty='none' will ignore the C and l1_ratio parameters\n",
      "  warnings.warn(\n"
     ]
    },
    {
     "name": "stdout",
     "output_type": "stream",
     "text": [
      "No of FN: 29\n",
      "7263.7300000000005\n",
      "[CV 2/5; 50/96] END C=0.1, penalty=none, solver=lbfgs;, score=-7263.730 total time=   1.4s\n",
      "[CV 3/5; 50/96] START C=0.1, penalty=none, solver=lbfgs.........................\n"
     ]
    },
    {
     "name": "stderr",
     "output_type": "stream",
     "text": [
      "C:\\Python310\\lib\\site-packages\\sklearn\\linear_model\\_logistic.py:444: ConvergenceWarning: lbfgs failed to converge (status=1):\n",
      "STOP: TOTAL NO. of ITERATIONS REACHED LIMIT.\n",
      "\n",
      "Increase the number of iterations (max_iter) or scale the data as shown in:\n",
      "    https://scikit-learn.org/stable/modules/preprocessing.html\n",
      "Please also refer to the documentation for alternative solver options:\n",
      "    https://scikit-learn.org/stable/modules/linear_model.html#logistic-regression\n",
      "  n_iter_i = _check_optimize_result(\n",
      "C:\\Python310\\lib\\site-packages\\sklearn\\linear_model\\_logistic.py:1113: UserWarning: Setting penalty='none' will ignore the C and l1_ratio parameters\n",
      "  warnings.warn(\n"
     ]
    },
    {
     "name": "stdout",
     "output_type": "stream",
     "text": [
      "No of FN: 27\n",
      "4114.3\n",
      "[CV 3/5; 50/96] END C=0.1, penalty=none, solver=lbfgs;, score=-4114.300 total time=   1.3s\n",
      "[CV 4/5; 50/96] START C=0.1, penalty=none, solver=lbfgs.........................\n"
     ]
    },
    {
     "name": "stderr",
     "output_type": "stream",
     "text": [
      "C:\\Python310\\lib\\site-packages\\sklearn\\linear_model\\_logistic.py:444: ConvergenceWarning: lbfgs failed to converge (status=1):\n",
      "STOP: TOTAL NO. of ITERATIONS REACHED LIMIT.\n",
      "\n",
      "Increase the number of iterations (max_iter) or scale the data as shown in:\n",
      "    https://scikit-learn.org/stable/modules/preprocessing.html\n",
      "Please also refer to the documentation for alternative solver options:\n",
      "    https://scikit-learn.org/stable/modules/linear_model.html#logistic-regression\n",
      "  n_iter_i = _check_optimize_result(\n",
      "C:\\Python310\\lib\\site-packages\\sklearn\\linear_model\\_logistic.py:1113: UserWarning: Setting penalty='none' will ignore the C and l1_ratio parameters\n",
      "  warnings.warn(\n"
     ]
    },
    {
     "name": "stdout",
     "output_type": "stream",
     "text": [
      "No of FN: 26\n",
      "3790.4599999999996\n",
      "[CV 4/5; 50/96] END C=0.1, penalty=none, solver=lbfgs;, score=-3790.460 total time=   1.4s\n",
      "[CV 5/5; 50/96] START C=0.1, penalty=none, solver=lbfgs.........................\n"
     ]
    },
    {
     "name": "stderr",
     "output_type": "stream",
     "text": [
      "C:\\Python310\\lib\\site-packages\\sklearn\\linear_model\\_logistic.py:444: ConvergenceWarning: lbfgs failed to converge (status=1):\n",
      "STOP: TOTAL NO. of ITERATIONS REACHED LIMIT.\n",
      "\n",
      "Increase the number of iterations (max_iter) or scale the data as shown in:\n",
      "    https://scikit-learn.org/stable/modules/preprocessing.html\n",
      "Please also refer to the documentation for alternative solver options:\n",
      "    https://scikit-learn.org/stable/modules/linear_model.html#logistic-regression\n",
      "  n_iter_i = _check_optimize_result(\n"
     ]
    },
    {
     "name": "stdout",
     "output_type": "stream",
     "text": [
      "No of FN: 39\n",
      "11250.080000000002\n",
      "[CV 5/5; 50/96] END C=0.1, penalty=none, solver=lbfgs;, score=-11250.080 total time=   1.4s\n",
      "[CV 1/5; 51/96] START C=0.1, penalty=none, solver=liblinear.....................\n",
      "[CV 1/5; 51/96] END C=0.1, penalty=none, solver=liblinear;, score=nan total time=   0.0s\n",
      "[CV 2/5; 51/96] START C=0.1, penalty=none, solver=liblinear.....................\n",
      "[CV 2/5; 51/96] END C=0.1, penalty=none, solver=liblinear;, score=nan total time=   0.0s\n",
      "[CV 3/5; 51/96] START C=0.1, penalty=none, solver=liblinear.....................\n",
      "[CV 3/5; 51/96] END C=0.1, penalty=none, solver=liblinear;, score=nan total time=   0.0s\n",
      "[CV 4/5; 51/96] START C=0.1, penalty=none, solver=liblinear.....................\n",
      "[CV 4/5; 51/96] END C=0.1, penalty=none, solver=liblinear;, score=nan total time=   0.0s\n",
      "[CV 5/5; 51/96] START C=0.1, penalty=none, solver=liblinear.....................\n",
      "[CV 5/5; 51/96] END C=0.1, penalty=none, solver=liblinear;, score=nan total time=   0.0s\n",
      "[CV 1/5; 52/96] START C=0.1, penalty=l1, solver=newton-cg.......................\n",
      "[CV 1/5; 52/96] END C=0.1, penalty=l1, solver=newton-cg;, score=nan total time=   0.0s\n",
      "[CV 2/5; 52/96] START C=0.1, penalty=l1, solver=newton-cg.......................\n",
      "[CV 2/5; 52/96] END C=0.1, penalty=l1, solver=newton-cg;, score=nan total time=   0.0s\n",
      "[CV 3/5; 52/96] START C=0.1, penalty=l1, solver=newton-cg.......................\n",
      "[CV 3/5; 52/96] END C=0.1, penalty=l1, solver=newton-cg;, score=nan total time=   0.0s\n",
      "[CV 4/5; 52/96] START C=0.1, penalty=l1, solver=newton-cg.......................\n",
      "[CV 4/5; 52/96] END C=0.1, penalty=l1, solver=newton-cg;, score=nan total time=   0.0s\n",
      "[CV 5/5; 52/96] START C=0.1, penalty=l1, solver=newton-cg.......................\n",
      "[CV 5/5; 52/96] END C=0.1, penalty=l1, solver=newton-cg;, score=nan total time=   0.0s\n",
      "[CV 1/5; 53/96] START C=0.1, penalty=l1, solver=lbfgs...........................\n",
      "[CV 1/5; 53/96] END C=0.1, penalty=l1, solver=lbfgs;, score=nan total time=   0.0s\n",
      "[CV 2/5; 53/96] START C=0.1, penalty=l1, solver=lbfgs...........................\n",
      "[CV 2/5; 53/96] END C=0.1, penalty=l1, solver=lbfgs;, score=nan total time=   0.0s\n",
      "[CV 3/5; 53/96] START C=0.1, penalty=l1, solver=lbfgs...........................\n",
      "[CV 3/5; 53/96] END C=0.1, penalty=l1, solver=lbfgs;, score=nan total time=   0.0s\n",
      "[CV 4/5; 53/96] START C=0.1, penalty=l1, solver=lbfgs...........................\n",
      "[CV 4/5; 53/96] END C=0.1, penalty=l1, solver=lbfgs;, score=nan total time=   0.0s\n",
      "[CV 5/5; 53/96] START C=0.1, penalty=l1, solver=lbfgs...........................\n",
      "[CV 5/5; 53/96] END C=0.1, penalty=l1, solver=lbfgs;, score=nan total time=   0.0s\n",
      "[CV 1/5; 54/96] START C=0.1, penalty=l1, solver=liblinear.......................\n",
      "No of FN: 33\n",
      "5298.23\n",
      "[CV 1/5; 54/96] END C=0.1, penalty=l1, solver=liblinear;, score=-5298.230 total time=   1.4s\n",
      "[CV 2/5; 54/96] START C=0.1, penalty=l1, solver=liblinear.......................\n",
      "No of FN: 31\n",
      "7107.75\n",
      "[CV 2/5; 54/96] END C=0.1, penalty=l1, solver=liblinear;, score=-7107.750 total time=   1.5s\n",
      "[CV 3/5; 54/96] START C=0.1, penalty=l1, solver=liblinear.......................\n",
      "No of FN: 26\n",
      "2753.49\n",
      "[CV 3/5; 54/96] END C=0.1, penalty=l1, solver=liblinear;, score=-2753.490 total time=   1.8s\n",
      "[CV 4/5; 54/96] START C=0.1, penalty=l1, solver=liblinear.......................\n",
      "No of FN: 32\n",
      "4305.269999999999\n",
      "[CV 4/5; 54/96] END C=0.1, penalty=l1, solver=liblinear;, score=-4305.270 total time=   1.0s\n",
      "[CV 5/5; 54/96] START C=0.1, penalty=l1, solver=liblinear.......................\n",
      "No of FN: 38\n",
      "10259.520000000002\n",
      "[CV 5/5; 54/96] END C=0.1, penalty=l1, solver=liblinear;, score=-10259.520 total time=   1.2s\n",
      "[CV 1/5; 55/96] START C=0.1, penalty=l2, solver=newton-cg.......................\n"
     ]
    },
    {
     "name": "stderr",
     "output_type": "stream",
     "text": [
      "C:\\Python310\\lib\\site-packages\\scipy\\optimize\\_linesearch.py:456: LineSearchWarning: The line search algorithm did not converge\n",
      "  warn('The line search algorithm did not converge', LineSearchWarning)\n",
      "C:\\Python310\\lib\\site-packages\\scipy\\optimize\\_linesearch.py:305: LineSearchWarning: The line search algorithm did not converge\n",
      "  warn('The line search algorithm did not converge', LineSearchWarning)\n",
      "C:\\Python310\\lib\\site-packages\\sklearn\\utils\\optimize.py:210: ConvergenceWarning: newton-cg failed to converge. Increase the number of iterations.\n",
      "  warnings.warn(\n"
     ]
    },
    {
     "name": "stdout",
     "output_type": "stream",
     "text": [
      "No of FN: 33\n",
      "5397.219999999999\n",
      "[CV 1/5; 55/96] END C=0.1, penalty=l2, solver=newton-cg;, score=-5397.220 total time=  10.4s\n",
      "[CV 2/5; 55/96] START C=0.1, penalty=l2, solver=newton-cg.......................\n"
     ]
    },
    {
     "name": "stderr",
     "output_type": "stream",
     "text": [
      "C:\\Python310\\lib\\site-packages\\scipy\\optimize\\_linesearch.py:456: LineSearchWarning: The line search algorithm did not converge\n",
      "  warn('The line search algorithm did not converge', LineSearchWarning)\n",
      "C:\\Python310\\lib\\site-packages\\scipy\\optimize\\_linesearch.py:305: LineSearchWarning: The line search algorithm did not converge\n",
      "  warn('The line search algorithm did not converge', LineSearchWarning)\n",
      "C:\\Python310\\lib\\site-packages\\sklearn\\utils\\optimize.py:210: ConvergenceWarning: newton-cg failed to converge. Increase the number of iterations.\n",
      "  warnings.warn(\n"
     ]
    },
    {
     "name": "stdout",
     "output_type": "stream",
     "text": [
      "No of FN: 30\n",
      "7097.449999999999\n",
      "[CV 2/5; 55/96] END C=0.1, penalty=l2, solver=newton-cg;, score=-7097.450 total time=   9.4s\n",
      "[CV 3/5; 55/96] START C=0.1, penalty=l2, solver=newton-cg.......................\n"
     ]
    },
    {
     "name": "stderr",
     "output_type": "stream",
     "text": [
      "C:\\Python310\\lib\\site-packages\\scipy\\optimize\\_linesearch.py:456: LineSearchWarning: The line search algorithm did not converge\n",
      "  warn('The line search algorithm did not converge', LineSearchWarning)\n",
      "C:\\Python310\\lib\\site-packages\\scipy\\optimize\\_linesearch.py:305: LineSearchWarning: The line search algorithm did not converge\n",
      "  warn('The line search algorithm did not converge', LineSearchWarning)\n",
      "C:\\Python310\\lib\\site-packages\\sklearn\\utils\\optimize.py:210: ConvergenceWarning: newton-cg failed to converge. Increase the number of iterations.\n",
      "  warnings.warn(\n"
     ]
    },
    {
     "name": "stdout",
     "output_type": "stream",
     "text": [
      "No of FN: 28\n",
      "3285.26\n",
      "[CV 3/5; 55/96] END C=0.1, penalty=l2, solver=newton-cg;, score=-3285.260 total time=   9.4s\n",
      "[CV 4/5; 55/96] START C=0.1, penalty=l2, solver=newton-cg.......................\n"
     ]
    },
    {
     "name": "stderr",
     "output_type": "stream",
     "text": [
      "C:\\Python310\\lib\\site-packages\\scipy\\optimize\\_linesearch.py:456: LineSearchWarning: The line search algorithm did not converge\n",
      "  warn('The line search algorithm did not converge', LineSearchWarning)\n",
      "C:\\Python310\\lib\\site-packages\\scipy\\optimize\\_linesearch.py:305: LineSearchWarning: The line search algorithm did not converge\n",
      "  warn('The line search algorithm did not converge', LineSearchWarning)\n",
      "C:\\Python310\\lib\\site-packages\\sklearn\\utils\\optimize.py:210: ConvergenceWarning: newton-cg failed to converge. Increase the number of iterations.\n",
      "  warnings.warn(\n"
     ]
    },
    {
     "name": "stdout",
     "output_type": "stream",
     "text": [
      "No of FN: 31\n",
      "4308.269999999999\n",
      "[CV 4/5; 55/96] END C=0.1, penalty=l2, solver=newton-cg;, score=-4308.270 total time=   9.9s\n",
      "[CV 5/5; 55/96] START C=0.1, penalty=l2, solver=newton-cg.......................\n"
     ]
    },
    {
     "name": "stderr",
     "output_type": "stream",
     "text": [
      "C:\\Python310\\lib\\site-packages\\scipy\\optimize\\_linesearch.py:456: LineSearchWarning: The line search algorithm did not converge\n",
      "  warn('The line search algorithm did not converge', LineSearchWarning)\n",
      "C:\\Python310\\lib\\site-packages\\scipy\\optimize\\_linesearch.py:305: LineSearchWarning: The line search algorithm did not converge\n",
      "  warn('The line search algorithm did not converge', LineSearchWarning)\n",
      "C:\\Python310\\lib\\site-packages\\sklearn\\utils\\optimize.py:210: ConvergenceWarning: newton-cg failed to converge. Increase the number of iterations.\n",
      "  warnings.warn(\n"
     ]
    },
    {
     "name": "stdout",
     "output_type": "stream",
     "text": [
      "No of FN: 37\n",
      "10245.560000000001\n",
      "[CV 5/5; 55/96] END C=0.1, penalty=l2, solver=newton-cg;, score=-10245.560 total time=   9.6s\n",
      "[CV 1/5; 56/96] START C=0.1, penalty=l2, solver=lbfgs...........................\n"
     ]
    },
    {
     "name": "stderr",
     "output_type": "stream",
     "text": [
      "C:\\Python310\\lib\\site-packages\\sklearn\\linear_model\\_logistic.py:444: ConvergenceWarning: lbfgs failed to converge (status=1):\n",
      "STOP: TOTAL NO. of ITERATIONS REACHED LIMIT.\n",
      "\n",
      "Increase the number of iterations (max_iter) or scale the data as shown in:\n",
      "    https://scikit-learn.org/stable/modules/preprocessing.html\n",
      "Please also refer to the documentation for alternative solver options:\n",
      "    https://scikit-learn.org/stable/modules/linear_model.html#logistic-regression\n",
      "  n_iter_i = _check_optimize_result(\n"
     ]
    },
    {
     "name": "stdout",
     "output_type": "stream",
     "text": [
      "No of FN: 21\n",
      "5005.969999999999\n",
      "[CV 1/5; 56/96] END C=0.1, penalty=l2, solver=lbfgs;, score=-5005.970 total time=   1.3s\n",
      "[CV 2/5; 56/96] START C=0.1, penalty=l2, solver=lbfgs...........................\n"
     ]
    },
    {
     "name": "stderr",
     "output_type": "stream",
     "text": [
      "C:\\Python310\\lib\\site-packages\\sklearn\\linear_model\\_logistic.py:444: ConvergenceWarning: lbfgs failed to converge (status=1):\n",
      "STOP: TOTAL NO. of ITERATIONS REACHED LIMIT.\n",
      "\n",
      "Increase the number of iterations (max_iter) or scale the data as shown in:\n",
      "    https://scikit-learn.org/stable/modules/preprocessing.html\n",
      "Please also refer to the documentation for alternative solver options:\n",
      "    https://scikit-learn.org/stable/modules/linear_model.html#logistic-regression\n",
      "  n_iter_i = _check_optimize_result(\n"
     ]
    },
    {
     "name": "stdout",
     "output_type": "stream",
     "text": [
      "No of FN: 26\n",
      "7206.81\n",
      "[CV 2/5; 56/96] END C=0.1, penalty=l2, solver=lbfgs;, score=-7206.810 total time=   1.3s\n",
      "[CV 3/5; 56/96] START C=0.1, penalty=l2, solver=lbfgs...........................\n"
     ]
    },
    {
     "name": "stderr",
     "output_type": "stream",
     "text": [
      "C:\\Python310\\lib\\site-packages\\sklearn\\linear_model\\_logistic.py:444: ConvergenceWarning: lbfgs failed to converge (status=1):\n",
      "STOP: TOTAL NO. of ITERATIONS REACHED LIMIT.\n",
      "\n",
      "Increase the number of iterations (max_iter) or scale the data as shown in:\n",
      "    https://scikit-learn.org/stable/modules/preprocessing.html\n",
      "Please also refer to the documentation for alternative solver options:\n",
      "    https://scikit-learn.org/stable/modules/linear_model.html#logistic-regression\n",
      "  n_iter_i = _check_optimize_result(\n"
     ]
    },
    {
     "name": "stdout",
     "output_type": "stream",
     "text": [
      "No of FN: 23\n",
      "4030.0099999999993\n",
      "[CV 3/5; 56/96] END C=0.1, penalty=l2, solver=lbfgs;, score=-4030.010 total time=   1.3s\n",
      "[CV 4/5; 56/96] START C=0.1, penalty=l2, solver=lbfgs...........................\n"
     ]
    },
    {
     "name": "stderr",
     "output_type": "stream",
     "text": [
      "C:\\Python310\\lib\\site-packages\\sklearn\\linear_model\\_logistic.py:444: ConvergenceWarning: lbfgs failed to converge (status=1):\n",
      "STOP: TOTAL NO. of ITERATIONS REACHED LIMIT.\n",
      "\n",
      "Increase the number of iterations (max_iter) or scale the data as shown in:\n",
      "    https://scikit-learn.org/stable/modules/preprocessing.html\n",
      "Please also refer to the documentation for alternative solver options:\n",
      "    https://scikit-learn.org/stable/modules/linear_model.html#logistic-regression\n",
      "  n_iter_i = _check_optimize_result(\n"
     ]
    },
    {
     "name": "stdout",
     "output_type": "stream",
     "text": [
      "No of FN: 29\n",
      "3910.9599999999996\n",
      "[CV 4/5; 56/96] END C=0.1, penalty=l2, solver=lbfgs;, score=-3910.960 total time=   1.5s\n",
      "[CV 5/5; 56/96] START C=0.1, penalty=l2, solver=lbfgs...........................\n",
      "No of FN: 34\n",
      "10247.230000000001\n",
      "[CV 5/5; 56/96] END C=0.1, penalty=l2, solver=lbfgs;, score=-10247.230 total time=   1.2s\n",
      "[CV 1/5; 57/96] START C=0.1, penalty=l2, solver=liblinear.......................\n",
      "No of FN: 31\n",
      "5555.88\n",
      "[CV 1/5; 57/96] END C=0.1, penalty=l2, solver=liblinear;, score=-5555.880 total time=   1.8s\n",
      "[CV 2/5; 57/96] START C=0.1, penalty=l2, solver=liblinear.......................\n",
      "No of FN: 32\n",
      "7059.46\n",
      "[CV 2/5; 57/96] END C=0.1, penalty=l2, solver=liblinear;, score=-7059.460 total time=   1.9s\n",
      "[CV 3/5; 57/96] START C=0.1, penalty=l2, solver=liblinear.......................\n",
      "No of FN: 24\n",
      "4088.66\n",
      "[CV 3/5; 57/96] END C=0.1, penalty=l2, solver=liblinear;, score=-4088.660 total time=   2.1s\n",
      "[CV 4/5; 57/96] START C=0.1, penalty=l2, solver=liblinear.......................\n",
      "No of FN: 35\n",
      "4350.579999999999\n",
      "[CV 4/5; 57/96] END C=0.1, penalty=l2, solver=liblinear;, score=-4350.580 total time=   1.6s\n",
      "[CV 5/5; 57/96] START C=0.1, penalty=l2, solver=liblinear.......................\n",
      "No of FN: 40\n",
      "11141.570000000002\n",
      "[CV 5/5; 57/96] END C=0.1, penalty=l2, solver=liblinear;, score=-11141.570 total time=   1.5s\n",
      "[CV 1/5; 58/96] START C=0.1, penalty=elasticnet, solver=newton-cg...............\n",
      "[CV 1/5; 58/96] END C=0.1, penalty=elasticnet, solver=newton-cg;, score=nan total time=   0.0s\n",
      "[CV 2/5; 58/96] START C=0.1, penalty=elasticnet, solver=newton-cg...............\n",
      "[CV 2/5; 58/96] END C=0.1, penalty=elasticnet, solver=newton-cg;, score=nan total time=   0.0s\n",
      "[CV 3/5; 58/96] START C=0.1, penalty=elasticnet, solver=newton-cg...............\n",
      "[CV 3/5; 58/96] END C=0.1, penalty=elasticnet, solver=newton-cg;, score=nan total time=   0.0s\n",
      "[CV 4/5; 58/96] START C=0.1, penalty=elasticnet, solver=newton-cg...............\n",
      "[CV 4/5; 58/96] END C=0.1, penalty=elasticnet, solver=newton-cg;, score=nan total time=   0.0s\n",
      "[CV 5/5; 58/96] START C=0.1, penalty=elasticnet, solver=newton-cg...............\n",
      "[CV 5/5; 58/96] END C=0.1, penalty=elasticnet, solver=newton-cg;, score=nan total time=   0.0s\n",
      "[CV 1/5; 59/96] START C=0.1, penalty=elasticnet, solver=lbfgs...................\n",
      "[CV 1/5; 59/96] END C=0.1, penalty=elasticnet, solver=lbfgs;, score=nan total time=   0.0s\n",
      "[CV 2/5; 59/96] START C=0.1, penalty=elasticnet, solver=lbfgs...................\n",
      "[CV 2/5; 59/96] END C=0.1, penalty=elasticnet, solver=lbfgs;, score=nan total time=   0.0s\n",
      "[CV 3/5; 59/96] START C=0.1, penalty=elasticnet, solver=lbfgs...................\n",
      "[CV 3/5; 59/96] END C=0.1, penalty=elasticnet, solver=lbfgs;, score=nan total time=   0.0s\n",
      "[CV 4/5; 59/96] START C=0.1, penalty=elasticnet, solver=lbfgs...................\n",
      "[CV 4/5; 59/96] END C=0.1, penalty=elasticnet, solver=lbfgs;, score=nan total time=   0.0s\n",
      "[CV 5/5; 59/96] START C=0.1, penalty=elasticnet, solver=lbfgs...................\n",
      "[CV 5/5; 59/96] END C=0.1, penalty=elasticnet, solver=lbfgs;, score=nan total time=   0.0s\n",
      "[CV 1/5; 60/96] START C=0.1, penalty=elasticnet, solver=liblinear...............\n",
      "[CV 1/5; 60/96] END C=0.1, penalty=elasticnet, solver=liblinear;, score=nan total time=   0.0s\n",
      "[CV 2/5; 60/96] START C=0.1, penalty=elasticnet, solver=liblinear...............\n",
      "[CV 2/5; 60/96] END C=0.1, penalty=elasticnet, solver=liblinear;, score=nan total time=   0.0s\n",
      "[CV 3/5; 60/96] START C=0.1, penalty=elasticnet, solver=liblinear...............\n",
      "[CV 3/5; 60/96] END C=0.1, penalty=elasticnet, solver=liblinear;, score=nan total time=   0.0s\n",
      "[CV 4/5; 60/96] START C=0.1, penalty=elasticnet, solver=liblinear...............\n",
      "[CV 4/5; 60/96] END C=0.1, penalty=elasticnet, solver=liblinear;, score=nan total time=   0.0s\n",
      "[CV 5/5; 60/96] START C=0.1, penalty=elasticnet, solver=liblinear...............\n",
      "[CV 5/5; 60/96] END C=0.1, penalty=elasticnet, solver=liblinear;, score=nan total time=   0.0s\n",
      "[CV 1/5; 61/96] START C=1, penalty=none, solver=newton-cg.......................\n"
     ]
    },
    {
     "name": "stderr",
     "output_type": "stream",
     "text": [
      "C:\\Python310\\lib\\site-packages\\scipy\\optimize\\_linesearch.py:456: LineSearchWarning: The line search algorithm did not converge\n",
      "  warn('The line search algorithm did not converge', LineSearchWarning)\n",
      "C:\\Python310\\lib\\site-packages\\scipy\\optimize\\_linesearch.py:305: LineSearchWarning: The line search algorithm did not converge\n",
      "  warn('The line search algorithm did not converge', LineSearchWarning)\n",
      "C:\\Python310\\lib\\site-packages\\sklearn\\utils\\optimize.py:210: ConvergenceWarning: newton-cg failed to converge. Increase the number of iterations.\n",
      "  warnings.warn(\n"
     ]
    },
    {
     "name": "stdout",
     "output_type": "stream",
     "text": [
      "No of FN: 33\n",
      "5397.219999999999\n",
      "[CV 1/5; 61/96] END C=1, penalty=none, solver=newton-cg;, score=-5397.220 total time=  10.0s\n",
      "[CV 2/5; 61/96] START C=1, penalty=none, solver=newton-cg.......................\n"
     ]
    },
    {
     "name": "stderr",
     "output_type": "stream",
     "text": [
      "C:\\Python310\\lib\\site-packages\\scipy\\optimize\\_linesearch.py:456: LineSearchWarning: The line search algorithm did not converge\n",
      "  warn('The line search algorithm did not converge', LineSearchWarning)\n",
      "C:\\Python310\\lib\\site-packages\\scipy\\optimize\\_linesearch.py:305: LineSearchWarning: The line search algorithm did not converge\n",
      "  warn('The line search algorithm did not converge', LineSearchWarning)\n",
      "C:\\Python310\\lib\\site-packages\\sklearn\\utils\\optimize.py:210: ConvergenceWarning: newton-cg failed to converge. Increase the number of iterations.\n",
      "  warnings.warn(\n"
     ]
    },
    {
     "name": "stdout",
     "output_type": "stream",
     "text": [
      "No of FN: 30\n",
      "7092.449999999999\n",
      "[CV 2/5; 61/96] END C=1, penalty=none, solver=newton-cg;, score=-7092.450 total time=   9.7s\n",
      "[CV 3/5; 61/96] START C=1, penalty=none, solver=newton-cg.......................\n"
     ]
    },
    {
     "name": "stderr",
     "output_type": "stream",
     "text": [
      "C:\\Python310\\lib\\site-packages\\scipy\\optimize\\_linesearch.py:456: LineSearchWarning: The line search algorithm did not converge\n",
      "  warn('The line search algorithm did not converge', LineSearchWarning)\n",
      "C:\\Python310\\lib\\site-packages\\scipy\\optimize\\_linesearch.py:305: LineSearchWarning: The line search algorithm did not converge\n",
      "  warn('The line search algorithm did not converge', LineSearchWarning)\n",
      "C:\\Python310\\lib\\site-packages\\sklearn\\utils\\optimize.py:210: ConvergenceWarning: newton-cg failed to converge. Increase the number of iterations.\n",
      "  warnings.warn(\n"
     ]
    },
    {
     "name": "stdout",
     "output_type": "stream",
     "text": [
      "No of FN: 28\n",
      "3285.26\n",
      "[CV 3/5; 61/96] END C=1, penalty=none, solver=newton-cg;, score=-3285.260 total time=   9.7s\n",
      "[CV 4/5; 61/96] START C=1, penalty=none, solver=newton-cg.......................\n"
     ]
    },
    {
     "name": "stderr",
     "output_type": "stream",
     "text": [
      "C:\\Python310\\lib\\site-packages\\scipy\\optimize\\_linesearch.py:456: LineSearchWarning: The line search algorithm did not converge\n",
      "  warn('The line search algorithm did not converge', LineSearchWarning)\n",
      "C:\\Python310\\lib\\site-packages\\scipy\\optimize\\_linesearch.py:305: LineSearchWarning: The line search algorithm did not converge\n",
      "  warn('The line search algorithm did not converge', LineSearchWarning)\n",
      "C:\\Python310\\lib\\site-packages\\sklearn\\utils\\optimize.py:210: ConvergenceWarning: newton-cg failed to converge. Increase the number of iterations.\n",
      "  warnings.warn(\n"
     ]
    },
    {
     "name": "stdout",
     "output_type": "stream",
     "text": [
      "No of FN: 29\n",
      "4171.469999999999\n",
      "[CV 4/5; 61/96] END C=1, penalty=none, solver=newton-cg;, score=-4171.470 total time=   9.3s\n",
      "[CV 5/5; 61/96] START C=1, penalty=none, solver=newton-cg.......................\n"
     ]
    },
    {
     "name": "stderr",
     "output_type": "stream",
     "text": [
      "C:\\Python310\\lib\\site-packages\\scipy\\optimize\\_linesearch.py:456: LineSearchWarning: The line search algorithm did not converge\n",
      "  warn('The line search algorithm did not converge', LineSearchWarning)\n",
      "C:\\Python310\\lib\\site-packages\\scipy\\optimize\\_linesearch.py:305: LineSearchWarning: The line search algorithm did not converge\n",
      "  warn('The line search algorithm did not converge', LineSearchWarning)\n",
      "C:\\Python310\\lib\\site-packages\\sklearn\\utils\\optimize.py:210: ConvergenceWarning: newton-cg failed to converge. Increase the number of iterations.\n",
      "  warnings.warn(\n"
     ]
    },
    {
     "name": "stdout",
     "output_type": "stream",
     "text": [
      "No of FN: 36\n",
      "10254.79\n",
      "[CV 5/5; 61/96] END C=1, penalty=none, solver=newton-cg;, score=-10254.790 total time=   9.1s\n",
      "[CV 1/5; 62/96] START C=1, penalty=none, solver=lbfgs...........................\n"
     ]
    },
    {
     "name": "stderr",
     "output_type": "stream",
     "text": [
      "C:\\Python310\\lib\\site-packages\\sklearn\\linear_model\\_logistic.py:444: ConvergenceWarning: lbfgs failed to converge (status=1):\n",
      "STOP: TOTAL NO. of ITERATIONS REACHED LIMIT.\n",
      "\n",
      "Increase the number of iterations (max_iter) or scale the data as shown in:\n",
      "    https://scikit-learn.org/stable/modules/preprocessing.html\n",
      "Please also refer to the documentation for alternative solver options:\n",
      "    https://scikit-learn.org/stable/modules/linear_model.html#logistic-regression\n",
      "  n_iter_i = _check_optimize_result(\n"
     ]
    },
    {
     "name": "stdout",
     "output_type": "stream",
     "text": [
      "No of FN: 21\n",
      "5005.969999999999\n",
      "[CV 1/5; 62/96] END C=1, penalty=none, solver=lbfgs;, score=-5005.970 total time=   1.5s\n",
      "[CV 2/5; 62/96] START C=1, penalty=none, solver=lbfgs...........................\n"
     ]
    },
    {
     "name": "stderr",
     "output_type": "stream",
     "text": [
      "C:\\Python310\\lib\\site-packages\\sklearn\\linear_model\\_logistic.py:444: ConvergenceWarning: lbfgs failed to converge (status=1):\n",
      "STOP: TOTAL NO. of ITERATIONS REACHED LIMIT.\n",
      "\n",
      "Increase the number of iterations (max_iter) or scale the data as shown in:\n",
      "    https://scikit-learn.org/stable/modules/preprocessing.html\n",
      "Please also refer to the documentation for alternative solver options:\n",
      "    https://scikit-learn.org/stable/modules/linear_model.html#logistic-regression\n",
      "  n_iter_i = _check_optimize_result(\n"
     ]
    },
    {
     "name": "stdout",
     "output_type": "stream",
     "text": [
      "No of FN: 29\n",
      "7263.7300000000005\n",
      "[CV 2/5; 62/96] END C=1, penalty=none, solver=lbfgs;, score=-7263.730 total time=   1.4s\n",
      "[CV 3/5; 62/96] START C=1, penalty=none, solver=lbfgs...........................\n"
     ]
    },
    {
     "name": "stderr",
     "output_type": "stream",
     "text": [
      "C:\\Python310\\lib\\site-packages\\sklearn\\linear_model\\_logistic.py:444: ConvergenceWarning: lbfgs failed to converge (status=1):\n",
      "STOP: TOTAL NO. of ITERATIONS REACHED LIMIT.\n",
      "\n",
      "Increase the number of iterations (max_iter) or scale the data as shown in:\n",
      "    https://scikit-learn.org/stable/modules/preprocessing.html\n",
      "Please also refer to the documentation for alternative solver options:\n",
      "    https://scikit-learn.org/stable/modules/linear_model.html#logistic-regression\n",
      "  n_iter_i = _check_optimize_result(\n"
     ]
    },
    {
     "name": "stdout",
     "output_type": "stream",
     "text": [
      "No of FN: 27\n",
      "4114.3\n",
      "[CV 3/5; 62/96] END C=1, penalty=none, solver=lbfgs;, score=-4114.300 total time=   1.3s\n",
      "[CV 4/5; 62/96] START C=1, penalty=none, solver=lbfgs...........................\n"
     ]
    },
    {
     "name": "stderr",
     "output_type": "stream",
     "text": [
      "C:\\Python310\\lib\\site-packages\\sklearn\\linear_model\\_logistic.py:444: ConvergenceWarning: lbfgs failed to converge (status=1):\n",
      "STOP: TOTAL NO. of ITERATIONS REACHED LIMIT.\n",
      "\n",
      "Increase the number of iterations (max_iter) or scale the data as shown in:\n",
      "    https://scikit-learn.org/stable/modules/preprocessing.html\n",
      "Please also refer to the documentation for alternative solver options:\n",
      "    https://scikit-learn.org/stable/modules/linear_model.html#logistic-regression\n",
      "  n_iter_i = _check_optimize_result(\n"
     ]
    },
    {
     "name": "stdout",
     "output_type": "stream",
     "text": [
      "No of FN: 26\n",
      "3790.4599999999996\n",
      "[CV 4/5; 62/96] END C=1, penalty=none, solver=lbfgs;, score=-3790.460 total time=   1.4s\n",
      "[CV 5/5; 62/96] START C=1, penalty=none, solver=lbfgs...........................\n"
     ]
    },
    {
     "name": "stderr",
     "output_type": "stream",
     "text": [
      "C:\\Python310\\lib\\site-packages\\sklearn\\linear_model\\_logistic.py:444: ConvergenceWarning: lbfgs failed to converge (status=1):\n",
      "STOP: TOTAL NO. of ITERATIONS REACHED LIMIT.\n",
      "\n",
      "Increase the number of iterations (max_iter) or scale the data as shown in:\n",
      "    https://scikit-learn.org/stable/modules/preprocessing.html\n",
      "Please also refer to the documentation for alternative solver options:\n",
      "    https://scikit-learn.org/stable/modules/linear_model.html#logistic-regression\n",
      "  n_iter_i = _check_optimize_result(\n"
     ]
    },
    {
     "name": "stdout",
     "output_type": "stream",
     "text": [
      "No of FN: 39\n",
      "11250.080000000002\n",
      "[CV 5/5; 62/96] END C=1, penalty=none, solver=lbfgs;, score=-11250.080 total time=   1.4s\n",
      "[CV 1/5; 63/96] START C=1, penalty=none, solver=liblinear.......................\n",
      "[CV 1/5; 63/96] END C=1, penalty=none, solver=liblinear;, score=nan total time=   0.0s\n",
      "[CV 2/5; 63/96] START C=1, penalty=none, solver=liblinear.......................\n",
      "[CV 2/5; 63/96] END C=1, penalty=none, solver=liblinear;, score=nan total time=   0.0s\n",
      "[CV 3/5; 63/96] START C=1, penalty=none, solver=liblinear.......................\n",
      "[CV 3/5; 63/96] END C=1, penalty=none, solver=liblinear;, score=nan total time=   0.0s\n",
      "[CV 4/5; 63/96] START C=1, penalty=none, solver=liblinear.......................\n",
      "[CV 4/5; 63/96] END C=1, penalty=none, solver=liblinear;, score=nan total time=   0.0s\n",
      "[CV 5/5; 63/96] START C=1, penalty=none, solver=liblinear.......................\n",
      "[CV 5/5; 63/96] END C=1, penalty=none, solver=liblinear;, score=nan total time=   0.0s\n",
      "[CV 1/5; 64/96] START C=1, penalty=l1, solver=newton-cg.........................\n",
      "[CV 1/5; 64/96] END C=1, penalty=l1, solver=newton-cg;, score=nan total time=   0.0s\n",
      "[CV 2/5; 64/96] START C=1, penalty=l1, solver=newton-cg.........................\n",
      "[CV 2/5; 64/96] END C=1, penalty=l1, solver=newton-cg;, score=nan total time=   0.0s\n",
      "[CV 3/5; 64/96] START C=1, penalty=l1, solver=newton-cg.........................\n",
      "[CV 3/5; 64/96] END C=1, penalty=l1, solver=newton-cg;, score=nan total time=   0.0s\n",
      "[CV 4/5; 64/96] START C=1, penalty=l1, solver=newton-cg.........................\n",
      "[CV 4/5; 64/96] END C=1, penalty=l1, solver=newton-cg;, score=nan total time=   0.0s\n",
      "[CV 5/5; 64/96] START C=1, penalty=l1, solver=newton-cg.........................\n",
      "[CV 5/5; 64/96] END C=1, penalty=l1, solver=newton-cg;, score=nan total time=   0.0s\n",
      "[CV 1/5; 65/96] START C=1, penalty=l1, solver=lbfgs.............................\n",
      "[CV 1/5; 65/96] END C=1, penalty=l1, solver=lbfgs;, score=nan total time=   0.0s\n",
      "[CV 2/5; 65/96] START C=1, penalty=l1, solver=lbfgs.............................\n",
      "[CV 2/5; 65/96] END C=1, penalty=l1, solver=lbfgs;, score=nan total time=   0.0s\n",
      "[CV 3/5; 65/96] START C=1, penalty=l1, solver=lbfgs.............................\n",
      "[CV 3/5; 65/96] END C=1, penalty=l1, solver=lbfgs;, score=nan total time=   0.0s\n",
      "[CV 4/5; 65/96] START C=1, penalty=l1, solver=lbfgs.............................\n",
      "[CV 4/5; 65/96] END C=1, penalty=l1, solver=lbfgs;, score=nan total time=   0.0s\n",
      "[CV 5/5; 65/96] START C=1, penalty=l1, solver=lbfgs.............................\n",
      "[CV 5/5; 65/96] END C=1, penalty=l1, solver=lbfgs;, score=nan total time=   0.0s\n",
      "[CV 1/5; 66/96] START C=1, penalty=l1, solver=liblinear.........................\n",
      "No of FN: 35\n",
      "5389.969999999999\n",
      "[CV 1/5; 66/96] END C=1, penalty=l1, solver=liblinear;, score=-5389.970 total time=   2.6s\n",
      "[CV 2/5; 66/96] START C=1, penalty=l1, solver=liblinear.........................\n",
      "No of FN: 31\n",
      "7112.75\n",
      "[CV 2/5; 66/96] END C=1, penalty=l1, solver=liblinear;, score=-7112.750 total time=   1.8s\n",
      "[CV 3/5; 66/96] START C=1, penalty=l1, solver=liblinear.........................\n",
      "No of FN: 24\n",
      "2624.96\n",
      "[CV 3/5; 66/96] END C=1, penalty=l1, solver=liblinear;, score=-2624.960 total time=   2.1s\n",
      "[CV 4/5; 66/96] START C=1, penalty=l1, solver=liblinear.........................\n",
      "No of FN: 28\n",
      "3727.609999999999\n",
      "[CV 4/5; 66/96] END C=1, penalty=l1, solver=liblinear;, score=-3727.610 total time=   1.8s\n",
      "[CV 5/5; 66/96] START C=1, penalty=l1, solver=liblinear.........................\n",
      "No of FN: 36\n",
      "8788.130000000001\n",
      "[CV 5/5; 66/96] END C=1, penalty=l1, solver=liblinear;, score=-8788.130 total time=   2.1s\n",
      "[CV 1/5; 67/96] START C=1, penalty=l2, solver=newton-cg.........................\n"
     ]
    },
    {
     "name": "stderr",
     "output_type": "stream",
     "text": [
      "C:\\Python310\\lib\\site-packages\\sklearn\\utils\\optimize.py:210: ConvergenceWarning: newton-cg failed to converge. Increase the number of iterations.\n",
      "  warnings.warn(\n"
     ]
    },
    {
     "name": "stdout",
     "output_type": "stream",
     "text": [
      "No of FN: 33\n",
      "5397.219999999999\n",
      "[CV 1/5; 67/96] END C=1, penalty=l2, solver=newton-cg;, score=-5397.220 total time=   9.8s\n",
      "[CV 2/5; 67/96] START C=1, penalty=l2, solver=newton-cg.........................\n"
     ]
    },
    {
     "name": "stderr",
     "output_type": "stream",
     "text": [
      "C:\\Python310\\lib\\site-packages\\sklearn\\utils\\optimize.py:210: ConvergenceWarning: newton-cg failed to converge. Increase the number of iterations.\n",
      "  warnings.warn(\n"
     ]
    },
    {
     "name": "stdout",
     "output_type": "stream",
     "text": [
      "No of FN: 30\n",
      "7092.449999999999\n",
      "[CV 2/5; 67/96] END C=1, penalty=l2, solver=newton-cg;, score=-7092.450 total time=   9.4s\n",
      "[CV 3/5; 67/96] START C=1, penalty=l2, solver=newton-cg.........................\n"
     ]
    },
    {
     "name": "stderr",
     "output_type": "stream",
     "text": [
      "C:\\Python310\\lib\\site-packages\\sklearn\\utils\\optimize.py:210: ConvergenceWarning: newton-cg failed to converge. Increase the number of iterations.\n",
      "  warnings.warn(\n"
     ]
    },
    {
     "name": "stdout",
     "output_type": "stream",
     "text": [
      "No of FN: 28\n",
      "3285.26\n",
      "[CV 3/5; 67/96] END C=1, penalty=l2, solver=newton-cg;, score=-3285.260 total time=   9.4s\n",
      "[CV 4/5; 67/96] START C=1, penalty=l2, solver=newton-cg.........................\n"
     ]
    },
    {
     "name": "stderr",
     "output_type": "stream",
     "text": [
      "C:\\Python310\\lib\\site-packages\\scipy\\optimize\\_linesearch.py:456: LineSearchWarning: The line search algorithm did not converge\n",
      "  warn('The line search algorithm did not converge', LineSearchWarning)\n",
      "C:\\Python310\\lib\\site-packages\\scipy\\optimize\\_linesearch.py:305: LineSearchWarning: The line search algorithm did not converge\n",
      "  warn('The line search algorithm did not converge', LineSearchWarning)\n",
      "C:\\Python310\\lib\\site-packages\\sklearn\\utils\\optimize.py:210: ConvergenceWarning: newton-cg failed to converge. Increase the number of iterations.\n",
      "  warnings.warn(\n"
     ]
    },
    {
     "name": "stdout",
     "output_type": "stream",
     "text": [
      "No of FN: 31\n",
      "4308.269999999999\n",
      "[CV 4/5; 67/96] END C=1, penalty=l2, solver=newton-cg;, score=-4308.270 total time=   9.7s\n",
      "[CV 5/5; 67/96] START C=1, penalty=l2, solver=newton-cg.........................\n"
     ]
    },
    {
     "name": "stderr",
     "output_type": "stream",
     "text": [
      "C:\\Python310\\lib\\site-packages\\scipy\\optimize\\_linesearch.py:456: LineSearchWarning: The line search algorithm did not converge\n",
      "  warn('The line search algorithm did not converge', LineSearchWarning)\n",
      "C:\\Python310\\lib\\site-packages\\scipy\\optimize\\_linesearch.py:305: LineSearchWarning: The line search algorithm did not converge\n",
      "  warn('The line search algorithm did not converge', LineSearchWarning)\n",
      "C:\\Python310\\lib\\site-packages\\sklearn\\utils\\optimize.py:210: ConvergenceWarning: newton-cg failed to converge. Increase the number of iterations.\n",
      "  warnings.warn(\n"
     ]
    },
    {
     "name": "stdout",
     "output_type": "stream",
     "text": [
      "No of FN: 36\n",
      "10249.79\n",
      "[CV 5/5; 67/96] END C=1, penalty=l2, solver=newton-cg;, score=-10249.790 total time=   9.6s\n",
      "[CV 1/5; 68/96] START C=1, penalty=l2, solver=lbfgs.............................\n"
     ]
    },
    {
     "name": "stderr",
     "output_type": "stream",
     "text": [
      "C:\\Python310\\lib\\site-packages\\sklearn\\linear_model\\_logistic.py:444: ConvergenceWarning: lbfgs failed to converge (status=1):\n",
      "STOP: TOTAL NO. of ITERATIONS REACHED LIMIT.\n",
      "\n",
      "Increase the number of iterations (max_iter) or scale the data as shown in:\n",
      "    https://scikit-learn.org/stable/modules/preprocessing.html\n",
      "Please also refer to the documentation for alternative solver options:\n",
      "    https://scikit-learn.org/stable/modules/linear_model.html#logistic-regression\n",
      "  n_iter_i = _check_optimize_result(\n"
     ]
    },
    {
     "name": "stdout",
     "output_type": "stream",
     "text": [
      "No of FN: 21\n",
      "5010.969999999999\n",
      "[CV 1/5; 68/96] END C=1, penalty=l2, solver=lbfgs;, score=-5010.970 total time=   1.3s\n",
      "[CV 2/5; 68/96] START C=1, penalty=l2, solver=lbfgs.............................\n"
     ]
    },
    {
     "name": "stderr",
     "output_type": "stream",
     "text": [
      "C:\\Python310\\lib\\site-packages\\sklearn\\linear_model\\_logistic.py:444: ConvergenceWarning: lbfgs failed to converge (status=1):\n",
      "STOP: TOTAL NO. of ITERATIONS REACHED LIMIT.\n",
      "\n",
      "Increase the number of iterations (max_iter) or scale the data as shown in:\n",
      "    https://scikit-learn.org/stable/modules/preprocessing.html\n",
      "Please also refer to the documentation for alternative solver options:\n",
      "    https://scikit-learn.org/stable/modules/linear_model.html#logistic-regression\n",
      "  n_iter_i = _check_optimize_result(\n"
     ]
    },
    {
     "name": "stdout",
     "output_type": "stream",
     "text": [
      "No of FN: 27\n",
      "7201.780000000001\n",
      "[CV 2/5; 68/96] END C=1, penalty=l2, solver=lbfgs;, score=-7201.780 total time=   1.5s\n",
      "[CV 3/5; 68/96] START C=1, penalty=l2, solver=lbfgs.............................\n"
     ]
    },
    {
     "name": "stderr",
     "output_type": "stream",
     "text": [
      "C:\\Python310\\lib\\site-packages\\sklearn\\linear_model\\_logistic.py:444: ConvergenceWarning: lbfgs failed to converge (status=1):\n",
      "STOP: TOTAL NO. of ITERATIONS REACHED LIMIT.\n",
      "\n",
      "Increase the number of iterations (max_iter) or scale the data as shown in:\n",
      "    https://scikit-learn.org/stable/modules/preprocessing.html\n",
      "Please also refer to the documentation for alternative solver options:\n",
      "    https://scikit-learn.org/stable/modules/linear_model.html#logistic-regression\n",
      "  n_iter_i = _check_optimize_result(\n"
     ]
    },
    {
     "name": "stdout",
     "output_type": "stream",
     "text": [
      "No of FN: 22\n",
      "3013.9900000000002\n",
      "[CV 3/5; 68/96] END C=1, penalty=l2, solver=lbfgs;, score=-3013.990 total time=   1.3s\n",
      "[CV 4/5; 68/96] START C=1, penalty=l2, solver=lbfgs.............................\n"
     ]
    },
    {
     "name": "stderr",
     "output_type": "stream",
     "text": [
      "C:\\Python310\\lib\\site-packages\\sklearn\\linear_model\\_logistic.py:444: ConvergenceWarning: lbfgs failed to converge (status=1):\n",
      "STOP: TOTAL NO. of ITERATIONS REACHED LIMIT.\n",
      "\n",
      "Increase the number of iterations (max_iter) or scale the data as shown in:\n",
      "    https://scikit-learn.org/stable/modules/preprocessing.html\n",
      "Please also refer to the documentation for alternative solver options:\n",
      "    https://scikit-learn.org/stable/modules/linear_model.html#logistic-regression\n",
      "  n_iter_i = _check_optimize_result(\n"
     ]
    },
    {
     "name": "stdout",
     "output_type": "stream",
     "text": [
      "No of FN: 27\n",
      "3885.45\n",
      "[CV 4/5; 68/96] END C=1, penalty=l2, solver=lbfgs;, score=-3885.450 total time=   1.5s\n",
      "[CV 5/5; 68/96] START C=1, penalty=l2, solver=lbfgs.............................\n"
     ]
    },
    {
     "name": "stderr",
     "output_type": "stream",
     "text": [
      "C:\\Python310\\lib\\site-packages\\sklearn\\linear_model\\_logistic.py:444: ConvergenceWarning: lbfgs failed to converge (status=1):\n",
      "STOP: TOTAL NO. of ITERATIONS REACHED LIMIT.\n",
      "\n",
      "Increase the number of iterations (max_iter) or scale the data as shown in:\n",
      "    https://scikit-learn.org/stable/modules/preprocessing.html\n",
      "Please also refer to the documentation for alternative solver options:\n",
      "    https://scikit-learn.org/stable/modules/linear_model.html#logistic-regression\n",
      "  n_iter_i = _check_optimize_result(\n"
     ]
    },
    {
     "name": "stdout",
     "output_type": "stream",
     "text": [
      "No of FN: 39\n",
      "11250.080000000002\n",
      "[CV 5/5; 68/96] END C=1, penalty=l2, solver=lbfgs;, score=-11250.080 total time=   1.5s\n",
      "[CV 1/5; 69/96] START C=1, penalty=l2, solver=liblinear.........................\n",
      "No of FN: 30\n",
      "5560.88\n",
      "[CV 1/5; 69/96] END C=1, penalty=l2, solver=liblinear;, score=-5560.880 total time=   1.7s\n",
      "[CV 2/5; 69/96] START C=1, penalty=l2, solver=liblinear.........................\n",
      "No of FN: 32\n",
      "7059.46\n",
      "[CV 2/5; 69/96] END C=1, penalty=l2, solver=liblinear;, score=-7059.460 total time=   1.9s\n",
      "[CV 3/5; 69/96] START C=1, penalty=l2, solver=liblinear.........................\n",
      "No of FN: 28\n",
      "3469.4000000000005\n",
      "[CV 3/5; 69/96] END C=1, penalty=l2, solver=liblinear;, score=-3469.400 total time=   2.5s\n",
      "[CV 4/5; 69/96] START C=1, penalty=l2, solver=liblinear.........................\n",
      "No of FN: 35\n",
      "4350.579999999999\n",
      "[CV 4/5; 69/96] END C=1, penalty=l2, solver=liblinear;, score=-4350.580 total time=   1.7s\n",
      "[CV 5/5; 69/96] START C=1, penalty=l2, solver=liblinear.........................\n",
      "No of FN: 40\n",
      "11141.570000000002\n",
      "[CV 5/5; 69/96] END C=1, penalty=l2, solver=liblinear;, score=-11141.570 total time=   1.5s\n",
      "[CV 1/5; 70/96] START C=1, penalty=elasticnet, solver=newton-cg.................\n",
      "[CV 1/5; 70/96] END C=1, penalty=elasticnet, solver=newton-cg;, score=nan total time=   0.0s\n",
      "[CV 2/5; 70/96] START C=1, penalty=elasticnet, solver=newton-cg.................\n",
      "[CV 2/5; 70/96] END C=1, penalty=elasticnet, solver=newton-cg;, score=nan total time=   0.0s\n",
      "[CV 3/5; 70/96] START C=1, penalty=elasticnet, solver=newton-cg.................\n",
      "[CV 3/5; 70/96] END C=1, penalty=elasticnet, solver=newton-cg;, score=nan total time=   0.0s\n",
      "[CV 4/5; 70/96] START C=1, penalty=elasticnet, solver=newton-cg.................\n",
      "[CV 4/5; 70/96] END C=1, penalty=elasticnet, solver=newton-cg;, score=nan total time=   0.0s\n",
      "[CV 5/5; 70/96] START C=1, penalty=elasticnet, solver=newton-cg.................\n",
      "[CV 5/5; 70/96] END C=1, penalty=elasticnet, solver=newton-cg;, score=nan total time=   0.0s\n",
      "[CV 1/5; 71/96] START C=1, penalty=elasticnet, solver=lbfgs.....................\n",
      "[CV 1/5; 71/96] END C=1, penalty=elasticnet, solver=lbfgs;, score=nan total time=   0.0s\n",
      "[CV 2/5; 71/96] START C=1, penalty=elasticnet, solver=lbfgs.....................\n",
      "[CV 2/5; 71/96] END C=1, penalty=elasticnet, solver=lbfgs;, score=nan total time=   0.0s\n",
      "[CV 3/5; 71/96] START C=1, penalty=elasticnet, solver=lbfgs.....................\n",
      "[CV 3/5; 71/96] END C=1, penalty=elasticnet, solver=lbfgs;, score=nan total time=   0.0s\n",
      "[CV 4/5; 71/96] START C=1, penalty=elasticnet, solver=lbfgs.....................\n",
      "[CV 4/5; 71/96] END C=1, penalty=elasticnet, solver=lbfgs;, score=nan total time=   0.0s\n",
      "[CV 5/5; 71/96] START C=1, penalty=elasticnet, solver=lbfgs.....................\n",
      "[CV 5/5; 71/96] END C=1, penalty=elasticnet, solver=lbfgs;, score=nan total time=   0.0s\n",
      "[CV 1/5; 72/96] START C=1, penalty=elasticnet, solver=liblinear.................\n",
      "[CV 1/5; 72/96] END C=1, penalty=elasticnet, solver=liblinear;, score=nan total time=   0.0s\n",
      "[CV 2/5; 72/96] START C=1, penalty=elasticnet, solver=liblinear.................\n",
      "[CV 2/5; 72/96] END C=1, penalty=elasticnet, solver=liblinear;, score=nan total time=   0.0s\n",
      "[CV 3/5; 72/96] START C=1, penalty=elasticnet, solver=liblinear.................\n",
      "[CV 3/5; 72/96] END C=1, penalty=elasticnet, solver=liblinear;, score=nan total time=   0.0s\n",
      "[CV 4/5; 72/96] START C=1, penalty=elasticnet, solver=liblinear.................\n",
      "[CV 4/5; 72/96] END C=1, penalty=elasticnet, solver=liblinear;, score=nan total time=   0.0s\n",
      "[CV 5/5; 72/96] START C=1, penalty=elasticnet, solver=liblinear.................\n",
      "[CV 5/5; 72/96] END C=1, penalty=elasticnet, solver=liblinear;, score=nan total time=   0.0s\n",
      "[CV 1/5; 73/96] START C=10, penalty=none, solver=newton-cg......................\n"
     ]
    },
    {
     "name": "stderr",
     "output_type": "stream",
     "text": [
      "C:\\Python310\\lib\\site-packages\\sklearn\\linear_model\\_logistic.py:1113: UserWarning: Setting penalty='none' will ignore the C and l1_ratio parameters\n",
      "  warnings.warn(\n",
      "C:\\Python310\\lib\\site-packages\\scipy\\optimize\\_linesearch.py:456: LineSearchWarning: The line search algorithm did not converge\n",
      "  warn('The line search algorithm did not converge', LineSearchWarning)\n",
      "C:\\Python310\\lib\\site-packages\\scipy\\optimize\\_linesearch.py:305: LineSearchWarning: The line search algorithm did not converge\n",
      "  warn('The line search algorithm did not converge', LineSearchWarning)\n",
      "C:\\Python310\\lib\\site-packages\\sklearn\\utils\\optimize.py:210: ConvergenceWarning: newton-cg failed to converge. Increase the number of iterations.\n",
      "  warnings.warn(\n",
      "C:\\Python310\\lib\\site-packages\\sklearn\\linear_model\\_logistic.py:1113: UserWarning: Setting penalty='none' will ignore the C and l1_ratio parameters\n",
      "  warnings.warn(\n"
     ]
    },
    {
     "name": "stdout",
     "output_type": "stream",
     "text": [
      "No of FN: 33\n",
      "5397.219999999999\n",
      "[CV 1/5; 73/96] END C=10, penalty=none, solver=newton-cg;, score=-5397.220 total time=  10.1s\n",
      "[CV 2/5; 73/96] START C=10, penalty=none, solver=newton-cg......................\n"
     ]
    },
    {
     "name": "stderr",
     "output_type": "stream",
     "text": [
      "C:\\Python310\\lib\\site-packages\\scipy\\optimize\\_linesearch.py:456: LineSearchWarning: The line search algorithm did not converge\n",
      "  warn('The line search algorithm did not converge', LineSearchWarning)\n",
      "C:\\Python310\\lib\\site-packages\\scipy\\optimize\\_linesearch.py:305: LineSearchWarning: The line search algorithm did not converge\n",
      "  warn('The line search algorithm did not converge', LineSearchWarning)\n",
      "C:\\Python310\\lib\\site-packages\\sklearn\\utils\\optimize.py:210: ConvergenceWarning: newton-cg failed to converge. Increase the number of iterations.\n",
      "  warnings.warn(\n",
      "C:\\Python310\\lib\\site-packages\\sklearn\\linear_model\\_logistic.py:1113: UserWarning: Setting penalty='none' will ignore the C and l1_ratio parameters\n",
      "  warnings.warn(\n"
     ]
    },
    {
     "name": "stdout",
     "output_type": "stream",
     "text": [
      "No of FN: 30\n",
      "7092.449999999999\n",
      "[CV 2/5; 73/96] END C=10, penalty=none, solver=newton-cg;, score=-7092.450 total time=   9.8s\n",
      "[CV 3/5; 73/96] START C=10, penalty=none, solver=newton-cg......................\n"
     ]
    },
    {
     "name": "stderr",
     "output_type": "stream",
     "text": [
      "C:\\Python310\\lib\\site-packages\\scipy\\optimize\\_linesearch.py:456: LineSearchWarning: The line search algorithm did not converge\n",
      "  warn('The line search algorithm did not converge', LineSearchWarning)\n",
      "C:\\Python310\\lib\\site-packages\\scipy\\optimize\\_linesearch.py:305: LineSearchWarning: The line search algorithm did not converge\n",
      "  warn('The line search algorithm did not converge', LineSearchWarning)\n",
      "C:\\Python310\\lib\\site-packages\\sklearn\\utils\\optimize.py:210: ConvergenceWarning: newton-cg failed to converge. Increase the number of iterations.\n",
      "  warnings.warn(\n",
      "C:\\Python310\\lib\\site-packages\\sklearn\\linear_model\\_logistic.py:1113: UserWarning: Setting penalty='none' will ignore the C and l1_ratio parameters\n",
      "  warnings.warn(\n"
     ]
    },
    {
     "name": "stdout",
     "output_type": "stream",
     "text": [
      "No of FN: 28\n",
      "3285.26\n",
      "[CV 3/5; 73/96] END C=10, penalty=none, solver=newton-cg;, score=-3285.260 total time=   9.7s\n",
      "[CV 4/5; 73/96] START C=10, penalty=none, solver=newton-cg......................\n"
     ]
    },
    {
     "name": "stderr",
     "output_type": "stream",
     "text": [
      "C:\\Python310\\lib\\site-packages\\scipy\\optimize\\_linesearch.py:456: LineSearchWarning: The line search algorithm did not converge\n",
      "  warn('The line search algorithm did not converge', LineSearchWarning)\n",
      "C:\\Python310\\lib\\site-packages\\scipy\\optimize\\_linesearch.py:305: LineSearchWarning: The line search algorithm did not converge\n",
      "  warn('The line search algorithm did not converge', LineSearchWarning)\n",
      "C:\\Python310\\lib\\site-packages\\sklearn\\utils\\optimize.py:210: ConvergenceWarning: newton-cg failed to converge. Increase the number of iterations.\n",
      "  warnings.warn(\n",
      "C:\\Python310\\lib\\site-packages\\sklearn\\linear_model\\_logistic.py:1113: UserWarning: Setting penalty='none' will ignore the C and l1_ratio parameters\n",
      "  warnings.warn(\n"
     ]
    },
    {
     "name": "stdout",
     "output_type": "stream",
     "text": [
      "No of FN: 29\n",
      "4171.469999999999\n",
      "[CV 4/5; 73/96] END C=10, penalty=none, solver=newton-cg;, score=-4171.470 total time=   9.4s\n",
      "[CV 5/5; 73/96] START C=10, penalty=none, solver=newton-cg......................\n"
     ]
    },
    {
     "name": "stderr",
     "output_type": "stream",
     "text": [
      "C:\\Python310\\lib\\site-packages\\scipy\\optimize\\_linesearch.py:456: LineSearchWarning: The line search algorithm did not converge\n",
      "  warn('The line search algorithm did not converge', LineSearchWarning)\n",
      "C:\\Python310\\lib\\site-packages\\scipy\\optimize\\_linesearch.py:305: LineSearchWarning: The line search algorithm did not converge\n",
      "  warn('The line search algorithm did not converge', LineSearchWarning)\n",
      "C:\\Python310\\lib\\site-packages\\sklearn\\utils\\optimize.py:210: ConvergenceWarning: newton-cg failed to converge. Increase the number of iterations.\n",
      "  warnings.warn(\n",
      "C:\\Python310\\lib\\site-packages\\sklearn\\linear_model\\_logistic.py:1113: UserWarning: Setting penalty='none' will ignore the C and l1_ratio parameters\n",
      "  warnings.warn(\n"
     ]
    },
    {
     "name": "stdout",
     "output_type": "stream",
     "text": [
      "No of FN: 36\n",
      "10254.79\n",
      "[CV 5/5; 73/96] END C=10, penalty=none, solver=newton-cg;, score=-10254.790 total time=   9.3s\n",
      "[CV 1/5; 74/96] START C=10, penalty=none, solver=lbfgs..........................\n"
     ]
    },
    {
     "name": "stderr",
     "output_type": "stream",
     "text": [
      "C:\\Python310\\lib\\site-packages\\sklearn\\linear_model\\_logistic.py:444: ConvergenceWarning: lbfgs failed to converge (status=1):\n",
      "STOP: TOTAL NO. of ITERATIONS REACHED LIMIT.\n",
      "\n",
      "Increase the number of iterations (max_iter) or scale the data as shown in:\n",
      "    https://scikit-learn.org/stable/modules/preprocessing.html\n",
      "Please also refer to the documentation for alternative solver options:\n",
      "    https://scikit-learn.org/stable/modules/linear_model.html#logistic-regression\n",
      "  n_iter_i = _check_optimize_result(\n",
      "C:\\Python310\\lib\\site-packages\\sklearn\\linear_model\\_logistic.py:1113: UserWarning: Setting penalty='none' will ignore the C and l1_ratio parameters\n",
      "  warnings.warn(\n"
     ]
    },
    {
     "name": "stdout",
     "output_type": "stream",
     "text": [
      "No of FN: 21\n",
      "5005.969999999999\n",
      "[CV 1/5; 74/96] END C=10, penalty=none, solver=lbfgs;, score=-5005.970 total time=   1.5s\n",
      "[CV 2/5; 74/96] START C=10, penalty=none, solver=lbfgs..........................\n"
     ]
    },
    {
     "name": "stderr",
     "output_type": "stream",
     "text": [
      "C:\\Python310\\lib\\site-packages\\sklearn\\linear_model\\_logistic.py:444: ConvergenceWarning: lbfgs failed to converge (status=1):\n",
      "STOP: TOTAL NO. of ITERATIONS REACHED LIMIT.\n",
      "\n",
      "Increase the number of iterations (max_iter) or scale the data as shown in:\n",
      "    https://scikit-learn.org/stable/modules/preprocessing.html\n",
      "Please also refer to the documentation for alternative solver options:\n",
      "    https://scikit-learn.org/stable/modules/linear_model.html#logistic-regression\n",
      "  n_iter_i = _check_optimize_result(\n",
      "C:\\Python310\\lib\\site-packages\\sklearn\\linear_model\\_logistic.py:1113: UserWarning: Setting penalty='none' will ignore the C and l1_ratio parameters\n",
      "  warnings.warn(\n"
     ]
    },
    {
     "name": "stdout",
     "output_type": "stream",
     "text": [
      "No of FN: 29\n",
      "7263.7300000000005\n",
      "[CV 2/5; 74/96] END C=10, penalty=none, solver=lbfgs;, score=-7263.730 total time=   1.3s\n",
      "[CV 3/5; 74/96] START C=10, penalty=none, solver=lbfgs..........................\n"
     ]
    },
    {
     "name": "stderr",
     "output_type": "stream",
     "text": [
      "C:\\Python310\\lib\\site-packages\\sklearn\\linear_model\\_logistic.py:444: ConvergenceWarning: lbfgs failed to converge (status=1):\n",
      "STOP: TOTAL NO. of ITERATIONS REACHED LIMIT.\n",
      "\n",
      "Increase the number of iterations (max_iter) or scale the data as shown in:\n",
      "    https://scikit-learn.org/stable/modules/preprocessing.html\n",
      "Please also refer to the documentation for alternative solver options:\n",
      "    https://scikit-learn.org/stable/modules/linear_model.html#logistic-regression\n",
      "  n_iter_i = _check_optimize_result(\n",
      "C:\\Python310\\lib\\site-packages\\sklearn\\linear_model\\_logistic.py:1113: UserWarning: Setting penalty='none' will ignore the C and l1_ratio parameters\n",
      "  warnings.warn(\n"
     ]
    },
    {
     "name": "stdout",
     "output_type": "stream",
     "text": [
      "No of FN: 27\n",
      "4114.3\n",
      "[CV 3/5; 74/96] END C=10, penalty=none, solver=lbfgs;, score=-4114.300 total time=   1.3s\n",
      "[CV 4/5; 74/96] START C=10, penalty=none, solver=lbfgs..........................\n"
     ]
    },
    {
     "name": "stderr",
     "output_type": "stream",
     "text": [
      "C:\\Python310\\lib\\site-packages\\sklearn\\linear_model\\_logistic.py:444: ConvergenceWarning: lbfgs failed to converge (status=1):\n",
      "STOP: TOTAL NO. of ITERATIONS REACHED LIMIT.\n",
      "\n",
      "Increase the number of iterations (max_iter) or scale the data as shown in:\n",
      "    https://scikit-learn.org/stable/modules/preprocessing.html\n",
      "Please also refer to the documentation for alternative solver options:\n",
      "    https://scikit-learn.org/stable/modules/linear_model.html#logistic-regression\n",
      "  n_iter_i = _check_optimize_result(\n",
      "C:\\Python310\\lib\\site-packages\\sklearn\\linear_model\\_logistic.py:1113: UserWarning: Setting penalty='none' will ignore the C and l1_ratio parameters\n",
      "  warnings.warn(\n"
     ]
    },
    {
     "name": "stdout",
     "output_type": "stream",
     "text": [
      "No of FN: 26\n",
      "3790.4599999999996\n",
      "[CV 4/5; 74/96] END C=10, penalty=none, solver=lbfgs;, score=-3790.460 total time=   1.4s\n",
      "[CV 5/5; 74/96] START C=10, penalty=none, solver=lbfgs..........................\n"
     ]
    },
    {
     "name": "stderr",
     "output_type": "stream",
     "text": [
      "C:\\Python310\\lib\\site-packages\\sklearn\\linear_model\\_logistic.py:444: ConvergenceWarning: lbfgs failed to converge (status=1):\n",
      "STOP: TOTAL NO. of ITERATIONS REACHED LIMIT.\n",
      "\n",
      "Increase the number of iterations (max_iter) or scale the data as shown in:\n",
      "    https://scikit-learn.org/stable/modules/preprocessing.html\n",
      "Please also refer to the documentation for alternative solver options:\n",
      "    https://scikit-learn.org/stable/modules/linear_model.html#logistic-regression\n",
      "  n_iter_i = _check_optimize_result(\n"
     ]
    },
    {
     "name": "stdout",
     "output_type": "stream",
     "text": [
      "No of FN: 39\n",
      "11250.080000000002\n",
      "[CV 5/5; 74/96] END C=10, penalty=none, solver=lbfgs;, score=-11250.080 total time=   1.4s\n",
      "[CV 1/5; 75/96] START C=10, penalty=none, solver=liblinear......................\n",
      "[CV 1/5; 75/96] END C=10, penalty=none, solver=liblinear;, score=nan total time=   0.0s\n",
      "[CV 2/5; 75/96] START C=10, penalty=none, solver=liblinear......................\n",
      "[CV 2/5; 75/96] END C=10, penalty=none, solver=liblinear;, score=nan total time=   0.0s\n",
      "[CV 3/5; 75/96] START C=10, penalty=none, solver=liblinear......................\n",
      "[CV 3/5; 75/96] END C=10, penalty=none, solver=liblinear;, score=nan total time=   0.0s\n",
      "[CV 4/5; 75/96] START C=10, penalty=none, solver=liblinear......................\n",
      "[CV 4/5; 75/96] END C=10, penalty=none, solver=liblinear;, score=nan total time=   0.0s\n",
      "[CV 5/5; 75/96] START C=10, penalty=none, solver=liblinear......................\n",
      "[CV 5/5; 75/96] END C=10, penalty=none, solver=liblinear;, score=nan total time=   0.0s\n",
      "[CV 1/5; 76/96] START C=10, penalty=l1, solver=newton-cg........................\n",
      "[CV 1/5; 76/96] END C=10, penalty=l1, solver=newton-cg;, score=nan total time=   0.0s\n",
      "[CV 2/5; 76/96] START C=10, penalty=l1, solver=newton-cg........................\n",
      "[CV 2/5; 76/96] END C=10, penalty=l1, solver=newton-cg;, score=nan total time=   0.0s\n",
      "[CV 3/5; 76/96] START C=10, penalty=l1, solver=newton-cg........................\n",
      "[CV 3/5; 76/96] END C=10, penalty=l1, solver=newton-cg;, score=nan total time=   0.0s\n",
      "[CV 4/5; 76/96] START C=10, penalty=l1, solver=newton-cg........................\n",
      "[CV 4/5; 76/96] END C=10, penalty=l1, solver=newton-cg;, score=nan total time=   0.0s\n",
      "[CV 5/5; 76/96] START C=10, penalty=l1, solver=newton-cg........................\n",
      "[CV 5/5; 76/96] END C=10, penalty=l1, solver=newton-cg;, score=nan total time=   0.0s\n",
      "[CV 1/5; 77/96] START C=10, penalty=l1, solver=lbfgs............................\n",
      "[CV 1/5; 77/96] END C=10, penalty=l1, solver=lbfgs;, score=nan total time=   0.0s\n",
      "[CV 2/5; 77/96] START C=10, penalty=l1, solver=lbfgs............................\n",
      "[CV 2/5; 77/96] END C=10, penalty=l1, solver=lbfgs;, score=nan total time=   0.0s\n",
      "[CV 3/5; 77/96] START C=10, penalty=l1, solver=lbfgs............................\n",
      "[CV 3/5; 77/96] END C=10, penalty=l1, solver=lbfgs;, score=nan total time=   0.0s\n",
      "[CV 4/5; 77/96] START C=10, penalty=l1, solver=lbfgs............................\n",
      "[CV 4/5; 77/96] END C=10, penalty=l1, solver=lbfgs;, score=nan total time=   0.0s\n",
      "[CV 5/5; 77/96] START C=10, penalty=l1, solver=lbfgs............................\n",
      "[CV 5/5; 77/96] END C=10, penalty=l1, solver=lbfgs;, score=nan total time=   0.0s\n",
      "[CV 1/5; 78/96] START C=10, penalty=l1, solver=liblinear........................\n",
      "No of FN: 35\n",
      "5389.969999999999\n",
      "[CV 1/5; 78/96] END C=10, penalty=l1, solver=liblinear;, score=-5389.970 total time=   2.4s\n",
      "[CV 2/5; 78/96] START C=10, penalty=l1, solver=liblinear........................\n",
      "No of FN: 31\n",
      "7107.75\n",
      "[CV 2/5; 78/96] END C=10, penalty=l1, solver=liblinear;, score=-7107.750 total time=   2.3s\n",
      "[CV 3/5; 78/96] START C=10, penalty=l1, solver=liblinear........................\n",
      "No of FN: 23\n",
      "2629.96\n",
      "[CV 3/5; 78/96] END C=10, penalty=l1, solver=liblinear;, score=-2629.960 total time=   2.2s\n",
      "[CV 4/5; 78/96] START C=10, penalty=l1, solver=liblinear........................\n",
      "No of FN: 27\n",
      "3587.8099999999995\n",
      "[CV 4/5; 78/96] END C=10, penalty=l1, solver=liblinear;, score=-3587.810 total time=   2.2s\n",
      "[CV 5/5; 78/96] START C=10, penalty=l1, solver=liblinear........................\n",
      "No of FN: 35\n",
      "7293.200000000001\n",
      "[CV 5/5; 78/96] END C=10, penalty=l1, solver=liblinear;, score=-7293.200 total time=   2.9s\n",
      "[CV 1/5; 79/96] START C=10, penalty=l2, solver=newton-cg........................\n"
     ]
    },
    {
     "name": "stderr",
     "output_type": "stream",
     "text": [
      "C:\\Python310\\lib\\site-packages\\scipy\\optimize\\_linesearch.py:456: LineSearchWarning: The line search algorithm did not converge\n",
      "  warn('The line search algorithm did not converge', LineSearchWarning)\n",
      "C:\\Python310\\lib\\site-packages\\scipy\\optimize\\_linesearch.py:305: LineSearchWarning: The line search algorithm did not converge\n",
      "  warn('The line search algorithm did not converge', LineSearchWarning)\n",
      "C:\\Python310\\lib\\site-packages\\sklearn\\utils\\optimize.py:210: ConvergenceWarning: newton-cg failed to converge. Increase the number of iterations.\n",
      "  warnings.warn(\n"
     ]
    },
    {
     "name": "stdout",
     "output_type": "stream",
     "text": [
      "No of FN: 33\n",
      "5397.219999999999\n",
      "[CV 1/5; 79/96] END C=10, penalty=l2, solver=newton-cg;, score=-5397.220 total time=   9.7s\n",
      "[CV 2/5; 79/96] START C=10, penalty=l2, solver=newton-cg........................\n"
     ]
    },
    {
     "name": "stderr",
     "output_type": "stream",
     "text": [
      "C:\\Python310\\lib\\site-packages\\scipy\\optimize\\_linesearch.py:456: LineSearchWarning: The line search algorithm did not converge\n",
      "  warn('The line search algorithm did not converge', LineSearchWarning)\n",
      "C:\\Python310\\lib\\site-packages\\scipy\\optimize\\_linesearch.py:305: LineSearchWarning: The line search algorithm did not converge\n",
      "  warn('The line search algorithm did not converge', LineSearchWarning)\n",
      "C:\\Python310\\lib\\site-packages\\sklearn\\utils\\optimize.py:210: ConvergenceWarning: newton-cg failed to converge. Increase the number of iterations.\n",
      "  warnings.warn(\n"
     ]
    },
    {
     "name": "stdout",
     "output_type": "stream",
     "text": [
      "No of FN: 31\n",
      "7117.75\n",
      "[CV 2/5; 79/96] END C=10, penalty=l2, solver=newton-cg;, score=-7117.750 total time=  10.1s\n",
      "[CV 3/5; 79/96] START C=10, penalty=l2, solver=newton-cg........................\n"
     ]
    },
    {
     "name": "stderr",
     "output_type": "stream",
     "text": [
      "C:\\Python310\\lib\\site-packages\\scipy\\optimize\\_linesearch.py:456: LineSearchWarning: The line search algorithm did not converge\n",
      "  warn('The line search algorithm did not converge', LineSearchWarning)\n",
      "C:\\Python310\\lib\\site-packages\\scipy\\optimize\\_linesearch.py:305: LineSearchWarning: The line search algorithm did not converge\n",
      "  warn('The line search algorithm did not converge', LineSearchWarning)\n",
      "C:\\Python310\\lib\\site-packages\\sklearn\\utils\\optimize.py:210: ConvergenceWarning: newton-cg failed to converge. Increase the number of iterations.\n",
      "  warnings.warn(\n"
     ]
    },
    {
     "name": "stdout",
     "output_type": "stream",
     "text": [
      "No of FN: 27\n",
      "3289.26\n",
      "[CV 3/5; 79/96] END C=10, penalty=l2, solver=newton-cg;, score=-3289.260 total time=   9.7s\n",
      "[CV 4/5; 79/96] START C=10, penalty=l2, solver=newton-cg........................\n"
     ]
    },
    {
     "name": "stderr",
     "output_type": "stream",
     "text": [
      "C:\\Python310\\lib\\site-packages\\scipy\\optimize\\_linesearch.py:456: LineSearchWarning: The line search algorithm did not converge\n",
      "  warn('The line search algorithm did not converge', LineSearchWarning)\n",
      "C:\\Python310\\lib\\site-packages\\scipy\\optimize\\_linesearch.py:305: LineSearchWarning: The line search algorithm did not converge\n",
      "  warn('The line search algorithm did not converge', LineSearchWarning)\n",
      "C:\\Python310\\lib\\site-packages\\sklearn\\utils\\optimize.py:210: ConvergenceWarning: newton-cg failed to converge. Increase the number of iterations.\n",
      "  warnings.warn(\n"
     ]
    },
    {
     "name": "stdout",
     "output_type": "stream",
     "text": [
      "No of FN: 30\n",
      "4168.469999999999\n",
      "[CV 4/5; 79/96] END C=10, penalty=l2, solver=newton-cg;, score=-4168.470 total time=   9.3s\n",
      "[CV 5/5; 79/96] START C=10, penalty=l2, solver=newton-cg........................\n"
     ]
    },
    {
     "name": "stderr",
     "output_type": "stream",
     "text": [
      "C:\\Python310\\lib\\site-packages\\scipy\\optimize\\_linesearch.py:456: LineSearchWarning: The line search algorithm did not converge\n",
      "  warn('The line search algorithm did not converge', LineSearchWarning)\n",
      "C:\\Python310\\lib\\site-packages\\scipy\\optimize\\_linesearch.py:305: LineSearchWarning: The line search algorithm did not converge\n",
      "  warn('The line search algorithm did not converge', LineSearchWarning)\n",
      "C:\\Python310\\lib\\site-packages\\sklearn\\utils\\optimize.py:210: ConvergenceWarning: newton-cg failed to converge. Increase the number of iterations.\n",
      "  warnings.warn(\n"
     ]
    },
    {
     "name": "stdout",
     "output_type": "stream",
     "text": [
      "No of FN: 36\n",
      "10249.79\n",
      "[CV 5/5; 79/96] END C=10, penalty=l2, solver=newton-cg;, score=-10249.790 total time=   9.8s\n",
      "[CV 1/5; 80/96] START C=10, penalty=l2, solver=lbfgs............................\n"
     ]
    },
    {
     "name": "stderr",
     "output_type": "stream",
     "text": [
      "C:\\Python310\\lib\\site-packages\\sklearn\\linear_model\\_logistic.py:444: ConvergenceWarning: lbfgs failed to converge (status=1):\n",
      "STOP: TOTAL NO. of ITERATIONS REACHED LIMIT.\n",
      "\n",
      "Increase the number of iterations (max_iter) or scale the data as shown in:\n",
      "    https://scikit-learn.org/stable/modules/preprocessing.html\n",
      "Please also refer to the documentation for alternative solver options:\n",
      "    https://scikit-learn.org/stable/modules/linear_model.html#logistic-regression\n",
      "  n_iter_i = _check_optimize_result(\n"
     ]
    },
    {
     "name": "stdout",
     "output_type": "stream",
     "text": [
      "No of FN: 18\n",
      "3051.2999999999993\n",
      "[CV 1/5; 80/96] END C=10, penalty=l2, solver=lbfgs;, score=-3051.300 total time=   1.5s\n",
      "[CV 2/5; 80/96] START C=10, penalty=l2, solver=lbfgs............................\n"
     ]
    },
    {
     "name": "stderr",
     "output_type": "stream",
     "text": [
      "C:\\Python310\\lib\\site-packages\\sklearn\\linear_model\\_logistic.py:444: ConvergenceWarning: lbfgs failed to converge (status=1):\n",
      "STOP: TOTAL NO. of ITERATIONS REACHED LIMIT.\n",
      "\n",
      "Increase the number of iterations (max_iter) or scale the data as shown in:\n",
      "    https://scikit-learn.org/stable/modules/preprocessing.html\n",
      "Please also refer to the documentation for alternative solver options:\n",
      "    https://scikit-learn.org/stable/modules/linear_model.html#logistic-regression\n",
      "  n_iter_i = _check_optimize_result(\n"
     ]
    },
    {
     "name": "stdout",
     "output_type": "stream",
     "text": [
      "No of FN: 24\n",
      "5227.4000000000015\n",
      "[CV 2/5; 80/96] END C=10, penalty=l2, solver=lbfgs;, score=-5227.400 total time=   1.5s\n",
      "[CV 3/5; 80/96] START C=10, penalty=l2, solver=lbfgs............................\n"
     ]
    },
    {
     "name": "stderr",
     "output_type": "stream",
     "text": [
      "C:\\Python310\\lib\\site-packages\\sklearn\\linear_model\\_logistic.py:444: ConvergenceWarning: lbfgs failed to converge (status=1):\n",
      "STOP: TOTAL NO. of ITERATIONS REACHED LIMIT.\n",
      "\n",
      "Increase the number of iterations (max_iter) or scale the data as shown in:\n",
      "    https://scikit-learn.org/stable/modules/preprocessing.html\n",
      "Please also refer to the documentation for alternative solver options:\n",
      "    https://scikit-learn.org/stable/modules/linear_model.html#logistic-regression\n",
      "  n_iter_i = _check_optimize_result(\n"
     ]
    },
    {
     "name": "stdout",
     "output_type": "stream",
     "text": [
      "No of FN: 23\n",
      "3317.5599999999995\n",
      "[CV 3/5; 80/96] END C=10, penalty=l2, solver=lbfgs;, score=-3317.560 total time=   1.2s\n",
      "[CV 4/5; 80/96] START C=10, penalty=l2, solver=lbfgs............................\n"
     ]
    },
    {
     "name": "stderr",
     "output_type": "stream",
     "text": [
      "C:\\Python310\\lib\\site-packages\\sklearn\\linear_model\\_logistic.py:444: ConvergenceWarning: lbfgs failed to converge (status=1):\n",
      "STOP: TOTAL NO. of ITERATIONS REACHED LIMIT.\n",
      "\n",
      "Increase the number of iterations (max_iter) or scale the data as shown in:\n",
      "    https://scikit-learn.org/stable/modules/preprocessing.html\n",
      "Please also refer to the documentation for alternative solver options:\n",
      "    https://scikit-learn.org/stable/modules/linear_model.html#logistic-regression\n",
      "  n_iter_i = _check_optimize_result(\n"
     ]
    },
    {
     "name": "stdout",
     "output_type": "stream",
     "text": [
      "No of FN: 26\n",
      "3790.4599999999996\n",
      "[CV 4/5; 80/96] END C=10, penalty=l2, solver=lbfgs;, score=-3790.460 total time=   1.3s\n",
      "[CV 5/5; 80/96] START C=10, penalty=l2, solver=lbfgs............................\n"
     ]
    },
    {
     "name": "stderr",
     "output_type": "stream",
     "text": [
      "C:\\Python310\\lib\\site-packages\\sklearn\\linear_model\\_logistic.py:444: ConvergenceWarning: lbfgs failed to converge (status=1):\n",
      "STOP: TOTAL NO. of ITERATIONS REACHED LIMIT.\n",
      "\n",
      "Increase the number of iterations (max_iter) or scale the data as shown in:\n",
      "    https://scikit-learn.org/stable/modules/preprocessing.html\n",
      "Please also refer to the documentation for alternative solver options:\n",
      "    https://scikit-learn.org/stable/modules/linear_model.html#logistic-regression\n",
      "  n_iter_i = _check_optimize_result(\n"
     ]
    },
    {
     "name": "stdout",
     "output_type": "stream",
     "text": [
      "No of FN: 38\n",
      "10459.230000000001\n",
      "[CV 5/5; 80/96] END C=10, penalty=l2, solver=lbfgs;, score=-10459.230 total time=   1.3s\n",
      "[CV 1/5; 81/96] START C=10, penalty=l2, solver=liblinear........................\n",
      "No of FN: 30\n",
      "5560.88\n",
      "[CV 1/5; 81/96] END C=10, penalty=l2, solver=liblinear;, score=-5560.880 total time=   1.9s\n",
      "[CV 2/5; 81/96] START C=10, penalty=l2, solver=liblinear........................\n",
      "No of FN: 32\n",
      "7059.46\n",
      "[CV 2/5; 81/96] END C=10, penalty=l2, solver=liblinear;, score=-7059.460 total time=   2.2s\n",
      "[CV 3/5; 81/96] START C=10, penalty=l2, solver=liblinear........................\n",
      "No of FN: 31\n",
      "4565.78\n",
      "[CV 3/5; 81/96] END C=10, penalty=l2, solver=liblinear;, score=-4565.780 total time=   2.2s\n",
      "[CV 4/5; 81/96] START C=10, penalty=l2, solver=liblinear........................\n",
      "No of FN: 35\n",
      "4350.579999999999\n",
      "[CV 4/5; 81/96] END C=10, penalty=l2, solver=liblinear;, score=-4350.580 total time=   1.4s\n",
      "[CV 5/5; 81/96] START C=10, penalty=l2, solver=liblinear........................\n",
      "No of FN: 40\n",
      "11141.570000000002\n",
      "[CV 5/5; 81/96] END C=10, penalty=l2, solver=liblinear;, score=-11141.570 total time=   1.3s\n",
      "[CV 1/5; 82/96] START C=10, penalty=elasticnet, solver=newton-cg................\n",
      "[CV 1/5; 82/96] END C=10, penalty=elasticnet, solver=newton-cg;, score=nan total time=   0.0s\n",
      "[CV 2/5; 82/96] START C=10, penalty=elasticnet, solver=newton-cg................\n",
      "[CV 2/5; 82/96] END C=10, penalty=elasticnet, solver=newton-cg;, score=nan total time=   0.0s\n",
      "[CV 3/5; 82/96] START C=10, penalty=elasticnet, solver=newton-cg................\n",
      "[CV 3/5; 82/96] END C=10, penalty=elasticnet, solver=newton-cg;, score=nan total time=   0.0s\n",
      "[CV 4/5; 82/96] START C=10, penalty=elasticnet, solver=newton-cg................\n",
      "[CV 4/5; 82/96] END C=10, penalty=elasticnet, solver=newton-cg;, score=nan total time=   0.0s\n",
      "[CV 5/5; 82/96] START C=10, penalty=elasticnet, solver=newton-cg................\n",
      "[CV 5/5; 82/96] END C=10, penalty=elasticnet, solver=newton-cg;, score=nan total time=   0.0s\n",
      "[CV 1/5; 83/96] START C=10, penalty=elasticnet, solver=lbfgs....................\n",
      "[CV 1/5; 83/96] END C=10, penalty=elasticnet, solver=lbfgs;, score=nan total time=   0.0s\n",
      "[CV 2/5; 83/96] START C=10, penalty=elasticnet, solver=lbfgs....................\n",
      "[CV 2/5; 83/96] END C=10, penalty=elasticnet, solver=lbfgs;, score=nan total time=   0.0s\n",
      "[CV 3/5; 83/96] START C=10, penalty=elasticnet, solver=lbfgs....................\n",
      "[CV 3/5; 83/96] END C=10, penalty=elasticnet, solver=lbfgs;, score=nan total time=   0.0s\n",
      "[CV 4/5; 83/96] START C=10, penalty=elasticnet, solver=lbfgs....................\n",
      "[CV 4/5; 83/96] END C=10, penalty=elasticnet, solver=lbfgs;, score=nan total time=   0.0s\n",
      "[CV 5/5; 83/96] START C=10, penalty=elasticnet, solver=lbfgs....................\n",
      "[CV 5/5; 83/96] END C=10, penalty=elasticnet, solver=lbfgs;, score=nan total time=   0.0s\n",
      "[CV 1/5; 84/96] START C=10, penalty=elasticnet, solver=liblinear................\n",
      "[CV 1/5; 84/96] END C=10, penalty=elasticnet, solver=liblinear;, score=nan total time=   0.0s\n",
      "[CV 2/5; 84/96] START C=10, penalty=elasticnet, solver=liblinear................\n",
      "[CV 2/5; 84/96] END C=10, penalty=elasticnet, solver=liblinear;, score=nan total time=   0.0s\n",
      "[CV 3/5; 84/96] START C=10, penalty=elasticnet, solver=liblinear................\n",
      "[CV 3/5; 84/96] END C=10, penalty=elasticnet, solver=liblinear;, score=nan total time=   0.0s\n",
      "[CV 4/5; 84/96] START C=10, penalty=elasticnet, solver=liblinear................\n",
      "[CV 4/5; 84/96] END C=10, penalty=elasticnet, solver=liblinear;, score=nan total time=   0.0s\n",
      "[CV 5/5; 84/96] START C=10, penalty=elasticnet, solver=liblinear................\n",
      "[CV 5/5; 84/96] END C=10, penalty=elasticnet, solver=liblinear;, score=nan total time=   0.0s\n",
      "[CV 1/5; 85/96] START C=100, penalty=none, solver=newton-cg.....................\n"
     ]
    },
    {
     "name": "stderr",
     "output_type": "stream",
     "text": [
      "C:\\Python310\\lib\\site-packages\\sklearn\\linear_model\\_logistic.py:1113: UserWarning: Setting penalty='none' will ignore the C and l1_ratio parameters\n",
      "  warnings.warn(\n",
      "C:\\Python310\\lib\\site-packages\\scipy\\optimize\\_linesearch.py:456: LineSearchWarning: The line search algorithm did not converge\n",
      "  warn('The line search algorithm did not converge', LineSearchWarning)\n",
      "C:\\Python310\\lib\\site-packages\\scipy\\optimize\\_linesearch.py:305: LineSearchWarning: The line search algorithm did not converge\n",
      "  warn('The line search algorithm did not converge', LineSearchWarning)\n",
      "C:\\Python310\\lib\\site-packages\\sklearn\\utils\\optimize.py:210: ConvergenceWarning: newton-cg failed to converge. Increase the number of iterations.\n",
      "  warnings.warn(\n",
      "C:\\Python310\\lib\\site-packages\\sklearn\\linear_model\\_logistic.py:1113: UserWarning: Setting penalty='none' will ignore the C and l1_ratio parameters\n",
      "  warnings.warn(\n"
     ]
    },
    {
     "name": "stdout",
     "output_type": "stream",
     "text": [
      "No of FN: 33\n",
      "5397.219999999999\n",
      "[CV 1/5; 85/96] END C=100, penalty=none, solver=newton-cg;, score=-5397.220 total time=  10.2s\n",
      "[CV 2/5; 85/96] START C=100, penalty=none, solver=newton-cg.....................\n"
     ]
    },
    {
     "name": "stderr",
     "output_type": "stream",
     "text": [
      "C:\\Python310\\lib\\site-packages\\scipy\\optimize\\_linesearch.py:456: LineSearchWarning: The line search algorithm did not converge\n",
      "  warn('The line search algorithm did not converge', LineSearchWarning)\n",
      "C:\\Python310\\lib\\site-packages\\scipy\\optimize\\_linesearch.py:305: LineSearchWarning: The line search algorithm did not converge\n",
      "  warn('The line search algorithm did not converge', LineSearchWarning)\n",
      "C:\\Python310\\lib\\site-packages\\sklearn\\utils\\optimize.py:210: ConvergenceWarning: newton-cg failed to converge. Increase the number of iterations.\n",
      "  warnings.warn(\n",
      "C:\\Python310\\lib\\site-packages\\sklearn\\linear_model\\_logistic.py:1113: UserWarning: Setting penalty='none' will ignore the C and l1_ratio parameters\n",
      "  warnings.warn(\n"
     ]
    },
    {
     "name": "stdout",
     "output_type": "stream",
     "text": [
      "No of FN: 30\n",
      "7092.449999999999\n",
      "[CV 2/5; 85/96] END C=100, penalty=none, solver=newton-cg;, score=-7092.450 total time=   9.7s\n",
      "[CV 3/5; 85/96] START C=100, penalty=none, solver=newton-cg.....................\n"
     ]
    },
    {
     "name": "stderr",
     "output_type": "stream",
     "text": [
      "C:\\Python310\\lib\\site-packages\\scipy\\optimize\\_linesearch.py:456: LineSearchWarning: The line search algorithm did not converge\n",
      "  warn('The line search algorithm did not converge', LineSearchWarning)\n",
      "C:\\Python310\\lib\\site-packages\\scipy\\optimize\\_linesearch.py:305: LineSearchWarning: The line search algorithm did not converge\n",
      "  warn('The line search algorithm did not converge', LineSearchWarning)\n",
      "C:\\Python310\\lib\\site-packages\\sklearn\\utils\\optimize.py:210: ConvergenceWarning: newton-cg failed to converge. Increase the number of iterations.\n",
      "  warnings.warn(\n",
      "C:\\Python310\\lib\\site-packages\\sklearn\\linear_model\\_logistic.py:1113: UserWarning: Setting penalty='none' will ignore the C and l1_ratio parameters\n",
      "  warnings.warn(\n"
     ]
    },
    {
     "name": "stdout",
     "output_type": "stream",
     "text": [
      "No of FN: 28\n",
      "3285.26\n",
      "[CV 3/5; 85/96] END C=100, penalty=none, solver=newton-cg;, score=-3285.260 total time=   9.8s\n",
      "[CV 4/5; 85/96] START C=100, penalty=none, solver=newton-cg.....................\n"
     ]
    },
    {
     "name": "stderr",
     "output_type": "stream",
     "text": [
      "C:\\Python310\\lib\\site-packages\\scipy\\optimize\\_linesearch.py:456: LineSearchWarning: The line search algorithm did not converge\n",
      "  warn('The line search algorithm did not converge', LineSearchWarning)\n",
      "C:\\Python310\\lib\\site-packages\\scipy\\optimize\\_linesearch.py:305: LineSearchWarning: The line search algorithm did not converge\n",
      "  warn('The line search algorithm did not converge', LineSearchWarning)\n",
      "C:\\Python310\\lib\\site-packages\\sklearn\\utils\\optimize.py:210: ConvergenceWarning: newton-cg failed to converge. Increase the number of iterations.\n",
      "  warnings.warn(\n",
      "C:\\Python310\\lib\\site-packages\\sklearn\\linear_model\\_logistic.py:1113: UserWarning: Setting penalty='none' will ignore the C and l1_ratio parameters\n",
      "  warnings.warn(\n"
     ]
    },
    {
     "name": "stdout",
     "output_type": "stream",
     "text": [
      "No of FN: 29\n",
      "4171.469999999999\n",
      "[CV 4/5; 85/96] END C=100, penalty=none, solver=newton-cg;, score=-4171.470 total time=   9.4s\n",
      "[CV 5/5; 85/96] START C=100, penalty=none, solver=newton-cg.....................\n"
     ]
    },
    {
     "name": "stderr",
     "output_type": "stream",
     "text": [
      "C:\\Python310\\lib\\site-packages\\scipy\\optimize\\_linesearch.py:456: LineSearchWarning: The line search algorithm did not converge\n",
      "  warn('The line search algorithm did not converge', LineSearchWarning)\n",
      "C:\\Python310\\lib\\site-packages\\scipy\\optimize\\_linesearch.py:305: LineSearchWarning: The line search algorithm did not converge\n",
      "  warn('The line search algorithm did not converge', LineSearchWarning)\n",
      "C:\\Python310\\lib\\site-packages\\sklearn\\utils\\optimize.py:210: ConvergenceWarning: newton-cg failed to converge. Increase the number of iterations.\n",
      "  warnings.warn(\n",
      "C:\\Python310\\lib\\site-packages\\sklearn\\linear_model\\_logistic.py:1113: UserWarning: Setting penalty='none' will ignore the C and l1_ratio parameters\n",
      "  warnings.warn(\n"
     ]
    },
    {
     "name": "stdout",
     "output_type": "stream",
     "text": [
      "No of FN: 36\n",
      "10254.79\n",
      "[CV 5/5; 85/96] END C=100, penalty=none, solver=newton-cg;, score=-10254.790 total time=   9.4s\n",
      "[CV 1/5; 86/96] START C=100, penalty=none, solver=lbfgs.........................\n"
     ]
    },
    {
     "name": "stderr",
     "output_type": "stream",
     "text": [
      "C:\\Python310\\lib\\site-packages\\sklearn\\linear_model\\_logistic.py:444: ConvergenceWarning: lbfgs failed to converge (status=1):\n",
      "STOP: TOTAL NO. of ITERATIONS REACHED LIMIT.\n",
      "\n",
      "Increase the number of iterations (max_iter) or scale the data as shown in:\n",
      "    https://scikit-learn.org/stable/modules/preprocessing.html\n",
      "Please also refer to the documentation for alternative solver options:\n",
      "    https://scikit-learn.org/stable/modules/linear_model.html#logistic-regression\n",
      "  n_iter_i = _check_optimize_result(\n",
      "C:\\Python310\\lib\\site-packages\\sklearn\\linear_model\\_logistic.py:1113: UserWarning: Setting penalty='none' will ignore the C and l1_ratio parameters\n",
      "  warnings.warn(\n"
     ]
    },
    {
     "name": "stdout",
     "output_type": "stream",
     "text": [
      "No of FN: 21\n",
      "5005.969999999999\n",
      "[CV 1/5; 86/96] END C=100, penalty=none, solver=lbfgs;, score=-5005.970 total time=   1.3s\n",
      "[CV 2/5; 86/96] START C=100, penalty=none, solver=lbfgs.........................\n"
     ]
    },
    {
     "name": "stderr",
     "output_type": "stream",
     "text": [
      "C:\\Python310\\lib\\site-packages\\sklearn\\linear_model\\_logistic.py:444: ConvergenceWarning: lbfgs failed to converge (status=1):\n",
      "STOP: TOTAL NO. of ITERATIONS REACHED LIMIT.\n",
      "\n",
      "Increase the number of iterations (max_iter) or scale the data as shown in:\n",
      "    https://scikit-learn.org/stable/modules/preprocessing.html\n",
      "Please also refer to the documentation for alternative solver options:\n",
      "    https://scikit-learn.org/stable/modules/linear_model.html#logistic-regression\n",
      "  n_iter_i = _check_optimize_result(\n",
      "C:\\Python310\\lib\\site-packages\\sklearn\\linear_model\\_logistic.py:1113: UserWarning: Setting penalty='none' will ignore the C and l1_ratio parameters\n",
      "  warnings.warn(\n"
     ]
    },
    {
     "name": "stdout",
     "output_type": "stream",
     "text": [
      "No of FN: 29\n",
      "7263.7300000000005\n",
      "[CV 2/5; 86/96] END C=100, penalty=none, solver=lbfgs;, score=-7263.730 total time=   1.4s\n",
      "[CV 3/5; 86/96] START C=100, penalty=none, solver=lbfgs.........................\n"
     ]
    },
    {
     "name": "stderr",
     "output_type": "stream",
     "text": [
      "C:\\Python310\\lib\\site-packages\\sklearn\\linear_model\\_logistic.py:444: ConvergenceWarning: lbfgs failed to converge (status=1):\n",
      "STOP: TOTAL NO. of ITERATIONS REACHED LIMIT.\n",
      "\n",
      "Increase the number of iterations (max_iter) or scale the data as shown in:\n",
      "    https://scikit-learn.org/stable/modules/preprocessing.html\n",
      "Please also refer to the documentation for alternative solver options:\n",
      "    https://scikit-learn.org/stable/modules/linear_model.html#logistic-regression\n",
      "  n_iter_i = _check_optimize_result(\n",
      "C:\\Python310\\lib\\site-packages\\sklearn\\linear_model\\_logistic.py:1113: UserWarning: Setting penalty='none' will ignore the C and l1_ratio parameters\n",
      "  warnings.warn(\n"
     ]
    },
    {
     "name": "stdout",
     "output_type": "stream",
     "text": [
      "No of FN: 27\n",
      "4114.3\n",
      "[CV 3/5; 86/96] END C=100, penalty=none, solver=lbfgs;, score=-4114.300 total time=   1.4s\n",
      "[CV 4/5; 86/96] START C=100, penalty=none, solver=lbfgs.........................\n"
     ]
    },
    {
     "name": "stderr",
     "output_type": "stream",
     "text": [
      "C:\\Python310\\lib\\site-packages\\sklearn\\linear_model\\_logistic.py:444: ConvergenceWarning: lbfgs failed to converge (status=1):\n",
      "STOP: TOTAL NO. of ITERATIONS REACHED LIMIT.\n",
      "\n",
      "Increase the number of iterations (max_iter) or scale the data as shown in:\n",
      "    https://scikit-learn.org/stable/modules/preprocessing.html\n",
      "Please also refer to the documentation for alternative solver options:\n",
      "    https://scikit-learn.org/stable/modules/linear_model.html#logistic-regression\n",
      "  n_iter_i = _check_optimize_result(\n",
      "C:\\Python310\\lib\\site-packages\\sklearn\\linear_model\\_logistic.py:1113: UserWarning: Setting penalty='none' will ignore the C and l1_ratio parameters\n",
      "  warnings.warn(\n"
     ]
    },
    {
     "name": "stdout",
     "output_type": "stream",
     "text": [
      "No of FN: 26\n",
      "3790.4599999999996\n",
      "[CV 4/5; 86/96] END C=100, penalty=none, solver=lbfgs;, score=-3790.460 total time=   1.6s\n",
      "[CV 5/5; 86/96] START C=100, penalty=none, solver=lbfgs.........................\n"
     ]
    },
    {
     "name": "stderr",
     "output_type": "stream",
     "text": [
      "C:\\Python310\\lib\\site-packages\\sklearn\\linear_model\\_logistic.py:444: ConvergenceWarning: lbfgs failed to converge (status=1):\n",
      "STOP: TOTAL NO. of ITERATIONS REACHED LIMIT.\n",
      "\n",
      "Increase the number of iterations (max_iter) or scale the data as shown in:\n",
      "    https://scikit-learn.org/stable/modules/preprocessing.html\n",
      "Please also refer to the documentation for alternative solver options:\n",
      "    https://scikit-learn.org/stable/modules/linear_model.html#logistic-regression\n",
      "  n_iter_i = _check_optimize_result(\n"
     ]
    },
    {
     "name": "stdout",
     "output_type": "stream",
     "text": [
      "No of FN: 39\n",
      "11250.080000000002\n",
      "[CV 5/5; 86/96] END C=100, penalty=none, solver=lbfgs;, score=-11250.080 total time=   1.5s\n",
      "[CV 1/5; 87/96] START C=100, penalty=none, solver=liblinear.....................\n",
      "[CV 1/5; 87/96] END C=100, penalty=none, solver=liblinear;, score=nan total time=   0.0s\n",
      "[CV 2/5; 87/96] START C=100, penalty=none, solver=liblinear.....................\n",
      "[CV 2/5; 87/96] END C=100, penalty=none, solver=liblinear;, score=nan total time=   0.0s\n",
      "[CV 3/5; 87/96] START C=100, penalty=none, solver=liblinear.....................\n",
      "[CV 3/5; 87/96] END C=100, penalty=none, solver=liblinear;, score=nan total time=   0.0s\n",
      "[CV 4/5; 87/96] START C=100, penalty=none, solver=liblinear.....................\n",
      "[CV 4/5; 87/96] END C=100, penalty=none, solver=liblinear;, score=nan total time=   0.0s\n",
      "[CV 5/5; 87/96] START C=100, penalty=none, solver=liblinear.....................\n",
      "[CV 5/5; 87/96] END C=100, penalty=none, solver=liblinear;, score=nan total time=   0.0s\n",
      "[CV 1/5; 88/96] START C=100, penalty=l1, solver=newton-cg.......................\n",
      "[CV 1/5; 88/96] END C=100, penalty=l1, solver=newton-cg;, score=nan total time=   0.0s\n",
      "[CV 2/5; 88/96] START C=100, penalty=l1, solver=newton-cg.......................\n",
      "[CV 2/5; 88/96] END C=100, penalty=l1, solver=newton-cg;, score=nan total time=   0.0s\n",
      "[CV 3/5; 88/96] START C=100, penalty=l1, solver=newton-cg.......................\n",
      "[CV 3/5; 88/96] END C=100, penalty=l1, solver=newton-cg;, score=nan total time=   0.0s\n",
      "[CV 4/5; 88/96] START C=100, penalty=l1, solver=newton-cg.......................\n",
      "[CV 4/5; 88/96] END C=100, penalty=l1, solver=newton-cg;, score=nan total time=   0.0s\n",
      "[CV 5/5; 88/96] START C=100, penalty=l1, solver=newton-cg.......................\n",
      "[CV 5/5; 88/96] END C=100, penalty=l1, solver=newton-cg;, score=nan total time=   0.0s\n",
      "[CV 1/5; 89/96] START C=100, penalty=l1, solver=lbfgs...........................\n",
      "[CV 1/5; 89/96] END C=100, penalty=l1, solver=lbfgs;, score=nan total time=   0.0s\n",
      "[CV 2/5; 89/96] START C=100, penalty=l1, solver=lbfgs...........................\n",
      "[CV 2/5; 89/96] END C=100, penalty=l1, solver=lbfgs;, score=nan total time=   0.0s\n",
      "[CV 3/5; 89/96] START C=100, penalty=l1, solver=lbfgs...........................\n",
      "[CV 3/5; 89/96] END C=100, penalty=l1, solver=lbfgs;, score=nan total time=   0.0s\n",
      "[CV 4/5; 89/96] START C=100, penalty=l1, solver=lbfgs...........................\n",
      "[CV 4/5; 89/96] END C=100, penalty=l1, solver=lbfgs;, score=nan total time=   0.0s\n",
      "[CV 5/5; 89/96] START C=100, penalty=l1, solver=lbfgs...........................\n",
      "[CV 5/5; 89/96] END C=100, penalty=l1, solver=lbfgs;, score=nan total time=   0.0s\n",
      "[CV 1/5; 90/96] START C=100, penalty=l1, solver=liblinear.......................\n",
      "No of FN: 34\n",
      "5394.959999999999\n",
      "[CV 1/5; 90/96] END C=100, penalty=l1, solver=liblinear;, score=-5394.960 total time=   2.1s\n",
      "[CV 2/5; 90/96] START C=100, penalty=l1, solver=liblinear.......................\n",
      "No of FN: 31\n",
      "7107.75\n",
      "[CV 2/5; 90/96] END C=100, penalty=l1, solver=liblinear;, score=-7107.750 total time=   1.4s\n",
      "[CV 3/5; 90/96] START C=100, penalty=l1, solver=liblinear.......................\n",
      "No of FN: 23\n",
      "2629.96\n",
      "[CV 3/5; 90/96] END C=100, penalty=l1, solver=liblinear;, score=-2629.960 total time=   2.6s\n",
      "[CV 4/5; 90/96] START C=100, penalty=l1, solver=liblinear.......................\n",
      "No of FN: 27\n",
      "3587.8099999999995\n",
      "[CV 4/5; 90/96] END C=100, penalty=l1, solver=liblinear;, score=-3587.810 total time=   2.2s\n",
      "[CV 5/5; 90/96] START C=100, penalty=l1, solver=liblinear.......................\n",
      "No of FN: 35\n",
      "7293.200000000001\n",
      "[CV 5/5; 90/96] END C=100, penalty=l1, solver=liblinear;, score=-7293.200 total time=   1.8s\n",
      "[CV 1/5; 91/96] START C=100, penalty=l2, solver=newton-cg.......................\n"
     ]
    },
    {
     "name": "stderr",
     "output_type": "stream",
     "text": [
      "C:\\Python310\\lib\\site-packages\\scipy\\optimize\\_linesearch.py:456: LineSearchWarning: The line search algorithm did not converge\n",
      "  warn('The line search algorithm did not converge', LineSearchWarning)\n",
      "C:\\Python310\\lib\\site-packages\\scipy\\optimize\\_linesearch.py:305: LineSearchWarning: The line search algorithm did not converge\n",
      "  warn('The line search algorithm did not converge', LineSearchWarning)\n",
      "C:\\Python310\\lib\\site-packages\\sklearn\\utils\\optimize.py:210: ConvergenceWarning: newton-cg failed to converge. Increase the number of iterations.\n",
      "  warnings.warn(\n"
     ]
    },
    {
     "name": "stdout",
     "output_type": "stream",
     "text": [
      "No of FN: 33\n",
      "5397.219999999999\n",
      "[CV 1/5; 91/96] END C=100, penalty=l2, solver=newton-cg;, score=-5397.220 total time=   9.7s\n",
      "[CV 2/5; 91/96] START C=100, penalty=l2, solver=newton-cg.......................\n"
     ]
    },
    {
     "name": "stderr",
     "output_type": "stream",
     "text": [
      "C:\\Python310\\lib\\site-packages\\scipy\\optimize\\_linesearch.py:456: LineSearchWarning: The line search algorithm did not converge\n",
      "  warn('The line search algorithm did not converge', LineSearchWarning)\n",
      "C:\\Python310\\lib\\site-packages\\scipy\\optimize\\_linesearch.py:305: LineSearchWarning: The line search algorithm did not converge\n",
      "  warn('The line search algorithm did not converge', LineSearchWarning)\n",
      "C:\\Python310\\lib\\site-packages\\sklearn\\utils\\optimize.py:210: ConvergenceWarning: newton-cg failed to converge. Increase the number of iterations.\n",
      "  warnings.warn(\n"
     ]
    },
    {
     "name": "stdout",
     "output_type": "stream",
     "text": [
      "No of FN: 30\n",
      "7097.449999999999\n",
      "[CV 2/5; 91/96] END C=100, penalty=l2, solver=newton-cg;, score=-7097.450 total time=   9.7s\n",
      "[CV 3/5; 91/96] START C=100, penalty=l2, solver=newton-cg.......................\n"
     ]
    },
    {
     "name": "stderr",
     "output_type": "stream",
     "text": [
      "C:\\Python310\\lib\\site-packages\\sklearn\\utils\\optimize.py:210: ConvergenceWarning: newton-cg failed to converge. Increase the number of iterations.\n",
      "  warnings.warn(\n"
     ]
    },
    {
     "name": "stdout",
     "output_type": "stream",
     "text": [
      "No of FN: 27\n",
      "3294.26\n",
      "[CV 3/5; 91/96] END C=100, penalty=l2, solver=newton-cg;, score=-3294.260 total time=   9.2s\n",
      "[CV 4/5; 91/96] START C=100, penalty=l2, solver=newton-cg.......................\n"
     ]
    },
    {
     "name": "stderr",
     "output_type": "stream",
     "text": [
      "C:\\Python310\\lib\\site-packages\\scipy\\optimize\\_linesearch.py:456: LineSearchWarning: The line search algorithm did not converge\n",
      "  warn('The line search algorithm did not converge', LineSearchWarning)\n",
      "C:\\Python310\\lib\\site-packages\\scipy\\optimize\\_linesearch.py:305: LineSearchWarning: The line search algorithm did not converge\n",
      "  warn('The line search algorithm did not converge', LineSearchWarning)\n",
      "C:\\Python310\\lib\\site-packages\\sklearn\\utils\\optimize.py:210: ConvergenceWarning: newton-cg failed to converge. Increase the number of iterations.\n",
      "  warnings.warn(\n"
     ]
    },
    {
     "name": "stdout",
     "output_type": "stream",
     "text": [
      "No of FN: 31\n",
      "4308.269999999999\n",
      "[CV 4/5; 91/96] END C=100, penalty=l2, solver=newton-cg;, score=-4308.270 total time=   9.5s\n",
      "[CV 5/5; 91/96] START C=100, penalty=l2, solver=newton-cg.......................\n"
     ]
    },
    {
     "name": "stderr",
     "output_type": "stream",
     "text": [
      "C:\\Python310\\lib\\site-packages\\sklearn\\utils\\optimize.py:210: ConvergenceWarning: newton-cg failed to converge. Increase the number of iterations.\n",
      "  warnings.warn(\n"
     ]
    },
    {
     "name": "stdout",
     "output_type": "stream",
     "text": [
      "No of FN: 36\n",
      "10254.79\n",
      "[CV 5/5; 91/96] END C=100, penalty=l2, solver=newton-cg;, score=-10254.790 total time=   8.8s\n",
      "[CV 1/5; 92/96] START C=100, penalty=l2, solver=lbfgs...........................\n"
     ]
    },
    {
     "name": "stderr",
     "output_type": "stream",
     "text": [
      "C:\\Python310\\lib\\site-packages\\sklearn\\linear_model\\_logistic.py:444: ConvergenceWarning: lbfgs failed to converge (status=1):\n",
      "STOP: TOTAL NO. of ITERATIONS REACHED LIMIT.\n",
      "\n",
      "Increase the number of iterations (max_iter) or scale the data as shown in:\n",
      "    https://scikit-learn.org/stable/modules/preprocessing.html\n",
      "Please also refer to the documentation for alternative solver options:\n",
      "    https://scikit-learn.org/stable/modules/linear_model.html#logistic-regression\n",
      "  n_iter_i = _check_optimize_result(\n"
     ]
    },
    {
     "name": "stdout",
     "output_type": "stream",
     "text": [
      "No of FN: 19\n",
      "4900.98\n",
      "[CV 1/5; 92/96] END C=100, penalty=l2, solver=lbfgs;, score=-4900.980 total time=   1.5s\n",
      "[CV 2/5; 92/96] START C=100, penalty=l2, solver=lbfgs...........................\n"
     ]
    },
    {
     "name": "stderr",
     "output_type": "stream",
     "text": [
      "C:\\Python310\\lib\\site-packages\\sklearn\\linear_model\\_logistic.py:444: ConvergenceWarning: lbfgs failed to converge (status=1):\n",
      "STOP: TOTAL NO. of ITERATIONS REACHED LIMIT.\n",
      "\n",
      "Increase the number of iterations (max_iter) or scale the data as shown in:\n",
      "    https://scikit-learn.org/stable/modules/preprocessing.html\n",
      "Please also refer to the documentation for alternative solver options:\n",
      "    https://scikit-learn.org/stable/modules/linear_model.html#logistic-regression\n",
      "  n_iter_i = _check_optimize_result(\n"
     ]
    },
    {
     "name": "stdout",
     "output_type": "stream",
     "text": [
      "No of FN: 24\n",
      "5202.4000000000015\n",
      "[CV 2/5; 92/96] END C=100, penalty=l2, solver=lbfgs;, score=-5202.400 total time=   1.4s\n",
      "[CV 3/5; 92/96] START C=100, penalty=l2, solver=lbfgs...........................\n"
     ]
    },
    {
     "name": "stderr",
     "output_type": "stream",
     "text": [
      "C:\\Python310\\lib\\site-packages\\sklearn\\linear_model\\_logistic.py:444: ConvergenceWarning: lbfgs failed to converge (status=1):\n",
      "STOP: TOTAL NO. of ITERATIONS REACHED LIMIT.\n",
      "\n",
      "Increase the number of iterations (max_iter) or scale the data as shown in:\n",
      "    https://scikit-learn.org/stable/modules/preprocessing.html\n",
      "Please also refer to the documentation for alternative solver options:\n",
      "    https://scikit-learn.org/stable/modules/linear_model.html#logistic-regression\n",
      "  n_iter_i = _check_optimize_result(\n"
     ]
    },
    {
     "name": "stdout",
     "output_type": "stream",
     "text": [
      "No of FN: 23\n",
      "3317.5599999999995\n",
      "[CV 3/5; 92/96] END C=100, penalty=l2, solver=lbfgs;, score=-3317.560 total time=   1.2s\n",
      "[CV 4/5; 92/96] START C=100, penalty=l2, solver=lbfgs...........................\n"
     ]
    },
    {
     "name": "stderr",
     "output_type": "stream",
     "text": [
      "C:\\Python310\\lib\\site-packages\\sklearn\\linear_model\\_logistic.py:444: ConvergenceWarning: lbfgs failed to converge (status=1):\n",
      "STOP: TOTAL NO. of ITERATIONS REACHED LIMIT.\n",
      "\n",
      "Increase the number of iterations (max_iter) or scale the data as shown in:\n",
      "    https://scikit-learn.org/stable/modules/preprocessing.html\n",
      "Please also refer to the documentation for alternative solver options:\n",
      "    https://scikit-learn.org/stable/modules/linear_model.html#logistic-regression\n",
      "  n_iter_i = _check_optimize_result(\n"
     ]
    },
    {
     "name": "stdout",
     "output_type": "stream",
     "text": [
      "No of FN: 27\n",
      "3885.45\n",
      "[CV 4/5; 92/96] END C=100, penalty=l2, solver=lbfgs;, score=-3885.450 total time=   1.3s\n",
      "[CV 5/5; 92/96] START C=100, penalty=l2, solver=lbfgs...........................\n"
     ]
    },
    {
     "name": "stderr",
     "output_type": "stream",
     "text": [
      "C:\\Python310\\lib\\site-packages\\sklearn\\linear_model\\_logistic.py:444: ConvergenceWarning: lbfgs failed to converge (status=1):\n",
      "STOP: TOTAL NO. of ITERATIONS REACHED LIMIT.\n",
      "\n",
      "Increase the number of iterations (max_iter) or scale the data as shown in:\n",
      "    https://scikit-learn.org/stable/modules/preprocessing.html\n",
      "Please also refer to the documentation for alternative solver options:\n",
      "    https://scikit-learn.org/stable/modules/linear_model.html#logistic-regression\n",
      "  n_iter_i = _check_optimize_result(\n"
     ]
    },
    {
     "name": "stdout",
     "output_type": "stream",
     "text": [
      "No of FN: 41\n",
      "12015.660000000002\n",
      "[CV 5/5; 92/96] END C=100, penalty=l2, solver=lbfgs;, score=-12015.660 total time=   1.3s\n",
      "[CV 1/5; 93/96] START C=100, penalty=l2, solver=liblinear.......................\n",
      "No of FN: 30\n",
      "5560.88\n",
      "[CV 1/5; 93/96] END C=100, penalty=l2, solver=liblinear;, score=-5560.880 total time=   2.0s\n",
      "[CV 2/5; 93/96] START C=100, penalty=l2, solver=liblinear.......................\n",
      "No of FN: 32\n",
      "7059.46\n",
      "[CV 2/5; 93/96] END C=100, penalty=l2, solver=liblinear;, score=-7059.460 total time=   2.2s\n",
      "[CV 3/5; 93/96] START C=100, penalty=l2, solver=liblinear.......................\n",
      "No of FN: 31\n",
      "4565.78\n",
      "[CV 3/5; 93/96] END C=100, penalty=l2, solver=liblinear;, score=-4565.780 total time=   2.1s\n",
      "[CV 4/5; 93/96] START C=100, penalty=l2, solver=liblinear.......................\n",
      "No of FN: 35\n",
      "4350.579999999999\n",
      "[CV 4/5; 93/96] END C=100, penalty=l2, solver=liblinear;, score=-4350.580 total time=   1.5s\n",
      "[CV 5/5; 93/96] START C=100, penalty=l2, solver=liblinear.......................\n",
      "No of FN: 40\n",
      "11141.570000000002\n",
      "[CV 5/5; 93/96] END C=100, penalty=l2, solver=liblinear;, score=-11141.570 total time=   1.3s\n",
      "[CV 1/5; 94/96] START C=100, penalty=elasticnet, solver=newton-cg...............\n",
      "[CV 1/5; 94/96] END C=100, penalty=elasticnet, solver=newton-cg;, score=nan total time=   0.0s\n",
      "[CV 2/5; 94/96] START C=100, penalty=elasticnet, solver=newton-cg...............\n",
      "[CV 2/5; 94/96] END C=100, penalty=elasticnet, solver=newton-cg;, score=nan total time=   0.0s\n",
      "[CV 3/5; 94/96] START C=100, penalty=elasticnet, solver=newton-cg...............\n",
      "[CV 3/5; 94/96] END C=100, penalty=elasticnet, solver=newton-cg;, score=nan total time=   0.0s\n",
      "[CV 4/5; 94/96] START C=100, penalty=elasticnet, solver=newton-cg...............\n",
      "[CV 4/5; 94/96] END C=100, penalty=elasticnet, solver=newton-cg;, score=nan total time=   0.0s\n",
      "[CV 5/5; 94/96] START C=100, penalty=elasticnet, solver=newton-cg...............\n",
      "[CV 5/5; 94/96] END C=100, penalty=elasticnet, solver=newton-cg;, score=nan total time=   0.0s\n",
      "[CV 1/5; 95/96] START C=100, penalty=elasticnet, solver=lbfgs...................\n",
      "[CV 1/5; 95/96] END C=100, penalty=elasticnet, solver=lbfgs;, score=nan total time=   0.0s\n",
      "[CV 2/5; 95/96] START C=100, penalty=elasticnet, solver=lbfgs...................\n",
      "[CV 2/5; 95/96] END C=100, penalty=elasticnet, solver=lbfgs;, score=nan total time=   0.0s\n",
      "[CV 3/5; 95/96] START C=100, penalty=elasticnet, solver=lbfgs...................\n",
      "[CV 3/5; 95/96] END C=100, penalty=elasticnet, solver=lbfgs;, score=nan total time=   0.0s\n",
      "[CV 4/5; 95/96] START C=100, penalty=elasticnet, solver=lbfgs...................\n",
      "[CV 4/5; 95/96] END C=100, penalty=elasticnet, solver=lbfgs;, score=nan total time=   0.0s\n",
      "[CV 5/5; 95/96] START C=100, penalty=elasticnet, solver=lbfgs...................\n",
      "[CV 5/5; 95/96] END C=100, penalty=elasticnet, solver=lbfgs;, score=nan total time=   0.0s\n",
      "[CV 1/5; 96/96] START C=100, penalty=elasticnet, solver=liblinear...............\n",
      "[CV 1/5; 96/96] END C=100, penalty=elasticnet, solver=liblinear;, score=nan total time=   0.0s\n",
      "[CV 2/5; 96/96] START C=100, penalty=elasticnet, solver=liblinear...............\n",
      "[CV 2/5; 96/96] END C=100, penalty=elasticnet, solver=liblinear;, score=nan total time=   0.0s\n",
      "[CV 3/5; 96/96] START C=100, penalty=elasticnet, solver=liblinear...............\n",
      "[CV 3/5; 96/96] END C=100, penalty=elasticnet, solver=liblinear;, score=nan total time=   0.0s\n",
      "[CV 4/5; 96/96] START C=100, penalty=elasticnet, solver=liblinear...............\n",
      "[CV 4/5; 96/96] END C=100, penalty=elasticnet, solver=liblinear;, score=nan total time=   0.0s\n",
      "[CV 5/5; 96/96] START C=100, penalty=elasticnet, solver=liblinear...............\n",
      "[CV 5/5; 96/96] END C=100, penalty=elasticnet, solver=liblinear;, score=nan total time=   0.0s\n"
     ]
    },
    {
     "name": "stderr",
     "output_type": "stream",
     "text": [
      "C:\\Python310\\lib\\site-packages\\sklearn\\model_selection\\_validation.py:378: FitFailedWarning: \n",
      "240 fits failed out of a total of 480.\n",
      "The score on these train-test partitions for these parameters will be set to nan.\n",
      "If these failures are not expected, you can try to debug them by setting error_score='raise'.\n",
      "\n",
      "Below are more details about the failures:\n",
      "--------------------------------------------------------------------------------\n",
      "40 fits failed with the following error:\n",
      "Traceback (most recent call last):\n",
      "  File \"C:\\Python310\\lib\\site-packages\\sklearn\\model_selection\\_validation.py\", line 686, in _fit_and_score\n",
      "    estimator.fit(X_train, y_train, **fit_params)\n",
      "  File \"C:\\Python310\\lib\\site-packages\\sklearn\\linear_model\\_logistic.py\", line 1091, in fit\n",
      "    solver = _check_solver(self.solver, self.penalty, self.dual)\n",
      "  File \"C:\\Python310\\lib\\site-packages\\sklearn\\linear_model\\_logistic.py\", line 78, in _check_solver\n",
      "    raise ValueError(\"penalty='none' is not supported for the liblinear solver\")\n",
      "ValueError: penalty='none' is not supported for the liblinear solver\n",
      "\n",
      "--------------------------------------------------------------------------------\n",
      "40 fits failed with the following error:\n",
      "Traceback (most recent call last):\n",
      "  File \"C:\\Python310\\lib\\site-packages\\sklearn\\model_selection\\_validation.py\", line 686, in _fit_and_score\n",
      "    estimator.fit(X_train, y_train, **fit_params)\n",
      "  File \"C:\\Python310\\lib\\site-packages\\sklearn\\linear_model\\_logistic.py\", line 1091, in fit\n",
      "    solver = _check_solver(self.solver, self.penalty, self.dual)\n",
      "  File \"C:\\Python310\\lib\\site-packages\\sklearn\\linear_model\\_logistic.py\", line 61, in _check_solver\n",
      "    raise ValueError(\n",
      "ValueError: Solver newton-cg supports only 'l2' or 'none' penalties, got l1 penalty.\n",
      "\n",
      "--------------------------------------------------------------------------------\n",
      "40 fits failed with the following error:\n",
      "Traceback (most recent call last):\n",
      "  File \"C:\\Python310\\lib\\site-packages\\sklearn\\model_selection\\_validation.py\", line 686, in _fit_and_score\n",
      "    estimator.fit(X_train, y_train, **fit_params)\n",
      "  File \"C:\\Python310\\lib\\site-packages\\sklearn\\linear_model\\_logistic.py\", line 1091, in fit\n",
      "    solver = _check_solver(self.solver, self.penalty, self.dual)\n",
      "  File \"C:\\Python310\\lib\\site-packages\\sklearn\\linear_model\\_logistic.py\", line 61, in _check_solver\n",
      "    raise ValueError(\n",
      "ValueError: Solver lbfgs supports only 'l2' or 'none' penalties, got l1 penalty.\n",
      "\n",
      "--------------------------------------------------------------------------------\n",
      "40 fits failed with the following error:\n",
      "Traceback (most recent call last):\n",
      "  File \"C:\\Python310\\lib\\site-packages\\sklearn\\model_selection\\_validation.py\", line 686, in _fit_and_score\n",
      "    estimator.fit(X_train, y_train, **fit_params)\n",
      "  File \"C:\\Python310\\lib\\site-packages\\sklearn\\linear_model\\_logistic.py\", line 1091, in fit\n",
      "    solver = _check_solver(self.solver, self.penalty, self.dual)\n",
      "  File \"C:\\Python310\\lib\\site-packages\\sklearn\\linear_model\\_logistic.py\", line 61, in _check_solver\n",
      "    raise ValueError(\n",
      "ValueError: Solver newton-cg supports only 'l2' or 'none' penalties, got elasticnet penalty.\n",
      "\n",
      "--------------------------------------------------------------------------------\n",
      "40 fits failed with the following error:\n",
      "Traceback (most recent call last):\n",
      "  File \"C:\\Python310\\lib\\site-packages\\sklearn\\model_selection\\_validation.py\", line 686, in _fit_and_score\n",
      "    estimator.fit(X_train, y_train, **fit_params)\n",
      "  File \"C:\\Python310\\lib\\site-packages\\sklearn\\linear_model\\_logistic.py\", line 1091, in fit\n",
      "    solver = _check_solver(self.solver, self.penalty, self.dual)\n",
      "  File \"C:\\Python310\\lib\\site-packages\\sklearn\\linear_model\\_logistic.py\", line 61, in _check_solver\n",
      "    raise ValueError(\n",
      "ValueError: Solver lbfgs supports only 'l2' or 'none' penalties, got elasticnet penalty.\n",
      "\n",
      "--------------------------------------------------------------------------------\n",
      "40 fits failed with the following error:\n",
      "Traceback (most recent call last):\n",
      "  File \"C:\\Python310\\lib\\site-packages\\sklearn\\model_selection\\_validation.py\", line 686, in _fit_and_score\n",
      "    estimator.fit(X_train, y_train, **fit_params)\n",
      "  File \"C:\\Python310\\lib\\site-packages\\sklearn\\linear_model\\_logistic.py\", line 1091, in fit\n",
      "    solver = _check_solver(self.solver, self.penalty, self.dual)\n",
      "  File \"C:\\Python310\\lib\\site-packages\\sklearn\\linear_model\\_logistic.py\", line 71, in _check_solver\n",
      "    raise ValueError(\n",
      "ValueError: Only 'saga' solver supports elasticnet penalty, got solver=liblinear.\n",
      "\n",
      "  warnings.warn(some_fits_failed_message, FitFailedWarning)\n",
      "C:\\Python310\\lib\\site-packages\\sklearn\\model_selection\\_search.py:953: UserWarning: One or more of the test scores are non-finite: [-6040.238 -6284.908       nan       nan       nan -9824.9   -9824.9\n",
      " -9827.9   -9844.08        nan       nan       nan -6040.238 -6284.908\n",
      "       nan       nan       nan -9824.9   -8258.348 -8621.46  -9141.946\n",
      "       nan       nan       nan -6040.238 -6284.908       nan       nan\n",
      "       nan -8636.74  -6971.732 -7194.242 -7445.888       nan       nan\n",
      "       nan -6040.238 -6284.908       nan       nan       nan -6747.836\n",
      " -6158.892 -6414.664 -6644.392       nan       nan       nan -6040.238\n",
      " -6284.908       nan       nan       nan -5944.852 -6066.752 -6080.196\n",
      " -6439.23        nan       nan       nan -6040.238 -6284.908       nan\n",
      "       nan       nan -5528.684 -6066.598 -6072.454 -6316.378       nan\n",
      "       nan       nan -6040.238 -6284.908       nan       nan       nan\n",
      " -5201.738 -6044.498 -5169.19  -6535.654       nan       nan       nan\n",
      " -6040.238 -6284.908       nan       nan       nan -5202.736 -6070.398\n",
      " -5864.41  -6535.654       nan       nan       nan]\n",
      "  warnings.warn(\n"
     ]
    },
    {
     "name": "stdout",
     "output_type": "stream",
     "text": [
      "Best: [-6040.238 -6284.908       nan       nan       nan -9824.9   -9824.9\n",
      " -9827.9   -9844.08        nan       nan       nan -6040.238 -6284.908\n",
      "       nan       nan       nan -9824.9   -8258.348 -8621.46  -9141.946\n",
      "       nan       nan       nan -6040.238 -6284.908       nan       nan\n",
      "       nan -8636.74  -6971.732 -7194.242 -7445.888       nan       nan\n",
      "       nan -6040.238 -6284.908       nan       nan       nan -6747.836\n",
      " -6158.892 -6414.664 -6644.392       nan       nan       nan -6040.238\n",
      " -6284.908       nan       nan       nan -5944.852 -6066.752 -6080.196\n",
      " -6439.23        nan       nan       nan -6040.238 -6284.908       nan\n",
      "       nan       nan -5528.684 -6066.598 -6072.454 -6316.378       nan\n",
      "       nan       nan -6040.238 -6284.908       nan       nan       nan\n",
      " -5201.738 -6044.498 -5169.19  -6535.654       nan       nan       nan\n",
      " -6040.238 -6284.908       nan       nan       nan -5202.736 -6070.398\n",
      " -5864.41  -6535.654       nan       nan       nan], using {'C': 10, 'penalty': 'l2', 'solver': 'lbfgs'}\n"
     ]
    },
    {
     "name": "stderr",
     "output_type": "stream",
     "text": [
      "C:\\Python310\\lib\\site-packages\\sklearn\\linear_model\\_logistic.py:444: ConvergenceWarning: lbfgs failed to converge (status=1):\n",
      "STOP: TOTAL NO. of ITERATIONS REACHED LIMIT.\n",
      "\n",
      "Increase the number of iterations (max_iter) or scale the data as shown in:\n",
      "    https://scikit-learn.org/stable/modules/preprocessing.html\n",
      "Please also refer to the documentation for alternative solver options:\n",
      "    https://scikit-learn.org/stable/modules/linear_model.html#logistic-regression\n",
      "  n_iter_i = _check_optimize_result(\n"
     ]
    },
    {
     "data": {
      "text/html": [
       "<div>\n",
       "<style scoped>\n",
       "    .dataframe tbody tr th:only-of-type {\n",
       "        vertical-align: middle;\n",
       "    }\n",
       "\n",
       "    .dataframe tbody tr th {\n",
       "        vertical-align: top;\n",
       "    }\n",
       "\n",
       "    .dataframe thead th {\n",
       "        text-align: right;\n",
       "    }\n",
       "</style>\n",
       "<table border=\"1\" class=\"dataframe\">\n",
       "  <thead>\n",
       "    <tr style=\"text-align: right;\">\n",
       "      <th></th>\n",
       "      <th>mean_fit_time</th>\n",
       "      <th>std_fit_time</th>\n",
       "      <th>mean_score_time</th>\n",
       "      <th>std_score_time</th>\n",
       "      <th>param_C</th>\n",
       "      <th>param_penalty</th>\n",
       "      <th>param_solver</th>\n",
       "      <th>params</th>\n",
       "      <th>split0_test_score</th>\n",
       "      <th>split1_test_score</th>\n",
       "      <th>split2_test_score</th>\n",
       "      <th>split3_test_score</th>\n",
       "      <th>split4_test_score</th>\n",
       "      <th>mean_test_score</th>\n",
       "      <th>std_test_score</th>\n",
       "      <th>rank_test_score</th>\n",
       "    </tr>\n",
       "  </thead>\n",
       "  <tbody>\n",
       "    <tr>\n",
       "      <th>0</th>\n",
       "      <td>10.313076</td>\n",
       "      <td>0.377507</td>\n",
       "      <td>0.023599</td>\n",
       "      <td>0.001624</td>\n",
       "      <td>0.00001</td>\n",
       "      <td>none</td>\n",
       "      <td>newton-cg</td>\n",
       "      <td>{'C': 1e-05, 'penalty': 'none', 'solver': 'new...</td>\n",
       "      <td>-5397.22</td>\n",
       "      <td>-7092.45</td>\n",
       "      <td>-3285.26</td>\n",
       "      <td>-4171.47</td>\n",
       "      <td>-10254.79</td>\n",
       "      <td>-6040.238</td>\n",
       "      <td>2464.356647</td>\n",
       "      <td>7</td>\n",
       "    </tr>\n",
       "    <tr>\n",
       "      <th>1</th>\n",
       "      <td>1.510200</td>\n",
       "      <td>0.063019</td>\n",
       "      <td>0.022399</td>\n",
       "      <td>0.000800</td>\n",
       "      <td>0.00001</td>\n",
       "      <td>none</td>\n",
       "      <td>lbfgs</td>\n",
       "      <td>{'C': 1e-05, 'penalty': 'none', 'solver': 'lbf...</td>\n",
       "      <td>-5005.97</td>\n",
       "      <td>-7263.73</td>\n",
       "      <td>-4114.30</td>\n",
       "      <td>-3790.46</td>\n",
       "      <td>-11250.08</td>\n",
       "      <td>-6284.908</td>\n",
       "      <td>2763.350062</td>\n",
       "      <td>22</td>\n",
       "    </tr>\n",
       "    <tr>\n",
       "      <th>2</th>\n",
       "      <td>0.018198</td>\n",
       "      <td>0.000981</td>\n",
       "      <td>0.000000</td>\n",
       "      <td>0.000000</td>\n",
       "      <td>0.00001</td>\n",
       "      <td>none</td>\n",
       "      <td>liblinear</td>\n",
       "      <td>{'C': 1e-05, 'penalty': 'none', 'solver': 'lib...</td>\n",
       "      <td>NaN</td>\n",
       "      <td>NaN</td>\n",
       "      <td>NaN</td>\n",
       "      <td>NaN</td>\n",
       "      <td>NaN</td>\n",
       "      <td>NaN</td>\n",
       "      <td>NaN</td>\n",
       "      <td>66</td>\n",
       "    </tr>\n",
       "    <tr>\n",
       "      <th>3</th>\n",
       "      <td>0.018997</td>\n",
       "      <td>0.002186</td>\n",
       "      <td>0.000000</td>\n",
       "      <td>0.000000</td>\n",
       "      <td>0.00001</td>\n",
       "      <td>l1</td>\n",
       "      <td>newton-cg</td>\n",
       "      <td>{'C': 1e-05, 'penalty': 'l1', 'solver': 'newto...</td>\n",
       "      <td>NaN</td>\n",
       "      <td>NaN</td>\n",
       "      <td>NaN</td>\n",
       "      <td>NaN</td>\n",
       "      <td>NaN</td>\n",
       "      <td>NaN</td>\n",
       "      <td>NaN</td>\n",
       "      <td>67</td>\n",
       "    </tr>\n",
       "    <tr>\n",
       "      <th>4</th>\n",
       "      <td>0.017599</td>\n",
       "      <td>0.000800</td>\n",
       "      <td>0.000000</td>\n",
       "      <td>0.000000</td>\n",
       "      <td>0.00001</td>\n",
       "      <td>l1</td>\n",
       "      <td>lbfgs</td>\n",
       "      <td>{'C': 1e-05, 'penalty': 'l1', 'solver': 'lbfgs'}</td>\n",
       "      <td>NaN</td>\n",
       "      <td>NaN</td>\n",
       "      <td>NaN</td>\n",
       "      <td>NaN</td>\n",
       "      <td>NaN</td>\n",
       "      <td>NaN</td>\n",
       "      <td>NaN</td>\n",
       "      <td>68</td>\n",
       "    </tr>\n",
       "    <tr>\n",
       "      <th>...</th>\n",
       "      <td>...</td>\n",
       "      <td>...</td>\n",
       "      <td>...</td>\n",
       "      <td>...</td>\n",
       "      <td>...</td>\n",
       "      <td>...</td>\n",
       "      <td>...</td>\n",
       "      <td>...</td>\n",
       "      <td>...</td>\n",
       "      <td>...</td>\n",
       "      <td>...</td>\n",
       "      <td>...</td>\n",
       "      <td>...</td>\n",
       "      <td>...</td>\n",
       "      <td>...</td>\n",
       "      <td>...</td>\n",
       "    </tr>\n",
       "    <tr>\n",
       "      <th>91</th>\n",
       "      <td>1.415807</td>\n",
       "      <td>0.076935</td>\n",
       "      <td>0.022193</td>\n",
       "      <td>0.000986</td>\n",
       "      <td>100</td>\n",
       "      <td>l2</td>\n",
       "      <td>lbfgs</td>\n",
       "      <td>{'C': 100, 'penalty': 'l2', 'solver': 'lbfgs'}</td>\n",
       "      <td>-4900.98</td>\n",
       "      <td>-5202.40</td>\n",
       "      <td>-3317.56</td>\n",
       "      <td>-3885.45</td>\n",
       "      <td>-12015.66</td>\n",
       "      <td>-5864.410</td>\n",
       "      <td>3149.827258</td>\n",
       "      <td>5</td>\n",
       "    </tr>\n",
       "    <tr>\n",
       "      <th>92</th>\n",
       "      <td>1.888787</td>\n",
       "      <td>0.356815</td>\n",
       "      <td>0.022411</td>\n",
       "      <td>0.000488</td>\n",
       "      <td>100</td>\n",
       "      <td>l2</td>\n",
       "      <td>liblinear</td>\n",
       "      <td>{'C': 100, 'penalty': 'l2', 'solver': 'libline...</td>\n",
       "      <td>-5560.88</td>\n",
       "      <td>-7059.46</td>\n",
       "      <td>-4565.78</td>\n",
       "      <td>-4350.58</td>\n",
       "      <td>-11141.57</td>\n",
       "      <td>-6535.654</td>\n",
       "      <td>2493.751040</td>\n",
       "      <td>33</td>\n",
       "    </tr>\n",
       "    <tr>\n",
       "      <th>93</th>\n",
       "      <td>0.018993</td>\n",
       "      <td>0.001780</td>\n",
       "      <td>0.000000</td>\n",
       "      <td>0.000000</td>\n",
       "      <td>100</td>\n",
       "      <td>elasticnet</td>\n",
       "      <td>newton-cg</td>\n",
       "      <td>{'C': 100, 'penalty': 'elasticnet', 'solver': ...</td>\n",
       "      <td>NaN</td>\n",
       "      <td>NaN</td>\n",
       "      <td>NaN</td>\n",
       "      <td>NaN</td>\n",
       "      <td>NaN</td>\n",
       "      <td>NaN</td>\n",
       "      <td>NaN</td>\n",
       "      <td>50</td>\n",
       "    </tr>\n",
       "    <tr>\n",
       "      <th>94</th>\n",
       "      <td>0.015806</td>\n",
       "      <td>0.000418</td>\n",
       "      <td>0.000000</td>\n",
       "      <td>0.000000</td>\n",
       "      <td>100</td>\n",
       "      <td>elasticnet</td>\n",
       "      <td>lbfgs</td>\n",
       "      <td>{'C': 100, 'penalty': 'elasticnet', 'solver': ...</td>\n",
       "      <td>NaN</td>\n",
       "      <td>NaN</td>\n",
       "      <td>NaN</td>\n",
       "      <td>NaN</td>\n",
       "      <td>NaN</td>\n",
       "      <td>NaN</td>\n",
       "      <td>NaN</td>\n",
       "      <td>89</td>\n",
       "    </tr>\n",
       "    <tr>\n",
       "      <th>95</th>\n",
       "      <td>0.015412</td>\n",
       "      <td>0.000791</td>\n",
       "      <td>0.000000</td>\n",
       "      <td>0.000000</td>\n",
       "      <td>100</td>\n",
       "      <td>elasticnet</td>\n",
       "      <td>liblinear</td>\n",
       "      <td>{'C': 100, 'penalty': 'elasticnet', 'solver': ...</td>\n",
       "      <td>NaN</td>\n",
       "      <td>NaN</td>\n",
       "      <td>NaN</td>\n",
       "      <td>NaN</td>\n",
       "      <td>NaN</td>\n",
       "      <td>NaN</td>\n",
       "      <td>NaN</td>\n",
       "      <td>96</td>\n",
       "    </tr>\n",
       "  </tbody>\n",
       "</table>\n",
       "<p>96 rows × 16 columns</p>\n",
       "</div>"
      ],
      "text/plain": [
       "    mean_fit_time  std_fit_time  mean_score_time  std_score_time  param_C  \\\n",
       "0       10.313076      0.377507         0.023599        0.001624  0.00001   \n",
       "1        1.510200      0.063019         0.022399        0.000800  0.00001   \n",
       "2        0.018198      0.000981         0.000000        0.000000  0.00001   \n",
       "3        0.018997      0.002186         0.000000        0.000000  0.00001   \n",
       "4        0.017599      0.000800         0.000000        0.000000  0.00001   \n",
       "..            ...           ...              ...             ...      ...   \n",
       "91       1.415807      0.076935         0.022193        0.000986      100   \n",
       "92       1.888787      0.356815         0.022411        0.000488      100   \n",
       "93       0.018993      0.001780         0.000000        0.000000      100   \n",
       "94       0.015806      0.000418         0.000000        0.000000      100   \n",
       "95       0.015412      0.000791         0.000000        0.000000      100   \n",
       "\n",
       "   param_penalty param_solver  \\\n",
       "0           none    newton-cg   \n",
       "1           none        lbfgs   \n",
       "2           none    liblinear   \n",
       "3             l1    newton-cg   \n",
       "4             l1        lbfgs   \n",
       "..           ...          ...   \n",
       "91            l2        lbfgs   \n",
       "92            l2    liblinear   \n",
       "93    elasticnet    newton-cg   \n",
       "94    elasticnet        lbfgs   \n",
       "95    elasticnet    liblinear   \n",
       "\n",
       "                                               params  split0_test_score  \\\n",
       "0   {'C': 1e-05, 'penalty': 'none', 'solver': 'new...           -5397.22   \n",
       "1   {'C': 1e-05, 'penalty': 'none', 'solver': 'lbf...           -5005.97   \n",
       "2   {'C': 1e-05, 'penalty': 'none', 'solver': 'lib...                NaN   \n",
       "3   {'C': 1e-05, 'penalty': 'l1', 'solver': 'newto...                NaN   \n",
       "4    {'C': 1e-05, 'penalty': 'l1', 'solver': 'lbfgs'}                NaN   \n",
       "..                                                ...                ...   \n",
       "91     {'C': 100, 'penalty': 'l2', 'solver': 'lbfgs'}           -4900.98   \n",
       "92  {'C': 100, 'penalty': 'l2', 'solver': 'libline...           -5560.88   \n",
       "93  {'C': 100, 'penalty': 'elasticnet', 'solver': ...                NaN   \n",
       "94  {'C': 100, 'penalty': 'elasticnet', 'solver': ...                NaN   \n",
       "95  {'C': 100, 'penalty': 'elasticnet', 'solver': ...                NaN   \n",
       "\n",
       "    split1_test_score  split2_test_score  split3_test_score  \\\n",
       "0            -7092.45           -3285.26           -4171.47   \n",
       "1            -7263.73           -4114.30           -3790.46   \n",
       "2                 NaN                NaN                NaN   \n",
       "3                 NaN                NaN                NaN   \n",
       "4                 NaN                NaN                NaN   \n",
       "..                ...                ...                ...   \n",
       "91           -5202.40           -3317.56           -3885.45   \n",
       "92           -7059.46           -4565.78           -4350.58   \n",
       "93                NaN                NaN                NaN   \n",
       "94                NaN                NaN                NaN   \n",
       "95                NaN                NaN                NaN   \n",
       "\n",
       "    split4_test_score  mean_test_score  std_test_score  rank_test_score  \n",
       "0           -10254.79        -6040.238     2464.356647                7  \n",
       "1           -11250.08        -6284.908     2763.350062               22  \n",
       "2                 NaN              NaN             NaN               66  \n",
       "3                 NaN              NaN             NaN               67  \n",
       "4                 NaN              NaN             NaN               68  \n",
       "..                ...              ...             ...              ...  \n",
       "91          -12015.66        -5864.410     3149.827258                5  \n",
       "92          -11141.57        -6535.654     2493.751040               33  \n",
       "93                NaN              NaN             NaN               50  \n",
       "94                NaN              NaN             NaN               89  \n",
       "95                NaN              NaN             NaN               96  \n",
       "\n",
       "[96 rows x 16 columns]"
      ]
     },
     "execution_count": 17,
     "metadata": {},
     "output_type": "execute_result"
    }
   ],
   "source": [
    "grid_results = grid.fit(X_train, y_train)\n",
    "\n",
    "# Summarize the results in a readable format\n",
    "print(\"Best: {0}, using {1}\".format(grid_results.cv_results_['mean_test_score'], grid_results.best_params_))\n",
    "results_df = pd.DataFrame(grid_results.cv_results_)\n",
    "results_df"
   ]
  },
  {
   "cell_type": "code",
   "execution_count": 18,
   "id": "3ebc8ebb-2531-410d-9396-3e43ce7ca049",
   "metadata": {},
   "outputs": [],
   "source": [
    "import warnings\n",
    "warnings.simplefilter(action='ignore', category=FutureWarning)\n",
    "\n",
    "def my_scorer_smt(y_true, y_pred):\n",
    "    model_cm = confusion_matrix(y_true, y_pred) \n",
    "    \n",
    "    for cls in range(model_cm.shape[0]):\n",
    "        #print(f'[Class {cls} vs others]')\n",
    "        TP, FN, FP, TN = confusion_matrix_for(cls, model_cm).ravel() \n",
    "        \n",
    "    labels = np.array(['true negative',   # y_test, y_pred = 0,0\n",
    "                   'false positive',  # y_test, y_pred = 0,1\n",
    "                   'false negative',  # y_test, y_pred = 1,0\n",
    "                   'true positive'    # y_test, y_pred = 1,1\n",
    "                  ])\n",
    "    X_test_score = X_smt\n",
    "    # X_test_score = get_x_elements_by_indices(X_test_score, y_true.index)\n",
    "    #print(labels[y_true * 2 + y_pred])\n",
    "    #X_test_score['case'] = labels[y_true * 2 + y_pred]\n",
    "    Ca = 5\n",
    "    TotalCost = getTotalAmountFalseNegativeMyScorer(X_test_score, y_true, y_pred) + (FP + TP) * Ca\n",
    "    print(TotalCost)\n",
    "    return TotalCost\n",
    "\n",
    "my_func_smt = make_scorer(my_scorer_smt, greater_is_better=False)\n",
    "\n",
    "#my_scorer(y_test, y_pred)"
   ]
  },
  {
   "cell_type": "code",
   "execution_count": 23,
   "id": "98be83f0-64eb-444c-bbeb-11f0ff2c59a4",
   "metadata": {},
   "outputs": [],
   "source": [
    "from imblearn.pipeline import Pipeline, make_pipeline\n",
    "# DecisionTreeClassifier\n",
    "imba_pipeline = make_pipeline(SMOTE(random_state=42), \n",
    "                              LogisticRegression())"
   ]
  },
  {
   "cell_type": "code",
   "execution_count": 26,
   "id": "0edb9d07-cdc3-4b38-b226-c19dc4eee01c",
   "metadata": {},
   "outputs": [
    {
     "name": "stdout",
     "output_type": "stream",
     "text": [
      "Fitting 5 folds for each of 96 candidates, totalling 480 fits\n",
      "[CV 1/5; 1/96] START logisticregression__C=1e-05, logisticregression__penalty=none, logisticregression__solver=newton-cg\n"
     ]
    },
    {
     "name": "stderr",
     "output_type": "stream",
     "text": [
      "C:\\Python310\\lib\\site-packages\\sklearn\\linear_model\\_logistic.py:1113: UserWarning: Setting penalty='none' will ignore the C and l1_ratio parameters\n",
      "  warnings.warn(\n",
      "C:\\Python310\\lib\\site-packages\\scipy\\optimize\\_linesearch.py:456: LineSearchWarning: The line search algorithm did not converge\n",
      "  warn('The line search algorithm did not converge', LineSearchWarning)\n",
      "C:\\Python310\\lib\\site-packages\\scipy\\optimize\\_linesearch.py:305: LineSearchWarning: The line search algorithm did not converge\n",
      "  warn('The line search algorithm did not converge', LineSearchWarning)\n",
      "C:\\Python310\\lib\\site-packages\\sklearn\\utils\\optimize.py:210: ConvergenceWarning: newton-cg failed to converge. Increase the number of iterations.\n",
      "  warnings.warn(\n"
     ]
    },
    {
     "name": "stdout",
     "output_type": "stream",
     "text": [
      "No of FN: 10\n",
      "2697.9745116359563\n",
      "[CV 1/5; 1/96] END logisticregression__C=1e-05, logisticregression__penalty=none, logisticregression__solver=newton-cg;, score=-2697.975 total time=  24.2s\n",
      "[CV 2/5; 1/96] START logisticregression__C=1e-05, logisticregression__penalty=none, logisticregression__solver=newton-cg\n"
     ]
    },
    {
     "name": "stderr",
     "output_type": "stream",
     "text": [
      "C:\\Python310\\lib\\site-packages\\sklearn\\linear_model\\_logistic.py:1113: UserWarning: Setting penalty='none' will ignore the C and l1_ratio parameters\n",
      "  warnings.warn(\n",
      "C:\\Python310\\lib\\site-packages\\scipy\\optimize\\_linesearch.py:456: LineSearchWarning: The line search algorithm did not converge\n",
      "  warn('The line search algorithm did not converge', LineSearchWarning)\n",
      "C:\\Python310\\lib\\site-packages\\scipy\\optimize\\_linesearch.py:305: LineSearchWarning: The line search algorithm did not converge\n",
      "  warn('The line search algorithm did not converge', LineSearchWarning)\n"
     ]
    },
    {
     "name": "stdout",
     "output_type": "stream",
     "text": [
      "No of FN: 9\n",
      "2826.5175305753887\n",
      "[CV 2/5; 1/96] END logisticregression__C=1e-05, logisticregression__penalty=none, logisticregression__solver=newton-cg;, score=-2826.518 total time=  22.7s\n",
      "[CV 3/5; 1/96] START logisticregression__C=1e-05, logisticregression__penalty=none, logisticregression__solver=newton-cg\n"
     ]
    },
    {
     "name": "stderr",
     "output_type": "stream",
     "text": [
      "C:\\Python310\\lib\\site-packages\\sklearn\\utils\\optimize.py:210: ConvergenceWarning: newton-cg failed to converge. Increase the number of iterations.\n",
      "  warnings.warn(\n",
      "C:\\Python310\\lib\\site-packages\\sklearn\\linear_model\\_logistic.py:1113: UserWarning: Setting penalty='none' will ignore the C and l1_ratio parameters\n",
      "  warnings.warn(\n",
      "C:\\Python310\\lib\\site-packages\\scipy\\optimize\\_linesearch.py:456: LineSearchWarning: The line search algorithm did not converge\n",
      "  warn('The line search algorithm did not converge', LineSearchWarning)\n",
      "C:\\Python310\\lib\\site-packages\\scipy\\optimize\\_linesearch.py:305: LineSearchWarning: The line search algorithm did not converge\n",
      "  warn('The line search algorithm did not converge', LineSearchWarning)\n",
      "C:\\Python310\\lib\\site-packages\\sklearn\\utils\\optimize.py:210: ConvergenceWarning: newton-cg failed to converge. Increase the number of iterations.\n",
      "  warnings.warn(\n"
     ]
    },
    {
     "name": "stdout",
     "output_type": "stream",
     "text": [
      "No of FN: 9\n",
      "2884.99\n",
      "[CV 3/5; 1/96] END logisticregression__C=1e-05, logisticregression__penalty=none, logisticregression__solver=newton-cg;, score=-2884.990 total time=  24.0s\n",
      "[CV 4/5; 1/96] START logisticregression__C=1e-05, logisticregression__penalty=none, logisticregression__solver=newton-cg\n"
     ]
    },
    {
     "name": "stderr",
     "output_type": "stream",
     "text": [
      "C:\\Python310\\lib\\site-packages\\sklearn\\linear_model\\_logistic.py:1113: UserWarning: Setting penalty='none' will ignore the C and l1_ratio parameters\n",
      "  warnings.warn(\n",
      "C:\\Python310\\lib\\site-packages\\scipy\\optimize\\_linesearch.py:456: LineSearchWarning: The line search algorithm did not converge\n",
      "  warn('The line search algorithm did not converge', LineSearchWarning)\n",
      "C:\\Python310\\lib\\site-packages\\scipy\\optimize\\_linesearch.py:305: LineSearchWarning: The line search algorithm did not converge\n",
      "  warn('The line search algorithm did not converge', LineSearchWarning)\n",
      "C:\\Python310\\lib\\site-packages\\sklearn\\utils\\optimize.py:210: ConvergenceWarning: newton-cg failed to converge. Increase the number of iterations.\n",
      "  warnings.warn(\n"
     ]
    },
    {
     "name": "stdout",
     "output_type": "stream",
     "text": [
      "No of FN: 9\n",
      "3037.0239422385403\n",
      "[CV 4/5; 1/96] END logisticregression__C=1e-05, logisticregression__penalty=none, logisticregression__solver=newton-cg;, score=-3037.024 total time=  23.7s\n",
      "[CV 5/5; 1/96] START logisticregression__C=1e-05, logisticregression__penalty=none, logisticregression__solver=newton-cg\n"
     ]
    },
    {
     "name": "stderr",
     "output_type": "stream",
     "text": [
      "C:\\Python310\\lib\\site-packages\\sklearn\\linear_model\\_logistic.py:1113: UserWarning: Setting penalty='none' will ignore the C and l1_ratio parameters\n",
      "  warnings.warn(\n",
      "C:\\Python310\\lib\\site-packages\\scipy\\optimize\\_linesearch.py:456: LineSearchWarning: The line search algorithm did not converge\n",
      "  warn('The line search algorithm did not converge', LineSearchWarning)\n",
      "C:\\Python310\\lib\\site-packages\\scipy\\optimize\\_linesearch.py:305: LineSearchWarning: The line search algorithm did not converge\n",
      "  warn('The line search algorithm did not converge', LineSearchWarning)\n",
      "C:\\Python310\\lib\\site-packages\\sklearn\\utils\\optimize.py:210: ConvergenceWarning: newton-cg failed to converge. Increase the number of iterations.\n",
      "  warnings.warn(\n"
     ]
    },
    {
     "name": "stdout",
     "output_type": "stream",
     "text": [
      "No of FN: 6\n",
      "5054.969999999999\n",
      "[CV 5/5; 1/96] END logisticregression__C=1e-05, logisticregression__penalty=none, logisticregression__solver=newton-cg;, score=-5054.970 total time=  25.5s\n",
      "[CV 1/5; 2/96] START logisticregression__C=1e-05, logisticregression__penalty=none, logisticregression__solver=lbfgs\n"
     ]
    },
    {
     "name": "stderr",
     "output_type": "stream",
     "text": [
      "C:\\Python310\\lib\\site-packages\\sklearn\\linear_model\\_logistic.py:1113: UserWarning: Setting penalty='none' will ignore the C and l1_ratio parameters\n",
      "  warnings.warn(\n"
     ]
    },
    {
     "name": "stdout",
     "output_type": "stream",
     "text": [
      "No of FN: 11\n",
      "5783.5696118827345\n",
      "[CV 1/5; 2/96] END logisticregression__C=1e-05, logisticregression__penalty=none, logisticregression__solver=lbfgs;, score=-5783.570 total time=   2.3s\n",
      "[CV 2/5; 2/96] START logisticregression__C=1e-05, logisticregression__penalty=none, logisticregression__solver=lbfgs\n"
     ]
    },
    {
     "name": "stderr",
     "output_type": "stream",
     "text": [
      "C:\\Python310\\lib\\site-packages\\sklearn\\linear_model\\_logistic.py:1113: UserWarning: Setting penalty='none' will ignore the C and l1_ratio parameters\n",
      "  warnings.warn(\n"
     ]
    },
    {
     "name": "stdout",
     "output_type": "stream",
     "text": [
      "No of FN: 9\n",
      "5291.517530575388\n",
      "[CV 2/5; 2/96] END logisticregression__C=1e-05, logisticregression__penalty=none, logisticregression__solver=lbfgs;, score=-5291.518 total time=   2.3s\n",
      "[CV 3/5; 2/96] START logisticregression__C=1e-05, logisticregression__penalty=none, logisticregression__solver=lbfgs\n"
     ]
    },
    {
     "name": "stderr",
     "output_type": "stream",
     "text": [
      "C:\\Python310\\lib\\site-packages\\sklearn\\linear_model\\_logistic.py:1113: UserWarning: Setting penalty='none' will ignore the C and l1_ratio parameters\n",
      "  warnings.warn(\n"
     ]
    },
    {
     "name": "stdout",
     "output_type": "stream",
     "text": [
      "No of FN: 10\n",
      "8536.582434600648\n",
      "[CV 3/5; 2/96] END logisticregression__C=1e-05, logisticregression__penalty=none, logisticregression__solver=lbfgs;, score=-8536.582 total time=   1.4s\n",
      "[CV 4/5; 2/96] START logisticregression__C=1e-05, logisticregression__penalty=none, logisticregression__solver=lbfgs\n"
     ]
    },
    {
     "name": "stderr",
     "output_type": "stream",
     "text": [
      "C:\\Python310\\lib\\site-packages\\sklearn\\linear_model\\_logistic.py:1113: UserWarning: Setting penalty='none' will ignore the C and l1_ratio parameters\n",
      "  warnings.warn(\n",
      "C:\\Python310\\lib\\site-packages\\sklearn\\linear_model\\_logistic.py:444: ConvergenceWarning: lbfgs failed to converge (status=1):\n",
      "STOP: TOTAL NO. of ITERATIONS REACHED LIMIT.\n",
      "\n",
      "Increase the number of iterations (max_iter) or scale the data as shown in:\n",
      "    https://scikit-learn.org/stable/modules/preprocessing.html\n",
      "Please also refer to the documentation for alternative solver options:\n",
      "    https://scikit-learn.org/stable/modules/linear_model.html#logistic-regression\n",
      "  n_iter_i = _check_optimize_result(\n"
     ]
    },
    {
     "name": "stdout",
     "output_type": "stream",
     "text": [
      "No of FN: 7\n",
      "5538.90394223854\n",
      "[CV 4/5; 2/96] END logisticregression__C=1e-05, logisticregression__penalty=none, logisticregression__solver=lbfgs;, score=-5538.904 total time=   2.7s\n",
      "[CV 5/5; 2/96] START logisticregression__C=1e-05, logisticregression__penalty=none, logisticregression__solver=lbfgs\n"
     ]
    },
    {
     "name": "stderr",
     "output_type": "stream",
     "text": [
      "C:\\Python310\\lib\\site-packages\\sklearn\\linear_model\\_logistic.py:1113: UserWarning: Setting penalty='none' will ignore the C and l1_ratio parameters\n",
      "  warnings.warn(\n"
     ]
    },
    {
     "name": "stdout",
     "output_type": "stream",
     "text": [
      "No of FN: 6\n",
      "8147.539999999999\n",
      "[CV 5/5; 2/96] END logisticregression__C=1e-05, logisticregression__penalty=none, logisticregression__solver=lbfgs;, score=-8147.540 total time=   2.0s\n",
      "[CV 1/5; 3/96] START logisticregression__C=1e-05, logisticregression__penalty=none, logisticregression__solver=liblinear\n",
      "[CV 1/5; 3/96] END logisticregression__C=1e-05, logisticregression__penalty=none, logisticregression__solver=liblinear;, score=nan total time=   0.2s\n",
      "[CV 2/5; 3/96] START logisticregression__C=1e-05, logisticregression__penalty=none, logisticregression__solver=liblinear\n",
      "[CV 2/5; 3/96] END logisticregression__C=1e-05, logisticregression__penalty=none, logisticregression__solver=liblinear;, score=nan total time=   0.2s\n",
      "[CV 3/5; 3/96] START logisticregression__C=1e-05, logisticregression__penalty=none, logisticregression__solver=liblinear\n",
      "[CV 3/5; 3/96] END logisticregression__C=1e-05, logisticregression__penalty=none, logisticregression__solver=liblinear;, score=nan total time=   0.2s\n",
      "[CV 4/5; 3/96] START logisticregression__C=1e-05, logisticregression__penalty=none, logisticregression__solver=liblinear\n",
      "[CV 4/5; 3/96] END logisticregression__C=1e-05, logisticregression__penalty=none, logisticregression__solver=liblinear;, score=nan total time=   0.2s\n",
      "[CV 5/5; 3/96] START logisticregression__C=1e-05, logisticregression__penalty=none, logisticregression__solver=liblinear\n",
      "[CV 5/5; 3/96] END logisticregression__C=1e-05, logisticregression__penalty=none, logisticregression__solver=liblinear;, score=nan total time=   0.2s\n",
      "[CV 1/5; 4/96] START logisticregression__C=1e-05, logisticregression__penalty=l1, logisticregression__solver=newton-cg\n",
      "[CV 1/5; 4/96] END logisticregression__C=1e-05, logisticregression__penalty=l1, logisticregression__solver=newton-cg;, score=nan total time=   0.2s\n",
      "[CV 2/5; 4/96] START logisticregression__C=1e-05, logisticregression__penalty=l1, logisticregression__solver=newton-cg\n",
      "[CV 2/5; 4/96] END logisticregression__C=1e-05, logisticregression__penalty=l1, logisticregression__solver=newton-cg;, score=nan total time=   0.2s\n",
      "[CV 3/5; 4/96] START logisticregression__C=1e-05, logisticregression__penalty=l1, logisticregression__solver=newton-cg\n",
      "[CV 3/5; 4/96] END logisticregression__C=1e-05, logisticregression__penalty=l1, logisticregression__solver=newton-cg;, score=nan total time=   0.2s\n",
      "[CV 4/5; 4/96] START logisticregression__C=1e-05, logisticregression__penalty=l1, logisticregression__solver=newton-cg\n",
      "[CV 4/5; 4/96] END logisticregression__C=1e-05, logisticregression__penalty=l1, logisticregression__solver=newton-cg;, score=nan total time=   0.2s\n",
      "[CV 5/5; 4/96] START logisticregression__C=1e-05, logisticregression__penalty=l1, logisticregression__solver=newton-cg\n",
      "[CV 5/5; 4/96] END logisticregression__C=1e-05, logisticregression__penalty=l1, logisticregression__solver=newton-cg;, score=nan total time=   0.2s\n",
      "[CV 1/5; 5/96] START logisticregression__C=1e-05, logisticregression__penalty=l1, logisticregression__solver=lbfgs\n",
      "[CV 1/5; 5/96] END logisticregression__C=1e-05, logisticregression__penalty=l1, logisticregression__solver=lbfgs;, score=nan total time=   0.2s\n",
      "[CV 2/5; 5/96] START logisticregression__C=1e-05, logisticregression__penalty=l1, logisticregression__solver=lbfgs\n",
      "[CV 2/5; 5/96] END logisticregression__C=1e-05, logisticregression__penalty=l1, logisticregression__solver=lbfgs;, score=nan total time=   0.3s\n",
      "[CV 3/5; 5/96] START logisticregression__C=1e-05, logisticregression__penalty=l1, logisticregression__solver=lbfgs\n",
      "[CV 3/5; 5/96] END logisticregression__C=1e-05, logisticregression__penalty=l1, logisticregression__solver=lbfgs;, score=nan total time=   0.3s\n",
      "[CV 4/5; 5/96] START logisticregression__C=1e-05, logisticregression__penalty=l1, logisticregression__solver=lbfgs\n",
      "[CV 4/5; 5/96] END logisticregression__C=1e-05, logisticregression__penalty=l1, logisticregression__solver=lbfgs;, score=nan total time=   0.2s\n",
      "[CV 5/5; 5/96] START logisticregression__C=1e-05, logisticregression__penalty=l1, logisticregression__solver=lbfgs\n",
      "[CV 5/5; 5/96] END logisticregression__C=1e-05, logisticregression__penalty=l1, logisticregression__solver=lbfgs;, score=nan total time=   0.2s\n",
      "[CV 1/5; 6/96] START logisticregression__C=1e-05, logisticregression__penalty=l1, logisticregression__solver=liblinear\n",
      "No of FN: 15\n",
      "6354.840197613744\n",
      "[CV 1/5; 6/96] END logisticregression__C=1e-05, logisticregression__penalty=l1, logisticregression__solver=liblinear;, score=-6354.840 total time=   1.1s\n",
      "[CV 2/5; 6/96] START logisticregression__C=1e-05, logisticregression__penalty=l1, logisticregression__solver=liblinear\n",
      "No of FN: 17\n",
      "5737.959170225919\n",
      "[CV 2/5; 6/96] END logisticregression__C=1e-05, logisticregression__penalty=l1, logisticregression__solver=liblinear;, score=-5737.959 total time=   1.2s\n",
      "[CV 3/5; 6/96] START logisticregression__C=1e-05, logisticregression__penalty=l1, logisticregression__solver=liblinear\n",
      "No of FN: 10\n",
      "5343.74\n",
      "[CV 3/5; 6/96] END logisticregression__C=1e-05, logisticregression__penalty=l1, logisticregression__solver=liblinear;, score=-5343.740 total time=   1.1s\n",
      "[CV 4/5; 6/96] START logisticregression__C=1e-05, logisticregression__penalty=l1, logisticregression__solver=liblinear\n",
      "No of FN: 8\n",
      "5603.02394223854\n",
      "[CV 4/5; 6/96] END logisticregression__C=1e-05, logisticregression__penalty=l1, logisticregression__solver=liblinear;, score=-5603.024 total time=   1.0s\n",
      "[CV 5/5; 6/96] START logisticregression__C=1e-05, logisticregression__penalty=l1, logisticregression__solver=liblinear\n",
      "No of FN: 13\n",
      "7534.9821468185255\n",
      "[CV 5/5; 6/96] END logisticregression__C=1e-05, logisticregression__penalty=l1, logisticregression__solver=liblinear;, score=-7534.982 total time=   1.0s\n",
      "[CV 1/5; 7/96] START logisticregression__C=1e-05, logisticregression__penalty=l2, logisticregression__solver=newton-cg\n"
     ]
    },
    {
     "name": "stderr",
     "output_type": "stream",
     "text": [
      "C:\\Python310\\lib\\site-packages\\scipy\\optimize\\_linesearch.py:456: LineSearchWarning: The line search algorithm did not converge\n",
      "  warn('The line search algorithm did not converge', LineSearchWarning)\n",
      "C:\\Python310\\lib\\site-packages\\scipy\\optimize\\_linesearch.py:305: LineSearchWarning: The line search algorithm did not converge\n",
      "  warn('The line search algorithm did not converge', LineSearchWarning)\n",
      "C:\\Python310\\lib\\site-packages\\sklearn\\utils\\optimize.py:210: ConvergenceWarning: newton-cg failed to converge. Increase the number of iterations.\n",
      "  warnings.warn(\n"
     ]
    },
    {
     "name": "stdout",
     "output_type": "stream",
     "text": [
      "No of FN: 13\n",
      "2582.9550973669657\n",
      "[CV 1/5; 7/96] END logisticregression__C=1e-05, logisticregression__penalty=l2, logisticregression__solver=newton-cg;, score=-2582.955 total time=  24.7s\n",
      "[CV 2/5; 7/96] START logisticregression__C=1e-05, logisticregression__penalty=l2, logisticregression__solver=newton-cg\n"
     ]
    },
    {
     "name": "stderr",
     "output_type": "stream",
     "text": [
      "C:\\Python310\\lib\\site-packages\\scipy\\optimize\\_linesearch.py:456: LineSearchWarning: The line search algorithm did not converge\n",
      "  warn('The line search algorithm did not converge', LineSearchWarning)\n",
      "C:\\Python310\\lib\\site-packages\\scipy\\optimize\\_linesearch.py:305: LineSearchWarning: The line search algorithm did not converge\n",
      "  warn('The line search algorithm did not converge', LineSearchWarning)\n",
      "C:\\Python310\\lib\\site-packages\\sklearn\\utils\\optimize.py:210: ConvergenceWarning: newton-cg failed to converge. Increase the number of iterations.\n",
      "  warnings.warn(\n"
     ]
    },
    {
     "name": "stdout",
     "output_type": "stream",
     "text": [
      "No of FN: 14\n",
      "2327.5447223717524\n",
      "[CV 2/5; 7/96] END logisticregression__C=1e-05, logisticregression__penalty=l2, logisticregression__solver=newton-cg;, score=-2327.545 total time=  24.5s\n",
      "[CV 3/5; 7/96] START logisticregression__C=1e-05, logisticregression__penalty=l2, logisticregression__solver=newton-cg\n"
     ]
    },
    {
     "name": "stderr",
     "output_type": "stream",
     "text": [
      "C:\\Python310\\lib\\site-packages\\scipy\\optimize\\_linesearch.py:456: LineSearchWarning: The line search algorithm did not converge\n",
      "  warn('The line search algorithm did not converge', LineSearchWarning)\n",
      "C:\\Python310\\lib\\site-packages\\scipy\\optimize\\_linesearch.py:305: LineSearchWarning: The line search algorithm did not converge\n",
      "  warn('The line search algorithm did not converge', LineSearchWarning)\n",
      "C:\\Python310\\lib\\site-packages\\scipy\\optimize\\_linesearch.py:415: LineSearchWarning: Rounding errors prevent the line search from converging\n",
      "  warn(msg, LineSearchWarning)\n",
      "C:\\Python310\\lib\\site-packages\\sklearn\\utils\\optimize.py:203: UserWarning: Line Search failed\n",
      "  warnings.warn(\"Line Search failed\")\n"
     ]
    },
    {
     "name": "stdout",
     "output_type": "stream",
     "text": [
      "No of FN: 11\n",
      "1848.67\n",
      "[CV 3/5; 7/96] END logisticregression__C=1e-05, logisticregression__penalty=l2, logisticregression__solver=newton-cg;, score=-1848.670 total time=  23.3s\n",
      "[CV 4/5; 7/96] START logisticregression__C=1e-05, logisticregression__penalty=l2, logisticregression__solver=newton-cg\n"
     ]
    },
    {
     "name": "stderr",
     "output_type": "stream",
     "text": [
      "C:\\Python310\\lib\\site-packages\\scipy\\optimize\\_linesearch.py:456: LineSearchWarning: The line search algorithm did not converge\n",
      "  warn('The line search algorithm did not converge', LineSearchWarning)\n",
      "C:\\Python310\\lib\\site-packages\\scipy\\optimize\\_linesearch.py:305: LineSearchWarning: The line search algorithm did not converge\n",
      "  warn('The line search algorithm did not converge', LineSearchWarning)\n",
      "C:\\Python310\\lib\\site-packages\\sklearn\\utils\\optimize.py:210: ConvergenceWarning: newton-cg failed to converge. Increase the number of iterations.\n",
      "  warnings.warn(\n"
     ]
    },
    {
     "name": "stdout",
     "output_type": "stream",
     "text": [
      "No of FN: 11\n",
      "2141.80394223854\n",
      "[CV 4/5; 7/96] END logisticregression__C=1e-05, logisticregression__penalty=l2, logisticregression__solver=newton-cg;, score=-2141.804 total time=  23.9s\n",
      "[CV 5/5; 7/96] START logisticregression__C=1e-05, logisticregression__penalty=l2, logisticregression__solver=newton-cg\n"
     ]
    },
    {
     "name": "stderr",
     "output_type": "stream",
     "text": [
      "C:\\Python310\\lib\\site-packages\\scipy\\optimize\\_linesearch.py:456: LineSearchWarning: The line search algorithm did not converge\n",
      "  warn('The line search algorithm did not converge', LineSearchWarning)\n",
      "C:\\Python310\\lib\\site-packages\\scipy\\optimize\\_linesearch.py:305: LineSearchWarning: The line search algorithm did not converge\n",
      "  warn('The line search algorithm did not converge', LineSearchWarning)\n",
      "C:\\Python310\\lib\\site-packages\\sklearn\\utils\\optimize.py:210: ConvergenceWarning: newton-cg failed to converge. Increase the number of iterations.\n",
      "  warnings.warn(\n"
     ]
    },
    {
     "name": "stdout",
     "output_type": "stream",
     "text": [
      "No of FN: 10\n",
      "3918.042276488321\n",
      "[CV 5/5; 7/96] END logisticregression__C=1e-05, logisticregression__penalty=l2, logisticregression__solver=newton-cg;, score=-3918.042 total time=  24.6s\n",
      "[CV 1/5; 8/96] START logisticregression__C=1e-05, logisticregression__penalty=l2, logisticregression__solver=lbfgs\n",
      "No of FN: 14\n",
      "5068.060197613744\n",
      "[CV 1/5; 8/96] END logisticregression__C=1e-05, logisticregression__penalty=l2, logisticregression__solver=lbfgs;, score=-5068.060 total time=   1.4s\n",
      "[CV 2/5; 8/96] START logisticregression__C=1e-05, logisticregression__penalty=l2, logisticregression__solver=lbfgs\n",
      "No of FN: 18\n",
      "5646.154722371752\n",
      "[CV 2/5; 8/96] END logisticregression__C=1e-05, logisticregression__penalty=l2, logisticregression__solver=lbfgs;, score=-5646.155 total time=   1.3s\n",
      "[CV 3/5; 8/96] START logisticregression__C=1e-05, logisticregression__penalty=l2, logisticregression__solver=lbfgs\n",
      "No of FN: 9\n",
      "3665.63\n",
      "[CV 3/5; 8/96] END logisticregression__C=1e-05, logisticregression__penalty=l2, logisticregression__solver=lbfgs;, score=-3665.630 total time=   2.3s\n",
      "[CV 4/5; 8/96] START logisticregression__C=1e-05, logisticregression__penalty=l2, logisticregression__solver=lbfgs\n",
      "No of FN: 9\n",
      "4097.02394223854\n",
      "[CV 4/5; 8/96] END logisticregression__C=1e-05, logisticregression__penalty=l2, logisticregression__solver=lbfgs;, score=-4097.024 total time=   2.0s\n",
      "[CV 5/5; 8/96] START logisticregression__C=1e-05, logisticregression__penalty=l2, logisticregression__solver=lbfgs\n",
      "No of FN: 13\n",
      "6683.342276488322\n",
      "[CV 5/5; 8/96] END logisticregression__C=1e-05, logisticregression__penalty=l2, logisticregression__solver=lbfgs;, score=-6683.342 total time=   1.3s\n",
      "[CV 1/5; 9/96] START logisticregression__C=1e-05, logisticregression__penalty=l2, logisticregression__solver=liblinear\n",
      "No of FN: 14\n",
      "3978.060197613744\n",
      "[CV 1/5; 9/96] END logisticregression__C=1e-05, logisticregression__penalty=l2, logisticregression__solver=liblinear;, score=-3978.060 total time=   3.6s\n",
      "[CV 2/5; 9/96] START logisticregression__C=1e-05, logisticregression__penalty=l2, logisticregression__solver=liblinear\n",
      "No of FN: 12\n",
      "4128.094722371752\n",
      "[CV 2/5; 9/96] END logisticregression__C=1e-05, logisticregression__penalty=l2, logisticregression__solver=liblinear;, score=-4128.095 total time=   3.6s\n",
      "[CV 3/5; 9/96] START logisticregression__C=1e-05, logisticregression__penalty=l2, logisticregression__solver=liblinear\n",
      "No of FN: 9\n",
      "3430.63\n",
      "[CV 3/5; 9/96] END logisticregression__C=1e-05, logisticregression__penalty=l2, logisticregression__solver=liblinear;, score=-3430.630 total time=   3.9s\n",
      "[CV 4/5; 9/96] START logisticregression__C=1e-05, logisticregression__penalty=l2, logisticregression__solver=liblinear\n",
      "No of FN: 10\n",
      "3711.80394223854\n",
      "[CV 4/5; 9/96] END logisticregression__C=1e-05, logisticregression__penalty=l2, logisticregression__solver=liblinear;, score=-3711.804 total time=   3.1s\n",
      "[CV 5/5; 9/96] START logisticregression__C=1e-05, logisticregression__penalty=l2, logisticregression__solver=liblinear\n",
      "No of FN: 9\n",
      "5767.792276488321\n",
      "[CV 5/5; 9/96] END logisticregression__C=1e-05, logisticregression__penalty=l2, logisticregression__solver=liblinear;, score=-5767.792 total time=   3.1s\n",
      "[CV 1/5; 10/96] START logisticregression__C=1e-05, logisticregression__penalty=elasticnet, logisticregression__solver=newton-cg\n",
      "[CV 1/5; 10/96] END logisticregression__C=1e-05, logisticregression__penalty=elasticnet, logisticregression__solver=newton-cg;, score=nan total time=   0.2s\n",
      "[CV 2/5; 10/96] START logisticregression__C=1e-05, logisticregression__penalty=elasticnet, logisticregression__solver=newton-cg\n",
      "[CV 2/5; 10/96] END logisticregression__C=1e-05, logisticregression__penalty=elasticnet, logisticregression__solver=newton-cg;, score=nan total time=   0.3s\n",
      "[CV 3/5; 10/96] START logisticregression__C=1e-05, logisticregression__penalty=elasticnet, logisticregression__solver=newton-cg\n",
      "[CV 3/5; 10/96] END logisticregression__C=1e-05, logisticregression__penalty=elasticnet, logisticregression__solver=newton-cg;, score=nan total time=   0.3s\n",
      "[CV 4/5; 10/96] START logisticregression__C=1e-05, logisticregression__penalty=elasticnet, logisticregression__solver=newton-cg\n",
      "[CV 4/5; 10/96] END logisticregression__C=1e-05, logisticregression__penalty=elasticnet, logisticregression__solver=newton-cg;, score=nan total time=   0.2s\n",
      "[CV 5/5; 10/96] START logisticregression__C=1e-05, logisticregression__penalty=elasticnet, logisticregression__solver=newton-cg\n",
      "[CV 5/5; 10/96] END logisticregression__C=1e-05, logisticregression__penalty=elasticnet, logisticregression__solver=newton-cg;, score=nan total time=   0.2s\n",
      "[CV 1/5; 11/96] START logisticregression__C=1e-05, logisticregression__penalty=elasticnet, logisticregression__solver=lbfgs\n",
      "[CV 1/5; 11/96] END logisticregression__C=1e-05, logisticregression__penalty=elasticnet, logisticregression__solver=lbfgs;, score=nan total time=   0.2s\n",
      "[CV 2/5; 11/96] START logisticregression__C=1e-05, logisticregression__penalty=elasticnet, logisticregression__solver=lbfgs\n",
      "[CV 2/5; 11/96] END logisticregression__C=1e-05, logisticregression__penalty=elasticnet, logisticregression__solver=lbfgs;, score=nan total time=   0.3s\n",
      "[CV 3/5; 11/96] START logisticregression__C=1e-05, logisticregression__penalty=elasticnet, logisticregression__solver=lbfgs\n",
      "[CV 3/5; 11/96] END logisticregression__C=1e-05, logisticregression__penalty=elasticnet, logisticregression__solver=lbfgs;, score=nan total time=   0.3s\n",
      "[CV 4/5; 11/96] START logisticregression__C=1e-05, logisticregression__penalty=elasticnet, logisticregression__solver=lbfgs\n",
      "[CV 4/5; 11/96] END logisticregression__C=1e-05, logisticregression__penalty=elasticnet, logisticregression__solver=lbfgs;, score=nan total time=   0.3s\n",
      "[CV 5/5; 11/96] START logisticregression__C=1e-05, logisticregression__penalty=elasticnet, logisticregression__solver=lbfgs\n",
      "[CV 5/5; 11/96] END logisticregression__C=1e-05, logisticregression__penalty=elasticnet, logisticregression__solver=lbfgs;, score=nan total time=   0.3s\n",
      "[CV 1/5; 12/96] START logisticregression__C=1e-05, logisticregression__penalty=elasticnet, logisticregression__solver=liblinear\n",
      "[CV 1/5; 12/96] END logisticregression__C=1e-05, logisticregression__penalty=elasticnet, logisticregression__solver=liblinear;, score=nan total time=   0.2s\n",
      "[CV 2/5; 12/96] START logisticregression__C=1e-05, logisticregression__penalty=elasticnet, logisticregression__solver=liblinear\n",
      "[CV 2/5; 12/96] END logisticregression__C=1e-05, logisticregression__penalty=elasticnet, logisticregression__solver=liblinear;, score=nan total time=   0.3s\n",
      "[CV 3/5; 12/96] START logisticregression__C=1e-05, logisticregression__penalty=elasticnet, logisticregression__solver=liblinear\n",
      "[CV 3/5; 12/96] END logisticregression__C=1e-05, logisticregression__penalty=elasticnet, logisticregression__solver=liblinear;, score=nan total time=   0.3s\n",
      "[CV 4/5; 12/96] START logisticregression__C=1e-05, logisticregression__penalty=elasticnet, logisticregression__solver=liblinear\n",
      "[CV 4/5; 12/96] END logisticregression__C=1e-05, logisticregression__penalty=elasticnet, logisticregression__solver=liblinear;, score=nan total time=   0.2s\n",
      "[CV 5/5; 12/96] START logisticregression__C=1e-05, logisticregression__penalty=elasticnet, logisticregression__solver=liblinear\n",
      "[CV 5/5; 12/96] END logisticregression__C=1e-05, logisticregression__penalty=elasticnet, logisticregression__solver=liblinear;, score=nan total time=   0.2s\n",
      "[CV 1/5; 13/96] START logisticregression__C=0.0001, logisticregression__penalty=none, logisticregression__solver=newton-cg\n"
     ]
    },
    {
     "name": "stderr",
     "output_type": "stream",
     "text": [
      "C:\\Python310\\lib\\site-packages\\sklearn\\linear_model\\_logistic.py:1113: UserWarning: Setting penalty='none' will ignore the C and l1_ratio parameters\n",
      "  warnings.warn(\n",
      "C:\\Python310\\lib\\site-packages\\scipy\\optimize\\_linesearch.py:456: LineSearchWarning: The line search algorithm did not converge\n",
      "  warn('The line search algorithm did not converge', LineSearchWarning)\n",
      "C:\\Python310\\lib\\site-packages\\scipy\\optimize\\_linesearch.py:305: LineSearchWarning: The line search algorithm did not converge\n",
      "  warn('The line search algorithm did not converge', LineSearchWarning)\n",
      "C:\\Python310\\lib\\site-packages\\sklearn\\utils\\optimize.py:210: ConvergenceWarning: newton-cg failed to converge. Increase the number of iterations.\n",
      "  warnings.warn(\n"
     ]
    },
    {
     "name": "stdout",
     "output_type": "stream",
     "text": [
      "No of FN: 10\n",
      "2697.9745116359563\n",
      "[CV 1/5; 13/96] END logisticregression__C=0.0001, logisticregression__penalty=none, logisticregression__solver=newton-cg;, score=-2697.975 total time=  26.0s\n",
      "[CV 2/5; 13/96] START logisticregression__C=0.0001, logisticregression__penalty=none, logisticregression__solver=newton-cg\n"
     ]
    },
    {
     "name": "stderr",
     "output_type": "stream",
     "text": [
      "C:\\Python310\\lib\\site-packages\\sklearn\\linear_model\\_logistic.py:1113: UserWarning: Setting penalty='none' will ignore the C and l1_ratio parameters\n",
      "  warnings.warn(\n",
      "C:\\Python310\\lib\\site-packages\\scipy\\optimize\\_linesearch.py:456: LineSearchWarning: The line search algorithm did not converge\n",
      "  warn('The line search algorithm did not converge', LineSearchWarning)\n",
      "C:\\Python310\\lib\\site-packages\\scipy\\optimize\\_linesearch.py:305: LineSearchWarning: The line search algorithm did not converge\n",
      "  warn('The line search algorithm did not converge', LineSearchWarning)\n",
      "C:\\Python310\\lib\\site-packages\\sklearn\\utils\\optimize.py:210: ConvergenceWarning: newton-cg failed to converge. Increase the number of iterations.\n",
      "  warnings.warn(\n"
     ]
    },
    {
     "name": "stdout",
     "output_type": "stream",
     "text": [
      "No of FN: 9\n",
      "2826.5175305753887\n",
      "[CV 2/5; 13/96] END logisticregression__C=0.0001, logisticregression__penalty=none, logisticregression__solver=newton-cg;, score=-2826.518 total time=  23.8s\n",
      "[CV 3/5; 13/96] START logisticregression__C=0.0001, logisticregression__penalty=none, logisticregression__solver=newton-cg\n"
     ]
    },
    {
     "name": "stderr",
     "output_type": "stream",
     "text": [
      "C:\\Python310\\lib\\site-packages\\sklearn\\linear_model\\_logistic.py:1113: UserWarning: Setting penalty='none' will ignore the C and l1_ratio parameters\n",
      "  warnings.warn(\n",
      "C:\\Python310\\lib\\site-packages\\scipy\\optimize\\_linesearch.py:456: LineSearchWarning: The line search algorithm did not converge\n",
      "  warn('The line search algorithm did not converge', LineSearchWarning)\n",
      "C:\\Python310\\lib\\site-packages\\scipy\\optimize\\_linesearch.py:305: LineSearchWarning: The line search algorithm did not converge\n",
      "  warn('The line search algorithm did not converge', LineSearchWarning)\n",
      "C:\\Python310\\lib\\site-packages\\sklearn\\utils\\optimize.py:210: ConvergenceWarning: newton-cg failed to converge. Increase the number of iterations.\n",
      "  warnings.warn(\n"
     ]
    },
    {
     "name": "stdout",
     "output_type": "stream",
     "text": [
      "No of FN: 9\n",
      "2884.99\n",
      "[CV 3/5; 13/96] END logisticregression__C=0.0001, logisticregression__penalty=none, logisticregression__solver=newton-cg;, score=-2884.990 total time=  24.9s\n",
      "[CV 4/5; 13/96] START logisticregression__C=0.0001, logisticregression__penalty=none, logisticregression__solver=newton-cg\n"
     ]
    },
    {
     "name": "stderr",
     "output_type": "stream",
     "text": [
      "C:\\Python310\\lib\\site-packages\\sklearn\\linear_model\\_logistic.py:1113: UserWarning: Setting penalty='none' will ignore the C and l1_ratio parameters\n",
      "  warnings.warn(\n",
      "C:\\Python310\\lib\\site-packages\\scipy\\optimize\\_linesearch.py:456: LineSearchWarning: The line search algorithm did not converge\n",
      "  warn('The line search algorithm did not converge', LineSearchWarning)\n",
      "C:\\Python310\\lib\\site-packages\\scipy\\optimize\\_linesearch.py:305: LineSearchWarning: The line search algorithm did not converge\n",
      "  warn('The line search algorithm did not converge', LineSearchWarning)\n",
      "C:\\Python310\\lib\\site-packages\\sklearn\\utils\\optimize.py:210: ConvergenceWarning: newton-cg failed to converge. Increase the number of iterations.\n",
      "  warnings.warn(\n"
     ]
    },
    {
     "name": "stdout",
     "output_type": "stream",
     "text": [
      "No of FN: 9\n",
      "3037.0239422385403\n",
      "[CV 4/5; 13/96] END logisticregression__C=0.0001, logisticregression__penalty=none, logisticregression__solver=newton-cg;, score=-3037.024 total time=  25.4s\n",
      "[CV 5/5; 13/96] START logisticregression__C=0.0001, logisticregression__penalty=none, logisticregression__solver=newton-cg\n"
     ]
    },
    {
     "name": "stderr",
     "output_type": "stream",
     "text": [
      "C:\\Python310\\lib\\site-packages\\sklearn\\linear_model\\_logistic.py:1113: UserWarning: Setting penalty='none' will ignore the C and l1_ratio parameters\n",
      "  warnings.warn(\n",
      "C:\\Python310\\lib\\site-packages\\scipy\\optimize\\_linesearch.py:456: LineSearchWarning: The line search algorithm did not converge\n",
      "  warn('The line search algorithm did not converge', LineSearchWarning)\n",
      "C:\\Python310\\lib\\site-packages\\scipy\\optimize\\_linesearch.py:305: LineSearchWarning: The line search algorithm did not converge\n",
      "  warn('The line search algorithm did not converge', LineSearchWarning)\n",
      "C:\\Python310\\lib\\site-packages\\sklearn\\utils\\optimize.py:210: ConvergenceWarning: newton-cg failed to converge. Increase the number of iterations.\n",
      "  warnings.warn(\n"
     ]
    },
    {
     "name": "stdout",
     "output_type": "stream",
     "text": [
      "No of FN: 6\n",
      "5054.969999999999\n",
      "[CV 5/5; 13/96] END logisticregression__C=0.0001, logisticregression__penalty=none, logisticregression__solver=newton-cg;, score=-5054.970 total time=  27.3s\n",
      "[CV 1/5; 14/96] START logisticregression__C=0.0001, logisticregression__penalty=none, logisticregression__solver=lbfgs\n"
     ]
    },
    {
     "name": "stderr",
     "output_type": "stream",
     "text": [
      "C:\\Python310\\lib\\site-packages\\sklearn\\linear_model\\_logistic.py:1113: UserWarning: Setting penalty='none' will ignore the C and l1_ratio parameters\n",
      "  warnings.warn(\n"
     ]
    },
    {
     "name": "stdout",
     "output_type": "stream",
     "text": [
      "No of FN: 11\n",
      "5783.5696118827345\n",
      "[CV 1/5; 14/96] END logisticregression__C=0.0001, logisticregression__penalty=none, logisticregression__solver=lbfgs;, score=-5783.570 total time=   2.3s\n",
      "[CV 2/5; 14/96] START logisticregression__C=0.0001, logisticregression__penalty=none, logisticregression__solver=lbfgs\n"
     ]
    },
    {
     "name": "stderr",
     "output_type": "stream",
     "text": [
      "C:\\Python310\\lib\\site-packages\\sklearn\\linear_model\\_logistic.py:1113: UserWarning: Setting penalty='none' will ignore the C and l1_ratio parameters\n",
      "  warnings.warn(\n"
     ]
    },
    {
     "name": "stdout",
     "output_type": "stream",
     "text": [
      "No of FN: 9\n",
      "5291.517530575388\n",
      "[CV 2/5; 14/96] END logisticregression__C=0.0001, logisticregression__penalty=none, logisticregression__solver=lbfgs;, score=-5291.518 total time=   2.3s\n",
      "[CV 3/5; 14/96] START logisticregression__C=0.0001, logisticregression__penalty=none, logisticregression__solver=lbfgs\n"
     ]
    },
    {
     "name": "stderr",
     "output_type": "stream",
     "text": [
      "C:\\Python310\\lib\\site-packages\\sklearn\\linear_model\\_logistic.py:1113: UserWarning: Setting penalty='none' will ignore the C and l1_ratio parameters\n",
      "  warnings.warn(\n"
     ]
    },
    {
     "name": "stdout",
     "output_type": "stream",
     "text": [
      "No of FN: 10\n",
      "8536.582434600648\n",
      "[CV 3/5; 14/96] END logisticregression__C=0.0001, logisticregression__penalty=none, logisticregression__solver=lbfgs;, score=-8536.582 total time=   1.5s\n",
      "[CV 4/5; 14/96] START logisticregression__C=0.0001, logisticregression__penalty=none, logisticregression__solver=lbfgs\n"
     ]
    },
    {
     "name": "stderr",
     "output_type": "stream",
     "text": [
      "C:\\Python310\\lib\\site-packages\\sklearn\\linear_model\\_logistic.py:1113: UserWarning: Setting penalty='none' will ignore the C and l1_ratio parameters\n",
      "  warnings.warn(\n",
      "C:\\Python310\\lib\\site-packages\\sklearn\\linear_model\\_logistic.py:444: ConvergenceWarning: lbfgs failed to converge (status=1):\n",
      "STOP: TOTAL NO. of ITERATIONS REACHED LIMIT.\n",
      "\n",
      "Increase the number of iterations (max_iter) or scale the data as shown in:\n",
      "    https://scikit-learn.org/stable/modules/preprocessing.html\n",
      "Please also refer to the documentation for alternative solver options:\n",
      "    https://scikit-learn.org/stable/modules/linear_model.html#logistic-regression\n",
      "  n_iter_i = _check_optimize_result(\n"
     ]
    },
    {
     "name": "stdout",
     "output_type": "stream",
     "text": [
      "No of FN: 7\n",
      "5538.90394223854\n",
      "[CV 4/5; 14/96] END logisticregression__C=0.0001, logisticregression__penalty=none, logisticregression__solver=lbfgs;, score=-5538.904 total time=   2.9s\n",
      "[CV 5/5; 14/96] START logisticregression__C=0.0001, logisticregression__penalty=none, logisticregression__solver=lbfgs\n"
     ]
    },
    {
     "name": "stderr",
     "output_type": "stream",
     "text": [
      "C:\\Python310\\lib\\site-packages\\sklearn\\linear_model\\_logistic.py:1113: UserWarning: Setting penalty='none' will ignore the C and l1_ratio parameters\n",
      "  warnings.warn(\n"
     ]
    },
    {
     "name": "stdout",
     "output_type": "stream",
     "text": [
      "No of FN: 6\n",
      "8147.539999999999\n",
      "[CV 5/5; 14/96] END logisticregression__C=0.0001, logisticregression__penalty=none, logisticregression__solver=lbfgs;, score=-8147.540 total time=   2.1s\n",
      "[CV 1/5; 15/96] START logisticregression__C=0.0001, logisticregression__penalty=none, logisticregression__solver=liblinear\n",
      "[CV 1/5; 15/96] END logisticregression__C=0.0001, logisticregression__penalty=none, logisticregression__solver=liblinear;, score=nan total time=   0.2s\n",
      "[CV 2/5; 15/96] START logisticregression__C=0.0001, logisticregression__penalty=none, logisticregression__solver=liblinear\n",
      "[CV 2/5; 15/96] END logisticregression__C=0.0001, logisticregression__penalty=none, logisticregression__solver=liblinear;, score=nan total time=   0.2s\n",
      "[CV 3/5; 15/96] START logisticregression__C=0.0001, logisticregression__penalty=none, logisticregression__solver=liblinear\n",
      "[CV 3/5; 15/96] END logisticregression__C=0.0001, logisticregression__penalty=none, logisticregression__solver=liblinear;, score=nan total time=   0.2s\n",
      "[CV 4/5; 15/96] START logisticregression__C=0.0001, logisticregression__penalty=none, logisticregression__solver=liblinear\n",
      "[CV 4/5; 15/96] END logisticregression__C=0.0001, logisticregression__penalty=none, logisticregression__solver=liblinear;, score=nan total time=   0.3s\n",
      "[CV 5/5; 15/96] START logisticregression__C=0.0001, logisticregression__penalty=none, logisticregression__solver=liblinear\n",
      "[CV 5/5; 15/96] END logisticregression__C=0.0001, logisticregression__penalty=none, logisticregression__solver=liblinear;, score=nan total time=   0.2s\n",
      "[CV 1/5; 16/96] START logisticregression__C=0.0001, logisticregression__penalty=l1, logisticregression__solver=newton-cg\n",
      "[CV 1/5; 16/96] END logisticregression__C=0.0001, logisticregression__penalty=l1, logisticregression__solver=newton-cg;, score=nan total time=   0.2s\n",
      "[CV 2/5; 16/96] START logisticregression__C=0.0001, logisticregression__penalty=l1, logisticregression__solver=newton-cg\n",
      "[CV 2/5; 16/96] END logisticregression__C=0.0001, logisticregression__penalty=l1, logisticregression__solver=newton-cg;, score=nan total time=   0.2s\n",
      "[CV 3/5; 16/96] START logisticregression__C=0.0001, logisticregression__penalty=l1, logisticregression__solver=newton-cg\n",
      "[CV 3/5; 16/96] END logisticregression__C=0.0001, logisticregression__penalty=l1, logisticregression__solver=newton-cg;, score=nan total time=   0.2s\n",
      "[CV 4/5; 16/96] START logisticregression__C=0.0001, logisticregression__penalty=l1, logisticregression__solver=newton-cg\n",
      "[CV 4/5; 16/96] END logisticregression__C=0.0001, logisticregression__penalty=l1, logisticregression__solver=newton-cg;, score=nan total time=   0.2s\n",
      "[CV 5/5; 16/96] START logisticregression__C=0.0001, logisticregression__penalty=l1, logisticregression__solver=newton-cg\n",
      "[CV 5/5; 16/96] END logisticregression__C=0.0001, logisticregression__penalty=l1, logisticregression__solver=newton-cg;, score=nan total time=   0.4s\n",
      "[CV 1/5; 17/96] START logisticregression__C=0.0001, logisticregression__penalty=l1, logisticregression__solver=lbfgs\n",
      "[CV 1/5; 17/96] END logisticregression__C=0.0001, logisticregression__penalty=l1, logisticregression__solver=lbfgs;, score=nan total time=   0.2s\n",
      "[CV 2/5; 17/96] START logisticregression__C=0.0001, logisticregression__penalty=l1, logisticregression__solver=lbfgs\n",
      "[CV 2/5; 17/96] END logisticregression__C=0.0001, logisticregression__penalty=l1, logisticregression__solver=lbfgs;, score=nan total time=   0.2s\n",
      "[CV 3/5; 17/96] START logisticregression__C=0.0001, logisticregression__penalty=l1, logisticregression__solver=lbfgs\n",
      "[CV 3/5; 17/96] END logisticregression__C=0.0001, logisticregression__penalty=l1, logisticregression__solver=lbfgs;, score=nan total time=   0.2s\n",
      "[CV 4/5; 17/96] START logisticregression__C=0.0001, logisticregression__penalty=l1, logisticregression__solver=lbfgs\n",
      "[CV 4/5; 17/96] END logisticregression__C=0.0001, logisticregression__penalty=l1, logisticregression__solver=lbfgs;, score=nan total time=   0.3s\n",
      "[CV 5/5; 17/96] START logisticregression__C=0.0001, logisticregression__penalty=l1, logisticregression__solver=lbfgs\n",
      "[CV 5/5; 17/96] END logisticregression__C=0.0001, logisticregression__penalty=l1, logisticregression__solver=lbfgs;, score=nan total time=   0.3s\n",
      "[CV 1/5; 18/96] START logisticregression__C=0.0001, logisticregression__penalty=l1, logisticregression__solver=liblinear\n",
      "No of FN: 11\n",
      "6038.5696118827345\n",
      "[CV 1/5; 18/96] END logisticregression__C=0.0001, logisticregression__penalty=l1, logisticregression__solver=liblinear;, score=-6038.570 total time=   1.7s\n",
      "[CV 2/5; 18/96] START logisticregression__C=0.0001, logisticregression__penalty=l1, logisticregression__solver=liblinear\n",
      "No of FN: 10\n",
      "5348.317530575388\n",
      "[CV 2/5; 18/96] END logisticregression__C=0.0001, logisticregression__penalty=l1, logisticregression__solver=liblinear;, score=-5348.318 total time=   1.5s\n",
      "[CV 3/5; 18/96] START logisticregression__C=0.0001, logisticregression__penalty=l1, logisticregression__solver=liblinear\n",
      "No of FN: 8\n",
      "6015.7\n",
      "[CV 3/5; 18/96] END logisticregression__C=0.0001, logisticregression__penalty=l1, logisticregression__solver=liblinear;, score=-6015.700 total time=   1.8s\n",
      "[CV 4/5; 18/96] START logisticregression__C=0.0001, logisticregression__penalty=l1, logisticregression__solver=liblinear\n",
      "No of FN: 7\n",
      "5774.01394223854\n",
      "[CV 4/5; 18/96] END logisticregression__C=0.0001, logisticregression__penalty=l1, logisticregression__solver=liblinear;, score=-5774.014 total time=   1.8s\n",
      "[CV 5/5; 18/96] START logisticregression__C=0.0001, logisticregression__penalty=l1, logisticregression__solver=liblinear\n",
      "No of FN: 7\n",
      "8154.199999999999\n",
      "[CV 5/5; 18/96] END logisticregression__C=0.0001, logisticregression__penalty=l1, logisticregression__solver=liblinear;, score=-8154.200 total time=   1.4s\n",
      "[CV 1/5; 19/96] START logisticregression__C=0.0001, logisticregression__penalty=l2, logisticregression__solver=newton-cg\n"
     ]
    },
    {
     "name": "stderr",
     "output_type": "stream",
     "text": [
      "C:\\Python310\\lib\\site-packages\\scipy\\optimize\\_linesearch.py:456: LineSearchWarning: The line search algorithm did not converge\n",
      "  warn('The line search algorithm did not converge', LineSearchWarning)\n",
      "C:\\Python310\\lib\\site-packages\\scipy\\optimize\\_linesearch.py:305: LineSearchWarning: The line search algorithm did not converge\n",
      "  warn('The line search algorithm did not converge', LineSearchWarning)\n",
      "C:\\Python310\\lib\\site-packages\\sklearn\\utils\\optimize.py:210: ConvergenceWarning: newton-cg failed to converge. Increase the number of iterations.\n",
      "  warnings.warn(\n"
     ]
    },
    {
     "name": "stdout",
     "output_type": "stream",
     "text": [
      "No of FN: 11\n",
      "3013.844511635956\n",
      "[CV 1/5; 19/96] END logisticregression__C=0.0001, logisticregression__penalty=l2, logisticregression__solver=newton-cg;, score=-3013.845 total time=  26.3s\n",
      "[CV 2/5; 19/96] START logisticregression__C=0.0001, logisticregression__penalty=l2, logisticregression__solver=newton-cg\n"
     ]
    },
    {
     "name": "stderr",
     "output_type": "stream",
     "text": [
      "C:\\Python310\\lib\\site-packages\\scipy\\optimize\\_linesearch.py:456: LineSearchWarning: The line search algorithm did not converge\n",
      "  warn('The line search algorithm did not converge', LineSearchWarning)\n",
      "C:\\Python310\\lib\\site-packages\\scipy\\optimize\\_linesearch.py:305: LineSearchWarning: The line search algorithm did not converge\n",
      "  warn('The line search algorithm did not converge', LineSearchWarning)\n",
      "C:\\Python310\\lib\\site-packages\\sklearn\\utils\\optimize.py:210: ConvergenceWarning: newton-cg failed to converge. Increase the number of iterations.\n",
      "  warnings.warn(\n"
     ]
    },
    {
     "name": "stdout",
     "output_type": "stream",
     "text": [
      "No of FN: 10\n",
      "3006.4475305753886\n",
      "[CV 2/5; 19/96] END logisticregression__C=0.0001, logisticregression__penalty=l2, logisticregression__solver=newton-cg;, score=-3006.448 total time=  25.6s\n",
      "[CV 3/5; 19/96] START logisticregression__C=0.0001, logisticregression__penalty=l2, logisticregression__solver=newton-cg\n"
     ]
    },
    {
     "name": "stderr",
     "output_type": "stream",
     "text": [
      "C:\\Python310\\lib\\site-packages\\scipy\\optimize\\_linesearch.py:456: LineSearchWarning: The line search algorithm did not converge\n",
      "  warn('The line search algorithm did not converge', LineSearchWarning)\n",
      "C:\\Python310\\lib\\site-packages\\scipy\\optimize\\_linesearch.py:305: LineSearchWarning: The line search algorithm did not converge\n",
      "  warn('The line search algorithm did not converge', LineSearchWarning)\n",
      "C:\\Python310\\lib\\site-packages\\sklearn\\utils\\optimize.py:210: ConvergenceWarning: newton-cg failed to converge. Increase the number of iterations.\n",
      "  warnings.warn(\n"
     ]
    },
    {
     "name": "stdout",
     "output_type": "stream",
     "text": [
      "No of FN: 10\n",
      "2924.92\n",
      "[CV 3/5; 19/96] END logisticregression__C=0.0001, logisticregression__penalty=l2, logisticregression__solver=newton-cg;, score=-2924.920 total time=  25.0s\n",
      "[CV 4/5; 19/96] START logisticregression__C=0.0001, logisticregression__penalty=l2, logisticregression__solver=newton-cg\n"
     ]
    },
    {
     "name": "stderr",
     "output_type": "stream",
     "text": [
      "C:\\Python310\\lib\\site-packages\\scipy\\optimize\\_linesearch.py:456: LineSearchWarning: The line search algorithm did not converge\n",
      "  warn('The line search algorithm did not converge', LineSearchWarning)\n",
      "C:\\Python310\\lib\\site-packages\\scipy\\optimize\\_linesearch.py:305: LineSearchWarning: The line search algorithm did not converge\n",
      "  warn('The line search algorithm did not converge', LineSearchWarning)\n",
      "C:\\Python310\\lib\\site-packages\\sklearn\\utils\\optimize.py:210: ConvergenceWarning: newton-cg failed to converge. Increase the number of iterations.\n",
      "  warnings.warn(\n"
     ]
    },
    {
     "name": "stdout",
     "output_type": "stream",
     "text": [
      "No of FN: 9\n",
      "3092.0239422385403\n",
      "[CV 4/5; 19/96] END logisticregression__C=0.0001, logisticregression__penalty=l2, logisticregression__solver=newton-cg;, score=-3092.024 total time=  25.0s\n",
      "[CV 5/5; 19/96] START logisticregression__C=0.0001, logisticregression__penalty=l2, logisticregression__solver=newton-cg\n"
     ]
    },
    {
     "name": "stderr",
     "output_type": "stream",
     "text": [
      "C:\\Python310\\lib\\site-packages\\scipy\\optimize\\_linesearch.py:456: LineSearchWarning: The line search algorithm did not converge\n",
      "  warn('The line search algorithm did not converge', LineSearchWarning)\n",
      "C:\\Python310\\lib\\site-packages\\scipy\\optimize\\_linesearch.py:305: LineSearchWarning: The line search algorithm did not converge\n",
      "  warn('The line search algorithm did not converge', LineSearchWarning)\n",
      "C:\\Python310\\lib\\site-packages\\sklearn\\utils\\optimize.py:210: ConvergenceWarning: newton-cg failed to converge. Increase the number of iterations.\n",
      "  warnings.warn(\n"
     ]
    },
    {
     "name": "stdout",
     "output_type": "stream",
     "text": [
      "No of FN: 8\n",
      "5432.4\n",
      "[CV 5/5; 19/96] END logisticregression__C=0.0001, logisticregression__penalty=l2, logisticregression__solver=newton-cg;, score=-5432.400 total time=  24.7s\n",
      "[CV 1/5; 20/96] START logisticregression__C=0.0001, logisticregression__penalty=l2, logisticregression__solver=lbfgs\n",
      "No of FN: 11\n",
      "5103.5696118827345\n",
      "[CV 1/5; 20/96] END logisticregression__C=0.0001, logisticregression__penalty=l2, logisticregression__solver=lbfgs;, score=-5103.570 total time=   1.9s\n",
      "[CV 2/5; 20/96] START logisticregression__C=0.0001, logisticregression__penalty=l2, logisticregression__solver=lbfgs\n",
      "No of FN: 15\n",
      "6718.824722371752\n",
      "[CV 2/5; 20/96] END logisticregression__C=0.0001, logisticregression__penalty=l2, logisticregression__solver=lbfgs;, score=-6718.825 total time=   1.3s\n",
      "[CV 3/5; 20/96] START logisticregression__C=0.0001, logisticregression__penalty=l2, logisticregression__solver=lbfgs\n",
      "No of FN: 8\n",
      "4935.7\n",
      "[CV 3/5; 20/96] END logisticregression__C=0.0001, logisticregression__penalty=l2, logisticregression__solver=lbfgs;, score=-4935.700 total time=   2.2s\n",
      "[CV 4/5; 20/96] START logisticregression__C=0.0001, logisticregression__penalty=l2, logisticregression__solver=lbfgs\n",
      "No of FN: 7\n",
      "4898.90394223854\n",
      "[CV 4/5; 20/96] END logisticregression__C=0.0001, logisticregression__penalty=l2, logisticregression__solver=lbfgs;, score=-4898.904 total time=   2.0s\n",
      "[CV 5/5; 20/96] START logisticregression__C=0.0001, logisticregression__penalty=l2, logisticregression__solver=lbfgs\n"
     ]
    },
    {
     "name": "stderr",
     "output_type": "stream",
     "text": [
      "C:\\Python310\\lib\\site-packages\\sklearn\\linear_model\\_logistic.py:444: ConvergenceWarning: lbfgs failed to converge (status=1):\n",
      "STOP: TOTAL NO. of ITERATIONS REACHED LIMIT.\n",
      "\n",
      "Increase the number of iterations (max_iter) or scale the data as shown in:\n",
      "    https://scikit-learn.org/stable/modules/preprocessing.html\n",
      "Please also refer to the documentation for alternative solver options:\n",
      "    https://scikit-learn.org/stable/modules/linear_model.html#logistic-regression\n",
      "  n_iter_i = _check_optimize_result(\n"
     ]
    },
    {
     "name": "stdout",
     "output_type": "stream",
     "text": [
      "No of FN: 6\n",
      "6742.539999999999\n",
      "[CV 5/5; 20/96] END logisticregression__C=0.0001, logisticregression__penalty=l2, logisticregression__solver=lbfgs;, score=-6742.540 total time=   2.9s\n",
      "[CV 1/5; 21/96] START logisticregression__C=0.0001, logisticregression__penalty=l2, logisticregression__solver=liblinear\n",
      "No of FN: 11\n",
      "3728.844511635956\n",
      "[CV 1/5; 21/96] END logisticregression__C=0.0001, logisticregression__penalty=l2, logisticregression__solver=liblinear;, score=-3728.845 total time=   3.4s\n",
      "[CV 2/5; 21/96] START logisticregression__C=0.0001, logisticregression__penalty=l2, logisticregression__solver=liblinear\n",
      "No of FN: 11\n",
      "4299.814722371752\n",
      "[CV 2/5; 21/96] END logisticregression__C=0.0001, logisticregression__penalty=l2, logisticregression__solver=liblinear;, score=-4299.815 total time=   3.0s\n",
      "[CV 3/5; 21/96] START logisticregression__C=0.0001, logisticregression__penalty=l2, logisticregression__solver=liblinear\n",
      "No of FN: 9\n",
      "3960.63\n",
      "[CV 3/5; 21/96] END logisticregression__C=0.0001, logisticregression__penalty=l2, logisticregression__solver=liblinear;, score=-3960.630 total time=   4.0s\n",
      "[CV 4/5; 21/96] START logisticregression__C=0.0001, logisticregression__penalty=l2, logisticregression__solver=liblinear\n",
      "No of FN: 8\n",
      "4638.02394223854\n",
      "[CV 4/5; 21/96] END logisticregression__C=0.0001, logisticregression__penalty=l2, logisticregression__solver=liblinear;, score=-4638.024 total time=   3.2s\n",
      "[CV 5/5; 21/96] START logisticregression__C=0.0001, logisticregression__penalty=l2, logisticregression__solver=liblinear\n",
      "No of FN: 9\n",
      "5897.792276488321\n",
      "[CV 5/5; 21/96] END logisticregression__C=0.0001, logisticregression__penalty=l2, logisticregression__solver=liblinear;, score=-5897.792 total time=   2.6s\n",
      "[CV 1/5; 22/96] START logisticregression__C=0.0001, logisticregression__penalty=elasticnet, logisticregression__solver=newton-cg\n",
      "[CV 1/5; 22/96] END logisticregression__C=0.0001, logisticregression__penalty=elasticnet, logisticregression__solver=newton-cg;, score=nan total time=   0.2s\n",
      "[CV 2/5; 22/96] START logisticregression__C=0.0001, logisticregression__penalty=elasticnet, logisticregression__solver=newton-cg\n",
      "[CV 2/5; 22/96] END logisticregression__C=0.0001, logisticregression__penalty=elasticnet, logisticregression__solver=newton-cg;, score=nan total time=   0.2s\n",
      "[CV 3/5; 22/96] START logisticregression__C=0.0001, logisticregression__penalty=elasticnet, logisticregression__solver=newton-cg\n",
      "[CV 3/5; 22/96] END logisticregression__C=0.0001, logisticregression__penalty=elasticnet, logisticregression__solver=newton-cg;, score=nan total time=   0.2s\n",
      "[CV 4/5; 22/96] START logisticregression__C=0.0001, logisticregression__penalty=elasticnet, logisticregression__solver=newton-cg\n",
      "[CV 4/5; 22/96] END logisticregression__C=0.0001, logisticregression__penalty=elasticnet, logisticregression__solver=newton-cg;, score=nan total time=   0.2s\n",
      "[CV 5/5; 22/96] START logisticregression__C=0.0001, logisticregression__penalty=elasticnet, logisticregression__solver=newton-cg\n",
      "[CV 5/5; 22/96] END logisticregression__C=0.0001, logisticregression__penalty=elasticnet, logisticregression__solver=newton-cg;, score=nan total time=   0.2s\n",
      "[CV 1/5; 23/96] START logisticregression__C=0.0001, logisticregression__penalty=elasticnet, logisticregression__solver=lbfgs\n",
      "[CV 1/5; 23/96] END logisticregression__C=0.0001, logisticregression__penalty=elasticnet, logisticregression__solver=lbfgs;, score=nan total time=   0.2s\n",
      "[CV 2/5; 23/96] START logisticregression__C=0.0001, logisticregression__penalty=elasticnet, logisticregression__solver=lbfgs\n",
      "[CV 2/5; 23/96] END logisticregression__C=0.0001, logisticregression__penalty=elasticnet, logisticregression__solver=lbfgs;, score=nan total time=   0.2s\n",
      "[CV 3/5; 23/96] START logisticregression__C=0.0001, logisticregression__penalty=elasticnet, logisticregression__solver=lbfgs\n",
      "[CV 3/5; 23/96] END logisticregression__C=0.0001, logisticregression__penalty=elasticnet, logisticregression__solver=lbfgs;, score=nan total time=   0.3s\n",
      "[CV 4/5; 23/96] START logisticregression__C=0.0001, logisticregression__penalty=elasticnet, logisticregression__solver=lbfgs\n",
      "[CV 4/5; 23/96] END logisticregression__C=0.0001, logisticregression__penalty=elasticnet, logisticregression__solver=lbfgs;, score=nan total time=   0.2s\n",
      "[CV 5/5; 23/96] START logisticregression__C=0.0001, logisticregression__penalty=elasticnet, logisticregression__solver=lbfgs\n",
      "[CV 5/5; 23/96] END logisticregression__C=0.0001, logisticregression__penalty=elasticnet, logisticregression__solver=lbfgs;, score=nan total time=   0.2s\n",
      "[CV 1/5; 24/96] START logisticregression__C=0.0001, logisticregression__penalty=elasticnet, logisticregression__solver=liblinear\n",
      "[CV 1/5; 24/96] END logisticregression__C=0.0001, logisticregression__penalty=elasticnet, logisticregression__solver=liblinear;, score=nan total time=   0.2s\n",
      "[CV 2/5; 24/96] START logisticregression__C=0.0001, logisticregression__penalty=elasticnet, logisticregression__solver=liblinear\n",
      "[CV 2/5; 24/96] END logisticregression__C=0.0001, logisticregression__penalty=elasticnet, logisticregression__solver=liblinear;, score=nan total time=   0.2s\n",
      "[CV 3/5; 24/96] START logisticregression__C=0.0001, logisticregression__penalty=elasticnet, logisticregression__solver=liblinear\n",
      "[CV 3/5; 24/96] END logisticregression__C=0.0001, logisticregression__penalty=elasticnet, logisticregression__solver=liblinear;, score=nan total time=   0.2s\n",
      "[CV 4/5; 24/96] START logisticregression__C=0.0001, logisticregression__penalty=elasticnet, logisticregression__solver=liblinear\n",
      "[CV 4/5; 24/96] END logisticregression__C=0.0001, logisticregression__penalty=elasticnet, logisticregression__solver=liblinear;, score=nan total time=   0.2s\n",
      "[CV 5/5; 24/96] START logisticregression__C=0.0001, logisticregression__penalty=elasticnet, logisticregression__solver=liblinear\n",
      "[CV 5/5; 24/96] END logisticregression__C=0.0001, logisticregression__penalty=elasticnet, logisticregression__solver=liblinear;, score=nan total time=   0.3s\n",
      "[CV 1/5; 25/96] START logisticregression__C=0.001, logisticregression__penalty=none, logisticregression__solver=newton-cg\n"
     ]
    },
    {
     "name": "stderr",
     "output_type": "stream",
     "text": [
      "C:\\Python310\\lib\\site-packages\\sklearn\\linear_model\\_logistic.py:1113: UserWarning: Setting penalty='none' will ignore the C and l1_ratio parameters\n",
      "  warnings.warn(\n",
      "C:\\Python310\\lib\\site-packages\\scipy\\optimize\\_linesearch.py:456: LineSearchWarning: The line search algorithm did not converge\n",
      "  warn('The line search algorithm did not converge', LineSearchWarning)\n",
      "C:\\Python310\\lib\\site-packages\\scipy\\optimize\\_linesearch.py:305: LineSearchWarning: The line search algorithm did not converge\n",
      "  warn('The line search algorithm did not converge', LineSearchWarning)\n",
      "C:\\Python310\\lib\\site-packages\\sklearn\\utils\\optimize.py:210: ConvergenceWarning: newton-cg failed to converge. Increase the number of iterations.\n",
      "  warnings.warn(\n"
     ]
    },
    {
     "name": "stdout",
     "output_type": "stream",
     "text": [
      "No of FN: 10\n",
      "2697.9745116359563\n",
      "[CV 1/5; 25/96] END logisticregression__C=0.001, logisticregression__penalty=none, logisticregression__solver=newton-cg;, score=-2697.975 total time=  24.0s\n",
      "[CV 2/5; 25/96] START logisticregression__C=0.001, logisticregression__penalty=none, logisticregression__solver=newton-cg\n"
     ]
    },
    {
     "name": "stderr",
     "output_type": "stream",
     "text": [
      "C:\\Python310\\lib\\site-packages\\sklearn\\linear_model\\_logistic.py:1113: UserWarning: Setting penalty='none' will ignore the C and l1_ratio parameters\n",
      "  warnings.warn(\n",
      "C:\\Python310\\lib\\site-packages\\scipy\\optimize\\_linesearch.py:456: LineSearchWarning: The line search algorithm did not converge\n",
      "  warn('The line search algorithm did not converge', LineSearchWarning)\n",
      "C:\\Python310\\lib\\site-packages\\scipy\\optimize\\_linesearch.py:305: LineSearchWarning: The line search algorithm did not converge\n",
      "  warn('The line search algorithm did not converge', LineSearchWarning)\n",
      "C:\\Python310\\lib\\site-packages\\sklearn\\utils\\optimize.py:210: ConvergenceWarning: newton-cg failed to converge. Increase the number of iterations.\n",
      "  warnings.warn(\n"
     ]
    },
    {
     "name": "stdout",
     "output_type": "stream",
     "text": [
      "No of FN: 9\n",
      "2826.5175305753887\n",
      "[CV 2/5; 25/96] END logisticregression__C=0.001, logisticregression__penalty=none, logisticregression__solver=newton-cg;, score=-2826.518 total time=  22.6s\n",
      "[CV 3/5; 25/96] START logisticregression__C=0.001, logisticregression__penalty=none, logisticregression__solver=newton-cg\n"
     ]
    },
    {
     "name": "stderr",
     "output_type": "stream",
     "text": [
      "C:\\Python310\\lib\\site-packages\\sklearn\\linear_model\\_logistic.py:1113: UserWarning: Setting penalty='none' will ignore the C and l1_ratio parameters\n",
      "  warnings.warn(\n",
      "C:\\Python310\\lib\\site-packages\\scipy\\optimize\\_linesearch.py:456: LineSearchWarning: The line search algorithm did not converge\n",
      "  warn('The line search algorithm did not converge', LineSearchWarning)\n",
      "C:\\Python310\\lib\\site-packages\\scipy\\optimize\\_linesearch.py:305: LineSearchWarning: The line search algorithm did not converge\n",
      "  warn('The line search algorithm did not converge', LineSearchWarning)\n",
      "C:\\Python310\\lib\\site-packages\\sklearn\\utils\\optimize.py:210: ConvergenceWarning: newton-cg failed to converge. Increase the number of iterations.\n",
      "  warnings.warn(\n"
     ]
    },
    {
     "name": "stdout",
     "output_type": "stream",
     "text": [
      "No of FN: 9\n",
      "2884.99\n",
      "[CV 3/5; 25/96] END logisticregression__C=0.001, logisticregression__penalty=none, logisticregression__solver=newton-cg;, score=-2884.990 total time=  25.3s\n",
      "[CV 4/5; 25/96] START logisticregression__C=0.001, logisticregression__penalty=none, logisticregression__solver=newton-cg\n"
     ]
    },
    {
     "name": "stderr",
     "output_type": "stream",
     "text": [
      "C:\\Python310\\lib\\site-packages\\sklearn\\linear_model\\_logistic.py:1113: UserWarning: Setting penalty='none' will ignore the C and l1_ratio parameters\n",
      "  warnings.warn(\n",
      "C:\\Python310\\lib\\site-packages\\scipy\\optimize\\_linesearch.py:456: LineSearchWarning: The line search algorithm did not converge\n",
      "  warn('The line search algorithm did not converge', LineSearchWarning)\n",
      "C:\\Python310\\lib\\site-packages\\scipy\\optimize\\_linesearch.py:305: LineSearchWarning: The line search algorithm did not converge\n",
      "  warn('The line search algorithm did not converge', LineSearchWarning)\n",
      "C:\\Python310\\lib\\site-packages\\sklearn\\utils\\optimize.py:210: ConvergenceWarning: newton-cg failed to converge. Increase the number of iterations.\n",
      "  warnings.warn(\n"
     ]
    },
    {
     "name": "stdout",
     "output_type": "stream",
     "text": [
      "No of FN: 9\n",
      "3037.0239422385403\n",
      "[CV 4/5; 25/96] END logisticregression__C=0.001, logisticregression__penalty=none, logisticregression__solver=newton-cg;, score=-3037.024 total time=  25.4s\n",
      "[CV 5/5; 25/96] START logisticregression__C=0.001, logisticregression__penalty=none, logisticregression__solver=newton-cg\n"
     ]
    },
    {
     "name": "stderr",
     "output_type": "stream",
     "text": [
      "C:\\Python310\\lib\\site-packages\\sklearn\\linear_model\\_logistic.py:1113: UserWarning: Setting penalty='none' will ignore the C and l1_ratio parameters\n",
      "  warnings.warn(\n",
      "C:\\Python310\\lib\\site-packages\\scipy\\optimize\\_linesearch.py:456: LineSearchWarning: The line search algorithm did not converge\n",
      "  warn('The line search algorithm did not converge', LineSearchWarning)\n",
      "C:\\Python310\\lib\\site-packages\\scipy\\optimize\\_linesearch.py:305: LineSearchWarning: The line search algorithm did not converge\n",
      "  warn('The line search algorithm did not converge', LineSearchWarning)\n",
      "C:\\Python310\\lib\\site-packages\\sklearn\\utils\\optimize.py:210: ConvergenceWarning: newton-cg failed to converge. Increase the number of iterations.\n",
      "  warnings.warn(\n"
     ]
    },
    {
     "name": "stdout",
     "output_type": "stream",
     "text": [
      "No of FN: 6\n",
      "5054.969999999999\n",
      "[CV 5/5; 25/96] END logisticregression__C=0.001, logisticregression__penalty=none, logisticregression__solver=newton-cg;, score=-5054.970 total time=  26.5s\n",
      "[CV 1/5; 26/96] START logisticregression__C=0.001, logisticregression__penalty=none, logisticregression__solver=lbfgs\n"
     ]
    },
    {
     "name": "stderr",
     "output_type": "stream",
     "text": [
      "C:\\Python310\\lib\\site-packages\\sklearn\\linear_model\\_logistic.py:1113: UserWarning: Setting penalty='none' will ignore the C and l1_ratio parameters\n",
      "  warnings.warn(\n"
     ]
    },
    {
     "name": "stdout",
     "output_type": "stream",
     "text": [
      "No of FN: 11\n",
      "5783.5696118827345\n",
      "[CV 1/5; 26/96] END logisticregression__C=0.001, logisticregression__penalty=none, logisticregression__solver=lbfgs;, score=-5783.570 total time=   2.3s\n",
      "[CV 2/5; 26/96] START logisticregression__C=0.001, logisticregression__penalty=none, logisticregression__solver=lbfgs\n"
     ]
    },
    {
     "name": "stderr",
     "output_type": "stream",
     "text": [
      "C:\\Python310\\lib\\site-packages\\sklearn\\linear_model\\_logistic.py:1113: UserWarning: Setting penalty='none' will ignore the C and l1_ratio parameters\n",
      "  warnings.warn(\n"
     ]
    },
    {
     "name": "stdout",
     "output_type": "stream",
     "text": [
      "No of FN: 9\n",
      "5291.517530575388\n",
      "[CV 2/5; 26/96] END logisticregression__C=0.001, logisticregression__penalty=none, logisticregression__solver=lbfgs;, score=-5291.518 total time=   2.7s\n",
      "[CV 3/5; 26/96] START logisticregression__C=0.001, logisticregression__penalty=none, logisticregression__solver=lbfgs\n"
     ]
    },
    {
     "name": "stderr",
     "output_type": "stream",
     "text": [
      "C:\\Python310\\lib\\site-packages\\sklearn\\linear_model\\_logistic.py:1113: UserWarning: Setting penalty='none' will ignore the C and l1_ratio parameters\n",
      "  warnings.warn(\n"
     ]
    },
    {
     "name": "stdout",
     "output_type": "stream",
     "text": [
      "No of FN: 10\n",
      "8536.582434600648\n",
      "[CV 3/5; 26/96] END logisticregression__C=0.001, logisticregression__penalty=none, logisticregression__solver=lbfgs;, score=-8536.582 total time=   1.5s\n",
      "[CV 4/5; 26/96] START logisticregression__C=0.001, logisticregression__penalty=none, logisticregression__solver=lbfgs\n"
     ]
    },
    {
     "name": "stderr",
     "output_type": "stream",
     "text": [
      "C:\\Python310\\lib\\site-packages\\sklearn\\linear_model\\_logistic.py:1113: UserWarning: Setting penalty='none' will ignore the C and l1_ratio parameters\n",
      "  warnings.warn(\n",
      "C:\\Python310\\lib\\site-packages\\sklearn\\linear_model\\_logistic.py:444: ConvergenceWarning: lbfgs failed to converge (status=1):\n",
      "STOP: TOTAL NO. of ITERATIONS REACHED LIMIT.\n",
      "\n",
      "Increase the number of iterations (max_iter) or scale the data as shown in:\n",
      "    https://scikit-learn.org/stable/modules/preprocessing.html\n",
      "Please also refer to the documentation for alternative solver options:\n",
      "    https://scikit-learn.org/stable/modules/linear_model.html#logistic-regression\n",
      "  n_iter_i = _check_optimize_result(\n"
     ]
    },
    {
     "name": "stdout",
     "output_type": "stream",
     "text": [
      "No of FN: 7\n",
      "5538.90394223854\n",
      "[CV 4/5; 26/96] END logisticregression__C=0.001, logisticregression__penalty=none, logisticregression__solver=lbfgs;, score=-5538.904 total time=   3.0s\n",
      "[CV 5/5; 26/96] START logisticregression__C=0.001, logisticregression__penalty=none, logisticregression__solver=lbfgs\n"
     ]
    },
    {
     "name": "stderr",
     "output_type": "stream",
     "text": [
      "C:\\Python310\\lib\\site-packages\\sklearn\\linear_model\\_logistic.py:1113: UserWarning: Setting penalty='none' will ignore the C and l1_ratio parameters\n",
      "  warnings.warn(\n"
     ]
    },
    {
     "name": "stdout",
     "output_type": "stream",
     "text": [
      "No of FN: 6\n",
      "8147.539999999999\n",
      "[CV 5/5; 26/96] END logisticregression__C=0.001, logisticregression__penalty=none, logisticregression__solver=lbfgs;, score=-8147.540 total time=   2.0s\n",
      "[CV 1/5; 27/96] START logisticregression__C=0.001, logisticregression__penalty=none, logisticregression__solver=liblinear\n",
      "[CV 1/5; 27/96] END logisticregression__C=0.001, logisticregression__penalty=none, logisticregression__solver=liblinear;, score=nan total time=   0.2s\n",
      "[CV 2/5; 27/96] START logisticregression__C=0.001, logisticregression__penalty=none, logisticregression__solver=liblinear\n",
      "[CV 2/5; 27/96] END logisticregression__C=0.001, logisticregression__penalty=none, logisticregression__solver=liblinear;, score=nan total time=   0.2s\n",
      "[CV 3/5; 27/96] START logisticregression__C=0.001, logisticregression__penalty=none, logisticregression__solver=liblinear\n",
      "[CV 3/5; 27/96] END logisticregression__C=0.001, logisticregression__penalty=none, logisticregression__solver=liblinear;, score=nan total time=   0.4s\n",
      "[CV 4/5; 27/96] START logisticregression__C=0.001, logisticregression__penalty=none, logisticregression__solver=liblinear\n",
      "[CV 4/5; 27/96] END logisticregression__C=0.001, logisticregression__penalty=none, logisticregression__solver=liblinear;, score=nan total time=   0.3s\n",
      "[CV 5/5; 27/96] START logisticregression__C=0.001, logisticregression__penalty=none, logisticregression__solver=liblinear\n",
      "[CV 5/5; 27/96] END logisticregression__C=0.001, logisticregression__penalty=none, logisticregression__solver=liblinear;, score=nan total time=   0.3s\n",
      "[CV 1/5; 28/96] START logisticregression__C=0.001, logisticregression__penalty=l1, logisticregression__solver=newton-cg\n",
      "[CV 1/5; 28/96] END logisticregression__C=0.001, logisticregression__penalty=l1, logisticregression__solver=newton-cg;, score=nan total time=   0.3s\n",
      "[CV 2/5; 28/96] START logisticregression__C=0.001, logisticregression__penalty=l1, logisticregression__solver=newton-cg\n",
      "[CV 2/5; 28/96] END logisticregression__C=0.001, logisticregression__penalty=l1, logisticregression__solver=newton-cg;, score=nan total time=   0.2s\n",
      "[CV 3/5; 28/96] START logisticregression__C=0.001, logisticregression__penalty=l1, logisticregression__solver=newton-cg\n",
      "[CV 3/5; 28/96] END logisticregression__C=0.001, logisticregression__penalty=l1, logisticregression__solver=newton-cg;, score=nan total time=   0.3s\n",
      "[CV 4/5; 28/96] START logisticregression__C=0.001, logisticregression__penalty=l1, logisticregression__solver=newton-cg\n",
      "[CV 4/5; 28/96] END logisticregression__C=0.001, logisticregression__penalty=l1, logisticregression__solver=newton-cg;, score=nan total time=   0.3s\n",
      "[CV 5/5; 28/96] START logisticregression__C=0.001, logisticregression__penalty=l1, logisticregression__solver=newton-cg\n",
      "[CV 5/5; 28/96] END logisticregression__C=0.001, logisticregression__penalty=l1, logisticregression__solver=newton-cg;, score=nan total time=   0.3s\n",
      "[CV 1/5; 29/96] START logisticregression__C=0.001, logisticregression__penalty=l1, logisticregression__solver=lbfgs\n",
      "[CV 1/5; 29/96] END logisticregression__C=0.001, logisticregression__penalty=l1, logisticregression__solver=lbfgs;, score=nan total time=   0.3s\n",
      "[CV 2/5; 29/96] START logisticregression__C=0.001, logisticregression__penalty=l1, logisticregression__solver=lbfgs\n",
      "[CV 2/5; 29/96] END logisticregression__C=0.001, logisticregression__penalty=l1, logisticregression__solver=lbfgs;, score=nan total time=   0.2s\n",
      "[CV 3/5; 29/96] START logisticregression__C=0.001, logisticregression__penalty=l1, logisticregression__solver=lbfgs\n",
      "[CV 3/5; 29/96] END logisticregression__C=0.001, logisticregression__penalty=l1, logisticregression__solver=lbfgs;, score=nan total time=   0.3s\n",
      "[CV 4/5; 29/96] START logisticregression__C=0.001, logisticregression__penalty=l1, logisticregression__solver=lbfgs\n",
      "[CV 4/5; 29/96] END logisticregression__C=0.001, logisticregression__penalty=l1, logisticregression__solver=lbfgs;, score=nan total time=   0.3s\n",
      "[CV 5/5; 29/96] START logisticregression__C=0.001, logisticregression__penalty=l1, logisticregression__solver=lbfgs\n",
      "[CV 5/5; 29/96] END logisticregression__C=0.001, logisticregression__penalty=l1, logisticregression__solver=lbfgs;, score=nan total time=   0.3s\n",
      "[CV 1/5; 30/96] START logisticregression__C=0.001, logisticregression__penalty=l1, logisticregression__solver=liblinear\n",
      "No of FN: 11\n",
      "3133.844511635956\n",
      "[CV 1/5; 30/96] END logisticregression__C=0.001, logisticregression__penalty=l1, logisticregression__solver=liblinear;, score=-3133.845 total time=   3.5s\n",
      "[CV 2/5; 30/96] START logisticregression__C=0.001, logisticregression__penalty=l1, logisticregression__solver=liblinear\n",
      "No of FN: 9\n",
      "3106.5175305753887\n",
      "[CV 2/5; 30/96] END logisticregression__C=0.001, logisticregression__penalty=l1, logisticregression__solver=liblinear;, score=-3106.518 total time=   4.1s\n",
      "[CV 3/5; 30/96] START logisticregression__C=0.001, logisticregression__penalty=l1, logisticregression__solver=liblinear\n",
      "No of FN: 9\n",
      "3115.63\n",
      "[CV 3/5; 30/96] END logisticregression__C=0.001, logisticregression__penalty=l1, logisticregression__solver=liblinear;, score=-3115.630 total time=   3.7s\n",
      "[CV 4/5; 30/96] START logisticregression__C=0.001, logisticregression__penalty=l1, logisticregression__solver=liblinear\n",
      "No of FN: 9\n",
      "3357.0239422385403\n",
      "[CV 4/5; 30/96] END logisticregression__C=0.001, logisticregression__penalty=l1, logisticregression__solver=liblinear;, score=-3357.024 total time=   1.7s\n",
      "[CV 5/5; 30/96] START logisticregression__C=0.001, logisticregression__penalty=l1, logisticregression__solver=liblinear\n",
      "No of FN: 7\n",
      "5609.199999999999\n",
      "[CV 5/5; 30/96] END logisticregression__C=0.001, logisticregression__penalty=l1, logisticregression__solver=liblinear;, score=-5609.200 total time=   2.3s\n",
      "[CV 1/5; 31/96] START logisticregression__C=0.001, logisticregression__penalty=l2, logisticregression__solver=newton-cg\n"
     ]
    },
    {
     "name": "stderr",
     "output_type": "stream",
     "text": [
      "C:\\Python310\\lib\\site-packages\\scipy\\optimize\\_linesearch.py:456: LineSearchWarning: The line search algorithm did not converge\n",
      "  warn('The line search algorithm did not converge', LineSearchWarning)\n",
      "C:\\Python310\\lib\\site-packages\\scipy\\optimize\\_linesearch.py:305: LineSearchWarning: The line search algorithm did not converge\n",
      "  warn('The line search algorithm did not converge', LineSearchWarning)\n",
      "C:\\Python310\\lib\\site-packages\\sklearn\\utils\\optimize.py:210: ConvergenceWarning: newton-cg failed to converge. Increase the number of iterations.\n",
      "  warnings.warn(\n"
     ]
    },
    {
     "name": "stdout",
     "output_type": "stream",
     "text": [
      "No of FN: 11\n",
      "3093.844511635956\n",
      "[CV 1/5; 31/96] END logisticregression__C=0.001, logisticregression__penalty=l2, logisticregression__solver=newton-cg;, score=-3093.845 total time=  26.6s\n",
      "[CV 2/5; 31/96] START logisticregression__C=0.001, logisticregression__penalty=l2, logisticregression__solver=newton-cg\n"
     ]
    },
    {
     "name": "stderr",
     "output_type": "stream",
     "text": [
      "C:\\Python310\\lib\\site-packages\\scipy\\optimize\\_linesearch.py:456: LineSearchWarning: The line search algorithm did not converge\n",
      "  warn('The line search algorithm did not converge', LineSearchWarning)\n",
      "C:\\Python310\\lib\\site-packages\\scipy\\optimize\\_linesearch.py:305: LineSearchWarning: The line search algorithm did not converge\n",
      "  warn('The line search algorithm did not converge', LineSearchWarning)\n",
      "C:\\Python310\\lib\\site-packages\\sklearn\\utils\\optimize.py:210: ConvergenceWarning: newton-cg failed to converge. Increase the number of iterations.\n",
      "  warnings.warn(\n"
     ]
    },
    {
     "name": "stdout",
     "output_type": "stream",
     "text": [
      "No of FN: 9\n",
      "2901.5175305753887\n",
      "[CV 2/5; 31/96] END logisticregression__C=0.001, logisticregression__penalty=l2, logisticregression__solver=newton-cg;, score=-2901.518 total time=  26.1s\n",
      "[CV 3/5; 31/96] START logisticregression__C=0.001, logisticregression__penalty=l2, logisticregression__solver=newton-cg\n"
     ]
    },
    {
     "name": "stderr",
     "output_type": "stream",
     "text": [
      "C:\\Python310\\lib\\site-packages\\sklearn\\utils\\optimize.py:210: ConvergenceWarning: newton-cg failed to converge. Increase the number of iterations.\n",
      "  warnings.warn(\n"
     ]
    },
    {
     "name": "stdout",
     "output_type": "stream",
     "text": [
      "No of FN: 10\n",
      "3034.92\n",
      "[CV 3/5; 31/96] END logisticregression__C=0.001, logisticregression__penalty=l2, logisticregression__solver=newton-cg;, score=-3034.920 total time=  27.1s\n",
      "[CV 4/5; 31/96] START logisticregression__C=0.001, logisticregression__penalty=l2, logisticregression__solver=newton-cg\n"
     ]
    },
    {
     "name": "stderr",
     "output_type": "stream",
     "text": [
      "C:\\Python310\\lib\\site-packages\\scipy\\optimize\\_linesearch.py:456: LineSearchWarning: The line search algorithm did not converge\n",
      "  warn('The line search algorithm did not converge', LineSearchWarning)\n",
      "C:\\Python310\\lib\\site-packages\\scipy\\optimize\\_linesearch.py:305: LineSearchWarning: The line search algorithm did not converge\n",
      "  warn('The line search algorithm did not converge', LineSearchWarning)\n",
      "C:\\Python310\\lib\\site-packages\\sklearn\\utils\\optimize.py:210: ConvergenceWarning: newton-cg failed to converge. Increase the number of iterations.\n",
      "  warnings.warn(\n"
     ]
    },
    {
     "name": "stdout",
     "output_type": "stream",
     "text": [
      "No of FN: 9\n",
      "2967.0239422385403\n",
      "[CV 4/5; 31/96] END logisticregression__C=0.001, logisticregression__penalty=l2, logisticregression__solver=newton-cg;, score=-2967.024 total time=  24.3s\n",
      "[CV 5/5; 31/96] START logisticregression__C=0.001, logisticregression__penalty=l2, logisticregression__solver=newton-cg\n"
     ]
    },
    {
     "name": "stderr",
     "output_type": "stream",
     "text": [
      "C:\\Python310\\lib\\site-packages\\scipy\\optimize\\_linesearch.py:456: LineSearchWarning: The line search algorithm did not converge\n",
      "  warn('The line search algorithm did not converge', LineSearchWarning)\n",
      "C:\\Python310\\lib\\site-packages\\scipy\\optimize\\_linesearch.py:305: LineSearchWarning: The line search algorithm did not converge\n",
      "  warn('The line search algorithm did not converge', LineSearchWarning)\n",
      "C:\\Python310\\lib\\site-packages\\sklearn\\utils\\optimize.py:210: ConvergenceWarning: newton-cg failed to converge. Increase the number of iterations.\n",
      "  warnings.warn(\n"
     ]
    },
    {
     "name": "stdout",
     "output_type": "stream",
     "text": [
      "No of FN: 7\n",
      "5361.629999999999\n",
      "[CV 5/5; 31/96] END logisticregression__C=0.001, logisticregression__penalty=l2, logisticregression__solver=newton-cg;, score=-5361.630 total time=  25.0s\n",
      "[CV 1/5; 32/96] START logisticregression__C=0.001, logisticregression__penalty=l2, logisticregression__solver=lbfgs\n",
      "No of FN: 11\n",
      "5553.5696118827345\n",
      "[CV 1/5; 32/96] END logisticregression__C=0.001, logisticregression__penalty=l2, logisticregression__solver=lbfgs;, score=-5553.570 total time=   2.5s\n",
      "[CV 2/5; 32/96] START logisticregression__C=0.001, logisticregression__penalty=l2, logisticregression__solver=lbfgs\n"
     ]
    },
    {
     "name": "stderr",
     "output_type": "stream",
     "text": [
      "C:\\Python310\\lib\\site-packages\\sklearn\\linear_model\\_logistic.py:444: ConvergenceWarning: lbfgs failed to converge (status=1):\n",
      "STOP: TOTAL NO. of ITERATIONS REACHED LIMIT.\n",
      "\n",
      "Increase the number of iterations (max_iter) or scale the data as shown in:\n",
      "    https://scikit-learn.org/stable/modules/preprocessing.html\n",
      "Please also refer to the documentation for alternative solver options:\n",
      "    https://scikit-learn.org/stable/modules/linear_model.html#logistic-regression\n",
      "  n_iter_i = _check_optimize_result(\n"
     ]
    },
    {
     "name": "stdout",
     "output_type": "stream",
     "text": [
      "No of FN: 9\n",
      "5346.517530575388\n",
      "[CV 2/5; 32/96] END logisticregression__C=0.001, logisticregression__penalty=l2, logisticregression__solver=lbfgs;, score=-5346.518 total time=   2.6s\n",
      "[CV 3/5; 32/96] START logisticregression__C=0.001, logisticregression__penalty=l2, logisticregression__solver=lbfgs\n",
      "No of FN: 10\n",
      "8081.582434600649\n",
      "[CV 3/5; 32/96] END logisticregression__C=0.001, logisticregression__penalty=l2, logisticregression__solver=lbfgs;, score=-8081.582 total time=   1.4s\n",
      "[CV 4/5; 32/96] START logisticregression__C=0.001, logisticregression__penalty=l2, logisticregression__solver=lbfgs\n",
      "No of FN: 7\n",
      "5288.90394223854\n",
      "[CV 4/5; 32/96] END logisticregression__C=0.001, logisticregression__penalty=l2, logisticregression__solver=lbfgs;, score=-5288.904 total time=   2.1s\n",
      "[CV 5/5; 32/96] START logisticregression__C=0.001, logisticregression__penalty=l2, logisticregression__solver=lbfgs\n"
     ]
    },
    {
     "name": "stderr",
     "output_type": "stream",
     "text": [
      "C:\\Python310\\lib\\site-packages\\sklearn\\linear_model\\_logistic.py:444: ConvergenceWarning: lbfgs failed to converge (status=1):\n",
      "STOP: TOTAL NO. of ITERATIONS REACHED LIMIT.\n",
      "\n",
      "Increase the number of iterations (max_iter) or scale the data as shown in:\n",
      "    https://scikit-learn.org/stable/modules/preprocessing.html\n",
      "Please also refer to the documentation for alternative solver options:\n",
      "    https://scikit-learn.org/stable/modules/linear_model.html#logistic-regression\n",
      "  n_iter_i = _check_optimize_result(\n"
     ]
    },
    {
     "name": "stdout",
     "output_type": "stream",
     "text": [
      "No of FN: 6\n",
      "6962.539999999999\n",
      "[CV 5/5; 32/96] END logisticregression__C=0.001, logisticregression__penalty=l2, logisticregression__solver=lbfgs;, score=-6962.540 total time=   2.7s\n",
      "[CV 1/5; 33/96] START logisticregression__C=0.001, logisticregression__penalty=l2, logisticregression__solver=liblinear\n",
      "No of FN: 11\n",
      "4353.844511635956\n",
      "[CV 1/5; 33/96] END logisticregression__C=0.001, logisticregression__penalty=l2, logisticregression__solver=liblinear;, score=-4353.845 total time=   3.6s\n",
      "[CV 2/5; 33/96] START logisticregression__C=0.001, logisticregression__penalty=l2, logisticregression__solver=liblinear\n",
      "No of FN: 10\n",
      "4843.814722371752\n",
      "[CV 2/5; 33/96] END logisticregression__C=0.001, logisticregression__penalty=l2, logisticregression__solver=liblinear;, score=-4843.815 total time=   3.2s\n",
      "[CV 3/5; 33/96] START logisticregression__C=0.001, logisticregression__penalty=l2, logisticregression__solver=liblinear\n",
      "No of FN: 8\n",
      "4485.7\n",
      "[CV 3/5; 33/96] END logisticregression__C=0.001, logisticregression__penalty=l2, logisticregression__solver=liblinear;, score=-4485.700 total time=   3.4s\n",
      "[CV 4/5; 33/96] START logisticregression__C=0.001, logisticregression__penalty=l2, logisticregression__solver=liblinear\n",
      "No of FN: 8\n",
      "4753.02394223854\n",
      "[CV 4/5; 33/96] END logisticregression__C=0.001, logisticregression__penalty=l2, logisticregression__solver=liblinear;, score=-4753.024 total time=   3.6s\n",
      "[CV 5/5; 33/96] START logisticregression__C=0.001, logisticregression__penalty=l2, logisticregression__solver=liblinear\n",
      "No of FN: 9\n",
      "5907.792276488321\n",
      "[CV 5/5; 33/96] END logisticregression__C=0.001, logisticregression__penalty=l2, logisticregression__solver=liblinear;, score=-5907.792 total time=   3.1s\n",
      "[CV 1/5; 34/96] START logisticregression__C=0.001, logisticregression__penalty=elasticnet, logisticregression__solver=newton-cg\n",
      "[CV 1/5; 34/96] END logisticregression__C=0.001, logisticregression__penalty=elasticnet, logisticregression__solver=newton-cg;, score=nan total time=   0.2s\n",
      "[CV 2/5; 34/96] START logisticregression__C=0.001, logisticregression__penalty=elasticnet, logisticregression__solver=newton-cg\n",
      "[CV 2/5; 34/96] END logisticregression__C=0.001, logisticregression__penalty=elasticnet, logisticregression__solver=newton-cg;, score=nan total time=   0.3s\n",
      "[CV 3/5; 34/96] START logisticregression__C=0.001, logisticregression__penalty=elasticnet, logisticregression__solver=newton-cg\n",
      "[CV 3/5; 34/96] END logisticregression__C=0.001, logisticregression__penalty=elasticnet, logisticregression__solver=newton-cg;, score=nan total time=   0.2s\n",
      "[CV 4/5; 34/96] START logisticregression__C=0.001, logisticregression__penalty=elasticnet, logisticregression__solver=newton-cg\n",
      "[CV 4/5; 34/96] END logisticregression__C=0.001, logisticregression__penalty=elasticnet, logisticregression__solver=newton-cg;, score=nan total time=   0.4s\n",
      "[CV 5/5; 34/96] START logisticregression__C=0.001, logisticregression__penalty=elasticnet, logisticregression__solver=newton-cg\n",
      "[CV 5/5; 34/96] END logisticregression__C=0.001, logisticregression__penalty=elasticnet, logisticregression__solver=newton-cg;, score=nan total time=   0.2s\n",
      "[CV 1/5; 35/96] START logisticregression__C=0.001, logisticregression__penalty=elasticnet, logisticregression__solver=lbfgs\n",
      "[CV 1/5; 35/96] END logisticregression__C=0.001, logisticregression__penalty=elasticnet, logisticregression__solver=lbfgs;, score=nan total time=   0.2s\n",
      "[CV 2/5; 35/96] START logisticregression__C=0.001, logisticregression__penalty=elasticnet, logisticregression__solver=lbfgs\n",
      "[CV 2/5; 35/96] END logisticregression__C=0.001, logisticregression__penalty=elasticnet, logisticregression__solver=lbfgs;, score=nan total time=   0.2s\n",
      "[CV 3/5; 35/96] START logisticregression__C=0.001, logisticregression__penalty=elasticnet, logisticregression__solver=lbfgs\n",
      "[CV 3/5; 35/96] END logisticregression__C=0.001, logisticregression__penalty=elasticnet, logisticregression__solver=lbfgs;, score=nan total time=   0.2s\n",
      "[CV 4/5; 35/96] START logisticregression__C=0.001, logisticregression__penalty=elasticnet, logisticregression__solver=lbfgs\n",
      "[CV 4/5; 35/96] END logisticregression__C=0.001, logisticregression__penalty=elasticnet, logisticregression__solver=lbfgs;, score=nan total time=   0.2s\n",
      "[CV 5/5; 35/96] START logisticregression__C=0.001, logisticregression__penalty=elasticnet, logisticregression__solver=lbfgs\n",
      "[CV 5/5; 35/96] END logisticregression__C=0.001, logisticregression__penalty=elasticnet, logisticregression__solver=lbfgs;, score=nan total time=   0.2s\n",
      "[CV 1/5; 36/96] START logisticregression__C=0.001, logisticregression__penalty=elasticnet, logisticregression__solver=liblinear\n",
      "[CV 1/5; 36/96] END logisticregression__C=0.001, logisticregression__penalty=elasticnet, logisticregression__solver=liblinear;, score=nan total time=   0.3s\n",
      "[CV 2/5; 36/96] START logisticregression__C=0.001, logisticregression__penalty=elasticnet, logisticregression__solver=liblinear\n",
      "[CV 2/5; 36/96] END logisticregression__C=0.001, logisticregression__penalty=elasticnet, logisticregression__solver=liblinear;, score=nan total time=   0.2s\n",
      "[CV 3/5; 36/96] START logisticregression__C=0.001, logisticregression__penalty=elasticnet, logisticregression__solver=liblinear\n",
      "[CV 3/5; 36/96] END logisticregression__C=0.001, logisticregression__penalty=elasticnet, logisticregression__solver=liblinear;, score=nan total time=   0.2s\n",
      "[CV 4/5; 36/96] START logisticregression__C=0.001, logisticregression__penalty=elasticnet, logisticregression__solver=liblinear\n",
      "[CV 4/5; 36/96] END logisticregression__C=0.001, logisticregression__penalty=elasticnet, logisticregression__solver=liblinear;, score=nan total time=   0.2s\n",
      "[CV 5/5; 36/96] START logisticregression__C=0.001, logisticregression__penalty=elasticnet, logisticregression__solver=liblinear\n",
      "[CV 5/5; 36/96] END logisticregression__C=0.001, logisticregression__penalty=elasticnet, logisticregression__solver=liblinear;, score=nan total time=   0.2s\n",
      "[CV 1/5; 37/96] START logisticregression__C=0.01, logisticregression__penalty=none, logisticregression__solver=newton-cg\n"
     ]
    },
    {
     "name": "stderr",
     "output_type": "stream",
     "text": [
      "C:\\Python310\\lib\\site-packages\\sklearn\\linear_model\\_logistic.py:1113: UserWarning: Setting penalty='none' will ignore the C and l1_ratio parameters\n",
      "  warnings.warn(\n",
      "C:\\Python310\\lib\\site-packages\\scipy\\optimize\\_linesearch.py:456: LineSearchWarning: The line search algorithm did not converge\n",
      "  warn('The line search algorithm did not converge', LineSearchWarning)\n",
      "C:\\Python310\\lib\\site-packages\\scipy\\optimize\\_linesearch.py:305: LineSearchWarning: The line search algorithm did not converge\n",
      "  warn('The line search algorithm did not converge', LineSearchWarning)\n",
      "C:\\Python310\\lib\\site-packages\\sklearn\\utils\\optimize.py:210: ConvergenceWarning: newton-cg failed to converge. Increase the number of iterations.\n",
      "  warnings.warn(\n"
     ]
    },
    {
     "name": "stdout",
     "output_type": "stream",
     "text": [
      "No of FN: 10\n",
      "2697.9745116359563\n",
      "[CV 1/5; 37/96] END logisticregression__C=0.01, logisticregression__penalty=none, logisticregression__solver=newton-cg;, score=-2697.975 total time=  23.9s\n",
      "[CV 2/5; 37/96] START logisticregression__C=0.01, logisticregression__penalty=none, logisticregression__solver=newton-cg\n"
     ]
    },
    {
     "name": "stderr",
     "output_type": "stream",
     "text": [
      "C:\\Python310\\lib\\site-packages\\sklearn\\linear_model\\_logistic.py:1113: UserWarning: Setting penalty='none' will ignore the C and l1_ratio parameters\n",
      "  warnings.warn(\n",
      "C:\\Python310\\lib\\site-packages\\scipy\\optimize\\_linesearch.py:456: LineSearchWarning: The line search algorithm did not converge\n",
      "  warn('The line search algorithm did not converge', LineSearchWarning)\n",
      "C:\\Python310\\lib\\site-packages\\scipy\\optimize\\_linesearch.py:305: LineSearchWarning: The line search algorithm did not converge\n",
      "  warn('The line search algorithm did not converge', LineSearchWarning)\n",
      "C:\\Python310\\lib\\site-packages\\sklearn\\utils\\optimize.py:210: ConvergenceWarning: newton-cg failed to converge. Increase the number of iterations.\n",
      "  warnings.warn(\n"
     ]
    },
    {
     "name": "stdout",
     "output_type": "stream",
     "text": [
      "No of FN: 9\n",
      "2826.5175305753887\n",
      "[CV 2/5; 37/96] END logisticregression__C=0.01, logisticregression__penalty=none, logisticregression__solver=newton-cg;, score=-2826.518 total time=  23.3s\n",
      "[CV 3/5; 37/96] START logisticregression__C=0.01, logisticregression__penalty=none, logisticregression__solver=newton-cg\n"
     ]
    },
    {
     "name": "stderr",
     "output_type": "stream",
     "text": [
      "C:\\Python310\\lib\\site-packages\\sklearn\\linear_model\\_logistic.py:1113: UserWarning: Setting penalty='none' will ignore the C and l1_ratio parameters\n",
      "  warnings.warn(\n",
      "C:\\Python310\\lib\\site-packages\\scipy\\optimize\\_linesearch.py:456: LineSearchWarning: The line search algorithm did not converge\n",
      "  warn('The line search algorithm did not converge', LineSearchWarning)\n",
      "C:\\Python310\\lib\\site-packages\\scipy\\optimize\\_linesearch.py:305: LineSearchWarning: The line search algorithm did not converge\n",
      "  warn('The line search algorithm did not converge', LineSearchWarning)\n",
      "C:\\Python310\\lib\\site-packages\\sklearn\\utils\\optimize.py:210: ConvergenceWarning: newton-cg failed to converge. Increase the number of iterations.\n",
      "  warnings.warn(\n"
     ]
    },
    {
     "name": "stdout",
     "output_type": "stream",
     "text": [
      "No of FN: 9\n",
      "2884.99\n",
      "[CV 3/5; 37/96] END logisticregression__C=0.01, logisticregression__penalty=none, logisticregression__solver=newton-cg;, score=-2884.990 total time=  25.4s\n",
      "[CV 4/5; 37/96] START logisticregression__C=0.01, logisticregression__penalty=none, logisticregression__solver=newton-cg\n"
     ]
    },
    {
     "name": "stderr",
     "output_type": "stream",
     "text": [
      "C:\\Python310\\lib\\site-packages\\sklearn\\linear_model\\_logistic.py:1113: UserWarning: Setting penalty='none' will ignore the C and l1_ratio parameters\n",
      "  warnings.warn(\n",
      "C:\\Python310\\lib\\site-packages\\scipy\\optimize\\_linesearch.py:456: LineSearchWarning: The line search algorithm did not converge\n",
      "  warn('The line search algorithm did not converge', LineSearchWarning)\n",
      "C:\\Python310\\lib\\site-packages\\scipy\\optimize\\_linesearch.py:305: LineSearchWarning: The line search algorithm did not converge\n",
      "  warn('The line search algorithm did not converge', LineSearchWarning)\n",
      "C:\\Python310\\lib\\site-packages\\sklearn\\utils\\optimize.py:210: ConvergenceWarning: newton-cg failed to converge. Increase the number of iterations.\n",
      "  warnings.warn(\n"
     ]
    },
    {
     "name": "stdout",
     "output_type": "stream",
     "text": [
      "No of FN: 9\n",
      "3037.0239422385403\n",
      "[CV 4/5; 37/96] END logisticregression__C=0.01, logisticregression__penalty=none, logisticregression__solver=newton-cg;, score=-3037.024 total time=  24.1s\n",
      "[CV 5/5; 37/96] START logisticregression__C=0.01, logisticregression__penalty=none, logisticregression__solver=newton-cg\n"
     ]
    },
    {
     "name": "stderr",
     "output_type": "stream",
     "text": [
      "C:\\Python310\\lib\\site-packages\\sklearn\\linear_model\\_logistic.py:1113: UserWarning: Setting penalty='none' will ignore the C and l1_ratio parameters\n",
      "  warnings.warn(\n",
      "C:\\Python310\\lib\\site-packages\\scipy\\optimize\\_linesearch.py:456: LineSearchWarning: The line search algorithm did not converge\n",
      "  warn('The line search algorithm did not converge', LineSearchWarning)\n",
      "C:\\Python310\\lib\\site-packages\\scipy\\optimize\\_linesearch.py:305: LineSearchWarning: The line search algorithm did not converge\n",
      "  warn('The line search algorithm did not converge', LineSearchWarning)\n",
      "C:\\Python310\\lib\\site-packages\\sklearn\\utils\\optimize.py:210: ConvergenceWarning: newton-cg failed to converge. Increase the number of iterations.\n",
      "  warnings.warn(\n"
     ]
    },
    {
     "name": "stdout",
     "output_type": "stream",
     "text": [
      "No of FN: 6\n",
      "5054.969999999999\n",
      "[CV 5/5; 37/96] END logisticregression__C=0.01, logisticregression__penalty=none, logisticregression__solver=newton-cg;, score=-5054.970 total time=  25.3s\n",
      "[CV 1/5; 38/96] START logisticregression__C=0.01, logisticregression__penalty=none, logisticregression__solver=lbfgs\n"
     ]
    },
    {
     "name": "stderr",
     "output_type": "stream",
     "text": [
      "C:\\Python310\\lib\\site-packages\\sklearn\\linear_model\\_logistic.py:1113: UserWarning: Setting penalty='none' will ignore the C and l1_ratio parameters\n",
      "  warnings.warn(\n"
     ]
    },
    {
     "name": "stdout",
     "output_type": "stream",
     "text": [
      "No of FN: 11\n",
      "5783.5696118827345\n",
      "[CV 1/5; 38/96] END logisticregression__C=0.01, logisticregression__penalty=none, logisticregression__solver=lbfgs;, score=-5783.570 total time=   2.2s\n",
      "[CV 2/5; 38/96] START logisticregression__C=0.01, logisticregression__penalty=none, logisticregression__solver=lbfgs\n"
     ]
    },
    {
     "name": "stderr",
     "output_type": "stream",
     "text": [
      "C:\\Python310\\lib\\site-packages\\sklearn\\linear_model\\_logistic.py:1113: UserWarning: Setting penalty='none' will ignore the C and l1_ratio parameters\n",
      "  warnings.warn(\n"
     ]
    },
    {
     "name": "stdout",
     "output_type": "stream",
     "text": [
      "No of FN: 9\n",
      "5291.517530575388\n",
      "[CV 2/5; 38/96] END logisticregression__C=0.01, logisticregression__penalty=none, logisticregression__solver=lbfgs;, score=-5291.518 total time=   2.2s\n",
      "[CV 3/5; 38/96] START logisticregression__C=0.01, logisticregression__penalty=none, logisticregression__solver=lbfgs\n"
     ]
    },
    {
     "name": "stderr",
     "output_type": "stream",
     "text": [
      "C:\\Python310\\lib\\site-packages\\sklearn\\linear_model\\_logistic.py:1113: UserWarning: Setting penalty='none' will ignore the C and l1_ratio parameters\n",
      "  warnings.warn(\n"
     ]
    },
    {
     "name": "stdout",
     "output_type": "stream",
     "text": [
      "No of FN: 10\n",
      "8536.582434600648\n",
      "[CV 3/5; 38/96] END logisticregression__C=0.01, logisticregression__penalty=none, logisticregression__solver=lbfgs;, score=-8536.582 total time=   1.3s\n",
      "[CV 4/5; 38/96] START logisticregression__C=0.01, logisticregression__penalty=none, logisticregression__solver=lbfgs\n"
     ]
    },
    {
     "name": "stderr",
     "output_type": "stream",
     "text": [
      "C:\\Python310\\lib\\site-packages\\sklearn\\linear_model\\_logistic.py:1113: UserWarning: Setting penalty='none' will ignore the C and l1_ratio parameters\n",
      "  warnings.warn(\n",
      "C:\\Python310\\lib\\site-packages\\sklearn\\linear_model\\_logistic.py:444: ConvergenceWarning: lbfgs failed to converge (status=1):\n",
      "STOP: TOTAL NO. of ITERATIONS REACHED LIMIT.\n",
      "\n",
      "Increase the number of iterations (max_iter) or scale the data as shown in:\n",
      "    https://scikit-learn.org/stable/modules/preprocessing.html\n",
      "Please also refer to the documentation for alternative solver options:\n",
      "    https://scikit-learn.org/stable/modules/linear_model.html#logistic-regression\n",
      "  n_iter_i = _check_optimize_result(\n"
     ]
    },
    {
     "name": "stdout",
     "output_type": "stream",
     "text": [
      "No of FN: 7\n",
      "5538.90394223854\n",
      "[CV 4/5; 38/96] END logisticregression__C=0.01, logisticregression__penalty=none, logisticregression__solver=lbfgs;, score=-5538.904 total time=   2.6s\n",
      "[CV 5/5; 38/96] START logisticregression__C=0.01, logisticregression__penalty=none, logisticregression__solver=lbfgs\n"
     ]
    },
    {
     "name": "stderr",
     "output_type": "stream",
     "text": [
      "C:\\Python310\\lib\\site-packages\\sklearn\\linear_model\\_logistic.py:1113: UserWarning: Setting penalty='none' will ignore the C and l1_ratio parameters\n",
      "  warnings.warn(\n"
     ]
    },
    {
     "name": "stdout",
     "output_type": "stream",
     "text": [
      "No of FN: 6\n",
      "8147.539999999999\n",
      "[CV 5/5; 38/96] END logisticregression__C=0.01, logisticregression__penalty=none, logisticregression__solver=lbfgs;, score=-8147.540 total time=   1.9s\n",
      "[CV 1/5; 39/96] START logisticregression__C=0.01, logisticregression__penalty=none, logisticregression__solver=liblinear\n",
      "[CV 1/5; 39/96] END logisticregression__C=0.01, logisticregression__penalty=none, logisticregression__solver=liblinear;, score=nan total time=   0.2s\n",
      "[CV 2/5; 39/96] START logisticregression__C=0.01, logisticregression__penalty=none, logisticregression__solver=liblinear\n",
      "[CV 2/5; 39/96] END logisticregression__C=0.01, logisticregression__penalty=none, logisticregression__solver=liblinear;, score=nan total time=   0.2s\n",
      "[CV 3/5; 39/96] START logisticregression__C=0.01, logisticregression__penalty=none, logisticregression__solver=liblinear\n",
      "[CV 3/5; 39/96] END logisticregression__C=0.01, logisticregression__penalty=none, logisticregression__solver=liblinear;, score=nan total time=   0.2s\n",
      "[CV 4/5; 39/96] START logisticregression__C=0.01, logisticregression__penalty=none, logisticregression__solver=liblinear\n",
      "[CV 4/5; 39/96] END logisticregression__C=0.01, logisticregression__penalty=none, logisticregression__solver=liblinear;, score=nan total time=   0.2s\n",
      "[CV 5/5; 39/96] START logisticregression__C=0.01, logisticregression__penalty=none, logisticregression__solver=liblinear\n",
      "[CV 5/5; 39/96] END logisticregression__C=0.01, logisticregression__penalty=none, logisticregression__solver=liblinear;, score=nan total time=   0.2s\n",
      "[CV 1/5; 40/96] START logisticregression__C=0.01, logisticregression__penalty=l1, logisticregression__solver=newton-cg\n",
      "[CV 1/5; 40/96] END logisticregression__C=0.01, logisticregression__penalty=l1, logisticregression__solver=newton-cg;, score=nan total time=   0.2s\n",
      "[CV 2/5; 40/96] START logisticregression__C=0.01, logisticregression__penalty=l1, logisticregression__solver=newton-cg\n",
      "[CV 2/5; 40/96] END logisticregression__C=0.01, logisticregression__penalty=l1, logisticregression__solver=newton-cg;, score=nan total time=   0.2s\n",
      "[CV 3/5; 40/96] START logisticregression__C=0.01, logisticregression__penalty=l1, logisticregression__solver=newton-cg\n",
      "[CV 3/5; 40/96] END logisticregression__C=0.01, logisticregression__penalty=l1, logisticregression__solver=newton-cg;, score=nan total time=   0.2s\n",
      "[CV 4/5; 40/96] START logisticregression__C=0.01, logisticregression__penalty=l1, logisticregression__solver=newton-cg\n",
      "[CV 4/5; 40/96] END logisticregression__C=0.01, logisticregression__penalty=l1, logisticregression__solver=newton-cg;, score=nan total time=   0.2s\n",
      "[CV 5/5; 40/96] START logisticregression__C=0.01, logisticregression__penalty=l1, logisticregression__solver=newton-cg\n",
      "[CV 5/5; 40/96] END logisticregression__C=0.01, logisticregression__penalty=l1, logisticregression__solver=newton-cg;, score=nan total time=   0.2s\n",
      "[CV 1/5; 41/96] START logisticregression__C=0.01, logisticregression__penalty=l1, logisticregression__solver=lbfgs\n",
      "[CV 1/5; 41/96] END logisticregression__C=0.01, logisticregression__penalty=l1, logisticregression__solver=lbfgs;, score=nan total time=   0.2s\n",
      "[CV 2/5; 41/96] START logisticregression__C=0.01, logisticregression__penalty=l1, logisticregression__solver=lbfgs\n",
      "[CV 2/5; 41/96] END logisticregression__C=0.01, logisticregression__penalty=l1, logisticregression__solver=lbfgs;, score=nan total time=   0.2s\n",
      "[CV 3/5; 41/96] START logisticregression__C=0.01, logisticregression__penalty=l1, logisticregression__solver=lbfgs\n",
      "[CV 3/5; 41/96] END logisticregression__C=0.01, logisticregression__penalty=l1, logisticregression__solver=lbfgs;, score=nan total time=   0.2s\n",
      "[CV 4/5; 41/96] START logisticregression__C=0.01, logisticregression__penalty=l1, logisticregression__solver=lbfgs\n",
      "[CV 4/5; 41/96] END logisticregression__C=0.01, logisticregression__penalty=l1, logisticregression__solver=lbfgs;, score=nan total time=   0.2s\n",
      "[CV 5/5; 41/96] START logisticregression__C=0.01, logisticregression__penalty=l1, logisticregression__solver=lbfgs\n",
      "[CV 5/5; 41/96] END logisticregression__C=0.01, logisticregression__penalty=l1, logisticregression__solver=lbfgs;, score=nan total time=   0.2s\n",
      "[CV 1/5; 42/96] START logisticregression__C=0.01, logisticregression__penalty=l1, logisticregression__solver=liblinear\n",
      "No of FN: 10\n",
      "2747.9745116359563\n",
      "[CV 1/5; 42/96] END logisticregression__C=0.01, logisticregression__penalty=l1, logisticregression__solver=liblinear;, score=-2747.975 total time=   4.4s\n",
      "[CV 2/5; 42/96] START logisticregression__C=0.01, logisticregression__penalty=l1, logisticregression__solver=liblinear\n",
      "No of FN: 9\n",
      "2846.5175305753887\n",
      "[CV 2/5; 42/96] END logisticregression__C=0.01, logisticregression__penalty=l1, logisticregression__solver=liblinear;, score=-2846.518 total time=   1.5s\n",
      "[CV 3/5; 42/96] START logisticregression__C=0.01, logisticregression__penalty=l1, logisticregression__solver=liblinear\n",
      "No of FN: 9\n",
      "2939.99\n",
      "[CV 3/5; 42/96] END logisticregression__C=0.01, logisticregression__penalty=l1, logisticregression__solver=liblinear;, score=-2939.990 total time=   4.3s\n",
      "[CV 4/5; 42/96] START logisticregression__C=0.01, logisticregression__penalty=l1, logisticregression__solver=liblinear\n",
      "No of FN: 9\n",
      "3082.0239422385403\n",
      "[CV 4/5; 42/96] END logisticregression__C=0.01, logisticregression__penalty=l1, logisticregression__solver=liblinear;, score=-3082.024 total time=   1.7s\n",
      "[CV 5/5; 42/96] START logisticregression__C=0.01, logisticregression__penalty=l1, logisticregression__solver=liblinear\n",
      "No of FN: 6\n",
      "5149.969999999999\n",
      "[CV 5/5; 42/96] END logisticregression__C=0.01, logisticregression__penalty=l1, logisticregression__solver=liblinear;, score=-5149.970 total time=   5.1s\n",
      "[CV 1/5; 43/96] START logisticregression__C=0.01, logisticregression__penalty=l2, logisticregression__solver=newton-cg\n"
     ]
    },
    {
     "name": "stderr",
     "output_type": "stream",
     "text": [
      "C:\\Python310\\lib\\site-packages\\scipy\\optimize\\_linesearch.py:456: LineSearchWarning: The line search algorithm did not converge\n",
      "  warn('The line search algorithm did not converge', LineSearchWarning)\n",
      "C:\\Python310\\lib\\site-packages\\scipy\\optimize\\_linesearch.py:305: LineSearchWarning: The line search algorithm did not converge\n",
      "  warn('The line search algorithm did not converge', LineSearchWarning)\n",
      "C:\\Python310\\lib\\site-packages\\sklearn\\utils\\optimize.py:210: ConvergenceWarning: newton-cg failed to converge. Increase the number of iterations.\n",
      "  warnings.warn(\n"
     ]
    },
    {
     "name": "stdout",
     "output_type": "stream",
     "text": [
      "No of FN: 10\n",
      "2767.9745116359563\n",
      "[CV 1/5; 43/96] END logisticregression__C=0.01, logisticregression__penalty=l2, logisticregression__solver=newton-cg;, score=-2767.975 total time=  23.8s\n",
      "[CV 2/5; 43/96] START logisticregression__C=0.01, logisticregression__penalty=l2, logisticregression__solver=newton-cg\n"
     ]
    },
    {
     "name": "stderr",
     "output_type": "stream",
     "text": [
      "C:\\Python310\\lib\\site-packages\\scipy\\optimize\\_linesearch.py:456: LineSearchWarning: The line search algorithm did not converge\n",
      "  warn('The line search algorithm did not converge', LineSearchWarning)\n",
      "C:\\Python310\\lib\\site-packages\\scipy\\optimize\\_linesearch.py:305: LineSearchWarning: The line search algorithm did not converge\n",
      "  warn('The line search algorithm did not converge', LineSearchWarning)\n",
      "C:\\Python310\\lib\\site-packages\\sklearn\\utils\\optimize.py:210: ConvergenceWarning: newton-cg failed to converge. Increase the number of iterations.\n",
      "  warnings.warn(\n"
     ]
    },
    {
     "name": "stdout",
     "output_type": "stream",
     "text": [
      "No of FN: 9\n",
      "2886.5175305753887\n",
      "[CV 2/5; 43/96] END logisticregression__C=0.01, logisticregression__penalty=l2, logisticregression__solver=newton-cg;, score=-2886.518 total time=  23.5s\n",
      "[CV 3/5; 43/96] START logisticregression__C=0.01, logisticregression__penalty=l2, logisticregression__solver=newton-cg\n"
     ]
    },
    {
     "name": "stderr",
     "output_type": "stream",
     "text": [
      "C:\\Python310\\lib\\site-packages\\sklearn\\utils\\optimize.py:210: ConvergenceWarning: newton-cg failed to converge. Increase the number of iterations.\n",
      "  warnings.warn(\n"
     ]
    },
    {
     "name": "stdout",
     "output_type": "stream",
     "text": [
      "No of FN: 9\n",
      "2984.99\n",
      "[CV 3/5; 43/96] END logisticregression__C=0.01, logisticregression__penalty=l2, logisticregression__solver=newton-cg;, score=-2984.990 total time=  22.9s\n",
      "[CV 4/5; 43/96] START logisticregression__C=0.01, logisticregression__penalty=l2, logisticregression__solver=newton-cg\n"
     ]
    },
    {
     "name": "stderr",
     "output_type": "stream",
     "text": [
      "C:\\Python310\\lib\\site-packages\\sklearn\\utils\\optimize.py:210: ConvergenceWarning: newton-cg failed to converge. Increase the number of iterations.\n",
      "  warnings.warn(\n"
     ]
    },
    {
     "name": "stdout",
     "output_type": "stream",
     "text": [
      "No of FN: 9\n",
      "3052.0239422385403\n",
      "[CV 4/5; 43/96] END logisticregression__C=0.01, logisticregression__penalty=l2, logisticregression__solver=newton-cg;, score=-3052.024 total time=  23.0s\n",
      "[CV 5/5; 43/96] START logisticregression__C=0.01, logisticregression__penalty=l2, logisticregression__solver=newton-cg\n"
     ]
    },
    {
     "name": "stderr",
     "output_type": "stream",
     "text": [
      "C:\\Python310\\lib\\site-packages\\scipy\\optimize\\_linesearch.py:456: LineSearchWarning: The line search algorithm did not converge\n",
      "  warn('The line search algorithm did not converge', LineSearchWarning)\n",
      "C:\\Python310\\lib\\site-packages\\scipy\\optimize\\_linesearch.py:305: LineSearchWarning: The line search algorithm did not converge\n",
      "  warn('The line search algorithm did not converge', LineSearchWarning)\n",
      "C:\\Python310\\lib\\site-packages\\sklearn\\utils\\optimize.py:210: ConvergenceWarning: newton-cg failed to converge. Increase the number of iterations.\n",
      "  warnings.warn(\n"
     ]
    },
    {
     "name": "stdout",
     "output_type": "stream",
     "text": [
      "No of FN: 6\n",
      "5139.969999999999\n",
      "[CV 5/5; 43/96] END logisticregression__C=0.01, logisticregression__penalty=l2, logisticregression__solver=newton-cg;, score=-5139.970 total time=  25.4s\n",
      "[CV 1/5; 44/96] START logisticregression__C=0.01, logisticregression__penalty=l2, logisticregression__solver=lbfgs\n"
     ]
    },
    {
     "name": "stderr",
     "output_type": "stream",
     "text": [
      "C:\\Python310\\lib\\site-packages\\sklearn\\linear_model\\_logistic.py:444: ConvergenceWarning: lbfgs failed to converge (status=1):\n",
      "STOP: TOTAL NO. of ITERATIONS REACHED LIMIT.\n",
      "\n",
      "Increase the number of iterations (max_iter) or scale the data as shown in:\n",
      "    https://scikit-learn.org/stable/modules/preprocessing.html\n",
      "Please also refer to the documentation for alternative solver options:\n",
      "    https://scikit-learn.org/stable/modules/linear_model.html#logistic-regression\n",
      "  n_iter_i = _check_optimize_result(\n"
     ]
    },
    {
     "name": "stdout",
     "output_type": "stream",
     "text": [
      "No of FN: 10\n",
      "4611.258406585697\n",
      "[CV 1/5; 44/96] END logisticregression__C=0.01, logisticregression__penalty=l2, logisticregression__solver=lbfgs;, score=-4611.258 total time=   2.8s\n",
      "[CV 2/5; 44/96] START logisticregression__C=0.01, logisticregression__penalty=l2, logisticregression__solver=lbfgs\n"
     ]
    },
    {
     "name": "stderr",
     "output_type": "stream",
     "text": [
      "C:\\Python310\\lib\\site-packages\\sklearn\\linear_model\\_logistic.py:444: ConvergenceWarning: lbfgs failed to converge (status=1):\n",
      "STOP: TOTAL NO. of ITERATIONS REACHED LIMIT.\n",
      "\n",
      "Increase the number of iterations (max_iter) or scale the data as shown in:\n",
      "    https://scikit-learn.org/stable/modules/preprocessing.html\n",
      "Please also refer to the documentation for alternative solver options:\n",
      "    https://scikit-learn.org/stable/modules/linear_model.html#logistic-regression\n",
      "  n_iter_i = _check_optimize_result(\n"
     ]
    },
    {
     "name": "stdout",
     "output_type": "stream",
     "text": [
      "No of FN: 10\n",
      "5263.814722371752\n",
      "[CV 2/5; 44/96] END logisticregression__C=0.01, logisticregression__penalty=l2, logisticregression__solver=lbfgs;, score=-5263.815 total time=   2.7s\n",
      "[CV 3/5; 44/96] START logisticregression__C=0.01, logisticregression__penalty=l2, logisticregression__solver=lbfgs\n",
      "No of FN: 10\n",
      "8506.582434600648\n",
      "[CV 3/5; 44/96] END logisticregression__C=0.01, logisticregression__penalty=l2, logisticregression__solver=lbfgs;, score=-8506.582 total time=   1.3s\n",
      "[CV 4/5; 44/96] START logisticregression__C=0.01, logisticregression__penalty=l2, logisticregression__solver=lbfgs\n"
     ]
    },
    {
     "name": "stderr",
     "output_type": "stream",
     "text": [
      "C:\\Python310\\lib\\site-packages\\sklearn\\linear_model\\_logistic.py:444: ConvergenceWarning: lbfgs failed to converge (status=1):\n",
      "STOP: TOTAL NO. of ITERATIONS REACHED LIMIT.\n",
      "\n",
      "Increase the number of iterations (max_iter) or scale the data as shown in:\n",
      "    https://scikit-learn.org/stable/modules/preprocessing.html\n",
      "Please also refer to the documentation for alternative solver options:\n",
      "    https://scikit-learn.org/stable/modules/linear_model.html#logistic-regression\n",
      "  n_iter_i = _check_optimize_result(\n"
     ]
    },
    {
     "name": "stdout",
     "output_type": "stream",
     "text": [
      "No of FN: 8\n",
      "4898.02394223854\n",
      "[CV 4/5; 44/96] END logisticregression__C=0.01, logisticregression__penalty=l2, logisticregression__solver=lbfgs;, score=-4898.024 total time=   2.9s\n",
      "[CV 5/5; 44/96] START logisticregression__C=0.01, logisticregression__penalty=l2, logisticregression__solver=lbfgs\n",
      "No of FN: 6\n",
      "6927.539999999999\n",
      "[CV 5/5; 44/96] END logisticregression__C=0.01, logisticregression__penalty=l2, logisticregression__solver=lbfgs;, score=-6927.540 total time=   2.6s\n",
      "[CV 1/5; 45/96] START logisticregression__C=0.01, logisticregression__penalty=l2, logisticregression__solver=liblinear\n",
      "No of FN: 11\n",
      "4403.844511635956\n",
      "[CV 1/5; 45/96] END logisticregression__C=0.01, logisticregression__penalty=l2, logisticregression__solver=liblinear;, score=-4403.845 total time=   3.8s\n",
      "[CV 2/5; 45/96] START logisticregression__C=0.01, logisticregression__penalty=l2, logisticregression__solver=liblinear\n",
      "No of FN: 9\n",
      "4221.517530575388\n",
      "[CV 2/5; 45/96] END logisticregression__C=0.01, logisticregression__penalty=l2, logisticregression__solver=liblinear;, score=-4221.518 total time=   3.4s\n",
      "[CV 3/5; 45/96] START logisticregression__C=0.01, logisticregression__penalty=l2, logisticregression__solver=liblinear\n",
      "No of FN: 8\n",
      "4645.7\n",
      "[CV 3/5; 45/96] END logisticregression__C=0.01, logisticregression__penalty=l2, logisticregression__solver=liblinear;, score=-4645.700 total time=   3.8s\n",
      "[CV 4/5; 45/96] START logisticregression__C=0.01, logisticregression__penalty=l2, logisticregression__solver=liblinear\n",
      "No of FN: 8\n",
      "4878.02394223854\n",
      "[CV 4/5; 45/96] END logisticregression__C=0.01, logisticregression__penalty=l2, logisticregression__solver=liblinear;, score=-4878.024 total time=   3.3s\n",
      "[CV 5/5; 45/96] START logisticregression__C=0.01, logisticregression__penalty=l2, logisticregression__solver=liblinear\n",
      "No of FN: 9\n",
      "5902.792276488321\n",
      "[CV 5/5; 45/96] END logisticregression__C=0.01, logisticregression__penalty=l2, logisticregression__solver=liblinear;, score=-5902.792 total time=   2.8s\n",
      "[CV 1/5; 46/96] START logisticregression__C=0.01, logisticregression__penalty=elasticnet, logisticregression__solver=newton-cg\n",
      "[CV 1/5; 46/96] END logisticregression__C=0.01, logisticregression__penalty=elasticnet, logisticregression__solver=newton-cg;, score=nan total time=   0.2s\n",
      "[CV 2/5; 46/96] START logisticregression__C=0.01, logisticregression__penalty=elasticnet, logisticregression__solver=newton-cg\n",
      "[CV 2/5; 46/96] END logisticregression__C=0.01, logisticregression__penalty=elasticnet, logisticregression__solver=newton-cg;, score=nan total time=   0.2s\n",
      "[CV 3/5; 46/96] START logisticregression__C=0.01, logisticregression__penalty=elasticnet, logisticregression__solver=newton-cg\n",
      "[CV 3/5; 46/96] END logisticregression__C=0.01, logisticregression__penalty=elasticnet, logisticregression__solver=newton-cg;, score=nan total time=   0.2s\n",
      "[CV 4/5; 46/96] START logisticregression__C=0.01, logisticregression__penalty=elasticnet, logisticregression__solver=newton-cg\n",
      "[CV 4/5; 46/96] END logisticregression__C=0.01, logisticregression__penalty=elasticnet, logisticregression__solver=newton-cg;, score=nan total time=   0.3s\n",
      "[CV 5/5; 46/96] START logisticregression__C=0.01, logisticregression__penalty=elasticnet, logisticregression__solver=newton-cg\n",
      "[CV 5/5; 46/96] END logisticregression__C=0.01, logisticregression__penalty=elasticnet, logisticregression__solver=newton-cg;, score=nan total time=   0.2s\n",
      "[CV 1/5; 47/96] START logisticregression__C=0.01, logisticregression__penalty=elasticnet, logisticregression__solver=lbfgs\n",
      "[CV 1/5; 47/96] END logisticregression__C=0.01, logisticregression__penalty=elasticnet, logisticregression__solver=lbfgs;, score=nan total time=   0.3s\n",
      "[CV 2/5; 47/96] START logisticregression__C=0.01, logisticregression__penalty=elasticnet, logisticregression__solver=lbfgs\n",
      "[CV 2/5; 47/96] END logisticregression__C=0.01, logisticregression__penalty=elasticnet, logisticregression__solver=lbfgs;, score=nan total time=   0.3s\n",
      "[CV 3/5; 47/96] START logisticregression__C=0.01, logisticregression__penalty=elasticnet, logisticregression__solver=lbfgs\n",
      "[CV 3/5; 47/96] END logisticregression__C=0.01, logisticregression__penalty=elasticnet, logisticregression__solver=lbfgs;, score=nan total time=   0.2s\n",
      "[CV 4/5; 47/96] START logisticregression__C=0.01, logisticregression__penalty=elasticnet, logisticregression__solver=lbfgs\n",
      "[CV 4/5; 47/96] END logisticregression__C=0.01, logisticregression__penalty=elasticnet, logisticregression__solver=lbfgs;, score=nan total time=   0.2s\n",
      "[CV 5/5; 47/96] START logisticregression__C=0.01, logisticregression__penalty=elasticnet, logisticregression__solver=lbfgs\n",
      "[CV 5/5; 47/96] END logisticregression__C=0.01, logisticregression__penalty=elasticnet, logisticregression__solver=lbfgs;, score=nan total time=   0.2s\n",
      "[CV 1/5; 48/96] START logisticregression__C=0.01, logisticregression__penalty=elasticnet, logisticregression__solver=liblinear\n",
      "[CV 1/5; 48/96] END logisticregression__C=0.01, logisticregression__penalty=elasticnet, logisticregression__solver=liblinear;, score=nan total time=   0.2s\n",
      "[CV 2/5; 48/96] START logisticregression__C=0.01, logisticregression__penalty=elasticnet, logisticregression__solver=liblinear\n",
      "[CV 2/5; 48/96] END logisticregression__C=0.01, logisticregression__penalty=elasticnet, logisticregression__solver=liblinear;, score=nan total time=   0.2s\n",
      "[CV 3/5; 48/96] START logisticregression__C=0.01, logisticregression__penalty=elasticnet, logisticregression__solver=liblinear\n",
      "[CV 3/5; 48/96] END logisticregression__C=0.01, logisticregression__penalty=elasticnet, logisticregression__solver=liblinear;, score=nan total time=   0.3s\n",
      "[CV 4/5; 48/96] START logisticregression__C=0.01, logisticregression__penalty=elasticnet, logisticregression__solver=liblinear\n",
      "[CV 4/5; 48/96] END logisticregression__C=0.01, logisticregression__penalty=elasticnet, logisticregression__solver=liblinear;, score=nan total time=   0.3s\n",
      "[CV 5/5; 48/96] START logisticregression__C=0.01, logisticregression__penalty=elasticnet, logisticregression__solver=liblinear\n",
      "[CV 5/5; 48/96] END logisticregression__C=0.01, logisticregression__penalty=elasticnet, logisticregression__solver=liblinear;, score=nan total time=   0.2s\n",
      "[CV 1/5; 49/96] START logisticregression__C=0.1, logisticregression__penalty=none, logisticregression__solver=newton-cg\n"
     ]
    },
    {
     "name": "stderr",
     "output_type": "stream",
     "text": [
      "C:\\Python310\\lib\\site-packages\\sklearn\\linear_model\\_logistic.py:1113: UserWarning: Setting penalty='none' will ignore the C and l1_ratio parameters\n",
      "  warnings.warn(\n",
      "C:\\Python310\\lib\\site-packages\\scipy\\optimize\\_linesearch.py:456: LineSearchWarning: The line search algorithm did not converge\n",
      "  warn('The line search algorithm did not converge', LineSearchWarning)\n",
      "C:\\Python310\\lib\\site-packages\\scipy\\optimize\\_linesearch.py:305: LineSearchWarning: The line search algorithm did not converge\n",
      "  warn('The line search algorithm did not converge', LineSearchWarning)\n",
      "C:\\Python310\\lib\\site-packages\\sklearn\\utils\\optimize.py:210: ConvergenceWarning: newton-cg failed to converge. Increase the number of iterations.\n",
      "  warnings.warn(\n"
     ]
    },
    {
     "name": "stdout",
     "output_type": "stream",
     "text": [
      "No of FN: 10\n",
      "2697.9745116359563\n",
      "[CV 1/5; 49/96] END logisticregression__C=0.1, logisticregression__penalty=none, logisticregression__solver=newton-cg;, score=-2697.975 total time=  25.5s\n",
      "[CV 2/5; 49/96] START logisticregression__C=0.1, logisticregression__penalty=none, logisticregression__solver=newton-cg\n"
     ]
    },
    {
     "name": "stderr",
     "output_type": "stream",
     "text": [
      "C:\\Python310\\lib\\site-packages\\sklearn\\linear_model\\_logistic.py:1113: UserWarning: Setting penalty='none' will ignore the C and l1_ratio parameters\n",
      "  warnings.warn(\n",
      "C:\\Python310\\lib\\site-packages\\scipy\\optimize\\_linesearch.py:456: LineSearchWarning: The line search algorithm did not converge\n",
      "  warn('The line search algorithm did not converge', LineSearchWarning)\n",
      "C:\\Python310\\lib\\site-packages\\scipy\\optimize\\_linesearch.py:305: LineSearchWarning: The line search algorithm did not converge\n",
      "  warn('The line search algorithm did not converge', LineSearchWarning)\n",
      "C:\\Python310\\lib\\site-packages\\sklearn\\utils\\optimize.py:210: ConvergenceWarning: newton-cg failed to converge. Increase the number of iterations.\n",
      "  warnings.warn(\n"
     ]
    },
    {
     "name": "stdout",
     "output_type": "stream",
     "text": [
      "No of FN: 9\n",
      "2826.5175305753887\n",
      "[CV 2/5; 49/96] END logisticregression__C=0.1, logisticregression__penalty=none, logisticregression__solver=newton-cg;, score=-2826.518 total time=  23.5s\n",
      "[CV 3/5; 49/96] START logisticregression__C=0.1, logisticregression__penalty=none, logisticregression__solver=newton-cg\n"
     ]
    },
    {
     "name": "stderr",
     "output_type": "stream",
     "text": [
      "C:\\Python310\\lib\\site-packages\\sklearn\\linear_model\\_logistic.py:1113: UserWarning: Setting penalty='none' will ignore the C and l1_ratio parameters\n",
      "  warnings.warn(\n",
      "C:\\Python310\\lib\\site-packages\\scipy\\optimize\\_linesearch.py:456: LineSearchWarning: The line search algorithm did not converge\n",
      "  warn('The line search algorithm did not converge', LineSearchWarning)\n",
      "C:\\Python310\\lib\\site-packages\\scipy\\optimize\\_linesearch.py:305: LineSearchWarning: The line search algorithm did not converge\n",
      "  warn('The line search algorithm did not converge', LineSearchWarning)\n",
      "C:\\Python310\\lib\\site-packages\\sklearn\\utils\\optimize.py:210: ConvergenceWarning: newton-cg failed to converge. Increase the number of iterations.\n",
      "  warnings.warn(\n"
     ]
    },
    {
     "name": "stdout",
     "output_type": "stream",
     "text": [
      "No of FN: 9\n",
      "2884.99\n",
      "[CV 3/5; 49/96] END logisticregression__C=0.1, logisticregression__penalty=none, logisticregression__solver=newton-cg;, score=-2884.990 total time=  24.4s\n",
      "[CV 4/5; 49/96] START logisticregression__C=0.1, logisticregression__penalty=none, logisticregression__solver=newton-cg\n"
     ]
    },
    {
     "name": "stderr",
     "output_type": "stream",
     "text": [
      "C:\\Python310\\lib\\site-packages\\sklearn\\linear_model\\_logistic.py:1113: UserWarning: Setting penalty='none' will ignore the C and l1_ratio parameters\n",
      "  warnings.warn(\n",
      "C:\\Python310\\lib\\site-packages\\scipy\\optimize\\_linesearch.py:456: LineSearchWarning: The line search algorithm did not converge\n",
      "  warn('The line search algorithm did not converge', LineSearchWarning)\n",
      "C:\\Python310\\lib\\site-packages\\scipy\\optimize\\_linesearch.py:305: LineSearchWarning: The line search algorithm did not converge\n",
      "  warn('The line search algorithm did not converge', LineSearchWarning)\n",
      "C:\\Python310\\lib\\site-packages\\sklearn\\utils\\optimize.py:210: ConvergenceWarning: newton-cg failed to converge. Increase the number of iterations.\n",
      "  warnings.warn(\n"
     ]
    },
    {
     "name": "stdout",
     "output_type": "stream",
     "text": [
      "No of FN: 9\n",
      "3037.0239422385403\n",
      "[CV 4/5; 49/96] END logisticregression__C=0.1, logisticregression__penalty=none, logisticregression__solver=newton-cg;, score=-3037.024 total time=  24.2s\n",
      "[CV 5/5; 49/96] START logisticregression__C=0.1, logisticregression__penalty=none, logisticregression__solver=newton-cg\n"
     ]
    },
    {
     "name": "stderr",
     "output_type": "stream",
     "text": [
      "C:\\Python310\\lib\\site-packages\\sklearn\\linear_model\\_logistic.py:1113: UserWarning: Setting penalty='none' will ignore the C and l1_ratio parameters\n",
      "  warnings.warn(\n",
      "C:\\Python310\\lib\\site-packages\\scipy\\optimize\\_linesearch.py:456: LineSearchWarning: The line search algorithm did not converge\n",
      "  warn('The line search algorithm did not converge', LineSearchWarning)\n",
      "C:\\Python310\\lib\\site-packages\\scipy\\optimize\\_linesearch.py:305: LineSearchWarning: The line search algorithm did not converge\n",
      "  warn('The line search algorithm did not converge', LineSearchWarning)\n",
      "C:\\Python310\\lib\\site-packages\\sklearn\\utils\\optimize.py:210: ConvergenceWarning: newton-cg failed to converge. Increase the number of iterations.\n",
      "  warnings.warn(\n"
     ]
    },
    {
     "name": "stdout",
     "output_type": "stream",
     "text": [
      "No of FN: 6\n",
      "5054.969999999999\n",
      "[CV 5/5; 49/96] END logisticregression__C=0.1, logisticregression__penalty=none, logisticregression__solver=newton-cg;, score=-5054.970 total time=  26.7s\n",
      "[CV 1/5; 50/96] START logisticregression__C=0.1, logisticregression__penalty=none, logisticregression__solver=lbfgs\n"
     ]
    },
    {
     "name": "stderr",
     "output_type": "stream",
     "text": [
      "C:\\Python310\\lib\\site-packages\\sklearn\\linear_model\\_logistic.py:1113: UserWarning: Setting penalty='none' will ignore the C and l1_ratio parameters\n",
      "  warnings.warn(\n"
     ]
    },
    {
     "name": "stdout",
     "output_type": "stream",
     "text": [
      "No of FN: 11\n",
      "5783.5696118827345\n",
      "[CV 1/5; 50/96] END logisticregression__C=0.1, logisticregression__penalty=none, logisticregression__solver=lbfgs;, score=-5783.570 total time=   2.4s\n",
      "[CV 2/5; 50/96] START logisticregression__C=0.1, logisticregression__penalty=none, logisticregression__solver=lbfgs\n"
     ]
    },
    {
     "name": "stderr",
     "output_type": "stream",
     "text": [
      "C:\\Python310\\lib\\site-packages\\sklearn\\linear_model\\_logistic.py:1113: UserWarning: Setting penalty='none' will ignore the C and l1_ratio parameters\n",
      "  warnings.warn(\n"
     ]
    },
    {
     "name": "stdout",
     "output_type": "stream",
     "text": [
      "No of FN: 9\n",
      "5291.517530575388\n",
      "[CV 2/5; 50/96] END logisticregression__C=0.1, logisticregression__penalty=none, logisticregression__solver=lbfgs;, score=-5291.518 total time=   2.3s\n",
      "[CV 3/5; 50/96] START logisticregression__C=0.1, logisticregression__penalty=none, logisticregression__solver=lbfgs\n"
     ]
    },
    {
     "name": "stderr",
     "output_type": "stream",
     "text": [
      "C:\\Python310\\lib\\site-packages\\sklearn\\linear_model\\_logistic.py:1113: UserWarning: Setting penalty='none' will ignore the C and l1_ratio parameters\n",
      "  warnings.warn(\n"
     ]
    },
    {
     "name": "stdout",
     "output_type": "stream",
     "text": [
      "No of FN: 10\n",
      "8536.582434600648\n",
      "[CV 3/5; 50/96] END logisticregression__C=0.1, logisticregression__penalty=none, logisticregression__solver=lbfgs;, score=-8536.582 total time=   1.4s\n",
      "[CV 4/5; 50/96] START logisticregression__C=0.1, logisticregression__penalty=none, logisticregression__solver=lbfgs\n"
     ]
    },
    {
     "name": "stderr",
     "output_type": "stream",
     "text": [
      "C:\\Python310\\lib\\site-packages\\sklearn\\linear_model\\_logistic.py:1113: UserWarning: Setting penalty='none' will ignore the C and l1_ratio parameters\n",
      "  warnings.warn(\n",
      "C:\\Python310\\lib\\site-packages\\sklearn\\linear_model\\_logistic.py:444: ConvergenceWarning: lbfgs failed to converge (status=1):\n",
      "STOP: TOTAL NO. of ITERATIONS REACHED LIMIT.\n",
      "\n",
      "Increase the number of iterations (max_iter) or scale the data as shown in:\n",
      "    https://scikit-learn.org/stable/modules/preprocessing.html\n",
      "Please also refer to the documentation for alternative solver options:\n",
      "    https://scikit-learn.org/stable/modules/linear_model.html#logistic-regression\n",
      "  n_iter_i = _check_optimize_result(\n"
     ]
    },
    {
     "name": "stdout",
     "output_type": "stream",
     "text": [
      "No of FN: 7\n",
      "5538.90394223854\n",
      "[CV 4/5; 50/96] END logisticregression__C=0.1, logisticregression__penalty=none, logisticregression__solver=lbfgs;, score=-5538.904 total time=   2.7s\n",
      "[CV 5/5; 50/96] START logisticregression__C=0.1, logisticregression__penalty=none, logisticregression__solver=lbfgs\n"
     ]
    },
    {
     "name": "stderr",
     "output_type": "stream",
     "text": [
      "C:\\Python310\\lib\\site-packages\\sklearn\\linear_model\\_logistic.py:1113: UserWarning: Setting penalty='none' will ignore the C and l1_ratio parameters\n",
      "  warnings.warn(\n"
     ]
    },
    {
     "name": "stdout",
     "output_type": "stream",
     "text": [
      "No of FN: 6\n",
      "8147.539999999999\n",
      "[CV 5/5; 50/96] END logisticregression__C=0.1, logisticregression__penalty=none, logisticregression__solver=lbfgs;, score=-8147.540 total time=   1.9s\n",
      "[CV 1/5; 51/96] START logisticregression__C=0.1, logisticregression__penalty=none, logisticregression__solver=liblinear\n",
      "[CV 1/5; 51/96] END logisticregression__C=0.1, logisticregression__penalty=none, logisticregression__solver=liblinear;, score=nan total time=   0.2s\n",
      "[CV 2/5; 51/96] START logisticregression__C=0.1, logisticregression__penalty=none, logisticregression__solver=liblinear\n",
      "[CV 2/5; 51/96] END logisticregression__C=0.1, logisticregression__penalty=none, logisticregression__solver=liblinear;, score=nan total time=   0.3s\n",
      "[CV 3/5; 51/96] START logisticregression__C=0.1, logisticregression__penalty=none, logisticregression__solver=liblinear\n",
      "[CV 3/5; 51/96] END logisticregression__C=0.1, logisticregression__penalty=none, logisticregression__solver=liblinear;, score=nan total time=   0.2s\n",
      "[CV 4/5; 51/96] START logisticregression__C=0.1, logisticregression__penalty=none, logisticregression__solver=liblinear\n",
      "[CV 4/5; 51/96] END logisticregression__C=0.1, logisticregression__penalty=none, logisticregression__solver=liblinear;, score=nan total time=   0.3s\n",
      "[CV 5/5; 51/96] START logisticregression__C=0.1, logisticregression__penalty=none, logisticregression__solver=liblinear\n",
      "[CV 5/5; 51/96] END logisticregression__C=0.1, logisticregression__penalty=none, logisticregression__solver=liblinear;, score=nan total time=   0.2s\n",
      "[CV 1/5; 52/96] START logisticregression__C=0.1, logisticregression__penalty=l1, logisticregression__solver=newton-cg\n",
      "[CV 1/5; 52/96] END logisticregression__C=0.1, logisticregression__penalty=l1, logisticregression__solver=newton-cg;, score=nan total time=   0.2s\n",
      "[CV 2/5; 52/96] START logisticregression__C=0.1, logisticregression__penalty=l1, logisticregression__solver=newton-cg\n",
      "[CV 2/5; 52/96] END logisticregression__C=0.1, logisticregression__penalty=l1, logisticregression__solver=newton-cg;, score=nan total time=   0.2s\n",
      "[CV 3/5; 52/96] START logisticregression__C=0.1, logisticregression__penalty=l1, logisticregression__solver=newton-cg\n",
      "[CV 3/5; 52/96] END logisticregression__C=0.1, logisticregression__penalty=l1, logisticregression__solver=newton-cg;, score=nan total time=   0.2s\n",
      "[CV 4/5; 52/96] START logisticregression__C=0.1, logisticregression__penalty=l1, logisticregression__solver=newton-cg\n",
      "[CV 4/5; 52/96] END logisticregression__C=0.1, logisticregression__penalty=l1, logisticregression__solver=newton-cg;, score=nan total time=   0.2s\n",
      "[CV 5/5; 52/96] START logisticregression__C=0.1, logisticregression__penalty=l1, logisticregression__solver=newton-cg\n",
      "[CV 5/5; 52/96] END logisticregression__C=0.1, logisticregression__penalty=l1, logisticregression__solver=newton-cg;, score=nan total time=   0.3s\n",
      "[CV 1/5; 53/96] START logisticregression__C=0.1, logisticregression__penalty=l1, logisticregression__solver=lbfgs\n",
      "[CV 1/5; 53/96] END logisticregression__C=0.1, logisticregression__penalty=l1, logisticregression__solver=lbfgs;, score=nan total time=   0.2s\n",
      "[CV 2/5; 53/96] START logisticregression__C=0.1, logisticregression__penalty=l1, logisticregression__solver=lbfgs\n",
      "[CV 2/5; 53/96] END logisticregression__C=0.1, logisticregression__penalty=l1, logisticregression__solver=lbfgs;, score=nan total time=   0.2s\n",
      "[CV 3/5; 53/96] START logisticregression__C=0.1, logisticregression__penalty=l1, logisticregression__solver=lbfgs\n",
      "[CV 3/5; 53/96] END logisticregression__C=0.1, logisticregression__penalty=l1, logisticregression__solver=lbfgs;, score=nan total time=   0.2s\n",
      "[CV 4/5; 53/96] START logisticregression__C=0.1, logisticregression__penalty=l1, logisticregression__solver=lbfgs\n",
      "[CV 4/5; 53/96] END logisticregression__C=0.1, logisticregression__penalty=l1, logisticregression__solver=lbfgs;, score=nan total time=   0.2s\n",
      "[CV 5/5; 53/96] START logisticregression__C=0.1, logisticregression__penalty=l1, logisticregression__solver=lbfgs\n",
      "[CV 5/5; 53/96] END logisticregression__C=0.1, logisticregression__penalty=l1, logisticregression__solver=lbfgs;, score=nan total time=   0.2s\n",
      "[CV 1/5; 54/96] START logisticregression__C=0.1, logisticregression__penalty=l1, logisticregression__solver=liblinear\n",
      "No of FN: 10\n",
      "2727.9745116359563\n",
      "[CV 1/5; 54/96] END logisticregression__C=0.1, logisticregression__penalty=l1, logisticregression__solver=liblinear;, score=-2727.975 total time=   7.8s\n",
      "[CV 2/5; 54/96] START logisticregression__C=0.1, logisticregression__penalty=l1, logisticregression__solver=liblinear\n",
      "No of FN: 9\n",
      "2831.5175305753887\n",
      "[CV 2/5; 54/96] END logisticregression__C=0.1, logisticregression__penalty=l1, logisticregression__solver=liblinear;, score=-2831.518 total time=   4.7s\n",
      "[CV 3/5; 54/96] START logisticregression__C=0.1, logisticregression__penalty=l1, logisticregression__solver=liblinear\n",
      "No of FN: 9\n",
      "2939.99\n",
      "[CV 3/5; 54/96] END logisticregression__C=0.1, logisticregression__penalty=l1, logisticregression__solver=liblinear;, score=-2939.990 total time=  17.7s\n",
      "[CV 4/5; 54/96] START logisticregression__C=0.1, logisticregression__penalty=l1, logisticregression__solver=liblinear\n",
      "No of FN: 9\n",
      "3012.0239422385403\n",
      "[CV 4/5; 54/96] END logisticregression__C=0.1, logisticregression__penalty=l1, logisticregression__solver=liblinear;, score=-3012.024 total time=   5.6s\n",
      "[CV 5/5; 54/96] START logisticregression__C=0.1, logisticregression__penalty=l1, logisticregression__solver=liblinear\n",
      "No of FN: 6\n",
      "5094.969999999999\n",
      "[CV 5/5; 54/96] END logisticregression__C=0.1, logisticregression__penalty=l1, logisticregression__solver=liblinear;, score=-5094.970 total time=   9.6s\n",
      "[CV 1/5; 55/96] START logisticregression__C=0.1, logisticregression__penalty=l2, logisticregression__solver=newton-cg\n"
     ]
    },
    {
     "name": "stderr",
     "output_type": "stream",
     "text": [
      "C:\\Python310\\lib\\site-packages\\scipy\\optimize\\_linesearch.py:456: LineSearchWarning: The line search algorithm did not converge\n",
      "  warn('The line search algorithm did not converge', LineSearchWarning)\n",
      "C:\\Python310\\lib\\site-packages\\scipy\\optimize\\_linesearch.py:305: LineSearchWarning: The line search algorithm did not converge\n",
      "  warn('The line search algorithm did not converge', LineSearchWarning)\n",
      "C:\\Python310\\lib\\site-packages\\sklearn\\utils\\optimize.py:210: ConvergenceWarning: newton-cg failed to converge. Increase the number of iterations.\n",
      "  warnings.warn(\n"
     ]
    },
    {
     "name": "stdout",
     "output_type": "stream",
     "text": [
      "No of FN: 10\n",
      "2702.9745116359563\n",
      "[CV 1/5; 55/96] END logisticregression__C=0.1, logisticregression__penalty=l2, logisticregression__solver=newton-cg;, score=-2702.975 total time=  24.4s\n",
      "[CV 2/5; 55/96] START logisticregression__C=0.1, logisticregression__penalty=l2, logisticregression__solver=newton-cg\n"
     ]
    },
    {
     "name": "stderr",
     "output_type": "stream",
     "text": [
      "C:\\Python310\\lib\\site-packages\\scipy\\optimize\\_linesearch.py:456: LineSearchWarning: The line search algorithm did not converge\n",
      "  warn('The line search algorithm did not converge', LineSearchWarning)\n",
      "C:\\Python310\\lib\\site-packages\\scipy\\optimize\\_linesearch.py:305: LineSearchWarning: The line search algorithm did not converge\n",
      "  warn('The line search algorithm did not converge', LineSearchWarning)\n",
      "C:\\Python310\\lib\\site-packages\\sklearn\\utils\\optimize.py:210: ConvergenceWarning: newton-cg failed to converge. Increase the number of iterations.\n",
      "  warnings.warn(\n"
     ]
    },
    {
     "name": "stdout",
     "output_type": "stream",
     "text": [
      "No of FN: 9\n",
      "2841.5175305753887\n",
      "[CV 2/5; 55/96] END logisticregression__C=0.1, logisticregression__penalty=l2, logisticregression__solver=newton-cg;, score=-2841.518 total time=  22.7s\n",
      "[CV 3/5; 55/96] START logisticregression__C=0.1, logisticregression__penalty=l2, logisticregression__solver=newton-cg\n"
     ]
    },
    {
     "name": "stderr",
     "output_type": "stream",
     "text": [
      "C:\\Python310\\lib\\site-packages\\scipy\\optimize\\_linesearch.py:456: LineSearchWarning: The line search algorithm did not converge\n",
      "  warn('The line search algorithm did not converge', LineSearchWarning)\n",
      "C:\\Python310\\lib\\site-packages\\scipy\\optimize\\_linesearch.py:305: LineSearchWarning: The line search algorithm did not converge\n",
      "  warn('The line search algorithm did not converge', LineSearchWarning)\n",
      "C:\\Python310\\lib\\site-packages\\sklearn\\utils\\optimize.py:210: ConvergenceWarning: newton-cg failed to converge. Increase the number of iterations.\n",
      "  warnings.warn(\n"
     ]
    },
    {
     "name": "stdout",
     "output_type": "stream",
     "text": [
      "No of FN: 9\n",
      "2954.99\n",
      "[CV 3/5; 55/96] END logisticregression__C=0.1, logisticregression__penalty=l2, logisticregression__solver=newton-cg;, score=-2954.990 total time=  22.4s\n",
      "[CV 4/5; 55/96] START logisticregression__C=0.1, logisticregression__penalty=l2, logisticregression__solver=newton-cg\n"
     ]
    },
    {
     "name": "stderr",
     "output_type": "stream",
     "text": [
      "C:\\Python310\\lib\\site-packages\\scipy\\optimize\\_linesearch.py:456: LineSearchWarning: The line search algorithm did not converge\n",
      "  warn('The line search algorithm did not converge', LineSearchWarning)\n",
      "C:\\Python310\\lib\\site-packages\\scipy\\optimize\\_linesearch.py:305: LineSearchWarning: The line search algorithm did not converge\n",
      "  warn('The line search algorithm did not converge', LineSearchWarning)\n",
      "C:\\Python310\\lib\\site-packages\\sklearn\\utils\\optimize.py:210: ConvergenceWarning: newton-cg failed to converge. Increase the number of iterations.\n",
      "  warnings.warn(\n"
     ]
    },
    {
     "name": "stdout",
     "output_type": "stream",
     "text": [
      "No of FN: 9\n",
      "3002.0239422385403\n",
      "[CV 4/5; 55/96] END logisticregression__C=0.1, logisticregression__penalty=l2, logisticregression__solver=newton-cg;, score=-3002.024 total time=  22.1s\n",
      "[CV 5/5; 55/96] START logisticregression__C=0.1, logisticregression__penalty=l2, logisticregression__solver=newton-cg\n"
     ]
    },
    {
     "name": "stderr",
     "output_type": "stream",
     "text": [
      "C:\\Python310\\lib\\site-packages\\scipy\\optimize\\_linesearch.py:456: LineSearchWarning: The line search algorithm did not converge\n",
      "  warn('The line search algorithm did not converge', LineSearchWarning)\n",
      "C:\\Python310\\lib\\site-packages\\scipy\\optimize\\_linesearch.py:305: LineSearchWarning: The line search algorithm did not converge\n",
      "  warn('The line search algorithm did not converge', LineSearchWarning)\n",
      "C:\\Python310\\lib\\site-packages\\sklearn\\utils\\optimize.py:210: ConvergenceWarning: newton-cg failed to converge. Increase the number of iterations.\n",
      "  warnings.warn(\n"
     ]
    },
    {
     "name": "stdout",
     "output_type": "stream",
     "text": [
      "No of FN: 6\n",
      "5054.969999999999\n",
      "[CV 5/5; 55/96] END logisticregression__C=0.1, logisticregression__penalty=l2, logisticregression__solver=newton-cg;, score=-5054.970 total time=  23.9s\n",
      "[CV 1/5; 56/96] START logisticregression__C=0.1, logisticregression__penalty=l2, logisticregression__solver=lbfgs\n",
      "No of FN: 11\n",
      "5783.5696118827345\n",
      "[CV 1/5; 56/96] END logisticregression__C=0.1, logisticregression__penalty=l2, logisticregression__solver=lbfgs;, score=-5783.570 total time=   2.0s\n",
      "[CV 2/5; 56/96] START logisticregression__C=0.1, logisticregression__penalty=l2, logisticregression__solver=lbfgs\n"
     ]
    },
    {
     "name": "stderr",
     "output_type": "stream",
     "text": [
      "C:\\Python310\\lib\\site-packages\\sklearn\\linear_model\\_logistic.py:444: ConvergenceWarning: lbfgs failed to converge (status=1):\n",
      "STOP: TOTAL NO. of ITERATIONS REACHED LIMIT.\n",
      "\n",
      "Increase the number of iterations (max_iter) or scale the data as shown in:\n",
      "    https://scikit-learn.org/stable/modules/preprocessing.html\n",
      "Please also refer to the documentation for alternative solver options:\n",
      "    https://scikit-learn.org/stable/modules/linear_model.html#logistic-regression\n",
      "  n_iter_i = _check_optimize_result(\n"
     ]
    },
    {
     "name": "stdout",
     "output_type": "stream",
     "text": [
      "No of FN: 9\n",
      "4576.517530575388\n",
      "[CV 2/5; 56/96] END logisticregression__C=0.1, logisticregression__penalty=l2, logisticregression__solver=lbfgs;, score=-4576.518 total time=   2.5s\n",
      "[CV 3/5; 56/96] START logisticregression__C=0.1, logisticregression__penalty=l2, logisticregression__solver=lbfgs\n",
      "No of FN: 10\n",
      "8536.582434600648\n",
      "[CV 3/5; 56/96] END logisticregression__C=0.1, logisticregression__penalty=l2, logisticregression__solver=lbfgs;, score=-8536.582 total time=   1.2s\n",
      "[CV 4/5; 56/96] START logisticregression__C=0.1, logisticregression__penalty=l2, logisticregression__solver=lbfgs\n",
      "No of FN: 7\n",
      "5578.90394223854\n",
      "[CV 4/5; 56/96] END logisticregression__C=0.1, logisticregression__penalty=l2, logisticregression__solver=lbfgs;, score=-5578.904 total time=   2.0s\n",
      "[CV 5/5; 56/96] START logisticregression__C=0.1, logisticregression__penalty=l2, logisticregression__solver=lbfgs\n"
     ]
    },
    {
     "name": "stderr",
     "output_type": "stream",
     "text": [
      "C:\\Python310\\lib\\site-packages\\sklearn\\linear_model\\_logistic.py:444: ConvergenceWarning: lbfgs failed to converge (status=1):\n",
      "STOP: TOTAL NO. of ITERATIONS REACHED LIMIT.\n",
      "\n",
      "Increase the number of iterations (max_iter) or scale the data as shown in:\n",
      "    https://scikit-learn.org/stable/modules/preprocessing.html\n",
      "Please also refer to the documentation for alternative solver options:\n",
      "    https://scikit-learn.org/stable/modules/linear_model.html#logistic-regression\n",
      "  n_iter_i = _check_optimize_result(\n"
     ]
    },
    {
     "name": "stdout",
     "output_type": "stream",
     "text": [
      "No of FN: 6\n",
      "6937.539999999999\n",
      "[CV 5/5; 56/96] END logisticregression__C=0.1, logisticregression__penalty=l2, logisticregression__solver=lbfgs;, score=-6937.540 total time=   2.5s\n",
      "[CV 1/5; 57/96] START logisticregression__C=0.1, logisticregression__penalty=l2, logisticregression__solver=liblinear\n",
      "No of FN: 11\n",
      "4413.844511635956\n",
      "[CV 1/5; 57/96] END logisticregression__C=0.1, logisticregression__penalty=l2, logisticregression__solver=liblinear;, score=-4413.845 total time=   3.0s\n",
      "[CV 2/5; 57/96] START logisticregression__C=0.1, logisticregression__penalty=l2, logisticregression__solver=liblinear\n",
      "No of FN: 9\n",
      "4221.517530575388\n",
      "[CV 2/5; 57/96] END logisticregression__C=0.1, logisticregression__penalty=l2, logisticregression__solver=liblinear;, score=-4221.518 total time=   2.8s\n",
      "[CV 3/5; 57/96] START logisticregression__C=0.1, logisticregression__penalty=l2, logisticregression__solver=liblinear\n",
      "No of FN: 8\n",
      "4650.7\n",
      "[CV 3/5; 57/96] END logisticregression__C=0.1, logisticregression__penalty=l2, logisticregression__solver=liblinear;, score=-4650.700 total time=   2.9s\n",
      "[CV 4/5; 57/96] START logisticregression__C=0.1, logisticregression__penalty=l2, logisticregression__solver=liblinear\n",
      "No of FN: 8\n",
      "4888.02394223854\n",
      "[CV 4/5; 57/96] END logisticregression__C=0.1, logisticregression__penalty=l2, logisticregression__solver=liblinear;, score=-4888.024 total time=   2.7s\n",
      "[CV 5/5; 57/96] START logisticregression__C=0.1, logisticregression__penalty=l2, logisticregression__solver=liblinear\n",
      "No of FN: 9\n",
      "5907.792276488321\n",
      "[CV 5/5; 57/96] END logisticregression__C=0.1, logisticregression__penalty=l2, logisticregression__solver=liblinear;, score=-5907.792 total time=   2.3s\n",
      "[CV 1/5; 58/96] START logisticregression__C=0.1, logisticregression__penalty=elasticnet, logisticregression__solver=newton-cg\n",
      "[CV 1/5; 58/96] END logisticregression__C=0.1, logisticregression__penalty=elasticnet, logisticregression__solver=newton-cg;, score=nan total time=   0.2s\n",
      "[CV 2/5; 58/96] START logisticregression__C=0.1, logisticregression__penalty=elasticnet, logisticregression__solver=newton-cg\n",
      "[CV 2/5; 58/96] END logisticregression__C=0.1, logisticregression__penalty=elasticnet, logisticregression__solver=newton-cg;, score=nan total time=   0.2s\n",
      "[CV 3/5; 58/96] START logisticregression__C=0.1, logisticregression__penalty=elasticnet, logisticregression__solver=newton-cg\n",
      "[CV 3/5; 58/96] END logisticregression__C=0.1, logisticregression__penalty=elasticnet, logisticregression__solver=newton-cg;, score=nan total time=   0.2s\n",
      "[CV 4/5; 58/96] START logisticregression__C=0.1, logisticregression__penalty=elasticnet, logisticregression__solver=newton-cg\n",
      "[CV 4/5; 58/96] END logisticregression__C=0.1, logisticregression__penalty=elasticnet, logisticregression__solver=newton-cg;, score=nan total time=   0.2s\n",
      "[CV 5/5; 58/96] START logisticregression__C=0.1, logisticregression__penalty=elasticnet, logisticregression__solver=newton-cg\n",
      "[CV 5/5; 58/96] END logisticregression__C=0.1, logisticregression__penalty=elasticnet, logisticregression__solver=newton-cg;, score=nan total time=   0.2s\n",
      "[CV 1/5; 59/96] START logisticregression__C=0.1, logisticregression__penalty=elasticnet, logisticregression__solver=lbfgs\n",
      "[CV 1/5; 59/96] END logisticregression__C=0.1, logisticregression__penalty=elasticnet, logisticregression__solver=lbfgs;, score=nan total time=   0.2s\n",
      "[CV 2/5; 59/96] START logisticregression__C=0.1, logisticregression__penalty=elasticnet, logisticregression__solver=lbfgs\n",
      "[CV 2/5; 59/96] END logisticregression__C=0.1, logisticregression__penalty=elasticnet, logisticregression__solver=lbfgs;, score=nan total time=   0.2s\n",
      "[CV 3/5; 59/96] START logisticregression__C=0.1, logisticregression__penalty=elasticnet, logisticregression__solver=lbfgs\n",
      "[CV 3/5; 59/96] END logisticregression__C=0.1, logisticregression__penalty=elasticnet, logisticregression__solver=lbfgs;, score=nan total time=   0.2s\n",
      "[CV 4/5; 59/96] START logisticregression__C=0.1, logisticregression__penalty=elasticnet, logisticregression__solver=lbfgs\n",
      "[CV 4/5; 59/96] END logisticregression__C=0.1, logisticregression__penalty=elasticnet, logisticregression__solver=lbfgs;, score=nan total time=   0.2s\n",
      "[CV 5/5; 59/96] START logisticregression__C=0.1, logisticregression__penalty=elasticnet, logisticregression__solver=lbfgs\n",
      "[CV 5/5; 59/96] END logisticregression__C=0.1, logisticregression__penalty=elasticnet, logisticregression__solver=lbfgs;, score=nan total time=   0.2s\n",
      "[CV 1/5; 60/96] START logisticregression__C=0.1, logisticregression__penalty=elasticnet, logisticregression__solver=liblinear\n",
      "[CV 1/5; 60/96] END logisticregression__C=0.1, logisticregression__penalty=elasticnet, logisticregression__solver=liblinear;, score=nan total time=   0.2s\n",
      "[CV 2/5; 60/96] START logisticregression__C=0.1, logisticregression__penalty=elasticnet, logisticregression__solver=liblinear\n",
      "[CV 2/5; 60/96] END logisticregression__C=0.1, logisticregression__penalty=elasticnet, logisticregression__solver=liblinear;, score=nan total time=   0.2s\n",
      "[CV 3/5; 60/96] START logisticregression__C=0.1, logisticregression__penalty=elasticnet, logisticregression__solver=liblinear\n",
      "[CV 3/5; 60/96] END logisticregression__C=0.1, logisticregression__penalty=elasticnet, logisticregression__solver=liblinear;, score=nan total time=   0.2s\n",
      "[CV 4/5; 60/96] START logisticregression__C=0.1, logisticregression__penalty=elasticnet, logisticregression__solver=liblinear\n",
      "[CV 4/5; 60/96] END logisticregression__C=0.1, logisticregression__penalty=elasticnet, logisticregression__solver=liblinear;, score=nan total time=   0.2s\n",
      "[CV 5/5; 60/96] START logisticregression__C=0.1, logisticregression__penalty=elasticnet, logisticregression__solver=liblinear\n",
      "[CV 5/5; 60/96] END logisticregression__C=0.1, logisticregression__penalty=elasticnet, logisticregression__solver=liblinear;, score=nan total time=   0.2s\n",
      "[CV 1/5; 61/96] START logisticregression__C=1, logisticregression__penalty=none, logisticregression__solver=newton-cg\n"
     ]
    },
    {
     "name": "stderr",
     "output_type": "stream",
     "text": [
      "C:\\Python310\\lib\\site-packages\\scipy\\optimize\\_linesearch.py:456: LineSearchWarning: The line search algorithm did not converge\n",
      "  warn('The line search algorithm did not converge', LineSearchWarning)\n",
      "C:\\Python310\\lib\\site-packages\\scipy\\optimize\\_linesearch.py:305: LineSearchWarning: The line search algorithm did not converge\n",
      "  warn('The line search algorithm did not converge', LineSearchWarning)\n",
      "C:\\Python310\\lib\\site-packages\\sklearn\\utils\\optimize.py:210: ConvergenceWarning: newton-cg failed to converge. Increase the number of iterations.\n",
      "  warnings.warn(\n"
     ]
    },
    {
     "name": "stdout",
     "output_type": "stream",
     "text": [
      "No of FN: 10\n",
      "2697.9745116359563\n",
      "[CV 1/5; 61/96] END logisticregression__C=1, logisticregression__penalty=none, logisticregression__solver=newton-cg;, score=-2697.975 total time=  22.6s\n",
      "[CV 2/5; 61/96] START logisticregression__C=1, logisticregression__penalty=none, logisticregression__solver=newton-cg\n"
     ]
    },
    {
     "name": "stderr",
     "output_type": "stream",
     "text": [
      "C:\\Python310\\lib\\site-packages\\scipy\\optimize\\_linesearch.py:456: LineSearchWarning: The line search algorithm did not converge\n",
      "  warn('The line search algorithm did not converge', LineSearchWarning)\n",
      "C:\\Python310\\lib\\site-packages\\scipy\\optimize\\_linesearch.py:305: LineSearchWarning: The line search algorithm did not converge\n",
      "  warn('The line search algorithm did not converge', LineSearchWarning)\n",
      "C:\\Python310\\lib\\site-packages\\sklearn\\utils\\optimize.py:210: ConvergenceWarning: newton-cg failed to converge. Increase the number of iterations.\n",
      "  warnings.warn(\n"
     ]
    },
    {
     "name": "stdout",
     "output_type": "stream",
     "text": [
      "No of FN: 9\n",
      "2826.5175305753887\n",
      "[CV 2/5; 61/96] END logisticregression__C=1, logisticregression__penalty=none, logisticregression__solver=newton-cg;, score=-2826.518 total time=  21.2s\n",
      "[CV 3/5; 61/96] START logisticregression__C=1, logisticregression__penalty=none, logisticregression__solver=newton-cg\n"
     ]
    },
    {
     "name": "stderr",
     "output_type": "stream",
     "text": [
      "C:\\Python310\\lib\\site-packages\\scipy\\optimize\\_linesearch.py:456: LineSearchWarning: The line search algorithm did not converge\n",
      "  warn('The line search algorithm did not converge', LineSearchWarning)\n",
      "C:\\Python310\\lib\\site-packages\\scipy\\optimize\\_linesearch.py:305: LineSearchWarning: The line search algorithm did not converge\n",
      "  warn('The line search algorithm did not converge', LineSearchWarning)\n",
      "C:\\Python310\\lib\\site-packages\\sklearn\\utils\\optimize.py:210: ConvergenceWarning: newton-cg failed to converge. Increase the number of iterations.\n",
      "  warnings.warn(\n"
     ]
    },
    {
     "name": "stdout",
     "output_type": "stream",
     "text": [
      "No of FN: 9\n",
      "2884.99\n",
      "[CV 3/5; 61/96] END logisticregression__C=1, logisticregression__penalty=none, logisticregression__solver=newton-cg;, score=-2884.990 total time=  22.1s\n",
      "[CV 4/5; 61/96] START logisticregression__C=1, logisticregression__penalty=none, logisticregression__solver=newton-cg\n"
     ]
    },
    {
     "name": "stderr",
     "output_type": "stream",
     "text": [
      "C:\\Python310\\lib\\site-packages\\scipy\\optimize\\_linesearch.py:456: LineSearchWarning: The line search algorithm did not converge\n",
      "  warn('The line search algorithm did not converge', LineSearchWarning)\n",
      "C:\\Python310\\lib\\site-packages\\scipy\\optimize\\_linesearch.py:305: LineSearchWarning: The line search algorithm did not converge\n",
      "  warn('The line search algorithm did not converge', LineSearchWarning)\n",
      "C:\\Python310\\lib\\site-packages\\sklearn\\utils\\optimize.py:210: ConvergenceWarning: newton-cg failed to converge. Increase the number of iterations.\n",
      "  warnings.warn(\n"
     ]
    },
    {
     "name": "stdout",
     "output_type": "stream",
     "text": [
      "No of FN: 9\n",
      "3037.0239422385403\n",
      "[CV 4/5; 61/96] END logisticregression__C=1, logisticregression__penalty=none, logisticregression__solver=newton-cg;, score=-3037.024 total time=  22.0s\n",
      "[CV 5/5; 61/96] START logisticregression__C=1, logisticregression__penalty=none, logisticregression__solver=newton-cg\n"
     ]
    },
    {
     "name": "stderr",
     "output_type": "stream",
     "text": [
      "C:\\Python310\\lib\\site-packages\\scipy\\optimize\\_linesearch.py:456: LineSearchWarning: The line search algorithm did not converge\n",
      "  warn('The line search algorithm did not converge', LineSearchWarning)\n",
      "C:\\Python310\\lib\\site-packages\\scipy\\optimize\\_linesearch.py:305: LineSearchWarning: The line search algorithm did not converge\n",
      "  warn('The line search algorithm did not converge', LineSearchWarning)\n",
      "C:\\Python310\\lib\\site-packages\\sklearn\\utils\\optimize.py:210: ConvergenceWarning: newton-cg failed to converge. Increase the number of iterations.\n",
      "  warnings.warn(\n"
     ]
    },
    {
     "name": "stdout",
     "output_type": "stream",
     "text": [
      "No of FN: 6\n",
      "5054.969999999999\n",
      "[CV 5/5; 61/96] END logisticregression__C=1, logisticregression__penalty=none, logisticregression__solver=newton-cg;, score=-5054.970 total time=  23.7s\n",
      "[CV 1/5; 62/96] START logisticregression__C=1, logisticregression__penalty=none, logisticregression__solver=lbfgs\n",
      "No of FN: 11\n",
      "5783.5696118827345\n",
      "[CV 1/5; 62/96] END logisticregression__C=1, logisticregression__penalty=none, logisticregression__solver=lbfgs;, score=-5783.570 total time=   2.1s\n",
      "[CV 2/5; 62/96] START logisticregression__C=1, logisticregression__penalty=none, logisticregression__solver=lbfgs\n",
      "No of FN: 9\n",
      "5291.517530575388\n",
      "[CV 2/5; 62/96] END logisticregression__C=1, logisticregression__penalty=none, logisticregression__solver=lbfgs;, score=-5291.518 total time=   2.1s\n",
      "[CV 3/5; 62/96] START logisticregression__C=1, logisticregression__penalty=none, logisticregression__solver=lbfgs\n",
      "No of FN: 10\n",
      "8536.582434600648\n",
      "[CV 3/5; 62/96] END logisticregression__C=1, logisticregression__penalty=none, logisticregression__solver=lbfgs;, score=-8536.582 total time=   1.3s\n",
      "[CV 4/5; 62/96] START logisticregression__C=1, logisticregression__penalty=none, logisticregression__solver=lbfgs\n"
     ]
    },
    {
     "name": "stderr",
     "output_type": "stream",
     "text": [
      "C:\\Python310\\lib\\site-packages\\sklearn\\linear_model\\_logistic.py:444: ConvergenceWarning: lbfgs failed to converge (status=1):\n",
      "STOP: TOTAL NO. of ITERATIONS REACHED LIMIT.\n",
      "\n",
      "Increase the number of iterations (max_iter) or scale the data as shown in:\n",
      "    https://scikit-learn.org/stable/modules/preprocessing.html\n",
      "Please also refer to the documentation for alternative solver options:\n",
      "    https://scikit-learn.org/stable/modules/linear_model.html#logistic-regression\n",
      "  n_iter_i = _check_optimize_result(\n"
     ]
    },
    {
     "name": "stdout",
     "output_type": "stream",
     "text": [
      "No of FN: 7\n",
      "5538.90394223854\n",
      "[CV 4/5; 62/96] END logisticregression__C=1, logisticregression__penalty=none, logisticregression__solver=lbfgs;, score=-5538.904 total time=   2.5s\n",
      "[CV 5/5; 62/96] START logisticregression__C=1, logisticregression__penalty=none, logisticregression__solver=lbfgs\n",
      "No of FN: 6\n",
      "8147.539999999999\n",
      "[CV 5/5; 62/96] END logisticregression__C=1, logisticregression__penalty=none, logisticregression__solver=lbfgs;, score=-8147.540 total time=   1.9s\n",
      "[CV 1/5; 63/96] START logisticregression__C=1, logisticregression__penalty=none, logisticregression__solver=liblinear\n",
      "[CV 1/5; 63/96] END logisticregression__C=1, logisticregression__penalty=none, logisticregression__solver=liblinear;, score=nan total time=   0.2s\n",
      "[CV 2/5; 63/96] START logisticregression__C=1, logisticregression__penalty=none, logisticregression__solver=liblinear\n",
      "[CV 2/5; 63/96] END logisticregression__C=1, logisticregression__penalty=none, logisticregression__solver=liblinear;, score=nan total time=   0.2s\n",
      "[CV 3/5; 63/96] START logisticregression__C=1, logisticregression__penalty=none, logisticregression__solver=liblinear\n",
      "[CV 3/5; 63/96] END logisticregression__C=1, logisticregression__penalty=none, logisticregression__solver=liblinear;, score=nan total time=   0.2s\n",
      "[CV 4/5; 63/96] START logisticregression__C=1, logisticregression__penalty=none, logisticregression__solver=liblinear\n",
      "[CV 4/5; 63/96] END logisticregression__C=1, logisticregression__penalty=none, logisticregression__solver=liblinear;, score=nan total time=   0.2s\n",
      "[CV 5/5; 63/96] START logisticregression__C=1, logisticregression__penalty=none, logisticregression__solver=liblinear\n",
      "[CV 5/5; 63/96] END logisticregression__C=1, logisticregression__penalty=none, logisticregression__solver=liblinear;, score=nan total time=   0.2s\n",
      "[CV 1/5; 64/96] START logisticregression__C=1, logisticregression__penalty=l1, logisticregression__solver=newton-cg\n",
      "[CV 1/5; 64/96] END logisticregression__C=1, logisticregression__penalty=l1, logisticregression__solver=newton-cg;, score=nan total time=   0.2s\n",
      "[CV 2/5; 64/96] START logisticregression__C=1, logisticregression__penalty=l1, logisticregression__solver=newton-cg\n",
      "[CV 2/5; 64/96] END logisticregression__C=1, logisticregression__penalty=l1, logisticregression__solver=newton-cg;, score=nan total time=   0.2s\n",
      "[CV 3/5; 64/96] START logisticregression__C=1, logisticregression__penalty=l1, logisticregression__solver=newton-cg\n",
      "[CV 3/5; 64/96] END logisticregression__C=1, logisticregression__penalty=l1, logisticregression__solver=newton-cg;, score=nan total time=   0.2s\n",
      "[CV 4/5; 64/96] START logisticregression__C=1, logisticregression__penalty=l1, logisticregression__solver=newton-cg\n",
      "[CV 4/5; 64/96] END logisticregression__C=1, logisticregression__penalty=l1, logisticregression__solver=newton-cg;, score=nan total time=   0.2s\n",
      "[CV 5/5; 64/96] START logisticregression__C=1, logisticregression__penalty=l1, logisticregression__solver=newton-cg\n",
      "[CV 5/5; 64/96] END logisticregression__C=1, logisticregression__penalty=l1, logisticregression__solver=newton-cg;, score=nan total time=   0.2s\n",
      "[CV 1/5; 65/96] START logisticregression__C=1, logisticregression__penalty=l1, logisticregression__solver=lbfgs\n",
      "[CV 1/5; 65/96] END logisticregression__C=1, logisticregression__penalty=l1, logisticregression__solver=lbfgs;, score=nan total time=   0.2s\n",
      "[CV 2/5; 65/96] START logisticregression__C=1, logisticregression__penalty=l1, logisticregression__solver=lbfgs\n",
      "[CV 2/5; 65/96] END logisticregression__C=1, logisticregression__penalty=l1, logisticregression__solver=lbfgs;, score=nan total time=   0.2s\n",
      "[CV 3/5; 65/96] START logisticregression__C=1, logisticregression__penalty=l1, logisticregression__solver=lbfgs\n",
      "[CV 3/5; 65/96] END logisticregression__C=1, logisticregression__penalty=l1, logisticregression__solver=lbfgs;, score=nan total time=   0.2s\n",
      "[CV 4/5; 65/96] START logisticregression__C=1, logisticregression__penalty=l1, logisticregression__solver=lbfgs\n",
      "[CV 4/5; 65/96] END logisticregression__C=1, logisticregression__penalty=l1, logisticregression__solver=lbfgs;, score=nan total time=   0.2s\n",
      "[CV 5/5; 65/96] START logisticregression__C=1, logisticregression__penalty=l1, logisticregression__solver=lbfgs\n",
      "[CV 5/5; 65/96] END logisticregression__C=1, logisticregression__penalty=l1, logisticregression__solver=lbfgs;, score=nan total time=   0.2s\n",
      "[CV 1/5; 66/96] START logisticregression__C=1, logisticregression__penalty=l1, logisticregression__solver=liblinear\n",
      "No of FN: 10\n",
      "2697.9745116359563\n",
      "[CV 1/5; 66/96] END logisticregression__C=1, logisticregression__penalty=l1, logisticregression__solver=liblinear;, score=-2697.975 total time=   7.8s\n",
      "[CV 2/5; 66/96] START logisticregression__C=1, logisticregression__penalty=l1, logisticregression__solver=liblinear\n",
      "No of FN: 9\n",
      "2841.5175305753887\n",
      "[CV 2/5; 66/96] END logisticregression__C=1, logisticregression__penalty=l1, logisticregression__solver=liblinear;, score=-2841.518 total time=   3.3s\n",
      "[CV 3/5; 66/96] START logisticregression__C=1, logisticregression__penalty=l1, logisticregression__solver=liblinear\n",
      "No of FN: 9\n",
      "2999.99\n",
      "[CV 3/5; 66/96] END logisticregression__C=1, logisticregression__penalty=l1, logisticregression__solver=liblinear;, score=-2999.990 total time=   2.9s\n",
      "[CV 4/5; 66/96] START logisticregression__C=1, logisticregression__penalty=l1, logisticregression__solver=liblinear\n",
      "No of FN: 9\n",
      "3022.0239422385403\n",
      "[CV 4/5; 66/96] END logisticregression__C=1, logisticregression__penalty=l1, logisticregression__solver=liblinear;, score=-3022.024 total time=  18.7s\n",
      "[CV 5/5; 66/96] START logisticregression__C=1, logisticregression__penalty=l1, logisticregression__solver=liblinear\n",
      "No of FN: 6\n",
      "5099.969999999999\n",
      "[CV 5/5; 66/96] END logisticregression__C=1, logisticregression__penalty=l1, logisticregression__solver=liblinear;, score=-5099.970 total time=   3.0s\n",
      "[CV 1/5; 67/96] START logisticregression__C=1, logisticregression__penalty=l2, logisticregression__solver=newton-cg\n"
     ]
    },
    {
     "name": "stderr",
     "output_type": "stream",
     "text": [
      "C:\\Python310\\lib\\site-packages\\scipy\\optimize\\_linesearch.py:456: LineSearchWarning: The line search algorithm did not converge\n",
      "  warn('The line search algorithm did not converge', LineSearchWarning)\n",
      "C:\\Python310\\lib\\site-packages\\scipy\\optimize\\_linesearch.py:305: LineSearchWarning: The line search algorithm did not converge\n",
      "  warn('The line search algorithm did not converge', LineSearchWarning)\n",
      "C:\\Python310\\lib\\site-packages\\sklearn\\utils\\optimize.py:210: ConvergenceWarning: newton-cg failed to converge. Increase the number of iterations.\n",
      "  warnings.warn(\n"
     ]
    },
    {
     "name": "stdout",
     "output_type": "stream",
     "text": [
      "No of FN: 10\n",
      "2692.9745116359563\n",
      "[CV 1/5; 67/96] END logisticregression__C=1, logisticregression__penalty=l2, logisticregression__solver=newton-cg;, score=-2692.975 total time=  21.4s\n",
      "[CV 2/5; 67/96] START logisticregression__C=1, logisticregression__penalty=l2, logisticregression__solver=newton-cg\n"
     ]
    },
    {
     "name": "stderr",
     "output_type": "stream",
     "text": [
      "C:\\Python310\\lib\\site-packages\\sklearn\\utils\\optimize.py:210: ConvergenceWarning: newton-cg failed to converge. Increase the number of iterations.\n",
      "  warnings.warn(\n"
     ]
    },
    {
     "name": "stdout",
     "output_type": "stream",
     "text": [
      "No of FN: 10\n",
      "2819.5075305753885\n",
      "[CV 2/5; 67/96] END logisticregression__C=1, logisticregression__penalty=l2, logisticregression__solver=newton-cg;, score=-2819.508 total time=  21.6s\n",
      "[CV 3/5; 67/96] START logisticregression__C=1, logisticregression__penalty=l2, logisticregression__solver=newton-cg\n"
     ]
    },
    {
     "name": "stderr",
     "output_type": "stream",
     "text": [
      "C:\\Python310\\lib\\site-packages\\scipy\\optimize\\_linesearch.py:456: LineSearchWarning: The line search algorithm did not converge\n",
      "  warn('The line search algorithm did not converge', LineSearchWarning)\n",
      "C:\\Python310\\lib\\site-packages\\scipy\\optimize\\_linesearch.py:305: LineSearchWarning: The line search algorithm did not converge\n",
      "  warn('The line search algorithm did not converge', LineSearchWarning)\n",
      "C:\\Python310\\lib\\site-packages\\sklearn\\utils\\optimize.py:210: ConvergenceWarning: newton-cg failed to converge. Increase the number of iterations.\n",
      "  warnings.warn(\n"
     ]
    },
    {
     "name": "stdout",
     "output_type": "stream",
     "text": [
      "No of FN: 9\n",
      "2909.99\n",
      "[CV 3/5; 67/96] END logisticregression__C=1, logisticregression__penalty=l2, logisticregression__solver=newton-cg;, score=-2909.990 total time=  22.2s\n",
      "[CV 4/5; 67/96] START logisticregression__C=1, logisticregression__penalty=l2, logisticregression__solver=newton-cg\n"
     ]
    },
    {
     "name": "stderr",
     "output_type": "stream",
     "text": [
      "C:\\Python310\\lib\\site-packages\\scipy\\optimize\\_linesearch.py:456: LineSearchWarning: The line search algorithm did not converge\n",
      "  warn('The line search algorithm did not converge', LineSearchWarning)\n",
      "C:\\Python310\\lib\\site-packages\\scipy\\optimize\\_linesearch.py:305: LineSearchWarning: The line search algorithm did not converge\n",
      "  warn('The line search algorithm did not converge', LineSearchWarning)\n",
      "C:\\Python310\\lib\\site-packages\\sklearn\\utils\\optimize.py:210: ConvergenceWarning: newton-cg failed to converge. Increase the number of iterations.\n",
      "  warnings.warn(\n"
     ]
    },
    {
     "name": "stdout",
     "output_type": "stream",
     "text": [
      "No of FN: 9\n",
      "3037.0239422385403\n",
      "[CV 4/5; 67/96] END logisticregression__C=1, logisticregression__penalty=l2, logisticregression__solver=newton-cg;, score=-3037.024 total time=  22.0s\n",
      "[CV 5/5; 67/96] START logisticregression__C=1, logisticregression__penalty=l2, logisticregression__solver=newton-cg\n"
     ]
    },
    {
     "name": "stderr",
     "output_type": "stream",
     "text": [
      "C:\\Python310\\lib\\site-packages\\scipy\\optimize\\_linesearch.py:456: LineSearchWarning: The line search algorithm did not converge\n",
      "  warn('The line search algorithm did not converge', LineSearchWarning)\n",
      "C:\\Python310\\lib\\site-packages\\scipy\\optimize\\_linesearch.py:305: LineSearchWarning: The line search algorithm did not converge\n",
      "  warn('The line search algorithm did not converge', LineSearchWarning)\n",
      "C:\\Python310\\lib\\site-packages\\sklearn\\utils\\optimize.py:210: ConvergenceWarning: newton-cg failed to converge. Increase the number of iterations.\n",
      "  warnings.warn(\n"
     ]
    },
    {
     "name": "stdout",
     "output_type": "stream",
     "text": [
      "No of FN: 6\n",
      "5069.969999999999\n",
      "[CV 5/5; 67/96] END logisticregression__C=1, logisticregression__penalty=l2, logisticregression__solver=newton-cg;, score=-5069.970 total time=  22.6s\n",
      "[CV 1/5; 68/96] START logisticregression__C=1, logisticregression__penalty=l2, logisticregression__solver=lbfgs\n"
     ]
    },
    {
     "name": "stderr",
     "output_type": "stream",
     "text": [
      "C:\\Python310\\lib\\site-packages\\sklearn\\linear_model\\_logistic.py:444: ConvergenceWarning: lbfgs failed to converge (status=1):\n",
      "STOP: TOTAL NO. of ITERATIONS REACHED LIMIT.\n",
      "\n",
      "Increase the number of iterations (max_iter) or scale the data as shown in:\n",
      "    https://scikit-learn.org/stable/modules/preprocessing.html\n",
      "Please also refer to the documentation for alternative solver options:\n",
      "    https://scikit-learn.org/stable/modules/linear_model.html#logistic-regression\n",
      "  n_iter_i = _check_optimize_result(\n"
     ]
    },
    {
     "name": "stdout",
     "output_type": "stream",
     "text": [
      "No of FN: 9\n",
      "4655.388406585696\n",
      "[CV 1/5; 68/96] END logisticregression__C=1, logisticregression__penalty=l2, logisticregression__solver=lbfgs;, score=-4655.388 total time=   2.6s\n",
      "[CV 2/5; 68/96] START logisticregression__C=1, logisticregression__penalty=l2, logisticregression__solver=lbfgs\n"
     ]
    },
    {
     "name": "stderr",
     "output_type": "stream",
     "text": [
      "C:\\Python310\\lib\\site-packages\\sklearn\\linear_model\\_logistic.py:444: ConvergenceWarning: lbfgs failed to converge (status=1):\n",
      "STOP: TOTAL NO. of ITERATIONS REACHED LIMIT.\n",
      "\n",
      "Increase the number of iterations (max_iter) or scale the data as shown in:\n",
      "    https://scikit-learn.org/stable/modules/preprocessing.html\n",
      "Please also refer to the documentation for alternative solver options:\n",
      "    https://scikit-learn.org/stable/modules/linear_model.html#logistic-regression\n",
      "  n_iter_i = _check_optimize_result(\n"
     ]
    },
    {
     "name": "stdout",
     "output_type": "stream",
     "text": [
      "No of FN: 9\n",
      "5366.517530575388\n",
      "[CV 2/5; 68/96] END logisticregression__C=1, logisticregression__penalty=l2, logisticregression__solver=lbfgs;, score=-5366.518 total time=   2.5s\n",
      "[CV 3/5; 68/96] START logisticregression__C=1, logisticregression__penalty=l2, logisticregression__solver=lbfgs\n",
      "No of FN: 10\n",
      "8536.582434600648\n",
      "[CV 3/5; 68/96] END logisticregression__C=1, logisticregression__penalty=l2, logisticregression__solver=lbfgs;, score=-8536.582 total time=   1.2s\n",
      "[CV 4/5; 68/96] START logisticregression__C=1, logisticregression__penalty=l2, logisticregression__solver=lbfgs\n"
     ]
    },
    {
     "name": "stderr",
     "output_type": "stream",
     "text": [
      "C:\\Python310\\lib\\site-packages\\sklearn\\linear_model\\_logistic.py:444: ConvergenceWarning: lbfgs failed to converge (status=1):\n",
      "STOP: TOTAL NO. of ITERATIONS REACHED LIMIT.\n",
      "\n",
      "Increase the number of iterations (max_iter) or scale the data as shown in:\n",
      "    https://scikit-learn.org/stable/modules/preprocessing.html\n",
      "Please also refer to the documentation for alternative solver options:\n",
      "    https://scikit-learn.org/stable/modules/linear_model.html#logistic-regression\n",
      "  n_iter_i = _check_optimize_result(\n"
     ]
    },
    {
     "name": "stdout",
     "output_type": "stream",
     "text": [
      "No of FN: 8\n",
      "4788.02394223854\n",
      "[CV 4/5; 68/96] END logisticregression__C=1, logisticregression__penalty=l2, logisticregression__solver=lbfgs;, score=-4788.024 total time=   2.6s\n",
      "[CV 5/5; 68/96] START logisticregression__C=1, logisticregression__penalty=l2, logisticregression__solver=lbfgs\n",
      "No of FN: 6\n",
      "8147.539999999999\n",
      "[CV 5/5; 68/96] END logisticregression__C=1, logisticregression__penalty=l2, logisticregression__solver=lbfgs;, score=-8147.540 total time=   1.8s\n",
      "[CV 1/5; 69/96] START logisticregression__C=1, logisticregression__penalty=l2, logisticregression__solver=liblinear\n",
      "No of FN: 11\n",
      "4413.844511635956\n",
      "[CV 1/5; 69/96] END logisticregression__C=1, logisticregression__penalty=l2, logisticregression__solver=liblinear;, score=-4413.845 total time=   2.9s\n",
      "[CV 2/5; 69/96] START logisticregression__C=1, logisticregression__penalty=l2, logisticregression__solver=liblinear\n",
      "No of FN: 9\n",
      "4231.517530575388\n",
      "[CV 2/5; 69/96] END logisticregression__C=1, logisticregression__penalty=l2, logisticregression__solver=liblinear;, score=-4231.518 total time=   2.8s\n",
      "[CV 3/5; 69/96] START logisticregression__C=1, logisticregression__penalty=l2, logisticregression__solver=liblinear\n",
      "No of FN: 8\n",
      "4655.7\n",
      "[CV 3/5; 69/96] END logisticregression__C=1, logisticregression__penalty=l2, logisticregression__solver=liblinear;, score=-4655.700 total time=   2.9s\n",
      "[CV 4/5; 69/96] START logisticregression__C=1, logisticregression__penalty=l2, logisticregression__solver=liblinear\n",
      "No of FN: 8\n",
      "4888.02394223854\n",
      "[CV 4/5; 69/96] END logisticregression__C=1, logisticregression__penalty=l2, logisticregression__solver=liblinear;, score=-4888.024 total time=   2.8s\n",
      "[CV 5/5; 69/96] START logisticregression__C=1, logisticregression__penalty=l2, logisticregression__solver=liblinear\n",
      "No of FN: 9\n",
      "5907.792276488321\n",
      "[CV 5/5; 69/96] END logisticregression__C=1, logisticregression__penalty=l2, logisticregression__solver=liblinear;, score=-5907.792 total time=   2.4s\n",
      "[CV 1/5; 70/96] START logisticregression__C=1, logisticregression__penalty=elasticnet, logisticregression__solver=newton-cg\n",
      "[CV 1/5; 70/96] END logisticregression__C=1, logisticregression__penalty=elasticnet, logisticregression__solver=newton-cg;, score=nan total time=   0.2s\n",
      "[CV 2/5; 70/96] START logisticregression__C=1, logisticregression__penalty=elasticnet, logisticregression__solver=newton-cg\n",
      "[CV 2/5; 70/96] END logisticregression__C=1, logisticregression__penalty=elasticnet, logisticregression__solver=newton-cg;, score=nan total time=   0.2s\n",
      "[CV 3/5; 70/96] START logisticregression__C=1, logisticregression__penalty=elasticnet, logisticregression__solver=newton-cg\n",
      "[CV 3/5; 70/96] END logisticregression__C=1, logisticregression__penalty=elasticnet, logisticregression__solver=newton-cg;, score=nan total time=   0.2s\n",
      "[CV 4/5; 70/96] START logisticregression__C=1, logisticregression__penalty=elasticnet, logisticregression__solver=newton-cg\n",
      "[CV 4/5; 70/96] END logisticregression__C=1, logisticregression__penalty=elasticnet, logisticregression__solver=newton-cg;, score=nan total time=   0.2s\n",
      "[CV 5/5; 70/96] START logisticregression__C=1, logisticregression__penalty=elasticnet, logisticregression__solver=newton-cg\n",
      "[CV 5/5; 70/96] END logisticregression__C=1, logisticregression__penalty=elasticnet, logisticregression__solver=newton-cg;, score=nan total time=   0.2s\n",
      "[CV 1/5; 71/96] START logisticregression__C=1, logisticregression__penalty=elasticnet, logisticregression__solver=lbfgs\n",
      "[CV 1/5; 71/96] END logisticregression__C=1, logisticregression__penalty=elasticnet, logisticregression__solver=lbfgs;, score=nan total time=   0.2s\n",
      "[CV 2/5; 71/96] START logisticregression__C=1, logisticregression__penalty=elasticnet, logisticregression__solver=lbfgs\n",
      "[CV 2/5; 71/96] END logisticregression__C=1, logisticregression__penalty=elasticnet, logisticregression__solver=lbfgs;, score=nan total time=   0.2s\n",
      "[CV 3/5; 71/96] START logisticregression__C=1, logisticregression__penalty=elasticnet, logisticregression__solver=lbfgs\n",
      "[CV 3/5; 71/96] END logisticregression__C=1, logisticregression__penalty=elasticnet, logisticregression__solver=lbfgs;, score=nan total time=   0.2s\n",
      "[CV 4/5; 71/96] START logisticregression__C=1, logisticregression__penalty=elasticnet, logisticregression__solver=lbfgs\n",
      "[CV 4/5; 71/96] END logisticregression__C=1, logisticregression__penalty=elasticnet, logisticregression__solver=lbfgs;, score=nan total time=   0.2s\n",
      "[CV 5/5; 71/96] START logisticregression__C=1, logisticregression__penalty=elasticnet, logisticregression__solver=lbfgs\n",
      "[CV 5/5; 71/96] END logisticregression__C=1, logisticregression__penalty=elasticnet, logisticregression__solver=lbfgs;, score=nan total time=   0.2s\n",
      "[CV 1/5; 72/96] START logisticregression__C=1, logisticregression__penalty=elasticnet, logisticregression__solver=liblinear\n",
      "[CV 1/5; 72/96] END logisticregression__C=1, logisticregression__penalty=elasticnet, logisticregression__solver=liblinear;, score=nan total time=   0.2s\n",
      "[CV 2/5; 72/96] START logisticregression__C=1, logisticregression__penalty=elasticnet, logisticregression__solver=liblinear\n",
      "[CV 2/5; 72/96] END logisticregression__C=1, logisticregression__penalty=elasticnet, logisticregression__solver=liblinear;, score=nan total time=   0.2s\n",
      "[CV 3/5; 72/96] START logisticregression__C=1, logisticregression__penalty=elasticnet, logisticregression__solver=liblinear\n",
      "[CV 3/5; 72/96] END logisticregression__C=1, logisticregression__penalty=elasticnet, logisticregression__solver=liblinear;, score=nan total time=   0.2s\n",
      "[CV 4/5; 72/96] START logisticregression__C=1, logisticregression__penalty=elasticnet, logisticregression__solver=liblinear\n",
      "[CV 4/5; 72/96] END logisticregression__C=1, logisticregression__penalty=elasticnet, logisticregression__solver=liblinear;, score=nan total time=   0.2s\n",
      "[CV 5/5; 72/96] START logisticregression__C=1, logisticregression__penalty=elasticnet, logisticregression__solver=liblinear\n",
      "[CV 5/5; 72/96] END logisticregression__C=1, logisticregression__penalty=elasticnet, logisticregression__solver=liblinear;, score=nan total time=   0.2s\n",
      "[CV 1/5; 73/96] START logisticregression__C=10, logisticregression__penalty=none, logisticregression__solver=newton-cg\n"
     ]
    },
    {
     "name": "stderr",
     "output_type": "stream",
     "text": [
      "C:\\Python310\\lib\\site-packages\\sklearn\\linear_model\\_logistic.py:1113: UserWarning: Setting penalty='none' will ignore the C and l1_ratio parameters\n",
      "  warnings.warn(\n",
      "C:\\Python310\\lib\\site-packages\\scipy\\optimize\\_linesearch.py:456: LineSearchWarning: The line search algorithm did not converge\n",
      "  warn('The line search algorithm did not converge', LineSearchWarning)\n",
      "C:\\Python310\\lib\\site-packages\\scipy\\optimize\\_linesearch.py:305: LineSearchWarning: The line search algorithm did not converge\n",
      "  warn('The line search algorithm did not converge', LineSearchWarning)\n",
      "C:\\Python310\\lib\\site-packages\\sklearn\\utils\\optimize.py:210: ConvergenceWarning: newton-cg failed to converge. Increase the number of iterations.\n",
      "  warnings.warn(\n"
     ]
    },
    {
     "name": "stdout",
     "output_type": "stream",
     "text": [
      "No of FN: 10\n",
      "2697.9745116359563\n",
      "[CV 1/5; 73/96] END logisticregression__C=10, logisticregression__penalty=none, logisticregression__solver=newton-cg;, score=-2697.975 total time=  22.4s\n",
      "[CV 2/5; 73/96] START logisticregression__C=10, logisticregression__penalty=none, logisticregression__solver=newton-cg\n"
     ]
    },
    {
     "name": "stderr",
     "output_type": "stream",
     "text": [
      "C:\\Python310\\lib\\site-packages\\sklearn\\linear_model\\_logistic.py:1113: UserWarning: Setting penalty='none' will ignore the C and l1_ratio parameters\n",
      "  warnings.warn(\n",
      "C:\\Python310\\lib\\site-packages\\scipy\\optimize\\_linesearch.py:456: LineSearchWarning: The line search algorithm did not converge\n",
      "  warn('The line search algorithm did not converge', LineSearchWarning)\n",
      "C:\\Python310\\lib\\site-packages\\scipy\\optimize\\_linesearch.py:305: LineSearchWarning: The line search algorithm did not converge\n",
      "  warn('The line search algorithm did not converge', LineSearchWarning)\n",
      "C:\\Python310\\lib\\site-packages\\sklearn\\utils\\optimize.py:210: ConvergenceWarning: newton-cg failed to converge. Increase the number of iterations.\n",
      "  warnings.warn(\n"
     ]
    },
    {
     "name": "stdout",
     "output_type": "stream",
     "text": [
      "No of FN: 9\n",
      "2826.5175305753887\n",
      "[CV 2/5; 73/96] END logisticregression__C=10, logisticregression__penalty=none, logisticregression__solver=newton-cg;, score=-2826.518 total time=  21.0s\n",
      "[CV 3/5; 73/96] START logisticregression__C=10, logisticregression__penalty=none, logisticregression__solver=newton-cg\n"
     ]
    },
    {
     "name": "stderr",
     "output_type": "stream",
     "text": [
      "C:\\Python310\\lib\\site-packages\\sklearn\\linear_model\\_logistic.py:1113: UserWarning: Setting penalty='none' will ignore the C and l1_ratio parameters\n",
      "  warnings.warn(\n",
      "C:\\Python310\\lib\\site-packages\\scipy\\optimize\\_linesearch.py:456: LineSearchWarning: The line search algorithm did not converge\n",
      "  warn('The line search algorithm did not converge', LineSearchWarning)\n",
      "C:\\Python310\\lib\\site-packages\\scipy\\optimize\\_linesearch.py:305: LineSearchWarning: The line search algorithm did not converge\n",
      "  warn('The line search algorithm did not converge', LineSearchWarning)\n",
      "C:\\Python310\\lib\\site-packages\\sklearn\\utils\\optimize.py:210: ConvergenceWarning: newton-cg failed to converge. Increase the number of iterations.\n",
      "  warnings.warn(\n"
     ]
    },
    {
     "name": "stdout",
     "output_type": "stream",
     "text": [
      "No of FN: 9\n",
      "2884.99\n",
      "[CV 3/5; 73/96] END logisticregression__C=10, logisticregression__penalty=none, logisticregression__solver=newton-cg;, score=-2884.990 total time=  21.9s\n",
      "[CV 4/5; 73/96] START logisticregression__C=10, logisticregression__penalty=none, logisticregression__solver=newton-cg\n"
     ]
    },
    {
     "name": "stderr",
     "output_type": "stream",
     "text": [
      "C:\\Python310\\lib\\site-packages\\sklearn\\linear_model\\_logistic.py:1113: UserWarning: Setting penalty='none' will ignore the C and l1_ratio parameters\n",
      "  warnings.warn(\n",
      "C:\\Python310\\lib\\site-packages\\scipy\\optimize\\_linesearch.py:456: LineSearchWarning: The line search algorithm did not converge\n",
      "  warn('The line search algorithm did not converge', LineSearchWarning)\n",
      "C:\\Python310\\lib\\site-packages\\scipy\\optimize\\_linesearch.py:305: LineSearchWarning: The line search algorithm did not converge\n",
      "  warn('The line search algorithm did not converge', LineSearchWarning)\n",
      "C:\\Python310\\lib\\site-packages\\sklearn\\utils\\optimize.py:210: ConvergenceWarning: newton-cg failed to converge. Increase the number of iterations.\n",
      "  warnings.warn(\n"
     ]
    },
    {
     "name": "stdout",
     "output_type": "stream",
     "text": [
      "No of FN: 9\n",
      "3037.0239422385403\n",
      "[CV 4/5; 73/96] END logisticregression__C=10, logisticregression__penalty=none, logisticregression__solver=newton-cg;, score=-3037.024 total time=  22.0s\n",
      "[CV 5/5; 73/96] START logisticregression__C=10, logisticregression__penalty=none, logisticregression__solver=newton-cg\n"
     ]
    },
    {
     "name": "stderr",
     "output_type": "stream",
     "text": [
      "C:\\Python310\\lib\\site-packages\\sklearn\\linear_model\\_logistic.py:1113: UserWarning: Setting penalty='none' will ignore the C and l1_ratio parameters\n",
      "  warnings.warn(\n",
      "C:\\Python310\\lib\\site-packages\\scipy\\optimize\\_linesearch.py:456: LineSearchWarning: The line search algorithm did not converge\n",
      "  warn('The line search algorithm did not converge', LineSearchWarning)\n",
      "C:\\Python310\\lib\\site-packages\\scipy\\optimize\\_linesearch.py:305: LineSearchWarning: The line search algorithm did not converge\n",
      "  warn('The line search algorithm did not converge', LineSearchWarning)\n",
      "C:\\Python310\\lib\\site-packages\\sklearn\\utils\\optimize.py:210: ConvergenceWarning: newton-cg failed to converge. Increase the number of iterations.\n",
      "  warnings.warn(\n"
     ]
    },
    {
     "name": "stdout",
     "output_type": "stream",
     "text": [
      "No of FN: 6\n",
      "5054.969999999999\n",
      "[CV 5/5; 73/96] END logisticregression__C=10, logisticregression__penalty=none, logisticregression__solver=newton-cg;, score=-5054.970 total time=  23.7s\n",
      "[CV 1/5; 74/96] START logisticregression__C=10, logisticregression__penalty=none, logisticregression__solver=lbfgs\n"
     ]
    },
    {
     "name": "stderr",
     "output_type": "stream",
     "text": [
      "C:\\Python310\\lib\\site-packages\\sklearn\\linear_model\\_logistic.py:1113: UserWarning: Setting penalty='none' will ignore the C and l1_ratio parameters\n",
      "  warnings.warn(\n"
     ]
    },
    {
     "name": "stdout",
     "output_type": "stream",
     "text": [
      "No of FN: 11\n",
      "5783.5696118827345\n",
      "[CV 1/5; 74/96] END logisticregression__C=10, logisticregression__penalty=none, logisticregression__solver=lbfgs;, score=-5783.570 total time=   2.1s\n",
      "[CV 2/5; 74/96] START logisticregression__C=10, logisticregression__penalty=none, logisticregression__solver=lbfgs\n"
     ]
    },
    {
     "name": "stderr",
     "output_type": "stream",
     "text": [
      "C:\\Python310\\lib\\site-packages\\sklearn\\linear_model\\_logistic.py:1113: UserWarning: Setting penalty='none' will ignore the C and l1_ratio parameters\n",
      "  warnings.warn(\n"
     ]
    },
    {
     "name": "stdout",
     "output_type": "stream",
     "text": [
      "No of FN: 9\n",
      "5291.517530575388\n",
      "[CV 2/5; 74/96] END logisticregression__C=10, logisticregression__penalty=none, logisticregression__solver=lbfgs;, score=-5291.518 total time=   2.1s\n",
      "[CV 3/5; 74/96] START logisticregression__C=10, logisticregression__penalty=none, logisticregression__solver=lbfgs\n"
     ]
    },
    {
     "name": "stderr",
     "output_type": "stream",
     "text": [
      "C:\\Python310\\lib\\site-packages\\sklearn\\linear_model\\_logistic.py:1113: UserWarning: Setting penalty='none' will ignore the C and l1_ratio parameters\n",
      "  warnings.warn(\n"
     ]
    },
    {
     "name": "stdout",
     "output_type": "stream",
     "text": [
      "No of FN: 10\n",
      "8536.582434600648\n",
      "[CV 3/5; 74/96] END logisticregression__C=10, logisticregression__penalty=none, logisticregression__solver=lbfgs;, score=-8536.582 total time=   1.2s\n",
      "[CV 4/5; 74/96] START logisticregression__C=10, logisticregression__penalty=none, logisticregression__solver=lbfgs\n"
     ]
    },
    {
     "name": "stderr",
     "output_type": "stream",
     "text": [
      "C:\\Python310\\lib\\site-packages\\sklearn\\linear_model\\_logistic.py:1113: UserWarning: Setting penalty='none' will ignore the C and l1_ratio parameters\n",
      "  warnings.warn(\n",
      "C:\\Python310\\lib\\site-packages\\sklearn\\linear_model\\_logistic.py:444: ConvergenceWarning: lbfgs failed to converge (status=1):\n",
      "STOP: TOTAL NO. of ITERATIONS REACHED LIMIT.\n",
      "\n",
      "Increase the number of iterations (max_iter) or scale the data as shown in:\n",
      "    https://scikit-learn.org/stable/modules/preprocessing.html\n",
      "Please also refer to the documentation for alternative solver options:\n",
      "    https://scikit-learn.org/stable/modules/linear_model.html#logistic-regression\n",
      "  n_iter_i = _check_optimize_result(\n"
     ]
    },
    {
     "name": "stdout",
     "output_type": "stream",
     "text": [
      "No of FN: 7\n",
      "5538.90394223854\n",
      "[CV 4/5; 74/96] END logisticregression__C=10, logisticregression__penalty=none, logisticregression__solver=lbfgs;, score=-5538.904 total time=   2.4s\n",
      "[CV 5/5; 74/96] START logisticregression__C=10, logisticregression__penalty=none, logisticregression__solver=lbfgs\n"
     ]
    },
    {
     "name": "stderr",
     "output_type": "stream",
     "text": [
      "C:\\Python310\\lib\\site-packages\\sklearn\\linear_model\\_logistic.py:1113: UserWarning: Setting penalty='none' will ignore the C and l1_ratio parameters\n",
      "  warnings.warn(\n"
     ]
    },
    {
     "name": "stdout",
     "output_type": "stream",
     "text": [
      "No of FN: 6\n",
      "8147.539999999999\n",
      "[CV 5/5; 74/96] END logisticregression__C=10, logisticregression__penalty=none, logisticregression__solver=lbfgs;, score=-8147.540 total time=   1.9s\n",
      "[CV 1/5; 75/96] START logisticregression__C=10, logisticregression__penalty=none, logisticregression__solver=liblinear\n",
      "[CV 1/5; 75/96] END logisticregression__C=10, logisticregression__penalty=none, logisticregression__solver=liblinear;, score=nan total time=   0.2s\n",
      "[CV 2/5; 75/96] START logisticregression__C=10, logisticregression__penalty=none, logisticregression__solver=liblinear\n",
      "[CV 2/5; 75/96] END logisticregression__C=10, logisticregression__penalty=none, logisticregression__solver=liblinear;, score=nan total time=   0.2s\n",
      "[CV 3/5; 75/96] START logisticregression__C=10, logisticregression__penalty=none, logisticregression__solver=liblinear\n",
      "[CV 3/5; 75/96] END logisticregression__C=10, logisticregression__penalty=none, logisticregression__solver=liblinear;, score=nan total time=   0.2s\n",
      "[CV 4/5; 75/96] START logisticregression__C=10, logisticregression__penalty=none, logisticregression__solver=liblinear\n",
      "[CV 4/5; 75/96] END logisticregression__C=10, logisticregression__penalty=none, logisticregression__solver=liblinear;, score=nan total time=   0.2s\n",
      "[CV 5/5; 75/96] START logisticregression__C=10, logisticregression__penalty=none, logisticregression__solver=liblinear\n",
      "[CV 5/5; 75/96] END logisticregression__C=10, logisticregression__penalty=none, logisticregression__solver=liblinear;, score=nan total time=   0.2s\n",
      "[CV 1/5; 76/96] START logisticregression__C=10, logisticregression__penalty=l1, logisticregression__solver=newton-cg\n",
      "[CV 1/5; 76/96] END logisticregression__C=10, logisticregression__penalty=l1, logisticregression__solver=newton-cg;, score=nan total time=   0.2s\n",
      "[CV 2/5; 76/96] START logisticregression__C=10, logisticregression__penalty=l1, logisticregression__solver=newton-cg\n",
      "[CV 2/5; 76/96] END logisticregression__C=10, logisticregression__penalty=l1, logisticregression__solver=newton-cg;, score=nan total time=   0.2s\n",
      "[CV 3/5; 76/96] START logisticregression__C=10, logisticregression__penalty=l1, logisticregression__solver=newton-cg\n",
      "[CV 3/5; 76/96] END logisticregression__C=10, logisticregression__penalty=l1, logisticregression__solver=newton-cg;, score=nan total time=   0.2s\n",
      "[CV 4/5; 76/96] START logisticregression__C=10, logisticregression__penalty=l1, logisticregression__solver=newton-cg\n",
      "[CV 4/5; 76/96] END logisticregression__C=10, logisticregression__penalty=l1, logisticregression__solver=newton-cg;, score=nan total time=   0.2s\n",
      "[CV 5/5; 76/96] START logisticregression__C=10, logisticregression__penalty=l1, logisticregression__solver=newton-cg\n",
      "[CV 5/5; 76/96] END logisticregression__C=10, logisticregression__penalty=l1, logisticregression__solver=newton-cg;, score=nan total time=   0.2s\n",
      "[CV 1/5; 77/96] START logisticregression__C=10, logisticregression__penalty=l1, logisticregression__solver=lbfgs\n",
      "[CV 1/5; 77/96] END logisticregression__C=10, logisticregression__penalty=l1, logisticregression__solver=lbfgs;, score=nan total time=   0.2s\n",
      "[CV 2/5; 77/96] START logisticregression__C=10, logisticregression__penalty=l1, logisticregression__solver=lbfgs\n",
      "[CV 2/5; 77/96] END logisticregression__C=10, logisticregression__penalty=l1, logisticregression__solver=lbfgs;, score=nan total time=   0.2s\n",
      "[CV 3/5; 77/96] START logisticregression__C=10, logisticregression__penalty=l1, logisticregression__solver=lbfgs\n",
      "[CV 3/5; 77/96] END logisticregression__C=10, logisticregression__penalty=l1, logisticregression__solver=lbfgs;, score=nan total time=   0.2s\n",
      "[CV 4/5; 77/96] START logisticregression__C=10, logisticregression__penalty=l1, logisticregression__solver=lbfgs\n",
      "[CV 4/5; 77/96] END logisticregression__C=10, logisticregression__penalty=l1, logisticregression__solver=lbfgs;, score=nan total time=   0.2s\n",
      "[CV 5/5; 77/96] START logisticregression__C=10, logisticregression__penalty=l1, logisticregression__solver=lbfgs\n",
      "[CV 5/5; 77/96] END logisticregression__C=10, logisticregression__penalty=l1, logisticregression__solver=lbfgs;, score=nan total time=   0.2s\n",
      "[CV 1/5; 78/96] START logisticregression__C=10, logisticregression__penalty=l1, logisticregression__solver=liblinear\n",
      "No of FN: 10\n",
      "2697.9745116359563\n",
      "[CV 1/5; 78/96] END logisticregression__C=10, logisticregression__penalty=l1, logisticregression__solver=liblinear;, score=-2697.975 total time=   8.2s\n",
      "[CV 2/5; 78/96] START logisticregression__C=10, logisticregression__penalty=l1, logisticregression__solver=liblinear\n",
      "No of FN: 9\n",
      "2806.5175305753887\n",
      "[CV 2/5; 78/96] END logisticregression__C=10, logisticregression__penalty=l1, logisticregression__solver=liblinear;, score=-2806.518 total time=  12.4s\n",
      "[CV 3/5; 78/96] START logisticregression__C=10, logisticregression__penalty=l1, logisticregression__solver=liblinear\n",
      "No of FN: 9\n",
      "2939.99\n",
      "[CV 3/5; 78/96] END logisticregression__C=10, logisticregression__penalty=l1, logisticregression__solver=liblinear;, score=-2939.990 total time=  12.3s\n",
      "[CV 4/5; 78/96] START logisticregression__C=10, logisticregression__penalty=l1, logisticregression__solver=liblinear\n",
      "No of FN: 9\n",
      "2992.0239422385403\n",
      "[CV 4/5; 78/96] END logisticregression__C=10, logisticregression__penalty=l1, logisticregression__solver=liblinear;, score=-2992.024 total time=   7.4s\n",
      "[CV 5/5; 78/96] START logisticregression__C=10, logisticregression__penalty=l1, logisticregression__solver=liblinear\n",
      "No of FN: 6\n",
      "5074.969999999999\n",
      "[CV 5/5; 78/96] END logisticregression__C=10, logisticregression__penalty=l1, logisticregression__solver=liblinear;, score=-5074.970 total time=  10.8s\n",
      "[CV 1/5; 79/96] START logisticregression__C=10, logisticregression__penalty=l2, logisticregression__solver=newton-cg\n"
     ]
    },
    {
     "name": "stderr",
     "output_type": "stream",
     "text": [
      "C:\\Python310\\lib\\site-packages\\scipy\\optimize\\_linesearch.py:456: LineSearchWarning: The line search algorithm did not converge\n",
      "  warn('The line search algorithm did not converge', LineSearchWarning)\n",
      "C:\\Python310\\lib\\site-packages\\scipy\\optimize\\_linesearch.py:305: LineSearchWarning: The line search algorithm did not converge\n",
      "  warn('The line search algorithm did not converge', LineSearchWarning)\n",
      "C:\\Python310\\lib\\site-packages\\sklearn\\utils\\optimize.py:210: ConvergenceWarning: newton-cg failed to converge. Increase the number of iterations.\n",
      "  warnings.warn(\n"
     ]
    },
    {
     "name": "stdout",
     "output_type": "stream",
     "text": [
      "No of FN: 10\n",
      "2672.9745116359563\n",
      "[CV 1/5; 79/96] END logisticregression__C=10, logisticregression__penalty=l2, logisticregression__solver=newton-cg;, score=-2672.975 total time=  22.5s\n",
      "[CV 2/5; 79/96] START logisticregression__C=10, logisticregression__penalty=l2, logisticregression__solver=newton-cg\n"
     ]
    },
    {
     "name": "stderr",
     "output_type": "stream",
     "text": [
      "C:\\Python310\\lib\\site-packages\\scipy\\optimize\\_linesearch.py:456: LineSearchWarning: The line search algorithm did not converge\n",
      "  warn('The line search algorithm did not converge', LineSearchWarning)\n",
      "C:\\Python310\\lib\\site-packages\\scipy\\optimize\\_linesearch.py:305: LineSearchWarning: The line search algorithm did not converge\n",
      "  warn('The line search algorithm did not converge', LineSearchWarning)\n",
      "C:\\Python310\\lib\\site-packages\\sklearn\\utils\\optimize.py:210: ConvergenceWarning: newton-cg failed to converge. Increase the number of iterations.\n",
      "  warnings.warn(\n"
     ]
    },
    {
     "name": "stdout",
     "output_type": "stream",
     "text": [
      "No of FN: 9\n",
      "2806.5175305753887\n",
      "[CV 2/5; 79/96] END logisticregression__C=10, logisticregression__penalty=l2, logisticregression__solver=newton-cg;, score=-2806.518 total time=  22.1s\n",
      "[CV 3/5; 79/96] START logisticregression__C=10, logisticregression__penalty=l2, logisticregression__solver=newton-cg\n"
     ]
    },
    {
     "name": "stderr",
     "output_type": "stream",
     "text": [
      "C:\\Python310\\lib\\site-packages\\sklearn\\utils\\optimize.py:210: ConvergenceWarning: newton-cg failed to converge. Increase the number of iterations.\n",
      "  warnings.warn(\n"
     ]
    },
    {
     "name": "stdout",
     "output_type": "stream",
     "text": [
      "No of FN: 9\n",
      "2909.99\n",
      "[CV 3/5; 79/96] END logisticregression__C=10, logisticregression__penalty=l2, logisticregression__solver=newton-cg;, score=-2909.990 total time=  21.9s\n",
      "[CV 4/5; 79/96] START logisticregression__C=10, logisticregression__penalty=l2, logisticregression__solver=newton-cg\n"
     ]
    },
    {
     "name": "stderr",
     "output_type": "stream",
     "text": [
      "C:\\Python310\\lib\\site-packages\\sklearn\\utils\\optimize.py:210: ConvergenceWarning: newton-cg failed to converge. Increase the number of iterations.\n",
      "  warnings.warn(\n"
     ]
    },
    {
     "name": "stdout",
     "output_type": "stream",
     "text": [
      "No of FN: 9\n",
      "3032.0239422385403\n",
      "[CV 4/5; 79/96] END logisticregression__C=10, logisticregression__penalty=l2, logisticregression__solver=newton-cg;, score=-3032.024 total time=  21.6s\n",
      "[CV 5/5; 79/96] START logisticregression__C=10, logisticregression__penalty=l2, logisticregression__solver=newton-cg\n"
     ]
    },
    {
     "name": "stderr",
     "output_type": "stream",
     "text": [
      "C:\\Python310\\lib\\site-packages\\scipy\\optimize\\_linesearch.py:456: LineSearchWarning: The line search algorithm did not converge\n",
      "  warn('The line search algorithm did not converge', LineSearchWarning)\n",
      "C:\\Python310\\lib\\site-packages\\scipy\\optimize\\_linesearch.py:305: LineSearchWarning: The line search algorithm did not converge\n",
      "  warn('The line search algorithm did not converge', LineSearchWarning)\n",
      "C:\\Python310\\lib\\site-packages\\sklearn\\utils\\optimize.py:210: ConvergenceWarning: newton-cg failed to converge. Increase the number of iterations.\n",
      "  warnings.warn(\n"
     ]
    },
    {
     "name": "stdout",
     "output_type": "stream",
     "text": [
      "No of FN: 6\n",
      "5044.969999999999\n",
      "[CV 5/5; 79/96] END logisticregression__C=10, logisticregression__penalty=l2, logisticregression__solver=newton-cg;, score=-5044.970 total time=  22.6s\n",
      "[CV 1/5; 80/96] START logisticregression__C=10, logisticregression__penalty=l2, logisticregression__solver=lbfgs\n",
      "No of FN: 11\n",
      "5783.5696118827345\n",
      "[CV 1/5; 80/96] END logisticregression__C=10, logisticregression__penalty=l2, logisticregression__solver=lbfgs;, score=-5783.570 total time=   2.1s\n",
      "[CV 2/5; 80/96] START logisticregression__C=10, logisticregression__penalty=l2, logisticregression__solver=lbfgs\n",
      "No of FN: 9\n",
      "5291.517530575388\n",
      "[CV 2/5; 80/96] END logisticregression__C=10, logisticregression__penalty=l2, logisticregression__solver=lbfgs;, score=-5291.518 total time=   2.1s\n",
      "[CV 3/5; 80/96] START logisticregression__C=10, logisticregression__penalty=l2, logisticregression__solver=lbfgs\n",
      "No of FN: 10\n",
      "8536.582434600648\n",
      "[CV 3/5; 80/96] END logisticregression__C=10, logisticregression__penalty=l2, logisticregression__solver=lbfgs;, score=-8536.582 total time=   1.3s\n",
      "[CV 4/5; 80/96] START logisticregression__C=10, logisticregression__penalty=l2, logisticregression__solver=lbfgs\n"
     ]
    },
    {
     "name": "stderr",
     "output_type": "stream",
     "text": [
      "C:\\Python310\\lib\\site-packages\\sklearn\\linear_model\\_logistic.py:444: ConvergenceWarning: lbfgs failed to converge (status=1):\n",
      "STOP: TOTAL NO. of ITERATIONS REACHED LIMIT.\n",
      "\n",
      "Increase the number of iterations (max_iter) or scale the data as shown in:\n",
      "    https://scikit-learn.org/stable/modules/preprocessing.html\n",
      "Please also refer to the documentation for alternative solver options:\n",
      "    https://scikit-learn.org/stable/modules/linear_model.html#logistic-regression\n",
      "  n_iter_i = _check_optimize_result(\n"
     ]
    },
    {
     "name": "stdout",
     "output_type": "stream",
     "text": [
      "No of FN: 7\n",
      "5518.90394223854\n",
      "[CV 4/5; 80/96] END logisticregression__C=10, logisticregression__penalty=l2, logisticregression__solver=lbfgs;, score=-5518.904 total time=   2.5s\n",
      "[CV 5/5; 80/96] START logisticregression__C=10, logisticregression__penalty=l2, logisticregression__solver=lbfgs\n"
     ]
    },
    {
     "name": "stderr",
     "output_type": "stream",
     "text": [
      "C:\\Python310\\lib\\site-packages\\sklearn\\linear_model\\_logistic.py:444: ConvergenceWarning: lbfgs failed to converge (status=1):\n",
      "STOP: TOTAL NO. of ITERATIONS REACHED LIMIT.\n",
      "\n",
      "Increase the number of iterations (max_iter) or scale the data as shown in:\n",
      "    https://scikit-learn.org/stable/modules/preprocessing.html\n",
      "Please also refer to the documentation for alternative solver options:\n",
      "    https://scikit-learn.org/stable/modules/linear_model.html#logistic-regression\n",
      "  n_iter_i = _check_optimize_result(\n"
     ]
    },
    {
     "name": "stdout",
     "output_type": "stream",
     "text": [
      "No of FN: 6\n",
      "6942.539999999999\n",
      "[CV 5/5; 80/96] END logisticregression__C=10, logisticregression__penalty=l2, logisticregression__solver=lbfgs;, score=-6942.540 total time=   2.5s\n",
      "[CV 1/5; 81/96] START logisticregression__C=10, logisticregression__penalty=l2, logisticregression__solver=liblinear\n",
      "No of FN: 11\n",
      "4413.844511635956\n",
      "[CV 1/5; 81/96] END logisticregression__C=10, logisticregression__penalty=l2, logisticregression__solver=liblinear;, score=-4413.845 total time=   2.9s\n",
      "[CV 2/5; 81/96] START logisticregression__C=10, logisticregression__penalty=l2, logisticregression__solver=liblinear\n",
      "No of FN: 9\n",
      "4231.517530575388\n",
      "[CV 2/5; 81/96] END logisticregression__C=10, logisticregression__penalty=l2, logisticregression__solver=liblinear;, score=-4231.518 total time=   2.9s\n",
      "[CV 3/5; 81/96] START logisticregression__C=10, logisticregression__penalty=l2, logisticregression__solver=liblinear\n",
      "No of FN: 8\n",
      "4655.7\n",
      "[CV 3/5; 81/96] END logisticregression__C=10, logisticregression__penalty=l2, logisticregression__solver=liblinear;, score=-4655.700 total time=   2.9s\n",
      "[CV 4/5; 81/96] START logisticregression__C=10, logisticregression__penalty=l2, logisticregression__solver=liblinear\n",
      "No of FN: 8\n",
      "4888.02394223854\n",
      "[CV 4/5; 81/96] END logisticregression__C=10, logisticregression__penalty=l2, logisticregression__solver=liblinear;, score=-4888.024 total time=   2.8s\n",
      "[CV 5/5; 81/96] START logisticregression__C=10, logisticregression__penalty=l2, logisticregression__solver=liblinear\n",
      "No of FN: 9\n",
      "5907.792276488321\n",
      "[CV 5/5; 81/96] END logisticregression__C=10, logisticregression__penalty=l2, logisticregression__solver=liblinear;, score=-5907.792 total time=   2.3s\n",
      "[CV 1/5; 82/96] START logisticregression__C=10, logisticregression__penalty=elasticnet, logisticregression__solver=newton-cg\n",
      "[CV 1/5; 82/96] END logisticregression__C=10, logisticregression__penalty=elasticnet, logisticregression__solver=newton-cg;, score=nan total time=   0.2s\n",
      "[CV 2/5; 82/96] START logisticregression__C=10, logisticregression__penalty=elasticnet, logisticregression__solver=newton-cg\n",
      "[CV 2/5; 82/96] END logisticregression__C=10, logisticregression__penalty=elasticnet, logisticregression__solver=newton-cg;, score=nan total time=   0.2s\n",
      "[CV 3/5; 82/96] START logisticregression__C=10, logisticregression__penalty=elasticnet, logisticregression__solver=newton-cg\n",
      "[CV 3/5; 82/96] END logisticregression__C=10, logisticregression__penalty=elasticnet, logisticregression__solver=newton-cg;, score=nan total time=   0.2s\n",
      "[CV 4/5; 82/96] START logisticregression__C=10, logisticregression__penalty=elasticnet, logisticregression__solver=newton-cg\n",
      "[CV 4/5; 82/96] END logisticregression__C=10, logisticregression__penalty=elasticnet, logisticregression__solver=newton-cg;, score=nan total time=   0.2s\n",
      "[CV 5/5; 82/96] START logisticregression__C=10, logisticregression__penalty=elasticnet, logisticregression__solver=newton-cg\n",
      "[CV 5/5; 82/96] END logisticregression__C=10, logisticregression__penalty=elasticnet, logisticregression__solver=newton-cg;, score=nan total time=   0.2s\n",
      "[CV 1/5; 83/96] START logisticregression__C=10, logisticregression__penalty=elasticnet, logisticregression__solver=lbfgs\n",
      "[CV 1/5; 83/96] END logisticregression__C=10, logisticregression__penalty=elasticnet, logisticregression__solver=lbfgs;, score=nan total time=   0.2s\n",
      "[CV 2/5; 83/96] START logisticregression__C=10, logisticregression__penalty=elasticnet, logisticregression__solver=lbfgs\n",
      "[CV 2/5; 83/96] END logisticregression__C=10, logisticregression__penalty=elasticnet, logisticregression__solver=lbfgs;, score=nan total time=   0.2s\n",
      "[CV 3/5; 83/96] START logisticregression__C=10, logisticregression__penalty=elasticnet, logisticregression__solver=lbfgs\n",
      "[CV 3/5; 83/96] END logisticregression__C=10, logisticregression__penalty=elasticnet, logisticregression__solver=lbfgs;, score=nan total time=   0.2s\n",
      "[CV 4/5; 83/96] START logisticregression__C=10, logisticregression__penalty=elasticnet, logisticregression__solver=lbfgs\n",
      "[CV 4/5; 83/96] END logisticregression__C=10, logisticregression__penalty=elasticnet, logisticregression__solver=lbfgs;, score=nan total time=   0.2s\n",
      "[CV 5/5; 83/96] START logisticregression__C=10, logisticregression__penalty=elasticnet, logisticregression__solver=lbfgs\n",
      "[CV 5/5; 83/96] END logisticregression__C=10, logisticregression__penalty=elasticnet, logisticregression__solver=lbfgs;, score=nan total time=   0.2s\n",
      "[CV 1/5; 84/96] START logisticregression__C=10, logisticregression__penalty=elasticnet, logisticregression__solver=liblinear\n",
      "[CV 1/5; 84/96] END logisticregression__C=10, logisticregression__penalty=elasticnet, logisticregression__solver=liblinear;, score=nan total time=   0.2s\n",
      "[CV 2/5; 84/96] START logisticregression__C=10, logisticregression__penalty=elasticnet, logisticregression__solver=liblinear\n",
      "[CV 2/5; 84/96] END logisticregression__C=10, logisticregression__penalty=elasticnet, logisticregression__solver=liblinear;, score=nan total time=   0.2s\n",
      "[CV 3/5; 84/96] START logisticregression__C=10, logisticregression__penalty=elasticnet, logisticregression__solver=liblinear\n",
      "[CV 3/5; 84/96] END logisticregression__C=10, logisticregression__penalty=elasticnet, logisticregression__solver=liblinear;, score=nan total time=   0.2s\n",
      "[CV 4/5; 84/96] START logisticregression__C=10, logisticregression__penalty=elasticnet, logisticregression__solver=liblinear\n",
      "[CV 4/5; 84/96] END logisticregression__C=10, logisticregression__penalty=elasticnet, logisticregression__solver=liblinear;, score=nan total time=   0.2s\n",
      "[CV 5/5; 84/96] START logisticregression__C=10, logisticregression__penalty=elasticnet, logisticregression__solver=liblinear\n",
      "[CV 5/5; 84/96] END logisticregression__C=10, logisticregression__penalty=elasticnet, logisticregression__solver=liblinear;, score=nan total time=   0.2s\n",
      "[CV 1/5; 85/96] START logisticregression__C=100, logisticregression__penalty=none, logisticregression__solver=newton-cg\n"
     ]
    },
    {
     "name": "stderr",
     "output_type": "stream",
     "text": [
      "C:\\Python310\\lib\\site-packages\\sklearn\\linear_model\\_logistic.py:1113: UserWarning: Setting penalty='none' will ignore the C and l1_ratio parameters\n",
      "  warnings.warn(\n",
      "C:\\Python310\\lib\\site-packages\\scipy\\optimize\\_linesearch.py:456: LineSearchWarning: The line search algorithm did not converge\n",
      "  warn('The line search algorithm did not converge', LineSearchWarning)\n",
      "C:\\Python310\\lib\\site-packages\\scipy\\optimize\\_linesearch.py:305: LineSearchWarning: The line search algorithm did not converge\n",
      "  warn('The line search algorithm did not converge', LineSearchWarning)\n",
      "C:\\Python310\\lib\\site-packages\\sklearn\\utils\\optimize.py:210: ConvergenceWarning: newton-cg failed to converge. Increase the number of iterations.\n",
      "  warnings.warn(\n"
     ]
    },
    {
     "name": "stdout",
     "output_type": "stream",
     "text": [
      "No of FN: 10\n",
      "2697.9745116359563\n",
      "[CV 1/5; 85/96] END logisticregression__C=100, logisticregression__penalty=none, logisticregression__solver=newton-cg;, score=-2697.975 total time=  22.4s\n",
      "[CV 2/5; 85/96] START logisticregression__C=100, logisticregression__penalty=none, logisticregression__solver=newton-cg\n"
     ]
    },
    {
     "name": "stderr",
     "output_type": "stream",
     "text": [
      "C:\\Python310\\lib\\site-packages\\sklearn\\linear_model\\_logistic.py:1113: UserWarning: Setting penalty='none' will ignore the C and l1_ratio parameters\n",
      "  warnings.warn(\n",
      "C:\\Python310\\lib\\site-packages\\scipy\\optimize\\_linesearch.py:456: LineSearchWarning: The line search algorithm did not converge\n",
      "  warn('The line search algorithm did not converge', LineSearchWarning)\n",
      "C:\\Python310\\lib\\site-packages\\scipy\\optimize\\_linesearch.py:305: LineSearchWarning: The line search algorithm did not converge\n",
      "  warn('The line search algorithm did not converge', LineSearchWarning)\n",
      "C:\\Python310\\lib\\site-packages\\sklearn\\utils\\optimize.py:210: ConvergenceWarning: newton-cg failed to converge. Increase the number of iterations.\n",
      "  warnings.warn(\n"
     ]
    },
    {
     "name": "stdout",
     "output_type": "stream",
     "text": [
      "No of FN: 9\n",
      "2826.5175305753887\n",
      "[CV 2/5; 85/96] END logisticregression__C=100, logisticregression__penalty=none, logisticregression__solver=newton-cg;, score=-2826.518 total time=  21.1s\n",
      "[CV 3/5; 85/96] START logisticregression__C=100, logisticregression__penalty=none, logisticregression__solver=newton-cg\n"
     ]
    },
    {
     "name": "stderr",
     "output_type": "stream",
     "text": [
      "C:\\Python310\\lib\\site-packages\\sklearn\\linear_model\\_logistic.py:1113: UserWarning: Setting penalty='none' will ignore the C and l1_ratio parameters\n",
      "  warnings.warn(\n",
      "C:\\Python310\\lib\\site-packages\\scipy\\optimize\\_linesearch.py:456: LineSearchWarning: The line search algorithm did not converge\n",
      "  warn('The line search algorithm did not converge', LineSearchWarning)\n",
      "C:\\Python310\\lib\\site-packages\\scipy\\optimize\\_linesearch.py:305: LineSearchWarning: The line search algorithm did not converge\n",
      "  warn('The line search algorithm did not converge', LineSearchWarning)\n",
      "C:\\Python310\\lib\\site-packages\\sklearn\\utils\\optimize.py:210: ConvergenceWarning: newton-cg failed to converge. Increase the number of iterations.\n",
      "  warnings.warn(\n"
     ]
    },
    {
     "name": "stdout",
     "output_type": "stream",
     "text": [
      "No of FN: 9\n",
      "2884.99\n",
      "[CV 3/5; 85/96] END logisticregression__C=100, logisticregression__penalty=none, logisticregression__solver=newton-cg;, score=-2884.990 total time=  22.0s\n",
      "[CV 4/5; 85/96] START logisticregression__C=100, logisticregression__penalty=none, logisticregression__solver=newton-cg\n"
     ]
    },
    {
     "name": "stderr",
     "output_type": "stream",
     "text": [
      "C:\\Python310\\lib\\site-packages\\sklearn\\linear_model\\_logistic.py:1113: UserWarning: Setting penalty='none' will ignore the C and l1_ratio parameters\n",
      "  warnings.warn(\n",
      "C:\\Python310\\lib\\site-packages\\scipy\\optimize\\_linesearch.py:456: LineSearchWarning: The line search algorithm did not converge\n",
      "  warn('The line search algorithm did not converge', LineSearchWarning)\n",
      "C:\\Python310\\lib\\site-packages\\scipy\\optimize\\_linesearch.py:305: LineSearchWarning: The line search algorithm did not converge\n",
      "  warn('The line search algorithm did not converge', LineSearchWarning)\n",
      "C:\\Python310\\lib\\site-packages\\sklearn\\utils\\optimize.py:210: ConvergenceWarning: newton-cg failed to converge. Increase the number of iterations.\n",
      "  warnings.warn(\n"
     ]
    },
    {
     "name": "stdout",
     "output_type": "stream",
     "text": [
      "No of FN: 9\n",
      "3037.0239422385403\n",
      "[CV 4/5; 85/96] END logisticregression__C=100, logisticregression__penalty=none, logisticregression__solver=newton-cg;, score=-3037.024 total time=  22.0s\n",
      "[CV 5/5; 85/96] START logisticregression__C=100, logisticregression__penalty=none, logisticregression__solver=newton-cg\n"
     ]
    },
    {
     "name": "stderr",
     "output_type": "stream",
     "text": [
      "C:\\Python310\\lib\\site-packages\\sklearn\\linear_model\\_logistic.py:1113: UserWarning: Setting penalty='none' will ignore the C and l1_ratio parameters\n",
      "  warnings.warn(\n",
      "C:\\Python310\\lib\\site-packages\\scipy\\optimize\\_linesearch.py:456: LineSearchWarning: The line search algorithm did not converge\n",
      "  warn('The line search algorithm did not converge', LineSearchWarning)\n",
      "C:\\Python310\\lib\\site-packages\\scipy\\optimize\\_linesearch.py:305: LineSearchWarning: The line search algorithm did not converge\n",
      "  warn('The line search algorithm did not converge', LineSearchWarning)\n",
      "C:\\Python310\\lib\\site-packages\\sklearn\\utils\\optimize.py:210: ConvergenceWarning: newton-cg failed to converge. Increase the number of iterations.\n",
      "  warnings.warn(\n"
     ]
    },
    {
     "name": "stdout",
     "output_type": "stream",
     "text": [
      "No of FN: 6\n",
      "5054.969999999999\n",
      "[CV 5/5; 85/96] END logisticregression__C=100, logisticregression__penalty=none, logisticregression__solver=newton-cg;, score=-5054.970 total time=  23.6s\n",
      "[CV 1/5; 86/96] START logisticregression__C=100, logisticregression__penalty=none, logisticregression__solver=lbfgs\n"
     ]
    },
    {
     "name": "stderr",
     "output_type": "stream",
     "text": [
      "C:\\Python310\\lib\\site-packages\\sklearn\\linear_model\\_logistic.py:1113: UserWarning: Setting penalty='none' will ignore the C and l1_ratio parameters\n",
      "  warnings.warn(\n"
     ]
    },
    {
     "name": "stdout",
     "output_type": "stream",
     "text": [
      "No of FN: 11\n",
      "5783.5696118827345\n",
      "[CV 1/5; 86/96] END logisticregression__C=100, logisticregression__penalty=none, logisticregression__solver=lbfgs;, score=-5783.570 total time=   2.1s\n",
      "[CV 2/5; 86/96] START logisticregression__C=100, logisticregression__penalty=none, logisticregression__solver=lbfgs\n"
     ]
    },
    {
     "name": "stderr",
     "output_type": "stream",
     "text": [
      "C:\\Python310\\lib\\site-packages\\sklearn\\linear_model\\_logistic.py:1113: UserWarning: Setting penalty='none' will ignore the C and l1_ratio parameters\n",
      "  warnings.warn(\n"
     ]
    },
    {
     "name": "stdout",
     "output_type": "stream",
     "text": [
      "No of FN: 9\n",
      "5291.517530575388\n",
      "[CV 2/5; 86/96] END logisticregression__C=100, logisticregression__penalty=none, logisticregression__solver=lbfgs;, score=-5291.518 total time=   2.1s\n",
      "[CV 3/5; 86/96] START logisticregression__C=100, logisticregression__penalty=none, logisticregression__solver=lbfgs\n"
     ]
    },
    {
     "name": "stderr",
     "output_type": "stream",
     "text": [
      "C:\\Python310\\lib\\site-packages\\sklearn\\linear_model\\_logistic.py:1113: UserWarning: Setting penalty='none' will ignore the C and l1_ratio parameters\n",
      "  warnings.warn(\n"
     ]
    },
    {
     "name": "stdout",
     "output_type": "stream",
     "text": [
      "No of FN: 10\n",
      "8536.582434600648\n",
      "[CV 3/5; 86/96] END logisticregression__C=100, logisticregression__penalty=none, logisticregression__solver=lbfgs;, score=-8536.582 total time=   1.2s\n",
      "[CV 4/5; 86/96] START logisticregression__C=100, logisticregression__penalty=none, logisticregression__solver=lbfgs\n"
     ]
    },
    {
     "name": "stderr",
     "output_type": "stream",
     "text": [
      "C:\\Python310\\lib\\site-packages\\sklearn\\linear_model\\_logistic.py:1113: UserWarning: Setting penalty='none' will ignore the C and l1_ratio parameters\n",
      "  warnings.warn(\n",
      "C:\\Python310\\lib\\site-packages\\sklearn\\linear_model\\_logistic.py:444: ConvergenceWarning: lbfgs failed to converge (status=1):\n",
      "STOP: TOTAL NO. of ITERATIONS REACHED LIMIT.\n",
      "\n",
      "Increase the number of iterations (max_iter) or scale the data as shown in:\n",
      "    https://scikit-learn.org/stable/modules/preprocessing.html\n",
      "Please also refer to the documentation for alternative solver options:\n",
      "    https://scikit-learn.org/stable/modules/linear_model.html#logistic-regression\n",
      "  n_iter_i = _check_optimize_result(\n"
     ]
    },
    {
     "name": "stdout",
     "output_type": "stream",
     "text": [
      "No of FN: 7\n",
      "5538.90394223854\n",
      "[CV 4/5; 86/96] END logisticregression__C=100, logisticregression__penalty=none, logisticregression__solver=lbfgs;, score=-5538.904 total time=   2.4s\n",
      "[CV 5/5; 86/96] START logisticregression__C=100, logisticregression__penalty=none, logisticregression__solver=lbfgs\n"
     ]
    },
    {
     "name": "stderr",
     "output_type": "stream",
     "text": [
      "C:\\Python310\\lib\\site-packages\\sklearn\\linear_model\\_logistic.py:1113: UserWarning: Setting penalty='none' will ignore the C and l1_ratio parameters\n",
      "  warnings.warn(\n"
     ]
    },
    {
     "name": "stdout",
     "output_type": "stream",
     "text": [
      "No of FN: 6\n",
      "8147.539999999999\n",
      "[CV 5/5; 86/96] END logisticregression__C=100, logisticregression__penalty=none, logisticregression__solver=lbfgs;, score=-8147.540 total time=   1.9s\n",
      "[CV 1/5; 87/96] START logisticregression__C=100, logisticregression__penalty=none, logisticregression__solver=liblinear\n",
      "[CV 1/5; 87/96] END logisticregression__C=100, logisticregression__penalty=none, logisticregression__solver=liblinear;, score=nan total time=   0.2s\n",
      "[CV 2/5; 87/96] START logisticregression__C=100, logisticregression__penalty=none, logisticregression__solver=liblinear\n",
      "[CV 2/5; 87/96] END logisticregression__C=100, logisticregression__penalty=none, logisticregression__solver=liblinear;, score=nan total time=   0.2s\n",
      "[CV 3/5; 87/96] START logisticregression__C=100, logisticregression__penalty=none, logisticregression__solver=liblinear\n",
      "[CV 3/5; 87/96] END logisticregression__C=100, logisticregression__penalty=none, logisticregression__solver=liblinear;, score=nan total time=   0.2s\n",
      "[CV 4/5; 87/96] START logisticregression__C=100, logisticregression__penalty=none, logisticregression__solver=liblinear\n",
      "[CV 4/5; 87/96] END logisticregression__C=100, logisticregression__penalty=none, logisticregression__solver=liblinear;, score=nan total time=   0.2s\n",
      "[CV 5/5; 87/96] START logisticregression__C=100, logisticregression__penalty=none, logisticregression__solver=liblinear\n",
      "[CV 5/5; 87/96] END logisticregression__C=100, logisticregression__penalty=none, logisticregression__solver=liblinear;, score=nan total time=   0.2s\n",
      "[CV 1/5; 88/96] START logisticregression__C=100, logisticregression__penalty=l1, logisticregression__solver=newton-cg\n",
      "[CV 1/5; 88/96] END logisticregression__C=100, logisticregression__penalty=l1, logisticregression__solver=newton-cg;, score=nan total time=   0.2s\n",
      "[CV 2/5; 88/96] START logisticregression__C=100, logisticregression__penalty=l1, logisticregression__solver=newton-cg\n",
      "[CV 2/5; 88/96] END logisticregression__C=100, logisticregression__penalty=l1, logisticregression__solver=newton-cg;, score=nan total time=   0.2s\n",
      "[CV 3/5; 88/96] START logisticregression__C=100, logisticregression__penalty=l1, logisticregression__solver=newton-cg\n",
      "[CV 3/5; 88/96] END logisticregression__C=100, logisticregression__penalty=l1, logisticregression__solver=newton-cg;, score=nan total time=   0.2s\n",
      "[CV 4/5; 88/96] START logisticregression__C=100, logisticregression__penalty=l1, logisticregression__solver=newton-cg\n",
      "[CV 4/5; 88/96] END logisticregression__C=100, logisticregression__penalty=l1, logisticregression__solver=newton-cg;, score=nan total time=   0.2s\n",
      "[CV 5/5; 88/96] START logisticregression__C=100, logisticregression__penalty=l1, logisticregression__solver=newton-cg\n",
      "[CV 5/5; 88/96] END logisticregression__C=100, logisticregression__penalty=l1, logisticregression__solver=newton-cg;, score=nan total time=   0.2s\n",
      "[CV 1/5; 89/96] START logisticregression__C=100, logisticregression__penalty=l1, logisticregression__solver=lbfgs\n",
      "[CV 1/5; 89/96] END logisticregression__C=100, logisticregression__penalty=l1, logisticregression__solver=lbfgs;, score=nan total time=   0.2s\n",
      "[CV 2/5; 89/96] START logisticregression__C=100, logisticregression__penalty=l1, logisticregression__solver=lbfgs\n",
      "[CV 2/5; 89/96] END logisticregression__C=100, logisticregression__penalty=l1, logisticregression__solver=lbfgs;, score=nan total time=   0.2s\n",
      "[CV 3/5; 89/96] START logisticregression__C=100, logisticregression__penalty=l1, logisticregression__solver=lbfgs\n",
      "[CV 3/5; 89/96] END logisticregression__C=100, logisticregression__penalty=l1, logisticregression__solver=lbfgs;, score=nan total time=   0.2s\n",
      "[CV 4/5; 89/96] START logisticregression__C=100, logisticregression__penalty=l1, logisticregression__solver=lbfgs\n",
      "[CV 4/5; 89/96] END logisticregression__C=100, logisticregression__penalty=l1, logisticregression__solver=lbfgs;, score=nan total time=   0.2s\n",
      "[CV 5/5; 89/96] START logisticregression__C=100, logisticregression__penalty=l1, logisticregression__solver=lbfgs\n",
      "[CV 5/5; 89/96] END logisticregression__C=100, logisticregression__penalty=l1, logisticregression__solver=lbfgs;, score=nan total time=   0.2s\n",
      "[CV 1/5; 90/96] START logisticregression__C=100, logisticregression__penalty=l1, logisticregression__solver=liblinear\n",
      "No of FN: 10\n",
      "2702.9745116359563\n",
      "[CV 1/5; 90/96] END logisticregression__C=100, logisticregression__penalty=l1, logisticregression__solver=liblinear;, score=-2702.975 total time=  13.3s\n",
      "[CV 2/5; 90/96] START logisticregression__C=100, logisticregression__penalty=l1, logisticregression__solver=liblinear\n",
      "No of FN: 9\n",
      "2826.5175305753887\n",
      "[CV 2/5; 90/96] END logisticregression__C=100, logisticregression__penalty=l1, logisticregression__solver=liblinear;, score=-2826.518 total time=   3.3s\n",
      "[CV 3/5; 90/96] START logisticregression__C=100, logisticregression__penalty=l1, logisticregression__solver=liblinear\n",
      "No of FN: 9\n",
      "3014.99\n",
      "[CV 3/5; 90/96] END logisticregression__C=100, logisticregression__penalty=l1, logisticregression__solver=liblinear;, score=-3014.990 total time=   2.6s\n",
      "[CV 4/5; 90/96] START logisticregression__C=100, logisticregression__penalty=l1, logisticregression__solver=liblinear\n",
      "No of FN: 9\n",
      "3022.0239422385403\n",
      "[CV 4/5; 90/96] END logisticregression__C=100, logisticregression__penalty=l1, logisticregression__solver=liblinear;, score=-3022.024 total time=  36.8s\n",
      "[CV 5/5; 90/96] START logisticregression__C=100, logisticregression__penalty=l1, logisticregression__solver=liblinear\n",
      "No of FN: 6\n",
      "5099.969999999999\n",
      "[CV 5/5; 90/96] END logisticregression__C=100, logisticregression__penalty=l1, logisticregression__solver=liblinear;, score=-5099.970 total time=   2.9s\n",
      "[CV 1/5; 91/96] START logisticregression__C=100, logisticregression__penalty=l2, logisticregression__solver=newton-cg\n"
     ]
    },
    {
     "name": "stderr",
     "output_type": "stream",
     "text": [
      "C:\\Python310\\lib\\site-packages\\scipy\\optimize\\_linesearch.py:456: LineSearchWarning: The line search algorithm did not converge\n",
      "  warn('The line search algorithm did not converge', LineSearchWarning)\n",
      "C:\\Python310\\lib\\site-packages\\scipy\\optimize\\_linesearch.py:305: LineSearchWarning: The line search algorithm did not converge\n",
      "  warn('The line search algorithm did not converge', LineSearchWarning)\n",
      "C:\\Python310\\lib\\site-packages\\sklearn\\utils\\optimize.py:210: ConvergenceWarning: newton-cg failed to converge. Increase the number of iterations.\n",
      "  warnings.warn(\n"
     ]
    },
    {
     "name": "stdout",
     "output_type": "stream",
     "text": [
      "No of FN: 10\n",
      "2707.9745116359563\n",
      "[CV 1/5; 91/96] END logisticregression__C=100, logisticregression__penalty=l2, logisticregression__solver=newton-cg;, score=-2707.975 total time=  20.5s\n",
      "[CV 2/5; 91/96] START logisticregression__C=100, logisticregression__penalty=l2, logisticregression__solver=newton-cg\n"
     ]
    },
    {
     "name": "stderr",
     "output_type": "stream",
     "text": [
      "C:\\Python310\\lib\\site-packages\\scipy\\optimize\\_linesearch.py:456: LineSearchWarning: The line search algorithm did not converge\n",
      "  warn('The line search algorithm did not converge', LineSearchWarning)\n",
      "C:\\Python310\\lib\\site-packages\\scipy\\optimize\\_linesearch.py:305: LineSearchWarning: The line search algorithm did not converge\n",
      "  warn('The line search algorithm did not converge', LineSearchWarning)\n",
      "C:\\Python310\\lib\\site-packages\\sklearn\\utils\\optimize.py:210: ConvergenceWarning: newton-cg failed to converge. Increase the number of iterations.\n",
      "  warnings.warn(\n"
     ]
    },
    {
     "name": "stdout",
     "output_type": "stream",
     "text": [
      "No of FN: 9\n",
      "2811.5175305753887\n",
      "[CV 2/5; 91/96] END logisticregression__C=100, logisticregression__penalty=l2, logisticregression__solver=newton-cg;, score=-2811.518 total time=  21.5s\n",
      "[CV 3/5; 91/96] START logisticregression__C=100, logisticregression__penalty=l2, logisticregression__solver=newton-cg\n"
     ]
    },
    {
     "name": "stderr",
     "output_type": "stream",
     "text": [
      "C:\\Python310\\lib\\site-packages\\scipy\\optimize\\_linesearch.py:456: LineSearchWarning: The line search algorithm did not converge\n",
      "  warn('The line search algorithm did not converge', LineSearchWarning)\n",
      "C:\\Python310\\lib\\site-packages\\scipy\\optimize\\_linesearch.py:305: LineSearchWarning: The line search algorithm did not converge\n",
      "  warn('The line search algorithm did not converge', LineSearchWarning)\n",
      "C:\\Python310\\lib\\site-packages\\sklearn\\utils\\optimize.py:210: ConvergenceWarning: newton-cg failed to converge. Increase the number of iterations.\n",
      "  warnings.warn(\n"
     ]
    },
    {
     "name": "stdout",
     "output_type": "stream",
     "text": [
      "No of FN: 9\n",
      "2904.99\n",
      "[CV 3/5; 91/96] END logisticregression__C=100, logisticregression__penalty=l2, logisticregression__solver=newton-cg;, score=-2904.990 total time=  22.3s\n",
      "[CV 4/5; 91/96] START logisticregression__C=100, logisticregression__penalty=l2, logisticregression__solver=newton-cg\n"
     ]
    },
    {
     "name": "stderr",
     "output_type": "stream",
     "text": [
      "C:\\Python310\\lib\\site-packages\\sklearn\\utils\\optimize.py:210: ConvergenceWarning: newton-cg failed to converge. Increase the number of iterations.\n",
      "  warnings.warn(\n"
     ]
    },
    {
     "name": "stdout",
     "output_type": "stream",
     "text": [
      "No of FN: 9\n",
      "3037.0239422385403\n",
      "[CV 4/5; 91/96] END logisticregression__C=100, logisticregression__penalty=l2, logisticregression__solver=newton-cg;, score=-3037.024 total time=  21.3s\n",
      "[CV 5/5; 91/96] START logisticregression__C=100, logisticregression__penalty=l2, logisticregression__solver=newton-cg\n"
     ]
    },
    {
     "name": "stderr",
     "output_type": "stream",
     "text": [
      "C:\\Python310\\lib\\site-packages\\scipy\\optimize\\_linesearch.py:456: LineSearchWarning: The line search algorithm did not converge\n",
      "  warn('The line search algorithm did not converge', LineSearchWarning)\n",
      "C:\\Python310\\lib\\site-packages\\scipy\\optimize\\_linesearch.py:305: LineSearchWarning: The line search algorithm did not converge\n",
      "  warn('The line search algorithm did not converge', LineSearchWarning)\n",
      "C:\\Python310\\lib\\site-packages\\sklearn\\utils\\optimize.py:210: ConvergenceWarning: newton-cg failed to converge. Increase the number of iterations.\n",
      "  warnings.warn(\n"
     ]
    },
    {
     "name": "stdout",
     "output_type": "stream",
     "text": [
      "No of FN: 6\n",
      "5089.969999999999\n",
      "[CV 5/5; 91/96] END logisticregression__C=100, logisticregression__penalty=l2, logisticregression__solver=newton-cg;, score=-5089.970 total time=  22.2s\n",
      "[CV 1/5; 92/96] START logisticregression__C=100, logisticregression__penalty=l2, logisticregression__solver=lbfgs\n",
      "No of FN: 11\n",
      "5783.5696118827345\n",
      "[CV 1/5; 92/96] END logisticregression__C=100, logisticregression__penalty=l2, logisticregression__solver=lbfgs;, score=-5783.570 total time=   2.1s\n",
      "[CV 2/5; 92/96] START logisticregression__C=100, logisticregression__penalty=l2, logisticregression__solver=lbfgs\n"
     ]
    },
    {
     "name": "stderr",
     "output_type": "stream",
     "text": [
      "C:\\Python310\\lib\\site-packages\\sklearn\\linear_model\\_logistic.py:444: ConvergenceWarning: lbfgs failed to converge (status=1):\n",
      "STOP: TOTAL NO. of ITERATIONS REACHED LIMIT.\n",
      "\n",
      "Increase the number of iterations (max_iter) or scale the data as shown in:\n",
      "    https://scikit-learn.org/stable/modules/preprocessing.html\n",
      "Please also refer to the documentation for alternative solver options:\n",
      "    https://scikit-learn.org/stable/modules/linear_model.html#logistic-regression\n",
      "  n_iter_i = _check_optimize_result(\n"
     ]
    },
    {
     "name": "stdout",
     "output_type": "stream",
     "text": [
      "No of FN: 9\n",
      "4551.517530575388\n",
      "[CV 2/5; 92/96] END logisticregression__C=100, logisticregression__penalty=l2, logisticregression__solver=lbfgs;, score=-4551.518 total time=   2.5s\n",
      "[CV 3/5; 92/96] START logisticregression__C=100, logisticregression__penalty=l2, logisticregression__solver=lbfgs\n",
      "No of FN: 10\n",
      "8536.582434600648\n",
      "[CV 3/5; 92/96] END logisticregression__C=100, logisticregression__penalty=l2, logisticregression__solver=lbfgs;, score=-8536.582 total time=   1.2s\n",
      "[CV 4/5; 92/96] START logisticregression__C=100, logisticregression__penalty=l2, logisticregression__solver=lbfgs\n"
     ]
    },
    {
     "name": "stderr",
     "output_type": "stream",
     "text": [
      "C:\\Python310\\lib\\site-packages\\sklearn\\linear_model\\_logistic.py:444: ConvergenceWarning: lbfgs failed to converge (status=1):\n",
      "STOP: TOTAL NO. of ITERATIONS REACHED LIMIT.\n",
      "\n",
      "Increase the number of iterations (max_iter) or scale the data as shown in:\n",
      "    https://scikit-learn.org/stable/modules/preprocessing.html\n",
      "Please also refer to the documentation for alternative solver options:\n",
      "    https://scikit-learn.org/stable/modules/linear_model.html#logistic-regression\n",
      "  n_iter_i = _check_optimize_result(\n"
     ]
    },
    {
     "name": "stdout",
     "output_type": "stream",
     "text": [
      "No of FN: 7\n",
      "5538.90394223854\n",
      "[CV 4/5; 92/96] END logisticregression__C=100, logisticregression__penalty=l2, logisticregression__solver=lbfgs;, score=-5538.904 total time=   2.5s\n",
      "[CV 5/5; 92/96] START logisticregression__C=100, logisticregression__penalty=l2, logisticregression__solver=lbfgs\n",
      "No of FN: 6\n",
      "8147.539999999999\n",
      "[CV 5/5; 92/96] END logisticregression__C=100, logisticregression__penalty=l2, logisticregression__solver=lbfgs;, score=-8147.540 total time=   1.8s\n",
      "[CV 1/5; 93/96] START logisticregression__C=100, logisticregression__penalty=l2, logisticregression__solver=liblinear\n",
      "No of FN: 11\n",
      "4413.844511635956\n",
      "[CV 1/5; 93/96] END logisticregression__C=100, logisticregression__penalty=l2, logisticregression__solver=liblinear;, score=-4413.845 total time=   3.0s\n",
      "[CV 2/5; 93/96] START logisticregression__C=100, logisticregression__penalty=l2, logisticregression__solver=liblinear\n",
      "No of FN: 9\n",
      "4231.517530575388\n",
      "[CV 2/5; 93/96] END logisticregression__C=100, logisticregression__penalty=l2, logisticregression__solver=liblinear;, score=-4231.518 total time=   2.8s\n",
      "[CV 3/5; 93/96] START logisticregression__C=100, logisticregression__penalty=l2, logisticregression__solver=liblinear\n",
      "No of FN: 8\n",
      "4655.7\n",
      "[CV 3/5; 93/96] END logisticregression__C=100, logisticregression__penalty=l2, logisticregression__solver=liblinear;, score=-4655.700 total time=   2.9s\n",
      "[CV 4/5; 93/96] START logisticregression__C=100, logisticregression__penalty=l2, logisticregression__solver=liblinear\n",
      "No of FN: 8\n",
      "4888.02394223854\n",
      "[CV 4/5; 93/96] END logisticregression__C=100, logisticregression__penalty=l2, logisticregression__solver=liblinear;, score=-4888.024 total time=   2.8s\n",
      "[CV 5/5; 93/96] START logisticregression__C=100, logisticregression__penalty=l2, logisticregression__solver=liblinear\n",
      "No of FN: 9\n",
      "5907.792276488321\n",
      "[CV 5/5; 93/96] END logisticregression__C=100, logisticregression__penalty=l2, logisticregression__solver=liblinear;, score=-5907.792 total time=   2.3s\n",
      "[CV 1/5; 94/96] START logisticregression__C=100, logisticregression__penalty=elasticnet, logisticregression__solver=newton-cg\n",
      "[CV 1/5; 94/96] END logisticregression__C=100, logisticregression__penalty=elasticnet, logisticregression__solver=newton-cg;, score=nan total time=   0.2s\n",
      "[CV 2/5; 94/96] START logisticregression__C=100, logisticregression__penalty=elasticnet, logisticregression__solver=newton-cg\n",
      "[CV 2/5; 94/96] END logisticregression__C=100, logisticregression__penalty=elasticnet, logisticregression__solver=newton-cg;, score=nan total time=   0.2s\n",
      "[CV 3/5; 94/96] START logisticregression__C=100, logisticregression__penalty=elasticnet, logisticregression__solver=newton-cg\n",
      "[CV 3/5; 94/96] END logisticregression__C=100, logisticregression__penalty=elasticnet, logisticregression__solver=newton-cg;, score=nan total time=   0.2s\n",
      "[CV 4/5; 94/96] START logisticregression__C=100, logisticregression__penalty=elasticnet, logisticregression__solver=newton-cg\n",
      "[CV 4/5; 94/96] END logisticregression__C=100, logisticregression__penalty=elasticnet, logisticregression__solver=newton-cg;, score=nan total time=   0.2s\n",
      "[CV 5/5; 94/96] START logisticregression__C=100, logisticregression__penalty=elasticnet, logisticregression__solver=newton-cg\n",
      "[CV 5/5; 94/96] END logisticregression__C=100, logisticregression__penalty=elasticnet, logisticregression__solver=newton-cg;, score=nan total time=   0.2s\n",
      "[CV 1/5; 95/96] START logisticregression__C=100, logisticregression__penalty=elasticnet, logisticregression__solver=lbfgs\n",
      "[CV 1/5; 95/96] END logisticregression__C=100, logisticregression__penalty=elasticnet, logisticregression__solver=lbfgs;, score=nan total time=   0.2s\n",
      "[CV 2/5; 95/96] START logisticregression__C=100, logisticregression__penalty=elasticnet, logisticregression__solver=lbfgs\n",
      "[CV 2/5; 95/96] END logisticregression__C=100, logisticregression__penalty=elasticnet, logisticregression__solver=lbfgs;, score=nan total time=   0.2s\n",
      "[CV 3/5; 95/96] START logisticregression__C=100, logisticregression__penalty=elasticnet, logisticregression__solver=lbfgs\n",
      "[CV 3/5; 95/96] END logisticregression__C=100, logisticregression__penalty=elasticnet, logisticregression__solver=lbfgs;, score=nan total time=   0.2s\n",
      "[CV 4/5; 95/96] START logisticregression__C=100, logisticregression__penalty=elasticnet, logisticregression__solver=lbfgs\n",
      "[CV 4/5; 95/96] END logisticregression__C=100, logisticregression__penalty=elasticnet, logisticregression__solver=lbfgs;, score=nan total time=   0.2s\n",
      "[CV 5/5; 95/96] START logisticregression__C=100, logisticregression__penalty=elasticnet, logisticregression__solver=lbfgs\n",
      "[CV 5/5; 95/96] END logisticregression__C=100, logisticregression__penalty=elasticnet, logisticregression__solver=lbfgs;, score=nan total time=   0.2s\n",
      "[CV 1/5; 96/96] START logisticregression__C=100, logisticregression__penalty=elasticnet, logisticregression__solver=liblinear\n",
      "[CV 1/5; 96/96] END logisticregression__C=100, logisticregression__penalty=elasticnet, logisticregression__solver=liblinear;, score=nan total time=   0.2s\n",
      "[CV 2/5; 96/96] START logisticregression__C=100, logisticregression__penalty=elasticnet, logisticregression__solver=liblinear\n",
      "[CV 2/5; 96/96] END logisticregression__C=100, logisticregression__penalty=elasticnet, logisticregression__solver=liblinear;, score=nan total time=   0.2s\n",
      "[CV 3/5; 96/96] START logisticregression__C=100, logisticregression__penalty=elasticnet, logisticregression__solver=liblinear\n",
      "[CV 3/5; 96/96] END logisticregression__C=100, logisticregression__penalty=elasticnet, logisticregression__solver=liblinear;, score=nan total time=   0.2s\n",
      "[CV 4/5; 96/96] START logisticregression__C=100, logisticregression__penalty=elasticnet, logisticregression__solver=liblinear\n",
      "[CV 4/5; 96/96] END logisticregression__C=100, logisticregression__penalty=elasticnet, logisticregression__solver=liblinear;, score=nan total time=   0.2s\n",
      "[CV 5/5; 96/96] START logisticregression__C=100, logisticregression__penalty=elasticnet, logisticregression__solver=liblinear\n",
      "[CV 5/5; 96/96] END logisticregression__C=100, logisticregression__penalty=elasticnet, logisticregression__solver=liblinear;, score=nan total time=   0.2s\n"
     ]
    },
    {
     "name": "stderr",
     "output_type": "stream",
     "text": [
      "C:\\Python310\\lib\\site-packages\\sklearn\\model_selection\\_validation.py:378: FitFailedWarning: \n",
      "240 fits failed out of a total of 480.\n",
      "The score on these train-test partitions for these parameters will be set to nan.\n",
      "If these failures are not expected, you can try to debug them by setting error_score='raise'.\n",
      "\n",
      "Below are more details about the failures:\n",
      "--------------------------------------------------------------------------------\n",
      "40 fits failed with the following error:\n",
      "Traceback (most recent call last):\n",
      "  File \"C:\\Python310\\lib\\site-packages\\sklearn\\model_selection\\_validation.py\", line 686, in _fit_and_score\n",
      "    estimator.fit(X_train, y_train, **fit_params)\n",
      "  File \"C:\\Python310\\lib\\site-packages\\imblearn\\pipeline.py\", line 272, in fit\n",
      "    self._final_estimator.fit(Xt, yt, **fit_params_last_step)\n",
      "  File \"C:\\Python310\\lib\\site-packages\\sklearn\\linear_model\\_logistic.py\", line 1091, in fit\n",
      "    solver = _check_solver(self.solver, self.penalty, self.dual)\n",
      "  File \"C:\\Python310\\lib\\site-packages\\sklearn\\linear_model\\_logistic.py\", line 78, in _check_solver\n",
      "    raise ValueError(\"penalty='none' is not supported for the liblinear solver\")\n",
      "ValueError: penalty='none' is not supported for the liblinear solver\n",
      "\n",
      "--------------------------------------------------------------------------------\n",
      "40 fits failed with the following error:\n",
      "Traceback (most recent call last):\n",
      "  File \"C:\\Python310\\lib\\site-packages\\sklearn\\model_selection\\_validation.py\", line 686, in _fit_and_score\n",
      "    estimator.fit(X_train, y_train, **fit_params)\n",
      "  File \"C:\\Python310\\lib\\site-packages\\imblearn\\pipeline.py\", line 272, in fit\n",
      "    self._final_estimator.fit(Xt, yt, **fit_params_last_step)\n",
      "  File \"C:\\Python310\\lib\\site-packages\\sklearn\\linear_model\\_logistic.py\", line 1091, in fit\n",
      "    solver = _check_solver(self.solver, self.penalty, self.dual)\n",
      "  File \"C:\\Python310\\lib\\site-packages\\sklearn\\linear_model\\_logistic.py\", line 61, in _check_solver\n",
      "    raise ValueError(\n",
      "ValueError: Solver newton-cg supports only 'l2' or 'none' penalties, got l1 penalty.\n",
      "\n",
      "--------------------------------------------------------------------------------\n",
      "40 fits failed with the following error:\n",
      "Traceback (most recent call last):\n",
      "  File \"C:\\Python310\\lib\\site-packages\\sklearn\\model_selection\\_validation.py\", line 686, in _fit_and_score\n",
      "    estimator.fit(X_train, y_train, **fit_params)\n",
      "  File \"C:\\Python310\\lib\\site-packages\\imblearn\\pipeline.py\", line 272, in fit\n",
      "    self._final_estimator.fit(Xt, yt, **fit_params_last_step)\n",
      "  File \"C:\\Python310\\lib\\site-packages\\sklearn\\linear_model\\_logistic.py\", line 1091, in fit\n",
      "    solver = _check_solver(self.solver, self.penalty, self.dual)\n",
      "  File \"C:\\Python310\\lib\\site-packages\\sklearn\\linear_model\\_logistic.py\", line 61, in _check_solver\n",
      "    raise ValueError(\n",
      "ValueError: Solver lbfgs supports only 'l2' or 'none' penalties, got l1 penalty.\n",
      "\n",
      "--------------------------------------------------------------------------------\n",
      "40 fits failed with the following error:\n",
      "Traceback (most recent call last):\n",
      "  File \"C:\\Python310\\lib\\site-packages\\sklearn\\model_selection\\_validation.py\", line 686, in _fit_and_score\n",
      "    estimator.fit(X_train, y_train, **fit_params)\n",
      "  File \"C:\\Python310\\lib\\site-packages\\imblearn\\pipeline.py\", line 272, in fit\n",
      "    self._final_estimator.fit(Xt, yt, **fit_params_last_step)\n",
      "  File \"C:\\Python310\\lib\\site-packages\\sklearn\\linear_model\\_logistic.py\", line 1091, in fit\n",
      "    solver = _check_solver(self.solver, self.penalty, self.dual)\n",
      "  File \"C:\\Python310\\lib\\site-packages\\sklearn\\linear_model\\_logistic.py\", line 61, in _check_solver\n",
      "    raise ValueError(\n",
      "ValueError: Solver newton-cg supports only 'l2' or 'none' penalties, got elasticnet penalty.\n",
      "\n",
      "--------------------------------------------------------------------------------\n",
      "40 fits failed with the following error:\n",
      "Traceback (most recent call last):\n",
      "  File \"C:\\Python310\\lib\\site-packages\\sklearn\\model_selection\\_validation.py\", line 686, in _fit_and_score\n",
      "    estimator.fit(X_train, y_train, **fit_params)\n",
      "  File \"C:\\Python310\\lib\\site-packages\\imblearn\\pipeline.py\", line 272, in fit\n",
      "    self._final_estimator.fit(Xt, yt, **fit_params_last_step)\n",
      "  File \"C:\\Python310\\lib\\site-packages\\sklearn\\linear_model\\_logistic.py\", line 1091, in fit\n",
      "    solver = _check_solver(self.solver, self.penalty, self.dual)\n",
      "  File \"C:\\Python310\\lib\\site-packages\\sklearn\\linear_model\\_logistic.py\", line 61, in _check_solver\n",
      "    raise ValueError(\n",
      "ValueError: Solver lbfgs supports only 'l2' or 'none' penalties, got elasticnet penalty.\n",
      "\n",
      "--------------------------------------------------------------------------------\n",
      "40 fits failed with the following error:\n",
      "Traceback (most recent call last):\n",
      "  File \"C:\\Python310\\lib\\site-packages\\sklearn\\model_selection\\_validation.py\", line 686, in _fit_and_score\n",
      "    estimator.fit(X_train, y_train, **fit_params)\n",
      "  File \"C:\\Python310\\lib\\site-packages\\imblearn\\pipeline.py\", line 272, in fit\n",
      "    self._final_estimator.fit(Xt, yt, **fit_params_last_step)\n",
      "  File \"C:\\Python310\\lib\\site-packages\\sklearn\\linear_model\\_logistic.py\", line 1091, in fit\n",
      "    solver = _check_solver(self.solver, self.penalty, self.dual)\n",
      "  File \"C:\\Python310\\lib\\site-packages\\sklearn\\linear_model\\_logistic.py\", line 71, in _check_solver\n",
      "    raise ValueError(\n",
      "ValueError: Only 'saga' solver supports elasticnet penalty, got solver=liblinear.\n",
      "\n",
      "  warnings.warn(some_fits_failed_message, FitFailedWarning)\n",
      "C:\\Python310\\lib\\site-packages\\sklearn\\model_selection\\_search.py:953: UserWarning: One or more of the test scores are non-finite: [-3300.29519689 -6659.62270386            nan            nan\n",
      "            nan -6114.90909138 -2563.80320769 -5032.04222774\n",
      " -4203.27622774            nan            nan            nan\n",
      " -3300.29519689 -6659.62270386            nan            nan\n",
      "            nan -6266.16021694 -3493.92719689 -5679.9076553\n",
      " -4505.02109055            nan            nan            nan\n",
      " -3300.29519689 -6659.62270386            nan            nan\n",
      "            nan -3664.44319689 -3471.78719689 -6246.62270386\n",
      " -4868.83509055            nan            nan            nan\n",
      " -3300.29519689 -6659.62270386            nan            nan\n",
      "            nan -3353.29519689 -3366.29519689 -6041.44390116\n",
      " -4810.37565219            nan            nan            nan\n",
      " -3300.29519689 -6659.62270386            nan            nan\n",
      "            nan -3321.29519689 -3311.29519689 -6282.62270386\n",
      " -4816.37565219            nan            nan            nan\n",
      " -3300.29519689 -6659.62270386            nan            nan\n",
      "            nan -3332.29519689 -3305.89319689 -6298.8104628\n",
      " -4819.37565219            nan            nan            nan\n",
      " -3300.29519689 -6659.62270386            nan            nan\n",
      "            nan -3302.29519689 -3293.29519689 -6414.62270386\n",
      " -4819.37565219            nan            nan            nan\n",
      " -3300.29519689 -6659.62270386            nan            nan\n",
      "            nan -3333.29519689 -3310.29519689 -6511.62270386\n",
      " -4819.37565219            nan            nan            nan]\n",
      "  warnings.warn(\n",
      "C:\\Python310\\lib\\site-packages\\scipy\\optimize\\_linesearch.py:456: LineSearchWarning: The line search algorithm did not converge\n",
      "  warn('The line search algorithm did not converge', LineSearchWarning)\n",
      "C:\\Python310\\lib\\site-packages\\scipy\\optimize\\_linesearch.py:305: LineSearchWarning: The line search algorithm did not converge\n",
      "  warn('The line search algorithm did not converge', LineSearchWarning)\n",
      "C:\\Python310\\lib\\site-packages\\scipy\\optimize\\_linesearch.py:415: LineSearchWarning: Rounding errors prevent the line search from converging\n",
      "  warn(msg, LineSearchWarning)\n",
      "C:\\Python310\\lib\\site-packages\\sklearn\\utils\\optimize.py:203: UserWarning: Line Search failed\n",
      "  warnings.warn(\"Line Search failed\")\n"
     ]
    }
   ],
   "source": [
    "# grid_smt = GridSearchCV(estimator=dtc, param_grid=param_grid, scoring=my_func_smt, cv = 5, verbose=10)\n",
    "new_params = {'logisticregression__' + key: param_grid[key] for key in param_grid}\n",
    "# grid_c = GridSearchCV(estimator=dfrst_c, param_grid=param_grid_criterion, scoring=my_func, cv = 5, verbose=10)return_train_score=True,\n",
    "grid_imba = GridSearchCV(imba_pipeline, param_grid=new_params, cv=5, scoring=my_func_smt,  verbose=10)\n",
    "grid_search_imba = grid_imba.fit(X_train, y_train);"
   ]
  },
  {
   "cell_type": "code",
   "execution_count": 27,
   "id": "7dafea1c-b41f-4918-b949-780d0bd3b811",
   "metadata": {},
   "outputs": [
    {
     "name": "stdout",
     "output_type": "stream",
     "text": [
      "Best: [-3300.29519689 -6659.62270386            nan            nan\n",
      "            nan -6114.90909138 -2563.80320769 -5032.04222774\n",
      " -4203.27622774            nan            nan            nan\n",
      " -3300.29519689 -6659.62270386            nan            nan\n",
      "            nan -6266.16021694 -3493.92719689 -5679.9076553\n",
      " -4505.02109055            nan            nan            nan\n",
      " -3300.29519689 -6659.62270386            nan            nan\n",
      "            nan -3664.44319689 -3471.78719689 -6246.62270386\n",
      " -4868.83509055            nan            nan            nan\n",
      " -3300.29519689 -6659.62270386            nan            nan\n",
      "            nan -3353.29519689 -3366.29519689 -6041.44390116\n",
      " -4810.37565219            nan            nan            nan\n",
      " -3300.29519689 -6659.62270386            nan            nan\n",
      "            nan -3321.29519689 -3311.29519689 -6282.62270386\n",
      " -4816.37565219            nan            nan            nan\n",
      " -3300.29519689 -6659.62270386            nan            nan\n",
      "            nan -3332.29519689 -3305.89319689 -6298.8104628\n",
      " -4819.37565219            nan            nan            nan\n",
      " -3300.29519689 -6659.62270386            nan            nan\n",
      "            nan -3302.29519689 -3293.29519689 -6414.62270386\n",
      " -4819.37565219            nan            nan            nan\n",
      " -3300.29519689 -6659.62270386            nan            nan\n",
      "            nan -3333.29519689 -3310.29519689 -6511.62270386\n",
      " -4819.37565219            nan            nan            nan], using {'logisticregression__C': 1e-05, 'logisticregression__penalty': 'l2', 'logisticregression__solver': 'newton-cg'}\n"
     ]
    },
    {
     "data": {
      "text/html": [
       "<div>\n",
       "<style scoped>\n",
       "    .dataframe tbody tr th:only-of-type {\n",
       "        vertical-align: middle;\n",
       "    }\n",
       "\n",
       "    .dataframe tbody tr th {\n",
       "        vertical-align: top;\n",
       "    }\n",
       "\n",
       "    .dataframe thead th {\n",
       "        text-align: right;\n",
       "    }\n",
       "</style>\n",
       "<table border=\"1\" class=\"dataframe\">\n",
       "  <thead>\n",
       "    <tr style=\"text-align: right;\">\n",
       "      <th></th>\n",
       "      <th>mean_fit_time</th>\n",
       "      <th>std_fit_time</th>\n",
       "      <th>mean_score_time</th>\n",
       "      <th>std_score_time</th>\n",
       "      <th>param_logisticregression__C</th>\n",
       "      <th>param_logisticregression__penalty</th>\n",
       "      <th>param_logisticregression__solver</th>\n",
       "      <th>params</th>\n",
       "      <th>split0_test_score</th>\n",
       "      <th>split1_test_score</th>\n",
       "      <th>split2_test_score</th>\n",
       "      <th>split3_test_score</th>\n",
       "      <th>split4_test_score</th>\n",
       "      <th>mean_test_score</th>\n",
       "      <th>std_test_score</th>\n",
       "      <th>rank_test_score</th>\n",
       "    </tr>\n",
       "  </thead>\n",
       "  <tbody>\n",
       "    <tr>\n",
       "      <th>0</th>\n",
       "      <td>24.083000</td>\n",
       "      <td>0.919213</td>\n",
       "      <td>0.021800</td>\n",
       "      <td>0.000400</td>\n",
       "      <td>0.00001</td>\n",
       "      <td>none</td>\n",
       "      <td>newton-cg</td>\n",
       "      <td>{'logisticregression__C': 1e-05, 'logisticregr...</td>\n",
       "      <td>-2697.974512</td>\n",
       "      <td>-2826.517531</td>\n",
       "      <td>-2884.990000</td>\n",
       "      <td>-3037.023942</td>\n",
       "      <td>-5054.970000</td>\n",
       "      <td>-3300.295197</td>\n",
       "      <td>884.073448</td>\n",
       "      <td>3</td>\n",
       "    </tr>\n",
       "    <tr>\n",
       "      <th>1</th>\n",
       "      <td>2.200200</td>\n",
       "      <td>0.413407</td>\n",
       "      <td>0.021200</td>\n",
       "      <td>0.000401</td>\n",
       "      <td>0.00001</td>\n",
       "      <td>none</td>\n",
       "      <td>lbfgs</td>\n",
       "      <td>{'logisticregression__C': 1e-05, 'logisticregr...</td>\n",
       "      <td>-5783.569612</td>\n",
       "      <td>-5291.517531</td>\n",
       "      <td>-8536.582435</td>\n",
       "      <td>-5538.903942</td>\n",
       "      <td>-8147.540000</td>\n",
       "      <td>-6659.622704</td>\n",
       "      <td>1387.952956</td>\n",
       "      <td>41</td>\n",
       "    </tr>\n",
       "    <tr>\n",
       "      <th>2</th>\n",
       "      <td>0.295600</td>\n",
       "      <td>0.005422</td>\n",
       "      <td>0.000000</td>\n",
       "      <td>0.000000</td>\n",
       "      <td>0.00001</td>\n",
       "      <td>none</td>\n",
       "      <td>liblinear</td>\n",
       "      <td>{'logisticregression__C': 1e-05, 'logisticregr...</td>\n",
       "      <td>NaN</td>\n",
       "      <td>NaN</td>\n",
       "      <td>NaN</td>\n",
       "      <td>NaN</td>\n",
       "      <td>NaN</td>\n",
       "      <td>NaN</td>\n",
       "      <td>NaN</td>\n",
       "      <td>66</td>\n",
       "    </tr>\n",
       "    <tr>\n",
       "      <th>3</th>\n",
       "      <td>0.295190</td>\n",
       "      <td>0.005647</td>\n",
       "      <td>0.000000</td>\n",
       "      <td>0.000000</td>\n",
       "      <td>0.00001</td>\n",
       "      <td>l1</td>\n",
       "      <td>newton-cg</td>\n",
       "      <td>{'logisticregression__C': 1e-05, 'logisticregr...</td>\n",
       "      <td>NaN</td>\n",
       "      <td>NaN</td>\n",
       "      <td>NaN</td>\n",
       "      <td>NaN</td>\n",
       "      <td>NaN</td>\n",
       "      <td>NaN</td>\n",
       "      <td>NaN</td>\n",
       "      <td>67</td>\n",
       "    </tr>\n",
       "    <tr>\n",
       "      <th>4</th>\n",
       "      <td>0.329001</td>\n",
       "      <td>0.023100</td>\n",
       "      <td>0.000000</td>\n",
       "      <td>0.000000</td>\n",
       "      <td>0.00001</td>\n",
       "      <td>l1</td>\n",
       "      <td>lbfgs</td>\n",
       "      <td>{'logisticregression__C': 1e-05, 'logisticregr...</td>\n",
       "      <td>NaN</td>\n",
       "      <td>NaN</td>\n",
       "      <td>NaN</td>\n",
       "      <td>NaN</td>\n",
       "      <td>NaN</td>\n",
       "      <td>NaN</td>\n",
       "      <td>NaN</td>\n",
       "      <td>68</td>\n",
       "    </tr>\n",
       "    <tr>\n",
       "      <th>...</th>\n",
       "      <td>...</td>\n",
       "      <td>...</td>\n",
       "      <td>...</td>\n",
       "      <td>...</td>\n",
       "      <td>...</td>\n",
       "      <td>...</td>\n",
       "      <td>...</td>\n",
       "      <td>...</td>\n",
       "      <td>...</td>\n",
       "      <td>...</td>\n",
       "      <td>...</td>\n",
       "      <td>...</td>\n",
       "      <td>...</td>\n",
       "      <td>...</td>\n",
       "      <td>...</td>\n",
       "      <td>...</td>\n",
       "    </tr>\n",
       "    <tr>\n",
       "      <th>91</th>\n",
       "      <td>2.097793</td>\n",
       "      <td>0.462749</td>\n",
       "      <td>0.020606</td>\n",
       "      <td>0.000496</td>\n",
       "      <td>100</td>\n",
       "      <td>l2</td>\n",
       "      <td>lbfgs</td>\n",
       "      <td>{'logisticregression__C': 100, 'logisticregres...</td>\n",
       "      <td>-5783.569612</td>\n",
       "      <td>-4551.517531</td>\n",
       "      <td>-8536.582435</td>\n",
       "      <td>-5538.903942</td>\n",
       "      <td>-8147.540000</td>\n",
       "      <td>-6511.622704</td>\n",
       "      <td>1555.309789</td>\n",
       "      <td>40</td>\n",
       "    </tr>\n",
       "    <tr>\n",
       "      <th>92</th>\n",
       "      <td>2.835199</td>\n",
       "      <td>0.234582</td>\n",
       "      <td>0.020806</td>\n",
       "      <td>0.000403</td>\n",
       "      <td>100</td>\n",
       "      <td>l2</td>\n",
       "      <td>liblinear</td>\n",
       "      <td>{'logisticregression__C': 100, 'logisticregres...</td>\n",
       "      <td>-4413.844512</td>\n",
       "      <td>-4231.517531</td>\n",
       "      <td>-4655.700000</td>\n",
       "      <td>-4888.023942</td>\n",
       "      <td>-5907.792276</td>\n",
       "      <td>-4819.375652</td>\n",
       "      <td>587.568844</td>\n",
       "      <td>27</td>\n",
       "    </tr>\n",
       "    <tr>\n",
       "      <th>93</th>\n",
       "      <td>0.276800</td>\n",
       "      <td>0.008699</td>\n",
       "      <td>0.000000</td>\n",
       "      <td>0.000000</td>\n",
       "      <td>100</td>\n",
       "      <td>elasticnet</td>\n",
       "      <td>newton-cg</td>\n",
       "      <td>{'logisticregression__C': 100, 'logisticregres...</td>\n",
       "      <td>NaN</td>\n",
       "      <td>NaN</td>\n",
       "      <td>NaN</td>\n",
       "      <td>NaN</td>\n",
       "      <td>NaN</td>\n",
       "      <td>NaN</td>\n",
       "      <td>NaN</td>\n",
       "      <td>49</td>\n",
       "    </tr>\n",
       "    <tr>\n",
       "      <th>94</th>\n",
       "      <td>0.275399</td>\n",
       "      <td>0.006854</td>\n",
       "      <td>0.000000</td>\n",
       "      <td>0.000000</td>\n",
       "      <td>100</td>\n",
       "      <td>elasticnet</td>\n",
       "      <td>lbfgs</td>\n",
       "      <td>{'logisticregression__C': 100, 'logisticregres...</td>\n",
       "      <td>NaN</td>\n",
       "      <td>NaN</td>\n",
       "      <td>NaN</td>\n",
       "      <td>NaN</td>\n",
       "      <td>NaN</td>\n",
       "      <td>NaN</td>\n",
       "      <td>NaN</td>\n",
       "      <td>89</td>\n",
       "    </tr>\n",
       "    <tr>\n",
       "      <th>95</th>\n",
       "      <td>0.282608</td>\n",
       "      <td>0.014722</td>\n",
       "      <td>0.000000</td>\n",
       "      <td>0.000000</td>\n",
       "      <td>100</td>\n",
       "      <td>elasticnet</td>\n",
       "      <td>liblinear</td>\n",
       "      <td>{'logisticregression__C': 100, 'logisticregres...</td>\n",
       "      <td>NaN</td>\n",
       "      <td>NaN</td>\n",
       "      <td>NaN</td>\n",
       "      <td>NaN</td>\n",
       "      <td>NaN</td>\n",
       "      <td>NaN</td>\n",
       "      <td>NaN</td>\n",
       "      <td>96</td>\n",
       "    </tr>\n",
       "  </tbody>\n",
       "</table>\n",
       "<p>96 rows × 16 columns</p>\n",
       "</div>"
      ],
      "text/plain": [
       "    mean_fit_time  std_fit_time  mean_score_time  std_score_time  \\\n",
       "0       24.083000      0.919213         0.021800        0.000400   \n",
       "1        2.200200      0.413407         0.021200        0.000401   \n",
       "2        0.295600      0.005422         0.000000        0.000000   \n",
       "3        0.295190      0.005647         0.000000        0.000000   \n",
       "4        0.329001      0.023100         0.000000        0.000000   \n",
       "..            ...           ...              ...             ...   \n",
       "91       2.097793      0.462749         0.020606        0.000496   \n",
       "92       2.835199      0.234582         0.020806        0.000403   \n",
       "93       0.276800      0.008699         0.000000        0.000000   \n",
       "94       0.275399      0.006854         0.000000        0.000000   \n",
       "95       0.282608      0.014722         0.000000        0.000000   \n",
       "\n",
       "   param_logisticregression__C param_logisticregression__penalty  \\\n",
       "0                      0.00001                              none   \n",
       "1                      0.00001                              none   \n",
       "2                      0.00001                              none   \n",
       "3                      0.00001                                l1   \n",
       "4                      0.00001                                l1   \n",
       "..                         ...                               ...   \n",
       "91                         100                                l2   \n",
       "92                         100                                l2   \n",
       "93                         100                        elasticnet   \n",
       "94                         100                        elasticnet   \n",
       "95                         100                        elasticnet   \n",
       "\n",
       "   param_logisticregression__solver  \\\n",
       "0                         newton-cg   \n",
       "1                             lbfgs   \n",
       "2                         liblinear   \n",
       "3                         newton-cg   \n",
       "4                             lbfgs   \n",
       "..                              ...   \n",
       "91                            lbfgs   \n",
       "92                        liblinear   \n",
       "93                        newton-cg   \n",
       "94                            lbfgs   \n",
       "95                        liblinear   \n",
       "\n",
       "                                               params  split0_test_score  \\\n",
       "0   {'logisticregression__C': 1e-05, 'logisticregr...       -2697.974512   \n",
       "1   {'logisticregression__C': 1e-05, 'logisticregr...       -5783.569612   \n",
       "2   {'logisticregression__C': 1e-05, 'logisticregr...                NaN   \n",
       "3   {'logisticregression__C': 1e-05, 'logisticregr...                NaN   \n",
       "4   {'logisticregression__C': 1e-05, 'logisticregr...                NaN   \n",
       "..                                                ...                ...   \n",
       "91  {'logisticregression__C': 100, 'logisticregres...       -5783.569612   \n",
       "92  {'logisticregression__C': 100, 'logisticregres...       -4413.844512   \n",
       "93  {'logisticregression__C': 100, 'logisticregres...                NaN   \n",
       "94  {'logisticregression__C': 100, 'logisticregres...                NaN   \n",
       "95  {'logisticregression__C': 100, 'logisticregres...                NaN   \n",
       "\n",
       "    split1_test_score  split2_test_score  split3_test_score  \\\n",
       "0        -2826.517531       -2884.990000       -3037.023942   \n",
       "1        -5291.517531       -8536.582435       -5538.903942   \n",
       "2                 NaN                NaN                NaN   \n",
       "3                 NaN                NaN                NaN   \n",
       "4                 NaN                NaN                NaN   \n",
       "..                ...                ...                ...   \n",
       "91       -4551.517531       -8536.582435       -5538.903942   \n",
       "92       -4231.517531       -4655.700000       -4888.023942   \n",
       "93                NaN                NaN                NaN   \n",
       "94                NaN                NaN                NaN   \n",
       "95                NaN                NaN                NaN   \n",
       "\n",
       "    split4_test_score  mean_test_score  std_test_score  rank_test_score  \n",
       "0        -5054.970000     -3300.295197      884.073448                3  \n",
       "1        -8147.540000     -6659.622704     1387.952956               41  \n",
       "2                 NaN              NaN             NaN               66  \n",
       "3                 NaN              NaN             NaN               67  \n",
       "4                 NaN              NaN             NaN               68  \n",
       "..                ...              ...             ...              ...  \n",
       "91       -8147.540000     -6511.622704     1555.309789               40  \n",
       "92       -5907.792276     -4819.375652      587.568844               27  \n",
       "93                NaN              NaN             NaN               49  \n",
       "94                NaN              NaN             NaN               89  \n",
       "95                NaN              NaN             NaN               96  \n",
       "\n",
       "[96 rows x 16 columns]"
      ]
     },
     "execution_count": 27,
     "metadata": {},
     "output_type": "execute_result"
    }
   ],
   "source": [
    "# Summarize the results in a readable format\n",
    "print(\"Best: {0}, using {1}\".format(grid_search_imba.cv_results_['mean_test_score'], grid_search_imba.best_params_))\n",
    "results_df_smt = pd.DataFrame(grid_search_imba.cv_results_)\n",
    "results_df_smt"
   ]
  },
  {
   "cell_type": "markdown",
   "id": "b59df01e-5af4-4e92-b9da-f1f69ecbce20",
   "metadata": {},
   "source": [
    "# Dropping outliers"
   ]
  },
  {
   "cell_type": "code",
   "execution_count": 31,
   "id": "5d074b3d-abbd-4421-8303-caba4bd908be",
   "metadata": {},
   "outputs": [
    {
     "name": "stderr",
     "output_type": "stream",
     "text": [
      "C:\\Python310\\lib\\site-packages\\sklearn\\base.py:450: UserWarning: X does not have valid feature names, but IsolationForest was fitted with feature names\n",
      "  warnings.warn(\n"
     ]
    },
    {
     "data": {
      "text/html": [
       "<style>#sk-container-id-1 {color: black;background-color: white;}#sk-container-id-1 pre{padding: 0;}#sk-container-id-1 div.sk-toggleable {background-color: white;}#sk-container-id-1 label.sk-toggleable__label {cursor: pointer;display: block;width: 100%;margin-bottom: 0;padding: 0.3em;box-sizing: border-box;text-align: center;}#sk-container-id-1 label.sk-toggleable__label-arrow:before {content: \"▸\";float: left;margin-right: 0.25em;color: #696969;}#sk-container-id-1 label.sk-toggleable__label-arrow:hover:before {color: black;}#sk-container-id-1 div.sk-estimator:hover label.sk-toggleable__label-arrow:before {color: black;}#sk-container-id-1 div.sk-toggleable__content {max-height: 0;max-width: 0;overflow: hidden;text-align: left;background-color: #f0f8ff;}#sk-container-id-1 div.sk-toggleable__content pre {margin: 0.2em;color: black;border-radius: 0.25em;background-color: #f0f8ff;}#sk-container-id-1 input.sk-toggleable__control:checked~div.sk-toggleable__content {max-height: 200px;max-width: 100%;overflow: auto;}#sk-container-id-1 input.sk-toggleable__control:checked~label.sk-toggleable__label-arrow:before {content: \"▾\";}#sk-container-id-1 div.sk-estimator input.sk-toggleable__control:checked~label.sk-toggleable__label {background-color: #d4ebff;}#sk-container-id-1 div.sk-label input.sk-toggleable__control:checked~label.sk-toggleable__label {background-color: #d4ebff;}#sk-container-id-1 input.sk-hidden--visually {border: 0;clip: rect(1px 1px 1px 1px);clip: rect(1px, 1px, 1px, 1px);height: 1px;margin: -1px;overflow: hidden;padding: 0;position: absolute;width: 1px;}#sk-container-id-1 div.sk-estimator {font-family: monospace;background-color: #f0f8ff;border: 1px dotted black;border-radius: 0.25em;box-sizing: border-box;margin-bottom: 0.5em;}#sk-container-id-1 div.sk-estimator:hover {background-color: #d4ebff;}#sk-container-id-1 div.sk-parallel-item::after {content: \"\";width: 100%;border-bottom: 1px solid gray;flex-grow: 1;}#sk-container-id-1 div.sk-label:hover label.sk-toggleable__label {background-color: #d4ebff;}#sk-container-id-1 div.sk-serial::before {content: \"\";position: absolute;border-left: 1px solid gray;box-sizing: border-box;top: 0;bottom: 0;left: 50%;z-index: 0;}#sk-container-id-1 div.sk-serial {display: flex;flex-direction: column;align-items: center;background-color: white;padding-right: 0.2em;padding-left: 0.2em;position: relative;}#sk-container-id-1 div.sk-item {position: relative;z-index: 1;}#sk-container-id-1 div.sk-parallel {display: flex;align-items: stretch;justify-content: center;background-color: white;position: relative;}#sk-container-id-1 div.sk-item::before, #sk-container-id-1 div.sk-parallel-item::before {content: \"\";position: absolute;border-left: 1px solid gray;box-sizing: border-box;top: 0;bottom: 0;left: 50%;z-index: -1;}#sk-container-id-1 div.sk-parallel-item {display: flex;flex-direction: column;z-index: 1;position: relative;background-color: white;}#sk-container-id-1 div.sk-parallel-item:first-child::after {align-self: flex-end;width: 50%;}#sk-container-id-1 div.sk-parallel-item:last-child::after {align-self: flex-start;width: 50%;}#sk-container-id-1 div.sk-parallel-item:only-child::after {width: 0;}#sk-container-id-1 div.sk-dashed-wrapped {border: 1px dashed gray;margin: 0 0.4em 0.5em 0.4em;box-sizing: border-box;padding-bottom: 0.4em;background-color: white;}#sk-container-id-1 div.sk-label label {font-family: monospace;font-weight: bold;display: inline-block;line-height: 1.2em;}#sk-container-id-1 div.sk-label-container {text-align: center;}#sk-container-id-1 div.sk-container {/* jupyter's `normalize.less` sets `[hidden] { display: none; }` but bootstrap.min.css set `[hidden] { display: none !important; }` so we also need the `!important` here to be able to override the default hidden behavior on the sphinx rendered scikit-learn.org. See: https://github.com/scikit-learn/scikit-learn/issues/21755 */display: inline-block !important;position: relative;}#sk-container-id-1 div.sk-text-repr-fallback {display: none;}</style><div id=\"sk-container-id-1\" class=\"sk-top-container\"><div class=\"sk-text-repr-fallback\"><pre>IsolationForest(contamination=0.1, random_state=42)</pre><b>In a Jupyter environment, please rerun this cell to show the HTML representation or trust the notebook. <br />On GitHub, the HTML representation is unable to render, please try loading this page with nbviewer.org.</b></div><div class=\"sk-container\" hidden><div class=\"sk-item\"><div class=\"sk-estimator sk-toggleable\"><input class=\"sk-toggleable__control sk-hidden--visually\" id=\"sk-estimator-id-1\" type=\"checkbox\" checked><label for=\"sk-estimator-id-1\" class=\"sk-toggleable__label sk-toggleable__label-arrow\">IsolationForest</label><div class=\"sk-toggleable__content\"><pre>IsolationForest(contamination=0.1, random_state=42)</pre></div></div></div></div></div>"
      ],
      "text/plain": [
       "IsolationForest(contamination=0.1, random_state=42)"
      ]
     },
     "execution_count": 31,
     "metadata": {},
     "output_type": "execute_result"
    }
   ],
   "source": [
    "from sklearn.ensemble import IsolationForest\n",
    "\n",
    "anomaly_inputs = []\n",
    "for name in transactions.columns[1:29]:\n",
    "    anomaly_inputs.append(name)\n",
    "anomaly_inputs.append('Class')\n",
    "\n",
    "model_IF = IsolationForest(contamination=float(0.1),random_state=42)\n",
    "\n",
    "anomaly_df = transactions\n",
    "model_IF.fit(anomaly_df[anomaly_inputs])"
   ]
  },
  {
   "cell_type": "code",
   "execution_count": 32,
   "id": "cc406d3c-3c71-4f2e-ac56-43e36d1484ca",
   "metadata": {},
   "outputs": [],
   "source": [
    "anomaly_df['anomaly_scores'] = model_IF.decision_function(anomaly_df[anomaly_inputs])\n",
    "anomaly_df['anomaly'] = model_IF.predict(anomaly_df[anomaly_inputs])"
   ]
  },
  {
   "cell_type": "code",
   "execution_count": 38,
   "id": "52a82db8-7697-4335-a090-c210aab824cc",
   "metadata": {},
   "outputs": [],
   "source": [
    "df_wo_o = anomaly_df[(anomaly_df[\"anomaly\"]==1) | ((anomaly_df[\"Class\"]==1) & (anomaly_df[\"anomaly\"]==-1))]\n",
    "df_wo_o = df_wo_o.drop(\"anomaly\", axis='columns')\n",
    "df_wo_o = df_wo_o.drop(\"anomaly_scores\", axis='columns')"
   ]
  },
  {
   "cell_type": "code",
   "execution_count": 39,
   "id": "77c8d47b-a061-4f32-aaa3-bbb59344b686",
   "metadata": {},
   "outputs": [],
   "source": [
    "from imblearn.over_sampling import SMOTE\n",
    "\n",
    "#split dataset in features and target variable\n",
    "X_wo_outliers = df_wo_o.drop(['Class'], axis=1) # Features\n",
    "y_wo_outliers = df_wo_o.Class # Target variable\n",
    "\n",
    "# Split dataset into training set and test set\n",
    "X_train_smt_wo_outliers, X_test_smt_wo_outliers, y_train_smt_wo_outliers, y_test_smt_wo_outliers = train_test_split(X_wo_outliers, y_wo_outliers, test_size=0.2, stratify=y_wo_outliers, random_state=42) # 80% training and 20% test\n",
    "\n",
    "smote_technique = SMOTE(sampling_strategy='minority')\n",
    "X_smt_wo_outliers, y_smt_wo_outliers = smote_technique.fit_resample(X_train_smt_wo_outliers, y_train_smt_wo_outliers)"
   ]
  },
  {
   "cell_type": "code",
   "execution_count": 40,
   "id": "16adfce0-2efb-4942-b3ca-f49632a01613",
   "metadata": {},
   "outputs": [
    {
     "name": "stderr",
     "output_type": "stream",
     "text": [
      "C:\\Python310\\lib\\site-packages\\scipy\\optimize\\_linesearch.py:456: LineSearchWarning: The line search algorithm did not converge\n",
      "  warn('The line search algorithm did not converge', LineSearchWarning)\n",
      "C:\\Python310\\lib\\site-packages\\scipy\\optimize\\_linesearch.py:305: LineSearchWarning: The line search algorithm did not converge\n",
      "  warn('The line search algorithm did not converge', LineSearchWarning)\n",
      "C:\\Python310\\lib\\site-packages\\sklearn\\utils\\optimize.py:210: ConvergenceWarning: newton-cg failed to converge. Increase the number of iterations.\n",
      "  warnings.warn(\n"
     ]
    }
   ],
   "source": [
    "model_smt_wo_outliers = LogisticRegression(C=1e-05, penalty='l2',solver='newton-cg')\n",
    "\n",
    "# Train\n",
    "model_smt_wo_outliers = model_smt_wo_outliers.fit(X_smt_wo_outliers,y_smt_wo_outliers)\n",
    "\n",
    "#Predict the response for test dataset\n",
    "y_pred_smt_wo_outliers = model_smt_wo_outliers.predict(X_test_smt_wo_outliers)"
   ]
  },
  {
   "cell_type": "code",
   "execution_count": 41,
   "id": "ea4846ce-d92e-427d-b611-e3ef6c817aeb",
   "metadata": {},
   "outputs": [
    {
     "data": {
      "text/plain": [
       "<AxesSubplot:>"
      ]
     },
     "execution_count": 41,
     "metadata": {},
     "output_type": "execute_result"
    },
    {
     "data": {
      "image/png": "[encoded data removed]",
      "text/plain": [
       "<Figure size 432x288 with 2 Axes>"
      ]
     },
     "metadata": {
      "needs_background": "light"
     },
     "output_type": "display_data"
    }
   ],
   "source": [
    "cm_smt_wo_outliers = confusion_matrix(y_test_smt_wo_outliers, y_pred_smt_wo_outliers) \n",
    "\n",
    "sns.heatmap(cm_smt_wo_outliers/np.sum(cm_smt_wo_outliers), annot=True, \n",
    "            fmt='.2%', cmap='Blues')"
   ]
  },
  {
   "cell_type": "code",
   "execution_count": 42,
   "id": "91c13d6f-7bad-4809-903e-4e493db0c6dc",
   "metadata": {},
   "outputs": [
    {
     "name": "stdout",
     "output_type": "stream",
     "text": [
      "TP: 87, FN: 11, FP: 78, TN: 51179\n",
      "Total cost: 2038.6899999999998\n"
     ]
    }
   ],
   "source": [
    "total_cost(cm_smt_wo_outliers, X_test_smt_wo_outliers, y_test_smt_wo_outliers, y_pred_smt_wo_outliers)"
   ]
  },
  {
   "cell_type": "code",
   "execution_count": 43,
   "id": "c8719f70-a84c-4310-b591-626b3d92ef72",
   "metadata": {},
   "outputs": [],
   "source": [
    "import warnings\n",
    "warnings.simplefilter(action='ignore', category=FutureWarning)\n",
    "\n",
    "def my_scorer_smt_wo_outliers(y_true, y_pred):\n",
    "    model_cm = confusion_matrix(y_true, y_pred) \n",
    "    \n",
    "    for cls in range(model_cm.shape[0]):\n",
    "        #print(f'[Class {cls} vs others]')\n",
    "        TP, FN, FP, TN = confusion_matrix_for(cls, model_cm).ravel() \n",
    "        \n",
    "    labels = np.array(['true negative',   # y_test, y_pred = 0,0\n",
    "                   'false positive',  # y_test, y_pred = 0,1\n",
    "                   'false negative',  # y_test, y_pred = 1,0\n",
    "                   'true positive'    # y_test, y_pred = 1,1\n",
    "                  ])\n",
    "    X_test_score = X_smt_wo_outliers\n",
    "    # X_test_score = get_x_elements_by_indices(X_test_score, y_true.index)\n",
    "    #print(labels[y_true * 2 + y_pred])\n",
    "    #X_test_score['case'] = labels[y_true * 2 + y_pred]\n",
    "    Ca = 5\n",
    "    TotalCost = getTotalAmountFalseNegativeMyScorer(X_test_score, y_true, y_pred) + (FP + TP) * Ca\n",
    "    print(TotalCost)\n",
    "    return TotalCost\n",
    "\n",
    "my_func_smt_wo_outliers = make_scorer(my_scorer_smt_wo_outliers, greater_is_better=False)"
   ]
  },
  {
   "cell_type": "code",
   "execution_count": 44,
   "id": "0b6cb9f6-c1b0-4b76-a9ed-641d64aae734",
   "metadata": {},
   "outputs": [
    {
     "name": "stdout",
     "output_type": "stream",
     "text": [
      "Fitting 5 folds for each of 96 candidates, totalling 480 fits\n",
      "[CV 1/5; 1/96] START logisticregression__C=1e-05, logisticregression__penalty=none, logisticregression__solver=newton-cg\n"
     ]
    },
    {
     "name": "stderr",
     "output_type": "stream",
     "text": [
      "C:\\Python310\\lib\\site-packages\\sklearn\\linear_model\\_logistic.py:1113: UserWarning: Setting penalty='none' will ignore the C and l1_ratio parameters\n",
      "  warnings.warn(\n",
      "C:\\Python310\\lib\\site-packages\\scipy\\optimize\\_linesearch.py:456: LineSearchWarning: The line search algorithm did not converge\n",
      "  warn('The line search algorithm did not converge', LineSearchWarning)\n",
      "C:\\Python310\\lib\\site-packages\\scipy\\optimize\\_linesearch.py:305: LineSearchWarning: The line search algorithm did not converge\n",
      "  warn('The line search algorithm did not converge', LineSearchWarning)\n",
      "C:\\Python310\\lib\\site-packages\\sklearn\\utils\\optimize.py:210: ConvergenceWarning: newton-cg failed to converge. Increase the number of iterations.\n",
      "  warnings.warn(\n"
     ]
    },
    {
     "name": "stdout",
     "output_type": "stream",
     "text": [
      "No of FN: 10\n",
      "2908.7008200038385\n",
      "[CV 1/5; 1/96] END logisticregression__C=1e-05, logisticregression__penalty=none, logisticregression__solver=newton-cg;, score=-2908.701 total time=  24.0s\n",
      "[CV 2/5; 1/96] START logisticregression__C=1e-05, logisticregression__penalty=none, logisticregression__solver=newton-cg\n"
     ]
    },
    {
     "name": "stderr",
     "output_type": "stream",
     "text": [
      "C:\\Python310\\lib\\site-packages\\sklearn\\linear_model\\_logistic.py:1113: UserWarning: Setting penalty='none' will ignore the C and l1_ratio parameters\n",
      "  warnings.warn(\n",
      "C:\\Python310\\lib\\site-packages\\scipy\\optimize\\_linesearch.py:456: LineSearchWarning: The line search algorithm did not converge\n",
      "  warn('The line search algorithm did not converge', LineSearchWarning)\n",
      "C:\\Python310\\lib\\site-packages\\scipy\\optimize\\_linesearch.py:305: LineSearchWarning: The line search algorithm did not converge\n",
      "  warn('The line search algorithm did not converge', LineSearchWarning)\n"
     ]
    },
    {
     "name": "stdout",
     "output_type": "stream",
     "text": [
      "No of FN: 9\n",
      "3047.9429931775812\n",
      "[CV 2/5; 1/96] END logisticregression__C=1e-05, logisticregression__penalty=none, logisticregression__solver=newton-cg;, score=-3047.943 total time=  23.4s\n",
      "[CV 3/5; 1/96] START logisticregression__C=1e-05, logisticregression__penalty=none, logisticregression__solver=newton-cg\n"
     ]
    },
    {
     "name": "stderr",
     "output_type": "stream",
     "text": [
      "C:\\Python310\\lib\\site-packages\\sklearn\\utils\\optimize.py:210: ConvergenceWarning: newton-cg failed to converge. Increase the number of iterations.\n",
      "  warnings.warn(\n",
      "C:\\Python310\\lib\\site-packages\\sklearn\\linear_model\\_logistic.py:1113: UserWarning: Setting penalty='none' will ignore the C and l1_ratio parameters\n",
      "  warnings.warn(\n",
      "C:\\Python310\\lib\\site-packages\\scipy\\optimize\\_linesearch.py:456: LineSearchWarning: The line search algorithm did not converge\n",
      "  warn('The line search algorithm did not converge', LineSearchWarning)\n",
      "C:\\Python310\\lib\\site-packages\\scipy\\optimize\\_linesearch.py:305: LineSearchWarning: The line search algorithm did not converge\n",
      "  warn('The line search algorithm did not converge', LineSearchWarning)\n",
      "C:\\Python310\\lib\\site-packages\\sklearn\\utils\\optimize.py:210: ConvergenceWarning: newton-cg failed to converge. Increase the number of iterations.\n",
      "  warnings.warn(\n"
     ]
    },
    {
     "name": "stdout",
     "output_type": "stream",
     "text": [
      "No of FN: 9\n",
      "3578.237663936143\n",
      "[CV 3/5; 1/96] END logisticregression__C=1e-05, logisticregression__penalty=none, logisticregression__solver=newton-cg;, score=-3578.238 total time=  23.9s\n",
      "[CV 4/5; 1/96] START logisticregression__C=1e-05, logisticregression__penalty=none, logisticregression__solver=newton-cg\n"
     ]
    },
    {
     "name": "stderr",
     "output_type": "stream",
     "text": [
      "C:\\Python310\\lib\\site-packages\\sklearn\\linear_model\\_logistic.py:1113: UserWarning: Setting penalty='none' will ignore the C and l1_ratio parameters\n",
      "  warnings.warn(\n",
      "C:\\Python310\\lib\\site-packages\\scipy\\optimize\\_linesearch.py:456: LineSearchWarning: The line search algorithm did not converge\n",
      "  warn('The line search algorithm did not converge', LineSearchWarning)\n",
      "C:\\Python310\\lib\\site-packages\\scipy\\optimize\\_linesearch.py:305: LineSearchWarning: The line search algorithm did not converge\n",
      "  warn('The line search algorithm did not converge', LineSearchWarning)\n",
      "C:\\Python310\\lib\\site-packages\\sklearn\\utils\\optimize.py:210: ConvergenceWarning: newton-cg failed to converge. Increase the number of iterations.\n",
      "  warnings.warn(\n"
     ]
    },
    {
     "name": "stdout",
     "output_type": "stream",
     "text": [
      "No of FN: 9\n",
      "2751.1220654316603\n",
      "[CV 4/5; 1/96] END logisticregression__C=1e-05, logisticregression__penalty=none, logisticregression__solver=newton-cg;, score=-2751.122 total time=  23.7s\n",
      "[CV 5/5; 1/96] START logisticregression__C=1e-05, logisticregression__penalty=none, logisticregression__solver=newton-cg\n"
     ]
    },
    {
     "name": "stderr",
     "output_type": "stream",
     "text": [
      "C:\\Python310\\lib\\site-packages\\sklearn\\linear_model\\_logistic.py:1113: UserWarning: Setting penalty='none' will ignore the C and l1_ratio parameters\n",
      "  warnings.warn(\n",
      "C:\\Python310\\lib\\site-packages\\scipy\\optimize\\_linesearch.py:456: LineSearchWarning: The line search algorithm did not converge\n",
      "  warn('The line search algorithm did not converge', LineSearchWarning)\n",
      "C:\\Python310\\lib\\site-packages\\scipy\\optimize\\_linesearch.py:305: LineSearchWarning: The line search algorithm did not converge\n",
      "  warn('The line search algorithm did not converge', LineSearchWarning)\n",
      "C:\\Python310\\lib\\site-packages\\sklearn\\utils\\optimize.py:210: ConvergenceWarning: newton-cg failed to converge. Increase the number of iterations.\n",
      "  warnings.warn(\n"
     ]
    },
    {
     "name": "stdout",
     "output_type": "stream",
     "text": [
      "No of FN: 6\n",
      "2829.44\n",
      "[CV 5/5; 1/96] END logisticregression__C=1e-05, logisticregression__penalty=none, logisticregression__solver=newton-cg;, score=-2829.440 total time=  25.8s\n",
      "[CV 1/5; 2/96] START logisticregression__C=1e-05, logisticregression__penalty=none, logisticregression__solver=lbfgs\n"
     ]
    },
    {
     "name": "stderr",
     "output_type": "stream",
     "text": [
      "C:\\Python310\\lib\\site-packages\\sklearn\\linear_model\\_logistic.py:1113: UserWarning: Setting penalty='none' will ignore the C and l1_ratio parameters\n",
      "  warnings.warn(\n"
     ]
    },
    {
     "name": "stdout",
     "output_type": "stream",
     "text": [
      "No of FN: 11\n",
      "6081.692867403903\n",
      "[CV 1/5; 2/96] END logisticregression__C=1e-05, logisticregression__penalty=none, logisticregression__solver=lbfgs;, score=-6081.693 total time=   2.3s\n",
      "[CV 2/5; 2/96] START logisticregression__C=1e-05, logisticregression__penalty=none, logisticregression__solver=lbfgs\n"
     ]
    },
    {
     "name": "stderr",
     "output_type": "stream",
     "text": [
      "C:\\Python310\\lib\\site-packages\\sklearn\\linear_model\\_logistic.py:1113: UserWarning: Setting penalty='none' will ignore the C and l1_ratio parameters\n",
      "  warnings.warn(\n"
     ]
    },
    {
     "name": "stdout",
     "output_type": "stream",
     "text": [
      "No of FN: 9\n",
      "5512.942993177581\n",
      "[CV 2/5; 2/96] END logisticregression__C=1e-05, logisticregression__penalty=none, logisticregression__solver=lbfgs;, score=-5512.943 total time=   2.3s\n",
      "[CV 3/5; 2/96] START logisticregression__C=1e-05, logisticregression__penalty=none, logisticregression__solver=lbfgs\n"
     ]
    },
    {
     "name": "stderr",
     "output_type": "stream",
     "text": [
      "C:\\Python310\\lib\\site-packages\\sklearn\\linear_model\\_logistic.py:1113: UserWarning: Setting penalty='none' will ignore the C and l1_ratio parameters\n",
      "  warnings.warn(\n"
     ]
    },
    {
     "name": "stdout",
     "output_type": "stream",
     "text": [
      "No of FN: 10\n",
      "9145.88777682016\n",
      "[CV 3/5; 2/96] END logisticregression__C=1e-05, logisticregression__penalty=none, logisticregression__solver=lbfgs;, score=-9145.888 total time=   1.4s\n",
      "[CV 4/5; 2/96] START logisticregression__C=1e-05, logisticregression__penalty=none, logisticregression__solver=lbfgs\n"
     ]
    },
    {
     "name": "stderr",
     "output_type": "stream",
     "text": [
      "C:\\Python310\\lib\\site-packages\\sklearn\\linear_model\\_logistic.py:1113: UserWarning: Setting penalty='none' will ignore the C and l1_ratio parameters\n",
      "  warnings.warn(\n",
      "C:\\Python310\\lib\\site-packages\\sklearn\\linear_model\\_logistic.py:444: ConvergenceWarning: lbfgs failed to converge (status=1):\n",
      "STOP: TOTAL NO. of ITERATIONS REACHED LIMIT.\n",
      "\n",
      "Increase the number of iterations (max_iter) or scale the data as shown in:\n",
      "    https://scikit-learn.org/stable/modules/preprocessing.html\n",
      "Please also refer to the documentation for alternative solver options:\n",
      "    https://scikit-learn.org/stable/modules/linear_model.html#logistic-regression\n",
      "  n_iter_i = _check_optimize_result(\n"
     ]
    },
    {
     "name": "stdout",
     "output_type": "stream",
     "text": [
      "No of FN: 7\n",
      "5308.34206543166\n",
      "[CV 4/5; 2/96] END logisticregression__C=1e-05, logisticregression__penalty=none, logisticregression__solver=lbfgs;, score=-5308.342 total time=   2.7s\n",
      "[CV 5/5; 2/96] START logisticregression__C=1e-05, logisticregression__penalty=none, logisticregression__solver=lbfgs\n"
     ]
    },
    {
     "name": "stderr",
     "output_type": "stream",
     "text": [
      "C:\\Python310\\lib\\site-packages\\sklearn\\linear_model\\_logistic.py:1113: UserWarning: Setting penalty='none' will ignore the C and l1_ratio parameters\n",
      "  warnings.warn(\n"
     ]
    },
    {
     "name": "stdout",
     "output_type": "stream",
     "text": [
      "No of FN: 6\n",
      "5945.84\n",
      "[CV 5/5; 2/96] END logisticregression__C=1e-05, logisticregression__penalty=none, logisticregression__solver=lbfgs;, score=-5945.840 total time=   2.0s\n",
      "[CV 1/5; 3/96] START logisticregression__C=1e-05, logisticregression__penalty=none, logisticregression__solver=liblinear\n",
      "[CV 1/5; 3/96] END logisticregression__C=1e-05, logisticregression__penalty=none, logisticregression__solver=liblinear;, score=nan total time=   0.2s\n",
      "[CV 2/5; 3/96] START logisticregression__C=1e-05, logisticregression__penalty=none, logisticregression__solver=liblinear\n",
      "[CV 2/5; 3/96] END logisticregression__C=1e-05, logisticregression__penalty=none, logisticregression__solver=liblinear;, score=nan total time=   0.2s\n",
      "[CV 3/5; 3/96] START logisticregression__C=1e-05, logisticregression__penalty=none, logisticregression__solver=liblinear\n",
      "[CV 3/5; 3/96] END logisticregression__C=1e-05, logisticregression__penalty=none, logisticregression__solver=liblinear;, score=nan total time=   0.2s\n",
      "[CV 4/5; 3/96] START logisticregression__C=1e-05, logisticregression__penalty=none, logisticregression__solver=liblinear\n",
      "[CV 4/5; 3/96] END logisticregression__C=1e-05, logisticregression__penalty=none, logisticregression__solver=liblinear;, score=nan total time=   0.3s\n",
      "[CV 5/5; 3/96] START logisticregression__C=1e-05, logisticregression__penalty=none, logisticregression__solver=liblinear\n",
      "[CV 5/5; 3/96] END logisticregression__C=1e-05, logisticregression__penalty=none, logisticregression__solver=liblinear;, score=nan total time=   0.2s\n",
      "[CV 1/5; 4/96] START logisticregression__C=1e-05, logisticregression__penalty=l1, logisticregression__solver=newton-cg\n",
      "[CV 1/5; 4/96] END logisticregression__C=1e-05, logisticregression__penalty=l1, logisticregression__solver=newton-cg;, score=nan total time=   0.2s\n",
      "[CV 2/5; 4/96] START logisticregression__C=1e-05, logisticregression__penalty=l1, logisticregression__solver=newton-cg\n",
      "[CV 2/5; 4/96] END logisticregression__C=1e-05, logisticregression__penalty=l1, logisticregression__solver=newton-cg;, score=nan total time=   0.2s\n",
      "[CV 3/5; 4/96] START logisticregression__C=1e-05, logisticregression__penalty=l1, logisticregression__solver=newton-cg\n",
      "[CV 3/5; 4/96] END logisticregression__C=1e-05, logisticregression__penalty=l1, logisticregression__solver=newton-cg;, score=nan total time=   0.3s\n",
      "[CV 4/5; 4/96] START logisticregression__C=1e-05, logisticregression__penalty=l1, logisticregression__solver=newton-cg\n",
      "[CV 4/5; 4/96] END logisticregression__C=1e-05, logisticregression__penalty=l1, logisticregression__solver=newton-cg;, score=nan total time=   0.3s\n",
      "[CV 5/5; 4/96] START logisticregression__C=1e-05, logisticregression__penalty=l1, logisticregression__solver=newton-cg\n",
      "[CV 5/5; 4/96] END logisticregression__C=1e-05, logisticregression__penalty=l1, logisticregression__solver=newton-cg;, score=nan total time=   0.2s\n",
      "[CV 1/5; 5/96] START logisticregression__C=1e-05, logisticregression__penalty=l1, logisticregression__solver=lbfgs\n",
      "[CV 1/5; 5/96] END logisticregression__C=1e-05, logisticregression__penalty=l1, logisticregression__solver=lbfgs;, score=nan total time=   0.2s\n",
      "[CV 2/5; 5/96] START logisticregression__C=1e-05, logisticregression__penalty=l1, logisticregression__solver=lbfgs\n",
      "[CV 2/5; 5/96] END logisticregression__C=1e-05, logisticregression__penalty=l1, logisticregression__solver=lbfgs;, score=nan total time=   0.2s\n",
      "[CV 3/5; 5/96] START logisticregression__C=1e-05, logisticregression__penalty=l1, logisticregression__solver=lbfgs\n",
      "[CV 3/5; 5/96] END logisticregression__C=1e-05, logisticregression__penalty=l1, logisticregression__solver=lbfgs;, score=nan total time=   0.3s\n",
      "[CV 4/5; 5/96] START logisticregression__C=1e-05, logisticregression__penalty=l1, logisticregression__solver=lbfgs\n",
      "[CV 4/5; 5/96] END logisticregression__C=1e-05, logisticregression__penalty=l1, logisticregression__solver=lbfgs;, score=nan total time=   0.2s\n",
      "[CV 5/5; 5/96] START logisticregression__C=1e-05, logisticregression__penalty=l1, logisticregression__solver=lbfgs\n",
      "[CV 5/5; 5/96] END logisticregression__C=1e-05, logisticregression__penalty=l1, logisticregression__solver=lbfgs;, score=nan total time=   0.2s\n",
      "[CV 1/5; 6/96] START logisticregression__C=1e-05, logisticregression__penalty=l1, logisticregression__solver=liblinear\n",
      "No of FN: 15\n",
      "6601.602867403903\n",
      "[CV 1/5; 6/96] END logisticregression__C=1e-05, logisticregression__penalty=l1, logisticregression__solver=liblinear;, score=-6601.603 total time=   1.1s\n",
      "[CV 2/5; 6/96] START logisticregression__C=1e-05, logisticregression__penalty=l1, logisticregression__solver=liblinear\n",
      "No of FN: 17\n",
      "5732.54193721458\n",
      "[CV 2/5; 6/96] END logisticregression__C=1e-05, logisticregression__penalty=l1, logisticregression__solver=liblinear;, score=-5732.542 total time=   1.1s\n",
      "[CV 3/5; 6/96] START logisticregression__C=1e-05, logisticregression__penalty=l1, logisticregression__solver=liblinear\n",
      "No of FN: 10\n",
      "5978.237663936143\n",
      "[CV 3/5; 6/96] END logisticregression__C=1e-05, logisticregression__penalty=l1, logisticregression__solver=liblinear;, score=-5978.238 total time=   0.8s\n",
      "[CV 4/5; 6/96] START logisticregression__C=1e-05, logisticregression__penalty=l1, logisticregression__solver=liblinear\n",
      "No of FN: 8\n",
      "5376.1720654316605\n",
      "[CV 4/5; 6/96] END logisticregression__C=1e-05, logisticregression__penalty=l1, logisticregression__solver=liblinear;, score=-5376.172 total time=   1.0s\n",
      "[CV 5/5; 6/96] START logisticregression__C=1e-05, logisticregression__penalty=l1, logisticregression__solver=liblinear\n",
      "No of FN: 13\n",
      "4770.4700094102345\n",
      "[CV 5/5; 6/96] END logisticregression__C=1e-05, logisticregression__penalty=l1, logisticregression__solver=liblinear;, score=-4770.470 total time=   1.0s\n",
      "[CV 1/5; 7/96] START logisticregression__C=1e-05, logisticregression__penalty=l2, logisticregression__solver=newton-cg\n"
     ]
    },
    {
     "name": "stderr",
     "output_type": "stream",
     "text": [
      "C:\\Python310\\lib\\site-packages\\scipy\\optimize\\_linesearch.py:456: LineSearchWarning: The line search algorithm did not converge\n",
      "  warn('The line search algorithm did not converge', LineSearchWarning)\n",
      "C:\\Python310\\lib\\site-packages\\scipy\\optimize\\_linesearch.py:305: LineSearchWarning: The line search algorithm did not converge\n",
      "  warn('The line search algorithm did not converge', LineSearchWarning)\n",
      "C:\\Python310\\lib\\site-packages\\sklearn\\utils\\optimize.py:210: ConvergenceWarning: newton-cg failed to converge. Increase the number of iterations.\n",
      "  warnings.warn(\n"
     ]
    },
    {
     "name": "stdout",
     "output_type": "stream",
     "text": [
      "No of FN: 13\n",
      "2640.2625325024505\n",
      "[CV 1/5; 7/96] END logisticregression__C=1e-05, logisticregression__penalty=l2, logisticregression__solver=newton-cg;, score=-2640.263 total time=  25.5s\n",
      "[CV 2/5; 7/96] START logisticregression__C=1e-05, logisticregression__penalty=l2, logisticregression__solver=newton-cg\n"
     ]
    },
    {
     "name": "stderr",
     "output_type": "stream",
     "text": [
      "C:\\Python310\\lib\\site-packages\\scipy\\optimize\\_linesearch.py:456: LineSearchWarning: The line search algorithm did not converge\n",
      "  warn('The line search algorithm did not converge', LineSearchWarning)\n",
      "C:\\Python310\\lib\\site-packages\\scipy\\optimize\\_linesearch.py:305: LineSearchWarning: The line search algorithm did not converge\n",
      "  warn('The line search algorithm did not converge', LineSearchWarning)\n",
      "C:\\Python310\\lib\\site-packages\\sklearn\\utils\\optimize.py:210: ConvergenceWarning: newton-cg failed to converge. Increase the number of iterations.\n",
      "  warnings.warn(\n"
     ]
    },
    {
     "name": "stdout",
     "output_type": "stream",
     "text": [
      "No of FN: 14\n",
      "2051.9972334026434\n",
      "[CV 2/5; 7/96] END logisticregression__C=1e-05, logisticregression__penalty=l2, logisticregression__solver=newton-cg;, score=-2051.997 total time=  24.7s\n",
      "[CV 3/5; 7/96] START logisticregression__C=1e-05, logisticregression__penalty=l2, logisticregression__solver=newton-cg\n"
     ]
    },
    {
     "name": "stderr",
     "output_type": "stream",
     "text": [
      "C:\\Python310\\lib\\site-packages\\scipy\\optimize\\_linesearch.py:456: LineSearchWarning: The line search algorithm did not converge\n",
      "  warn('The line search algorithm did not converge', LineSearchWarning)\n",
      "C:\\Python310\\lib\\site-packages\\scipy\\optimize\\_linesearch.py:305: LineSearchWarning: The line search algorithm did not converge\n",
      "  warn('The line search algorithm did not converge', LineSearchWarning)\n",
      "C:\\Python310\\lib\\site-packages\\scipy\\optimize\\_linesearch.py:415: LineSearchWarning: Rounding errors prevent the line search from converging\n",
      "  warn(msg, LineSearchWarning)\n",
      "C:\\Python310\\lib\\site-packages\\sklearn\\utils\\optimize.py:203: UserWarning: Line Search failed\n",
      "  warnings.warn(\"Line Search failed\")\n"
     ]
    },
    {
     "name": "stdout",
     "output_type": "stream",
     "text": [
      "No of FN: 11\n",
      "2390.217663936143\n",
      "[CV 3/5; 7/96] END logisticregression__C=1e-05, logisticregression__penalty=l2, logisticregression__solver=newton-cg;, score=-2390.218 total time=  24.2s\n",
      "[CV 4/5; 7/96] START logisticregression__C=1e-05, logisticregression__penalty=l2, logisticregression__solver=newton-cg\n"
     ]
    },
    {
     "name": "stderr",
     "output_type": "stream",
     "text": [
      "C:\\Python310\\lib\\site-packages\\scipy\\optimize\\_linesearch.py:456: LineSearchWarning: The line search algorithm did not converge\n",
      "  warn('The line search algorithm did not converge', LineSearchWarning)\n",
      "C:\\Python310\\lib\\site-packages\\scipy\\optimize\\_linesearch.py:305: LineSearchWarning: The line search algorithm did not converge\n",
      "  warn('The line search algorithm did not converge', LineSearchWarning)\n",
      "C:\\Python310\\lib\\site-packages\\sklearn\\utils\\optimize.py:210: ConvergenceWarning: newton-cg failed to converge. Increase the number of iterations.\n",
      "  warnings.warn(\n"
     ]
    },
    {
     "name": "stdout",
     "output_type": "stream",
     "text": [
      "No of FN: 11\n",
      "1653.2320654316602\n",
      "[CV 4/5; 7/96] END logisticregression__C=1e-05, logisticregression__penalty=l2, logisticregression__solver=newton-cg;, score=-1653.232 total time=  24.8s\n",
      "[CV 5/5; 7/96] START logisticregression__C=1e-05, logisticregression__penalty=l2, logisticregression__solver=newton-cg\n"
     ]
    },
    {
     "name": "stderr",
     "output_type": "stream",
     "text": [
      "C:\\Python310\\lib\\site-packages\\scipy\\optimize\\_linesearch.py:456: LineSearchWarning: The line search algorithm did not converge\n",
      "  warn('The line search algorithm did not converge', LineSearchWarning)\n",
      "C:\\Python310\\lib\\site-packages\\scipy\\optimize\\_linesearch.py:305: LineSearchWarning: The line search algorithm did not converge\n",
      "  warn('The line search algorithm did not converge', LineSearchWarning)\n",
      "C:\\Python310\\lib\\site-packages\\sklearn\\utils\\optimize.py:210: ConvergenceWarning: newton-cg failed to converge. Increase the number of iterations.\n",
      "  warnings.warn(\n"
     ]
    },
    {
     "name": "stdout",
     "output_type": "stream",
     "text": [
      "No of FN: 10\n",
      "1827.2379646253937\n",
      "[CV 5/5; 7/96] END logisticregression__C=1e-05, logisticregression__penalty=l2, logisticregression__solver=newton-cg;, score=-1827.238 total time=  24.8s\n",
      "[CV 1/5; 8/96] START logisticregression__C=1e-05, logisticregression__penalty=l2, logisticregression__solver=lbfgs\n",
      "No of FN: 14\n",
      "5217.682867403903\n",
      "[CV 1/5; 8/96] END logisticregression__C=1e-05, logisticregression__penalty=l2, logisticregression__solver=lbfgs;, score=-5217.683 total time=   1.4s\n",
      "[CV 2/5; 8/96] START logisticregression__C=1e-05, logisticregression__penalty=l2, logisticregression__solver=lbfgs\n",
      "No of FN: 18\n",
      "4900.24292833283\n",
      "[CV 2/5; 8/96] END logisticregression__C=1e-05, logisticregression__penalty=l2, logisticregression__solver=lbfgs;, score=-4900.243 total time=   1.3s\n",
      "[CV 3/5; 8/96] START logisticregression__C=1e-05, logisticregression__penalty=l2, logisticregression__solver=lbfgs\n",
      "No of FN: 9\n",
      "4191.217663936142\n",
      "[CV 3/5; 8/96] END logisticregression__C=1e-05, logisticregression__penalty=l2, logisticregression__solver=lbfgs;, score=-4191.218 total time=   2.2s\n",
      "[CV 4/5; 8/96] START logisticregression__C=1e-05, logisticregression__penalty=l2, logisticregression__solver=lbfgs\n",
      "No of FN: 9\n",
      "3811.1220654316603\n",
      "[CV 4/5; 8/96] END logisticregression__C=1e-05, logisticregression__penalty=l2, logisticregression__solver=lbfgs;, score=-3811.122 total time=   2.0s\n",
      "[CV 5/5; 8/96] START logisticregression__C=1e-05, logisticregression__penalty=l2, logisticregression__solver=lbfgs\n",
      "No of FN: 13\n",
      "4371.576616552209\n",
      "[CV 5/5; 8/96] END logisticregression__C=1e-05, logisticregression__penalty=l2, logisticregression__solver=lbfgs;, score=-4371.577 total time=   1.3s\n",
      "[CV 1/5; 9/96] START logisticregression__C=1e-05, logisticregression__penalty=l2, logisticregression__solver=liblinear\n",
      "No of FN: 14\n",
      "4127.682867403903\n",
      "[CV 1/5; 9/96] END logisticregression__C=1e-05, logisticregression__penalty=l2, logisticregression__solver=liblinear;, score=-4127.683 total time=   2.8s\n",
      "[CV 2/5; 9/96] START logisticregression__C=1e-05, logisticregression__penalty=l2, logisticregression__solver=liblinear\n",
      "No of FN: 12\n",
      "4371.08292833283\n",
      "[CV 2/5; 9/96] END logisticregression__C=1e-05, logisticregression__penalty=l2, logisticregression__solver=liblinear;, score=-4371.083 total time=   2.7s\n",
      "[CV 3/5; 9/96] START logisticregression__C=1e-05, logisticregression__penalty=l2, logisticregression__solver=liblinear\n",
      "No of FN: 9\n",
      "3956.217663936143\n",
      "[CV 3/5; 9/96] END logisticregression__C=1e-05, logisticregression__penalty=l2, logisticregression__solver=liblinear;, score=-3956.218 total time=   3.2s\n",
      "[CV 4/5; 9/96] START logisticregression__C=1e-05, logisticregression__penalty=l2, logisticregression__solver=liblinear\n",
      "No of FN: 10\n",
      "3575.1220654316603\n",
      "[CV 4/5; 9/96] END logisticregression__C=1e-05, logisticregression__penalty=l2, logisticregression__solver=liblinear;, score=-3575.122 total time=   2.6s\n",
      "[CV 5/5; 9/96] START logisticregression__C=1e-05, logisticregression__penalty=l2, logisticregression__solver=liblinear\n",
      "No of FN: 9\n",
      "3468.4679646253935\n",
      "[CV 5/5; 9/96] END logisticregression__C=1e-05, logisticregression__penalty=l2, logisticregression__solver=liblinear;, score=-3468.468 total time=   2.7s\n",
      "[CV 1/5; 10/96] START logisticregression__C=1e-05, logisticregression__penalty=elasticnet, logisticregression__solver=newton-cg\n",
      "[CV 1/5; 10/96] END logisticregression__C=1e-05, logisticregression__penalty=elasticnet, logisticregression__solver=newton-cg;, score=nan total time=   0.2s\n",
      "[CV 2/5; 10/96] START logisticregression__C=1e-05, logisticregression__penalty=elasticnet, logisticregression__solver=newton-cg\n",
      "[CV 2/5; 10/96] END logisticregression__C=1e-05, logisticregression__penalty=elasticnet, logisticregression__solver=newton-cg;, score=nan total time=   0.2s\n",
      "[CV 3/5; 10/96] START logisticregression__C=1e-05, logisticregression__penalty=elasticnet, logisticregression__solver=newton-cg\n",
      "[CV 3/5; 10/96] END logisticregression__C=1e-05, logisticregression__penalty=elasticnet, logisticregression__solver=newton-cg;, score=nan total time=   0.2s\n",
      "[CV 4/5; 10/96] START logisticregression__C=1e-05, logisticregression__penalty=elasticnet, logisticregression__solver=newton-cg\n",
      "[CV 4/5; 10/96] END logisticregression__C=1e-05, logisticregression__penalty=elasticnet, logisticregression__solver=newton-cg;, score=nan total time=   0.2s\n",
      "[CV 5/5; 10/96] START logisticregression__C=1e-05, logisticregression__penalty=elasticnet, logisticregression__solver=newton-cg\n",
      "[CV 5/5; 10/96] END logisticregression__C=1e-05, logisticregression__penalty=elasticnet, logisticregression__solver=newton-cg;, score=nan total time=   0.3s\n",
      "[CV 1/5; 11/96] START logisticregression__C=1e-05, logisticregression__penalty=elasticnet, logisticregression__solver=lbfgs\n",
      "[CV 1/5; 11/96] END logisticregression__C=1e-05, logisticregression__penalty=elasticnet, logisticregression__solver=lbfgs;, score=nan total time=   0.2s\n",
      "[CV 2/5; 11/96] START logisticregression__C=1e-05, logisticregression__penalty=elasticnet, logisticregression__solver=lbfgs\n",
      "[CV 2/5; 11/96] END logisticregression__C=1e-05, logisticregression__penalty=elasticnet, logisticregression__solver=lbfgs;, score=nan total time=   0.2s\n",
      "[CV 3/5; 11/96] START logisticregression__C=1e-05, logisticregression__penalty=elasticnet, logisticregression__solver=lbfgs\n",
      "[CV 3/5; 11/96] END logisticregression__C=1e-05, logisticregression__penalty=elasticnet, logisticregression__solver=lbfgs;, score=nan total time=   0.2s\n",
      "[CV 4/5; 11/96] START logisticregression__C=1e-05, logisticregression__penalty=elasticnet, logisticregression__solver=lbfgs\n",
      "[CV 4/5; 11/96] END logisticregression__C=1e-05, logisticregression__penalty=elasticnet, logisticregression__solver=lbfgs;, score=nan total time=   0.2s\n",
      "[CV 5/5; 11/96] START logisticregression__C=1e-05, logisticregression__penalty=elasticnet, logisticregression__solver=lbfgs\n",
      "[CV 5/5; 11/96] END logisticregression__C=1e-05, logisticregression__penalty=elasticnet, logisticregression__solver=lbfgs;, score=nan total time=   0.2s\n",
      "[CV 1/5; 12/96] START logisticregression__C=1e-05, logisticregression__penalty=elasticnet, logisticregression__solver=liblinear\n",
      "[CV 1/5; 12/96] END logisticregression__C=1e-05, logisticregression__penalty=elasticnet, logisticregression__solver=liblinear;, score=nan total time=   0.3s\n",
      "[CV 2/5; 12/96] START logisticregression__C=1e-05, logisticregression__penalty=elasticnet, logisticregression__solver=liblinear\n",
      "[CV 2/5; 12/96] END logisticregression__C=1e-05, logisticregression__penalty=elasticnet, logisticregression__solver=liblinear;, score=nan total time=   0.2s\n",
      "[CV 3/5; 12/96] START logisticregression__C=1e-05, logisticregression__penalty=elasticnet, logisticregression__solver=liblinear\n",
      "[CV 3/5; 12/96] END logisticregression__C=1e-05, logisticregression__penalty=elasticnet, logisticregression__solver=liblinear;, score=nan total time=   0.2s\n",
      "[CV 4/5; 12/96] START logisticregression__C=1e-05, logisticregression__penalty=elasticnet, logisticregression__solver=liblinear\n",
      "[CV 4/5; 12/96] END logisticregression__C=1e-05, logisticregression__penalty=elasticnet, logisticregression__solver=liblinear;, score=nan total time=   0.2s\n",
      "[CV 5/5; 12/96] START logisticregression__C=1e-05, logisticregression__penalty=elasticnet, logisticregression__solver=liblinear\n",
      "[CV 5/5; 12/96] END logisticregression__C=1e-05, logisticregression__penalty=elasticnet, logisticregression__solver=liblinear;, score=nan total time=   0.2s\n",
      "[CV 1/5; 13/96] START logisticregression__C=0.0001, logisticregression__penalty=none, logisticregression__solver=newton-cg\n"
     ]
    },
    {
     "name": "stderr",
     "output_type": "stream",
     "text": [
      "C:\\Python310\\lib\\site-packages\\sklearn\\linear_model\\_logistic.py:1113: UserWarning: Setting penalty='none' will ignore the C and l1_ratio parameters\n",
      "  warnings.warn(\n",
      "C:\\Python310\\lib\\site-packages\\scipy\\optimize\\_linesearch.py:456: LineSearchWarning: The line search algorithm did not converge\n",
      "  warn('The line search algorithm did not converge', LineSearchWarning)\n",
      "C:\\Python310\\lib\\site-packages\\scipy\\optimize\\_linesearch.py:305: LineSearchWarning: The line search algorithm did not converge\n",
      "  warn('The line search algorithm did not converge', LineSearchWarning)\n",
      "C:\\Python310\\lib\\site-packages\\sklearn\\utils\\optimize.py:210: ConvergenceWarning: newton-cg failed to converge. Increase the number of iterations.\n",
      "  warnings.warn(\n"
     ]
    },
    {
     "name": "stdout",
     "output_type": "stream",
     "text": [
      "No of FN: 10\n",
      "2908.7008200038385\n",
      "[CV 1/5; 13/96] END logisticregression__C=0.0001, logisticregression__penalty=none, logisticregression__solver=newton-cg;, score=-2908.701 total time=  23.9s\n",
      "[CV 2/5; 13/96] START logisticregression__C=0.0001, logisticregression__penalty=none, logisticregression__solver=newton-cg\n"
     ]
    },
    {
     "name": "stderr",
     "output_type": "stream",
     "text": [
      "C:\\Python310\\lib\\site-packages\\sklearn\\linear_model\\_logistic.py:1113: UserWarning: Setting penalty='none' will ignore the C and l1_ratio parameters\n",
      "  warnings.warn(\n",
      "C:\\Python310\\lib\\site-packages\\scipy\\optimize\\_linesearch.py:456: LineSearchWarning: The line search algorithm did not converge\n",
      "  warn('The line search algorithm did not converge', LineSearchWarning)\n",
      "C:\\Python310\\lib\\site-packages\\scipy\\optimize\\_linesearch.py:305: LineSearchWarning: The line search algorithm did not converge\n",
      "  warn('The line search algorithm did not converge', LineSearchWarning)\n",
      "C:\\Python310\\lib\\site-packages\\sklearn\\utils\\optimize.py:210: ConvergenceWarning: newton-cg failed to converge. Increase the number of iterations.\n",
      "  warnings.warn(\n"
     ]
    },
    {
     "name": "stdout",
     "output_type": "stream",
     "text": [
      "No of FN: 9\n",
      "3047.9429931775812\n",
      "[CV 2/5; 13/96] END logisticregression__C=0.0001, logisticregression__penalty=none, logisticregression__solver=newton-cg;, score=-3047.943 total time=  23.0s\n",
      "[CV 3/5; 13/96] START logisticregression__C=0.0001, logisticregression__penalty=none, logisticregression__solver=newton-cg\n"
     ]
    },
    {
     "name": "stderr",
     "output_type": "stream",
     "text": [
      "C:\\Python310\\lib\\site-packages\\sklearn\\linear_model\\_logistic.py:1113: UserWarning: Setting penalty='none' will ignore the C and l1_ratio parameters\n",
      "  warnings.warn(\n",
      "C:\\Python310\\lib\\site-packages\\scipy\\optimize\\_linesearch.py:456: LineSearchWarning: The line search algorithm did not converge\n",
      "  warn('The line search algorithm did not converge', LineSearchWarning)\n",
      "C:\\Python310\\lib\\site-packages\\scipy\\optimize\\_linesearch.py:305: LineSearchWarning: The line search algorithm did not converge\n",
      "  warn('The line search algorithm did not converge', LineSearchWarning)\n",
      "C:\\Python310\\lib\\site-packages\\sklearn\\utils\\optimize.py:210: ConvergenceWarning: newton-cg failed to converge. Increase the number of iterations.\n",
      "  warnings.warn(\n"
     ]
    },
    {
     "name": "stdout",
     "output_type": "stream",
     "text": [
      "No of FN: 9\n",
      "3578.237663936143\n",
      "[CV 3/5; 13/96] END logisticregression__C=0.0001, logisticregression__penalty=none, logisticregression__solver=newton-cg;, score=-3578.238 total time=  24.9s\n",
      "[CV 4/5; 13/96] START logisticregression__C=0.0001, logisticregression__penalty=none, logisticregression__solver=newton-cg\n"
     ]
    },
    {
     "name": "stderr",
     "output_type": "stream",
     "text": [
      "C:\\Python310\\lib\\site-packages\\sklearn\\linear_model\\_logistic.py:1113: UserWarning: Setting penalty='none' will ignore the C and l1_ratio parameters\n",
      "  warnings.warn(\n",
      "C:\\Python310\\lib\\site-packages\\scipy\\optimize\\_linesearch.py:456: LineSearchWarning: The line search algorithm did not converge\n",
      "  warn('The line search algorithm did not converge', LineSearchWarning)\n",
      "C:\\Python310\\lib\\site-packages\\scipy\\optimize\\_linesearch.py:305: LineSearchWarning: The line search algorithm did not converge\n",
      "  warn('The line search algorithm did not converge', LineSearchWarning)\n",
      "C:\\Python310\\lib\\site-packages\\sklearn\\utils\\optimize.py:210: ConvergenceWarning: newton-cg failed to converge. Increase the number of iterations.\n",
      "  warnings.warn(\n"
     ]
    },
    {
     "name": "stdout",
     "output_type": "stream",
     "text": [
      "No of FN: 9\n",
      "2751.1220654316603\n",
      "[CV 4/5; 13/96] END logisticregression__C=0.0001, logisticregression__penalty=none, logisticregression__solver=newton-cg;, score=-2751.122 total time=  26.1s\n",
      "[CV 5/5; 13/96] START logisticregression__C=0.0001, logisticregression__penalty=none, logisticregression__solver=newton-cg\n"
     ]
    },
    {
     "name": "stderr",
     "output_type": "stream",
     "text": [
      "C:\\Python310\\lib\\site-packages\\sklearn\\linear_model\\_logistic.py:1113: UserWarning: Setting penalty='none' will ignore the C and l1_ratio parameters\n",
      "  warnings.warn(\n",
      "C:\\Python310\\lib\\site-packages\\scipy\\optimize\\_linesearch.py:456: LineSearchWarning: The line search algorithm did not converge\n",
      "  warn('The line search algorithm did not converge', LineSearchWarning)\n",
      "C:\\Python310\\lib\\site-packages\\scipy\\optimize\\_linesearch.py:305: LineSearchWarning: The line search algorithm did not converge\n",
      "  warn('The line search algorithm did not converge', LineSearchWarning)\n",
      "C:\\Python310\\lib\\site-packages\\sklearn\\utils\\optimize.py:210: ConvergenceWarning: newton-cg failed to converge. Increase the number of iterations.\n",
      "  warnings.warn(\n"
     ]
    },
    {
     "name": "stdout",
     "output_type": "stream",
     "text": [
      "No of FN: 6\n",
      "2829.44\n",
      "[CV 5/5; 13/96] END logisticregression__C=0.0001, logisticregression__penalty=none, logisticregression__solver=newton-cg;, score=-2829.440 total time=  27.2s\n",
      "[CV 1/5; 14/96] START logisticregression__C=0.0001, logisticregression__penalty=none, logisticregression__solver=lbfgs\n"
     ]
    },
    {
     "name": "stderr",
     "output_type": "stream",
     "text": [
      "C:\\Python310\\lib\\site-packages\\sklearn\\linear_model\\_logistic.py:1113: UserWarning: Setting penalty='none' will ignore the C and l1_ratio parameters\n",
      "  warnings.warn(\n"
     ]
    },
    {
     "name": "stdout",
     "output_type": "stream",
     "text": [
      "No of FN: 11\n",
      "6081.692867403903\n",
      "[CV 1/5; 14/96] END logisticregression__C=0.0001, logisticregression__penalty=none, logisticregression__solver=lbfgs;, score=-6081.693 total time=   2.3s\n",
      "[CV 2/5; 14/96] START logisticregression__C=0.0001, logisticregression__penalty=none, logisticregression__solver=lbfgs\n"
     ]
    },
    {
     "name": "stderr",
     "output_type": "stream",
     "text": [
      "C:\\Python310\\lib\\site-packages\\sklearn\\linear_model\\_logistic.py:1113: UserWarning: Setting penalty='none' will ignore the C and l1_ratio parameters\n",
      "  warnings.warn(\n"
     ]
    },
    {
     "name": "stdout",
     "output_type": "stream",
     "text": [
      "No of FN: 9\n",
      "5512.942993177581\n",
      "[CV 2/5; 14/96] END logisticregression__C=0.0001, logisticregression__penalty=none, logisticregression__solver=lbfgs;, score=-5512.943 total time=   2.2s\n",
      "[CV 3/5; 14/96] START logisticregression__C=0.0001, logisticregression__penalty=none, logisticregression__solver=lbfgs\n"
     ]
    },
    {
     "name": "stderr",
     "output_type": "stream",
     "text": [
      "C:\\Python310\\lib\\site-packages\\sklearn\\linear_model\\_logistic.py:1113: UserWarning: Setting penalty='none' will ignore the C and l1_ratio parameters\n",
      "  warnings.warn(\n"
     ]
    },
    {
     "name": "stdout",
     "output_type": "stream",
     "text": [
      "No of FN: 10\n",
      "9145.88777682016\n",
      "[CV 3/5; 14/96] END logisticregression__C=0.0001, logisticregression__penalty=none, logisticregression__solver=lbfgs;, score=-9145.888 total time=   1.5s\n",
      "[CV 4/5; 14/96] START logisticregression__C=0.0001, logisticregression__penalty=none, logisticregression__solver=lbfgs\n"
     ]
    },
    {
     "name": "stderr",
     "output_type": "stream",
     "text": [
      "C:\\Python310\\lib\\site-packages\\sklearn\\linear_model\\_logistic.py:1113: UserWarning: Setting penalty='none' will ignore the C and l1_ratio parameters\n",
      "  warnings.warn(\n",
      "C:\\Python310\\lib\\site-packages\\sklearn\\linear_model\\_logistic.py:444: ConvergenceWarning: lbfgs failed to converge (status=1):\n",
      "STOP: TOTAL NO. of ITERATIONS REACHED LIMIT.\n",
      "\n",
      "Increase the number of iterations (max_iter) or scale the data as shown in:\n",
      "    https://scikit-learn.org/stable/modules/preprocessing.html\n",
      "Please also refer to the documentation for alternative solver options:\n",
      "    https://scikit-learn.org/stable/modules/linear_model.html#logistic-regression\n",
      "  n_iter_i = _check_optimize_result(\n"
     ]
    },
    {
     "name": "stdout",
     "output_type": "stream",
     "text": [
      "No of FN: 7\n",
      "5308.34206543166\n",
      "[CV 4/5; 14/96] END logisticregression__C=0.0001, logisticregression__penalty=none, logisticregression__solver=lbfgs;, score=-5308.342 total time=   2.6s\n",
      "[CV 5/5; 14/96] START logisticregression__C=0.0001, logisticregression__penalty=none, logisticregression__solver=lbfgs\n"
     ]
    },
    {
     "name": "stderr",
     "output_type": "stream",
     "text": [
      "C:\\Python310\\lib\\site-packages\\sklearn\\linear_model\\_logistic.py:1113: UserWarning: Setting penalty='none' will ignore the C and l1_ratio parameters\n",
      "  warnings.warn(\n"
     ]
    },
    {
     "name": "stdout",
     "output_type": "stream",
     "text": [
      "No of FN: 6\n",
      "5945.84\n",
      "[CV 5/5; 14/96] END logisticregression__C=0.0001, logisticregression__penalty=none, logisticregression__solver=lbfgs;, score=-5945.840 total time=   2.1s\n",
      "[CV 1/5; 15/96] START logisticregression__C=0.0001, logisticregression__penalty=none, logisticregression__solver=liblinear\n",
      "[CV 1/5; 15/96] END logisticregression__C=0.0001, logisticregression__penalty=none, logisticregression__solver=liblinear;, score=nan total time=   0.2s\n",
      "[CV 2/5; 15/96] START logisticregression__C=0.0001, logisticregression__penalty=none, logisticregression__solver=liblinear\n",
      "[CV 2/5; 15/96] END logisticregression__C=0.0001, logisticregression__penalty=none, logisticregression__solver=liblinear;, score=nan total time=   0.2s\n",
      "[CV 3/5; 15/96] START logisticregression__C=0.0001, logisticregression__penalty=none, logisticregression__solver=liblinear\n",
      "[CV 3/5; 15/96] END logisticregression__C=0.0001, logisticregression__penalty=none, logisticregression__solver=liblinear;, score=nan total time=   0.2s\n",
      "[CV 4/5; 15/96] START logisticregression__C=0.0001, logisticregression__penalty=none, logisticregression__solver=liblinear\n",
      "[CV 4/5; 15/96] END logisticregression__C=0.0001, logisticregression__penalty=none, logisticregression__solver=liblinear;, score=nan total time=   0.2s\n",
      "[CV 5/5; 15/96] START logisticregression__C=0.0001, logisticregression__penalty=none, logisticregression__solver=liblinear\n",
      "[CV 5/5; 15/96] END logisticregression__C=0.0001, logisticregression__penalty=none, logisticregression__solver=liblinear;, score=nan total time=   0.2s\n",
      "[CV 1/5; 16/96] START logisticregression__C=0.0001, logisticregression__penalty=l1, logisticregression__solver=newton-cg\n",
      "[CV 1/5; 16/96] END logisticregression__C=0.0001, logisticregression__penalty=l1, logisticregression__solver=newton-cg;, score=nan total time=   0.2s\n",
      "[CV 2/5; 16/96] START logisticregression__C=0.0001, logisticregression__penalty=l1, logisticregression__solver=newton-cg\n",
      "[CV 2/5; 16/96] END logisticregression__C=0.0001, logisticregression__penalty=l1, logisticregression__solver=newton-cg;, score=nan total time=   0.3s\n",
      "[CV 3/5; 16/96] START logisticregression__C=0.0001, logisticregression__penalty=l1, logisticregression__solver=newton-cg\n",
      "[CV 3/5; 16/96] END logisticregression__C=0.0001, logisticregression__penalty=l1, logisticregression__solver=newton-cg;, score=nan total time=   0.2s\n",
      "[CV 4/5; 16/96] START logisticregression__C=0.0001, logisticregression__penalty=l1, logisticregression__solver=newton-cg\n",
      "[CV 4/5; 16/96] END logisticregression__C=0.0001, logisticregression__penalty=l1, logisticregression__solver=newton-cg;, score=nan total time=   0.2s\n",
      "[CV 5/5; 16/96] START logisticregression__C=0.0001, logisticregression__penalty=l1, logisticregression__solver=newton-cg\n",
      "[CV 5/5; 16/96] END logisticregression__C=0.0001, logisticregression__penalty=l1, logisticregression__solver=newton-cg;, score=nan total time=   0.2s\n",
      "[CV 1/5; 17/96] START logisticregression__C=0.0001, logisticregression__penalty=l1, logisticregression__solver=lbfgs\n",
      "[CV 1/5; 17/96] END logisticregression__C=0.0001, logisticregression__penalty=l1, logisticregression__solver=lbfgs;, score=nan total time=   0.2s\n",
      "[CV 2/5; 17/96] START logisticregression__C=0.0001, logisticregression__penalty=l1, logisticregression__solver=lbfgs\n",
      "[CV 2/5; 17/96] END logisticregression__C=0.0001, logisticregression__penalty=l1, logisticregression__solver=lbfgs;, score=nan total time=   0.2s\n",
      "[CV 3/5; 17/96] START logisticregression__C=0.0001, logisticregression__penalty=l1, logisticregression__solver=lbfgs\n",
      "[CV 3/5; 17/96] END logisticregression__C=0.0001, logisticregression__penalty=l1, logisticregression__solver=lbfgs;, score=nan total time=   0.2s\n",
      "[CV 4/5; 17/96] START logisticregression__C=0.0001, logisticregression__penalty=l1, logisticregression__solver=lbfgs\n",
      "[CV 4/5; 17/96] END logisticregression__C=0.0001, logisticregression__penalty=l1, logisticregression__solver=lbfgs;, score=nan total time=   0.2s\n",
      "[CV 5/5; 17/96] START logisticregression__C=0.0001, logisticregression__penalty=l1, logisticregression__solver=lbfgs\n",
      "[CV 5/5; 17/96] END logisticregression__C=0.0001, logisticregression__penalty=l1, logisticregression__solver=lbfgs;, score=nan total time=   0.2s\n",
      "[CV 1/5; 18/96] START logisticregression__C=0.0001, logisticregression__penalty=l1, logisticregression__solver=liblinear\n",
      "No of FN: 11\n",
      "6336.692867403903\n",
      "[CV 1/5; 18/96] END logisticregression__C=0.0001, logisticregression__penalty=l1, logisticregression__solver=liblinear;, score=-6336.693 total time=   1.3s\n",
      "[CV 2/5; 18/96] START logisticregression__C=0.0001, logisticregression__penalty=l1, logisticregression__solver=liblinear\n",
      "No of FN: 10\n",
      "5542.942993177581\n",
      "[CV 2/5; 18/96] END logisticregression__C=0.0001, logisticregression__penalty=l1, logisticregression__solver=liblinear;, score=-5542.943 total time=   1.3s\n",
      "[CV 3/5; 18/96] START logisticregression__C=0.0001, logisticregression__penalty=l1, logisticregression__solver=liblinear\n",
      "No of FN: 8\n",
      "6659.237663936143\n",
      "[CV 3/5; 18/96] END logisticregression__C=0.0001, logisticregression__penalty=l1, logisticregression__solver=liblinear;, score=-6659.238 total time=   1.3s\n",
      "[CV 4/5; 18/96] START logisticregression__C=0.0001, logisticregression__penalty=l1, logisticregression__solver=liblinear\n",
      "No of FN: 7\n",
      "5411.1720654316605\n",
      "[CV 4/5; 18/96] END logisticregression__C=0.0001, logisticregression__penalty=l1, logisticregression__solver=liblinear;, score=-5411.172 total time=   1.3s\n",
      "[CV 5/5; 18/96] START logisticregression__C=0.0001, logisticregression__penalty=l1, logisticregression__solver=liblinear\n",
      "No of FN: 7\n",
      "5860.84\n",
      "[CV 5/5; 18/96] END logisticregression__C=0.0001, logisticregression__penalty=l1, logisticregression__solver=liblinear;, score=-5860.840 total time=   1.3s\n",
      "[CV 1/5; 19/96] START logisticregression__C=0.0001, logisticregression__penalty=l2, logisticregression__solver=newton-cg\n"
     ]
    },
    {
     "name": "stderr",
     "output_type": "stream",
     "text": [
      "C:\\Python310\\lib\\site-packages\\scipy\\optimize\\_linesearch.py:456: LineSearchWarning: The line search algorithm did not converge\n",
      "  warn('The line search algorithm did not converge', LineSearchWarning)\n",
      "C:\\Python310\\lib\\site-packages\\scipy\\optimize\\_linesearch.py:305: LineSearchWarning: The line search algorithm did not converge\n",
      "  warn('The line search algorithm did not converge', LineSearchWarning)\n",
      "C:\\Python310\\lib\\site-packages\\sklearn\\utils\\optimize.py:210: ConvergenceWarning: newton-cg failed to converge. Increase the number of iterations.\n",
      "  warnings.warn(\n"
     ]
    },
    {
     "name": "stdout",
     "output_type": "stream",
     "text": [
      "No of FN: 11\n",
      "3264.2625325024505\n",
      "[CV 1/5; 19/96] END logisticregression__C=0.0001, logisticregression__penalty=l2, logisticregression__solver=newton-cg;, score=-3264.263 total time=  23.7s\n",
      "[CV 2/5; 19/96] START logisticregression__C=0.0001, logisticregression__penalty=l2, logisticregression__solver=newton-cg\n"
     ]
    },
    {
     "name": "stderr",
     "output_type": "stream",
     "text": [
      "C:\\Python310\\lib\\site-packages\\scipy\\optimize\\_linesearch.py:456: LineSearchWarning: The line search algorithm did not converge\n",
      "  warn('The line search algorithm did not converge', LineSearchWarning)\n",
      "C:\\Python310\\lib\\site-packages\\scipy\\optimize\\_linesearch.py:305: LineSearchWarning: The line search algorithm did not converge\n",
      "  warn('The line search algorithm did not converge', LineSearchWarning)\n",
      "C:\\Python310\\lib\\site-packages\\sklearn\\utils\\optimize.py:210: ConvergenceWarning: newton-cg failed to converge. Increase the number of iterations.\n",
      "  warnings.warn(\n"
     ]
    },
    {
     "name": "stdout",
     "output_type": "stream",
     "text": [
      "No of FN: 10\n",
      "3157.4429931775812\n",
      "[CV 2/5; 19/96] END logisticregression__C=0.0001, logisticregression__penalty=l2, logisticregression__solver=newton-cg;, score=-3157.443 total time=  24.0s\n",
      "[CV 3/5; 19/96] START logisticregression__C=0.0001, logisticregression__penalty=l2, logisticregression__solver=newton-cg\n"
     ]
    },
    {
     "name": "stderr",
     "output_type": "stream",
     "text": [
      "C:\\Python310\\lib\\site-packages\\scipy\\optimize\\_linesearch.py:456: LineSearchWarning: The line search algorithm did not converge\n",
      "  warn('The line search algorithm did not converge', LineSearchWarning)\n",
      "C:\\Python310\\lib\\site-packages\\scipy\\optimize\\_linesearch.py:305: LineSearchWarning: The line search algorithm did not converge\n",
      "  warn('The line search algorithm did not converge', LineSearchWarning)\n",
      "C:\\Python310\\lib\\site-packages\\sklearn\\utils\\optimize.py:210: ConvergenceWarning: newton-cg failed to converge. Increase the number of iterations.\n",
      "  warnings.warn(\n"
     ]
    },
    {
     "name": "stdout",
     "output_type": "stream",
     "text": [
      "No of FN: 10\n",
      "3500.217663936143\n",
      "[CV 3/5; 19/96] END logisticregression__C=0.0001, logisticregression__penalty=l2, logisticregression__solver=newton-cg;, score=-3500.218 total time=  24.0s\n",
      "[CV 4/5; 19/96] START logisticregression__C=0.0001, logisticregression__penalty=l2, logisticregression__solver=newton-cg\n"
     ]
    },
    {
     "name": "stderr",
     "output_type": "stream",
     "text": [
      "C:\\Python310\\lib\\site-packages\\scipy\\optimize\\_linesearch.py:456: LineSearchWarning: The line search algorithm did not converge\n",
      "  warn('The line search algorithm did not converge', LineSearchWarning)\n",
      "C:\\Python310\\lib\\site-packages\\scipy\\optimize\\_linesearch.py:305: LineSearchWarning: The line search algorithm did not converge\n",
      "  warn('The line search algorithm did not converge', LineSearchWarning)\n",
      "C:\\Python310\\lib\\site-packages\\sklearn\\utils\\optimize.py:210: ConvergenceWarning: newton-cg failed to converge. Increase the number of iterations.\n",
      "  warnings.warn(\n"
     ]
    },
    {
     "name": "stdout",
     "output_type": "stream",
     "text": [
      "No of FN: 9\n",
      "2806.1220654316603\n",
      "[CV 4/5; 19/96] END logisticregression__C=0.0001, logisticregression__penalty=l2, logisticregression__solver=newton-cg;, score=-2806.122 total time=  24.0s\n",
      "[CV 5/5; 19/96] START logisticregression__C=0.0001, logisticregression__penalty=l2, logisticregression__solver=newton-cg\n"
     ]
    },
    {
     "name": "stderr",
     "output_type": "stream",
     "text": [
      "C:\\Python310\\lib\\site-packages\\scipy\\optimize\\_linesearch.py:456: LineSearchWarning: The line search algorithm did not converge\n",
      "  warn('The line search algorithm did not converge', LineSearchWarning)\n",
      "C:\\Python310\\lib\\site-packages\\scipy\\optimize\\_linesearch.py:305: LineSearchWarning: The line search algorithm did not converge\n",
      "  warn('The line search algorithm did not converge', LineSearchWarning)\n",
      "C:\\Python310\\lib\\site-packages\\sklearn\\utils\\optimize.py:210: ConvergenceWarning: newton-cg failed to converge. Increase the number of iterations.\n",
      "  warnings.warn(\n"
     ]
    },
    {
     "name": "stdout",
     "output_type": "stream",
     "text": [
      "No of FN: 8\n",
      "3136.84\n",
      "[CV 5/5; 19/96] END logisticregression__C=0.0001, logisticregression__penalty=l2, logisticregression__solver=newton-cg;, score=-3136.840 total time=  25.1s\n",
      "[CV 1/5; 20/96] START logisticregression__C=0.0001, logisticregression__penalty=l2, logisticregression__solver=lbfgs\n",
      "No of FN: 11\n",
      "5401.692867403903\n",
      "[CV 1/5; 20/96] END logisticregression__C=0.0001, logisticregression__penalty=l2, logisticregression__solver=lbfgs;, score=-5401.693 total time=   2.0s\n",
      "[CV 2/5; 20/96] START logisticregression__C=0.0001, logisticregression__penalty=l2, logisticregression__solver=lbfgs\n",
      "No of FN: 15\n",
      "6927.972928332831\n",
      "[CV 2/5; 20/96] END logisticregression__C=0.0001, logisticregression__penalty=l2, logisticregression__solver=lbfgs;, score=-6927.973 total time=   1.4s\n",
      "[CV 3/5; 20/96] START logisticregression__C=0.0001, logisticregression__penalty=l2, logisticregression__solver=lbfgs\n",
      "No of FN: 8\n",
      "5579.237663936143\n",
      "[CV 3/5; 20/96] END logisticregression__C=0.0001, logisticregression__penalty=l2, logisticregression__solver=lbfgs;, score=-5579.238 total time=   2.1s\n",
      "[CV 4/5; 20/96] START logisticregression__C=0.0001, logisticregression__penalty=l2, logisticregression__solver=lbfgs\n",
      "No of FN: 7\n",
      "4668.34206543166\n",
      "[CV 4/5; 20/96] END logisticregression__C=0.0001, logisticregression__penalty=l2, logisticregression__solver=lbfgs;, score=-4668.342 total time=   2.0s\n",
      "[CV 5/5; 20/96] START logisticregression__C=0.0001, logisticregression__penalty=l2, logisticregression__solver=lbfgs\n"
     ]
    },
    {
     "name": "stderr",
     "output_type": "stream",
     "text": [
      "C:\\Python310\\lib\\site-packages\\sklearn\\linear_model\\_logistic.py:444: ConvergenceWarning: lbfgs failed to converge (status=1):\n",
      "STOP: TOTAL NO. of ITERATIONS REACHED LIMIT.\n",
      "\n",
      "Increase the number of iterations (max_iter) or scale the data as shown in:\n",
      "    https://scikit-learn.org/stable/modules/preprocessing.html\n",
      "Please also refer to the documentation for alternative solver options:\n",
      "    https://scikit-learn.org/stable/modules/linear_model.html#logistic-regression\n",
      "  n_iter_i = _check_optimize_result(\n"
     ]
    },
    {
     "name": "stdout",
     "output_type": "stream",
     "text": [
      "No of FN: 6\n",
      "4540.84\n",
      "[CV 5/5; 20/96] END logisticregression__C=0.0001, logisticregression__penalty=l2, logisticregression__solver=lbfgs;, score=-4540.840 total time=   2.7s\n",
      "[CV 1/5; 21/96] START logisticregression__C=0.0001, logisticregression__penalty=l2, logisticregression__solver=liblinear\n",
      "No of FN: 11\n",
      "3979.2625325024505\n",
      "[CV 1/5; 21/96] END logisticregression__C=0.0001, logisticregression__penalty=l2, logisticregression__solver=liblinear;, score=-3979.263 total time=   3.4s\n",
      "[CV 2/5; 21/96] START logisticregression__C=0.0001, logisticregression__penalty=l2, logisticregression__solver=liblinear\n",
      "No of FN: 11\n",
      "4111.607233402644\n",
      "[CV 2/5; 21/96] END logisticregression__C=0.0001, logisticregression__penalty=l2, logisticregression__solver=liblinear;, score=-4111.607 total time=   3.2s\n",
      "[CV 3/5; 21/96] START logisticregression__C=0.0001, logisticregression__penalty=l2, logisticregression__solver=liblinear\n",
      "No of FN: 9\n",
      "4486.217663936142\n",
      "[CV 3/5; 21/96] END logisticregression__C=0.0001, logisticregression__penalty=l2, logisticregression__solver=liblinear;, score=-4486.218 total time=   3.4s\n",
      "[CV 4/5; 21/96] START logisticregression__C=0.0001, logisticregression__penalty=l2, logisticregression__solver=liblinear\n",
      "No of FN: 8\n",
      "4416.1720654316605\n",
      "[CV 4/5; 21/96] END logisticregression__C=0.0001, logisticregression__penalty=l2, logisticregression__solver=liblinear;, score=-4416.172 total time=   3.2s\n",
      "[CV 5/5; 21/96] START logisticregression__C=0.0001, logisticregression__penalty=l2, logisticregression__solver=liblinear\n",
      "No of FN: 9\n",
      "3598.4679646253935\n",
      "[CV 5/5; 21/96] END logisticregression__C=0.0001, logisticregression__penalty=l2, logisticregression__solver=liblinear;, score=-3598.468 total time=   2.7s\n",
      "[CV 1/5; 22/96] START logisticregression__C=0.0001, logisticregression__penalty=elasticnet, logisticregression__solver=newton-cg\n",
      "[CV 1/5; 22/96] END logisticregression__C=0.0001, logisticregression__penalty=elasticnet, logisticregression__solver=newton-cg;, score=nan total time=   0.2s\n",
      "[CV 2/5; 22/96] START logisticregression__C=0.0001, logisticregression__penalty=elasticnet, logisticregression__solver=newton-cg\n",
      "[CV 2/5; 22/96] END logisticregression__C=0.0001, logisticregression__penalty=elasticnet, logisticregression__solver=newton-cg;, score=nan total time=   0.2s\n",
      "[CV 3/5; 22/96] START logisticregression__C=0.0001, logisticregression__penalty=elasticnet, logisticregression__solver=newton-cg\n",
      "[CV 3/5; 22/96] END logisticregression__C=0.0001, logisticregression__penalty=elasticnet, logisticregression__solver=newton-cg;, score=nan total time=   0.3s\n",
      "[CV 4/5; 22/96] START logisticregression__C=0.0001, logisticregression__penalty=elasticnet, logisticregression__solver=newton-cg\n",
      "[CV 4/5; 22/96] END logisticregression__C=0.0001, logisticregression__penalty=elasticnet, logisticregression__solver=newton-cg;, score=nan total time=   0.2s\n",
      "[CV 5/5; 22/96] START logisticregression__C=0.0001, logisticregression__penalty=elasticnet, logisticregression__solver=newton-cg\n",
      "[CV 5/5; 22/96] END logisticregression__C=0.0001, logisticregression__penalty=elasticnet, logisticregression__solver=newton-cg;, score=nan total time=   0.2s\n",
      "[CV 1/5; 23/96] START logisticregression__C=0.0001, logisticregression__penalty=elasticnet, logisticregression__solver=lbfgs\n",
      "[CV 1/5; 23/96] END logisticregression__C=0.0001, logisticregression__penalty=elasticnet, logisticregression__solver=lbfgs;, score=nan total time=   0.2s\n",
      "[CV 2/5; 23/96] START logisticregression__C=0.0001, logisticregression__penalty=elasticnet, logisticregression__solver=lbfgs\n",
      "[CV 2/5; 23/96] END logisticregression__C=0.0001, logisticregression__penalty=elasticnet, logisticregression__solver=lbfgs;, score=nan total time=   0.2s\n",
      "[CV 3/5; 23/96] START logisticregression__C=0.0001, logisticregression__penalty=elasticnet, logisticregression__solver=lbfgs\n",
      "[CV 3/5; 23/96] END logisticregression__C=0.0001, logisticregression__penalty=elasticnet, logisticregression__solver=lbfgs;, score=nan total time=   0.2s\n",
      "[CV 4/5; 23/96] START logisticregression__C=0.0001, logisticregression__penalty=elasticnet, logisticregression__solver=lbfgs\n",
      "[CV 4/5; 23/96] END logisticregression__C=0.0001, logisticregression__penalty=elasticnet, logisticregression__solver=lbfgs;, score=nan total time=   0.3s\n",
      "[CV 5/5; 23/96] START logisticregression__C=0.0001, logisticregression__penalty=elasticnet, logisticregression__solver=lbfgs\n",
      "[CV 5/5; 23/96] END logisticregression__C=0.0001, logisticregression__penalty=elasticnet, logisticregression__solver=lbfgs;, score=nan total time=   0.2s\n",
      "[CV 1/5; 24/96] START logisticregression__C=0.0001, logisticregression__penalty=elasticnet, logisticregression__solver=liblinear\n",
      "[CV 1/5; 24/96] END logisticregression__C=0.0001, logisticregression__penalty=elasticnet, logisticregression__solver=liblinear;, score=nan total time=   0.2s\n",
      "[CV 2/5; 24/96] START logisticregression__C=0.0001, logisticregression__penalty=elasticnet, logisticregression__solver=liblinear\n",
      "[CV 2/5; 24/96] END logisticregression__C=0.0001, logisticregression__penalty=elasticnet, logisticregression__solver=liblinear;, score=nan total time=   0.2s\n",
      "[CV 3/5; 24/96] START logisticregression__C=0.0001, logisticregression__penalty=elasticnet, logisticregression__solver=liblinear\n",
      "[CV 3/5; 24/96] END logisticregression__C=0.0001, logisticregression__penalty=elasticnet, logisticregression__solver=liblinear;, score=nan total time=   0.2s\n",
      "[CV 4/5; 24/96] START logisticregression__C=0.0001, logisticregression__penalty=elasticnet, logisticregression__solver=liblinear\n",
      "[CV 4/5; 24/96] END logisticregression__C=0.0001, logisticregression__penalty=elasticnet, logisticregression__solver=liblinear;, score=nan total time=   0.2s\n",
      "[CV 5/5; 24/96] START logisticregression__C=0.0001, logisticregression__penalty=elasticnet, logisticregression__solver=liblinear\n",
      "[CV 5/5; 24/96] END logisticregression__C=0.0001, logisticregression__penalty=elasticnet, logisticregression__solver=liblinear;, score=nan total time=   0.2s\n",
      "[CV 1/5; 25/96] START logisticregression__C=0.001, logisticregression__penalty=none, logisticregression__solver=newton-cg\n"
     ]
    },
    {
     "name": "stderr",
     "output_type": "stream",
     "text": [
      "C:\\Python310\\lib\\site-packages\\sklearn\\linear_model\\_logistic.py:1113: UserWarning: Setting penalty='none' will ignore the C and l1_ratio parameters\n",
      "  warnings.warn(\n",
      "C:\\Python310\\lib\\site-packages\\scipy\\optimize\\_linesearch.py:456: LineSearchWarning: The line search algorithm did not converge\n",
      "  warn('The line search algorithm did not converge', LineSearchWarning)\n",
      "C:\\Python310\\lib\\site-packages\\scipy\\optimize\\_linesearch.py:305: LineSearchWarning: The line search algorithm did not converge\n",
      "  warn('The line search algorithm did not converge', LineSearchWarning)\n",
      "C:\\Python310\\lib\\site-packages\\sklearn\\utils\\optimize.py:210: ConvergenceWarning: newton-cg failed to converge. Increase the number of iterations.\n",
      "  warnings.warn(\n"
     ]
    },
    {
     "name": "stdout",
     "output_type": "stream",
     "text": [
      "No of FN: 10\n",
      "2908.7008200038385\n",
      "[CV 1/5; 25/96] END logisticregression__C=0.001, logisticregression__penalty=none, logisticregression__solver=newton-cg;, score=-2908.701 total time=  24.3s\n",
      "[CV 2/5; 25/96] START logisticregression__C=0.001, logisticregression__penalty=none, logisticregression__solver=newton-cg\n"
     ]
    },
    {
     "name": "stderr",
     "output_type": "stream",
     "text": [
      "C:\\Python310\\lib\\site-packages\\sklearn\\linear_model\\_logistic.py:1113: UserWarning: Setting penalty='none' will ignore the C and l1_ratio parameters\n",
      "  warnings.warn(\n",
      "C:\\Python310\\lib\\site-packages\\scipy\\optimize\\_linesearch.py:456: LineSearchWarning: The line search algorithm did not converge\n",
      "  warn('The line search algorithm did not converge', LineSearchWarning)\n",
      "C:\\Python310\\lib\\site-packages\\scipy\\optimize\\_linesearch.py:305: LineSearchWarning: The line search algorithm did not converge\n",
      "  warn('The line search algorithm did not converge', LineSearchWarning)\n",
      "C:\\Python310\\lib\\site-packages\\sklearn\\utils\\optimize.py:210: ConvergenceWarning: newton-cg failed to converge. Increase the number of iterations.\n",
      "  warnings.warn(\n"
     ]
    },
    {
     "name": "stdout",
     "output_type": "stream",
     "text": [
      "No of FN: 9\n",
      "3047.9429931775812\n",
      "[CV 2/5; 25/96] END logisticregression__C=0.001, logisticregression__penalty=none, logisticregression__solver=newton-cg;, score=-3047.943 total time=  22.9s\n",
      "[CV 3/5; 25/96] START logisticregression__C=0.001, logisticregression__penalty=none, logisticregression__solver=newton-cg\n"
     ]
    },
    {
     "name": "stderr",
     "output_type": "stream",
     "text": [
      "C:\\Python310\\lib\\site-packages\\sklearn\\linear_model\\_logistic.py:1113: UserWarning: Setting penalty='none' will ignore the C and l1_ratio parameters\n",
      "  warnings.warn(\n",
      "C:\\Python310\\lib\\site-packages\\scipy\\optimize\\_linesearch.py:456: LineSearchWarning: The line search algorithm did not converge\n",
      "  warn('The line search algorithm did not converge', LineSearchWarning)\n",
      "C:\\Python310\\lib\\site-packages\\scipy\\optimize\\_linesearch.py:305: LineSearchWarning: The line search algorithm did not converge\n",
      "  warn('The line search algorithm did not converge', LineSearchWarning)\n",
      "C:\\Python310\\lib\\site-packages\\sklearn\\utils\\optimize.py:210: ConvergenceWarning: newton-cg failed to converge. Increase the number of iterations.\n",
      "  warnings.warn(\n"
     ]
    },
    {
     "name": "stdout",
     "output_type": "stream",
     "text": [
      "No of FN: 9\n",
      "3578.237663936143\n",
      "[CV 3/5; 25/96] END logisticregression__C=0.001, logisticregression__penalty=none, logisticregression__solver=newton-cg;, score=-3578.238 total time=  23.4s\n",
      "[CV 4/5; 25/96] START logisticregression__C=0.001, logisticregression__penalty=none, logisticregression__solver=newton-cg\n"
     ]
    },
    {
     "name": "stderr",
     "output_type": "stream",
     "text": [
      "C:\\Python310\\lib\\site-packages\\sklearn\\linear_model\\_logistic.py:1113: UserWarning: Setting penalty='none' will ignore the C and l1_ratio parameters\n",
      "  warnings.warn(\n",
      "C:\\Python310\\lib\\site-packages\\scipy\\optimize\\_linesearch.py:456: LineSearchWarning: The line search algorithm did not converge\n",
      "  warn('The line search algorithm did not converge', LineSearchWarning)\n",
      "C:\\Python310\\lib\\site-packages\\scipy\\optimize\\_linesearch.py:305: LineSearchWarning: The line search algorithm did not converge\n",
      "  warn('The line search algorithm did not converge', LineSearchWarning)\n",
      "C:\\Python310\\lib\\site-packages\\sklearn\\utils\\optimize.py:210: ConvergenceWarning: newton-cg failed to converge. Increase the number of iterations.\n",
      "  warnings.warn(\n"
     ]
    },
    {
     "name": "stdout",
     "output_type": "stream",
     "text": [
      "No of FN: 9\n",
      "2751.1220654316603\n",
      "[CV 4/5; 25/96] END logisticregression__C=0.001, logisticregression__penalty=none, logisticregression__solver=newton-cg;, score=-2751.122 total time=  23.6s\n",
      "[CV 5/5; 25/96] START logisticregression__C=0.001, logisticregression__penalty=none, logisticregression__solver=newton-cg\n"
     ]
    },
    {
     "name": "stderr",
     "output_type": "stream",
     "text": [
      "C:\\Python310\\lib\\site-packages\\sklearn\\linear_model\\_logistic.py:1113: UserWarning: Setting penalty='none' will ignore the C and l1_ratio parameters\n",
      "  warnings.warn(\n",
      "C:\\Python310\\lib\\site-packages\\scipy\\optimize\\_linesearch.py:456: LineSearchWarning: The line search algorithm did not converge\n",
      "  warn('The line search algorithm did not converge', LineSearchWarning)\n",
      "C:\\Python310\\lib\\site-packages\\scipy\\optimize\\_linesearch.py:305: LineSearchWarning: The line search algorithm did not converge\n",
      "  warn('The line search algorithm did not converge', LineSearchWarning)\n",
      "C:\\Python310\\lib\\site-packages\\sklearn\\utils\\optimize.py:210: ConvergenceWarning: newton-cg failed to converge. Increase the number of iterations.\n",
      "  warnings.warn(\n"
     ]
    },
    {
     "name": "stdout",
     "output_type": "stream",
     "text": [
      "No of FN: 6\n",
      "2829.44\n",
      "[CV 5/5; 25/96] END logisticregression__C=0.001, logisticregression__penalty=none, logisticregression__solver=newton-cg;, score=-2829.440 total time=  25.4s\n",
      "[CV 1/5; 26/96] START logisticregression__C=0.001, logisticregression__penalty=none, logisticregression__solver=lbfgs\n"
     ]
    },
    {
     "name": "stderr",
     "output_type": "stream",
     "text": [
      "C:\\Python310\\lib\\site-packages\\sklearn\\linear_model\\_logistic.py:1113: UserWarning: Setting penalty='none' will ignore the C and l1_ratio parameters\n",
      "  warnings.warn(\n"
     ]
    },
    {
     "name": "stdout",
     "output_type": "stream",
     "text": [
      "No of FN: 11\n",
      "6081.692867403903\n",
      "[CV 1/5; 26/96] END logisticregression__C=0.001, logisticregression__penalty=none, logisticregression__solver=lbfgs;, score=-6081.693 total time=   2.2s\n",
      "[CV 2/5; 26/96] START logisticregression__C=0.001, logisticregression__penalty=none, logisticregression__solver=lbfgs\n"
     ]
    },
    {
     "name": "stderr",
     "output_type": "stream",
     "text": [
      "C:\\Python310\\lib\\site-packages\\sklearn\\linear_model\\_logistic.py:1113: UserWarning: Setting penalty='none' will ignore the C and l1_ratio parameters\n",
      "  warnings.warn(\n"
     ]
    },
    {
     "name": "stdout",
     "output_type": "stream",
     "text": [
      "No of FN: 9\n",
      "5512.942993177581\n",
      "[CV 2/5; 26/96] END logisticregression__C=0.001, logisticregression__penalty=none, logisticregression__solver=lbfgs;, score=-5512.943 total time=   2.2s\n",
      "[CV 3/5; 26/96] START logisticregression__C=0.001, logisticregression__penalty=none, logisticregression__solver=lbfgs\n"
     ]
    },
    {
     "name": "stderr",
     "output_type": "stream",
     "text": [
      "C:\\Python310\\lib\\site-packages\\sklearn\\linear_model\\_logistic.py:1113: UserWarning: Setting penalty='none' will ignore the C and l1_ratio parameters\n",
      "  warnings.warn(\n"
     ]
    },
    {
     "name": "stdout",
     "output_type": "stream",
     "text": [
      "No of FN: 10\n",
      "9145.88777682016\n",
      "[CV 3/5; 26/96] END logisticregression__C=0.001, logisticregression__penalty=none, logisticregression__solver=lbfgs;, score=-9145.888 total time=   1.3s\n",
      "[CV 4/5; 26/96] START logisticregression__C=0.001, logisticregression__penalty=none, logisticregression__solver=lbfgs\n"
     ]
    },
    {
     "name": "stderr",
     "output_type": "stream",
     "text": [
      "C:\\Python310\\lib\\site-packages\\sklearn\\linear_model\\_logistic.py:1113: UserWarning: Setting penalty='none' will ignore the C and l1_ratio parameters\n",
      "  warnings.warn(\n",
      "C:\\Python310\\lib\\site-packages\\sklearn\\linear_model\\_logistic.py:444: ConvergenceWarning: lbfgs failed to converge (status=1):\n",
      "STOP: TOTAL NO. of ITERATIONS REACHED LIMIT.\n",
      "\n",
      "Increase the number of iterations (max_iter) or scale the data as shown in:\n",
      "    https://scikit-learn.org/stable/modules/preprocessing.html\n",
      "Please also refer to the documentation for alternative solver options:\n",
      "    https://scikit-learn.org/stable/modules/linear_model.html#logistic-regression\n",
      "  n_iter_i = _check_optimize_result(\n"
     ]
    },
    {
     "name": "stdout",
     "output_type": "stream",
     "text": [
      "No of FN: 7\n",
      "5308.34206543166\n",
      "[CV 4/5; 26/96] END logisticregression__C=0.001, logisticregression__penalty=none, logisticregression__solver=lbfgs;, score=-5308.342 total time=   2.6s\n",
      "[CV 5/5; 26/96] START logisticregression__C=0.001, logisticregression__penalty=none, logisticregression__solver=lbfgs\n"
     ]
    },
    {
     "name": "stderr",
     "output_type": "stream",
     "text": [
      "C:\\Python310\\lib\\site-packages\\sklearn\\linear_model\\_logistic.py:1113: UserWarning: Setting penalty='none' will ignore the C and l1_ratio parameters\n",
      "  warnings.warn(\n"
     ]
    },
    {
     "name": "stdout",
     "output_type": "stream",
     "text": [
      "No of FN: 6\n",
      "5945.84\n",
      "[CV 5/5; 26/96] END logisticregression__C=0.001, logisticregression__penalty=none, logisticregression__solver=lbfgs;, score=-5945.840 total time=   2.0s\n",
      "[CV 1/5; 27/96] START logisticregression__C=0.001, logisticregression__penalty=none, logisticregression__solver=liblinear\n",
      "[CV 1/5; 27/96] END logisticregression__C=0.001, logisticregression__penalty=none, logisticregression__solver=liblinear;, score=nan total time=   0.2s\n",
      "[CV 2/5; 27/96] START logisticregression__C=0.001, logisticregression__penalty=none, logisticregression__solver=liblinear\n",
      "[CV 2/5; 27/96] END logisticregression__C=0.001, logisticregression__penalty=none, logisticregression__solver=liblinear;, score=nan total time=   0.2s\n",
      "[CV 3/5; 27/96] START logisticregression__C=0.001, logisticregression__penalty=none, logisticregression__solver=liblinear\n",
      "[CV 3/5; 27/96] END logisticregression__C=0.001, logisticregression__penalty=none, logisticregression__solver=liblinear;, score=nan total time=   0.2s\n",
      "[CV 4/5; 27/96] START logisticregression__C=0.001, logisticregression__penalty=none, logisticregression__solver=liblinear\n",
      "[CV 4/5; 27/96] END logisticregression__C=0.001, logisticregression__penalty=none, logisticregression__solver=liblinear;, score=nan total time=   0.2s\n",
      "[CV 5/5; 27/96] START logisticregression__C=0.001, logisticregression__penalty=none, logisticregression__solver=liblinear\n",
      "[CV 5/5; 27/96] END logisticregression__C=0.001, logisticregression__penalty=none, logisticregression__solver=liblinear;, score=nan total time=   0.2s\n",
      "[CV 1/5; 28/96] START logisticregression__C=0.001, logisticregression__penalty=l1, logisticregression__solver=newton-cg\n",
      "[CV 1/5; 28/96] END logisticregression__C=0.001, logisticregression__penalty=l1, logisticregression__solver=newton-cg;, score=nan total time=   0.3s\n",
      "[CV 2/5; 28/96] START logisticregression__C=0.001, logisticregression__penalty=l1, logisticregression__solver=newton-cg\n",
      "[CV 2/5; 28/96] END logisticregression__C=0.001, logisticregression__penalty=l1, logisticregression__solver=newton-cg;, score=nan total time=   0.2s\n",
      "[CV 3/5; 28/96] START logisticregression__C=0.001, logisticregression__penalty=l1, logisticregression__solver=newton-cg\n",
      "[CV 3/5; 28/96] END logisticregression__C=0.001, logisticregression__penalty=l1, logisticregression__solver=newton-cg;, score=nan total time=   0.2s\n",
      "[CV 4/5; 28/96] START logisticregression__C=0.001, logisticregression__penalty=l1, logisticregression__solver=newton-cg\n",
      "[CV 4/5; 28/96] END logisticregression__C=0.001, logisticregression__penalty=l1, logisticregression__solver=newton-cg;, score=nan total time=   0.2s\n",
      "[CV 5/5; 28/96] START logisticregression__C=0.001, logisticregression__penalty=l1, logisticregression__solver=newton-cg\n",
      "[CV 5/5; 28/96] END logisticregression__C=0.001, logisticregression__penalty=l1, logisticregression__solver=newton-cg;, score=nan total time=   0.2s\n",
      "[CV 1/5; 29/96] START logisticregression__C=0.001, logisticregression__penalty=l1, logisticregression__solver=lbfgs\n",
      "[CV 1/5; 29/96] END logisticregression__C=0.001, logisticregression__penalty=l1, logisticregression__solver=lbfgs;, score=nan total time=   0.2s\n",
      "[CV 2/5; 29/96] START logisticregression__C=0.001, logisticregression__penalty=l1, logisticregression__solver=lbfgs\n",
      "[CV 2/5; 29/96] END logisticregression__C=0.001, logisticregression__penalty=l1, logisticregression__solver=lbfgs;, score=nan total time=   0.2s\n",
      "[CV 3/5; 29/96] START logisticregression__C=0.001, logisticregression__penalty=l1, logisticregression__solver=lbfgs\n",
      "[CV 3/5; 29/96] END logisticregression__C=0.001, logisticregression__penalty=l1, logisticregression__solver=lbfgs;, score=nan total time=   0.2s\n",
      "[CV 4/5; 29/96] START logisticregression__C=0.001, logisticregression__penalty=l1, logisticregression__solver=lbfgs\n",
      "[CV 4/5; 29/96] END logisticregression__C=0.001, logisticregression__penalty=l1, logisticregression__solver=lbfgs;, score=nan total time=   0.2s\n",
      "[CV 5/5; 29/96] START logisticregression__C=0.001, logisticregression__penalty=l1, logisticregression__solver=lbfgs\n",
      "[CV 5/5; 29/96] END logisticregression__C=0.001, logisticregression__penalty=l1, logisticregression__solver=lbfgs;, score=nan total time=   0.2s\n",
      "[CV 1/5; 30/96] START logisticregression__C=0.001, logisticregression__penalty=l1, logisticregression__solver=liblinear\n",
      "No of FN: 11\n",
      "3384.2625325024505\n",
      "[CV 1/5; 30/96] END logisticregression__C=0.001, logisticregression__penalty=l1, logisticregression__solver=liblinear;, score=-3384.263 total time=   1.6s\n",
      "[CV 2/5; 30/96] START logisticregression__C=0.001, logisticregression__penalty=l1, logisticregression__solver=liblinear\n",
      "No of FN: 9\n",
      "3362.9429931775812\n",
      "[CV 2/5; 30/96] END logisticregression__C=0.001, logisticregression__penalty=l1, logisticregression__solver=liblinear;, score=-3362.943 total time=   1.3s\n",
      "[CV 3/5; 30/96] START logisticregression__C=0.001, logisticregression__penalty=l1, logisticregression__solver=liblinear\n",
      "No of FN: 9\n",
      "3641.217663936143\n",
      "[CV 3/5; 30/96] END logisticregression__C=0.001, logisticregression__penalty=l1, logisticregression__solver=liblinear;, score=-3641.218 total time=   2.4s\n",
      "[CV 4/5; 30/96] START logisticregression__C=0.001, logisticregression__penalty=l1, logisticregression__solver=liblinear\n",
      "No of FN: 9\n",
      "3071.1220654316603\n",
      "[CV 4/5; 30/96] END logisticregression__C=0.001, logisticregression__penalty=l1, logisticregression__solver=liblinear;, score=-3071.122 total time=   1.5s\n",
      "[CV 5/5; 30/96] START logisticregression__C=0.001, logisticregression__penalty=l1, logisticregression__solver=liblinear\n",
      "No of FN: 7\n",
      "3315.84\n",
      "[CV 5/5; 30/96] END logisticregression__C=0.001, logisticregression__penalty=l1, logisticregression__solver=liblinear;, score=-3315.840 total time=   2.8s\n",
      "[CV 1/5; 31/96] START logisticregression__C=0.001, logisticregression__penalty=l2, logisticregression__solver=newton-cg\n"
     ]
    },
    {
     "name": "stderr",
     "output_type": "stream",
     "text": [
      "C:\\Python310\\lib\\site-packages\\scipy\\optimize\\_linesearch.py:456: LineSearchWarning: The line search algorithm did not converge\n",
      "  warn('The line search algorithm did not converge', LineSearchWarning)\n",
      "C:\\Python310\\lib\\site-packages\\scipy\\optimize\\_linesearch.py:305: LineSearchWarning: The line search algorithm did not converge\n",
      "  warn('The line search algorithm did not converge', LineSearchWarning)\n",
      "C:\\Python310\\lib\\site-packages\\sklearn\\utils\\optimize.py:210: ConvergenceWarning: newton-cg failed to converge. Increase the number of iterations.\n",
      "  warnings.warn(\n"
     ]
    },
    {
     "name": "stdout",
     "output_type": "stream",
     "text": [
      "No of FN: 11\n",
      "3344.2625325024505\n",
      "[CV 1/5; 31/96] END logisticregression__C=0.001, logisticregression__penalty=l2, logisticregression__solver=newton-cg;, score=-3344.263 total time=  23.8s\n",
      "[CV 2/5; 31/96] START logisticregression__C=0.001, logisticregression__penalty=l2, logisticregression__solver=newton-cg\n"
     ]
    },
    {
     "name": "stderr",
     "output_type": "stream",
     "text": [
      "C:\\Python310\\lib\\site-packages\\scipy\\optimize\\_linesearch.py:456: LineSearchWarning: The line search algorithm did not converge\n",
      "  warn('The line search algorithm did not converge', LineSearchWarning)\n",
      "C:\\Python310\\lib\\site-packages\\scipy\\optimize\\_linesearch.py:305: LineSearchWarning: The line search algorithm did not converge\n",
      "  warn('The line search algorithm did not converge', LineSearchWarning)\n",
      "C:\\Python310\\lib\\site-packages\\sklearn\\utils\\optimize.py:210: ConvergenceWarning: newton-cg failed to converge. Increase the number of iterations.\n",
      "  warnings.warn(\n"
     ]
    },
    {
     "name": "stdout",
     "output_type": "stream",
     "text": [
      "No of FN: 9\n",
      "3122.9429931775812\n",
      "[CV 2/5; 31/96] END logisticregression__C=0.001, logisticregression__penalty=l2, logisticregression__solver=newton-cg;, score=-3122.943 total time=  23.6s\n",
      "[CV 3/5; 31/96] START logisticregression__C=0.001, logisticregression__penalty=l2, logisticregression__solver=newton-cg\n"
     ]
    },
    {
     "name": "stderr",
     "output_type": "stream",
     "text": [
      "C:\\Python310\\lib\\site-packages\\sklearn\\utils\\optimize.py:210: ConvergenceWarning: newton-cg failed to converge. Increase the number of iterations.\n",
      "  warnings.warn(\n"
     ]
    },
    {
     "name": "stdout",
     "output_type": "stream",
     "text": [
      "No of FN: 10\n",
      "3610.217663936143\n",
      "[CV 3/5; 31/96] END logisticregression__C=0.001, logisticregression__penalty=l2, logisticregression__solver=newton-cg;, score=-3610.218 total time=  23.4s\n",
      "[CV 4/5; 31/96] START logisticregression__C=0.001, logisticregression__penalty=l2, logisticregression__solver=newton-cg\n"
     ]
    },
    {
     "name": "stderr",
     "output_type": "stream",
     "text": [
      "C:\\Python310\\lib\\site-packages\\scipy\\optimize\\_linesearch.py:456: LineSearchWarning: The line search algorithm did not converge\n",
      "  warn('The line search algorithm did not converge', LineSearchWarning)\n",
      "C:\\Python310\\lib\\site-packages\\scipy\\optimize\\_linesearch.py:305: LineSearchWarning: The line search algorithm did not converge\n",
      "  warn('The line search algorithm did not converge', LineSearchWarning)\n",
      "C:\\Python310\\lib\\site-packages\\sklearn\\utils\\optimize.py:210: ConvergenceWarning: newton-cg failed to converge. Increase the number of iterations.\n",
      "  warnings.warn(\n"
     ]
    },
    {
     "name": "stdout",
     "output_type": "stream",
     "text": [
      "No of FN: 9\n",
      "2681.1220654316603\n",
      "[CV 4/5; 31/96] END logisticregression__C=0.001, logisticregression__penalty=l2, logisticregression__solver=newton-cg;, score=-2681.122 total time=  22.8s\n",
      "[CV 5/5; 31/96] START logisticregression__C=0.001, logisticregression__penalty=l2, logisticregression__solver=newton-cg\n"
     ]
    },
    {
     "name": "stderr",
     "output_type": "stream",
     "text": [
      "C:\\Python310\\lib\\site-packages\\scipy\\optimize\\_linesearch.py:456: LineSearchWarning: The line search algorithm did not converge\n",
      "  warn('The line search algorithm did not converge', LineSearchWarning)\n",
      "C:\\Python310\\lib\\site-packages\\scipy\\optimize\\_linesearch.py:305: LineSearchWarning: The line search algorithm did not converge\n",
      "  warn('The line search algorithm did not converge', LineSearchWarning)\n",
      "C:\\Python310\\lib\\site-packages\\sklearn\\utils\\optimize.py:210: ConvergenceWarning: newton-cg failed to converge. Increase the number of iterations.\n",
      "  warnings.warn(\n"
     ]
    },
    {
     "name": "stdout",
     "output_type": "stream",
     "text": [
      "No of FN: 7\n",
      "3044.44\n",
      "[CV 5/5; 31/96] END logisticregression__C=0.001, logisticregression__penalty=l2, logisticregression__solver=newton-cg;, score=-3044.440 total time=  23.3s\n",
      "[CV 1/5; 32/96] START logisticregression__C=0.001, logisticregression__penalty=l2, logisticregression__solver=lbfgs\n",
      "No of FN: 11\n",
      "5851.692867403903\n",
      "[CV 1/5; 32/96] END logisticregression__C=0.001, logisticregression__penalty=l2, logisticregression__solver=lbfgs;, score=-5851.693 total time=   2.5s\n",
      "[CV 2/5; 32/96] START logisticregression__C=0.001, logisticregression__penalty=l2, logisticregression__solver=lbfgs\n"
     ]
    },
    {
     "name": "stderr",
     "output_type": "stream",
     "text": [
      "C:\\Python310\\lib\\site-packages\\sklearn\\linear_model\\_logistic.py:444: ConvergenceWarning: lbfgs failed to converge (status=1):\n",
      "STOP: TOTAL NO. of ITERATIONS REACHED LIMIT.\n",
      "\n",
      "Increase the number of iterations (max_iter) or scale the data as shown in:\n",
      "    https://scikit-learn.org/stable/modules/preprocessing.html\n",
      "Please also refer to the documentation for alternative solver options:\n",
      "    https://scikit-learn.org/stable/modules/linear_model.html#logistic-regression\n",
      "  n_iter_i = _check_optimize_result(\n"
     ]
    },
    {
     "name": "stdout",
     "output_type": "stream",
     "text": [
      "No of FN: 9\n",
      "5567.942993177581\n",
      "[CV 2/5; 32/96] END logisticregression__C=0.001, logisticregression__penalty=l2, logisticregression__solver=lbfgs;, score=-5567.943 total time=   2.5s\n",
      "[CV 3/5; 32/96] START logisticregression__C=0.001, logisticregression__penalty=l2, logisticregression__solver=lbfgs\n",
      "No of FN: 10\n",
      "8690.88777682016\n",
      "[CV 3/5; 32/96] END logisticregression__C=0.001, logisticregression__penalty=l2, logisticregression__solver=lbfgs;, score=-8690.888 total time=   1.4s\n",
      "[CV 4/5; 32/96] START logisticregression__C=0.001, logisticregression__penalty=l2, logisticregression__solver=lbfgs\n",
      "No of FN: 7\n",
      "5058.34206543166\n",
      "[CV 4/5; 32/96] END logisticregression__C=0.001, logisticregression__penalty=l2, logisticregression__solver=lbfgs;, score=-5058.342 total time=   2.1s\n",
      "[CV 5/5; 32/96] START logisticregression__C=0.001, logisticregression__penalty=l2, logisticregression__solver=lbfgs\n"
     ]
    },
    {
     "name": "stderr",
     "output_type": "stream",
     "text": [
      "C:\\Python310\\lib\\site-packages\\sklearn\\linear_model\\_logistic.py:444: ConvergenceWarning: lbfgs failed to converge (status=1):\n",
      "STOP: TOTAL NO. of ITERATIONS REACHED LIMIT.\n",
      "\n",
      "Increase the number of iterations (max_iter) or scale the data as shown in:\n",
      "    https://scikit-learn.org/stable/modules/preprocessing.html\n",
      "Please also refer to the documentation for alternative solver options:\n",
      "    https://scikit-learn.org/stable/modules/linear_model.html#logistic-regression\n",
      "  n_iter_i = _check_optimize_result(\n"
     ]
    },
    {
     "name": "stdout",
     "output_type": "stream",
     "text": [
      "No of FN: 6\n",
      "4760.84\n",
      "[CV 5/5; 32/96] END logisticregression__C=0.001, logisticregression__penalty=l2, logisticregression__solver=lbfgs;, score=-4760.840 total time=   2.6s\n",
      "[CV 1/5; 33/96] START logisticregression__C=0.001, logisticregression__penalty=l2, logisticregression__solver=liblinear\n",
      "No of FN: 11\n",
      "4604.262532502451\n",
      "[CV 1/5; 33/96] END logisticregression__C=0.001, logisticregression__penalty=l2, logisticregression__solver=liblinear;, score=-4604.263 total time=   3.4s\n",
      "[CV 2/5; 33/96] START logisticregression__C=0.001, logisticregression__penalty=l2, logisticregression__solver=liblinear\n",
      "No of FN: 10\n",
      "4423.457233402643\n",
      "[CV 2/5; 33/96] END logisticregression__C=0.001, logisticregression__penalty=l2, logisticregression__solver=liblinear;, score=-4423.457 total time=   3.1s\n",
      "[CV 3/5; 33/96] START logisticregression__C=0.001, logisticregression__penalty=l2, logisticregression__solver=liblinear\n",
      "No of FN: 8\n",
      "5129.237663936143\n",
      "[CV 3/5; 33/96] END logisticregression__C=0.001, logisticregression__penalty=l2, logisticregression__solver=liblinear;, score=-5129.238 total time=   3.2s\n",
      "[CV 4/5; 33/96] START logisticregression__C=0.001, logisticregression__penalty=l2, logisticregression__solver=liblinear\n",
      "No of FN: 8\n",
      "4531.1720654316605\n",
      "[CV 4/5; 33/96] END logisticregression__C=0.001, logisticregression__penalty=l2, logisticregression__solver=liblinear;, score=-4531.172 total time=   3.1s\n",
      "[CV 5/5; 33/96] START logisticregression__C=0.001, logisticregression__penalty=l2, logisticregression__solver=liblinear\n",
      "No of FN: 9\n",
      "3608.4679646253935\n",
      "[CV 5/5; 33/96] END logisticregression__C=0.001, logisticregression__penalty=l2, logisticregression__solver=liblinear;, score=-3608.468 total time=   2.5s\n",
      "[CV 1/5; 34/96] START logisticregression__C=0.001, logisticregression__penalty=elasticnet, logisticregression__solver=newton-cg\n",
      "[CV 1/5; 34/96] END logisticregression__C=0.001, logisticregression__penalty=elasticnet, logisticregression__solver=newton-cg;, score=nan total time=   0.2s\n",
      "[CV 2/5; 34/96] START logisticregression__C=0.001, logisticregression__penalty=elasticnet, logisticregression__solver=newton-cg\n",
      "[CV 2/5; 34/96] END logisticregression__C=0.001, logisticregression__penalty=elasticnet, logisticregression__solver=newton-cg;, score=nan total time=   0.2s\n",
      "[CV 3/5; 34/96] START logisticregression__C=0.001, logisticregression__penalty=elasticnet, logisticregression__solver=newton-cg\n",
      "[CV 3/5; 34/96] END logisticregression__C=0.001, logisticregression__penalty=elasticnet, logisticregression__solver=newton-cg;, score=nan total time=   0.2s\n",
      "[CV 4/5; 34/96] START logisticregression__C=0.001, logisticregression__penalty=elasticnet, logisticregression__solver=newton-cg\n",
      "[CV 4/5; 34/96] END logisticregression__C=0.001, logisticregression__penalty=elasticnet, logisticregression__solver=newton-cg;, score=nan total time=   0.2s\n",
      "[CV 5/5; 34/96] START logisticregression__C=0.001, logisticregression__penalty=elasticnet, logisticregression__solver=newton-cg\n",
      "[CV 5/5; 34/96] END logisticregression__C=0.001, logisticregression__penalty=elasticnet, logisticregression__solver=newton-cg;, score=nan total time=   0.2s\n",
      "[CV 1/5; 35/96] START logisticregression__C=0.001, logisticregression__penalty=elasticnet, logisticregression__solver=lbfgs\n",
      "[CV 1/5; 35/96] END logisticregression__C=0.001, logisticregression__penalty=elasticnet, logisticregression__solver=lbfgs;, score=nan total time=   0.2s\n",
      "[CV 2/5; 35/96] START logisticregression__C=0.001, logisticregression__penalty=elasticnet, logisticregression__solver=lbfgs\n",
      "[CV 2/5; 35/96] END logisticregression__C=0.001, logisticregression__penalty=elasticnet, logisticregression__solver=lbfgs;, score=nan total time=   0.2s\n",
      "[CV 3/5; 35/96] START logisticregression__C=0.001, logisticregression__penalty=elasticnet, logisticregression__solver=lbfgs\n",
      "[CV 3/5; 35/96] END logisticregression__C=0.001, logisticregression__penalty=elasticnet, logisticregression__solver=lbfgs;, score=nan total time=   0.2s\n",
      "[CV 4/5; 35/96] START logisticregression__C=0.001, logisticregression__penalty=elasticnet, logisticregression__solver=lbfgs\n",
      "[CV 4/5; 35/96] END logisticregression__C=0.001, logisticregression__penalty=elasticnet, logisticregression__solver=lbfgs;, score=nan total time=   0.2s\n",
      "[CV 5/5; 35/96] START logisticregression__C=0.001, logisticregression__penalty=elasticnet, logisticregression__solver=lbfgs\n",
      "[CV 5/5; 35/96] END logisticregression__C=0.001, logisticregression__penalty=elasticnet, logisticregression__solver=lbfgs;, score=nan total time=   0.2s\n",
      "[CV 1/5; 36/96] START logisticregression__C=0.001, logisticregression__penalty=elasticnet, logisticregression__solver=liblinear\n",
      "[CV 1/5; 36/96] END logisticregression__C=0.001, logisticregression__penalty=elasticnet, logisticregression__solver=liblinear;, score=nan total time=   0.2s\n",
      "[CV 2/5; 36/96] START logisticregression__C=0.001, logisticregression__penalty=elasticnet, logisticregression__solver=liblinear\n",
      "[CV 2/5; 36/96] END logisticregression__C=0.001, logisticregression__penalty=elasticnet, logisticregression__solver=liblinear;, score=nan total time=   0.2s\n",
      "[CV 3/5; 36/96] START logisticregression__C=0.001, logisticregression__penalty=elasticnet, logisticregression__solver=liblinear\n",
      "[CV 3/5; 36/96] END logisticregression__C=0.001, logisticregression__penalty=elasticnet, logisticregression__solver=liblinear;, score=nan total time=   0.2s\n",
      "[CV 4/5; 36/96] START logisticregression__C=0.001, logisticregression__penalty=elasticnet, logisticregression__solver=liblinear\n",
      "[CV 4/5; 36/96] END logisticregression__C=0.001, logisticregression__penalty=elasticnet, logisticregression__solver=liblinear;, score=nan total time=   0.2s\n",
      "[CV 5/5; 36/96] START logisticregression__C=0.001, logisticregression__penalty=elasticnet, logisticregression__solver=liblinear\n",
      "[CV 5/5; 36/96] END logisticregression__C=0.001, logisticregression__penalty=elasticnet, logisticregression__solver=liblinear;, score=nan total time=   0.3s\n",
      "[CV 1/5; 37/96] START logisticregression__C=0.01, logisticregression__penalty=none, logisticregression__solver=newton-cg\n"
     ]
    },
    {
     "name": "stderr",
     "output_type": "stream",
     "text": [
      "C:\\Python310\\lib\\site-packages\\sklearn\\linear_model\\_logistic.py:1113: UserWarning: Setting penalty='none' will ignore the C and l1_ratio parameters\n",
      "  warnings.warn(\n",
      "C:\\Python310\\lib\\site-packages\\scipy\\optimize\\_linesearch.py:456: LineSearchWarning: The line search algorithm did not converge\n",
      "  warn('The line search algorithm did not converge', LineSearchWarning)\n",
      "C:\\Python310\\lib\\site-packages\\scipy\\optimize\\_linesearch.py:305: LineSearchWarning: The line search algorithm did not converge\n",
      "  warn('The line search algorithm did not converge', LineSearchWarning)\n",
      "C:\\Python310\\lib\\site-packages\\sklearn\\utils\\optimize.py:210: ConvergenceWarning: newton-cg failed to converge. Increase the number of iterations.\n",
      "  warnings.warn(\n"
     ]
    },
    {
     "name": "stdout",
     "output_type": "stream",
     "text": [
      "No of FN: 10\n",
      "2908.7008200038385\n",
      "[CV 1/5; 37/96] END logisticregression__C=0.01, logisticregression__penalty=none, logisticregression__solver=newton-cg;, score=-2908.701 total time=  23.5s\n",
      "[CV 2/5; 37/96] START logisticregression__C=0.01, logisticregression__penalty=none, logisticregression__solver=newton-cg\n"
     ]
    },
    {
     "name": "stderr",
     "output_type": "stream",
     "text": [
      "C:\\Python310\\lib\\site-packages\\sklearn\\linear_model\\_logistic.py:1113: UserWarning: Setting penalty='none' will ignore the C and l1_ratio parameters\n",
      "  warnings.warn(\n",
      "C:\\Python310\\lib\\site-packages\\scipy\\optimize\\_linesearch.py:456: LineSearchWarning: The line search algorithm did not converge\n",
      "  warn('The line search algorithm did not converge', LineSearchWarning)\n",
      "C:\\Python310\\lib\\site-packages\\scipy\\optimize\\_linesearch.py:305: LineSearchWarning: The line search algorithm did not converge\n",
      "  warn('The line search algorithm did not converge', LineSearchWarning)\n",
      "C:\\Python310\\lib\\site-packages\\sklearn\\utils\\optimize.py:210: ConvergenceWarning: newton-cg failed to converge. Increase the number of iterations.\n",
      "  warnings.warn(\n"
     ]
    },
    {
     "name": "stdout",
     "output_type": "stream",
     "text": [
      "No of FN: 9\n",
      "3047.9429931775812\n",
      "[CV 2/5; 37/96] END logisticregression__C=0.01, logisticregression__penalty=none, logisticregression__solver=newton-cg;, score=-3047.943 total time=  22.5s\n",
      "[CV 3/5; 37/96] START logisticregression__C=0.01, logisticregression__penalty=none, logisticregression__solver=newton-cg\n"
     ]
    },
    {
     "name": "stderr",
     "output_type": "stream",
     "text": [
      "C:\\Python310\\lib\\site-packages\\sklearn\\linear_model\\_logistic.py:1113: UserWarning: Setting penalty='none' will ignore the C and l1_ratio parameters\n",
      "  warnings.warn(\n",
      "C:\\Python310\\lib\\site-packages\\scipy\\optimize\\_linesearch.py:456: LineSearchWarning: The line search algorithm did not converge\n",
      "  warn('The line search algorithm did not converge', LineSearchWarning)\n",
      "C:\\Python310\\lib\\site-packages\\scipy\\optimize\\_linesearch.py:305: LineSearchWarning: The line search algorithm did not converge\n",
      "  warn('The line search algorithm did not converge', LineSearchWarning)\n",
      "C:\\Python310\\lib\\site-packages\\sklearn\\utils\\optimize.py:210: ConvergenceWarning: newton-cg failed to converge. Increase the number of iterations.\n",
      "  warnings.warn(\n"
     ]
    },
    {
     "name": "stdout",
     "output_type": "stream",
     "text": [
      "No of FN: 9\n",
      "3578.237663936143\n",
      "[CV 3/5; 37/96] END logisticregression__C=0.01, logisticregression__penalty=none, logisticregression__solver=newton-cg;, score=-3578.238 total time=  23.8s\n",
      "[CV 4/5; 37/96] START logisticregression__C=0.01, logisticregression__penalty=none, logisticregression__solver=newton-cg\n"
     ]
    },
    {
     "name": "stderr",
     "output_type": "stream",
     "text": [
      "C:\\Python310\\lib\\site-packages\\sklearn\\linear_model\\_logistic.py:1113: UserWarning: Setting penalty='none' will ignore the C and l1_ratio parameters\n",
      "  warnings.warn(\n",
      "C:\\Python310\\lib\\site-packages\\scipy\\optimize\\_linesearch.py:456: LineSearchWarning: The line search algorithm did not converge\n",
      "  warn('The line search algorithm did not converge', LineSearchWarning)\n",
      "C:\\Python310\\lib\\site-packages\\scipy\\optimize\\_linesearch.py:305: LineSearchWarning: The line search algorithm did not converge\n",
      "  warn('The line search algorithm did not converge', LineSearchWarning)\n",
      "C:\\Python310\\lib\\site-packages\\sklearn\\utils\\optimize.py:210: ConvergenceWarning: newton-cg failed to converge. Increase the number of iterations.\n",
      "  warnings.warn(\n"
     ]
    },
    {
     "name": "stdout",
     "output_type": "stream",
     "text": [
      "No of FN: 9\n",
      "2751.1220654316603\n",
      "[CV 4/5; 37/96] END logisticregression__C=0.01, logisticregression__penalty=none, logisticregression__solver=newton-cg;, score=-2751.122 total time=  23.7s\n",
      "[CV 5/5; 37/96] START logisticregression__C=0.01, logisticregression__penalty=none, logisticregression__solver=newton-cg\n"
     ]
    },
    {
     "name": "stderr",
     "output_type": "stream",
     "text": [
      "C:\\Python310\\lib\\site-packages\\sklearn\\linear_model\\_logistic.py:1113: UserWarning: Setting penalty='none' will ignore the C and l1_ratio parameters\n",
      "  warnings.warn(\n",
      "C:\\Python310\\lib\\site-packages\\scipy\\optimize\\_linesearch.py:456: LineSearchWarning: The line search algorithm did not converge\n",
      "  warn('The line search algorithm did not converge', LineSearchWarning)\n",
      "C:\\Python310\\lib\\site-packages\\scipy\\optimize\\_linesearch.py:305: LineSearchWarning: The line search algorithm did not converge\n",
      "  warn('The line search algorithm did not converge', LineSearchWarning)\n",
      "C:\\Python310\\lib\\site-packages\\sklearn\\utils\\optimize.py:210: ConvergenceWarning: newton-cg failed to converge. Increase the number of iterations.\n",
      "  warnings.warn(\n"
     ]
    },
    {
     "name": "stdout",
     "output_type": "stream",
     "text": [
      "No of FN: 6\n",
      "2829.44\n",
      "[CV 5/5; 37/96] END logisticregression__C=0.01, logisticregression__penalty=none, logisticregression__solver=newton-cg;, score=-2829.440 total time=  25.4s\n",
      "[CV 1/5; 38/96] START logisticregression__C=0.01, logisticregression__penalty=none, logisticregression__solver=lbfgs\n"
     ]
    },
    {
     "name": "stderr",
     "output_type": "stream",
     "text": [
      "C:\\Python310\\lib\\site-packages\\sklearn\\linear_model\\_logistic.py:1113: UserWarning: Setting penalty='none' will ignore the C and l1_ratio parameters\n",
      "  warnings.warn(\n"
     ]
    },
    {
     "name": "stdout",
     "output_type": "stream",
     "text": [
      "No of FN: 11\n",
      "6081.692867403903\n",
      "[CV 1/5; 38/96] END logisticregression__C=0.01, logisticregression__penalty=none, logisticregression__solver=lbfgs;, score=-6081.693 total time=   2.2s\n",
      "[CV 2/5; 38/96] START logisticregression__C=0.01, logisticregression__penalty=none, logisticregression__solver=lbfgs\n"
     ]
    },
    {
     "name": "stderr",
     "output_type": "stream",
     "text": [
      "C:\\Python310\\lib\\site-packages\\sklearn\\linear_model\\_logistic.py:1113: UserWarning: Setting penalty='none' will ignore the C and l1_ratio parameters\n",
      "  warnings.warn(\n"
     ]
    },
    {
     "name": "stdout",
     "output_type": "stream",
     "text": [
      "No of FN: 9\n",
      "5512.942993177581\n",
      "[CV 2/5; 38/96] END logisticregression__C=0.01, logisticregression__penalty=none, logisticregression__solver=lbfgs;, score=-5512.943 total time=   2.2s\n",
      "[CV 3/5; 38/96] START logisticregression__C=0.01, logisticregression__penalty=none, logisticregression__solver=lbfgs\n"
     ]
    },
    {
     "name": "stderr",
     "output_type": "stream",
     "text": [
      "C:\\Python310\\lib\\site-packages\\sklearn\\linear_model\\_logistic.py:1113: UserWarning: Setting penalty='none' will ignore the C and l1_ratio parameters\n",
      "  warnings.warn(\n"
     ]
    },
    {
     "name": "stdout",
     "output_type": "stream",
     "text": [
      "No of FN: 10\n",
      "9145.88777682016\n",
      "[CV 3/5; 38/96] END logisticregression__C=0.01, logisticregression__penalty=none, logisticregression__solver=lbfgs;, score=-9145.888 total time=   1.3s\n",
      "[CV 4/5; 38/96] START logisticregression__C=0.01, logisticregression__penalty=none, logisticregression__solver=lbfgs\n"
     ]
    },
    {
     "name": "stderr",
     "output_type": "stream",
     "text": [
      "C:\\Python310\\lib\\site-packages\\sklearn\\linear_model\\_logistic.py:1113: UserWarning: Setting penalty='none' will ignore the C and l1_ratio parameters\n",
      "  warnings.warn(\n",
      "C:\\Python310\\lib\\site-packages\\sklearn\\linear_model\\_logistic.py:444: ConvergenceWarning: lbfgs failed to converge (status=1):\n",
      "STOP: TOTAL NO. of ITERATIONS REACHED LIMIT.\n",
      "\n",
      "Increase the number of iterations (max_iter) or scale the data as shown in:\n",
      "    https://scikit-learn.org/stable/modules/preprocessing.html\n",
      "Please also refer to the documentation for alternative solver options:\n",
      "    https://scikit-learn.org/stable/modules/linear_model.html#logistic-regression\n",
      "  n_iter_i = _check_optimize_result(\n"
     ]
    },
    {
     "name": "stdout",
     "output_type": "stream",
     "text": [
      "No of FN: 7\n",
      "5308.34206543166\n",
      "[CV 4/5; 38/96] END logisticregression__C=0.01, logisticregression__penalty=none, logisticregression__solver=lbfgs;, score=-5308.342 total time=   2.6s\n",
      "[CV 5/5; 38/96] START logisticregression__C=0.01, logisticregression__penalty=none, logisticregression__solver=lbfgs\n"
     ]
    },
    {
     "name": "stderr",
     "output_type": "stream",
     "text": [
      "C:\\Python310\\lib\\site-packages\\sklearn\\linear_model\\_logistic.py:1113: UserWarning: Setting penalty='none' will ignore the C and l1_ratio parameters\n",
      "  warnings.warn(\n"
     ]
    },
    {
     "name": "stdout",
     "output_type": "stream",
     "text": [
      "No of FN: 6\n",
      "5945.84\n",
      "[CV 5/5; 38/96] END logisticregression__C=0.01, logisticregression__penalty=none, logisticregression__solver=lbfgs;, score=-5945.840 total time=   2.0s\n",
      "[CV 1/5; 39/96] START logisticregression__C=0.01, logisticregression__penalty=none, logisticregression__solver=liblinear\n",
      "[CV 1/5; 39/96] END logisticregression__C=0.01, logisticregression__penalty=none, logisticregression__solver=liblinear;, score=nan total time=   0.2s\n",
      "[CV 2/5; 39/96] START logisticregression__C=0.01, logisticregression__penalty=none, logisticregression__solver=liblinear\n",
      "[CV 2/5; 39/96] END logisticregression__C=0.01, logisticregression__penalty=none, logisticregression__solver=liblinear;, score=nan total time=   0.3s\n",
      "[CV 3/5; 39/96] START logisticregression__C=0.01, logisticregression__penalty=none, logisticregression__solver=liblinear\n",
      "[CV 3/5; 39/96] END logisticregression__C=0.01, logisticregression__penalty=none, logisticregression__solver=liblinear;, score=nan total time=   0.2s\n",
      "[CV 4/5; 39/96] START logisticregression__C=0.01, logisticregression__penalty=none, logisticregression__solver=liblinear\n",
      "[CV 4/5; 39/96] END logisticregression__C=0.01, logisticregression__penalty=none, logisticregression__solver=liblinear;, score=nan total time=   0.2s\n",
      "[CV 5/5; 39/96] START logisticregression__C=0.01, logisticregression__penalty=none, logisticregression__solver=liblinear\n",
      "[CV 5/5; 39/96] END logisticregression__C=0.01, logisticregression__penalty=none, logisticregression__solver=liblinear;, score=nan total time=   0.2s\n",
      "[CV 1/5; 40/96] START logisticregression__C=0.01, logisticregression__penalty=l1, logisticregression__solver=newton-cg\n",
      "[CV 1/5; 40/96] END logisticregression__C=0.01, logisticregression__penalty=l1, logisticregression__solver=newton-cg;, score=nan total time=   0.2s\n",
      "[CV 2/5; 40/96] START logisticregression__C=0.01, logisticregression__penalty=l1, logisticregression__solver=newton-cg\n",
      "[CV 2/5; 40/96] END logisticregression__C=0.01, logisticregression__penalty=l1, logisticregression__solver=newton-cg;, score=nan total time=   0.2s\n",
      "[CV 3/5; 40/96] START logisticregression__C=0.01, logisticregression__penalty=l1, logisticregression__solver=newton-cg\n",
      "[CV 3/5; 40/96] END logisticregression__C=0.01, logisticregression__penalty=l1, logisticregression__solver=newton-cg;, score=nan total time=   0.3s\n",
      "[CV 4/5; 40/96] START logisticregression__C=0.01, logisticregression__penalty=l1, logisticregression__solver=newton-cg\n",
      "[CV 4/5; 40/96] END logisticregression__C=0.01, logisticregression__penalty=l1, logisticregression__solver=newton-cg;, score=nan total time=   0.2s\n",
      "[CV 5/5; 40/96] START logisticregression__C=0.01, logisticregression__penalty=l1, logisticregression__solver=newton-cg\n",
      "[CV 5/5; 40/96] END logisticregression__C=0.01, logisticregression__penalty=l1, logisticregression__solver=newton-cg;, score=nan total time=   0.2s\n",
      "[CV 1/5; 41/96] START logisticregression__C=0.01, logisticregression__penalty=l1, logisticregression__solver=lbfgs\n",
      "[CV 1/5; 41/96] END logisticregression__C=0.01, logisticregression__penalty=l1, logisticregression__solver=lbfgs;, score=nan total time=   0.2s\n",
      "[CV 2/5; 41/96] START logisticregression__C=0.01, logisticregression__penalty=l1, logisticregression__solver=lbfgs\n",
      "[CV 2/5; 41/96] END logisticregression__C=0.01, logisticregression__penalty=l1, logisticregression__solver=lbfgs;, score=nan total time=   0.2s\n",
      "[CV 3/5; 41/96] START logisticregression__C=0.01, logisticregression__penalty=l1, logisticregression__solver=lbfgs\n",
      "[CV 3/5; 41/96] END logisticregression__C=0.01, logisticregression__penalty=l1, logisticregression__solver=lbfgs;, score=nan total time=   0.2s\n",
      "[CV 4/5; 41/96] START logisticregression__C=0.01, logisticregression__penalty=l1, logisticregression__solver=lbfgs\n",
      "[CV 4/5; 41/96] END logisticregression__C=0.01, logisticregression__penalty=l1, logisticregression__solver=lbfgs;, score=nan total time=   0.2s\n",
      "[CV 5/5; 41/96] START logisticregression__C=0.01, logisticregression__penalty=l1, logisticregression__solver=lbfgs\n",
      "[CV 5/5; 41/96] END logisticregression__C=0.01, logisticregression__penalty=l1, logisticregression__solver=lbfgs;, score=nan total time=   0.2s\n",
      "[CV 1/5; 42/96] START logisticregression__C=0.01, logisticregression__penalty=l1, logisticregression__solver=liblinear\n",
      "No of FN: 10\n",
      "2988.7008200038385\n",
      "[CV 1/5; 42/96] END logisticregression__C=0.01, logisticregression__penalty=l1, logisticregression__solver=liblinear;, score=-2988.701 total time=   1.7s\n",
      "[CV 2/5; 42/96] START logisticregression__C=0.01, logisticregression__penalty=l1, logisticregression__solver=liblinear\n",
      "No of FN: 9\n",
      "3082.9429931775812\n",
      "[CV 2/5; 42/96] END logisticregression__C=0.01, logisticregression__penalty=l1, logisticregression__solver=liblinear;, score=-3082.943 total time=   3.3s\n",
      "[CV 3/5; 42/96] START logisticregression__C=0.01, logisticregression__penalty=l1, logisticregression__solver=liblinear\n",
      "No of FN: 9\n",
      "3623.237663936143\n",
      "[CV 3/5; 42/96] END logisticregression__C=0.01, logisticregression__penalty=l1, logisticregression__solver=liblinear;, score=-3623.238 total time=   4.0s\n",
      "[CV 4/5; 42/96] START logisticregression__C=0.01, logisticregression__penalty=l1, logisticregression__solver=liblinear\n",
      "No of FN: 9\n",
      "2756.1220654316603\n",
      "[CV 4/5; 42/96] END logisticregression__C=0.01, logisticregression__penalty=l1, logisticregression__solver=liblinear;, score=-2756.122 total time=   2.9s\n",
      "[CV 5/5; 42/96] START logisticregression__C=0.01, logisticregression__penalty=l1, logisticregression__solver=liblinear\n",
      "No of FN: 6\n",
      "2964.44\n",
      "[CV 5/5; 42/96] END logisticregression__C=0.01, logisticregression__penalty=l1, logisticregression__solver=liblinear;, score=-2964.440 total time=   1.4s\n",
      "[CV 1/5; 43/96] START logisticregression__C=0.01, logisticregression__penalty=l2, logisticregression__solver=newton-cg\n"
     ]
    },
    {
     "name": "stderr",
     "output_type": "stream",
     "text": [
      "C:\\Python310\\lib\\site-packages\\scipy\\optimize\\_linesearch.py:456: LineSearchWarning: The line search algorithm did not converge\n",
      "  warn('The line search algorithm did not converge', LineSearchWarning)\n",
      "C:\\Python310\\lib\\site-packages\\scipy\\optimize\\_linesearch.py:305: LineSearchWarning: The line search algorithm did not converge\n",
      "  warn('The line search algorithm did not converge', LineSearchWarning)\n",
      "C:\\Python310\\lib\\site-packages\\sklearn\\utils\\optimize.py:210: ConvergenceWarning: newton-cg failed to converge. Increase the number of iterations.\n",
      "  warnings.warn(\n"
     ]
    },
    {
     "name": "stdout",
     "output_type": "stream",
     "text": [
      "No of FN: 10\n",
      "2978.7008200038385\n",
      "[CV 1/5; 43/96] END logisticregression__C=0.01, logisticregression__penalty=l2, logisticregression__solver=newton-cg;, score=-2978.701 total time=  22.0s\n",
      "[CV 2/5; 43/96] START logisticregression__C=0.01, logisticregression__penalty=l2, logisticregression__solver=newton-cg\n"
     ]
    },
    {
     "name": "stderr",
     "output_type": "stream",
     "text": [
      "C:\\Python310\\lib\\site-packages\\scipy\\optimize\\_linesearch.py:456: LineSearchWarning: The line search algorithm did not converge\n",
      "  warn('The line search algorithm did not converge', LineSearchWarning)\n",
      "C:\\Python310\\lib\\site-packages\\scipy\\optimize\\_linesearch.py:305: LineSearchWarning: The line search algorithm did not converge\n",
      "  warn('The line search algorithm did not converge', LineSearchWarning)\n",
      "C:\\Python310\\lib\\site-packages\\sklearn\\utils\\optimize.py:210: ConvergenceWarning: newton-cg failed to converge. Increase the number of iterations.\n",
      "  warnings.warn(\n"
     ]
    },
    {
     "name": "stdout",
     "output_type": "stream",
     "text": [
      "No of FN: 9\n",
      "3107.9429931775812\n",
      "[CV 2/5; 43/96] END logisticregression__C=0.01, logisticregression__penalty=l2, logisticregression__solver=newton-cg;, score=-3107.943 total time=  22.3s\n",
      "[CV 3/5; 43/96] START logisticregression__C=0.01, logisticregression__penalty=l2, logisticregression__solver=newton-cg\n"
     ]
    },
    {
     "name": "stderr",
     "output_type": "stream",
     "text": [
      "C:\\Python310\\lib\\site-packages\\sklearn\\utils\\optimize.py:210: ConvergenceWarning: newton-cg failed to converge. Increase the number of iterations.\n",
      "  warnings.warn(\n"
     ]
    },
    {
     "name": "stdout",
     "output_type": "stream",
     "text": [
      "No of FN: 9\n",
      "3678.237663936143\n",
      "[CV 3/5; 43/96] END logisticregression__C=0.01, logisticregression__penalty=l2, logisticregression__solver=newton-cg;, score=-3678.238 total time=  21.8s\n",
      "[CV 4/5; 43/96] START logisticregression__C=0.01, logisticregression__penalty=l2, logisticregression__solver=newton-cg\n"
     ]
    },
    {
     "name": "stderr",
     "output_type": "stream",
     "text": [
      "C:\\Python310\\lib\\site-packages\\sklearn\\utils\\optimize.py:210: ConvergenceWarning: newton-cg failed to converge. Increase the number of iterations.\n",
      "  warnings.warn(\n"
     ]
    },
    {
     "name": "stdout",
     "output_type": "stream",
     "text": [
      "No of FN: 9\n",
      "2766.1220654316603\n",
      "[CV 4/5; 43/96] END logisticregression__C=0.01, logisticregression__penalty=l2, logisticregression__solver=newton-cg;, score=-2766.122 total time=  21.5s\n",
      "[CV 5/5; 43/96] START logisticregression__C=0.01, logisticregression__penalty=l2, logisticregression__solver=newton-cg\n"
     ]
    },
    {
     "name": "stderr",
     "output_type": "stream",
     "text": [
      "C:\\Python310\\lib\\site-packages\\scipy\\optimize\\_linesearch.py:456: LineSearchWarning: The line search algorithm did not converge\n",
      "  warn('The line search algorithm did not converge', LineSearchWarning)\n",
      "C:\\Python310\\lib\\site-packages\\scipy\\optimize\\_linesearch.py:305: LineSearchWarning: The line search algorithm did not converge\n",
      "  warn('The line search algorithm did not converge', LineSearchWarning)\n",
      "C:\\Python310\\lib\\site-packages\\sklearn\\utils\\optimize.py:210: ConvergenceWarning: newton-cg failed to converge. Increase the number of iterations.\n",
      "  warnings.warn(\n"
     ]
    },
    {
     "name": "stdout",
     "output_type": "stream",
     "text": [
      "No of FN: 6\n",
      "2914.44\n",
      "[CV 5/5; 43/96] END logisticregression__C=0.01, logisticregression__penalty=l2, logisticregression__solver=newton-cg;, score=-2914.440 total time=  23.3s\n",
      "[CV 1/5; 44/96] START logisticregression__C=0.01, logisticregression__penalty=l2, logisticregression__solver=lbfgs\n"
     ]
    },
    {
     "name": "stderr",
     "output_type": "stream",
     "text": [
      "C:\\Python310\\lib\\site-packages\\sklearn\\linear_model\\_logistic.py:444: ConvergenceWarning: lbfgs failed to converge (status=1):\n",
      "STOP: TOTAL NO. of ITERATIONS REACHED LIMIT.\n",
      "\n",
      "Increase the number of iterations (max_iter) or scale the data as shown in:\n",
      "    https://scikit-learn.org/stable/modules/preprocessing.html\n",
      "Please also refer to the documentation for alternative solver options:\n",
      "    https://scikit-learn.org/stable/modules/linear_model.html#logistic-regression\n",
      "  n_iter_i = _check_optimize_result(\n"
     ]
    },
    {
     "name": "stdout",
     "output_type": "stream",
     "text": [
      "No of FN: 10\n",
      "4893.498931012973\n",
      "[CV 1/5; 44/96] END logisticregression__C=0.01, logisticregression__penalty=l2, logisticregression__solver=lbfgs;, score=-4893.499 total time=   2.7s\n",
      "[CV 2/5; 44/96] START logisticregression__C=0.01, logisticregression__penalty=l2, logisticregression__solver=lbfgs\n"
     ]
    },
    {
     "name": "stderr",
     "output_type": "stream",
     "text": [
      "C:\\Python310\\lib\\site-packages\\sklearn\\linear_model\\_logistic.py:444: ConvergenceWarning: lbfgs failed to converge (status=1):\n",
      "STOP: TOTAL NO. of ITERATIONS REACHED LIMIT.\n",
      "\n",
      "Increase the number of iterations (max_iter) or scale the data as shown in:\n",
      "    https://scikit-learn.org/stable/modules/preprocessing.html\n",
      "Please also refer to the documentation for alternative solver options:\n",
      "    https://scikit-learn.org/stable/modules/linear_model.html#logistic-regression\n",
      "  n_iter_i = _check_optimize_result(\n"
     ]
    },
    {
     "name": "stdout",
     "output_type": "stream",
     "text": [
      "No of FN: 10\n",
      "4843.457233402643\n",
      "[CV 2/5; 44/96] END logisticregression__C=0.01, logisticregression__penalty=l2, logisticregression__solver=lbfgs;, score=-4843.457 total time=   2.7s\n",
      "[CV 3/5; 44/96] START logisticregression__C=0.01, logisticregression__penalty=l2, logisticregression__solver=lbfgs\n",
      "No of FN: 10\n",
      "9115.88777682016\n",
      "[CV 3/5; 44/96] END logisticregression__C=0.01, logisticregression__penalty=l2, logisticregression__solver=lbfgs;, score=-9115.888 total time=   1.3s\n",
      "[CV 4/5; 44/96] START logisticregression__C=0.01, logisticregression__penalty=l2, logisticregression__solver=lbfgs\n"
     ]
    },
    {
     "name": "stderr",
     "output_type": "stream",
     "text": [
      "C:\\Python310\\lib\\site-packages\\sklearn\\linear_model\\_logistic.py:444: ConvergenceWarning: lbfgs failed to converge (status=1):\n",
      "STOP: TOTAL NO. of ITERATIONS REACHED LIMIT.\n",
      "\n",
      "Increase the number of iterations (max_iter) or scale the data as shown in:\n",
      "    https://scikit-learn.org/stable/modules/preprocessing.html\n",
      "Please also refer to the documentation for alternative solver options:\n",
      "    https://scikit-learn.org/stable/modules/linear_model.html#logistic-regression\n",
      "  n_iter_i = _check_optimize_result(\n"
     ]
    },
    {
     "name": "stdout",
     "output_type": "stream",
     "text": [
      "No of FN: 8\n",
      "4676.1720654316605\n",
      "[CV 4/5; 44/96] END logisticregression__C=0.01, logisticregression__penalty=l2, logisticregression__solver=lbfgs;, score=-4676.172 total time=   2.8s\n",
      "[CV 5/5; 44/96] START logisticregression__C=0.01, logisticregression__penalty=l2, logisticregression__solver=lbfgs\n",
      "No of FN: 6\n",
      "4725.84\n",
      "[CV 5/5; 44/96] END logisticregression__C=0.01, logisticregression__penalty=l2, logisticregression__solver=lbfgs;, score=-4725.840 total time=   2.7s\n",
      "[CV 1/5; 45/96] START logisticregression__C=0.01, logisticregression__penalty=l2, logisticregression__solver=liblinear\n",
      "No of FN: 11\n",
      "4654.262532502451\n",
      "[CV 1/5; 45/96] END logisticregression__C=0.01, logisticregression__penalty=l2, logisticregression__solver=liblinear;, score=-4654.263 total time=   3.4s\n",
      "[CV 2/5; 45/96] START logisticregression__C=0.01, logisticregression__penalty=l2, logisticregression__solver=liblinear\n",
      "No of FN: 9\n",
      "4442.942993177581\n",
      "[CV 2/5; 45/96] END logisticregression__C=0.01, logisticregression__penalty=l2, logisticregression__solver=liblinear;, score=-4442.943 total time=   3.2s\n",
      "[CV 3/5; 45/96] START logisticregression__C=0.01, logisticregression__penalty=l2, logisticregression__solver=liblinear\n",
      "No of FN: 8\n",
      "5289.237663936143\n",
      "[CV 3/5; 45/96] END logisticregression__C=0.01, logisticregression__penalty=l2, logisticregression__solver=liblinear;, score=-5289.238 total time=   3.3s\n",
      "[CV 4/5; 45/96] START logisticregression__C=0.01, logisticregression__penalty=l2, logisticregression__solver=liblinear\n",
      "No of FN: 8\n",
      "4656.1720654316605\n",
      "[CV 4/5; 45/96] END logisticregression__C=0.01, logisticregression__penalty=l2, logisticregression__solver=liblinear;, score=-4656.172 total time=   3.1s\n",
      "[CV 5/5; 45/96] START logisticregression__C=0.01, logisticregression__penalty=l2, logisticregression__solver=liblinear\n",
      "No of FN: 9\n",
      "3603.4679646253935\n",
      "[CV 5/5; 45/96] END logisticregression__C=0.01, logisticregression__penalty=l2, logisticregression__solver=liblinear;, score=-3603.468 total time=   2.6s\n",
      "[CV 1/5; 46/96] START logisticregression__C=0.01, logisticregression__penalty=elasticnet, logisticregression__solver=newton-cg\n",
      "[CV 1/5; 46/96] END logisticregression__C=0.01, logisticregression__penalty=elasticnet, logisticregression__solver=newton-cg;, score=nan total time=   0.2s\n",
      "[CV 2/5; 46/96] START logisticregression__C=0.01, logisticregression__penalty=elasticnet, logisticregression__solver=newton-cg\n",
      "[CV 2/5; 46/96] END logisticregression__C=0.01, logisticregression__penalty=elasticnet, logisticregression__solver=newton-cg;, score=nan total time=   0.2s\n",
      "[CV 3/5; 46/96] START logisticregression__C=0.01, logisticregression__penalty=elasticnet, logisticregression__solver=newton-cg\n",
      "[CV 3/5; 46/96] END logisticregression__C=0.01, logisticregression__penalty=elasticnet, logisticregression__solver=newton-cg;, score=nan total time=   0.3s\n",
      "[CV 4/5; 46/96] START logisticregression__C=0.01, logisticregression__penalty=elasticnet, logisticregression__solver=newton-cg\n",
      "[CV 4/5; 46/96] END logisticregression__C=0.01, logisticregression__penalty=elasticnet, logisticregression__solver=newton-cg;, score=nan total time=   0.2s\n",
      "[CV 5/5; 46/96] START logisticregression__C=0.01, logisticregression__penalty=elasticnet, logisticregression__solver=newton-cg\n",
      "[CV 5/5; 46/96] END logisticregression__C=0.01, logisticregression__penalty=elasticnet, logisticregression__solver=newton-cg;, score=nan total time=   0.2s\n",
      "[CV 1/5; 47/96] START logisticregression__C=0.01, logisticregression__penalty=elasticnet, logisticregression__solver=lbfgs\n",
      "[CV 1/5; 47/96] END logisticregression__C=0.01, logisticregression__penalty=elasticnet, logisticregression__solver=lbfgs;, score=nan total time=   0.2s\n",
      "[CV 2/5; 47/96] START logisticregression__C=0.01, logisticregression__penalty=elasticnet, logisticregression__solver=lbfgs\n",
      "[CV 2/5; 47/96] END logisticregression__C=0.01, logisticregression__penalty=elasticnet, logisticregression__solver=lbfgs;, score=nan total time=   0.2s\n",
      "[CV 3/5; 47/96] START logisticregression__C=0.01, logisticregression__penalty=elasticnet, logisticregression__solver=lbfgs\n",
      "[CV 3/5; 47/96] END logisticregression__C=0.01, logisticregression__penalty=elasticnet, logisticregression__solver=lbfgs;, score=nan total time=   0.2s\n",
      "[CV 4/5; 47/96] START logisticregression__C=0.01, logisticregression__penalty=elasticnet, logisticregression__solver=lbfgs\n",
      "[CV 4/5; 47/96] END logisticregression__C=0.01, logisticregression__penalty=elasticnet, logisticregression__solver=lbfgs;, score=nan total time=   0.2s\n",
      "[CV 5/5; 47/96] START logisticregression__C=0.01, logisticregression__penalty=elasticnet, logisticregression__solver=lbfgs\n",
      "[CV 5/5; 47/96] END logisticregression__C=0.01, logisticregression__penalty=elasticnet, logisticregression__solver=lbfgs;, score=nan total time=   0.2s\n",
      "[CV 1/5; 48/96] START logisticregression__C=0.01, logisticregression__penalty=elasticnet, logisticregression__solver=liblinear\n",
      "[CV 1/5; 48/96] END logisticregression__C=0.01, logisticregression__penalty=elasticnet, logisticregression__solver=liblinear;, score=nan total time=   0.3s\n",
      "[CV 2/5; 48/96] START logisticregression__C=0.01, logisticregression__penalty=elasticnet, logisticregression__solver=liblinear\n",
      "[CV 2/5; 48/96] END logisticregression__C=0.01, logisticregression__penalty=elasticnet, logisticregression__solver=liblinear;, score=nan total time=   0.2s\n",
      "[CV 3/5; 48/96] START logisticregression__C=0.01, logisticregression__penalty=elasticnet, logisticregression__solver=liblinear\n",
      "[CV 3/5; 48/96] END logisticregression__C=0.01, logisticregression__penalty=elasticnet, logisticregression__solver=liblinear;, score=nan total time=   0.2s\n",
      "[CV 4/5; 48/96] START logisticregression__C=0.01, logisticregression__penalty=elasticnet, logisticregression__solver=liblinear\n",
      "[CV 4/5; 48/96] END logisticregression__C=0.01, logisticregression__penalty=elasticnet, logisticregression__solver=liblinear;, score=nan total time=   0.2s\n",
      "[CV 5/5; 48/96] START logisticregression__C=0.01, logisticregression__penalty=elasticnet, logisticregression__solver=liblinear\n",
      "[CV 5/5; 48/96] END logisticregression__C=0.01, logisticregression__penalty=elasticnet, logisticregression__solver=liblinear;, score=nan total time=   0.2s\n",
      "[CV 1/5; 49/96] START logisticregression__C=0.1, logisticregression__penalty=none, logisticregression__solver=newton-cg\n"
     ]
    },
    {
     "name": "stderr",
     "output_type": "stream",
     "text": [
      "C:\\Python310\\lib\\site-packages\\sklearn\\linear_model\\_logistic.py:1113: UserWarning: Setting penalty='none' will ignore the C and l1_ratio parameters\n",
      "  warnings.warn(\n",
      "C:\\Python310\\lib\\site-packages\\scipy\\optimize\\_linesearch.py:456: LineSearchWarning: The line search algorithm did not converge\n",
      "  warn('The line search algorithm did not converge', LineSearchWarning)\n",
      "C:\\Python310\\lib\\site-packages\\scipy\\optimize\\_linesearch.py:305: LineSearchWarning: The line search algorithm did not converge\n",
      "  warn('The line search algorithm did not converge', LineSearchWarning)\n",
      "C:\\Python310\\lib\\site-packages\\sklearn\\utils\\optimize.py:210: ConvergenceWarning: newton-cg failed to converge. Increase the number of iterations.\n",
      "  warnings.warn(\n"
     ]
    },
    {
     "name": "stdout",
     "output_type": "stream",
     "text": [
      "No of FN: 10\n",
      "2908.7008200038385\n",
      "[CV 1/5; 49/96] END logisticregression__C=0.1, logisticregression__penalty=none, logisticregression__solver=newton-cg;, score=-2908.701 total time=  24.2s\n",
      "[CV 2/5; 49/96] START logisticregression__C=0.1, logisticregression__penalty=none, logisticregression__solver=newton-cg\n"
     ]
    },
    {
     "name": "stderr",
     "output_type": "stream",
     "text": [
      "C:\\Python310\\lib\\site-packages\\sklearn\\linear_model\\_logistic.py:1113: UserWarning: Setting penalty='none' will ignore the C and l1_ratio parameters\n",
      "  warnings.warn(\n",
      "C:\\Python310\\lib\\site-packages\\scipy\\optimize\\_linesearch.py:456: LineSearchWarning: The line search algorithm did not converge\n",
      "  warn('The line search algorithm did not converge', LineSearchWarning)\n",
      "C:\\Python310\\lib\\site-packages\\scipy\\optimize\\_linesearch.py:305: LineSearchWarning: The line search algorithm did not converge\n",
      "  warn('The line search algorithm did not converge', LineSearchWarning)\n",
      "C:\\Python310\\lib\\site-packages\\sklearn\\utils\\optimize.py:210: ConvergenceWarning: newton-cg failed to converge. Increase the number of iterations.\n",
      "  warnings.warn(\n"
     ]
    },
    {
     "name": "stdout",
     "output_type": "stream",
     "text": [
      "No of FN: 9\n",
      "3047.9429931775812\n",
      "[CV 2/5; 49/96] END logisticregression__C=0.1, logisticregression__penalty=none, logisticregression__solver=newton-cg;, score=-3047.943 total time=  22.8s\n",
      "[CV 3/5; 49/96] START logisticregression__C=0.1, logisticregression__penalty=none, logisticregression__solver=newton-cg\n"
     ]
    },
    {
     "name": "stderr",
     "output_type": "stream",
     "text": [
      "C:\\Python310\\lib\\site-packages\\sklearn\\linear_model\\_logistic.py:1113: UserWarning: Setting penalty='none' will ignore the C and l1_ratio parameters\n",
      "  warnings.warn(\n",
      "C:\\Python310\\lib\\site-packages\\scipy\\optimize\\_linesearch.py:456: LineSearchWarning: The line search algorithm did not converge\n",
      "  warn('The line search algorithm did not converge', LineSearchWarning)\n",
      "C:\\Python310\\lib\\site-packages\\scipy\\optimize\\_linesearch.py:305: LineSearchWarning: The line search algorithm did not converge\n",
      "  warn('The line search algorithm did not converge', LineSearchWarning)\n",
      "C:\\Python310\\lib\\site-packages\\sklearn\\utils\\optimize.py:210: ConvergenceWarning: newton-cg failed to converge. Increase the number of iterations.\n",
      "  warnings.warn(\n"
     ]
    },
    {
     "name": "stdout",
     "output_type": "stream",
     "text": [
      "No of FN: 9\n",
      "3578.237663936143\n",
      "[CV 3/5; 49/96] END logisticregression__C=0.1, logisticregression__penalty=none, logisticregression__solver=newton-cg;, score=-3578.238 total time=  23.3s\n",
      "[CV 4/5; 49/96] START logisticregression__C=0.1, logisticregression__penalty=none, logisticregression__solver=newton-cg\n"
     ]
    },
    {
     "name": "stderr",
     "output_type": "stream",
     "text": [
      "C:\\Python310\\lib\\site-packages\\sklearn\\linear_model\\_logistic.py:1113: UserWarning: Setting penalty='none' will ignore the C and l1_ratio parameters\n",
      "  warnings.warn(\n",
      "C:\\Python310\\lib\\site-packages\\scipy\\optimize\\_linesearch.py:456: LineSearchWarning: The line search algorithm did not converge\n",
      "  warn('The line search algorithm did not converge', LineSearchWarning)\n",
      "C:\\Python310\\lib\\site-packages\\scipy\\optimize\\_linesearch.py:305: LineSearchWarning: The line search algorithm did not converge\n",
      "  warn('The line search algorithm did not converge', LineSearchWarning)\n",
      "C:\\Python310\\lib\\site-packages\\sklearn\\utils\\optimize.py:210: ConvergenceWarning: newton-cg failed to converge. Increase the number of iterations.\n",
      "  warnings.warn(\n"
     ]
    },
    {
     "name": "stdout",
     "output_type": "stream",
     "text": [
      "No of FN: 9\n",
      "2751.1220654316603\n",
      "[CV 4/5; 49/96] END logisticregression__C=0.1, logisticregression__penalty=none, logisticregression__solver=newton-cg;, score=-2751.122 total time=  23.3s\n",
      "[CV 5/5; 49/96] START logisticregression__C=0.1, logisticregression__penalty=none, logisticregression__solver=newton-cg\n"
     ]
    },
    {
     "name": "stderr",
     "output_type": "stream",
     "text": [
      "C:\\Python310\\lib\\site-packages\\sklearn\\linear_model\\_logistic.py:1113: UserWarning: Setting penalty='none' will ignore the C and l1_ratio parameters\n",
      "  warnings.warn(\n",
      "C:\\Python310\\lib\\site-packages\\scipy\\optimize\\_linesearch.py:456: LineSearchWarning: The line search algorithm did not converge\n",
      "  warn('The line search algorithm did not converge', LineSearchWarning)\n",
      "C:\\Python310\\lib\\site-packages\\scipy\\optimize\\_linesearch.py:305: LineSearchWarning: The line search algorithm did not converge\n",
      "  warn('The line search algorithm did not converge', LineSearchWarning)\n",
      "C:\\Python310\\lib\\site-packages\\sklearn\\utils\\optimize.py:210: ConvergenceWarning: newton-cg failed to converge. Increase the number of iterations.\n",
      "  warnings.warn(\n"
     ]
    },
    {
     "name": "stdout",
     "output_type": "stream",
     "text": [
      "No of FN: 6\n",
      "2829.44\n",
      "[CV 5/5; 49/96] END logisticregression__C=0.1, logisticregression__penalty=none, logisticregression__solver=newton-cg;, score=-2829.440 total time=  25.6s\n",
      "[CV 1/5; 50/96] START logisticregression__C=0.1, logisticregression__penalty=none, logisticregression__solver=lbfgs\n"
     ]
    },
    {
     "name": "stderr",
     "output_type": "stream",
     "text": [
      "C:\\Python310\\lib\\site-packages\\sklearn\\linear_model\\_logistic.py:1113: UserWarning: Setting penalty='none' will ignore the C and l1_ratio parameters\n",
      "  warnings.warn(\n"
     ]
    },
    {
     "name": "stdout",
     "output_type": "stream",
     "text": [
      "No of FN: 11\n",
      "6081.692867403903\n",
      "[CV 1/5; 50/96] END logisticregression__C=0.1, logisticregression__penalty=none, logisticregression__solver=lbfgs;, score=-6081.693 total time=   2.2s\n",
      "[CV 2/5; 50/96] START logisticregression__C=0.1, logisticregression__penalty=none, logisticregression__solver=lbfgs\n"
     ]
    },
    {
     "name": "stderr",
     "output_type": "stream",
     "text": [
      "C:\\Python310\\lib\\site-packages\\sklearn\\linear_model\\_logistic.py:1113: UserWarning: Setting penalty='none' will ignore the C and l1_ratio parameters\n",
      "  warnings.warn(\n"
     ]
    },
    {
     "name": "stdout",
     "output_type": "stream",
     "text": [
      "No of FN: 9\n",
      "5512.942993177581\n",
      "[CV 2/5; 50/96] END logisticregression__C=0.1, logisticregression__penalty=none, logisticregression__solver=lbfgs;, score=-5512.943 total time=   2.2s\n",
      "[CV 3/5; 50/96] START logisticregression__C=0.1, logisticregression__penalty=none, logisticregression__solver=lbfgs\n"
     ]
    },
    {
     "name": "stderr",
     "output_type": "stream",
     "text": [
      "C:\\Python310\\lib\\site-packages\\sklearn\\linear_model\\_logistic.py:1113: UserWarning: Setting penalty='none' will ignore the C and l1_ratio parameters\n",
      "  warnings.warn(\n"
     ]
    },
    {
     "name": "stdout",
     "output_type": "stream",
     "text": [
      "No of FN: 10\n",
      "9145.88777682016\n",
      "[CV 3/5; 50/96] END logisticregression__C=0.1, logisticregression__penalty=none, logisticregression__solver=lbfgs;, score=-9145.888 total time=   1.3s\n",
      "[CV 4/5; 50/96] START logisticregression__C=0.1, logisticregression__penalty=none, logisticregression__solver=lbfgs\n"
     ]
    },
    {
     "name": "stderr",
     "output_type": "stream",
     "text": [
      "C:\\Python310\\lib\\site-packages\\sklearn\\linear_model\\_logistic.py:1113: UserWarning: Setting penalty='none' will ignore the C and l1_ratio parameters\n",
      "  warnings.warn(\n",
      "C:\\Python310\\lib\\site-packages\\sklearn\\linear_model\\_logistic.py:444: ConvergenceWarning: lbfgs failed to converge (status=1):\n",
      "STOP: TOTAL NO. of ITERATIONS REACHED LIMIT.\n",
      "\n",
      "Increase the number of iterations (max_iter) or scale the data as shown in:\n",
      "    https://scikit-learn.org/stable/modules/preprocessing.html\n",
      "Please also refer to the documentation for alternative solver options:\n",
      "    https://scikit-learn.org/stable/modules/linear_model.html#logistic-regression\n",
      "  n_iter_i = _check_optimize_result(\n"
     ]
    },
    {
     "name": "stdout",
     "output_type": "stream",
     "text": [
      "No of FN: 7\n",
      "5308.34206543166\n",
      "[CV 4/5; 50/96] END logisticregression__C=0.1, logisticregression__penalty=none, logisticregression__solver=lbfgs;, score=-5308.342 total time=   2.6s\n",
      "[CV 5/5; 50/96] START logisticregression__C=0.1, logisticregression__penalty=none, logisticregression__solver=lbfgs\n"
     ]
    },
    {
     "name": "stderr",
     "output_type": "stream",
     "text": [
      "C:\\Python310\\lib\\site-packages\\sklearn\\linear_model\\_logistic.py:1113: UserWarning: Setting penalty='none' will ignore the C and l1_ratio parameters\n",
      "  warnings.warn(\n"
     ]
    },
    {
     "name": "stdout",
     "output_type": "stream",
     "text": [
      "No of FN: 6\n",
      "5945.84\n",
      "[CV 5/5; 50/96] END logisticregression__C=0.1, logisticregression__penalty=none, logisticregression__solver=lbfgs;, score=-5945.840 total time=   2.0s\n",
      "[CV 1/5; 51/96] START logisticregression__C=0.1, logisticregression__penalty=none, logisticregression__solver=liblinear\n",
      "[CV 1/5; 51/96] END logisticregression__C=0.1, logisticregression__penalty=none, logisticregression__solver=liblinear;, score=nan total time=   0.2s\n",
      "[CV 2/5; 51/96] START logisticregression__C=0.1, logisticregression__penalty=none, logisticregression__solver=liblinear\n",
      "[CV 2/5; 51/96] END logisticregression__C=0.1, logisticregression__penalty=none, logisticregression__solver=liblinear;, score=nan total time=   0.2s\n",
      "[CV 3/5; 51/96] START logisticregression__C=0.1, logisticregression__penalty=none, logisticregression__solver=liblinear\n",
      "[CV 3/5; 51/96] END logisticregression__C=0.1, logisticregression__penalty=none, logisticregression__solver=liblinear;, score=nan total time=   0.2s\n",
      "[CV 4/5; 51/96] START logisticregression__C=0.1, logisticregression__penalty=none, logisticregression__solver=liblinear\n",
      "[CV 4/5; 51/96] END logisticregression__C=0.1, logisticregression__penalty=none, logisticregression__solver=liblinear;, score=nan total time=   0.2s\n",
      "[CV 5/5; 51/96] START logisticregression__C=0.1, logisticregression__penalty=none, logisticregression__solver=liblinear\n",
      "[CV 5/5; 51/96] END logisticregression__C=0.1, logisticregression__penalty=none, logisticregression__solver=liblinear;, score=nan total time=   0.3s\n",
      "[CV 1/5; 52/96] START logisticregression__C=0.1, logisticregression__penalty=l1, logisticregression__solver=newton-cg\n",
      "[CV 1/5; 52/96] END logisticregression__C=0.1, logisticregression__penalty=l1, logisticregression__solver=newton-cg;, score=nan total time=   0.2s\n",
      "[CV 2/5; 52/96] START logisticregression__C=0.1, logisticregression__penalty=l1, logisticregression__solver=newton-cg\n",
      "[CV 2/5; 52/96] END logisticregression__C=0.1, logisticregression__penalty=l1, logisticregression__solver=newton-cg;, score=nan total time=   0.2s\n",
      "[CV 3/5; 52/96] START logisticregression__C=0.1, logisticregression__penalty=l1, logisticregression__solver=newton-cg\n",
      "[CV 3/5; 52/96] END logisticregression__C=0.1, logisticregression__penalty=l1, logisticregression__solver=newton-cg;, score=nan total time=   0.2s\n",
      "[CV 4/5; 52/96] START logisticregression__C=0.1, logisticregression__penalty=l1, logisticregression__solver=newton-cg\n",
      "[CV 4/5; 52/96] END logisticregression__C=0.1, logisticregression__penalty=l1, logisticregression__solver=newton-cg;, score=nan total time=   0.2s\n",
      "[CV 5/5; 52/96] START logisticregression__C=0.1, logisticregression__penalty=l1, logisticregression__solver=newton-cg\n",
      "[CV 5/5; 52/96] END logisticregression__C=0.1, logisticregression__penalty=l1, logisticregression__solver=newton-cg;, score=nan total time=   0.2s\n",
      "[CV 1/5; 53/96] START logisticregression__C=0.1, logisticregression__penalty=l1, logisticregression__solver=lbfgs\n",
      "[CV 1/5; 53/96] END logisticregression__C=0.1, logisticregression__penalty=l1, logisticregression__solver=lbfgs;, score=nan total time=   0.2s\n",
      "[CV 2/5; 53/96] START logisticregression__C=0.1, logisticregression__penalty=l1, logisticregression__solver=lbfgs\n",
      "[CV 2/5; 53/96] END logisticregression__C=0.1, logisticregression__penalty=l1, logisticregression__solver=lbfgs;, score=nan total time=   0.2s\n",
      "[CV 3/5; 53/96] START logisticregression__C=0.1, logisticregression__penalty=l1, logisticregression__solver=lbfgs\n",
      "[CV 3/5; 53/96] END logisticregression__C=0.1, logisticregression__penalty=l1, logisticregression__solver=lbfgs;, score=nan total time=   0.3s\n",
      "[CV 4/5; 53/96] START logisticregression__C=0.1, logisticregression__penalty=l1, logisticregression__solver=lbfgs\n",
      "[CV 4/5; 53/96] END logisticregression__C=0.1, logisticregression__penalty=l1, logisticregression__solver=lbfgs;, score=nan total time=   0.3s\n",
      "[CV 5/5; 53/96] START logisticregression__C=0.1, logisticregression__penalty=l1, logisticregression__solver=lbfgs\n",
      "[CV 5/5; 53/96] END logisticregression__C=0.1, logisticregression__penalty=l1, logisticregression__solver=lbfgs;, score=nan total time=   0.3s\n",
      "[CV 1/5; 54/96] START logisticregression__C=0.1, logisticregression__penalty=l1, logisticregression__solver=liblinear\n",
      "No of FN: 10\n",
      "2953.7008200038385\n",
      "[CV 1/5; 54/96] END logisticregression__C=0.1, logisticregression__penalty=l1, logisticregression__solver=liblinear;, score=-2953.701 total time=   3.9s\n",
      "[CV 2/5; 54/96] START logisticregression__C=0.1, logisticregression__penalty=l1, logisticregression__solver=liblinear\n",
      "No of FN: 9\n",
      "3052.9429931775812\n",
      "[CV 2/5; 54/96] END logisticregression__C=0.1, logisticregression__penalty=l1, logisticregression__solver=liblinear;, score=-3052.943 total time=   3.6s\n",
      "[CV 3/5; 54/96] START logisticregression__C=0.1, logisticregression__penalty=l1, logisticregression__solver=liblinear\n",
      "No of FN: 9\n",
      "3688.237663936143\n",
      "[CV 3/5; 54/96] END logisticregression__C=0.1, logisticregression__penalty=l1, logisticregression__solver=liblinear;, score=-3688.238 total time=   4.2s\n",
      "[CV 4/5; 54/96] START logisticregression__C=0.1, logisticregression__penalty=l1, logisticregression__solver=liblinear\n",
      "No of FN: 9\n",
      "2736.1220654316603\n",
      "[CV 4/5; 54/96] END logisticregression__C=0.1, logisticregression__penalty=l1, logisticregression__solver=liblinear;, score=-2736.122 total time=   4.8s\n",
      "[CV 5/5; 54/96] START logisticregression__C=0.1, logisticregression__penalty=l1, logisticregression__solver=liblinear\n",
      "No of FN: 6\n",
      "2849.44\n",
      "[CV 5/5; 54/96] END logisticregression__C=0.1, logisticregression__penalty=l1, logisticregression__solver=liblinear;, score=-2849.440 total time=  10.7s\n",
      "[CV 1/5; 55/96] START logisticregression__C=0.1, logisticregression__penalty=l2, logisticregression__solver=newton-cg\n"
     ]
    },
    {
     "name": "stderr",
     "output_type": "stream",
     "text": [
      "C:\\Python310\\lib\\site-packages\\scipy\\optimize\\_linesearch.py:456: LineSearchWarning: The line search algorithm did not converge\n",
      "  warn('The line search algorithm did not converge', LineSearchWarning)\n",
      "C:\\Python310\\lib\\site-packages\\scipy\\optimize\\_linesearch.py:305: LineSearchWarning: The line search algorithm did not converge\n",
      "  warn('The line search algorithm did not converge', LineSearchWarning)\n",
      "C:\\Python310\\lib\\site-packages\\sklearn\\utils\\optimize.py:210: ConvergenceWarning: newton-cg failed to converge. Increase the number of iterations.\n",
      "  warnings.warn(\n"
     ]
    },
    {
     "name": "stdout",
     "output_type": "stream",
     "text": [
      "No of FN: 10\n",
      "2913.7008200038385\n",
      "[CV 1/5; 55/96] END logisticregression__C=0.1, logisticregression__penalty=l2, logisticregression__solver=newton-cg;, score=-2913.701 total time=  23.1s\n",
      "[CV 2/5; 55/96] START logisticregression__C=0.1, logisticregression__penalty=l2, logisticregression__solver=newton-cg\n"
     ]
    },
    {
     "name": "stderr",
     "output_type": "stream",
     "text": [
      "C:\\Python310\\lib\\site-packages\\scipy\\optimize\\_linesearch.py:456: LineSearchWarning: The line search algorithm did not converge\n",
      "  warn('The line search algorithm did not converge', LineSearchWarning)\n",
      "C:\\Python310\\lib\\site-packages\\scipy\\optimize\\_linesearch.py:305: LineSearchWarning: The line search algorithm did not converge\n",
      "  warn('The line search algorithm did not converge', LineSearchWarning)\n"
     ]
    },
    {
     "name": "stdout",
     "output_type": "stream",
     "text": [
      "No of FN: 9\n",
      "3062.9429931775812\n",
      "[CV 2/5; 55/96] END logisticregression__C=0.1, logisticregression__penalty=l2, logisticregression__solver=newton-cg;, score=-3062.943 total time=  22.8s\n",
      "[CV 3/5; 55/96] START logisticregression__C=0.1, logisticregression__penalty=l2, logisticregression__solver=newton-cg\n"
     ]
    },
    {
     "name": "stderr",
     "output_type": "stream",
     "text": [
      "C:\\Python310\\lib\\site-packages\\sklearn\\utils\\optimize.py:210: ConvergenceWarning: newton-cg failed to converge. Increase the number of iterations.\n",
      "  warnings.warn(\n",
      "C:\\Python310\\lib\\site-packages\\scipy\\optimize\\_linesearch.py:456: LineSearchWarning: The line search algorithm did not converge\n",
      "  warn('The line search algorithm did not converge', LineSearchWarning)\n",
      "C:\\Python310\\lib\\site-packages\\scipy\\optimize\\_linesearch.py:305: LineSearchWarning: The line search algorithm did not converge\n",
      "  warn('The line search algorithm did not converge', LineSearchWarning)\n",
      "C:\\Python310\\lib\\site-packages\\sklearn\\utils\\optimize.py:210: ConvergenceWarning: newton-cg failed to converge. Increase the number of iterations.\n",
      "  warnings.warn(\n"
     ]
    },
    {
     "name": "stdout",
     "output_type": "stream",
     "text": [
      "No of FN: 9\n",
      "3648.237663936143\n",
      "[CV 3/5; 55/96] END logisticregression__C=0.1, logisticregression__penalty=l2, logisticregression__solver=newton-cg;, score=-3648.238 total time=  22.2s\n",
      "[CV 4/5; 55/96] START logisticregression__C=0.1, logisticregression__penalty=l2, logisticregression__solver=newton-cg\n"
     ]
    },
    {
     "name": "stderr",
     "output_type": "stream",
     "text": [
      "C:\\Python310\\lib\\site-packages\\scipy\\optimize\\_linesearch.py:456: LineSearchWarning: The line search algorithm did not converge\n",
      "  warn('The line search algorithm did not converge', LineSearchWarning)\n",
      "C:\\Python310\\lib\\site-packages\\scipy\\optimize\\_linesearch.py:305: LineSearchWarning: The line search algorithm did not converge\n",
      "  warn('The line search algorithm did not converge', LineSearchWarning)\n",
      "C:\\Python310\\lib\\site-packages\\sklearn\\utils\\optimize.py:210: ConvergenceWarning: newton-cg failed to converge. Increase the number of iterations.\n",
      "  warnings.warn(\n"
     ]
    },
    {
     "name": "stdout",
     "output_type": "stream",
     "text": [
      "No of FN: 9\n",
      "2716.1220654316603\n",
      "[CV 4/5; 55/96] END logisticregression__C=0.1, logisticregression__penalty=l2, logisticregression__solver=newton-cg;, score=-2716.122 total time=  22.5s\n",
      "[CV 5/5; 55/96] START logisticregression__C=0.1, logisticregression__penalty=l2, logisticregression__solver=newton-cg\n"
     ]
    },
    {
     "name": "stderr",
     "output_type": "stream",
     "text": [
      "C:\\Python310\\lib\\site-packages\\scipy\\optimize\\_linesearch.py:456: LineSearchWarning: The line search algorithm did not converge\n",
      "  warn('The line search algorithm did not converge', LineSearchWarning)\n",
      "C:\\Python310\\lib\\site-packages\\scipy\\optimize\\_linesearch.py:305: LineSearchWarning: The line search algorithm did not converge\n",
      "  warn('The line search algorithm did not converge', LineSearchWarning)\n",
      "C:\\Python310\\lib\\site-packages\\sklearn\\utils\\optimize.py:210: ConvergenceWarning: newton-cg failed to converge. Increase the number of iterations.\n",
      "  warnings.warn(\n"
     ]
    },
    {
     "name": "stdout",
     "output_type": "stream",
     "text": [
      "No of FN: 6\n",
      "2829.44\n",
      "[CV 5/5; 55/96] END logisticregression__C=0.1, logisticregression__penalty=l2, logisticregression__solver=newton-cg;, score=-2829.440 total time=  25.4s\n",
      "[CV 1/5; 56/96] START logisticregression__C=0.1, logisticregression__penalty=l2, logisticregression__solver=lbfgs\n",
      "No of FN: 11\n",
      "6081.692867403903\n",
      "[CV 1/5; 56/96] END logisticregression__C=0.1, logisticregression__penalty=l2, logisticregression__solver=lbfgs;, score=-6081.693 total time=   2.1s\n",
      "[CV 2/5; 56/96] START logisticregression__C=0.1, logisticregression__penalty=l2, logisticregression__solver=lbfgs\n"
     ]
    },
    {
     "name": "stderr",
     "output_type": "stream",
     "text": [
      "C:\\Python310\\lib\\site-packages\\sklearn\\linear_model\\_logistic.py:444: ConvergenceWarning: lbfgs failed to converge (status=1):\n",
      "STOP: TOTAL NO. of ITERATIONS REACHED LIMIT.\n",
      "\n",
      "Increase the number of iterations (max_iter) or scale the data as shown in:\n",
      "    https://scikit-learn.org/stable/modules/preprocessing.html\n",
      "Please also refer to the documentation for alternative solver options:\n",
      "    https://scikit-learn.org/stable/modules/linear_model.html#logistic-regression\n",
      "  n_iter_i = _check_optimize_result(\n"
     ]
    },
    {
     "name": "stdout",
     "output_type": "stream",
     "text": [
      "No of FN: 9\n",
      "4797.942993177581\n",
      "[CV 2/5; 56/96] END logisticregression__C=0.1, logisticregression__penalty=l2, logisticregression__solver=lbfgs;, score=-4797.943 total time=   2.6s\n",
      "[CV 3/5; 56/96] START logisticregression__C=0.1, logisticregression__penalty=l2, logisticregression__solver=lbfgs\n",
      "No of FN: 10\n",
      "9145.88777682016\n",
      "[CV 3/5; 56/96] END logisticregression__C=0.1, logisticregression__penalty=l2, logisticregression__solver=lbfgs;, score=-9145.888 total time=   1.3s\n",
      "[CV 4/5; 56/96] START logisticregression__C=0.1, logisticregression__penalty=l2, logisticregression__solver=lbfgs\n",
      "No of FN: 7\n",
      "5348.34206543166\n",
      "[CV 4/5; 56/96] END logisticregression__C=0.1, logisticregression__penalty=l2, logisticregression__solver=lbfgs;, score=-5348.342 total time=   2.0s\n",
      "[CV 5/5; 56/96] START logisticregression__C=0.1, logisticregression__penalty=l2, logisticregression__solver=lbfgs\n"
     ]
    },
    {
     "name": "stderr",
     "output_type": "stream",
     "text": [
      "C:\\Python310\\lib\\site-packages\\sklearn\\linear_model\\_logistic.py:444: ConvergenceWarning: lbfgs failed to converge (status=1):\n",
      "STOP: TOTAL NO. of ITERATIONS REACHED LIMIT.\n",
      "\n",
      "Increase the number of iterations (max_iter) or scale the data as shown in:\n",
      "    https://scikit-learn.org/stable/modules/preprocessing.html\n",
      "Please also refer to the documentation for alternative solver options:\n",
      "    https://scikit-learn.org/stable/modules/linear_model.html#logistic-regression\n",
      "  n_iter_i = _check_optimize_result(\n"
     ]
    },
    {
     "name": "stdout",
     "output_type": "stream",
     "text": [
      "No of FN: 6\n",
      "4735.84\n",
      "[CV 5/5; 56/96] END logisticregression__C=0.1, logisticregression__penalty=l2, logisticregression__solver=lbfgs;, score=-4735.840 total time=   2.6s\n",
      "[CV 1/5; 57/96] START logisticregression__C=0.1, logisticregression__penalty=l2, logisticregression__solver=liblinear\n",
      "No of FN: 11\n",
      "4664.262532502451\n",
      "[CV 1/5; 57/96] END logisticregression__C=0.1, logisticregression__penalty=l2, logisticregression__solver=liblinear;, score=-4664.263 total time=   3.1s\n",
      "[CV 2/5; 57/96] START logisticregression__C=0.1, logisticregression__penalty=l2, logisticregression__solver=liblinear\n",
      "No of FN: 9\n",
      "4442.942993177581\n",
      "[CV 2/5; 57/96] END logisticregression__C=0.1, logisticregression__penalty=l2, logisticregression__solver=liblinear;, score=-4442.943 total time=   2.9s\n",
      "[CV 3/5; 57/96] START logisticregression__C=0.1, logisticregression__penalty=l2, logisticregression__solver=liblinear\n",
      "No of FN: 8\n",
      "5294.237663936143\n",
      "[CV 3/5; 57/96] END logisticregression__C=0.1, logisticregression__penalty=l2, logisticregression__solver=liblinear;, score=-5294.238 total time=   3.1s\n",
      "[CV 4/5; 57/96] START logisticregression__C=0.1, logisticregression__penalty=l2, logisticregression__solver=liblinear\n",
      "No of FN: 8\n",
      "4666.1720654316605\n",
      "[CV 4/5; 57/96] END logisticregression__C=0.1, logisticregression__penalty=l2, logisticregression__solver=liblinear;, score=-4666.172 total time=   2.8s\n",
      "[CV 5/5; 57/96] START logisticregression__C=0.1, logisticregression__penalty=l2, logisticregression__solver=liblinear\n",
      "No of FN: 9\n",
      "3608.4679646253935\n",
      "[CV 5/5; 57/96] END logisticregression__C=0.1, logisticregression__penalty=l2, logisticregression__solver=liblinear;, score=-3608.468 total time=   2.4s\n",
      "[CV 1/5; 58/96] START logisticregression__C=0.1, logisticregression__penalty=elasticnet, logisticregression__solver=newton-cg\n",
      "[CV 1/5; 58/96] END logisticregression__C=0.1, logisticregression__penalty=elasticnet, logisticregression__solver=newton-cg;, score=nan total time=   0.2s\n",
      "[CV 2/5; 58/96] START logisticregression__C=0.1, logisticregression__penalty=elasticnet, logisticregression__solver=newton-cg\n",
      "[CV 2/5; 58/96] END logisticregression__C=0.1, logisticregression__penalty=elasticnet, logisticregression__solver=newton-cg;, score=nan total time=   0.2s\n",
      "[CV 3/5; 58/96] START logisticregression__C=0.1, logisticregression__penalty=elasticnet, logisticregression__solver=newton-cg\n",
      "[CV 3/5; 58/96] END logisticregression__C=0.1, logisticregression__penalty=elasticnet, logisticregression__solver=newton-cg;, score=nan total time=   0.2s\n",
      "[CV 4/5; 58/96] START logisticregression__C=0.1, logisticregression__penalty=elasticnet, logisticregression__solver=newton-cg\n",
      "[CV 4/5; 58/96] END logisticregression__C=0.1, logisticregression__penalty=elasticnet, logisticregression__solver=newton-cg;, score=nan total time=   0.2s\n",
      "[CV 5/5; 58/96] START logisticregression__C=0.1, logisticregression__penalty=elasticnet, logisticregression__solver=newton-cg\n",
      "[CV 5/5; 58/96] END logisticregression__C=0.1, logisticregression__penalty=elasticnet, logisticregression__solver=newton-cg;, score=nan total time=   0.2s\n",
      "[CV 1/5; 59/96] START logisticregression__C=0.1, logisticregression__penalty=elasticnet, logisticregression__solver=lbfgs\n",
      "[CV 1/5; 59/96] END logisticregression__C=0.1, logisticregression__penalty=elasticnet, logisticregression__solver=lbfgs;, score=nan total time=   0.2s\n",
      "[CV 2/5; 59/96] START logisticregression__C=0.1, logisticregression__penalty=elasticnet, logisticregression__solver=lbfgs\n",
      "[CV 2/5; 59/96] END logisticregression__C=0.1, logisticregression__penalty=elasticnet, logisticregression__solver=lbfgs;, score=nan total time=   0.2s\n",
      "[CV 3/5; 59/96] START logisticregression__C=0.1, logisticregression__penalty=elasticnet, logisticregression__solver=lbfgs\n",
      "[CV 3/5; 59/96] END logisticregression__C=0.1, logisticregression__penalty=elasticnet, logisticregression__solver=lbfgs;, score=nan total time=   0.2s\n",
      "[CV 4/5; 59/96] START logisticregression__C=0.1, logisticregression__penalty=elasticnet, logisticregression__solver=lbfgs\n",
      "[CV 4/5; 59/96] END logisticregression__C=0.1, logisticregression__penalty=elasticnet, logisticregression__solver=lbfgs;, score=nan total time=   0.2s\n",
      "[CV 5/5; 59/96] START logisticregression__C=0.1, logisticregression__penalty=elasticnet, logisticregression__solver=lbfgs\n",
      "[CV 5/5; 59/96] END logisticregression__C=0.1, logisticregression__penalty=elasticnet, logisticregression__solver=lbfgs;, score=nan total time=   0.2s\n",
      "[CV 1/5; 60/96] START logisticregression__C=0.1, logisticregression__penalty=elasticnet, logisticregression__solver=liblinear\n",
      "[CV 1/5; 60/96] END logisticregression__C=0.1, logisticregression__penalty=elasticnet, logisticregression__solver=liblinear;, score=nan total time=   0.2s\n",
      "[CV 2/5; 60/96] START logisticregression__C=0.1, logisticregression__penalty=elasticnet, logisticregression__solver=liblinear\n",
      "[CV 2/5; 60/96] END logisticregression__C=0.1, logisticregression__penalty=elasticnet, logisticregression__solver=liblinear;, score=nan total time=   0.2s\n",
      "[CV 3/5; 60/96] START logisticregression__C=0.1, logisticregression__penalty=elasticnet, logisticregression__solver=liblinear\n",
      "[CV 3/5; 60/96] END logisticregression__C=0.1, logisticregression__penalty=elasticnet, logisticregression__solver=liblinear;, score=nan total time=   0.2s\n",
      "[CV 4/5; 60/96] START logisticregression__C=0.1, logisticregression__penalty=elasticnet, logisticregression__solver=liblinear\n",
      "[CV 4/5; 60/96] END logisticregression__C=0.1, logisticregression__penalty=elasticnet, logisticregression__solver=liblinear;, score=nan total time=   0.2s\n",
      "[CV 5/5; 60/96] START logisticregression__C=0.1, logisticregression__penalty=elasticnet, logisticregression__solver=liblinear\n",
      "[CV 5/5; 60/96] END logisticregression__C=0.1, logisticregression__penalty=elasticnet, logisticregression__solver=liblinear;, score=nan total time=   0.2s\n",
      "[CV 1/5; 61/96] START logisticregression__C=1, logisticregression__penalty=none, logisticregression__solver=newton-cg\n"
     ]
    },
    {
     "name": "stderr",
     "output_type": "stream",
     "text": [
      "C:\\Python310\\lib\\site-packages\\scipy\\optimize\\_linesearch.py:456: LineSearchWarning: The line search algorithm did not converge\n",
      "  warn('The line search algorithm did not converge', LineSearchWarning)\n",
      "C:\\Python310\\lib\\site-packages\\scipy\\optimize\\_linesearch.py:305: LineSearchWarning: The line search algorithm did not converge\n",
      "  warn('The line search algorithm did not converge', LineSearchWarning)\n",
      "C:\\Python310\\lib\\site-packages\\sklearn\\utils\\optimize.py:210: ConvergenceWarning: newton-cg failed to converge. Increase the number of iterations.\n",
      "  warnings.warn(\n"
     ]
    },
    {
     "name": "stdout",
     "output_type": "stream",
     "text": [
      "No of FN: 10\n",
      "2908.7008200038385\n",
      "[CV 1/5; 61/96] END logisticregression__C=1, logisticregression__penalty=none, logisticregression__solver=newton-cg;, score=-2908.701 total time=  23.1s\n",
      "[CV 2/5; 61/96] START logisticregression__C=1, logisticregression__penalty=none, logisticregression__solver=newton-cg\n"
     ]
    },
    {
     "name": "stderr",
     "output_type": "stream",
     "text": [
      "C:\\Python310\\lib\\site-packages\\scipy\\optimize\\_linesearch.py:456: LineSearchWarning: The line search algorithm did not converge\n",
      "  warn('The line search algorithm did not converge', LineSearchWarning)\n",
      "C:\\Python310\\lib\\site-packages\\scipy\\optimize\\_linesearch.py:305: LineSearchWarning: The line search algorithm did not converge\n",
      "  warn('The line search algorithm did not converge', LineSearchWarning)\n",
      "C:\\Python310\\lib\\site-packages\\sklearn\\utils\\optimize.py:210: ConvergenceWarning: newton-cg failed to converge. Increase the number of iterations.\n",
      "  warnings.warn(\n"
     ]
    },
    {
     "name": "stdout",
     "output_type": "stream",
     "text": [
      "No of FN: 9\n",
      "3047.9429931775812\n",
      "[CV 2/5; 61/96] END logisticregression__C=1, logisticregression__penalty=none, logisticregression__solver=newton-cg;, score=-3047.943 total time=  22.4s\n",
      "[CV 3/5; 61/96] START logisticregression__C=1, logisticregression__penalty=none, logisticregression__solver=newton-cg\n"
     ]
    },
    {
     "name": "stderr",
     "output_type": "stream",
     "text": [
      "C:\\Python310\\lib\\site-packages\\scipy\\optimize\\_linesearch.py:456: LineSearchWarning: The line search algorithm did not converge\n",
      "  warn('The line search algorithm did not converge', LineSearchWarning)\n",
      "C:\\Python310\\lib\\site-packages\\scipy\\optimize\\_linesearch.py:305: LineSearchWarning: The line search algorithm did not converge\n",
      "  warn('The line search algorithm did not converge', LineSearchWarning)\n",
      "C:\\Python310\\lib\\site-packages\\sklearn\\utils\\optimize.py:210: ConvergenceWarning: newton-cg failed to converge. Increase the number of iterations.\n",
      "  warnings.warn(\n"
     ]
    },
    {
     "name": "stdout",
     "output_type": "stream",
     "text": [
      "No of FN: 9\n",
      "3578.237663936143\n",
      "[CV 3/5; 61/96] END logisticregression__C=1, logisticregression__penalty=none, logisticregression__solver=newton-cg;, score=-3578.238 total time=  23.4s\n",
      "[CV 4/5; 61/96] START logisticregression__C=1, logisticregression__penalty=none, logisticregression__solver=newton-cg\n"
     ]
    },
    {
     "name": "stderr",
     "output_type": "stream",
     "text": [
      "C:\\Python310\\lib\\site-packages\\scipy\\optimize\\_linesearch.py:456: LineSearchWarning: The line search algorithm did not converge\n",
      "  warn('The line search algorithm did not converge', LineSearchWarning)\n",
      "C:\\Python310\\lib\\site-packages\\scipy\\optimize\\_linesearch.py:305: LineSearchWarning: The line search algorithm did not converge\n",
      "  warn('The line search algorithm did not converge', LineSearchWarning)\n",
      "C:\\Python310\\lib\\site-packages\\sklearn\\utils\\optimize.py:210: ConvergenceWarning: newton-cg failed to converge. Increase the number of iterations.\n",
      "  warnings.warn(\n"
     ]
    },
    {
     "name": "stdout",
     "output_type": "stream",
     "text": [
      "No of FN: 9\n",
      "2751.1220654316603\n",
      "[CV 4/5; 61/96] END logisticregression__C=1, logisticregression__penalty=none, logisticregression__solver=newton-cg;, score=-2751.122 total time=  22.8s\n",
      "[CV 5/5; 61/96] START logisticregression__C=1, logisticregression__penalty=none, logisticregression__solver=newton-cg\n"
     ]
    },
    {
     "name": "stderr",
     "output_type": "stream",
     "text": [
      "C:\\Python310\\lib\\site-packages\\scipy\\optimize\\_linesearch.py:456: LineSearchWarning: The line search algorithm did not converge\n",
      "  warn('The line search algorithm did not converge', LineSearchWarning)\n",
      "C:\\Python310\\lib\\site-packages\\scipy\\optimize\\_linesearch.py:305: LineSearchWarning: The line search algorithm did not converge\n",
      "  warn('The line search algorithm did not converge', LineSearchWarning)\n",
      "C:\\Python310\\lib\\site-packages\\sklearn\\utils\\optimize.py:210: ConvergenceWarning: newton-cg failed to converge. Increase the number of iterations.\n",
      "  warnings.warn(\n"
     ]
    },
    {
     "name": "stdout",
     "output_type": "stream",
     "text": [
      "No of FN: 6\n",
      "2829.44\n",
      "[CV 5/5; 61/96] END logisticregression__C=1, logisticregression__penalty=none, logisticregression__solver=newton-cg;, score=-2829.440 total time=  25.3s\n",
      "[CV 1/5; 62/96] START logisticregression__C=1, logisticregression__penalty=none, logisticregression__solver=lbfgs\n",
      "No of FN: 11\n",
      "6081.692867403903\n",
      "[CV 1/5; 62/96] END logisticregression__C=1, logisticregression__penalty=none, logisticregression__solver=lbfgs;, score=-6081.693 total time=   2.1s\n",
      "[CV 2/5; 62/96] START logisticregression__C=1, logisticregression__penalty=none, logisticregression__solver=lbfgs\n",
      "No of FN: 9\n",
      "5512.942993177581\n",
      "[CV 2/5; 62/96] END logisticregression__C=1, logisticregression__penalty=none, logisticregression__solver=lbfgs;, score=-5512.943 total time=   2.1s\n",
      "[CV 3/5; 62/96] START logisticregression__C=1, logisticregression__penalty=none, logisticregression__solver=lbfgs\n",
      "No of FN: 10\n",
      "9145.88777682016\n",
      "[CV 3/5; 62/96] END logisticregression__C=1, logisticregression__penalty=none, logisticregression__solver=lbfgs;, score=-9145.888 total time=   1.3s\n",
      "[CV 4/5; 62/96] START logisticregression__C=1, logisticregression__penalty=none, logisticregression__solver=lbfgs\n"
     ]
    },
    {
     "name": "stderr",
     "output_type": "stream",
     "text": [
      "C:\\Python310\\lib\\site-packages\\sklearn\\linear_model\\_logistic.py:444: ConvergenceWarning: lbfgs failed to converge (status=1):\n",
      "STOP: TOTAL NO. of ITERATIONS REACHED LIMIT.\n",
      "\n",
      "Increase the number of iterations (max_iter) or scale the data as shown in:\n",
      "    https://scikit-learn.org/stable/modules/preprocessing.html\n",
      "Please also refer to the documentation for alternative solver options:\n",
      "    https://scikit-learn.org/stable/modules/linear_model.html#logistic-regression\n",
      "  n_iter_i = _check_optimize_result(\n"
     ]
    },
    {
     "name": "stdout",
     "output_type": "stream",
     "text": [
      "No of FN: 7\n",
      "5308.34206543166\n",
      "[CV 4/5; 62/96] END logisticregression__C=1, logisticregression__penalty=none, logisticregression__solver=lbfgs;, score=-5308.342 total time=   2.6s\n",
      "[CV 5/5; 62/96] START logisticregression__C=1, logisticregression__penalty=none, logisticregression__solver=lbfgs\n",
      "No of FN: 6\n",
      "5945.84\n",
      "[CV 5/5; 62/96] END logisticregression__C=1, logisticregression__penalty=none, logisticregression__solver=lbfgs;, score=-5945.840 total time=   1.9s\n",
      "[CV 1/5; 63/96] START logisticregression__C=1, logisticregression__penalty=none, logisticregression__solver=liblinear\n",
      "[CV 1/5; 63/96] END logisticregression__C=1, logisticregression__penalty=none, logisticregression__solver=liblinear;, score=nan total time=   0.2s\n",
      "[CV 2/5; 63/96] START logisticregression__C=1, logisticregression__penalty=none, logisticregression__solver=liblinear\n",
      "[CV 2/5; 63/96] END logisticregression__C=1, logisticregression__penalty=none, logisticregression__solver=liblinear;, score=nan total time=   0.2s\n",
      "[CV 3/5; 63/96] START logisticregression__C=1, logisticregression__penalty=none, logisticregression__solver=liblinear\n",
      "[CV 3/5; 63/96] END logisticregression__C=1, logisticregression__penalty=none, logisticregression__solver=liblinear;, score=nan total time=   0.2s\n",
      "[CV 4/5; 63/96] START logisticregression__C=1, logisticregression__penalty=none, logisticregression__solver=liblinear\n",
      "[CV 4/5; 63/96] END logisticregression__C=1, logisticregression__penalty=none, logisticregression__solver=liblinear;, score=nan total time=   0.2s\n",
      "[CV 5/5; 63/96] START logisticregression__C=1, logisticregression__penalty=none, logisticregression__solver=liblinear\n",
      "[CV 5/5; 63/96] END logisticregression__C=1, logisticregression__penalty=none, logisticregression__solver=liblinear;, score=nan total time=   0.2s\n",
      "[CV 1/5; 64/96] START logisticregression__C=1, logisticregression__penalty=l1, logisticregression__solver=newton-cg\n",
      "[CV 1/5; 64/96] END logisticregression__C=1, logisticregression__penalty=l1, logisticregression__solver=newton-cg;, score=nan total time=   0.2s\n",
      "[CV 2/5; 64/96] START logisticregression__C=1, logisticregression__penalty=l1, logisticregression__solver=newton-cg\n",
      "[CV 2/5; 64/96] END logisticregression__C=1, logisticregression__penalty=l1, logisticregression__solver=newton-cg;, score=nan total time=   0.2s\n",
      "[CV 3/5; 64/96] START logisticregression__C=1, logisticregression__penalty=l1, logisticregression__solver=newton-cg\n",
      "[CV 3/5; 64/96] END logisticregression__C=1, logisticregression__penalty=l1, logisticregression__solver=newton-cg;, score=nan total time=   0.2s\n",
      "[CV 4/5; 64/96] START logisticregression__C=1, logisticregression__penalty=l1, logisticregression__solver=newton-cg\n",
      "[CV 4/5; 64/96] END logisticregression__C=1, logisticregression__penalty=l1, logisticregression__solver=newton-cg;, score=nan total time=   0.2s\n",
      "[CV 5/5; 64/96] START logisticregression__C=1, logisticregression__penalty=l1, logisticregression__solver=newton-cg\n",
      "[CV 5/5; 64/96] END logisticregression__C=1, logisticregression__penalty=l1, logisticregression__solver=newton-cg;, score=nan total time=   0.2s\n",
      "[CV 1/5; 65/96] START logisticregression__C=1, logisticregression__penalty=l1, logisticregression__solver=lbfgs\n",
      "[CV 1/5; 65/96] END logisticregression__C=1, logisticregression__penalty=l1, logisticregression__solver=lbfgs;, score=nan total time=   0.2s\n",
      "[CV 2/5; 65/96] START logisticregression__C=1, logisticregression__penalty=l1, logisticregression__solver=lbfgs\n",
      "[CV 2/5; 65/96] END logisticregression__C=1, logisticregression__penalty=l1, logisticregression__solver=lbfgs;, score=nan total time=   0.2s\n",
      "[CV 3/5; 65/96] START logisticregression__C=1, logisticregression__penalty=l1, logisticregression__solver=lbfgs\n",
      "[CV 3/5; 65/96] END logisticregression__C=1, logisticregression__penalty=l1, logisticregression__solver=lbfgs;, score=nan total time=   0.3s\n",
      "[CV 4/5; 65/96] START logisticregression__C=1, logisticregression__penalty=l1, logisticregression__solver=lbfgs\n",
      "[CV 4/5; 65/96] END logisticregression__C=1, logisticregression__penalty=l1, logisticregression__solver=lbfgs;, score=nan total time=   0.3s\n",
      "[CV 5/5; 65/96] START logisticregression__C=1, logisticregression__penalty=l1, logisticregression__solver=lbfgs\n",
      "[CV 5/5; 65/96] END logisticregression__C=1, logisticregression__penalty=l1, logisticregression__solver=lbfgs;, score=nan total time=   0.4s\n",
      "[CV 1/5; 66/96] START logisticregression__C=1, logisticregression__penalty=l1, logisticregression__solver=liblinear\n",
      "No of FN: 10\n",
      "2908.7008200038385\n",
      "[CV 1/5; 66/96] END logisticregression__C=1, logisticregression__penalty=l1, logisticregression__solver=liblinear;, score=-2908.701 total time=  13.2s\n",
      "[CV 2/5; 66/96] START logisticregression__C=1, logisticregression__penalty=l1, logisticregression__solver=liblinear\n",
      "No of FN: 9\n",
      "3042.9429931775812\n",
      "[CV 2/5; 66/96] END logisticregression__C=1, logisticregression__penalty=l1, logisticregression__solver=liblinear;, score=-3042.943 total time=   7.9s\n",
      "[CV 3/5; 66/96] START logisticregression__C=1, logisticregression__penalty=l1, logisticregression__solver=liblinear\n",
      "No of FN: 9\n",
      "3673.237663936143\n",
      "[CV 3/5; 66/96] END logisticregression__C=1, logisticregression__penalty=l1, logisticregression__solver=liblinear;, score=-3673.238 total time=   4.4s\n",
      "[CV 4/5; 66/96] START logisticregression__C=1, logisticregression__penalty=l1, logisticregression__solver=liblinear\n",
      "No of FN: 9\n",
      "2736.1220654316603\n",
      "[CV 4/5; 66/96] END logisticregression__C=1, logisticregression__penalty=l1, logisticregression__solver=liblinear;, score=-2736.122 total time=   4.1s\n",
      "[CV 5/5; 66/96] START logisticregression__C=1, logisticregression__penalty=l1, logisticregression__solver=liblinear\n",
      "No of FN: 6\n",
      "2899.44\n",
      "[CV 5/5; 66/96] END logisticregression__C=1, logisticregression__penalty=l1, logisticregression__solver=liblinear;, score=-2899.440 total time=   2.3s\n",
      "[CV 1/5; 67/96] START logisticregression__C=1, logisticregression__penalty=l2, logisticregression__solver=newton-cg\n"
     ]
    },
    {
     "name": "stderr",
     "output_type": "stream",
     "text": [
      "C:\\Python310\\lib\\site-packages\\scipy\\optimize\\_linesearch.py:456: LineSearchWarning: The line search algorithm did not converge\n",
      "  warn('The line search algorithm did not converge', LineSearchWarning)\n",
      "C:\\Python310\\lib\\site-packages\\scipy\\optimize\\_linesearch.py:305: LineSearchWarning: The line search algorithm did not converge\n",
      "  warn('The line search algorithm did not converge', LineSearchWarning)\n",
      "C:\\Python310\\lib\\site-packages\\sklearn\\utils\\optimize.py:210: ConvergenceWarning: newton-cg failed to converge. Increase the number of iterations.\n",
      "  warnings.warn(\n"
     ]
    },
    {
     "name": "stdout",
     "output_type": "stream",
     "text": [
      "No of FN: 10\n",
      "2903.7008200038385\n",
      "[CV 1/5; 67/96] END logisticregression__C=1, logisticregression__penalty=l2, logisticregression__solver=newton-cg;, score=-2903.701 total time=  21.6s\n",
      "[CV 2/5; 67/96] START logisticregression__C=1, logisticregression__penalty=l2, logisticregression__solver=newton-cg\n"
     ]
    },
    {
     "name": "stderr",
     "output_type": "stream",
     "text": [
      "C:\\Python310\\lib\\site-packages\\sklearn\\utils\\optimize.py:210: ConvergenceWarning: newton-cg failed to converge. Increase the number of iterations.\n",
      "  warnings.warn(\n"
     ]
    },
    {
     "name": "stdout",
     "output_type": "stream",
     "text": [
      "No of FN: 10\n",
      "3025.2929931775816\n",
      "[CV 2/5; 67/96] END logisticregression__C=1, logisticregression__penalty=l2, logisticregression__solver=newton-cg;, score=-3025.293 total time=  23.1s\n",
      "[CV 3/5; 67/96] START logisticregression__C=1, logisticregression__penalty=l2, logisticregression__solver=newton-cg\n"
     ]
    },
    {
     "name": "stderr",
     "output_type": "stream",
     "text": [
      "C:\\Python310\\lib\\site-packages\\scipy\\optimize\\_linesearch.py:456: LineSearchWarning: The line search algorithm did not converge\n",
      "  warn('The line search algorithm did not converge', LineSearchWarning)\n",
      "C:\\Python310\\lib\\site-packages\\scipy\\optimize\\_linesearch.py:305: LineSearchWarning: The line search algorithm did not converge\n",
      "  warn('The line search algorithm did not converge', LineSearchWarning)\n",
      "C:\\Python310\\lib\\site-packages\\sklearn\\utils\\optimize.py:210: ConvergenceWarning: newton-cg failed to converge. Increase the number of iterations.\n",
      "  warnings.warn(\n"
     ]
    },
    {
     "name": "stdout",
     "output_type": "stream",
     "text": [
      "No of FN: 9\n",
      "3603.237663936143\n",
      "[CV 3/5; 67/96] END logisticregression__C=1, logisticregression__penalty=l2, logisticregression__solver=newton-cg;, score=-3603.238 total time=  24.4s\n",
      "[CV 4/5; 67/96] START logisticregression__C=1, logisticregression__penalty=l2, logisticregression__solver=newton-cg\n"
     ]
    },
    {
     "name": "stderr",
     "output_type": "stream",
     "text": [
      "C:\\Python310\\lib\\site-packages\\scipy\\optimize\\_linesearch.py:456: LineSearchWarning: The line search algorithm did not converge\n",
      "  warn('The line search algorithm did not converge', LineSearchWarning)\n",
      "C:\\Python310\\lib\\site-packages\\scipy\\optimize\\_linesearch.py:305: LineSearchWarning: The line search algorithm did not converge\n",
      "  warn('The line search algorithm did not converge', LineSearchWarning)\n",
      "C:\\Python310\\lib\\site-packages\\sklearn\\utils\\optimize.py:210: ConvergenceWarning: newton-cg failed to converge. Increase the number of iterations.\n",
      "  warnings.warn(\n"
     ]
    },
    {
     "name": "stdout",
     "output_type": "stream",
     "text": [
      "No of FN: 9\n",
      "2751.1220654316603\n",
      "[CV 4/5; 67/96] END logisticregression__C=1, logisticregression__penalty=l2, logisticregression__solver=newton-cg;, score=-2751.122 total time=  23.0s\n",
      "[CV 5/5; 67/96] START logisticregression__C=1, logisticregression__penalty=l2, logisticregression__solver=newton-cg\n"
     ]
    },
    {
     "name": "stderr",
     "output_type": "stream",
     "text": [
      "C:\\Python310\\lib\\site-packages\\scipy\\optimize\\_linesearch.py:456: LineSearchWarning: The line search algorithm did not converge\n",
      "  warn('The line search algorithm did not converge', LineSearchWarning)\n",
      "C:\\Python310\\lib\\site-packages\\scipy\\optimize\\_linesearch.py:305: LineSearchWarning: The line search algorithm did not converge\n",
      "  warn('The line search algorithm did not converge', LineSearchWarning)\n",
      "C:\\Python310\\lib\\site-packages\\sklearn\\utils\\optimize.py:210: ConvergenceWarning: newton-cg failed to converge. Increase the number of iterations.\n",
      "  warnings.warn(\n"
     ]
    },
    {
     "name": "stdout",
     "output_type": "stream",
     "text": [
      "No of FN: 6\n",
      "2844.44\n",
      "[CV 5/5; 67/96] END logisticregression__C=1, logisticregression__penalty=l2, logisticregression__solver=newton-cg;, score=-2844.440 total time=  23.5s\n",
      "[CV 1/5; 68/96] START logisticregression__C=1, logisticregression__penalty=l2, logisticregression__solver=lbfgs\n"
     ]
    },
    {
     "name": "stderr",
     "output_type": "stream",
     "text": [
      "C:\\Python310\\lib\\site-packages\\sklearn\\linear_model\\_logistic.py:444: ConvergenceWarning: lbfgs failed to converge (status=1):\n",
      "STOP: TOTAL NO. of ITERATIONS REACHED LIMIT.\n",
      "\n",
      "Increase the number of iterations (max_iter) or scale the data as shown in:\n",
      "    https://scikit-learn.org/stable/modules/preprocessing.html\n",
      "Please also refer to the documentation for alternative solver options:\n",
      "    https://scikit-learn.org/stable/modules/linear_model.html#logistic-regression\n",
      "  n_iter_i = _check_optimize_result(\n"
     ]
    },
    {
     "name": "stdout",
     "output_type": "stream",
     "text": [
      "No of FN: 9\n",
      "4897.937218514361\n",
      "[CV 1/5; 68/96] END logisticregression__C=1, logisticregression__penalty=l2, logisticregression__solver=lbfgs;, score=-4897.937 total time=   2.6s\n",
      "[CV 2/5; 68/96] START logisticregression__C=1, logisticregression__penalty=l2, logisticregression__solver=lbfgs\n"
     ]
    },
    {
     "name": "stderr",
     "output_type": "stream",
     "text": [
      "C:\\Python310\\lib\\site-packages\\sklearn\\linear_model\\_logistic.py:444: ConvergenceWarning: lbfgs failed to converge (status=1):\n",
      "STOP: TOTAL NO. of ITERATIONS REACHED LIMIT.\n",
      "\n",
      "Increase the number of iterations (max_iter) or scale the data as shown in:\n",
      "    https://scikit-learn.org/stable/modules/preprocessing.html\n",
      "Please also refer to the documentation for alternative solver options:\n",
      "    https://scikit-learn.org/stable/modules/linear_model.html#logistic-regression\n",
      "  n_iter_i = _check_optimize_result(\n"
     ]
    },
    {
     "name": "stdout",
     "output_type": "stream",
     "text": [
      "No of FN: 9\n",
      "5587.942993177581\n",
      "[CV 2/5; 68/96] END logisticregression__C=1, logisticregression__penalty=l2, logisticregression__solver=lbfgs;, score=-5587.943 total time=   2.5s\n",
      "[CV 3/5; 68/96] START logisticregression__C=1, logisticregression__penalty=l2, logisticregression__solver=lbfgs\n",
      "No of FN: 10\n",
      "9145.88777682016\n",
      "[CV 3/5; 68/96] END logisticregression__C=1, logisticregression__penalty=l2, logisticregression__solver=lbfgs;, score=-9145.888 total time=   1.3s\n",
      "[CV 4/5; 68/96] START logisticregression__C=1, logisticregression__penalty=l2, logisticregression__solver=lbfgs\n"
     ]
    },
    {
     "name": "stderr",
     "output_type": "stream",
     "text": [
      "C:\\Python310\\lib\\site-packages\\sklearn\\linear_model\\_logistic.py:444: ConvergenceWarning: lbfgs failed to converge (status=1):\n",
      "STOP: TOTAL NO. of ITERATIONS REACHED LIMIT.\n",
      "\n",
      "Increase the number of iterations (max_iter) or scale the data as shown in:\n",
      "    https://scikit-learn.org/stable/modules/preprocessing.html\n",
      "Please also refer to the documentation for alternative solver options:\n",
      "    https://scikit-learn.org/stable/modules/linear_model.html#logistic-regression\n",
      "  n_iter_i = _check_optimize_result(\n"
     ]
    },
    {
     "name": "stdout",
     "output_type": "stream",
     "text": [
      "No of FN: 8\n",
      "4566.1720654316605\n",
      "[CV 4/5; 68/96] END logisticregression__C=1, logisticregression__penalty=l2, logisticregression__solver=lbfgs;, score=-4566.172 total time=   2.7s\n",
      "[CV 5/5; 68/96] START logisticregression__C=1, logisticregression__penalty=l2, logisticregression__solver=lbfgs\n",
      "No of FN: 6\n",
      "5945.84\n",
      "[CV 5/5; 68/96] END logisticregression__C=1, logisticregression__penalty=l2, logisticregression__solver=lbfgs;, score=-5945.840 total time=   1.9s\n",
      "[CV 1/5; 69/96] START logisticregression__C=1, logisticregression__penalty=l2, logisticregression__solver=liblinear\n",
      "No of FN: 11\n",
      "4664.262532502451\n",
      "[CV 1/5; 69/96] END logisticregression__C=1, logisticregression__penalty=l2, logisticregression__solver=liblinear;, score=-4664.263 total time=   3.2s\n",
      "[CV 2/5; 69/96] START logisticregression__C=1, logisticregression__penalty=l2, logisticregression__solver=liblinear\n",
      "No of FN: 9\n",
      "4452.942993177581\n",
      "[CV 2/5; 69/96] END logisticregression__C=1, logisticregression__penalty=l2, logisticregression__solver=liblinear;, score=-4452.943 total time=   2.9s\n",
      "[CV 3/5; 69/96] START logisticregression__C=1, logisticregression__penalty=l2, logisticregression__solver=liblinear\n",
      "No of FN: 8\n",
      "5299.237663936143\n",
      "[CV 3/5; 69/96] END logisticregression__C=1, logisticregression__penalty=l2, logisticregression__solver=liblinear;, score=-5299.238 total time=   3.1s\n",
      "[CV 4/5; 69/96] START logisticregression__C=1, logisticregression__penalty=l2, logisticregression__solver=liblinear\n",
      "No of FN: 8\n",
      "4666.1720654316605\n",
      "[CV 4/5; 69/96] END logisticregression__C=1, logisticregression__penalty=l2, logisticregression__solver=liblinear;, score=-4666.172 total time=   2.9s\n",
      "[CV 5/5; 69/96] START logisticregression__C=1, logisticregression__penalty=l2, logisticregression__solver=liblinear\n",
      "No of FN: 9\n",
      "3608.4679646253935\n",
      "[CV 5/5; 69/96] END logisticregression__C=1, logisticregression__penalty=l2, logisticregression__solver=liblinear;, score=-3608.468 total time=   2.5s\n",
      "[CV 1/5; 70/96] START logisticregression__C=1, logisticregression__penalty=elasticnet, logisticregression__solver=newton-cg\n",
      "[CV 1/5; 70/96] END logisticregression__C=1, logisticregression__penalty=elasticnet, logisticregression__solver=newton-cg;, score=nan total time=   0.2s\n",
      "[CV 2/5; 70/96] START logisticregression__C=1, logisticregression__penalty=elasticnet, logisticregression__solver=newton-cg\n",
      "[CV 2/5; 70/96] END logisticregression__C=1, logisticregression__penalty=elasticnet, logisticregression__solver=newton-cg;, score=nan total time=   0.2s\n",
      "[CV 3/5; 70/96] START logisticregression__C=1, logisticregression__penalty=elasticnet, logisticregression__solver=newton-cg\n",
      "[CV 3/5; 70/96] END logisticregression__C=1, logisticregression__penalty=elasticnet, logisticregression__solver=newton-cg;, score=nan total time=   0.2s\n",
      "[CV 4/5; 70/96] START logisticregression__C=1, logisticregression__penalty=elasticnet, logisticregression__solver=newton-cg\n",
      "[CV 4/5; 70/96] END logisticregression__C=1, logisticregression__penalty=elasticnet, logisticregression__solver=newton-cg;, score=nan total time=   0.2s\n",
      "[CV 5/5; 70/96] START logisticregression__C=1, logisticregression__penalty=elasticnet, logisticregression__solver=newton-cg\n",
      "[CV 5/5; 70/96] END logisticregression__C=1, logisticregression__penalty=elasticnet, logisticregression__solver=newton-cg;, score=nan total time=   0.2s\n",
      "[CV 1/5; 71/96] START logisticregression__C=1, logisticregression__penalty=elasticnet, logisticregression__solver=lbfgs\n",
      "[CV 1/5; 71/96] END logisticregression__C=1, logisticregression__penalty=elasticnet, logisticregression__solver=lbfgs;, score=nan total time=   0.2s\n",
      "[CV 2/5; 71/96] START logisticregression__C=1, logisticregression__penalty=elasticnet, logisticregression__solver=lbfgs\n",
      "[CV 2/5; 71/96] END logisticregression__C=1, logisticregression__penalty=elasticnet, logisticregression__solver=lbfgs;, score=nan total time=   0.2s\n",
      "[CV 3/5; 71/96] START logisticregression__C=1, logisticregression__penalty=elasticnet, logisticregression__solver=lbfgs\n",
      "[CV 3/5; 71/96] END logisticregression__C=1, logisticregression__penalty=elasticnet, logisticregression__solver=lbfgs;, score=nan total time=   0.2s\n",
      "[CV 4/5; 71/96] START logisticregression__C=1, logisticregression__penalty=elasticnet, logisticregression__solver=lbfgs\n",
      "[CV 4/5; 71/96] END logisticregression__C=1, logisticregression__penalty=elasticnet, logisticregression__solver=lbfgs;, score=nan total time=   0.2s\n",
      "[CV 5/5; 71/96] START logisticregression__C=1, logisticregression__penalty=elasticnet, logisticregression__solver=lbfgs\n",
      "[CV 5/5; 71/96] END logisticregression__C=1, logisticregression__penalty=elasticnet, logisticregression__solver=lbfgs;, score=nan total time=   0.2s\n",
      "[CV 1/5; 72/96] START logisticregression__C=1, logisticregression__penalty=elasticnet, logisticregression__solver=liblinear\n",
      "[CV 1/5; 72/96] END logisticregression__C=1, logisticregression__penalty=elasticnet, logisticregression__solver=liblinear;, score=nan total time=   0.2s\n",
      "[CV 2/5; 72/96] START logisticregression__C=1, logisticregression__penalty=elasticnet, logisticregression__solver=liblinear\n",
      "[CV 2/5; 72/96] END logisticregression__C=1, logisticregression__penalty=elasticnet, logisticregression__solver=liblinear;, score=nan total time=   0.2s\n",
      "[CV 3/5; 72/96] START logisticregression__C=1, logisticregression__penalty=elasticnet, logisticregression__solver=liblinear\n",
      "[CV 3/5; 72/96] END logisticregression__C=1, logisticregression__penalty=elasticnet, logisticregression__solver=liblinear;, score=nan total time=   0.2s\n",
      "[CV 4/5; 72/96] START logisticregression__C=1, logisticregression__penalty=elasticnet, logisticregression__solver=liblinear\n",
      "[CV 4/5; 72/96] END logisticregression__C=1, logisticregression__penalty=elasticnet, logisticregression__solver=liblinear;, score=nan total time=   0.2s\n",
      "[CV 5/5; 72/96] START logisticregression__C=1, logisticregression__penalty=elasticnet, logisticregression__solver=liblinear\n",
      "[CV 5/5; 72/96] END logisticregression__C=1, logisticregression__penalty=elasticnet, logisticregression__solver=liblinear;, score=nan total time=   0.2s\n",
      "[CV 1/5; 73/96] START logisticregression__C=10, logisticregression__penalty=none, logisticregression__solver=newton-cg\n"
     ]
    },
    {
     "name": "stderr",
     "output_type": "stream",
     "text": [
      "C:\\Python310\\lib\\site-packages\\sklearn\\linear_model\\_logistic.py:1113: UserWarning: Setting penalty='none' will ignore the C and l1_ratio parameters\n",
      "  warnings.warn(\n",
      "C:\\Python310\\lib\\site-packages\\scipy\\optimize\\_linesearch.py:456: LineSearchWarning: The line search algorithm did not converge\n",
      "  warn('The line search algorithm did not converge', LineSearchWarning)\n",
      "C:\\Python310\\lib\\site-packages\\scipy\\optimize\\_linesearch.py:305: LineSearchWarning: The line search algorithm did not converge\n",
      "  warn('The line search algorithm did not converge', LineSearchWarning)\n",
      "C:\\Python310\\lib\\site-packages\\sklearn\\utils\\optimize.py:210: ConvergenceWarning: newton-cg failed to converge. Increase the number of iterations.\n",
      "  warnings.warn(\n"
     ]
    },
    {
     "name": "stdout",
     "output_type": "stream",
     "text": [
      "No of FN: 10\n",
      "2908.7008200038385\n",
      "[CV 1/5; 73/96] END logisticregression__C=10, logisticregression__penalty=none, logisticregression__solver=newton-cg;, score=-2908.701 total time=  23.7s\n",
      "[CV 2/5; 73/96] START logisticregression__C=10, logisticregression__penalty=none, logisticregression__solver=newton-cg\n"
     ]
    },
    {
     "name": "stderr",
     "output_type": "stream",
     "text": [
      "C:\\Python310\\lib\\site-packages\\sklearn\\linear_model\\_logistic.py:1113: UserWarning: Setting penalty='none' will ignore the C and l1_ratio parameters\n",
      "  warnings.warn(\n",
      "C:\\Python310\\lib\\site-packages\\scipy\\optimize\\_linesearch.py:456: LineSearchWarning: The line search algorithm did not converge\n",
      "  warn('The line search algorithm did not converge', LineSearchWarning)\n",
      "C:\\Python310\\lib\\site-packages\\scipy\\optimize\\_linesearch.py:305: LineSearchWarning: The line search algorithm did not converge\n",
      "  warn('The line search algorithm did not converge', LineSearchWarning)\n",
      "C:\\Python310\\lib\\site-packages\\sklearn\\utils\\optimize.py:210: ConvergenceWarning: newton-cg failed to converge. Increase the number of iterations.\n",
      "  warnings.warn(\n"
     ]
    },
    {
     "name": "stdout",
     "output_type": "stream",
     "text": [
      "No of FN: 9\n",
      "3047.9429931775812\n",
      "[CV 2/5; 73/96] END logisticregression__C=10, logisticregression__penalty=none, logisticregression__solver=newton-cg;, score=-3047.943 total time=  22.1s\n",
      "[CV 3/5; 73/96] START logisticregression__C=10, logisticregression__penalty=none, logisticregression__solver=newton-cg\n"
     ]
    },
    {
     "name": "stderr",
     "output_type": "stream",
     "text": [
      "C:\\Python310\\lib\\site-packages\\sklearn\\linear_model\\_logistic.py:1113: UserWarning: Setting penalty='none' will ignore the C and l1_ratio parameters\n",
      "  warnings.warn(\n",
      "C:\\Python310\\lib\\site-packages\\scipy\\optimize\\_linesearch.py:456: LineSearchWarning: The line search algorithm did not converge\n",
      "  warn('The line search algorithm did not converge', LineSearchWarning)\n",
      "C:\\Python310\\lib\\site-packages\\scipy\\optimize\\_linesearch.py:305: LineSearchWarning: The line search algorithm did not converge\n",
      "  warn('The line search algorithm did not converge', LineSearchWarning)\n",
      "C:\\Python310\\lib\\site-packages\\sklearn\\utils\\optimize.py:210: ConvergenceWarning: newton-cg failed to converge. Increase the number of iterations.\n",
      "  warnings.warn(\n"
     ]
    },
    {
     "name": "stdout",
     "output_type": "stream",
     "text": [
      "No of FN: 9\n",
      "3578.237663936143\n",
      "[CV 3/5; 73/96] END logisticregression__C=10, logisticregression__penalty=none, logisticregression__solver=newton-cg;, score=-3578.238 total time=  24.1s\n",
      "[CV 4/5; 73/96] START logisticregression__C=10, logisticregression__penalty=none, logisticregression__solver=newton-cg\n"
     ]
    },
    {
     "name": "stderr",
     "output_type": "stream",
     "text": [
      "C:\\Python310\\lib\\site-packages\\sklearn\\linear_model\\_logistic.py:1113: UserWarning: Setting penalty='none' will ignore the C and l1_ratio parameters\n",
      "  warnings.warn(\n",
      "C:\\Python310\\lib\\site-packages\\scipy\\optimize\\_linesearch.py:456: LineSearchWarning: The line search algorithm did not converge\n",
      "  warn('The line search algorithm did not converge', LineSearchWarning)\n",
      "C:\\Python310\\lib\\site-packages\\scipy\\optimize\\_linesearch.py:305: LineSearchWarning: The line search algorithm did not converge\n",
      "  warn('The line search algorithm did not converge', LineSearchWarning)\n",
      "C:\\Python310\\lib\\site-packages\\sklearn\\utils\\optimize.py:210: ConvergenceWarning: newton-cg failed to converge. Increase the number of iterations.\n",
      "  warnings.warn(\n"
     ]
    },
    {
     "name": "stdout",
     "output_type": "stream",
     "text": [
      "No of FN: 9\n",
      "2751.1220654316603\n",
      "[CV 4/5; 73/96] END logisticregression__C=10, logisticregression__penalty=none, logisticregression__solver=newton-cg;, score=-2751.122 total time=  22.7s\n",
      "[CV 5/5; 73/96] START logisticregression__C=10, logisticregression__penalty=none, logisticregression__solver=newton-cg\n"
     ]
    },
    {
     "name": "stderr",
     "output_type": "stream",
     "text": [
      "C:\\Python310\\lib\\site-packages\\sklearn\\linear_model\\_logistic.py:1113: UserWarning: Setting penalty='none' will ignore the C and l1_ratio parameters\n",
      "  warnings.warn(\n",
      "C:\\Python310\\lib\\site-packages\\scipy\\optimize\\_linesearch.py:456: LineSearchWarning: The line search algorithm did not converge\n",
      "  warn('The line search algorithm did not converge', LineSearchWarning)\n",
      "C:\\Python310\\lib\\site-packages\\scipy\\optimize\\_linesearch.py:305: LineSearchWarning: The line search algorithm did not converge\n",
      "  warn('The line search algorithm did not converge', LineSearchWarning)\n",
      "C:\\Python310\\lib\\site-packages\\sklearn\\utils\\optimize.py:210: ConvergenceWarning: newton-cg failed to converge. Increase the number of iterations.\n",
      "  warnings.warn(\n"
     ]
    },
    {
     "name": "stdout",
     "output_type": "stream",
     "text": [
      "No of FN: 6\n",
      "2829.44\n",
      "[CV 5/5; 73/96] END logisticregression__C=10, logisticregression__penalty=none, logisticregression__solver=newton-cg;, score=-2829.440 total time=  24.8s\n",
      "[CV 1/5; 74/96] START logisticregression__C=10, logisticregression__penalty=none, logisticregression__solver=lbfgs\n"
     ]
    },
    {
     "name": "stderr",
     "output_type": "stream",
     "text": [
      "C:\\Python310\\lib\\site-packages\\sklearn\\linear_model\\_logistic.py:1113: UserWarning: Setting penalty='none' will ignore the C and l1_ratio parameters\n",
      "  warnings.warn(\n"
     ]
    },
    {
     "name": "stdout",
     "output_type": "stream",
     "text": [
      "No of FN: 11\n",
      "6081.692867403903\n",
      "[CV 1/5; 74/96] END logisticregression__C=10, logisticregression__penalty=none, logisticregression__solver=lbfgs;, score=-6081.693 total time=   2.3s\n",
      "[CV 2/5; 74/96] START logisticregression__C=10, logisticregression__penalty=none, logisticregression__solver=lbfgs\n"
     ]
    },
    {
     "name": "stderr",
     "output_type": "stream",
     "text": [
      "C:\\Python310\\lib\\site-packages\\sklearn\\linear_model\\_logistic.py:1113: UserWarning: Setting penalty='none' will ignore the C and l1_ratio parameters\n",
      "  warnings.warn(\n"
     ]
    },
    {
     "name": "stdout",
     "output_type": "stream",
     "text": [
      "No of FN: 9\n",
      "5512.942993177581\n",
      "[CV 2/5; 74/96] END logisticregression__C=10, logisticregression__penalty=none, logisticregression__solver=lbfgs;, score=-5512.943 total time=   2.2s\n",
      "[CV 3/5; 74/96] START logisticregression__C=10, logisticregression__penalty=none, logisticregression__solver=lbfgs\n"
     ]
    },
    {
     "name": "stderr",
     "output_type": "stream",
     "text": [
      "C:\\Python310\\lib\\site-packages\\sklearn\\linear_model\\_logistic.py:1113: UserWarning: Setting penalty='none' will ignore the C and l1_ratio parameters\n",
      "  warnings.warn(\n"
     ]
    },
    {
     "name": "stdout",
     "output_type": "stream",
     "text": [
      "No of FN: 10\n",
      "9145.88777682016\n",
      "[CV 3/5; 74/96] END logisticregression__C=10, logisticregression__penalty=none, logisticregression__solver=lbfgs;, score=-9145.888 total time=   1.3s\n",
      "[CV 4/5; 74/96] START logisticregression__C=10, logisticregression__penalty=none, logisticregression__solver=lbfgs\n"
     ]
    },
    {
     "name": "stderr",
     "output_type": "stream",
     "text": [
      "C:\\Python310\\lib\\site-packages\\sklearn\\linear_model\\_logistic.py:1113: UserWarning: Setting penalty='none' will ignore the C and l1_ratio parameters\n",
      "  warnings.warn(\n",
      "C:\\Python310\\lib\\site-packages\\sklearn\\linear_model\\_logistic.py:444: ConvergenceWarning: lbfgs failed to converge (status=1):\n",
      "STOP: TOTAL NO. of ITERATIONS REACHED LIMIT.\n",
      "\n",
      "Increase the number of iterations (max_iter) or scale the data as shown in:\n",
      "    https://scikit-learn.org/stable/modules/preprocessing.html\n",
      "Please also refer to the documentation for alternative solver options:\n",
      "    https://scikit-learn.org/stable/modules/linear_model.html#logistic-regression\n",
      "  n_iter_i = _check_optimize_result(\n"
     ]
    },
    {
     "name": "stdout",
     "output_type": "stream",
     "text": [
      "No of FN: 7\n",
      "5308.34206543166\n",
      "[CV 4/5; 74/96] END logisticregression__C=10, logisticregression__penalty=none, logisticregression__solver=lbfgs;, score=-5308.342 total time=   2.6s\n",
      "[CV 5/5; 74/96] START logisticregression__C=10, logisticregression__penalty=none, logisticregression__solver=lbfgs\n"
     ]
    },
    {
     "name": "stderr",
     "output_type": "stream",
     "text": [
      "C:\\Python310\\lib\\site-packages\\sklearn\\linear_model\\_logistic.py:1113: UserWarning: Setting penalty='none' will ignore the C and l1_ratio parameters\n",
      "  warnings.warn(\n"
     ]
    },
    {
     "name": "stdout",
     "output_type": "stream",
     "text": [
      "No of FN: 6\n",
      "5945.84\n",
      "[CV 5/5; 74/96] END logisticregression__C=10, logisticregression__penalty=none, logisticregression__solver=lbfgs;, score=-5945.840 total time=   1.9s\n",
      "[CV 1/5; 75/96] START logisticregression__C=10, logisticregression__penalty=none, logisticregression__solver=liblinear\n",
      "[CV 1/5; 75/96] END logisticregression__C=10, logisticregression__penalty=none, logisticregression__solver=liblinear;, score=nan total time=   0.2s\n",
      "[CV 2/5; 75/96] START logisticregression__C=10, logisticregression__penalty=none, logisticregression__solver=liblinear\n",
      "[CV 2/5; 75/96] END logisticregression__C=10, logisticregression__penalty=none, logisticregression__solver=liblinear;, score=nan total time=   0.2s\n",
      "[CV 3/5; 75/96] START logisticregression__C=10, logisticregression__penalty=none, logisticregression__solver=liblinear\n",
      "[CV 3/5; 75/96] END logisticregression__C=10, logisticregression__penalty=none, logisticregression__solver=liblinear;, score=nan total time=   0.2s\n",
      "[CV 4/5; 75/96] START logisticregression__C=10, logisticregression__penalty=none, logisticregression__solver=liblinear\n",
      "[CV 4/5; 75/96] END logisticregression__C=10, logisticregression__penalty=none, logisticregression__solver=liblinear;, score=nan total time=   0.2s\n",
      "[CV 5/5; 75/96] START logisticregression__C=10, logisticregression__penalty=none, logisticregression__solver=liblinear\n",
      "[CV 5/5; 75/96] END logisticregression__C=10, logisticregression__penalty=none, logisticregression__solver=liblinear;, score=nan total time=   0.2s\n",
      "[CV 1/5; 76/96] START logisticregression__C=10, logisticregression__penalty=l1, logisticregression__solver=newton-cg\n",
      "[CV 1/5; 76/96] END logisticregression__C=10, logisticregression__penalty=l1, logisticregression__solver=newton-cg;, score=nan total time=   0.2s\n",
      "[CV 2/5; 76/96] START logisticregression__C=10, logisticregression__penalty=l1, logisticregression__solver=newton-cg\n",
      "[CV 2/5; 76/96] END logisticregression__C=10, logisticregression__penalty=l1, logisticregression__solver=newton-cg;, score=nan total time=   0.2s\n",
      "[CV 3/5; 76/96] START logisticregression__C=10, logisticregression__penalty=l1, logisticregression__solver=newton-cg\n",
      "[CV 3/5; 76/96] END logisticregression__C=10, logisticregression__penalty=l1, logisticregression__solver=newton-cg;, score=nan total time=   0.2s\n",
      "[CV 4/5; 76/96] START logisticregression__C=10, logisticregression__penalty=l1, logisticregression__solver=newton-cg\n",
      "[CV 4/5; 76/96] END logisticregression__C=10, logisticregression__penalty=l1, logisticregression__solver=newton-cg;, score=nan total time=   0.2s\n",
      "[CV 5/5; 76/96] START logisticregression__C=10, logisticregression__penalty=l1, logisticregression__solver=newton-cg\n",
      "[CV 5/5; 76/96] END logisticregression__C=10, logisticregression__penalty=l1, logisticregression__solver=newton-cg;, score=nan total time=   0.2s\n",
      "[CV 1/5; 77/96] START logisticregression__C=10, logisticregression__penalty=l1, logisticregression__solver=lbfgs\n",
      "[CV 1/5; 77/96] END logisticregression__C=10, logisticregression__penalty=l1, logisticregression__solver=lbfgs;, score=nan total time=   0.2s\n",
      "[CV 2/5; 77/96] START logisticregression__C=10, logisticregression__penalty=l1, logisticregression__solver=lbfgs\n",
      "[CV 2/5; 77/96] END logisticregression__C=10, logisticregression__penalty=l1, logisticregression__solver=lbfgs;, score=nan total time=   0.2s\n",
      "[CV 3/5; 77/96] START logisticregression__C=10, logisticregression__penalty=l1, logisticregression__solver=lbfgs\n",
      "[CV 3/5; 77/96] END logisticregression__C=10, logisticregression__penalty=l1, logisticregression__solver=lbfgs;, score=nan total time=   0.2s\n",
      "[CV 4/5; 77/96] START logisticregression__C=10, logisticregression__penalty=l1, logisticregression__solver=lbfgs\n",
      "[CV 4/5; 77/96] END logisticregression__C=10, logisticregression__penalty=l1, logisticregression__solver=lbfgs;, score=nan total time=   0.2s\n",
      "[CV 5/5; 77/96] START logisticregression__C=10, logisticregression__penalty=l1, logisticregression__solver=lbfgs\n",
      "[CV 5/5; 77/96] END logisticregression__C=10, logisticregression__penalty=l1, logisticregression__solver=lbfgs;, score=nan total time=   0.2s\n",
      "[CV 1/5; 78/96] START logisticregression__C=10, logisticregression__penalty=l1, logisticregression__solver=liblinear\n",
      "No of FN: 10\n",
      "2948.7008200038385\n",
      "[CV 1/5; 78/96] END logisticregression__C=10, logisticregression__penalty=l1, logisticregression__solver=liblinear;, score=-2948.701 total time=   4.1s\n",
      "[CV 2/5; 78/96] START logisticregression__C=10, logisticregression__penalty=l1, logisticregression__solver=liblinear\n",
      "No of FN: 9\n",
      "3037.9429931775812\n",
      "[CV 2/5; 78/96] END logisticregression__C=10, logisticregression__penalty=l1, logisticregression__solver=liblinear;, score=-3037.943 total time=   3.2s\n",
      "[CV 3/5; 78/96] START logisticregression__C=10, logisticregression__penalty=l1, logisticregression__solver=liblinear\n",
      "No of FN: 9\n",
      "3638.237663936143\n",
      "[CV 3/5; 78/96] END logisticregression__C=10, logisticregression__penalty=l1, logisticregression__solver=liblinear;, score=-3638.238 total time=  11.4s\n",
      "[CV 4/5; 78/96] START logisticregression__C=10, logisticregression__penalty=l1, logisticregression__solver=liblinear\n",
      "No of FN: 9\n",
      "2731.1220654316603\n",
      "[CV 4/5; 78/96] END logisticregression__C=10, logisticregression__penalty=l1, logisticregression__solver=liblinear;, score=-2731.122 total time=   4.5s\n",
      "[CV 5/5; 78/96] START logisticregression__C=10, logisticregression__penalty=l1, logisticregression__solver=liblinear\n",
      "No of FN: 6\n",
      "2839.44\n",
      "[CV 5/5; 78/96] END logisticregression__C=10, logisticregression__penalty=l1, logisticregression__solver=liblinear;, score=-2839.440 total time=  16.2s\n",
      "[CV 1/5; 79/96] START logisticregression__C=10, logisticregression__penalty=l2, logisticregression__solver=newton-cg\n"
     ]
    },
    {
     "name": "stderr",
     "output_type": "stream",
     "text": [
      "C:\\Python310\\lib\\site-packages\\scipy\\optimize\\_linesearch.py:456: LineSearchWarning: The line search algorithm did not converge\n",
      "  warn('The line search algorithm did not converge', LineSearchWarning)\n",
      "C:\\Python310\\lib\\site-packages\\scipy\\optimize\\_linesearch.py:305: LineSearchWarning: The line search algorithm did not converge\n",
      "  warn('The line search algorithm did not converge', LineSearchWarning)\n",
      "C:\\Python310\\lib\\site-packages\\sklearn\\utils\\optimize.py:210: ConvergenceWarning: newton-cg failed to converge. Increase the number of iterations.\n",
      "  warnings.warn(\n"
     ]
    },
    {
     "name": "stdout",
     "output_type": "stream",
     "text": [
      "No of FN: 10\n",
      "2883.7008200038385\n",
      "[CV 1/5; 79/96] END logisticregression__C=10, logisticregression__penalty=l2, logisticregression__solver=newton-cg;, score=-2883.701 total time=  22.6s\n",
      "[CV 2/5; 79/96] START logisticregression__C=10, logisticregression__penalty=l2, logisticregression__solver=newton-cg\n"
     ]
    },
    {
     "name": "stderr",
     "output_type": "stream",
     "text": [
      "C:\\Python310\\lib\\site-packages\\scipy\\optimize\\_linesearch.py:456: LineSearchWarning: The line search algorithm did not converge\n",
      "  warn('The line search algorithm did not converge', LineSearchWarning)\n",
      "C:\\Python310\\lib\\site-packages\\scipy\\optimize\\_linesearch.py:305: LineSearchWarning: The line search algorithm did not converge\n",
      "  warn('The line search algorithm did not converge', LineSearchWarning)\n",
      "C:\\Python310\\lib\\site-packages\\sklearn\\utils\\optimize.py:210: ConvergenceWarning: newton-cg failed to converge. Increase the number of iterations.\n",
      "  warnings.warn(\n"
     ]
    },
    {
     "name": "stdout",
     "output_type": "stream",
     "text": [
      "No of FN: 9\n",
      "3027.9429931775812\n",
      "[CV 2/5; 79/96] END logisticregression__C=10, logisticregression__penalty=l2, logisticregression__solver=newton-cg;, score=-3027.943 total time=  22.2s\n",
      "[CV 3/5; 79/96] START logisticregression__C=10, logisticregression__penalty=l2, logisticregression__solver=newton-cg\n"
     ]
    },
    {
     "name": "stderr",
     "output_type": "stream",
     "text": [
      "C:\\Python310\\lib\\site-packages\\sklearn\\utils\\optimize.py:210: ConvergenceWarning: newton-cg failed to converge. Increase the number of iterations.\n",
      "  warnings.warn(\n"
     ]
    },
    {
     "name": "stdout",
     "output_type": "stream",
     "text": [
      "No of FN: 9\n",
      "3603.237663936143\n",
      "[CV 3/5; 79/96] END logisticregression__C=10, logisticregression__penalty=l2, logisticregression__solver=newton-cg;, score=-3603.238 total time=  22.1s\n",
      "[CV 4/5; 79/96] START logisticregression__C=10, logisticregression__penalty=l2, logisticregression__solver=newton-cg\n"
     ]
    },
    {
     "name": "stderr",
     "output_type": "stream",
     "text": [
      "C:\\Python310\\lib\\site-packages\\sklearn\\utils\\optimize.py:210: ConvergenceWarning: newton-cg failed to converge. Increase the number of iterations.\n",
      "  warnings.warn(\n"
     ]
    },
    {
     "name": "stdout",
     "output_type": "stream",
     "text": [
      "No of FN: 9\n",
      "2746.1220654316603\n",
      "[CV 4/5; 79/96] END logisticregression__C=10, logisticregression__penalty=l2, logisticregression__solver=newton-cg;, score=-2746.122 total time=  21.8s\n",
      "[CV 5/5; 79/96] START logisticregression__C=10, logisticregression__penalty=l2, logisticregression__solver=newton-cg\n"
     ]
    },
    {
     "name": "stderr",
     "output_type": "stream",
     "text": [
      "C:\\Python310\\lib\\site-packages\\scipy\\optimize\\_linesearch.py:456: LineSearchWarning: The line search algorithm did not converge\n",
      "  warn('The line search algorithm did not converge', LineSearchWarning)\n",
      "C:\\Python310\\lib\\site-packages\\scipy\\optimize\\_linesearch.py:305: LineSearchWarning: The line search algorithm did not converge\n",
      "  warn('The line search algorithm did not converge', LineSearchWarning)\n",
      "C:\\Python310\\lib\\site-packages\\sklearn\\utils\\optimize.py:210: ConvergenceWarning: newton-cg failed to converge. Increase the number of iterations.\n",
      "  warnings.warn(\n"
     ]
    },
    {
     "name": "stdout",
     "output_type": "stream",
     "text": [
      "No of FN: 6\n",
      "2819.44\n",
      "[CV 5/5; 79/96] END logisticregression__C=10, logisticregression__penalty=l2, logisticregression__solver=newton-cg;, score=-2819.440 total time=  22.9s\n",
      "[CV 1/5; 80/96] START logisticregression__C=10, logisticregression__penalty=l2, logisticregression__solver=lbfgs\n",
      "No of FN: 11\n",
      "6081.692867403903\n",
      "[CV 1/5; 80/96] END logisticregression__C=10, logisticregression__penalty=l2, logisticregression__solver=lbfgs;, score=-6081.693 total time=   2.1s\n",
      "[CV 2/5; 80/96] START logisticregression__C=10, logisticregression__penalty=l2, logisticregression__solver=lbfgs\n",
      "No of FN: 9\n",
      "5512.942993177581\n",
      "[CV 2/5; 80/96] END logisticregression__C=10, logisticregression__penalty=l2, logisticregression__solver=lbfgs;, score=-5512.943 total time=   2.1s\n",
      "[CV 3/5; 80/96] START logisticregression__C=10, logisticregression__penalty=l2, logisticregression__solver=lbfgs\n",
      "No of FN: 10\n",
      "9145.88777682016\n",
      "[CV 3/5; 80/96] END logisticregression__C=10, logisticregression__penalty=l2, logisticregression__solver=lbfgs;, score=-9145.888 total time=   1.2s\n",
      "[CV 4/5; 80/96] START logisticregression__C=10, logisticregression__penalty=l2, logisticregression__solver=lbfgs\n"
     ]
    },
    {
     "name": "stderr",
     "output_type": "stream",
     "text": [
      "C:\\Python310\\lib\\site-packages\\sklearn\\linear_model\\_logistic.py:444: ConvergenceWarning: lbfgs failed to converge (status=1):\n",
      "STOP: TOTAL NO. of ITERATIONS REACHED LIMIT.\n",
      "\n",
      "Increase the number of iterations (max_iter) or scale the data as shown in:\n",
      "    https://scikit-learn.org/stable/modules/preprocessing.html\n",
      "Please also refer to the documentation for alternative solver options:\n",
      "    https://scikit-learn.org/stable/modules/linear_model.html#logistic-regression\n",
      "  n_iter_i = _check_optimize_result(\n"
     ]
    },
    {
     "name": "stdout",
     "output_type": "stream",
     "text": [
      "No of FN: 7\n",
      "5288.34206543166\n",
      "[CV 4/5; 80/96] END logisticregression__C=10, logisticregression__penalty=l2, logisticregression__solver=lbfgs;, score=-5288.342 total time=   2.5s\n",
      "[CV 5/5; 80/96] START logisticregression__C=10, logisticregression__penalty=l2, logisticregression__solver=lbfgs\n"
     ]
    },
    {
     "name": "stderr",
     "output_type": "stream",
     "text": [
      "C:\\Python310\\lib\\site-packages\\sklearn\\linear_model\\_logistic.py:444: ConvergenceWarning: lbfgs failed to converge (status=1):\n",
      "STOP: TOTAL NO. of ITERATIONS REACHED LIMIT.\n",
      "\n",
      "Increase the number of iterations (max_iter) or scale the data as shown in:\n",
      "    https://scikit-learn.org/stable/modules/preprocessing.html\n",
      "Please also refer to the documentation for alternative solver options:\n",
      "    https://scikit-learn.org/stable/modules/linear_model.html#logistic-regression\n",
      "  n_iter_i = _check_optimize_result(\n"
     ]
    },
    {
     "name": "stdout",
     "output_type": "stream",
     "text": [
      "No of FN: 6\n",
      "4740.84\n",
      "[CV 5/5; 80/96] END logisticregression__C=10, logisticregression__penalty=l2, logisticregression__solver=lbfgs;, score=-4740.840 total time=   2.5s\n",
      "[CV 1/5; 81/96] START logisticregression__C=10, logisticregression__penalty=l2, logisticregression__solver=liblinear\n",
      "No of FN: 11\n",
      "4664.262532502451\n",
      "[CV 1/5; 81/96] END logisticregression__C=10, logisticregression__penalty=l2, logisticregression__solver=liblinear;, score=-4664.263 total time=   3.0s\n",
      "[CV 2/5; 81/96] START logisticregression__C=10, logisticregression__penalty=l2, logisticregression__solver=liblinear\n",
      "No of FN: 9\n",
      "4452.942993177581\n",
      "[CV 2/5; 81/96] END logisticregression__C=10, logisticregression__penalty=l2, logisticregression__solver=liblinear;, score=-4452.943 total time=   2.8s\n",
      "[CV 3/5; 81/96] START logisticregression__C=10, logisticregression__penalty=l2, logisticregression__solver=liblinear\n",
      "No of FN: 8\n",
      "5299.237663936143\n",
      "[CV 3/5; 81/96] END logisticregression__C=10, logisticregression__penalty=l2, logisticregression__solver=liblinear;, score=-5299.238 total time=   2.9s\n",
      "[CV 4/5; 81/96] START logisticregression__C=10, logisticregression__penalty=l2, logisticregression__solver=liblinear\n",
      "No of FN: 8\n",
      "4666.1720654316605\n",
      "[CV 4/5; 81/96] END logisticregression__C=10, logisticregression__penalty=l2, logisticregression__solver=liblinear;, score=-4666.172 total time=   2.7s\n",
      "[CV 5/5; 81/96] START logisticregression__C=10, logisticregression__penalty=l2, logisticregression__solver=liblinear\n",
      "No of FN: 9\n",
      "3608.4679646253935\n",
      "[CV 5/5; 81/96] END logisticregression__C=10, logisticregression__penalty=l2, logisticregression__solver=liblinear;, score=-3608.468 total time=   2.3s\n",
      "[CV 1/5; 82/96] START logisticregression__C=10, logisticregression__penalty=elasticnet, logisticregression__solver=newton-cg\n",
      "[CV 1/5; 82/96] END logisticregression__C=10, logisticregression__penalty=elasticnet, logisticregression__solver=newton-cg;, score=nan total time=   0.2s\n",
      "[CV 2/5; 82/96] START logisticregression__C=10, logisticregression__penalty=elasticnet, logisticregression__solver=newton-cg\n",
      "[CV 2/5; 82/96] END logisticregression__C=10, logisticregression__penalty=elasticnet, logisticregression__solver=newton-cg;, score=nan total time=   0.2s\n",
      "[CV 3/5; 82/96] START logisticregression__C=10, logisticregression__penalty=elasticnet, logisticregression__solver=newton-cg\n",
      "[CV 3/5; 82/96] END logisticregression__C=10, logisticregression__penalty=elasticnet, logisticregression__solver=newton-cg;, score=nan total time=   0.2s\n",
      "[CV 4/5; 82/96] START logisticregression__C=10, logisticregression__penalty=elasticnet, logisticregression__solver=newton-cg\n",
      "[CV 4/5; 82/96] END logisticregression__C=10, logisticregression__penalty=elasticnet, logisticregression__solver=newton-cg;, score=nan total time=   0.2s\n",
      "[CV 5/5; 82/96] START logisticregression__C=10, logisticregression__penalty=elasticnet, logisticregression__solver=newton-cg\n",
      "[CV 5/5; 82/96] END logisticregression__C=10, logisticregression__penalty=elasticnet, logisticregression__solver=newton-cg;, score=nan total time=   0.2s\n",
      "[CV 1/5; 83/96] START logisticregression__C=10, logisticregression__penalty=elasticnet, logisticregression__solver=lbfgs\n",
      "[CV 1/5; 83/96] END logisticregression__C=10, logisticregression__penalty=elasticnet, logisticregression__solver=lbfgs;, score=nan total time=   0.2s\n",
      "[CV 2/5; 83/96] START logisticregression__C=10, logisticregression__penalty=elasticnet, logisticregression__solver=lbfgs\n",
      "[CV 2/5; 83/96] END logisticregression__C=10, logisticregression__penalty=elasticnet, logisticregression__solver=lbfgs;, score=nan total time=   0.2s\n",
      "[CV 3/5; 83/96] START logisticregression__C=10, logisticregression__penalty=elasticnet, logisticregression__solver=lbfgs\n",
      "[CV 3/5; 83/96] END logisticregression__C=10, logisticregression__penalty=elasticnet, logisticregression__solver=lbfgs;, score=nan total time=   0.2s\n",
      "[CV 4/5; 83/96] START logisticregression__C=10, logisticregression__penalty=elasticnet, logisticregression__solver=lbfgs\n",
      "[CV 4/5; 83/96] END logisticregression__C=10, logisticregression__penalty=elasticnet, logisticregression__solver=lbfgs;, score=nan total time=   0.2s\n",
      "[CV 5/5; 83/96] START logisticregression__C=10, logisticregression__penalty=elasticnet, logisticregression__solver=lbfgs\n",
      "[CV 5/5; 83/96] END logisticregression__C=10, logisticregression__penalty=elasticnet, logisticregression__solver=lbfgs;, score=nan total time=   0.2s\n",
      "[CV 1/5; 84/96] START logisticregression__C=10, logisticregression__penalty=elasticnet, logisticregression__solver=liblinear\n",
      "[CV 1/5; 84/96] END logisticregression__C=10, logisticregression__penalty=elasticnet, logisticregression__solver=liblinear;, score=nan total time=   0.2s\n",
      "[CV 2/5; 84/96] START logisticregression__C=10, logisticregression__penalty=elasticnet, logisticregression__solver=liblinear\n",
      "[CV 2/5; 84/96] END logisticregression__C=10, logisticregression__penalty=elasticnet, logisticregression__solver=liblinear;, score=nan total time=   0.2s\n",
      "[CV 3/5; 84/96] START logisticregression__C=10, logisticregression__penalty=elasticnet, logisticregression__solver=liblinear\n",
      "[CV 3/5; 84/96] END logisticregression__C=10, logisticregression__penalty=elasticnet, logisticregression__solver=liblinear;, score=nan total time=   0.2s\n",
      "[CV 4/5; 84/96] START logisticregression__C=10, logisticregression__penalty=elasticnet, logisticregression__solver=liblinear\n",
      "[CV 4/5; 84/96] END logisticregression__C=10, logisticregression__penalty=elasticnet, logisticregression__solver=liblinear;, score=nan total time=   0.2s\n",
      "[CV 5/5; 84/96] START logisticregression__C=10, logisticregression__penalty=elasticnet, logisticregression__solver=liblinear\n",
      "[CV 5/5; 84/96] END logisticregression__C=10, logisticregression__penalty=elasticnet, logisticregression__solver=liblinear;, score=nan total time=   0.2s\n",
      "[CV 1/5; 85/96] START logisticregression__C=100, logisticregression__penalty=none, logisticregression__solver=newton-cg\n"
     ]
    },
    {
     "name": "stderr",
     "output_type": "stream",
     "text": [
      "C:\\Python310\\lib\\site-packages\\sklearn\\linear_model\\_logistic.py:1113: UserWarning: Setting penalty='none' will ignore the C and l1_ratio parameters\n",
      "  warnings.warn(\n",
      "C:\\Python310\\lib\\site-packages\\scipy\\optimize\\_linesearch.py:456: LineSearchWarning: The line search algorithm did not converge\n",
      "  warn('The line search algorithm did not converge', LineSearchWarning)\n",
      "C:\\Python310\\lib\\site-packages\\scipy\\optimize\\_linesearch.py:305: LineSearchWarning: The line search algorithm did not converge\n",
      "  warn('The line search algorithm did not converge', LineSearchWarning)\n",
      "C:\\Python310\\lib\\site-packages\\sklearn\\utils\\optimize.py:210: ConvergenceWarning: newton-cg failed to converge. Increase the number of iterations.\n",
      "  warnings.warn(\n"
     ]
    },
    {
     "name": "stdout",
     "output_type": "stream",
     "text": [
      "No of FN: 10\n",
      "2908.7008200038385\n",
      "[CV 1/5; 85/96] END logisticregression__C=100, logisticregression__penalty=none, logisticregression__solver=newton-cg;, score=-2908.701 total time=  22.7s\n",
      "[CV 2/5; 85/96] START logisticregression__C=100, logisticregression__penalty=none, logisticregression__solver=newton-cg\n"
     ]
    },
    {
     "name": "stderr",
     "output_type": "stream",
     "text": [
      "C:\\Python310\\lib\\site-packages\\sklearn\\linear_model\\_logistic.py:1113: UserWarning: Setting penalty='none' will ignore the C and l1_ratio parameters\n",
      "  warnings.warn(\n",
      "C:\\Python310\\lib\\site-packages\\scipy\\optimize\\_linesearch.py:456: LineSearchWarning: The line search algorithm did not converge\n",
      "  warn('The line search algorithm did not converge', LineSearchWarning)\n",
      "C:\\Python310\\lib\\site-packages\\scipy\\optimize\\_linesearch.py:305: LineSearchWarning: The line search algorithm did not converge\n",
      "  warn('The line search algorithm did not converge', LineSearchWarning)\n",
      "C:\\Python310\\lib\\site-packages\\sklearn\\utils\\optimize.py:210: ConvergenceWarning: newton-cg failed to converge. Increase the number of iterations.\n",
      "  warnings.warn(\n"
     ]
    },
    {
     "name": "stdout",
     "output_type": "stream",
     "text": [
      "No of FN: 9\n",
      "3047.9429931775812\n",
      "[CV 2/5; 85/96] END logisticregression__C=100, logisticregression__penalty=none, logisticregression__solver=newton-cg;, score=-3047.943 total time=  21.4s\n",
      "[CV 3/5; 85/96] START logisticregression__C=100, logisticregression__penalty=none, logisticregression__solver=newton-cg\n"
     ]
    },
    {
     "name": "stderr",
     "output_type": "stream",
     "text": [
      "C:\\Python310\\lib\\site-packages\\sklearn\\linear_model\\_logistic.py:1113: UserWarning: Setting penalty='none' will ignore the C and l1_ratio parameters\n",
      "  warnings.warn(\n",
      "C:\\Python310\\lib\\site-packages\\scipy\\optimize\\_linesearch.py:456: LineSearchWarning: The line search algorithm did not converge\n",
      "  warn('The line search algorithm did not converge', LineSearchWarning)\n",
      "C:\\Python310\\lib\\site-packages\\scipy\\optimize\\_linesearch.py:305: LineSearchWarning: The line search algorithm did not converge\n",
      "  warn('The line search algorithm did not converge', LineSearchWarning)\n",
      "C:\\Python310\\lib\\site-packages\\sklearn\\utils\\optimize.py:210: ConvergenceWarning: newton-cg failed to converge. Increase the number of iterations.\n",
      "  warnings.warn(\n"
     ]
    },
    {
     "name": "stdout",
     "output_type": "stream",
     "text": [
      "No of FN: 9\n",
      "3578.237663936143\n",
      "[CV 3/5; 85/96] END logisticregression__C=100, logisticregression__penalty=none, logisticregression__solver=newton-cg;, score=-3578.238 total time=  22.2s\n",
      "[CV 4/5; 85/96] START logisticregression__C=100, logisticregression__penalty=none, logisticregression__solver=newton-cg\n"
     ]
    },
    {
     "name": "stderr",
     "output_type": "stream",
     "text": [
      "C:\\Python310\\lib\\site-packages\\sklearn\\linear_model\\_logistic.py:1113: UserWarning: Setting penalty='none' will ignore the C and l1_ratio parameters\n",
      "  warnings.warn(\n",
      "C:\\Python310\\lib\\site-packages\\scipy\\optimize\\_linesearch.py:456: LineSearchWarning: The line search algorithm did not converge\n",
      "  warn('The line search algorithm did not converge', LineSearchWarning)\n",
      "C:\\Python310\\lib\\site-packages\\scipy\\optimize\\_linesearch.py:305: LineSearchWarning: The line search algorithm did not converge\n",
      "  warn('The line search algorithm did not converge', LineSearchWarning)\n",
      "C:\\Python310\\lib\\site-packages\\sklearn\\utils\\optimize.py:210: ConvergenceWarning: newton-cg failed to converge. Increase the number of iterations.\n",
      "  warnings.warn(\n"
     ]
    },
    {
     "name": "stdout",
     "output_type": "stream",
     "text": [
      "No of FN: 9\n",
      "2751.1220654316603\n",
      "[CV 4/5; 85/96] END logisticregression__C=100, logisticregression__penalty=none, logisticregression__solver=newton-cg;, score=-2751.122 total time=  22.2s\n",
      "[CV 5/5; 85/96] START logisticregression__C=100, logisticregression__penalty=none, logisticregression__solver=newton-cg\n"
     ]
    },
    {
     "name": "stderr",
     "output_type": "stream",
     "text": [
      "C:\\Python310\\lib\\site-packages\\sklearn\\linear_model\\_logistic.py:1113: UserWarning: Setting penalty='none' will ignore the C and l1_ratio parameters\n",
      "  warnings.warn(\n",
      "C:\\Python310\\lib\\site-packages\\scipy\\optimize\\_linesearch.py:456: LineSearchWarning: The line search algorithm did not converge\n",
      "  warn('The line search algorithm did not converge', LineSearchWarning)\n",
      "C:\\Python310\\lib\\site-packages\\scipy\\optimize\\_linesearch.py:305: LineSearchWarning: The line search algorithm did not converge\n",
      "  warn('The line search algorithm did not converge', LineSearchWarning)\n",
      "C:\\Python310\\lib\\site-packages\\sklearn\\utils\\optimize.py:210: ConvergenceWarning: newton-cg failed to converge. Increase the number of iterations.\n",
      "  warnings.warn(\n"
     ]
    },
    {
     "name": "stdout",
     "output_type": "stream",
     "text": [
      "No of FN: 6\n",
      "2829.44\n",
      "[CV 5/5; 85/96] END logisticregression__C=100, logisticregression__penalty=none, logisticregression__solver=newton-cg;, score=-2829.440 total time=  24.0s\n",
      "[CV 1/5; 86/96] START logisticregression__C=100, logisticregression__penalty=none, logisticregression__solver=lbfgs\n"
     ]
    },
    {
     "name": "stderr",
     "output_type": "stream",
     "text": [
      "C:\\Python310\\lib\\site-packages\\sklearn\\linear_model\\_logistic.py:1113: UserWarning: Setting penalty='none' will ignore the C and l1_ratio parameters\n",
      "  warnings.warn(\n"
     ]
    },
    {
     "name": "stdout",
     "output_type": "stream",
     "text": [
      "No of FN: 11\n",
      "6081.692867403903\n",
      "[CV 1/5; 86/96] END logisticregression__C=100, logisticregression__penalty=none, logisticregression__solver=lbfgs;, score=-6081.693 total time=   2.1s\n",
      "[CV 2/5; 86/96] START logisticregression__C=100, logisticregression__penalty=none, logisticregression__solver=lbfgs\n"
     ]
    },
    {
     "name": "stderr",
     "output_type": "stream",
     "text": [
      "C:\\Python310\\lib\\site-packages\\sklearn\\linear_model\\_logistic.py:1113: UserWarning: Setting penalty='none' will ignore the C and l1_ratio parameters\n",
      "  warnings.warn(\n"
     ]
    },
    {
     "name": "stdout",
     "output_type": "stream",
     "text": [
      "No of FN: 9\n",
      "5512.942993177581\n",
      "[CV 2/5; 86/96] END logisticregression__C=100, logisticregression__penalty=none, logisticregression__solver=lbfgs;, score=-5512.943 total time=   2.1s\n",
      "[CV 3/5; 86/96] START logisticregression__C=100, logisticregression__penalty=none, logisticregression__solver=lbfgs\n"
     ]
    },
    {
     "name": "stderr",
     "output_type": "stream",
     "text": [
      "C:\\Python310\\lib\\site-packages\\sklearn\\linear_model\\_logistic.py:1113: UserWarning: Setting penalty='none' will ignore the C and l1_ratio parameters\n",
      "  warnings.warn(\n"
     ]
    },
    {
     "name": "stdout",
     "output_type": "stream",
     "text": [
      "No of FN: 10\n",
      "9145.88777682016\n",
      "[CV 3/5; 86/96] END logisticregression__C=100, logisticregression__penalty=none, logisticregression__solver=lbfgs;, score=-9145.888 total time=   1.3s\n",
      "[CV 4/5; 86/96] START logisticregression__C=100, logisticregression__penalty=none, logisticregression__solver=lbfgs\n"
     ]
    },
    {
     "name": "stderr",
     "output_type": "stream",
     "text": [
      "C:\\Python310\\lib\\site-packages\\sklearn\\linear_model\\_logistic.py:1113: UserWarning: Setting penalty='none' will ignore the C and l1_ratio parameters\n",
      "  warnings.warn(\n",
      "C:\\Python310\\lib\\site-packages\\sklearn\\linear_model\\_logistic.py:444: ConvergenceWarning: lbfgs failed to converge (status=1):\n",
      "STOP: TOTAL NO. of ITERATIONS REACHED LIMIT.\n",
      "\n",
      "Increase the number of iterations (max_iter) or scale the data as shown in:\n",
      "    https://scikit-learn.org/stable/modules/preprocessing.html\n",
      "Please also refer to the documentation for alternative solver options:\n",
      "    https://scikit-learn.org/stable/modules/linear_model.html#logistic-regression\n",
      "  n_iter_i = _check_optimize_result(\n"
     ]
    },
    {
     "name": "stdout",
     "output_type": "stream",
     "text": [
      "No of FN: 7\n",
      "5308.34206543166\n",
      "[CV 4/5; 86/96] END logisticregression__C=100, logisticregression__penalty=none, logisticregression__solver=lbfgs;, score=-5308.342 total time=   2.5s\n",
      "[CV 5/5; 86/96] START logisticregression__C=100, logisticregression__penalty=none, logisticregression__solver=lbfgs\n"
     ]
    },
    {
     "name": "stderr",
     "output_type": "stream",
     "text": [
      "C:\\Python310\\lib\\site-packages\\sklearn\\linear_model\\_logistic.py:1113: UserWarning: Setting penalty='none' will ignore the C and l1_ratio parameters\n",
      "  warnings.warn(\n"
     ]
    },
    {
     "name": "stdout",
     "output_type": "stream",
     "text": [
      "No of FN: 6\n",
      "5945.84\n",
      "[CV 5/5; 86/96] END logisticregression__C=100, logisticregression__penalty=none, logisticregression__solver=lbfgs;, score=-5945.840 total time=   1.9s\n",
      "[CV 1/5; 87/96] START logisticregression__C=100, logisticregression__penalty=none, logisticregression__solver=liblinear\n",
      "[CV 1/5; 87/96] END logisticregression__C=100, logisticregression__penalty=none, logisticregression__solver=liblinear;, score=nan total time=   0.2s\n",
      "[CV 2/5; 87/96] START logisticregression__C=100, logisticregression__penalty=none, logisticregression__solver=liblinear\n",
      "[CV 2/5; 87/96] END logisticregression__C=100, logisticregression__penalty=none, logisticregression__solver=liblinear;, score=nan total time=   0.2s\n",
      "[CV 3/5; 87/96] START logisticregression__C=100, logisticregression__penalty=none, logisticregression__solver=liblinear\n",
      "[CV 3/5; 87/96] END logisticregression__C=100, logisticregression__penalty=none, logisticregression__solver=liblinear;, score=nan total time=   0.2s\n",
      "[CV 4/5; 87/96] START logisticregression__C=100, logisticregression__penalty=none, logisticregression__solver=liblinear\n",
      "[CV 4/5; 87/96] END logisticregression__C=100, logisticregression__penalty=none, logisticregression__solver=liblinear;, score=nan total time=   0.2s\n",
      "[CV 5/5; 87/96] START logisticregression__C=100, logisticregression__penalty=none, logisticregression__solver=liblinear\n",
      "[CV 5/5; 87/96] END logisticregression__C=100, logisticregression__penalty=none, logisticregression__solver=liblinear;, score=nan total time=   0.2s\n",
      "[CV 1/5; 88/96] START logisticregression__C=100, logisticregression__penalty=l1, logisticregression__solver=newton-cg\n",
      "[CV 1/5; 88/96] END logisticregression__C=100, logisticregression__penalty=l1, logisticregression__solver=newton-cg;, score=nan total time=   0.2s\n",
      "[CV 2/5; 88/96] START logisticregression__C=100, logisticregression__penalty=l1, logisticregression__solver=newton-cg\n",
      "[CV 2/5; 88/96] END logisticregression__C=100, logisticregression__penalty=l1, logisticregression__solver=newton-cg;, score=nan total time=   0.2s\n",
      "[CV 3/5; 88/96] START logisticregression__C=100, logisticregression__penalty=l1, logisticregression__solver=newton-cg\n",
      "[CV 3/5; 88/96] END logisticregression__C=100, logisticregression__penalty=l1, logisticregression__solver=newton-cg;, score=nan total time=   0.2s\n",
      "[CV 4/5; 88/96] START logisticregression__C=100, logisticregression__penalty=l1, logisticregression__solver=newton-cg\n",
      "[CV 4/5; 88/96] END logisticregression__C=100, logisticregression__penalty=l1, logisticregression__solver=newton-cg;, score=nan total time=   0.2s\n",
      "[CV 5/5; 88/96] START logisticregression__C=100, logisticregression__penalty=l1, logisticregression__solver=newton-cg\n",
      "[CV 5/5; 88/96] END logisticregression__C=100, logisticregression__penalty=l1, logisticregression__solver=newton-cg;, score=nan total time=   0.2s\n",
      "[CV 1/5; 89/96] START logisticregression__C=100, logisticregression__penalty=l1, logisticregression__solver=lbfgs\n",
      "[CV 1/5; 89/96] END logisticregression__C=100, logisticregression__penalty=l1, logisticregression__solver=lbfgs;, score=nan total time=   0.2s\n",
      "[CV 2/5; 89/96] START logisticregression__C=100, logisticregression__penalty=l1, logisticregression__solver=lbfgs\n",
      "[CV 2/5; 89/96] END logisticregression__C=100, logisticregression__penalty=l1, logisticregression__solver=lbfgs;, score=nan total time=   0.2s\n",
      "[CV 3/5; 89/96] START logisticregression__C=100, logisticregression__penalty=l1, logisticregression__solver=lbfgs\n",
      "[CV 3/5; 89/96] END logisticregression__C=100, logisticregression__penalty=l1, logisticregression__solver=lbfgs;, score=nan total time=   0.2s\n",
      "[CV 4/5; 89/96] START logisticregression__C=100, logisticregression__penalty=l1, logisticregression__solver=lbfgs\n",
      "[CV 4/5; 89/96] END logisticregression__C=100, logisticregression__penalty=l1, logisticregression__solver=lbfgs;, score=nan total time=   0.2s\n",
      "[CV 5/5; 89/96] START logisticregression__C=100, logisticregression__penalty=l1, logisticregression__solver=lbfgs\n",
      "[CV 5/5; 89/96] END logisticregression__C=100, logisticregression__penalty=l1, logisticregression__solver=lbfgs;, score=nan total time=   0.2s\n",
      "[CV 1/5; 90/96] START logisticregression__C=100, logisticregression__penalty=l1, logisticregression__solver=liblinear\n",
      "No of FN: 10\n",
      "2953.7008200038385\n",
      "[CV 1/5; 90/96] END logisticregression__C=100, logisticregression__penalty=l1, logisticregression__solver=liblinear;, score=-2953.701 total time=   2.5s\n",
      "[CV 2/5; 90/96] START logisticregression__C=100, logisticregression__penalty=l1, logisticregression__solver=liblinear\n",
      "No of FN: 9\n",
      "3042.9429931775812\n",
      "[CV 2/5; 90/96] END logisticregression__C=100, logisticregression__penalty=l1, logisticregression__solver=liblinear;, score=-3042.943 total time=   3.4s\n",
      "[CV 3/5; 90/96] START logisticregression__C=100, logisticregression__penalty=l1, logisticregression__solver=liblinear\n",
      "No of FN: 9\n",
      "3688.237663936143\n",
      "[CV 3/5; 90/96] END logisticregression__C=100, logisticregression__penalty=l1, logisticregression__solver=liblinear;, score=-3688.238 total time=   3.4s\n",
      "[CV 4/5; 90/96] START logisticregression__C=100, logisticregression__penalty=l1, logisticregression__solver=liblinear\n",
      "No of FN: 9\n",
      "2721.1220654316603\n",
      "[CV 4/5; 90/96] END logisticregression__C=100, logisticregression__penalty=l1, logisticregression__solver=liblinear;, score=-2721.122 total time=   5.7s\n",
      "[CV 5/5; 90/96] START logisticregression__C=100, logisticregression__penalty=l1, logisticregression__solver=liblinear\n",
      "No of FN: 6\n",
      "2859.44\n",
      "[CV 5/5; 90/96] END logisticregression__C=100, logisticregression__penalty=l1, logisticregression__solver=liblinear;, score=-2859.440 total time=   4.0s\n",
      "[CV 1/5; 91/96] START logisticregression__C=100, logisticregression__penalty=l2, logisticregression__solver=newton-cg\n"
     ]
    },
    {
     "name": "stderr",
     "output_type": "stream",
     "text": [
      "C:\\Python310\\lib\\site-packages\\scipy\\optimize\\_linesearch.py:456: LineSearchWarning: The line search algorithm did not converge\n",
      "  warn('The line search algorithm did not converge', LineSearchWarning)\n",
      "C:\\Python310\\lib\\site-packages\\scipy\\optimize\\_linesearch.py:305: LineSearchWarning: The line search algorithm did not converge\n",
      "  warn('The line search algorithm did not converge', LineSearchWarning)\n",
      "C:\\Python310\\lib\\site-packages\\sklearn\\utils\\optimize.py:210: ConvergenceWarning: newton-cg failed to converge. Increase the number of iterations.\n",
      "  warnings.warn(\n"
     ]
    },
    {
     "name": "stdout",
     "output_type": "stream",
     "text": [
      "No of FN: 10\n",
      "2918.7008200038385\n",
      "[CV 1/5; 91/96] END logisticregression__C=100, logisticregression__penalty=l2, logisticregression__solver=newton-cg;, score=-2918.701 total time=  20.6s\n",
      "[CV 2/5; 91/96] START logisticregression__C=100, logisticregression__penalty=l2, logisticregression__solver=newton-cg\n"
     ]
    },
    {
     "name": "stderr",
     "output_type": "stream",
     "text": [
      "C:\\Python310\\lib\\site-packages\\scipy\\optimize\\_linesearch.py:456: LineSearchWarning: The line search algorithm did not converge\n",
      "  warn('The line search algorithm did not converge', LineSearchWarning)\n",
      "C:\\Python310\\lib\\site-packages\\scipy\\optimize\\_linesearch.py:305: LineSearchWarning: The line search algorithm did not converge\n",
      "  warn('The line search algorithm did not converge', LineSearchWarning)\n",
      "C:\\Python310\\lib\\site-packages\\sklearn\\utils\\optimize.py:210: ConvergenceWarning: newton-cg failed to converge. Increase the number of iterations.\n",
      "  warnings.warn(\n"
     ]
    },
    {
     "name": "stdout",
     "output_type": "stream",
     "text": [
      "No of FN: 9\n",
      "3032.9429931775812\n",
      "[CV 2/5; 91/96] END logisticregression__C=100, logisticregression__penalty=l2, logisticregression__solver=newton-cg;, score=-3032.943 total time=  21.7s\n",
      "[CV 3/5; 91/96] START logisticregression__C=100, logisticregression__penalty=l2, logisticregression__solver=newton-cg\n"
     ]
    },
    {
     "name": "stderr",
     "output_type": "stream",
     "text": [
      "C:\\Python310\\lib\\site-packages\\scipy\\optimize\\_linesearch.py:456: LineSearchWarning: The line search algorithm did not converge\n",
      "  warn('The line search algorithm did not converge', LineSearchWarning)\n",
      "C:\\Python310\\lib\\site-packages\\scipy\\optimize\\_linesearch.py:305: LineSearchWarning: The line search algorithm did not converge\n",
      "  warn('The line search algorithm did not converge', LineSearchWarning)\n",
      "C:\\Python310\\lib\\site-packages\\sklearn\\utils\\optimize.py:210: ConvergenceWarning: newton-cg failed to converge. Increase the number of iterations.\n",
      "  warnings.warn(\n"
     ]
    },
    {
     "name": "stdout",
     "output_type": "stream",
     "text": [
      "No of FN: 9\n",
      "3598.237663936143\n",
      "[CV 3/5; 91/96] END logisticregression__C=100, logisticregression__penalty=l2, logisticregression__solver=newton-cg;, score=-3598.238 total time=  22.4s\n",
      "[CV 4/5; 91/96] START logisticregression__C=100, logisticregression__penalty=l2, logisticregression__solver=newton-cg\n"
     ]
    },
    {
     "name": "stderr",
     "output_type": "stream",
     "text": [
      "C:\\Python310\\lib\\site-packages\\sklearn\\utils\\optimize.py:210: ConvergenceWarning: newton-cg failed to converge. Increase the number of iterations.\n",
      "  warnings.warn(\n"
     ]
    },
    {
     "name": "stdout",
     "output_type": "stream",
     "text": [
      "No of FN: 9\n",
      "2751.1220654316603\n",
      "[CV 4/5; 91/96] END logisticregression__C=100, logisticregression__penalty=l2, logisticregression__solver=newton-cg;, score=-2751.122 total time=  21.4s\n",
      "[CV 5/5; 91/96] START logisticregression__C=100, logisticregression__penalty=l2, logisticregression__solver=newton-cg\n"
     ]
    },
    {
     "name": "stderr",
     "output_type": "stream",
     "text": [
      "C:\\Python310\\lib\\site-packages\\scipy\\optimize\\_linesearch.py:456: LineSearchWarning: The line search algorithm did not converge\n",
      "  warn('The line search algorithm did not converge', LineSearchWarning)\n",
      "C:\\Python310\\lib\\site-packages\\scipy\\optimize\\_linesearch.py:305: LineSearchWarning: The line search algorithm did not converge\n",
      "  warn('The line search algorithm did not converge', LineSearchWarning)\n",
      "C:\\Python310\\lib\\site-packages\\sklearn\\utils\\optimize.py:210: ConvergenceWarning: newton-cg failed to converge. Increase the number of iterations.\n",
      "  warnings.warn(\n"
     ]
    },
    {
     "name": "stdout",
     "output_type": "stream",
     "text": [
      "No of FN: 6\n",
      "2864.44\n",
      "[CV 5/5; 91/96] END logisticregression__C=100, logisticregression__penalty=l2, logisticregression__solver=newton-cg;, score=-2864.440 total time=  22.1s\n",
      "[CV 1/5; 92/96] START logisticregression__C=100, logisticregression__penalty=l2, logisticregression__solver=lbfgs\n",
      "No of FN: 11\n",
      "6081.692867403903\n",
      "[CV 1/5; 92/96] END logisticregression__C=100, logisticregression__penalty=l2, logisticregression__solver=lbfgs;, score=-6081.693 total time=   2.1s\n",
      "[CV 2/5; 92/96] START logisticregression__C=100, logisticregression__penalty=l2, logisticregression__solver=lbfgs\n"
     ]
    },
    {
     "name": "stderr",
     "output_type": "stream",
     "text": [
      "C:\\Python310\\lib\\site-packages\\sklearn\\linear_model\\_logistic.py:444: ConvergenceWarning: lbfgs failed to converge (status=1):\n",
      "STOP: TOTAL NO. of ITERATIONS REACHED LIMIT.\n",
      "\n",
      "Increase the number of iterations (max_iter) or scale the data as shown in:\n",
      "    https://scikit-learn.org/stable/modules/preprocessing.html\n",
      "Please also refer to the documentation for alternative solver options:\n",
      "    https://scikit-learn.org/stable/modules/linear_model.html#logistic-regression\n",
      "  n_iter_i = _check_optimize_result(\n"
     ]
    },
    {
     "name": "stdout",
     "output_type": "stream",
     "text": [
      "No of FN: 9\n",
      "4772.942993177581\n",
      "[CV 2/5; 92/96] END logisticregression__C=100, logisticregression__penalty=l2, logisticregression__solver=lbfgs;, score=-4772.943 total time=   2.5s\n",
      "[CV 3/5; 92/96] START logisticregression__C=100, logisticregression__penalty=l2, logisticregression__solver=lbfgs\n",
      "No of FN: 10\n",
      "9145.88777682016\n",
      "[CV 3/5; 92/96] END logisticregression__C=100, logisticregression__penalty=l2, logisticregression__solver=lbfgs;, score=-9145.888 total time=   1.2s\n",
      "[CV 4/5; 92/96] START logisticregression__C=100, logisticregression__penalty=l2, logisticregression__solver=lbfgs\n"
     ]
    },
    {
     "name": "stderr",
     "output_type": "stream",
     "text": [
      "C:\\Python310\\lib\\site-packages\\sklearn\\linear_model\\_logistic.py:444: ConvergenceWarning: lbfgs failed to converge (status=1):\n",
      "STOP: TOTAL NO. of ITERATIONS REACHED LIMIT.\n",
      "\n",
      "Increase the number of iterations (max_iter) or scale the data as shown in:\n",
      "    https://scikit-learn.org/stable/modules/preprocessing.html\n",
      "Please also refer to the documentation for alternative solver options:\n",
      "    https://scikit-learn.org/stable/modules/linear_model.html#logistic-regression\n",
      "  n_iter_i = _check_optimize_result(\n"
     ]
    },
    {
     "name": "stdout",
     "output_type": "stream",
     "text": [
      "No of FN: 7\n",
      "5308.34206543166\n",
      "[CV 4/5; 92/96] END logisticregression__C=100, logisticregression__penalty=l2, logisticregression__solver=lbfgs;, score=-5308.342 total time=   2.5s\n",
      "[CV 5/5; 92/96] START logisticregression__C=100, logisticregression__penalty=l2, logisticregression__solver=lbfgs\n",
      "No of FN: 6\n",
      "5945.84\n",
      "[CV 5/5; 92/96] END logisticregression__C=100, logisticregression__penalty=l2, logisticregression__solver=lbfgs;, score=-5945.840 total time=   1.9s\n",
      "[CV 1/5; 93/96] START logisticregression__C=100, logisticregression__penalty=l2, logisticregression__solver=liblinear\n",
      "No of FN: 11\n",
      "4664.262532502451\n",
      "[CV 1/5; 93/96] END logisticregression__C=100, logisticregression__penalty=l2, logisticregression__solver=liblinear;, score=-4664.263 total time=   3.0s\n",
      "[CV 2/5; 93/96] START logisticregression__C=100, logisticregression__penalty=l2, logisticregression__solver=liblinear\n",
      "No of FN: 9\n",
      "4452.942993177581\n",
      "[CV 2/5; 93/96] END logisticregression__C=100, logisticregression__penalty=l2, logisticregression__solver=liblinear;, score=-4452.943 total time=   2.8s\n",
      "[CV 3/5; 93/96] START logisticregression__C=100, logisticregression__penalty=l2, logisticregression__solver=liblinear\n",
      "No of FN: 8\n",
      "5299.237663936143\n",
      "[CV 3/5; 93/96] END logisticregression__C=100, logisticregression__penalty=l2, logisticregression__solver=liblinear;, score=-5299.238 total time=   2.9s\n",
      "[CV 4/5; 93/96] START logisticregression__C=100, logisticregression__penalty=l2, logisticregression__solver=liblinear\n",
      "No of FN: 8\n",
      "4666.1720654316605\n",
      "[CV 4/5; 93/96] END logisticregression__C=100, logisticregression__penalty=l2, logisticregression__solver=liblinear;, score=-4666.172 total time=   2.7s\n",
      "[CV 5/5; 93/96] START logisticregression__C=100, logisticregression__penalty=l2, logisticregression__solver=liblinear\n",
      "No of FN: 9\n",
      "3608.4679646253935\n",
      "[CV 5/5; 93/96] END logisticregression__C=100, logisticregression__penalty=l2, logisticregression__solver=liblinear;, score=-3608.468 total time=   2.3s\n",
      "[CV 1/5; 94/96] START logisticregression__C=100, logisticregression__penalty=elasticnet, logisticregression__solver=newton-cg\n",
      "[CV 1/5; 94/96] END logisticregression__C=100, logisticregression__penalty=elasticnet, logisticregression__solver=newton-cg;, score=nan total time=   0.2s\n",
      "[CV 2/5; 94/96] START logisticregression__C=100, logisticregression__penalty=elasticnet, logisticregression__solver=newton-cg\n",
      "[CV 2/5; 94/96] END logisticregression__C=100, logisticregression__penalty=elasticnet, logisticregression__solver=newton-cg;, score=nan total time=   0.2s\n",
      "[CV 3/5; 94/96] START logisticregression__C=100, logisticregression__penalty=elasticnet, logisticregression__solver=newton-cg\n",
      "[CV 3/5; 94/96] END logisticregression__C=100, logisticregression__penalty=elasticnet, logisticregression__solver=newton-cg;, score=nan total time=   0.2s\n",
      "[CV 4/5; 94/96] START logisticregression__C=100, logisticregression__penalty=elasticnet, logisticregression__solver=newton-cg\n",
      "[CV 4/5; 94/96] END logisticregression__C=100, logisticregression__penalty=elasticnet, logisticregression__solver=newton-cg;, score=nan total time=   0.2s\n",
      "[CV 5/5; 94/96] START logisticregression__C=100, logisticregression__penalty=elasticnet, logisticregression__solver=newton-cg\n",
      "[CV 5/5; 94/96] END logisticregression__C=100, logisticregression__penalty=elasticnet, logisticregression__solver=newton-cg;, score=nan total time=   0.2s\n",
      "[CV 1/5; 95/96] START logisticregression__C=100, logisticregression__penalty=elasticnet, logisticregression__solver=lbfgs\n",
      "[CV 1/5; 95/96] END logisticregression__C=100, logisticregression__penalty=elasticnet, logisticregression__solver=lbfgs;, score=nan total time=   0.2s\n",
      "[CV 2/5; 95/96] START logisticregression__C=100, logisticregression__penalty=elasticnet, logisticregression__solver=lbfgs\n",
      "[CV 2/5; 95/96] END logisticregression__C=100, logisticregression__penalty=elasticnet, logisticregression__solver=lbfgs;, score=nan total time=   0.2s\n",
      "[CV 3/5; 95/96] START logisticregression__C=100, logisticregression__penalty=elasticnet, logisticregression__solver=lbfgs\n",
      "[CV 3/5; 95/96] END logisticregression__C=100, logisticregression__penalty=elasticnet, logisticregression__solver=lbfgs;, score=nan total time=   0.2s\n",
      "[CV 4/5; 95/96] START logisticregression__C=100, logisticregression__penalty=elasticnet, logisticregression__solver=lbfgs\n",
      "[CV 4/5; 95/96] END logisticregression__C=100, logisticregression__penalty=elasticnet, logisticregression__solver=lbfgs;, score=nan total time=   0.2s\n",
      "[CV 5/5; 95/96] START logisticregression__C=100, logisticregression__penalty=elasticnet, logisticregression__solver=lbfgs\n",
      "[CV 5/5; 95/96] END logisticregression__C=100, logisticregression__penalty=elasticnet, logisticregression__solver=lbfgs;, score=nan total time=   0.2s\n",
      "[CV 1/5; 96/96] START logisticregression__C=100, logisticregression__penalty=elasticnet, logisticregression__solver=liblinear\n",
      "[CV 1/5; 96/96] END logisticregression__C=100, logisticregression__penalty=elasticnet, logisticregression__solver=liblinear;, score=nan total time=   0.2s\n",
      "[CV 2/5; 96/96] START logisticregression__C=100, logisticregression__penalty=elasticnet, logisticregression__solver=liblinear\n",
      "[CV 2/5; 96/96] END logisticregression__C=100, logisticregression__penalty=elasticnet, logisticregression__solver=liblinear;, score=nan total time=   0.2s\n",
      "[CV 3/5; 96/96] START logisticregression__C=100, logisticregression__penalty=elasticnet, logisticregression__solver=liblinear\n",
      "[CV 3/5; 96/96] END logisticregression__C=100, logisticregression__penalty=elasticnet, logisticregression__solver=liblinear;, score=nan total time=   0.2s\n",
      "[CV 4/5; 96/96] START logisticregression__C=100, logisticregression__penalty=elasticnet, logisticregression__solver=liblinear\n",
      "[CV 4/5; 96/96] END logisticregression__C=100, logisticregression__penalty=elasticnet, logisticregression__solver=liblinear;, score=nan total time=   0.2s\n",
      "[CV 5/5; 96/96] START logisticregression__C=100, logisticregression__penalty=elasticnet, logisticregression__solver=liblinear\n",
      "[CV 5/5; 96/96] END logisticregression__C=100, logisticregression__penalty=elasticnet, logisticregression__solver=liblinear;, score=nan total time=   0.2s\n"
     ]
    },
    {
     "name": "stderr",
     "output_type": "stream",
     "text": [
      "C:\\Python310\\lib\\site-packages\\sklearn\\model_selection\\_validation.py:378: FitFailedWarning: \n",
      "240 fits failed out of a total of 480.\n",
      "The score on these train-test partitions for these parameters will be set to nan.\n",
      "If these failures are not expected, you can try to debug them by setting error_score='raise'.\n",
      "\n",
      "Below are more details about the failures:\n",
      "--------------------------------------------------------------------------------\n",
      "40 fits failed with the following error:\n",
      "Traceback (most recent call last):\n",
      "  File \"C:\\Python310\\lib\\site-packages\\sklearn\\model_selection\\_validation.py\", line 686, in _fit_and_score\n",
      "    estimator.fit(X_train, y_train, **fit_params)\n",
      "  File \"C:\\Python310\\lib\\site-packages\\imblearn\\pipeline.py\", line 272, in fit\n",
      "    self._final_estimator.fit(Xt, yt, **fit_params_last_step)\n",
      "  File \"C:\\Python310\\lib\\site-packages\\sklearn\\linear_model\\_logistic.py\", line 1091, in fit\n",
      "    solver = _check_solver(self.solver, self.penalty, self.dual)\n",
      "  File \"C:\\Python310\\lib\\site-packages\\sklearn\\linear_model\\_logistic.py\", line 78, in _check_solver\n",
      "    raise ValueError(\"penalty='none' is not supported for the liblinear solver\")\n",
      "ValueError: penalty='none' is not supported for the liblinear solver\n",
      "\n",
      "--------------------------------------------------------------------------------\n",
      "40 fits failed with the following error:\n",
      "Traceback (most recent call last):\n",
      "  File \"C:\\Python310\\lib\\site-packages\\sklearn\\model_selection\\_validation.py\", line 686, in _fit_and_score\n",
      "    estimator.fit(X_train, y_train, **fit_params)\n",
      "  File \"C:\\Python310\\lib\\site-packages\\imblearn\\pipeline.py\", line 272, in fit\n",
      "    self._final_estimator.fit(Xt, yt, **fit_params_last_step)\n",
      "  File \"C:\\Python310\\lib\\site-packages\\sklearn\\linear_model\\_logistic.py\", line 1091, in fit\n",
      "    solver = _check_solver(self.solver, self.penalty, self.dual)\n",
      "  File \"C:\\Python310\\lib\\site-packages\\sklearn\\linear_model\\_logistic.py\", line 61, in _check_solver\n",
      "    raise ValueError(\n",
      "ValueError: Solver newton-cg supports only 'l2' or 'none' penalties, got l1 penalty.\n",
      "\n",
      "--------------------------------------------------------------------------------\n",
      "40 fits failed with the following error:\n",
      "Traceback (most recent call last):\n",
      "  File \"C:\\Python310\\lib\\site-packages\\sklearn\\model_selection\\_validation.py\", line 686, in _fit_and_score\n",
      "    estimator.fit(X_train, y_train, **fit_params)\n",
      "  File \"C:\\Python310\\lib\\site-packages\\imblearn\\pipeline.py\", line 272, in fit\n",
      "    self._final_estimator.fit(Xt, yt, **fit_params_last_step)\n",
      "  File \"C:\\Python310\\lib\\site-packages\\sklearn\\linear_model\\_logistic.py\", line 1091, in fit\n",
      "    solver = _check_solver(self.solver, self.penalty, self.dual)\n",
      "  File \"C:\\Python310\\lib\\site-packages\\sklearn\\linear_model\\_logistic.py\", line 61, in _check_solver\n",
      "    raise ValueError(\n",
      "ValueError: Solver lbfgs supports only 'l2' or 'none' penalties, got l1 penalty.\n",
      "\n",
      "--------------------------------------------------------------------------------\n",
      "40 fits failed with the following error:\n",
      "Traceback (most recent call last):\n",
      "  File \"C:\\Python310\\lib\\site-packages\\sklearn\\model_selection\\_validation.py\", line 686, in _fit_and_score\n",
      "    estimator.fit(X_train, y_train, **fit_params)\n",
      "  File \"C:\\Python310\\lib\\site-packages\\imblearn\\pipeline.py\", line 272, in fit\n",
      "    self._final_estimator.fit(Xt, yt, **fit_params_last_step)\n",
      "  File \"C:\\Python310\\lib\\site-packages\\sklearn\\linear_model\\_logistic.py\", line 1091, in fit\n",
      "    solver = _check_solver(self.solver, self.penalty, self.dual)\n",
      "  File \"C:\\Python310\\lib\\site-packages\\sklearn\\linear_model\\_logistic.py\", line 61, in _check_solver\n",
      "    raise ValueError(\n",
      "ValueError: Solver newton-cg supports only 'l2' or 'none' penalties, got elasticnet penalty.\n",
      "\n",
      "--------------------------------------------------------------------------------\n",
      "40 fits failed with the following error:\n",
      "Traceback (most recent call last):\n",
      "  File \"C:\\Python310\\lib\\site-packages\\sklearn\\model_selection\\_validation.py\", line 686, in _fit_and_score\n",
      "    estimator.fit(X_train, y_train, **fit_params)\n",
      "  File \"C:\\Python310\\lib\\site-packages\\imblearn\\pipeline.py\", line 272, in fit\n",
      "    self._final_estimator.fit(Xt, yt, **fit_params_last_step)\n",
      "  File \"C:\\Python310\\lib\\site-packages\\sklearn\\linear_model\\_logistic.py\", line 1091, in fit\n",
      "    solver = _check_solver(self.solver, self.penalty, self.dual)\n",
      "  File \"C:\\Python310\\lib\\site-packages\\sklearn\\linear_model\\_logistic.py\", line 61, in _check_solver\n",
      "    raise ValueError(\n",
      "ValueError: Solver lbfgs supports only 'l2' or 'none' penalties, got elasticnet penalty.\n",
      "\n",
      "--------------------------------------------------------------------------------\n",
      "40 fits failed with the following error:\n",
      "Traceback (most recent call last):\n",
      "  File \"C:\\Python310\\lib\\site-packages\\sklearn\\model_selection\\_validation.py\", line 686, in _fit_and_score\n",
      "    estimator.fit(X_train, y_train, **fit_params)\n",
      "  File \"C:\\Python310\\lib\\site-packages\\imblearn\\pipeline.py\", line 272, in fit\n",
      "    self._final_estimator.fit(Xt, yt, **fit_params_last_step)\n",
      "  File \"C:\\Python310\\lib\\site-packages\\sklearn\\linear_model\\_logistic.py\", line 1091, in fit\n",
      "    solver = _check_solver(self.solver, self.penalty, self.dual)\n",
      "  File \"C:\\Python310\\lib\\site-packages\\sklearn\\linear_model\\_logistic.py\", line 71, in _check_solver\n",
      "    raise ValueError(\n",
      "ValueError: Only 'saga' solver supports elasticnet penalty, got solver=liblinear.\n",
      "\n",
      "  warnings.warn(some_fits_failed_message, FitFailedWarning)\n",
      "C:\\Python310\\lib\\site-packages\\sklearn\\model_selection\\_search.py:953: UserWarning: One or more of the test scores are non-finite: [-3023.08870851 -6398.94114057            nan            nan\n",
      "            nan -5691.80490868 -2112.58949198 -4498.36842833\n",
      " -3899.71469795            nan            nan            nan\n",
      " -3023.08870851 -6398.94114057            nan            nan\n",
      "            nan -5962.17711799 -3172.97705101 -5423.61710502\n",
      " -4118.34549198            nan            nan            nan\n",
      " -3023.08870851 -6398.94114057            nan            nan\n",
      "            nan -3355.07705101 -3160.59705101 -5985.94114057\n",
      " -4459.31949198            nan            nan            nan\n",
      " -3023.08870851 -6398.94114057            nan            nan\n",
      "            nan -3083.08870851 -3089.08870851 -5650.97120133\n",
      " -4529.21664393            nan            nan            nan\n",
      " -3023.08870851 -6398.94114057            nan            nan\n",
      "            nan -3056.08870851 -3034.08870851 -6021.94114057\n",
      " -4535.21664393            nan            nan            nan\n",
      " -3023.08870851 -6398.94114057            nan            nan\n",
      "            nan -3052.08870851 -3025.55870851 -6028.75601079\n",
      " -4538.21664393            nan            nan            nan\n",
      " -3023.08870851 -6398.94114057            nan            nan\n",
      "            nan -3039.08870851 -3016.08870851 -6153.94114057\n",
      " -4538.21664393            nan            nan            nan\n",
      " -3023.08870851 -6398.94114057            nan            nan\n",
      "            nan -3053.08870851 -3033.08870851 -6250.94114057\n",
      " -4538.21664393            nan            nan            nan]\n",
      "  warnings.warn(\n",
      "C:\\Python310\\lib\\site-packages\\scipy\\optimize\\_linesearch.py:456: LineSearchWarning: The line search algorithm did not converge\n",
      "  warn('The line search algorithm did not converge', LineSearchWarning)\n",
      "C:\\Python310\\lib\\site-packages\\scipy\\optimize\\_linesearch.py:305: LineSearchWarning: The line search algorithm did not converge\n",
      "  warn('The line search algorithm did not converge', LineSearchWarning)\n",
      "C:\\Python310\\lib\\site-packages\\scipy\\optimize\\_linesearch.py:415: LineSearchWarning: Rounding errors prevent the line search from converging\n",
      "  warn(msg, LineSearchWarning)\n",
      "C:\\Python310\\lib\\site-packages\\sklearn\\utils\\optimize.py:203: UserWarning: Line Search failed\n",
      "  warnings.warn(\"Line Search failed\")\n"
     ]
    }
   ],
   "source": [
    "grid_imba_wo_outliers = GridSearchCV(imba_pipeline, param_grid=new_params, cv=5, scoring=my_func_smt_wo_outliers,  verbose=10)\n",
    "grid_search_imba_wo_outliers = grid_imba_wo_outliers.fit(X_train, y_train);"
   ]
  },
  {
   "cell_type": "code",
   "execution_count": 45,
   "id": "177f8907-4731-4c74-8f3d-ea5f8249495d",
   "metadata": {},
   "outputs": [
    {
     "name": "stdout",
     "output_type": "stream",
     "text": [
      "Best: [-3023.08870851 -6398.94114057            nan            nan\n",
      "            nan -5691.80490868 -2112.58949198 -4498.36842833\n",
      " -3899.71469795            nan            nan            nan\n",
      " -3023.08870851 -6398.94114057            nan            nan\n",
      "            nan -5962.17711799 -3172.97705101 -5423.61710502\n",
      " -4118.34549198            nan            nan            nan\n",
      " -3023.08870851 -6398.94114057            nan            nan\n",
      "            nan -3355.07705101 -3160.59705101 -5985.94114057\n",
      " -4459.31949198            nan            nan            nan\n",
      " -3023.08870851 -6398.94114057            nan            nan\n",
      "            nan -3083.08870851 -3089.08870851 -5650.97120133\n",
      " -4529.21664393            nan            nan            nan\n",
      " -3023.08870851 -6398.94114057            nan            nan\n",
      "            nan -3056.08870851 -3034.08870851 -6021.94114057\n",
      " -4535.21664393            nan            nan            nan\n",
      " -3023.08870851 -6398.94114057            nan            nan\n",
      "            nan -3052.08870851 -3025.55870851 -6028.75601079\n",
      " -4538.21664393            nan            nan            nan\n",
      " -3023.08870851 -6398.94114057            nan            nan\n",
      "            nan -3039.08870851 -3016.08870851 -6153.94114057\n",
      " -4538.21664393            nan            nan            nan\n",
      " -3023.08870851 -6398.94114057            nan            nan\n",
      "            nan -3053.08870851 -3033.08870851 -6250.94114057\n",
      " -4538.21664393            nan            nan            nan], using {'logisticregression__C': 1e-05, 'logisticregression__penalty': 'l2', 'logisticregression__solver': 'newton-cg'}\n"
     ]
    },
    {
     "data": {
      "text/html": [
       "<div>\n",
       "<style scoped>\n",
       "    .dataframe tbody tr th:only-of-type {\n",
       "        vertical-align: middle;\n",
       "    }\n",
       "\n",
       "    .dataframe tbody tr th {\n",
       "        vertical-align: top;\n",
       "    }\n",
       "\n",
       "    .dataframe thead th {\n",
       "        text-align: right;\n",
       "    }\n",
       "</style>\n",
       "<table border=\"1\" class=\"dataframe\">\n",
       "  <thead>\n",
       "    <tr style=\"text-align: right;\">\n",
       "      <th></th>\n",
       "      <th>mean_fit_time</th>\n",
       "      <th>std_fit_time</th>\n",
       "      <th>mean_score_time</th>\n",
       "      <th>std_score_time</th>\n",
       "      <th>param_logisticregression__C</th>\n",
       "      <th>param_logisticregression__penalty</th>\n",
       "      <th>param_logisticregression__solver</th>\n",
       "      <th>params</th>\n",
       "      <th>split0_test_score</th>\n",
       "      <th>split1_test_score</th>\n",
       "      <th>split2_test_score</th>\n",
       "      <th>split3_test_score</th>\n",
       "      <th>split4_test_score</th>\n",
       "      <th>mean_test_score</th>\n",
       "      <th>std_test_score</th>\n",
       "      <th>rank_test_score</th>\n",
       "    </tr>\n",
       "  </thead>\n",
       "  <tbody>\n",
       "    <tr>\n",
       "      <th>0</th>\n",
       "      <td>24.236193</td>\n",
       "      <td>0.828255</td>\n",
       "      <td>0.025000</td>\n",
       "      <td>0.002191</td>\n",
       "      <td>0.00001</td>\n",
       "      <td>none</td>\n",
       "      <td>newton-cg</td>\n",
       "      <td>{'logisticregression__C': 1e-05, 'logisticregr...</td>\n",
       "      <td>-2908.700820</td>\n",
       "      <td>-3047.942993</td>\n",
       "      <td>-3578.237664</td>\n",
       "      <td>-2751.122065</td>\n",
       "      <td>-2829.440000</td>\n",
       "      <td>-3023.088709</td>\n",
       "      <td>294.400531</td>\n",
       "      <td>3</td>\n",
       "    </tr>\n",
       "    <tr>\n",
       "      <th>1</th>\n",
       "      <td>2.206000</td>\n",
       "      <td>0.431422</td>\n",
       "      <td>0.022001</td>\n",
       "      <td>0.000632</td>\n",
       "      <td>0.00001</td>\n",
       "      <td>none</td>\n",
       "      <td>lbfgs</td>\n",
       "      <td>{'logisticregression__C': 1e-05, 'logisticregr...</td>\n",
       "      <td>-6081.692867</td>\n",
       "      <td>-5512.942993</td>\n",
       "      <td>-9145.887777</td>\n",
       "      <td>-5308.342065</td>\n",
       "      <td>-5945.840000</td>\n",
       "      <td>-6398.941141</td>\n",
       "      <td>1401.860335</td>\n",
       "      <td>41</td>\n",
       "    </tr>\n",
       "    <tr>\n",
       "      <th>2</th>\n",
       "      <td>0.325007</td>\n",
       "      <td>0.029175</td>\n",
       "      <td>0.000000</td>\n",
       "      <td>0.000000</td>\n",
       "      <td>0.00001</td>\n",
       "      <td>none</td>\n",
       "      <td>liblinear</td>\n",
       "      <td>{'logisticregression__C': 1e-05, 'logisticregr...</td>\n",
       "      <td>NaN</td>\n",
       "      <td>NaN</td>\n",
       "      <td>NaN</td>\n",
       "      <td>NaN</td>\n",
       "      <td>NaN</td>\n",
       "      <td>NaN</td>\n",
       "      <td>NaN</td>\n",
       "      <td>66</td>\n",
       "    </tr>\n",
       "    <tr>\n",
       "      <th>3</th>\n",
       "      <td>0.342604</td>\n",
       "      <td>0.039450</td>\n",
       "      <td>0.000000</td>\n",
       "      <td>0.000000</td>\n",
       "      <td>0.00001</td>\n",
       "      <td>l1</td>\n",
       "      <td>newton-cg</td>\n",
       "      <td>{'logisticregression__C': 1e-05, 'logisticregr...</td>\n",
       "      <td>NaN</td>\n",
       "      <td>NaN</td>\n",
       "      <td>NaN</td>\n",
       "      <td>NaN</td>\n",
       "      <td>NaN</td>\n",
       "      <td>NaN</td>\n",
       "      <td>NaN</td>\n",
       "      <td>67</td>\n",
       "    </tr>\n",
       "    <tr>\n",
       "      <th>4</th>\n",
       "      <td>0.322399</td>\n",
       "      <td>0.021422</td>\n",
       "      <td>0.000000</td>\n",
       "      <td>0.000000</td>\n",
       "      <td>0.00001</td>\n",
       "      <td>l1</td>\n",
       "      <td>lbfgs</td>\n",
       "      <td>{'logisticregression__C': 1e-05, 'logisticregr...</td>\n",
       "      <td>NaN</td>\n",
       "      <td>NaN</td>\n",
       "      <td>NaN</td>\n",
       "      <td>NaN</td>\n",
       "      <td>NaN</td>\n",
       "      <td>NaN</td>\n",
       "      <td>NaN</td>\n",
       "      <td>68</td>\n",
       "    </tr>\n",
       "    <tr>\n",
       "      <th>...</th>\n",
       "      <td>...</td>\n",
       "      <td>...</td>\n",
       "      <td>...</td>\n",
       "      <td>...</td>\n",
       "      <td>...</td>\n",
       "      <td>...</td>\n",
       "      <td>...</td>\n",
       "      <td>...</td>\n",
       "      <td>...</td>\n",
       "      <td>...</td>\n",
       "      <td>...</td>\n",
       "      <td>...</td>\n",
       "      <td>...</td>\n",
       "      <td>...</td>\n",
       "      <td>...</td>\n",
       "      <td>...</td>\n",
       "    </tr>\n",
       "    <tr>\n",
       "      <th>91</th>\n",
       "      <td>2.116007</td>\n",
       "      <td>0.464997</td>\n",
       "      <td>0.021199</td>\n",
       "      <td>0.000398</td>\n",
       "      <td>100</td>\n",
       "      <td>l2</td>\n",
       "      <td>lbfgs</td>\n",
       "      <td>{'logisticregression__C': 100, 'logisticregres...</td>\n",
       "      <td>-6081.692867</td>\n",
       "      <td>-4772.942993</td>\n",
       "      <td>-9145.887777</td>\n",
       "      <td>-5308.342065</td>\n",
       "      <td>-5945.840000</td>\n",
       "      <td>-6250.941141</td>\n",
       "      <td>1521.539960</td>\n",
       "      <td>40</td>\n",
       "    </tr>\n",
       "    <tr>\n",
       "      <th>92</th>\n",
       "      <td>2.837188</td>\n",
       "      <td>0.243794</td>\n",
       "      <td>0.021206</td>\n",
       "      <td>0.000740</td>\n",
       "      <td>100</td>\n",
       "      <td>l2</td>\n",
       "      <td>liblinear</td>\n",
       "      <td>{'logisticregression__C': 100, 'logisticregres...</td>\n",
       "      <td>-4664.262533</td>\n",
       "      <td>-4452.942993</td>\n",
       "      <td>-5299.237664</td>\n",
       "      <td>-4666.172065</td>\n",
       "      <td>-3608.467965</td>\n",
       "      <td>-4538.216644</td>\n",
       "      <td>544.631499</td>\n",
       "      <td>29</td>\n",
       "    </tr>\n",
       "    <tr>\n",
       "      <th>93</th>\n",
       "      <td>0.284205</td>\n",
       "      <td>0.016276</td>\n",
       "      <td>0.000000</td>\n",
       "      <td>0.000000</td>\n",
       "      <td>100</td>\n",
       "      <td>elasticnet</td>\n",
       "      <td>newton-cg</td>\n",
       "      <td>{'logisticregression__C': 100, 'logisticregres...</td>\n",
       "      <td>NaN</td>\n",
       "      <td>NaN</td>\n",
       "      <td>NaN</td>\n",
       "      <td>NaN</td>\n",
       "      <td>NaN</td>\n",
       "      <td>NaN</td>\n",
       "      <td>NaN</td>\n",
       "      <td>51</td>\n",
       "    </tr>\n",
       "    <tr>\n",
       "      <th>94</th>\n",
       "      <td>0.272799</td>\n",
       "      <td>0.016971</td>\n",
       "      <td>0.000000</td>\n",
       "      <td>0.000000</td>\n",
       "      <td>100</td>\n",
       "      <td>elasticnet</td>\n",
       "      <td>lbfgs</td>\n",
       "      <td>{'logisticregression__C': 100, 'logisticregres...</td>\n",
       "      <td>NaN</td>\n",
       "      <td>NaN</td>\n",
       "      <td>NaN</td>\n",
       "      <td>NaN</td>\n",
       "      <td>NaN</td>\n",
       "      <td>NaN</td>\n",
       "      <td>NaN</td>\n",
       "      <td>89</td>\n",
       "    </tr>\n",
       "    <tr>\n",
       "      <th>95</th>\n",
       "      <td>0.293603</td>\n",
       "      <td>0.024384</td>\n",
       "      <td>0.000000</td>\n",
       "      <td>0.000000</td>\n",
       "      <td>100</td>\n",
       "      <td>elasticnet</td>\n",
       "      <td>liblinear</td>\n",
       "      <td>{'logisticregression__C': 100, 'logisticregres...</td>\n",
       "      <td>NaN</td>\n",
       "      <td>NaN</td>\n",
       "      <td>NaN</td>\n",
       "      <td>NaN</td>\n",
       "      <td>NaN</td>\n",
       "      <td>NaN</td>\n",
       "      <td>NaN</td>\n",
       "      <td>96</td>\n",
       "    </tr>\n",
       "  </tbody>\n",
       "</table>\n",
       "<p>96 rows × 16 columns</p>\n",
       "</div>"
      ],
      "text/plain": [
       "    mean_fit_time  std_fit_time  mean_score_time  std_score_time  \\\n",
       "0       24.236193      0.828255         0.025000        0.002191   \n",
       "1        2.206000      0.431422         0.022001        0.000632   \n",
       "2        0.325007      0.029175         0.000000        0.000000   \n",
       "3        0.342604      0.039450         0.000000        0.000000   \n",
       "4        0.322399      0.021422         0.000000        0.000000   \n",
       "..            ...           ...              ...             ...   \n",
       "91       2.116007      0.464997         0.021199        0.000398   \n",
       "92       2.837188      0.243794         0.021206        0.000740   \n",
       "93       0.284205      0.016276         0.000000        0.000000   \n",
       "94       0.272799      0.016971         0.000000        0.000000   \n",
       "95       0.293603      0.024384         0.000000        0.000000   \n",
       "\n",
       "   param_logisticregression__C param_logisticregression__penalty  \\\n",
       "0                      0.00001                              none   \n",
       "1                      0.00001                              none   \n",
       "2                      0.00001                              none   \n",
       "3                      0.00001                                l1   \n",
       "4                      0.00001                                l1   \n",
       "..                         ...                               ...   \n",
       "91                         100                                l2   \n",
       "92                         100                                l2   \n",
       "93                         100                        elasticnet   \n",
       "94                         100                        elasticnet   \n",
       "95                         100                        elasticnet   \n",
       "\n",
       "   param_logisticregression__solver  \\\n",
       "0                         newton-cg   \n",
       "1                             lbfgs   \n",
       "2                         liblinear   \n",
       "3                         newton-cg   \n",
       "4                             lbfgs   \n",
       "..                              ...   \n",
       "91                            lbfgs   \n",
       "92                        liblinear   \n",
       "93                        newton-cg   \n",
       "94                            lbfgs   \n",
       "95                        liblinear   \n",
       "\n",
       "                                               params  split0_test_score  \\\n",
       "0   {'logisticregression__C': 1e-05, 'logisticregr...       -2908.700820   \n",
       "1   {'logisticregression__C': 1e-05, 'logisticregr...       -6081.692867   \n",
       "2   {'logisticregression__C': 1e-05, 'logisticregr...                NaN   \n",
       "3   {'logisticregression__C': 1e-05, 'logisticregr...                NaN   \n",
       "4   {'logisticregression__C': 1e-05, 'logisticregr...                NaN   \n",
       "..                                                ...                ...   \n",
       "91  {'logisticregression__C': 100, 'logisticregres...       -6081.692867   \n",
       "92  {'logisticregression__C': 100, 'logisticregres...       -4664.262533   \n",
       "93  {'logisticregression__C': 100, 'logisticregres...                NaN   \n",
       "94  {'logisticregression__C': 100, 'logisticregres...                NaN   \n",
       "95  {'logisticregression__C': 100, 'logisticregres...                NaN   \n",
       "\n",
       "    split1_test_score  split2_test_score  split3_test_score  \\\n",
       "0        -3047.942993       -3578.237664       -2751.122065   \n",
       "1        -5512.942993       -9145.887777       -5308.342065   \n",
       "2                 NaN                NaN                NaN   \n",
       "3                 NaN                NaN                NaN   \n",
       "4                 NaN                NaN                NaN   \n",
       "..                ...                ...                ...   \n",
       "91       -4772.942993       -9145.887777       -5308.342065   \n",
       "92       -4452.942993       -5299.237664       -4666.172065   \n",
       "93                NaN                NaN                NaN   \n",
       "94                NaN                NaN                NaN   \n",
       "95                NaN                NaN                NaN   \n",
       "\n",
       "    split4_test_score  mean_test_score  std_test_score  rank_test_score  \n",
       "0        -2829.440000     -3023.088709      294.400531                3  \n",
       "1        -5945.840000     -6398.941141     1401.860335               41  \n",
       "2                 NaN              NaN             NaN               66  \n",
       "3                 NaN              NaN             NaN               67  \n",
       "4                 NaN              NaN             NaN               68  \n",
       "..                ...              ...             ...              ...  \n",
       "91       -5945.840000     -6250.941141     1521.539960               40  \n",
       "92       -3608.467965     -4538.216644      544.631499               29  \n",
       "93                NaN              NaN             NaN               51  \n",
       "94                NaN              NaN             NaN               89  \n",
       "95                NaN              NaN             NaN               96  \n",
       "\n",
       "[96 rows x 16 columns]"
      ]
     },
     "execution_count": 45,
     "metadata": {},
     "output_type": "execute_result"
    }
   ],
   "source": [
    "# Summarize the results in a readable format\n",
    "print(\"Best: {0}, using {1}\".format(grid_search_imba_wo_outliers.cv_results_['mean_test_score'], grid_search_imba_wo_outliers.best_params_))\n",
    "results_df_imba_wo_outliers = pd.DataFrame(grid_search_imba_wo_outliers.cv_results_)\n",
    "results_df_imba_wo_outliers"
   ]
  },
  {
   "cell_type": "code",
   "execution_count": null,
   "id": "6d119cca-d7fa-454e-a850-41583d22d618",
   "metadata": {},
   "outputs": [],
   "source": []
  }
 ],
 "metadata": {
  "kernelspec": {
   "display_name": "Python 3 (ipykernel)",
   "language": "python",
   "name": "python3"
  },
  "language_info": {
   "codemirror_mode": {
    "name": "ipython",
    "version": 3
   },
   "file_extension": ".py",
   "mimetype": "text/x-python",
   "name": "python",
   "nbconvert_exporter": "python",
   "pygments_lexer": "ipython3",
   "version": "3.10.1"
  }
 },
 "nbformat": 4,
 "nbformat_minor": 5
}
